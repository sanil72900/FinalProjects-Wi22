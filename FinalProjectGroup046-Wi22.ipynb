{
 "cells": [
  {
   "cell_type": "markdown",
   "metadata": {},
   "source": [
    "https://youtu.be/qd74331SlAE"
   ]
  },
  {
   "cell_type": "markdown",
   "metadata": {},
   "source": [
    "# COGS 108 - Final Project (Boomers and Fellow Kids)"
   ]
  },
  {
   "cell_type": "markdown",
   "metadata": {},
   "source": [
    "## Permissions\n",
    "\n",
    "Place an `X` in the appropriate bracket below to specify if you would like your group's project to be made available to the public. (Note that student names will be included (but PIDs will be scraped from any groups who include their PIDs).\n",
    "\n",
    "* [X] YES - make available\n",
    "* [  ] NO - keep private"
   ]
  },
  {
   "cell_type": "markdown",
   "metadata": {},
   "source": [
    "# Overview"
   ]
  },
  {
   "cell_type": "markdown",
   "metadata": {},
   "source": [
    "This project analyzes gathered information about anime genres and their popularity among different age generations. More specifically, we were interested in seeing if there exists a difference of trends within the Gen-Z viewer group and Millenial age group regarding the popularity of different anime genres. We utilized datasets obtaining attributes such as Anime titles, genres and user profiles to find out if being from a certain age group can predict what genre of anime one prefers."
   ]
  },
  {
   "cell_type": "markdown",
   "metadata": {},
   "source": [
    "# Names\n",
    "\n",
    "- Claire Wu\n",
    "- Felicity Villagomez\n",
    "- Duy Pham\n",
    "- Hy Huynh\n",
    "- Andrew Vo"
   ]
  },
  {
   "cell_type": "markdown",
   "metadata": {},
   "source": [
    "<a id='research_question'></a>\n",
    "# Research Question"
   ]
  },
  {
   "cell_type": "markdown",
   "metadata": {},
   "source": [
    "Do certain anime genres get different ratings from different age groups? Do Millennials prefer some genres over Gen Z-ers, and vice versa?"
   ]
  },
  {
   "cell_type": "markdown",
   "metadata": {},
   "source": [
    "<a id='background'></a>\n",
    "\n",
    "## Background & Prior Work"
   ]
  },
  {
   "cell_type": "markdown",
   "metadata": {},
   "source": [
    "### Background information\n",
    "\n",
    "When it comes to shows throughout the past years, the popularity of anime (Japanese animated cartoons) cannot be forgotten.  Combining not only art, but also cinematography and characterization, and other techniques, has led to anime’s increasing popularity, not just in the domestic market. It has been getting popular internationally, especially in Western audiences. In our study, we are seeing if age groups prefer a certain genre of anime.\n",
    "\n",
    "### Previous research and data\n",
    "\n",
    "Similar studies have been done before, as seen with these two links below. The first link includes data that a Japanese streaming site collected. Out of over fifty thousand votes, it listed the popular shows within the specific age groups as well as the number of votes it got. The votes are also collected with no age group filter. The second link shows more age groups and each one’s top five anime taken from the entertainment website anitrendz.net. The second one’s age groups are more tight than the first link’s age groups (3-4 years versus 10). While these two provided a lot of helpful information, their age group varied too much: we only wanted to look at two bigger age groups (namely Millennials vs Gen Z-ers), so they did not directly answer our research question.\n",
    "\n",
    "### Importance - why is this interesting to us?\n",
    "\n",
    "Anime's popularity over the last several years has been growing exponentially, and it doesn't look like it's stopping anytime soon. On the flip side, getting into anime can be a little intimidating - there are many shows and genres of all lengths and age groups. New and old anime watchers turn to websites to look for recommendations, which is where sites like MyAnimeList (and our data analysis) proves useful. These reviews (and other people's inputs in general) have a lot of power over those debating whether or not to watch an anime, even if we aren't aware of it. Sharing opinions with people is one of the ways popularity can grow and spread as well.\n",
    "Understanding the relationship between age groups and liking a certain genre can help us explain why more shows are preferred over others.\n",
    "\n",
    "References (include links):\n",
    "- 1) https://www.reddit.com/r/anime/comments/7vwlus/the_most_popular_anime_among_different_age_group/ \n",
    "- 2) https://www.facebook.com/Anitrendz/posts/3023104781260355 "
   ]
  },
  {
   "cell_type": "markdown",
   "metadata": {},
   "source": [
    "# Hypothesis\n"
   ]
  },
  {
   "cell_type": "markdown",
   "metadata": {},
   "source": [
    "In our study, we hypothesize that there is a relationship between the genre of anime and whether or not it is more favored by millennials or Gen Z. We'll be looking at the various genres normally found on common animes. We predict that there will be a substantial difference and a clear distinction between the ratings for each genres according to the two age groups observed. We also predict that there will a strong preference toward certain genres for each age group and believe this is the case because data shows that older age groups prefer tamer and more realistic shows while younger age groups prefer dynamic and action-packed shows."
   ]
  },
  {
   "cell_type": "markdown",
   "metadata": {},
   "source": [
    "# Dataset(s)"
   ]
  },
  {
   "cell_type": "markdown",
   "metadata": {},
   "source": [
    "- Dataset Name: Anime Dataset with Reviews - MyAnimeList\n",
    "- Link to the dataset: https://www.kaggle.com/marlesson/myanimelist-dataset-animes-profiles-reviews\n",
    "- Number of observations: \n",
    "  - 16214 unique anime titles where each anime title has its own unique uid corresponding to it. Each anime title also has \n",
    "    various genres which it belongs to which we will also be looking at.\n",
    "  - 47885 user profiles, where each profile contains the user's information such as their username, gender, and year of birth       which we \n",
    "    need in order to observe and compare different age groups.\n",
    "  - 130000 anime reviews by the various users, where each review contains the username of the user which did the review, as         well as the score that they gave that anime.\n",
    "\n",
    "This dataset contained information that was crawled from https://myanimelist.net/ on 05/01/20. Within this dataset, there are 3 separate csv files:\n",
    "\n",
    "- animes.csv contains list of anime, with title, title synonyms, genre, duration, rank, populatiry, score, airing date,\n",
    "  episodes and many other important data about individual anime providing sufficient information about trends in time about\n",
    "  important aspects of anime. Rank is in float format in csv, but it contains only integer value. This is due to NaN values and\n",
    "  their representation in pandas.\n",
    "\n",
    "- profiles.csv contains information about users who watch anime, namely username, birth date, gender, and favorite animes list.\n",
    "\n",
    "- reviews.csv contains information about reviews users x animes, with text review and scores.\n",
    "\n"
   ]
  },
  {
   "cell_type": "markdown",
   "metadata": {},
   "source": [
    "# Setup"
   ]
  },
  {
   "cell_type": "code",
   "execution_count": 1,
   "metadata": {},
   "outputs": [],
   "source": [
    "import pandas as pd \n",
    "import numpy as np\n",
    "import matplotlib as mpl\n",
    "import matplotlib.pyplot as plt\n",
    "import seaborn as sns\n",
    "import patsy\n",
    "import statsmodels.api as sm\n",
    "import scipy.stats as stats\n",
    "from scipy.stats import ttest_ind, chisquare, normaltest"
   ]
  },
  {
   "cell_type": "markdown",
   "metadata": {},
   "source": [
    "#### Reading in the different datas from our datasets"
   ]
  },
  {
   "cell_type": "code",
   "execution_count": 2,
   "metadata": {},
   "outputs": [],
   "source": [
    "df_anime_names= pd.read_csv('animes.csv')\n",
    "df_profiles = pd.read_csv('profiles.csv')\n",
    "df_reviews = pd.read_csv('reviews.csv')"
   ]
  },
  {
   "cell_type": "markdown",
   "metadata": {},
   "source": [
    "# Data Cleaning"
   ]
  },
  {
   "cell_type": "markdown",
   "metadata": {},
   "source": [
    "For the purpose of our analysis, we only want to focus on the data that can help answer our research question on wether or not there exists a relationship between age groups, specifially Gen-Z and millenials, and popularity of anime genres. Lets start by creating `df_anime_names` that includes information about the `title`, `genre`, and unique identifiers `uid` of different animes."
   ]
  },
  {
   "cell_type": "code",
   "execution_count": 3,
   "metadata": {},
   "outputs": [
    {
     "data": {
      "text/html": [
       "<div>\n",
       "<style scoped>\n",
       "    .dataframe tbody tr th:only-of-type {\n",
       "        vertical-align: middle;\n",
       "    }\n",
       "\n",
       "    .dataframe tbody tr th {\n",
       "        vertical-align: top;\n",
       "    }\n",
       "\n",
       "    .dataframe thead th {\n",
       "        text-align: right;\n",
       "    }\n",
       "</style>\n",
       "<table border=\"1\" class=\"dataframe\">\n",
       "  <thead>\n",
       "    <tr style=\"text-align: right;\">\n",
       "      <th></th>\n",
       "      <th>title</th>\n",
       "      <th>uid</th>\n",
       "      <th>genre</th>\n",
       "    </tr>\n",
       "  </thead>\n",
       "  <tbody>\n",
       "    <tr>\n",
       "      <th>0</th>\n",
       "      <td>Haikyuu!! Second Season</td>\n",
       "      <td>28891</td>\n",
       "      <td>['Comedy', 'Sports', 'Drama', 'School', 'Shoun...</td>\n",
       "    </tr>\n",
       "    <tr>\n",
       "      <th>1</th>\n",
       "      <td>Shigatsu wa Kimi no Uso</td>\n",
       "      <td>23273</td>\n",
       "      <td>['Drama', 'Music', 'Romance', 'School', 'Shoun...</td>\n",
       "    </tr>\n",
       "    <tr>\n",
       "      <th>2</th>\n",
       "      <td>Made in Abyss</td>\n",
       "      <td>34599</td>\n",
       "      <td>['Sci-Fi', 'Adventure', 'Mystery', 'Drama', 'F...</td>\n",
       "    </tr>\n",
       "    <tr>\n",
       "      <th>3</th>\n",
       "      <td>Fullmetal Alchemist: Brotherhood</td>\n",
       "      <td>5114</td>\n",
       "      <td>['Action', 'Military', 'Adventure', 'Comedy', ...</td>\n",
       "    </tr>\n",
       "    <tr>\n",
       "      <th>4</th>\n",
       "      <td>Kizumonogatari III: Reiketsu-hen</td>\n",
       "      <td>31758</td>\n",
       "      <td>['Action', 'Mystery', 'Supernatural', 'Vampire']</td>\n",
       "    </tr>\n",
       "    <tr>\n",
       "      <th>...</th>\n",
       "      <td>...</td>\n",
       "      <td>...</td>\n",
       "      <td>...</td>\n",
       "    </tr>\n",
       "    <tr>\n",
       "      <th>19306</th>\n",
       "      <td>Flip Flappers</td>\n",
       "      <td>32979</td>\n",
       "      <td>['Sci-Fi', 'Adventure', 'Comedy', 'Magic']</td>\n",
       "    </tr>\n",
       "    <tr>\n",
       "      <th>19307</th>\n",
       "      <td>Fushigi Yuugi</td>\n",
       "      <td>123</td>\n",
       "      <td>['Adventure', 'Fantasy', 'Magic', 'Martial Art...</td>\n",
       "    </tr>\n",
       "    <tr>\n",
       "      <th>19308</th>\n",
       "      <td>Gakkou no Kaidan</td>\n",
       "      <td>1281</td>\n",
       "      <td>['Mystery', 'Horror', 'Supernatural']</td>\n",
       "    </tr>\n",
       "    <tr>\n",
       "      <th>19309</th>\n",
       "      <td>InuYasha Movie 2: Kagami no Naka no Mugenjo</td>\n",
       "      <td>450</td>\n",
       "      <td>['Action', 'Adventure', 'Comedy', 'Historical'...</td>\n",
       "    </tr>\n",
       "    <tr>\n",
       "      <th>19310</th>\n",
       "      <td>Mobile Suit Gundam: Char's Counterattack</td>\n",
       "      <td>87</td>\n",
       "      <td>['Military', 'Sci-Fi', 'Space', 'Drama', 'Mecha']</td>\n",
       "    </tr>\n",
       "  </tbody>\n",
       "</table>\n",
       "<p>19311 rows × 3 columns</p>\n",
       "</div>"
      ],
      "text/plain": [
       "                                             title    uid  \\\n",
       "0                          Haikyuu!! Second Season  28891   \n",
       "1                          Shigatsu wa Kimi no Uso  23273   \n",
       "2                                    Made in Abyss  34599   \n",
       "3                 Fullmetal Alchemist: Brotherhood   5114   \n",
       "4                 Kizumonogatari III: Reiketsu-hen  31758   \n",
       "...                                            ...    ...   \n",
       "19306                                Flip Flappers  32979   \n",
       "19307                                Fushigi Yuugi    123   \n",
       "19308                             Gakkou no Kaidan   1281   \n",
       "19309  InuYasha Movie 2: Kagami no Naka no Mugenjo    450   \n",
       "19310     Mobile Suit Gundam: Char's Counterattack     87   \n",
       "\n",
       "                                                   genre  \n",
       "0      ['Comedy', 'Sports', 'Drama', 'School', 'Shoun...  \n",
       "1      ['Drama', 'Music', 'Romance', 'School', 'Shoun...  \n",
       "2      ['Sci-Fi', 'Adventure', 'Mystery', 'Drama', 'F...  \n",
       "3      ['Action', 'Military', 'Adventure', 'Comedy', ...  \n",
       "4       ['Action', 'Mystery', 'Supernatural', 'Vampire']  \n",
       "...                                                  ...  \n",
       "19306         ['Sci-Fi', 'Adventure', 'Comedy', 'Magic']  \n",
       "19307  ['Adventure', 'Fantasy', 'Magic', 'Martial Art...  \n",
       "19308              ['Mystery', 'Horror', 'Supernatural']  \n",
       "19309  ['Action', 'Adventure', 'Comedy', 'Historical'...  \n",
       "19310  ['Military', 'Sci-Fi', 'Space', 'Drama', 'Mecha']  \n",
       "\n",
       "[19311 rows x 3 columns]"
      ]
     },
     "execution_count": 3,
     "metadata": {},
     "output_type": "execute_result"
    }
   ],
   "source": [
    "df_anime_names = df_anime_names[['title','uid','genre']]\n",
    "df_anime_names"
   ]
  },
  {
   "cell_type": "markdown",
   "metadata": {},
   "source": [
    "Each anime came with a string of genres; for example: the anime \"Made in Abyss\" had the genre string ['Sci-Fi', 'Adventure', 'Mystery', etc]. We split up each part of the string and added that anime into its respective genres using true/false - if that anime contained that genre or not. That way, if the anime had multiple genres, it would count in all its genres.\n",
    "\n"
   ]
  },
  {
   "cell_type": "code",
   "execution_count": 4,
   "metadata": {},
   "outputs": [
    {
     "data": {
      "text/html": [
       "<div>\n",
       "<style scoped>\n",
       "    .dataframe tbody tr th:only-of-type {\n",
       "        vertical-align: middle;\n",
       "    }\n",
       "\n",
       "    .dataframe tbody tr th {\n",
       "        vertical-align: top;\n",
       "    }\n",
       "\n",
       "    .dataframe thead th {\n",
       "        text-align: right;\n",
       "    }\n",
       "</style>\n",
       "<table border=\"1\" class=\"dataframe\">\n",
       "  <thead>\n",
       "    <tr style=\"text-align: right;\">\n",
       "      <th></th>\n",
       "      <th>title</th>\n",
       "      <th>uid</th>\n",
       "      <th>comedy</th>\n",
       "      <th>action</th>\n",
       "      <th>sports</th>\n",
       "      <th>drama</th>\n",
       "      <th>military</th>\n",
       "      <th>music</th>\n",
       "      <th>school</th>\n",
       "      <th>shounen</th>\n",
       "      <th>...</th>\n",
       "      <th>mystery</th>\n",
       "      <th>supernatural</th>\n",
       "      <th>mecha</th>\n",
       "      <th>historical</th>\n",
       "      <th>super_power</th>\n",
       "      <th>fantasy</th>\n",
       "      <th>slice_of_life</th>\n",
       "      <th>shoujo</th>\n",
       "      <th>horror</th>\n",
       "      <th>harem</th>\n",
       "    </tr>\n",
       "  </thead>\n",
       "  <tbody>\n",
       "    <tr>\n",
       "      <th>0</th>\n",
       "      <td>Haikyuu!! Second Season</td>\n",
       "      <td>28891</td>\n",
       "      <td>True</td>\n",
       "      <td>False</td>\n",
       "      <td>True</td>\n",
       "      <td>True</td>\n",
       "      <td>False</td>\n",
       "      <td>False</td>\n",
       "      <td>True</td>\n",
       "      <td>True</td>\n",
       "      <td>...</td>\n",
       "      <td>False</td>\n",
       "      <td>False</td>\n",
       "      <td>False</td>\n",
       "      <td>False</td>\n",
       "      <td>False</td>\n",
       "      <td>False</td>\n",
       "      <td>False</td>\n",
       "      <td>False</td>\n",
       "      <td>False</td>\n",
       "      <td>False</td>\n",
       "    </tr>\n",
       "    <tr>\n",
       "      <th>1</th>\n",
       "      <td>Shigatsu wa Kimi no Uso</td>\n",
       "      <td>23273</td>\n",
       "      <td>False</td>\n",
       "      <td>False</td>\n",
       "      <td>False</td>\n",
       "      <td>True</td>\n",
       "      <td>False</td>\n",
       "      <td>True</td>\n",
       "      <td>True</td>\n",
       "      <td>True</td>\n",
       "      <td>...</td>\n",
       "      <td>False</td>\n",
       "      <td>False</td>\n",
       "      <td>False</td>\n",
       "      <td>False</td>\n",
       "      <td>False</td>\n",
       "      <td>False</td>\n",
       "      <td>False</td>\n",
       "      <td>False</td>\n",
       "      <td>False</td>\n",
       "      <td>False</td>\n",
       "    </tr>\n",
       "    <tr>\n",
       "      <th>2</th>\n",
       "      <td>Made in Abyss</td>\n",
       "      <td>34599</td>\n",
       "      <td>False</td>\n",
       "      <td>False</td>\n",
       "      <td>False</td>\n",
       "      <td>True</td>\n",
       "      <td>False</td>\n",
       "      <td>False</td>\n",
       "      <td>False</td>\n",
       "      <td>False</td>\n",
       "      <td>...</td>\n",
       "      <td>True</td>\n",
       "      <td>False</td>\n",
       "      <td>False</td>\n",
       "      <td>False</td>\n",
       "      <td>False</td>\n",
       "      <td>True</td>\n",
       "      <td>False</td>\n",
       "      <td>False</td>\n",
       "      <td>False</td>\n",
       "      <td>False</td>\n",
       "    </tr>\n",
       "    <tr>\n",
       "      <th>3</th>\n",
       "      <td>Fullmetal Alchemist: Brotherhood</td>\n",
       "      <td>5114</td>\n",
       "      <td>True</td>\n",
       "      <td>True</td>\n",
       "      <td>False</td>\n",
       "      <td>True</td>\n",
       "      <td>True</td>\n",
       "      <td>False</td>\n",
       "      <td>False</td>\n",
       "      <td>True</td>\n",
       "      <td>...</td>\n",
       "      <td>False</td>\n",
       "      <td>False</td>\n",
       "      <td>False</td>\n",
       "      <td>False</td>\n",
       "      <td>False</td>\n",
       "      <td>True</td>\n",
       "      <td>False</td>\n",
       "      <td>False</td>\n",
       "      <td>False</td>\n",
       "      <td>False</td>\n",
       "    </tr>\n",
       "    <tr>\n",
       "      <th>4</th>\n",
       "      <td>Kizumonogatari III: Reiketsu-hen</td>\n",
       "      <td>31758</td>\n",
       "      <td>False</td>\n",
       "      <td>True</td>\n",
       "      <td>False</td>\n",
       "      <td>False</td>\n",
       "      <td>False</td>\n",
       "      <td>False</td>\n",
       "      <td>False</td>\n",
       "      <td>False</td>\n",
       "      <td>...</td>\n",
       "      <td>True</td>\n",
       "      <td>True</td>\n",
       "      <td>False</td>\n",
       "      <td>False</td>\n",
       "      <td>False</td>\n",
       "      <td>False</td>\n",
       "      <td>False</td>\n",
       "      <td>False</td>\n",
       "      <td>False</td>\n",
       "      <td>False</td>\n",
       "    </tr>\n",
       "    <tr>\n",
       "      <th>...</th>\n",
       "      <td>...</td>\n",
       "      <td>...</td>\n",
       "      <td>...</td>\n",
       "      <td>...</td>\n",
       "      <td>...</td>\n",
       "      <td>...</td>\n",
       "      <td>...</td>\n",
       "      <td>...</td>\n",
       "      <td>...</td>\n",
       "      <td>...</td>\n",
       "      <td>...</td>\n",
       "      <td>...</td>\n",
       "      <td>...</td>\n",
       "      <td>...</td>\n",
       "      <td>...</td>\n",
       "      <td>...</td>\n",
       "      <td>...</td>\n",
       "      <td>...</td>\n",
       "      <td>...</td>\n",
       "      <td>...</td>\n",
       "      <td>...</td>\n",
       "    </tr>\n",
       "    <tr>\n",
       "      <th>19306</th>\n",
       "      <td>Flip Flappers</td>\n",
       "      <td>32979</td>\n",
       "      <td>True</td>\n",
       "      <td>False</td>\n",
       "      <td>False</td>\n",
       "      <td>False</td>\n",
       "      <td>False</td>\n",
       "      <td>False</td>\n",
       "      <td>False</td>\n",
       "      <td>False</td>\n",
       "      <td>...</td>\n",
       "      <td>False</td>\n",
       "      <td>False</td>\n",
       "      <td>False</td>\n",
       "      <td>False</td>\n",
       "      <td>False</td>\n",
       "      <td>False</td>\n",
       "      <td>False</td>\n",
       "      <td>False</td>\n",
       "      <td>False</td>\n",
       "      <td>False</td>\n",
       "    </tr>\n",
       "    <tr>\n",
       "      <th>19307</th>\n",
       "      <td>Fushigi Yuugi</td>\n",
       "      <td>123</td>\n",
       "      <td>True</td>\n",
       "      <td>False</td>\n",
       "      <td>False</td>\n",
       "      <td>True</td>\n",
       "      <td>False</td>\n",
       "      <td>False</td>\n",
       "      <td>False</td>\n",
       "      <td>False</td>\n",
       "      <td>...</td>\n",
       "      <td>False</td>\n",
       "      <td>False</td>\n",
       "      <td>False</td>\n",
       "      <td>True</td>\n",
       "      <td>False</td>\n",
       "      <td>True</td>\n",
       "      <td>False</td>\n",
       "      <td>True</td>\n",
       "      <td>False</td>\n",
       "      <td>False</td>\n",
       "    </tr>\n",
       "    <tr>\n",
       "      <th>19308</th>\n",
       "      <td>Gakkou no Kaidan</td>\n",
       "      <td>1281</td>\n",
       "      <td>False</td>\n",
       "      <td>False</td>\n",
       "      <td>False</td>\n",
       "      <td>False</td>\n",
       "      <td>False</td>\n",
       "      <td>False</td>\n",
       "      <td>False</td>\n",
       "      <td>False</td>\n",
       "      <td>...</td>\n",
       "      <td>True</td>\n",
       "      <td>True</td>\n",
       "      <td>False</td>\n",
       "      <td>False</td>\n",
       "      <td>False</td>\n",
       "      <td>False</td>\n",
       "      <td>False</td>\n",
       "      <td>False</td>\n",
       "      <td>True</td>\n",
       "      <td>False</td>\n",
       "    </tr>\n",
       "    <tr>\n",
       "      <th>19309</th>\n",
       "      <td>InuYasha Movie 2: Kagami no Naka no Mugenjo</td>\n",
       "      <td>450</td>\n",
       "      <td>True</td>\n",
       "      <td>True</td>\n",
       "      <td>False</td>\n",
       "      <td>True</td>\n",
       "      <td>False</td>\n",
       "      <td>False</td>\n",
       "      <td>False</td>\n",
       "      <td>True</td>\n",
       "      <td>...</td>\n",
       "      <td>False</td>\n",
       "      <td>True</td>\n",
       "      <td>False</td>\n",
       "      <td>True</td>\n",
       "      <td>False</td>\n",
       "      <td>True</td>\n",
       "      <td>False</td>\n",
       "      <td>False</td>\n",
       "      <td>False</td>\n",
       "      <td>False</td>\n",
       "    </tr>\n",
       "    <tr>\n",
       "      <th>19310</th>\n",
       "      <td>Mobile Suit Gundam: Char's Counterattack</td>\n",
       "      <td>87</td>\n",
       "      <td>False</td>\n",
       "      <td>False</td>\n",
       "      <td>False</td>\n",
       "      <td>True</td>\n",
       "      <td>True</td>\n",
       "      <td>False</td>\n",
       "      <td>False</td>\n",
       "      <td>False</td>\n",
       "      <td>...</td>\n",
       "      <td>False</td>\n",
       "      <td>False</td>\n",
       "      <td>True</td>\n",
       "      <td>False</td>\n",
       "      <td>False</td>\n",
       "      <td>False</td>\n",
       "      <td>False</td>\n",
       "      <td>False</td>\n",
       "      <td>False</td>\n",
       "      <td>False</td>\n",
       "    </tr>\n",
       "  </tbody>\n",
       "</table>\n",
       "<p>19311 rows × 23 columns</p>\n",
       "</div>"
      ],
      "text/plain": [
       "                                             title    uid  comedy  action  \\\n",
       "0                          Haikyuu!! Second Season  28891    True   False   \n",
       "1                          Shigatsu wa Kimi no Uso  23273   False   False   \n",
       "2                                    Made in Abyss  34599   False   False   \n",
       "3                 Fullmetal Alchemist: Brotherhood   5114    True    True   \n",
       "4                 Kizumonogatari III: Reiketsu-hen  31758   False    True   \n",
       "...                                            ...    ...     ...     ...   \n",
       "19306                                Flip Flappers  32979    True   False   \n",
       "19307                                Fushigi Yuugi    123    True   False   \n",
       "19308                             Gakkou no Kaidan   1281   False   False   \n",
       "19309  InuYasha Movie 2: Kagami no Naka no Mugenjo    450    True    True   \n",
       "19310     Mobile Suit Gundam: Char's Counterattack     87   False   False   \n",
       "\n",
       "       sports  drama  military  music  school  shounen  ...  mystery  \\\n",
       "0        True   True     False  False    True     True  ...    False   \n",
       "1       False   True     False   True    True     True  ...    False   \n",
       "2       False   True     False  False   False    False  ...     True   \n",
       "3       False   True      True  False   False     True  ...    False   \n",
       "4       False  False     False  False   False    False  ...     True   \n",
       "...       ...    ...       ...    ...     ...      ...  ...      ...   \n",
       "19306   False  False     False  False   False    False  ...    False   \n",
       "19307   False   True     False  False   False    False  ...    False   \n",
       "19308   False  False     False  False   False    False  ...     True   \n",
       "19309   False   True     False  False   False     True  ...    False   \n",
       "19310   False   True      True  False   False    False  ...    False   \n",
       "\n",
       "       supernatural  mecha  historical  super_power  fantasy  slice_of_life  \\\n",
       "0             False  False       False        False    False          False   \n",
       "1             False  False       False        False    False          False   \n",
       "2             False  False       False        False     True          False   \n",
       "3             False  False       False        False     True          False   \n",
       "4              True  False       False        False    False          False   \n",
       "...             ...    ...         ...          ...      ...            ...   \n",
       "19306         False  False       False        False    False          False   \n",
       "19307         False  False        True        False     True          False   \n",
       "19308          True  False       False        False    False          False   \n",
       "19309          True  False        True        False     True          False   \n",
       "19310         False   True       False        False    False          False   \n",
       "\n",
       "       shoujo  horror  harem  \n",
       "0       False   False  False  \n",
       "1       False   False  False  \n",
       "2       False   False  False  \n",
       "3       False   False  False  \n",
       "4       False   False  False  \n",
       "...       ...     ...    ...  \n",
       "19306   False   False  False  \n",
       "19307    True   False  False  \n",
       "19308   False    True  False  \n",
       "19309   False   False  False  \n",
       "19310   False   False  False  \n",
       "\n",
       "[19311 rows x 23 columns]"
      ]
     },
     "execution_count": 4,
     "metadata": {},
     "output_type": "execute_result"
    }
   ],
   "source": [
    "df_anime_names = df_anime_names[['title','uid','genre']]\n",
    "df_anime_names['comedy'] = np.where(df_anime_names['genre'].str.find('Comedy') == -1, False, True)\n",
    "df_anime_names['action'] = np.where(df_anime_names['genre'].str.find('Action') == -1, False, True)\n",
    "df_anime_names['sports'] = np.where(df_anime_names['genre'].str.find('Sports') == -1, False, True)\n",
    "df_anime_names['drama'] = np.where(df_anime_names['genre'].str.find('Drama') == -1, False, True)\n",
    "df_anime_names['military'] = np.where(df_anime_names['genre'].str.find('Military') == -1, False, True)\n",
    "df_anime_names['music'] = np.where(df_anime_names['genre'].str.find('Music') == -1, False, True)\n",
    "df_anime_names['school'] = np.where(df_anime_names['genre'].str.find('School') == -1, False, True)\n",
    "df_anime_names['shounen'] = np.where(df_anime_names['genre'].str.find('Shounen') == -1, False, True)\n",
    "df_anime_names['romance'] = np.where(df_anime_names['genre'].str.find('Romance') == -1, False, True)\n",
    "df_anime_names['sci_fi'] = np.where(df_anime_names['genre'].str.find('Sci-Fi') == -1, False, True)\n",
    "df_anime_names['adventure'] = np.where(df_anime_names['genre'].str.find('Adventure') == -1, False, True)\n",
    "df_anime_names['mystery'] = np.where(df_anime_names['genre'].str.find('Mystery') == -1, False, True)\n",
    "df_anime_names['supernatural'] = np.where(df_anime_names['genre'].str.find('Supernatural') == -1, False, True)\n",
    "df_anime_names['mecha'] = np.where(df_anime_names['genre'].str.find('Mecha') == -1, False, True)\n",
    "df_anime_names['historical'] = np.where(df_anime_names['genre'].str.find('Historical') == -1, False, True)\n",
    "df_anime_names['super_power'] = np.where(df_anime_names['genre'].str.find('Super Power') == -1, False, True)\n",
    "df_anime_names['fantasy'] = np.where(df_anime_names['genre'].str.find('Fantasy') == -1, False, True)\n",
    "df_anime_names['slice_of_life'] = np.where(df_anime_names['genre'].str.find('Slice of Life') == -1, False, True)\n",
    "df_anime_names['shoujo'] = np.where(df_anime_names['genre'].str.find('Shoujo') == -1, False, True)\n",
    "df_anime_names['horror'] = np.where(df_anime_names['genre'].str.find('Horror') == -1, False, True)\n",
    "df_anime_names['harem'] = np.where(df_anime_names['genre'].str.find('Harem') == -1, False, True)\n",
    "\n",
    "df_anime_names = df_anime_names.drop(columns = 'genre')\n",
    "df_anime_names"
   ]
  },
  {
   "cell_type": "markdown",
   "metadata": {},
   "source": [
    "In order for us to know which group our data are from, we first went through the profile csv and found their birthday year in order to separate them into two categories: Millenial (1981-1996) and Gen-Z (1997-2012). Each profiles will be either a Millennials or Gen Z depend on their respective year of birth."
   ]
  },
  {
   "cell_type": "code",
   "execution_count": 5,
   "metadata": {},
   "outputs": [],
   "source": [
    "df_profiles = df_profiles[['profile','gender','birthday']]\n",
    "df_profiles = df_profiles.dropna(how = 'any')\n",
    "pd.set_option('mode.chained_assignment', None)\n",
    "df_profiles['birthday'] = pd.to_datetime(df_profiles['birthday'], errors = 'coerce')\n",
    "df_profiles['birthday'] = pd.DatetimeIndex(pd.to_datetime(df_profiles['birthday'])).year"
   ]
  },
  {
   "cell_type": "code",
   "execution_count": 6,
   "metadata": {},
   "outputs": [
    {
     "data": {
      "text/html": [
       "<div>\n",
       "<style scoped>\n",
       "    .dataframe tbody tr th:only-of-type {\n",
       "        vertical-align: middle;\n",
       "    }\n",
       "\n",
       "    .dataframe tbody tr th {\n",
       "        vertical-align: top;\n",
       "    }\n",
       "\n",
       "    .dataframe thead th {\n",
       "        text-align: right;\n",
       "    }\n",
       "</style>\n",
       "<table border=\"1\" class=\"dataframe\">\n",
       "  <thead>\n",
       "    <tr style=\"text-align: right;\">\n",
       "      <th></th>\n",
       "      <th>profile</th>\n",
       "      <th>gender</th>\n",
       "      <th>birthday</th>\n",
       "      <th>Age</th>\n",
       "    </tr>\n",
       "  </thead>\n",
       "  <tbody>\n",
       "    <tr>\n",
       "      <th>0</th>\n",
       "      <td>DesolatePsyche</td>\n",
       "      <td>Male</td>\n",
       "      <td>1994</td>\n",
       "      <td>Millenials</td>\n",
       "    </tr>\n",
       "    <tr>\n",
       "      <th>1</th>\n",
       "      <td>baekbeans</td>\n",
       "      <td>Female</td>\n",
       "      <td>2000</td>\n",
       "      <td>Gen_Z</td>\n",
       "    </tr>\n",
       "    <tr>\n",
       "      <th>2</th>\n",
       "      <td>aManOfCulture99</td>\n",
       "      <td>Male</td>\n",
       "      <td>1999</td>\n",
       "      <td>Gen_Z</td>\n",
       "    </tr>\n",
       "    <tr>\n",
       "      <th>3</th>\n",
       "      <td>jchang</td>\n",
       "      <td>Male</td>\n",
       "      <td>1992</td>\n",
       "      <td>Millenials</td>\n",
       "    </tr>\n",
       "    <tr>\n",
       "      <th>4</th>\n",
       "      <td>angelsreview</td>\n",
       "      <td>Female</td>\n",
       "      <td>1989</td>\n",
       "      <td>Millenials</td>\n",
       "    </tr>\n",
       "    <tr>\n",
       "      <th>...</th>\n",
       "      <td>...</td>\n",
       "      <td>...</td>\n",
       "      <td>...</td>\n",
       "      <td>...</td>\n",
       "    </tr>\n",
       "    <tr>\n",
       "      <th>37102</th>\n",
       "      <td>HajisSoul</td>\n",
       "      <td>Male</td>\n",
       "      <td>1992</td>\n",
       "      <td>Millenials</td>\n",
       "    </tr>\n",
       "    <tr>\n",
       "      <th>37103</th>\n",
       "      <td>samdineen20</td>\n",
       "      <td>Female</td>\n",
       "      <td>1992</td>\n",
       "      <td>Millenials</td>\n",
       "    </tr>\n",
       "    <tr>\n",
       "      <th>37104</th>\n",
       "      <td>anjel</td>\n",
       "      <td>Female</td>\n",
       "      <td>1988</td>\n",
       "      <td>Millenials</td>\n",
       "    </tr>\n",
       "    <tr>\n",
       "      <th>37105</th>\n",
       "      <td>lovelessxd</td>\n",
       "      <td>Female</td>\n",
       "      <td>1992</td>\n",
       "      <td>Millenials</td>\n",
       "    </tr>\n",
       "    <tr>\n",
       "      <th>37106</th>\n",
       "      <td>Shattered_Angel</td>\n",
       "      <td>Female</td>\n",
       "      <td>1994</td>\n",
       "      <td>Millenials</td>\n",
       "    </tr>\n",
       "  </tbody>\n",
       "</table>\n",
       "<p>37107 rows × 4 columns</p>\n",
       "</div>"
      ],
      "text/plain": [
       "               profile  gender  birthday         Age\n",
       "0       DesolatePsyche    Male      1994  Millenials\n",
       "1            baekbeans  Female      2000       Gen_Z\n",
       "2      aManOfCulture99    Male      1999       Gen_Z\n",
       "3               jchang    Male      1992  Millenials\n",
       "4         angelsreview  Female      1989  Millenials\n",
       "...                ...     ...       ...         ...\n",
       "37102        HajisSoul    Male      1992  Millenials\n",
       "37103      samdineen20  Female      1992  Millenials\n",
       "37104            anjel  Female      1988  Millenials\n",
       "37105       lovelessxd  Female      1992  Millenials\n",
       "37106  Shattered_Angel  Female      1994  Millenials\n",
       "\n",
       "[37107 rows x 4 columns]"
      ]
     },
     "execution_count": 6,
     "metadata": {},
     "output_type": "execute_result"
    }
   ],
   "source": [
    "df_profiles = df_profiles.dropna(how = 'any')\n",
    "df_profiles = df_profiles.astype({'birthday': 'int32'})\n",
    "df_profiles = df_profiles.drop(axis = 0, index = 32049)\n",
    "df_profiles = df_profiles.drop(axis = 0, index = 7).reset_index()\n",
    "df_profiles = df_profiles.drop(columns = 'index')\n",
    "df_profiles['Age'] = df_profiles['birthday'].isin(range(1981,1996))\n",
    "df_profiles['Age'] = df_profiles['Age'].replace(True, 'Millenials')\n",
    "df_profiles['Age'] = df_profiles['Age'].replace(False, 'Gen_Z')\n",
    "df_profiles"
   ]
  },
  {
   "cell_type": "markdown",
   "metadata": {},
   "source": [
    "For the anime reviews, we'll use only the data from columns that contains the user's profile name, the anime they reviewed, and that anime's corresponding score given by the user. Also, due to there being a lot of duplicates, we filtered the reviews so that each anime can only have 1 review from the same person.\n"
   ]
  },
  {
   "cell_type": "code",
   "execution_count": 7,
   "metadata": {},
   "outputs": [
    {
     "data": {
      "text/html": [
       "<div>\n",
       "<style scoped>\n",
       "    .dataframe tbody tr th:only-of-type {\n",
       "        vertical-align: middle;\n",
       "    }\n",
       "\n",
       "    .dataframe tbody tr th {\n",
       "        vertical-align: top;\n",
       "    }\n",
       "\n",
       "    .dataframe thead th {\n",
       "        text-align: right;\n",
       "    }\n",
       "</style>\n",
       "<table border=\"1\" class=\"dataframe\">\n",
       "  <thead>\n",
       "    <tr style=\"text-align: right;\">\n",
       "      <th></th>\n",
       "      <th>profile</th>\n",
       "      <th>anime_uid</th>\n",
       "      <th>score</th>\n",
       "    </tr>\n",
       "  </thead>\n",
       "  <tbody>\n",
       "    <tr>\n",
       "      <th>0</th>\n",
       "      <td>DesolatePsyche</td>\n",
       "      <td>34096</td>\n",
       "      <td>8</td>\n",
       "    </tr>\n",
       "    <tr>\n",
       "      <th>1</th>\n",
       "      <td>baekbeans</td>\n",
       "      <td>34599</td>\n",
       "      <td>10</td>\n",
       "    </tr>\n",
       "    <tr>\n",
       "      <th>2</th>\n",
       "      <td>skrn</td>\n",
       "      <td>28891</td>\n",
       "      <td>7</td>\n",
       "    </tr>\n",
       "    <tr>\n",
       "      <th>3</th>\n",
       "      <td>edgewalker00</td>\n",
       "      <td>2904</td>\n",
       "      <td>9</td>\n",
       "    </tr>\n",
       "    <tr>\n",
       "      <th>4</th>\n",
       "      <td>aManOfCulture99</td>\n",
       "      <td>4181</td>\n",
       "      <td>10</td>\n",
       "    </tr>\n",
       "    <tr>\n",
       "      <th>...</th>\n",
       "      <td>...</td>\n",
       "      <td>...</td>\n",
       "      <td>...</td>\n",
       "    </tr>\n",
       "    <tr>\n",
       "      <th>182629</th>\n",
       "      <td>iHitokage</td>\n",
       "      <td>2593</td>\n",
       "      <td>10</td>\n",
       "    </tr>\n",
       "    <tr>\n",
       "      <th>182631</th>\n",
       "      <td>Onegai</td>\n",
       "      <td>2593</td>\n",
       "      <td>7</td>\n",
       "    </tr>\n",
       "    <tr>\n",
       "      <th>182633</th>\n",
       "      <td>Murasa22</td>\n",
       "      <td>2593</td>\n",
       "      <td>10</td>\n",
       "    </tr>\n",
       "    <tr>\n",
       "      <th>182636</th>\n",
       "      <td>srry4apologizng</td>\n",
       "      <td>2593</td>\n",
       "      <td>9</td>\n",
       "    </tr>\n",
       "    <tr>\n",
       "      <th>182637</th>\n",
       "      <td>bellellis</td>\n",
       "      <td>2593</td>\n",
       "      <td>10</td>\n",
       "    </tr>\n",
       "  </tbody>\n",
       "</table>\n",
       "<p>130519 rows × 3 columns</p>\n",
       "</div>"
      ],
      "text/plain": [
       "                profile  anime_uid  score\n",
       "0        DesolatePsyche      34096      8\n",
       "1             baekbeans      34599     10\n",
       "2                  skrn      28891      7\n",
       "3          edgewalker00       2904      9\n",
       "4       aManOfCulture99       4181     10\n",
       "...                 ...        ...    ...\n",
       "182629        iHitokage       2593     10\n",
       "182631           Onegai       2593      7\n",
       "182633         Murasa22       2593     10\n",
       "182636  srry4apologizng       2593      9\n",
       "182637        bellellis       2593     10\n",
       "\n",
       "[130519 rows x 3 columns]"
      ]
     },
     "execution_count": 7,
     "metadata": {},
     "output_type": "execute_result"
    }
   ],
   "source": [
    "df_reviews = df_reviews[['profile', 'anime_uid', 'score']]\n",
    "df_reviews[df_reviews['score'] == 11]\n",
    "df_reviews = df_reviews.replace(11, 10)\n",
    "df_reviews_dups= df_reviews.drop_duplicates()\n",
    "df_reviews_dups"
   ]
  },
  {
   "cell_type": "markdown",
   "metadata": {},
   "source": [
    "To create a data frame that we can work with, we combined the reviews data with the profile data, merging the two dataframes based on their profile names so that this dataframe would contain all the information that we need. This was possible since both df_reviews and df_profiles contains the user's profile names which was required to match the user with their reviews for various animes."
   ]
  },
  {
   "cell_type": "code",
   "execution_count": 8,
   "metadata": {},
   "outputs": [
    {
     "data": {
      "text/html": [
       "<div>\n",
       "<style scoped>\n",
       "    .dataframe tbody tr th:only-of-type {\n",
       "        vertical-align: middle;\n",
       "    }\n",
       "\n",
       "    .dataframe tbody tr th {\n",
       "        vertical-align: top;\n",
       "    }\n",
       "\n",
       "    .dataframe thead th {\n",
       "        text-align: right;\n",
       "    }\n",
       "</style>\n",
       "<table border=\"1\" class=\"dataframe\">\n",
       "  <thead>\n",
       "    <tr style=\"text-align: right;\">\n",
       "      <th></th>\n",
       "      <th>profile</th>\n",
       "      <th>gender</th>\n",
       "      <th>birthday</th>\n",
       "      <th>Age</th>\n",
       "      <th>anime_uid</th>\n",
       "      <th>score</th>\n",
       "    </tr>\n",
       "  </thead>\n",
       "  <tbody>\n",
       "    <tr>\n",
       "      <th>0</th>\n",
       "      <td>DesolatePsyche</td>\n",
       "      <td>Male</td>\n",
       "      <td>1994</td>\n",
       "      <td>Millenials</td>\n",
       "      <td>34096</td>\n",
       "      <td>8</td>\n",
       "    </tr>\n",
       "    <tr>\n",
       "      <th>1</th>\n",
       "      <td>DesolatePsyche</td>\n",
       "      <td>Male</td>\n",
       "      <td>1994</td>\n",
       "      <td>Millenials</td>\n",
       "      <td>12403</td>\n",
       "      <td>6</td>\n",
       "    </tr>\n",
       "    <tr>\n",
       "      <th>2</th>\n",
       "      <td>DesolatePsyche</td>\n",
       "      <td>Male</td>\n",
       "      <td>1994</td>\n",
       "      <td>Millenials</td>\n",
       "      <td>35073</td>\n",
       "      <td>6</td>\n",
       "    </tr>\n",
       "    <tr>\n",
       "      <th>3</th>\n",
       "      <td>DesolatePsyche</td>\n",
       "      <td>Male</td>\n",
       "      <td>1994</td>\n",
       "      <td>Millenials</td>\n",
       "      <td>23225</td>\n",
       "      <td>7</td>\n",
       "    </tr>\n",
       "    <tr>\n",
       "      <th>4</th>\n",
       "      <td>DesolatePsyche</td>\n",
       "      <td>Male</td>\n",
       "      <td>1994</td>\n",
       "      <td>Millenials</td>\n",
       "      <td>2035</td>\n",
       "      <td>8</td>\n",
       "    </tr>\n",
       "    <tr>\n",
       "      <th>...</th>\n",
       "      <td>...</td>\n",
       "      <td>...</td>\n",
       "      <td>...</td>\n",
       "      <td>...</td>\n",
       "      <td>...</td>\n",
       "      <td>...</td>\n",
       "    </tr>\n",
       "    <tr>\n",
       "      <th>243298</th>\n",
       "      <td>Mad_Maestro</td>\n",
       "      <td>Male</td>\n",
       "      <td>1992</td>\n",
       "      <td>Millenials</td>\n",
       "      <td>10033</td>\n",
       "      <td>8</td>\n",
       "    </tr>\n",
       "    <tr>\n",
       "      <th>243299</th>\n",
       "      <td>omally</td>\n",
       "      <td>Male</td>\n",
       "      <td>1994</td>\n",
       "      <td>Millenials</td>\n",
       "      <td>2593</td>\n",
       "      <td>10</td>\n",
       "    </tr>\n",
       "    <tr>\n",
       "      <th>243300</th>\n",
       "      <td>Akuteru</td>\n",
       "      <td>Male</td>\n",
       "      <td>1993</td>\n",
       "      <td>Millenials</td>\n",
       "      <td>2593</td>\n",
       "      <td>9</td>\n",
       "    </tr>\n",
       "    <tr>\n",
       "      <th>243301</th>\n",
       "      <td>Razielek</td>\n",
       "      <td>Male</td>\n",
       "      <td>1986</td>\n",
       "      <td>Millenials</td>\n",
       "      <td>2593</td>\n",
       "      <td>7</td>\n",
       "    </tr>\n",
       "    <tr>\n",
       "      <th>243302</th>\n",
       "      <td>bridgesams</td>\n",
       "      <td>Male</td>\n",
       "      <td>2001</td>\n",
       "      <td>Gen_Z</td>\n",
       "      <td>2593</td>\n",
       "      <td>9</td>\n",
       "    </tr>\n",
       "  </tbody>\n",
       "</table>\n",
       "<p>64252 rows × 6 columns</p>\n",
       "</div>"
      ],
      "text/plain": [
       "               profile gender  birthday         Age  anime_uid  score\n",
       "0       DesolatePsyche   Male      1994  Millenials      34096      8\n",
       "1       DesolatePsyche   Male      1994  Millenials      12403      6\n",
       "2       DesolatePsyche   Male      1994  Millenials      35073      6\n",
       "3       DesolatePsyche   Male      1994  Millenials      23225      7\n",
       "4       DesolatePsyche   Male      1994  Millenials       2035      8\n",
       "...                ...    ...       ...         ...        ...    ...\n",
       "243298     Mad_Maestro   Male      1992  Millenials      10033      8\n",
       "243299          omally   Male      1994  Millenials       2593     10\n",
       "243300         Akuteru   Male      1993  Millenials       2593      9\n",
       "243301        Razielek   Male      1986  Millenials       2593      7\n",
       "243302      bridgesams   Male      2001       Gen_Z       2593      9\n",
       "\n",
       "[64252 rows x 6 columns]"
      ]
     },
     "execution_count": 8,
     "metadata": {},
     "output_type": "execute_result"
    }
   ],
   "source": [
    "df_merge = df_profiles.merge(df_reviews, on= ['profile'], how = 'inner')\n",
    "df_merge_nodups = df_merge.drop_duplicates()\n",
    "df_merge_nodups"
   ]
  },
  {
   "cell_type": "markdown",
   "metadata": {},
   "source": [
    "### Dataframes Separated by Genres"
   ]
  },
  {
   "cell_type": "markdown",
   "metadata": {},
   "source": [
    "In this part, we made new dataframes for each genres so that it would be easier to compare data between the two age groups based on their ratings for the animes in that specific genre."
   ]
  },
  {
   "cell_type": "code",
   "execution_count": 9,
   "metadata": {},
   "outputs": [
    {
     "data": {
      "text/html": [
       "<div>\n",
       "<style scoped>\n",
       "    .dataframe tbody tr th:only-of-type {\n",
       "        vertical-align: middle;\n",
       "    }\n",
       "\n",
       "    .dataframe tbody tr th {\n",
       "        vertical-align: top;\n",
       "    }\n",
       "\n",
       "    .dataframe thead th {\n",
       "        text-align: right;\n",
       "    }\n",
       "</style>\n",
       "<table border=\"1\" class=\"dataframe\">\n",
       "  <thead>\n",
       "    <tr style=\"text-align: right;\">\n",
       "      <th></th>\n",
       "      <th>profile</th>\n",
       "      <th>gender</th>\n",
       "      <th>birthday</th>\n",
       "      <th>Age</th>\n",
       "      <th>anime_uid</th>\n",
       "      <th>score</th>\n",
       "    </tr>\n",
       "  </thead>\n",
       "  <tbody>\n",
       "    <tr>\n",
       "      <th>0</th>\n",
       "      <td>DesolatePsyche</td>\n",
       "      <td>Male</td>\n",
       "      <td>1994</td>\n",
       "      <td>Millenials</td>\n",
       "      <td>34096</td>\n",
       "      <td>8</td>\n",
       "    </tr>\n",
       "    <tr>\n",
       "      <th>1</th>\n",
       "      <td>DesolatePsyche</td>\n",
       "      <td>Male</td>\n",
       "      <td>1994</td>\n",
       "      <td>Millenials</td>\n",
       "      <td>12403</td>\n",
       "      <td>6</td>\n",
       "    </tr>\n",
       "    <tr>\n",
       "      <th>3</th>\n",
       "      <td>DesolatePsyche</td>\n",
       "      <td>Male</td>\n",
       "      <td>1994</td>\n",
       "      <td>Millenials</td>\n",
       "      <td>23225</td>\n",
       "      <td>7</td>\n",
       "    </tr>\n",
       "    <tr>\n",
       "      <th>6</th>\n",
       "      <td>DesolatePsyche</td>\n",
       "      <td>Male</td>\n",
       "      <td>1994</td>\n",
       "      <td>Millenials</td>\n",
       "      <td>30279</td>\n",
       "      <td>7</td>\n",
       "    </tr>\n",
       "    <tr>\n",
       "      <th>7</th>\n",
       "      <td>DesolatePsyche</td>\n",
       "      <td>Male</td>\n",
       "      <td>1994</td>\n",
       "      <td>Millenials</td>\n",
       "      <td>77</td>\n",
       "      <td>7</td>\n",
       "    </tr>\n",
       "    <tr>\n",
       "      <th>...</th>\n",
       "      <td>...</td>\n",
       "      <td>...</td>\n",
       "      <td>...</td>\n",
       "      <td>...</td>\n",
       "      <td>...</td>\n",
       "      <td>...</td>\n",
       "    </tr>\n",
       "    <tr>\n",
       "      <th>243285</th>\n",
       "      <td>AishaPachia</td>\n",
       "      <td>Female</td>\n",
       "      <td>1991</td>\n",
       "      <td>Millenials</td>\n",
       "      <td>35828</td>\n",
       "      <td>5</td>\n",
       "    </tr>\n",
       "    <tr>\n",
       "      <th>243291</th>\n",
       "      <td>PinkiPockets</td>\n",
       "      <td>Female</td>\n",
       "      <td>1991</td>\n",
       "      <td>Millenials</td>\n",
       "      <td>34262</td>\n",
       "      <td>8</td>\n",
       "    </tr>\n",
       "    <tr>\n",
       "      <th>243292</th>\n",
       "      <td>LCSeixas</td>\n",
       "      <td>Male</td>\n",
       "      <td>1997</td>\n",
       "      <td>Gen_Z</td>\n",
       "      <td>16934</td>\n",
       "      <td>6</td>\n",
       "    </tr>\n",
       "    <tr>\n",
       "      <th>243297</th>\n",
       "      <td>lapinmagik</td>\n",
       "      <td>Male</td>\n",
       "      <td>1983</td>\n",
       "      <td>Millenials</td>\n",
       "      <td>10033</td>\n",
       "      <td>8</td>\n",
       "    </tr>\n",
       "    <tr>\n",
       "      <th>243298</th>\n",
       "      <td>Mad_Maestro</td>\n",
       "      <td>Male</td>\n",
       "      <td>1992</td>\n",
       "      <td>Millenials</td>\n",
       "      <td>10033</td>\n",
       "      <td>8</td>\n",
       "    </tr>\n",
       "  </tbody>\n",
       "</table>\n",
       "<p>27012 rows × 6 columns</p>\n",
       "</div>"
      ],
      "text/plain": [
       "               profile  gender  birthday         Age  anime_uid  score\n",
       "0       DesolatePsyche    Male      1994  Millenials      34096      8\n",
       "1       DesolatePsyche    Male      1994  Millenials      12403      6\n",
       "3       DesolatePsyche    Male      1994  Millenials      23225      7\n",
       "6       DesolatePsyche    Male      1994  Millenials      30279      7\n",
       "7       DesolatePsyche    Male      1994  Millenials         77      7\n",
       "...                ...     ...       ...         ...        ...    ...\n",
       "243285     AishaPachia  Female      1991  Millenials      35828      5\n",
       "243291    PinkiPockets  Female      1991  Millenials      34262      8\n",
       "243292        LCSeixas    Male      1997       Gen_Z      16934      6\n",
       "243297      lapinmagik    Male      1983  Millenials      10033      8\n",
       "243298     Mad_Maestro    Male      1992  Millenials      10033      8\n",
       "\n",
       "[27012 rows x 6 columns]"
      ]
     },
     "execution_count": 9,
     "metadata": {},
     "output_type": "execute_result"
    }
   ],
   "source": [
    "df_comedy = df_anime_names[df_anime_names.comedy == True]\n",
    "df_comedy = df_comedy[['title', 'uid' ]]\n",
    "df_comedy\n",
    "comedy_list = df_comedy['uid'].tolist()\n",
    "df_reviews_comedy = df_merge_nodups[df_merge_nodups['anime_uid'].isin(comedy_list)]\n",
    "df_reviews_comedy"
   ]
  },
  {
   "cell_type": "code",
   "execution_count": 10,
   "metadata": {},
   "outputs": [
    {
     "data": {
      "text/html": [
       "<div>\n",
       "<style scoped>\n",
       "    .dataframe tbody tr th:only-of-type {\n",
       "        vertical-align: middle;\n",
       "    }\n",
       "\n",
       "    .dataframe tbody tr th {\n",
       "        vertical-align: top;\n",
       "    }\n",
       "\n",
       "    .dataframe thead th {\n",
       "        text-align: right;\n",
       "    }\n",
       "</style>\n",
       "<table border=\"1\" class=\"dataframe\">\n",
       "  <thead>\n",
       "    <tr style=\"text-align: right;\">\n",
       "      <th></th>\n",
       "      <th>profile</th>\n",
       "      <th>gender</th>\n",
       "      <th>birthday</th>\n",
       "      <th>Age</th>\n",
       "      <th>anime_uid</th>\n",
       "      <th>score</th>\n",
       "    </tr>\n",
       "  </thead>\n",
       "  <tbody>\n",
       "    <tr>\n",
       "      <th>0</th>\n",
       "      <td>DesolatePsyche</td>\n",
       "      <td>Male</td>\n",
       "      <td>1994</td>\n",
       "      <td>Millenials</td>\n",
       "      <td>34096</td>\n",
       "      <td>8</td>\n",
       "    </tr>\n",
       "    <tr>\n",
       "      <th>2</th>\n",
       "      <td>DesolatePsyche</td>\n",
       "      <td>Male</td>\n",
       "      <td>1994</td>\n",
       "      <td>Millenials</td>\n",
       "      <td>35073</td>\n",
       "      <td>6</td>\n",
       "    </tr>\n",
       "    <tr>\n",
       "      <th>5</th>\n",
       "      <td>DesolatePsyche</td>\n",
       "      <td>Male</td>\n",
       "      <td>1994</td>\n",
       "      <td>Millenials</td>\n",
       "      <td>24921</td>\n",
       "      <td>9</td>\n",
       "    </tr>\n",
       "    <tr>\n",
       "      <th>7</th>\n",
       "      <td>DesolatePsyche</td>\n",
       "      <td>Male</td>\n",
       "      <td>1994</td>\n",
       "      <td>Millenials</td>\n",
       "      <td>77</td>\n",
       "      <td>7</td>\n",
       "    </tr>\n",
       "    <tr>\n",
       "      <th>9</th>\n",
       "      <td>DesolatePsyche</td>\n",
       "      <td>Male</td>\n",
       "      <td>1994</td>\n",
       "      <td>Millenials</td>\n",
       "      <td>10153</td>\n",
       "      <td>7</td>\n",
       "    </tr>\n",
       "    <tr>\n",
       "      <th>...</th>\n",
       "      <td>...</td>\n",
       "      <td>...</td>\n",
       "      <td>...</td>\n",
       "      <td>...</td>\n",
       "      <td>...</td>\n",
       "      <td>...</td>\n",
       "    </tr>\n",
       "    <tr>\n",
       "      <th>243298</th>\n",
       "      <td>Mad_Maestro</td>\n",
       "      <td>Male</td>\n",
       "      <td>1992</td>\n",
       "      <td>Millenials</td>\n",
       "      <td>10033</td>\n",
       "      <td>8</td>\n",
       "    </tr>\n",
       "    <tr>\n",
       "      <th>243299</th>\n",
       "      <td>omally</td>\n",
       "      <td>Male</td>\n",
       "      <td>1994</td>\n",
       "      <td>Millenials</td>\n",
       "      <td>2593</td>\n",
       "      <td>10</td>\n",
       "    </tr>\n",
       "    <tr>\n",
       "      <th>243300</th>\n",
       "      <td>Akuteru</td>\n",
       "      <td>Male</td>\n",
       "      <td>1993</td>\n",
       "      <td>Millenials</td>\n",
       "      <td>2593</td>\n",
       "      <td>9</td>\n",
       "    </tr>\n",
       "    <tr>\n",
       "      <th>243301</th>\n",
       "      <td>Razielek</td>\n",
       "      <td>Male</td>\n",
       "      <td>1986</td>\n",
       "      <td>Millenials</td>\n",
       "      <td>2593</td>\n",
       "      <td>7</td>\n",
       "    </tr>\n",
       "    <tr>\n",
       "      <th>243302</th>\n",
       "      <td>bridgesams</td>\n",
       "      <td>Male</td>\n",
       "      <td>2001</td>\n",
       "      <td>Gen_Z</td>\n",
       "      <td>2593</td>\n",
       "      <td>9</td>\n",
       "    </tr>\n",
       "  </tbody>\n",
       "</table>\n",
       "<p>26136 rows × 6 columns</p>\n",
       "</div>"
      ],
      "text/plain": [
       "               profile gender  birthday         Age  anime_uid  score\n",
       "0       DesolatePsyche   Male      1994  Millenials      34096      8\n",
       "2       DesolatePsyche   Male      1994  Millenials      35073      6\n",
       "5       DesolatePsyche   Male      1994  Millenials      24921      9\n",
       "7       DesolatePsyche   Male      1994  Millenials         77      7\n",
       "9       DesolatePsyche   Male      1994  Millenials      10153      7\n",
       "...                ...    ...       ...         ...        ...    ...\n",
       "243298     Mad_Maestro   Male      1992  Millenials      10033      8\n",
       "243299          omally   Male      1994  Millenials       2593     10\n",
       "243300         Akuteru   Male      1993  Millenials       2593      9\n",
       "243301        Razielek   Male      1986  Millenials       2593      7\n",
       "243302      bridgesams   Male      2001       Gen_Z       2593      9\n",
       "\n",
       "[26136 rows x 6 columns]"
      ]
     },
     "execution_count": 10,
     "metadata": {},
     "output_type": "execute_result"
    }
   ],
   "source": [
    "df_action = df_anime_names[df_anime_names.action == True]\n",
    "df_action = df_action[['title', 'uid' ]]\n",
    "df_action\n",
    "action_list = df_action['uid'].tolist()\n",
    "df_reviews_action = df_merge_nodups[df_merge_nodups['anime_uid'].isin(action_list)]\n",
    "df_reviews_action"
   ]
  },
  {
   "cell_type": "code",
   "execution_count": 11,
   "metadata": {},
   "outputs": [
    {
     "data": {
      "text/html": [
       "<div>\n",
       "<style scoped>\n",
       "    .dataframe tbody tr th:only-of-type {\n",
       "        vertical-align: middle;\n",
       "    }\n",
       "\n",
       "    .dataframe tbody tr th {\n",
       "        vertical-align: top;\n",
       "    }\n",
       "\n",
       "    .dataframe thead th {\n",
       "        text-align: right;\n",
       "    }\n",
       "</style>\n",
       "<table border=\"1\" class=\"dataframe\">\n",
       "  <thead>\n",
       "    <tr style=\"text-align: right;\">\n",
       "      <th></th>\n",
       "      <th>profile</th>\n",
       "      <th>gender</th>\n",
       "      <th>birthday</th>\n",
       "      <th>Age</th>\n",
       "      <th>anime_uid</th>\n",
       "      <th>score</th>\n",
       "    </tr>\n",
       "  </thead>\n",
       "  <tbody>\n",
       "    <tr>\n",
       "      <th>841</th>\n",
       "      <td>aManOfCulture99</td>\n",
       "      <td>Male</td>\n",
       "      <td>1999</td>\n",
       "      <td>Gen_Z</td>\n",
       "      <td>18617</td>\n",
       "      <td>3</td>\n",
       "    </tr>\n",
       "    <tr>\n",
       "      <th>859</th>\n",
       "      <td>jchang</td>\n",
       "      <td>Male</td>\n",
       "      <td>1992</td>\n",
       "      <td>Millenials</td>\n",
       "      <td>5040</td>\n",
       "      <td>9</td>\n",
       "    </tr>\n",
       "    <tr>\n",
       "      <th>861</th>\n",
       "      <td>jchang</td>\n",
       "      <td>Male</td>\n",
       "      <td>1992</td>\n",
       "      <td>Millenials</td>\n",
       "      <td>5941</td>\n",
       "      <td>9</td>\n",
       "    </tr>\n",
       "    <tr>\n",
       "      <th>1170</th>\n",
       "      <td>angelsreview</td>\n",
       "      <td>Female</td>\n",
       "      <td>1989</td>\n",
       "      <td>Millenials</td>\n",
       "      <td>6392</td>\n",
       "      <td>1</td>\n",
       "    </tr>\n",
       "    <tr>\n",
       "      <th>1175</th>\n",
       "      <td>angelsreview</td>\n",
       "      <td>Female</td>\n",
       "      <td>1989</td>\n",
       "      <td>Millenials</td>\n",
       "      <td>1596</td>\n",
       "      <td>2</td>\n",
       "    </tr>\n",
       "    <tr>\n",
       "      <th>...</th>\n",
       "      <td>...</td>\n",
       "      <td>...</td>\n",
       "      <td>...</td>\n",
       "      <td>...</td>\n",
       "      <td>...</td>\n",
       "      <td>...</td>\n",
       "    </tr>\n",
       "    <tr>\n",
       "      <th>243113</th>\n",
       "      <td>Zengar</td>\n",
       "      <td>Male</td>\n",
       "      <td>1991</td>\n",
       "      <td>Millenials</td>\n",
       "      <td>2283</td>\n",
       "      <td>10</td>\n",
       "    </tr>\n",
       "    <tr>\n",
       "      <th>243293</th>\n",
       "      <td>peterg</td>\n",
       "      <td>Male</td>\n",
       "      <td>1995</td>\n",
       "      <td>Millenials</td>\n",
       "      <td>14131</td>\n",
       "      <td>9</td>\n",
       "    </tr>\n",
       "    <tr>\n",
       "      <th>243294</th>\n",
       "      <td>Kuraiarashi</td>\n",
       "      <td>Male</td>\n",
       "      <td>1995</td>\n",
       "      <td>Millenials</td>\n",
       "      <td>14131</td>\n",
       "      <td>10</td>\n",
       "    </tr>\n",
       "    <tr>\n",
       "      <th>243295</th>\n",
       "      <td>that_one_axel</td>\n",
       "      <td>Male</td>\n",
       "      <td>1992</td>\n",
       "      <td>Millenials</td>\n",
       "      <td>14131</td>\n",
       "      <td>4</td>\n",
       "    </tr>\n",
       "    <tr>\n",
       "      <th>243296</th>\n",
       "      <td>nanru</td>\n",
       "      <td>Female</td>\n",
       "      <td>1996</td>\n",
       "      <td>Gen_Z</td>\n",
       "      <td>14131</td>\n",
       "      <td>7</td>\n",
       "    </tr>\n",
       "  </tbody>\n",
       "</table>\n",
       "<p>2105 rows × 6 columns</p>\n",
       "</div>"
      ],
      "text/plain": [
       "                profile  gender  birthday         Age  anime_uid  score\n",
       "841     aManOfCulture99    Male      1999       Gen_Z      18617      3\n",
       "859              jchang    Male      1992  Millenials       5040      9\n",
       "861              jchang    Male      1992  Millenials       5941      9\n",
       "1170       angelsreview  Female      1989  Millenials       6392      1\n",
       "1175       angelsreview  Female      1989  Millenials       1596      2\n",
       "...                 ...     ...       ...         ...        ...    ...\n",
       "243113           Zengar    Male      1991  Millenials       2283     10\n",
       "243293           peterg    Male      1995  Millenials      14131      9\n",
       "243294      Kuraiarashi    Male      1995  Millenials      14131     10\n",
       "243295    that_one_axel    Male      1992  Millenials      14131      4\n",
       "243296            nanru  Female      1996       Gen_Z      14131      7\n",
       "\n",
       "[2105 rows x 6 columns]"
      ]
     },
     "execution_count": 11,
     "metadata": {},
     "output_type": "execute_result"
    }
   ],
   "source": [
    "df_sports = df_anime_names[df_anime_names.sports == True]\n",
    "df_sports = df_sports[['title', 'uid' ]]\n",
    "df_sports\n",
    "sports_list = df_sports['uid'].tolist()\n",
    "df_reviews_sports = df_merge_nodups[df_merge_nodups['anime_uid'].isin(sports_list)]\n",
    "df_reviews_sports"
   ]
  },
  {
   "cell_type": "code",
   "execution_count": 12,
   "metadata": {},
   "outputs": [
    {
     "data": {
      "text/html": [
       "<div>\n",
       "<style scoped>\n",
       "    .dataframe tbody tr th:only-of-type {\n",
       "        vertical-align: middle;\n",
       "    }\n",
       "\n",
       "    .dataframe tbody tr th {\n",
       "        vertical-align: top;\n",
       "    }\n",
       "\n",
       "    .dataframe thead th {\n",
       "        text-align: right;\n",
       "    }\n",
       "</style>\n",
       "<table border=\"1\" class=\"dataframe\">\n",
       "  <thead>\n",
       "    <tr style=\"text-align: right;\">\n",
       "      <th></th>\n",
       "      <th>profile</th>\n",
       "      <th>gender</th>\n",
       "      <th>birthday</th>\n",
       "      <th>Age</th>\n",
       "      <th>anime_uid</th>\n",
       "      <th>score</th>\n",
       "    </tr>\n",
       "  </thead>\n",
       "  <tbody>\n",
       "    <tr>\n",
       "      <th>4</th>\n",
       "      <td>DesolatePsyche</td>\n",
       "      <td>Male</td>\n",
       "      <td>1994</td>\n",
       "      <td>Millenials</td>\n",
       "      <td>2035</td>\n",
       "      <td>8</td>\n",
       "    </tr>\n",
       "    <tr>\n",
       "      <th>7</th>\n",
       "      <td>DesolatePsyche</td>\n",
       "      <td>Male</td>\n",
       "      <td>1994</td>\n",
       "      <td>Millenials</td>\n",
       "      <td>77</td>\n",
       "      <td>7</td>\n",
       "    </tr>\n",
       "    <tr>\n",
       "      <th>8</th>\n",
       "      <td>DesolatePsyche</td>\n",
       "      <td>Male</td>\n",
       "      <td>1994</td>\n",
       "      <td>Millenials</td>\n",
       "      <td>31173</td>\n",
       "      <td>9</td>\n",
       "    </tr>\n",
       "    <tr>\n",
       "      <th>9</th>\n",
       "      <td>DesolatePsyche</td>\n",
       "      <td>Male</td>\n",
       "      <td>1994</td>\n",
       "      <td>Millenials</td>\n",
       "      <td>10153</td>\n",
       "      <td>7</td>\n",
       "    </tr>\n",
       "    <tr>\n",
       "      <th>10</th>\n",
       "      <td>DesolatePsyche</td>\n",
       "      <td>Male</td>\n",
       "      <td>1994</td>\n",
       "      <td>Millenials</td>\n",
       "      <td>31240</td>\n",
       "      <td>9</td>\n",
       "    </tr>\n",
       "    <tr>\n",
       "      <th>...</th>\n",
       "      <td>...</td>\n",
       "      <td>...</td>\n",
       "      <td>...</td>\n",
       "      <td>...</td>\n",
       "      <td>...</td>\n",
       "      <td>...</td>\n",
       "    </tr>\n",
       "    <tr>\n",
       "      <th>243279</th>\n",
       "      <td>shnjji</td>\n",
       "      <td>Female</td>\n",
       "      <td>1998</td>\n",
       "      <td>Gen_Z</td>\n",
       "      <td>165</td>\n",
       "      <td>10</td>\n",
       "    </tr>\n",
       "    <tr>\n",
       "      <th>243282</th>\n",
       "      <td>FoamyFrog</td>\n",
       "      <td>Male</td>\n",
       "      <td>1993</td>\n",
       "      <td>Millenials</td>\n",
       "      <td>165</td>\n",
       "      <td>5</td>\n",
       "    </tr>\n",
       "    <tr>\n",
       "      <th>243286</th>\n",
       "      <td>BunnychuXO</td>\n",
       "      <td>Female</td>\n",
       "      <td>1990</td>\n",
       "      <td>Millenials</td>\n",
       "      <td>31</td>\n",
       "      <td>6</td>\n",
       "    </tr>\n",
       "    <tr>\n",
       "      <th>243287</th>\n",
       "      <td>Ultorskoss</td>\n",
       "      <td>Male</td>\n",
       "      <td>1990</td>\n",
       "      <td>Millenials</td>\n",
       "      <td>31</td>\n",
       "      <td>7</td>\n",
       "    </tr>\n",
       "    <tr>\n",
       "      <th>243292</th>\n",
       "      <td>LCSeixas</td>\n",
       "      <td>Male</td>\n",
       "      <td>1997</td>\n",
       "      <td>Gen_Z</td>\n",
       "      <td>16934</td>\n",
       "      <td>6</td>\n",
       "    </tr>\n",
       "  </tbody>\n",
       "</table>\n",
       "<p>20628 rows × 6 columns</p>\n",
       "</div>"
      ],
      "text/plain": [
       "               profile  gender  birthday         Age  anime_uid  score\n",
       "4       DesolatePsyche    Male      1994  Millenials       2035      8\n",
       "7       DesolatePsyche    Male      1994  Millenials         77      7\n",
       "8       DesolatePsyche    Male      1994  Millenials      31173      9\n",
       "9       DesolatePsyche    Male      1994  Millenials      10153      7\n",
       "10      DesolatePsyche    Male      1994  Millenials      31240      9\n",
       "...                ...     ...       ...         ...        ...    ...\n",
       "243279          shnjji  Female      1998       Gen_Z        165     10\n",
       "243282       FoamyFrog    Male      1993  Millenials        165      5\n",
       "243286      BunnychuXO  Female      1990  Millenials         31      6\n",
       "243287      Ultorskoss    Male      1990  Millenials         31      7\n",
       "243292        LCSeixas    Male      1997       Gen_Z      16934      6\n",
       "\n",
       "[20628 rows x 6 columns]"
      ]
     },
     "execution_count": 12,
     "metadata": {},
     "output_type": "execute_result"
    }
   ],
   "source": [
    "df_drama = df_anime_names[df_anime_names.drama == True]\n",
    "df_drama = df_drama[['title', 'uid' ]]\n",
    "df_drama\n",
    "drama_list = df_drama['uid'].tolist()\n",
    "df_reviews_drama = df_merge_nodups[df_merge_nodups['anime_uid'].isin(drama_list)]\n",
    "df_reviews_drama"
   ]
  },
  {
   "cell_type": "code",
   "execution_count": 13,
   "metadata": {},
   "outputs": [
    {
     "data": {
      "text/html": [
       "<div>\n",
       "<style scoped>\n",
       "    .dataframe tbody tr th:only-of-type {\n",
       "        vertical-align: middle;\n",
       "    }\n",
       "\n",
       "    .dataframe tbody tr th {\n",
       "        vertical-align: top;\n",
       "    }\n",
       "\n",
       "    .dataframe thead th {\n",
       "        text-align: right;\n",
       "    }\n",
       "</style>\n",
       "<table border=\"1\" class=\"dataframe\">\n",
       "  <thead>\n",
       "    <tr style=\"text-align: right;\">\n",
       "      <th></th>\n",
       "      <th>profile</th>\n",
       "      <th>gender</th>\n",
       "      <th>birthday</th>\n",
       "      <th>Age</th>\n",
       "      <th>anime_uid</th>\n",
       "      <th>score</th>\n",
       "    </tr>\n",
       "  </thead>\n",
       "  <tbody>\n",
       "    <tr>\n",
       "      <th>25</th>\n",
       "      <td>DesolatePsyche</td>\n",
       "      <td>Male</td>\n",
       "      <td>1994</td>\n",
       "      <td>Millenials</td>\n",
       "      <td>32615</td>\n",
       "      <td>8</td>\n",
       "    </tr>\n",
       "    <tr>\n",
       "      <th>102</th>\n",
       "      <td>DesolatePsyche</td>\n",
       "      <td>Male</td>\n",
       "      <td>1994</td>\n",
       "      <td>Millenials</td>\n",
       "      <td>27631</td>\n",
       "      <td>9</td>\n",
       "    </tr>\n",
       "    <tr>\n",
       "      <th>103</th>\n",
       "      <td>DesolatePsyche</td>\n",
       "      <td>Male</td>\n",
       "      <td>1994</td>\n",
       "      <td>Millenials</td>\n",
       "      <td>20709</td>\n",
       "      <td>6</td>\n",
       "    </tr>\n",
       "    <tr>\n",
       "      <th>136</th>\n",
       "      <td>DesolatePsyche</td>\n",
       "      <td>Male</td>\n",
       "      <td>1994</td>\n",
       "      <td>Millenials</td>\n",
       "      <td>27829</td>\n",
       "      <td>8</td>\n",
       "    </tr>\n",
       "    <tr>\n",
       "      <th>841</th>\n",
       "      <td>aManOfCulture99</td>\n",
       "      <td>Male</td>\n",
       "      <td>1999</td>\n",
       "      <td>Gen_Z</td>\n",
       "      <td>18617</td>\n",
       "      <td>3</td>\n",
       "    </tr>\n",
       "    <tr>\n",
       "      <th>...</th>\n",
       "      <td>...</td>\n",
       "      <td>...</td>\n",
       "      <td>...</td>\n",
       "      <td>...</td>\n",
       "      <td>...</td>\n",
       "      <td>...</td>\n",
       "    </tr>\n",
       "    <tr>\n",
       "      <th>243246</th>\n",
       "      <td>vincent204</td>\n",
       "      <td>Male</td>\n",
       "      <td>1986</td>\n",
       "      <td>Millenials</td>\n",
       "      <td>31500</td>\n",
       "      <td>4</td>\n",
       "    </tr>\n",
       "    <tr>\n",
       "      <th>243293</th>\n",
       "      <td>peterg</td>\n",
       "      <td>Male</td>\n",
       "      <td>1995</td>\n",
       "      <td>Millenials</td>\n",
       "      <td>14131</td>\n",
       "      <td>9</td>\n",
       "    </tr>\n",
       "    <tr>\n",
       "      <th>243294</th>\n",
       "      <td>Kuraiarashi</td>\n",
       "      <td>Male</td>\n",
       "      <td>1995</td>\n",
       "      <td>Millenials</td>\n",
       "      <td>14131</td>\n",
       "      <td>10</td>\n",
       "    </tr>\n",
       "    <tr>\n",
       "      <th>243295</th>\n",
       "      <td>that_one_axel</td>\n",
       "      <td>Male</td>\n",
       "      <td>1992</td>\n",
       "      <td>Millenials</td>\n",
       "      <td>14131</td>\n",
       "      <td>4</td>\n",
       "    </tr>\n",
       "    <tr>\n",
       "      <th>243296</th>\n",
       "      <td>nanru</td>\n",
       "      <td>Female</td>\n",
       "      <td>1996</td>\n",
       "      <td>Gen_Z</td>\n",
       "      <td>14131</td>\n",
       "      <td>7</td>\n",
       "    </tr>\n",
       "  </tbody>\n",
       "</table>\n",
       "<p>3741 rows × 6 columns</p>\n",
       "</div>"
      ],
      "text/plain": [
       "                profile  gender  birthday         Age  anime_uid  score\n",
       "25       DesolatePsyche    Male      1994  Millenials      32615      8\n",
       "102      DesolatePsyche    Male      1994  Millenials      27631      9\n",
       "103      DesolatePsyche    Male      1994  Millenials      20709      6\n",
       "136      DesolatePsyche    Male      1994  Millenials      27829      8\n",
       "841     aManOfCulture99    Male      1999       Gen_Z      18617      3\n",
       "...                 ...     ...       ...         ...        ...    ...\n",
       "243246       vincent204    Male      1986  Millenials      31500      4\n",
       "243293           peterg    Male      1995  Millenials      14131      9\n",
       "243294      Kuraiarashi    Male      1995  Millenials      14131     10\n",
       "243295    that_one_axel    Male      1992  Millenials      14131      4\n",
       "243296            nanru  Female      1996       Gen_Z      14131      7\n",
       "\n",
       "[3741 rows x 6 columns]"
      ]
     },
     "execution_count": 13,
     "metadata": {},
     "output_type": "execute_result"
    }
   ],
   "source": [
    "df_military = df_anime_names[df_anime_names.military == True]\n",
    "df_military = df_military[['title', 'uid' ]]\n",
    "df_military\n",
    "military_list = df_military['uid'].tolist()\n",
    "df_reviews_military = df_merge_nodups[df_merge_nodups['anime_uid'].isin(military_list)]\n",
    "df_reviews_military"
   ]
  },
  {
   "cell_type": "code",
   "execution_count": 14,
   "metadata": {},
   "outputs": [
    {
     "data": {
      "text/html": [
       "<div>\n",
       "<style scoped>\n",
       "    .dataframe tbody tr th:only-of-type {\n",
       "        vertical-align: middle;\n",
       "    }\n",
       "\n",
       "    .dataframe tbody tr th {\n",
       "        vertical-align: top;\n",
       "    }\n",
       "\n",
       "    .dataframe thead th {\n",
       "        text-align: right;\n",
       "    }\n",
       "</style>\n",
       "<table border=\"1\" class=\"dataframe\">\n",
       "  <thead>\n",
       "    <tr style=\"text-align: right;\">\n",
       "      <th></th>\n",
       "      <th>profile</th>\n",
       "      <th>gender</th>\n",
       "      <th>birthday</th>\n",
       "      <th>Age</th>\n",
       "      <th>anime_uid</th>\n",
       "      <th>score</th>\n",
       "    </tr>\n",
       "  </thead>\n",
       "  <tbody>\n",
       "    <tr>\n",
       "      <th>12</th>\n",
       "      <td>DesolatePsyche</td>\n",
       "      <td>Male</td>\n",
       "      <td>1994</td>\n",
       "      <td>Millenials</td>\n",
       "      <td>877</td>\n",
       "      <td>7</td>\n",
       "    </tr>\n",
       "    <tr>\n",
       "      <th>33</th>\n",
       "      <td>DesolatePsyche</td>\n",
       "      <td>Male</td>\n",
       "      <td>1994</td>\n",
       "      <td>Millenials</td>\n",
       "      <td>18245</td>\n",
       "      <td>9</td>\n",
       "    </tr>\n",
       "    <tr>\n",
       "      <th>38</th>\n",
       "      <td>DesolatePsyche</td>\n",
       "      <td>Male</td>\n",
       "      <td>1994</td>\n",
       "      <td>Millenials</td>\n",
       "      <td>328</td>\n",
       "      <td>6</td>\n",
       "    </tr>\n",
       "    <tr>\n",
       "      <th>94</th>\n",
       "      <td>DesolatePsyche</td>\n",
       "      <td>Male</td>\n",
       "      <td>1994</td>\n",
       "      <td>Millenials</td>\n",
       "      <td>4720</td>\n",
       "      <td>4</td>\n",
       "    </tr>\n",
       "    <tr>\n",
       "      <th>996</th>\n",
       "      <td>angelsreview</td>\n",
       "      <td>Female</td>\n",
       "      <td>1989</td>\n",
       "      <td>Millenials</td>\n",
       "      <td>5680</td>\n",
       "      <td>5</td>\n",
       "    </tr>\n",
       "    <tr>\n",
       "      <th>...</th>\n",
       "      <td>...</td>\n",
       "      <td>...</td>\n",
       "      <td>...</td>\n",
       "      <td>...</td>\n",
       "      <td>...</td>\n",
       "      <td>...</td>\n",
       "    </tr>\n",
       "    <tr>\n",
       "      <th>243158</th>\n",
       "      <td>IngevanSon</td>\n",
       "      <td>Female</td>\n",
       "      <td>1998</td>\n",
       "      <td>Gen_Z</td>\n",
       "      <td>10321</td>\n",
       "      <td>8</td>\n",
       "    </tr>\n",
       "    <tr>\n",
       "      <th>243159</th>\n",
       "      <td>teoelena34</td>\n",
       "      <td>Female</td>\n",
       "      <td>1998</td>\n",
       "      <td>Gen_Z</td>\n",
       "      <td>10321</td>\n",
       "      <td>3</td>\n",
       "    </tr>\n",
       "    <tr>\n",
       "      <th>243278</th>\n",
       "      <td>hopp17</td>\n",
       "      <td>Male</td>\n",
       "      <td>1980</td>\n",
       "      <td>Gen_Z</td>\n",
       "      <td>165</td>\n",
       "      <td>10</td>\n",
       "    </tr>\n",
       "    <tr>\n",
       "      <th>243279</th>\n",
       "      <td>shnjji</td>\n",
       "      <td>Female</td>\n",
       "      <td>1998</td>\n",
       "      <td>Gen_Z</td>\n",
       "      <td>165</td>\n",
       "      <td>10</td>\n",
       "    </tr>\n",
       "    <tr>\n",
       "      <th>243282</th>\n",
       "      <td>FoamyFrog</td>\n",
       "      <td>Male</td>\n",
       "      <td>1993</td>\n",
       "      <td>Millenials</td>\n",
       "      <td>165</td>\n",
       "      <td>5</td>\n",
       "    </tr>\n",
       "  </tbody>\n",
       "</table>\n",
       "<p>2007 rows × 6 columns</p>\n",
       "</div>"
      ],
      "text/plain": [
       "               profile  gender  birthday         Age  anime_uid  score\n",
       "12      DesolatePsyche    Male      1994  Millenials        877      7\n",
       "33      DesolatePsyche    Male      1994  Millenials      18245      9\n",
       "38      DesolatePsyche    Male      1994  Millenials        328      6\n",
       "94      DesolatePsyche    Male      1994  Millenials       4720      4\n",
       "996       angelsreview  Female      1989  Millenials       5680      5\n",
       "...                ...     ...       ...         ...        ...    ...\n",
       "243158      IngevanSon  Female      1998       Gen_Z      10321      8\n",
       "243159      teoelena34  Female      1998       Gen_Z      10321      3\n",
       "243278          hopp17    Male      1980       Gen_Z        165     10\n",
       "243279          shnjji  Female      1998       Gen_Z        165     10\n",
       "243282       FoamyFrog    Male      1993  Millenials        165      5\n",
       "\n",
       "[2007 rows x 6 columns]"
      ]
     },
     "execution_count": 14,
     "metadata": {},
     "output_type": "execute_result"
    }
   ],
   "source": [
    "df_music = df_anime_names[df_anime_names.music  == True]\n",
    "df_music  = df_music [['title', 'uid' ]]\n",
    "df_music \n",
    "music_list = df_music ['uid'].tolist()\n",
    "df_reviews_music  = df_merge_nodups[df_merge_nodups['anime_uid'].isin(music_list)]\n",
    "df_reviews_music"
   ]
  },
  {
   "cell_type": "code",
   "execution_count": 15,
   "metadata": {},
   "outputs": [
    {
     "data": {
      "text/html": [
       "<div>\n",
       "<style scoped>\n",
       "    .dataframe tbody tr th:only-of-type {\n",
       "        vertical-align: middle;\n",
       "    }\n",
       "\n",
       "    .dataframe tbody tr th {\n",
       "        vertical-align: top;\n",
       "    }\n",
       "\n",
       "    .dataframe thead th {\n",
       "        text-align: right;\n",
       "    }\n",
       "</style>\n",
       "<table border=\"1\" class=\"dataframe\">\n",
       "  <thead>\n",
       "    <tr style=\"text-align: right;\">\n",
       "      <th></th>\n",
       "      <th>profile</th>\n",
       "      <th>gender</th>\n",
       "      <th>birthday</th>\n",
       "      <th>Age</th>\n",
       "      <th>anime_uid</th>\n",
       "      <th>score</th>\n",
       "    </tr>\n",
       "  </thead>\n",
       "  <tbody>\n",
       "    <tr>\n",
       "      <th>1</th>\n",
       "      <td>DesolatePsyche</td>\n",
       "      <td>Male</td>\n",
       "      <td>1994</td>\n",
       "      <td>Millenials</td>\n",
       "      <td>12403</td>\n",
       "      <td>6</td>\n",
       "    </tr>\n",
       "    <tr>\n",
       "      <th>6</th>\n",
       "      <td>DesolatePsyche</td>\n",
       "      <td>Male</td>\n",
       "      <td>1994</td>\n",
       "      <td>Millenials</td>\n",
       "      <td>30279</td>\n",
       "      <td>7</td>\n",
       "    </tr>\n",
       "    <tr>\n",
       "      <th>17</th>\n",
       "      <td>DesolatePsyche</td>\n",
       "      <td>Male</td>\n",
       "      <td>1994</td>\n",
       "      <td>Millenials</td>\n",
       "      <td>32281</td>\n",
       "      <td>9</td>\n",
       "    </tr>\n",
       "    <tr>\n",
       "      <th>22</th>\n",
       "      <td>DesolatePsyche</td>\n",
       "      <td>Male</td>\n",
       "      <td>1994</td>\n",
       "      <td>Millenials</td>\n",
       "      <td>31964</td>\n",
       "      <td>7</td>\n",
       "    </tr>\n",
       "    <tr>\n",
       "      <th>24</th>\n",
       "      <td>DesolatePsyche</td>\n",
       "      <td>Male</td>\n",
       "      <td>1994</td>\n",
       "      <td>Millenials</td>\n",
       "      <td>30015</td>\n",
       "      <td>9</td>\n",
       "    </tr>\n",
       "    <tr>\n",
       "      <th>...</th>\n",
       "      <td>...</td>\n",
       "      <td>...</td>\n",
       "      <td>...</td>\n",
       "      <td>...</td>\n",
       "      <td>...</td>\n",
       "      <td>...</td>\n",
       "    </tr>\n",
       "    <tr>\n",
       "      <th>243292</th>\n",
       "      <td>LCSeixas</td>\n",
       "      <td>Male</td>\n",
       "      <td>1997</td>\n",
       "      <td>Gen_Z</td>\n",
       "      <td>16934</td>\n",
       "      <td>6</td>\n",
       "    </tr>\n",
       "    <tr>\n",
       "      <th>243293</th>\n",
       "      <td>peterg</td>\n",
       "      <td>Male</td>\n",
       "      <td>1995</td>\n",
       "      <td>Millenials</td>\n",
       "      <td>14131</td>\n",
       "      <td>9</td>\n",
       "    </tr>\n",
       "    <tr>\n",
       "      <th>243294</th>\n",
       "      <td>Kuraiarashi</td>\n",
       "      <td>Male</td>\n",
       "      <td>1995</td>\n",
       "      <td>Millenials</td>\n",
       "      <td>14131</td>\n",
       "      <td>10</td>\n",
       "    </tr>\n",
       "    <tr>\n",
       "      <th>243295</th>\n",
       "      <td>that_one_axel</td>\n",
       "      <td>Male</td>\n",
       "      <td>1992</td>\n",
       "      <td>Millenials</td>\n",
       "      <td>14131</td>\n",
       "      <td>4</td>\n",
       "    </tr>\n",
       "    <tr>\n",
       "      <th>243296</th>\n",
       "      <td>nanru</td>\n",
       "      <td>Female</td>\n",
       "      <td>1996</td>\n",
       "      <td>Gen_Z</td>\n",
       "      <td>14131</td>\n",
       "      <td>7</td>\n",
       "    </tr>\n",
       "  </tbody>\n",
       "</table>\n",
       "<p>15502 rows × 6 columns</p>\n",
       "</div>"
      ],
      "text/plain": [
       "               profile  gender  birthday         Age  anime_uid  score\n",
       "1       DesolatePsyche    Male      1994  Millenials      12403      6\n",
       "6       DesolatePsyche    Male      1994  Millenials      30279      7\n",
       "17      DesolatePsyche    Male      1994  Millenials      32281      9\n",
       "22      DesolatePsyche    Male      1994  Millenials      31964      7\n",
       "24      DesolatePsyche    Male      1994  Millenials      30015      9\n",
       "...                ...     ...       ...         ...        ...    ...\n",
       "243292        LCSeixas    Male      1997       Gen_Z      16934      6\n",
       "243293          peterg    Male      1995  Millenials      14131      9\n",
       "243294     Kuraiarashi    Male      1995  Millenials      14131     10\n",
       "243295   that_one_axel    Male      1992  Millenials      14131      4\n",
       "243296           nanru  Female      1996       Gen_Z      14131      7\n",
       "\n",
       "[15502 rows x 6 columns]"
      ]
     },
     "execution_count": 15,
     "metadata": {},
     "output_type": "execute_result"
    }
   ],
   "source": [
    "df_school = df_anime_names[df_anime_names.school == True]\n",
    "df_school = df_school[['title', 'uid' ]]\n",
    "df_school\n",
    "school_list = df_school['uid'].tolist()\n",
    "df_reviews_school = df_merge_nodups[df_merge_nodups['anime_uid'].isin(school_list)]\n",
    "df_reviews_school"
   ]
  },
  {
   "cell_type": "code",
   "execution_count": 16,
   "metadata": {},
   "outputs": [
    {
     "data": {
      "text/html": [
       "<div>\n",
       "<style scoped>\n",
       "    .dataframe tbody tr th:only-of-type {\n",
       "        vertical-align: middle;\n",
       "    }\n",
       "\n",
       "    .dataframe tbody tr th {\n",
       "        vertical-align: top;\n",
       "    }\n",
       "\n",
       "    .dataframe thead th {\n",
       "        text-align: right;\n",
       "    }\n",
       "</style>\n",
       "<table border=\"1\" class=\"dataframe\">\n",
       "  <thead>\n",
       "    <tr style=\"text-align: right;\">\n",
       "      <th></th>\n",
       "      <th>profile</th>\n",
       "      <th>gender</th>\n",
       "      <th>birthday</th>\n",
       "      <th>Age</th>\n",
       "      <th>anime_uid</th>\n",
       "      <th>score</th>\n",
       "    </tr>\n",
       "  </thead>\n",
       "  <tbody>\n",
       "    <tr>\n",
       "      <th>0</th>\n",
       "      <td>DesolatePsyche</td>\n",
       "      <td>Male</td>\n",
       "      <td>1994</td>\n",
       "      <td>Millenials</td>\n",
       "      <td>34096</td>\n",
       "      <td>8</td>\n",
       "    </tr>\n",
       "    <tr>\n",
       "      <th>11</th>\n",
       "      <td>DesolatePsyche</td>\n",
       "      <td>Male</td>\n",
       "      <td>1994</td>\n",
       "      <td>Millenials</td>\n",
       "      <td>31812</td>\n",
       "      <td>8</td>\n",
       "    </tr>\n",
       "    <tr>\n",
       "      <th>13</th>\n",
       "      <td>DesolatePsyche</td>\n",
       "      <td>Male</td>\n",
       "      <td>1994</td>\n",
       "      <td>Millenials</td>\n",
       "      <td>12365</td>\n",
       "      <td>9</td>\n",
       "    </tr>\n",
       "    <tr>\n",
       "      <th>16</th>\n",
       "      <td>DesolatePsyche</td>\n",
       "      <td>Male</td>\n",
       "      <td>1994</td>\n",
       "      <td>Millenials</td>\n",
       "      <td>37491</td>\n",
       "      <td>10</td>\n",
       "    </tr>\n",
       "    <tr>\n",
       "      <th>20</th>\n",
       "      <td>DesolatePsyche</td>\n",
       "      <td>Male</td>\n",
       "      <td>1994</td>\n",
       "      <td>Millenials</td>\n",
       "      <td>205</td>\n",
       "      <td>8</td>\n",
       "    </tr>\n",
       "    <tr>\n",
       "      <th>...</th>\n",
       "      <td>...</td>\n",
       "      <td>...</td>\n",
       "      <td>...</td>\n",
       "      <td>...</td>\n",
       "      <td>...</td>\n",
       "      <td>...</td>\n",
       "    </tr>\n",
       "    <tr>\n",
       "      <th>243244</th>\n",
       "      <td>Sevealin</td>\n",
       "      <td>Male</td>\n",
       "      <td>1995</td>\n",
       "      <td>Millenials</td>\n",
       "      <td>6880</td>\n",
       "      <td>9</td>\n",
       "    </tr>\n",
       "    <tr>\n",
       "      <th>243245</th>\n",
       "      <td>SpiritGuns</td>\n",
       "      <td>Female</td>\n",
       "      <td>1994</td>\n",
       "      <td>Millenials</td>\n",
       "      <td>6880</td>\n",
       "      <td>9</td>\n",
       "    </tr>\n",
       "    <tr>\n",
       "      <th>243291</th>\n",
       "      <td>PinkiPockets</td>\n",
       "      <td>Female</td>\n",
       "      <td>1991</td>\n",
       "      <td>Millenials</td>\n",
       "      <td>34262</td>\n",
       "      <td>8</td>\n",
       "    </tr>\n",
       "    <tr>\n",
       "      <th>243297</th>\n",
       "      <td>lapinmagik</td>\n",
       "      <td>Male</td>\n",
       "      <td>1983</td>\n",
       "      <td>Millenials</td>\n",
       "      <td>10033</td>\n",
       "      <td>8</td>\n",
       "    </tr>\n",
       "    <tr>\n",
       "      <th>243298</th>\n",
       "      <td>Mad_Maestro</td>\n",
       "      <td>Male</td>\n",
       "      <td>1992</td>\n",
       "      <td>Millenials</td>\n",
       "      <td>10033</td>\n",
       "      <td>8</td>\n",
       "    </tr>\n",
       "  </tbody>\n",
       "</table>\n",
       "<p>13027 rows × 6 columns</p>\n",
       "</div>"
      ],
      "text/plain": [
       "               profile  gender  birthday         Age  anime_uid  score\n",
       "0       DesolatePsyche    Male      1994  Millenials      34096      8\n",
       "11      DesolatePsyche    Male      1994  Millenials      31812      8\n",
       "13      DesolatePsyche    Male      1994  Millenials      12365      9\n",
       "16      DesolatePsyche    Male      1994  Millenials      37491     10\n",
       "20      DesolatePsyche    Male      1994  Millenials        205      8\n",
       "...                ...     ...       ...         ...        ...    ...\n",
       "243244        Sevealin    Male      1995  Millenials       6880      9\n",
       "243245      SpiritGuns  Female      1994  Millenials       6880      9\n",
       "243291    PinkiPockets  Female      1991  Millenials      34262      8\n",
       "243297      lapinmagik    Male      1983  Millenials      10033      8\n",
       "243298     Mad_Maestro    Male      1992  Millenials      10033      8\n",
       "\n",
       "[13027 rows x 6 columns]"
      ]
     },
     "execution_count": 16,
     "metadata": {},
     "output_type": "execute_result"
    }
   ],
   "source": [
    "df_shounen = df_anime_names[df_anime_names.shounen == True]\n",
    "df_shounen = df_shounen[['title', 'uid' ]]\n",
    "df_shounen\n",
    "shounen_list = df_shounen['uid'].tolist()\n",
    "df_reviews_shounen = df_merge_nodups[df_merge_nodups['anime_uid'].isin(shounen_list)]\n",
    "df_reviews_shounen"
   ]
  },
  {
   "cell_type": "code",
   "execution_count": 17,
   "metadata": {},
   "outputs": [
    {
     "data": {
      "text/html": [
       "<div>\n",
       "<style scoped>\n",
       "    .dataframe tbody tr th:only-of-type {\n",
       "        vertical-align: middle;\n",
       "    }\n",
       "\n",
       "    .dataframe tbody tr th {\n",
       "        vertical-align: top;\n",
       "    }\n",
       "\n",
       "    .dataframe thead th {\n",
       "        text-align: right;\n",
       "    }\n",
       "</style>\n",
       "<table border=\"1\" class=\"dataframe\">\n",
       "  <thead>\n",
       "    <tr style=\"text-align: right;\">\n",
       "      <th></th>\n",
       "      <th>profile</th>\n",
       "      <th>gender</th>\n",
       "      <th>birthday</th>\n",
       "      <th>Age</th>\n",
       "      <th>anime_uid</th>\n",
       "      <th>score</th>\n",
       "    </tr>\n",
       "  </thead>\n",
       "  <tbody>\n",
       "    <tr>\n",
       "      <th>4</th>\n",
       "      <td>DesolatePsyche</td>\n",
       "      <td>Male</td>\n",
       "      <td>1994</td>\n",
       "      <td>Millenials</td>\n",
       "      <td>2035</td>\n",
       "      <td>8</td>\n",
       "    </tr>\n",
       "    <tr>\n",
       "      <th>8</th>\n",
       "      <td>DesolatePsyche</td>\n",
       "      <td>Male</td>\n",
       "      <td>1994</td>\n",
       "      <td>Millenials</td>\n",
       "      <td>31173</td>\n",
       "      <td>9</td>\n",
       "    </tr>\n",
       "    <tr>\n",
       "      <th>12</th>\n",
       "      <td>DesolatePsyche</td>\n",
       "      <td>Male</td>\n",
       "      <td>1994</td>\n",
       "      <td>Millenials</td>\n",
       "      <td>877</td>\n",
       "      <td>7</td>\n",
       "    </tr>\n",
       "    <tr>\n",
       "      <th>13</th>\n",
       "      <td>DesolatePsyche</td>\n",
       "      <td>Male</td>\n",
       "      <td>1994</td>\n",
       "      <td>Millenials</td>\n",
       "      <td>12365</td>\n",
       "      <td>9</td>\n",
       "    </tr>\n",
       "    <tr>\n",
       "      <th>17</th>\n",
       "      <td>DesolatePsyche</td>\n",
       "      <td>Male</td>\n",
       "      <td>1994</td>\n",
       "      <td>Millenials</td>\n",
       "      <td>32281</td>\n",
       "      <td>9</td>\n",
       "    </tr>\n",
       "    <tr>\n",
       "      <th>...</th>\n",
       "      <td>...</td>\n",
       "      <td>...</td>\n",
       "      <td>...</td>\n",
       "      <td>...</td>\n",
       "      <td>...</td>\n",
       "      <td>...</td>\n",
       "    </tr>\n",
       "    <tr>\n",
       "      <th>243280</th>\n",
       "      <td>Jaded_Millennial</td>\n",
       "      <td>Male</td>\n",
       "      <td>1994</td>\n",
       "      <td>Millenials</td>\n",
       "      <td>8676</td>\n",
       "      <td>6</td>\n",
       "    </tr>\n",
       "    <tr>\n",
       "      <th>243281</th>\n",
       "      <td>Random45</td>\n",
       "      <td>Male</td>\n",
       "      <td>1990</td>\n",
       "      <td>Millenials</td>\n",
       "      <td>8676</td>\n",
       "      <td>8</td>\n",
       "    </tr>\n",
       "    <tr>\n",
       "      <th>243282</th>\n",
       "      <td>FoamyFrog</td>\n",
       "      <td>Male</td>\n",
       "      <td>1993</td>\n",
       "      <td>Millenials</td>\n",
       "      <td>165</td>\n",
       "      <td>5</td>\n",
       "    </tr>\n",
       "    <tr>\n",
       "      <th>243283</th>\n",
       "      <td>Samurai_Wolf337</td>\n",
       "      <td>Male</td>\n",
       "      <td>1994</td>\n",
       "      <td>Millenials</td>\n",
       "      <td>8676</td>\n",
       "      <td>9</td>\n",
       "    </tr>\n",
       "    <tr>\n",
       "      <th>243292</th>\n",
       "      <td>LCSeixas</td>\n",
       "      <td>Male</td>\n",
       "      <td>1997</td>\n",
       "      <td>Gen_Z</td>\n",
       "      <td>16934</td>\n",
       "      <td>6</td>\n",
       "    </tr>\n",
       "  </tbody>\n",
       "</table>\n",
       "<p>19751 rows × 6 columns</p>\n",
       "</div>"
      ],
      "text/plain": [
       "                 profile gender  birthday         Age  anime_uid  score\n",
       "4         DesolatePsyche   Male      1994  Millenials       2035      8\n",
       "8         DesolatePsyche   Male      1994  Millenials      31173      9\n",
       "12        DesolatePsyche   Male      1994  Millenials        877      7\n",
       "13        DesolatePsyche   Male      1994  Millenials      12365      9\n",
       "17        DesolatePsyche   Male      1994  Millenials      32281      9\n",
       "...                  ...    ...       ...         ...        ...    ...\n",
       "243280  Jaded_Millennial   Male      1994  Millenials       8676      6\n",
       "243281          Random45   Male      1990  Millenials       8676      8\n",
       "243282         FoamyFrog   Male      1993  Millenials        165      5\n",
       "243283   Samurai_Wolf337   Male      1994  Millenials       8676      9\n",
       "243292          LCSeixas   Male      1997       Gen_Z      16934      6\n",
       "\n",
       "[19751 rows x 6 columns]"
      ]
     },
     "execution_count": 17,
     "metadata": {},
     "output_type": "execute_result"
    }
   ],
   "source": [
    "df_romance = df_anime_names[df_anime_names.romance == True]\n",
    "df_romance = df_romance[['title', 'uid' ]]\n",
    "df_romance\n",
    "romance_list = df_romance['uid'].tolist()\n",
    "df_reviews_romance = df_merge_nodups[df_merge_nodups['anime_uid'].isin(romance_list)]\n",
    "df_reviews_romance"
   ]
  },
  {
   "cell_type": "code",
   "execution_count": 18,
   "metadata": {},
   "outputs": [
    {
     "data": {
      "text/html": [
       "<div>\n",
       "<style scoped>\n",
       "    .dataframe tbody tr th:only-of-type {\n",
       "        vertical-align: middle;\n",
       "    }\n",
       "\n",
       "    .dataframe tbody tr th {\n",
       "        vertical-align: top;\n",
       "    }\n",
       "\n",
       "    .dataframe thead th {\n",
       "        text-align: right;\n",
       "    }\n",
       "</style>\n",
       "<table border=\"1\" class=\"dataframe\">\n",
       "  <thead>\n",
       "    <tr style=\"text-align: right;\">\n",
       "      <th></th>\n",
       "      <th>profile</th>\n",
       "      <th>gender</th>\n",
       "      <th>birthday</th>\n",
       "      <th>Age</th>\n",
       "      <th>anime_uid</th>\n",
       "      <th>score</th>\n",
       "    </tr>\n",
       "  </thead>\n",
       "  <tbody>\n",
       "    <tr>\n",
       "      <th>0</th>\n",
       "      <td>DesolatePsyche</td>\n",
       "      <td>Male</td>\n",
       "      <td>1994</td>\n",
       "      <td>Millenials</td>\n",
       "      <td>34096</td>\n",
       "      <td>8</td>\n",
       "    </tr>\n",
       "    <tr>\n",
       "      <th>5</th>\n",
       "      <td>DesolatePsyche</td>\n",
       "      <td>Male</td>\n",
       "      <td>1994</td>\n",
       "      <td>Millenials</td>\n",
       "      <td>24921</td>\n",
       "      <td>9</td>\n",
       "    </tr>\n",
       "    <tr>\n",
       "      <th>9</th>\n",
       "      <td>DesolatePsyche</td>\n",
       "      <td>Male</td>\n",
       "      <td>1994</td>\n",
       "      <td>Millenials</td>\n",
       "      <td>10153</td>\n",
       "      <td>7</td>\n",
       "    </tr>\n",
       "    <tr>\n",
       "      <th>16</th>\n",
       "      <td>DesolatePsyche</td>\n",
       "      <td>Male</td>\n",
       "      <td>1994</td>\n",
       "      <td>Millenials</td>\n",
       "      <td>37491</td>\n",
       "      <td>10</td>\n",
       "    </tr>\n",
       "    <tr>\n",
       "      <th>26</th>\n",
       "      <td>DesolatePsyche</td>\n",
       "      <td>Male</td>\n",
       "      <td>1994</td>\n",
       "      <td>Millenials</td>\n",
       "      <td>967</td>\n",
       "      <td>7</td>\n",
       "    </tr>\n",
       "    <tr>\n",
       "      <th>...</th>\n",
       "      <td>...</td>\n",
       "      <td>...</td>\n",
       "      <td>...</td>\n",
       "      <td>...</td>\n",
       "      <td>...</td>\n",
       "      <td>...</td>\n",
       "    </tr>\n",
       "    <tr>\n",
       "      <th>243278</th>\n",
       "      <td>hopp17</td>\n",
       "      <td>Male</td>\n",
       "      <td>1980</td>\n",
       "      <td>Gen_Z</td>\n",
       "      <td>165</td>\n",
       "      <td>10</td>\n",
       "    </tr>\n",
       "    <tr>\n",
       "      <th>243279</th>\n",
       "      <td>shnjji</td>\n",
       "      <td>Female</td>\n",
       "      <td>1998</td>\n",
       "      <td>Gen_Z</td>\n",
       "      <td>165</td>\n",
       "      <td>10</td>\n",
       "    </tr>\n",
       "    <tr>\n",
       "      <th>243282</th>\n",
       "      <td>FoamyFrog</td>\n",
       "      <td>Male</td>\n",
       "      <td>1993</td>\n",
       "      <td>Millenials</td>\n",
       "      <td>165</td>\n",
       "      <td>5</td>\n",
       "    </tr>\n",
       "    <tr>\n",
       "      <th>243286</th>\n",
       "      <td>BunnychuXO</td>\n",
       "      <td>Female</td>\n",
       "      <td>1990</td>\n",
       "      <td>Millenials</td>\n",
       "      <td>31</td>\n",
       "      <td>6</td>\n",
       "    </tr>\n",
       "    <tr>\n",
       "      <th>243287</th>\n",
       "      <td>Ultorskoss</td>\n",
       "      <td>Male</td>\n",
       "      <td>1990</td>\n",
       "      <td>Millenials</td>\n",
       "      <td>31</td>\n",
       "      <td>7</td>\n",
       "    </tr>\n",
       "  </tbody>\n",
       "</table>\n",
       "<p>13601 rows × 6 columns</p>\n",
       "</div>"
      ],
      "text/plain": [
       "               profile  gender  birthday         Age  anime_uid  score\n",
       "0       DesolatePsyche    Male      1994  Millenials      34096      8\n",
       "5       DesolatePsyche    Male      1994  Millenials      24921      9\n",
       "9       DesolatePsyche    Male      1994  Millenials      10153      7\n",
       "16      DesolatePsyche    Male      1994  Millenials      37491     10\n",
       "26      DesolatePsyche    Male      1994  Millenials        967      7\n",
       "...                ...     ...       ...         ...        ...    ...\n",
       "243278          hopp17    Male      1980       Gen_Z        165     10\n",
       "243279          shnjji  Female      1998       Gen_Z        165     10\n",
       "243282       FoamyFrog    Male      1993  Millenials        165      5\n",
       "243286      BunnychuXO  Female      1990  Millenials         31      6\n",
       "243287      Ultorskoss    Male      1990  Millenials         31      7\n",
       "\n",
       "[13601 rows x 6 columns]"
      ]
     },
     "execution_count": 18,
     "metadata": {},
     "output_type": "execute_result"
    }
   ],
   "source": [
    "df_sci_fi = df_anime_names[df_anime_names.sci_fi == True]\n",
    "df_sci_fi = df_sci_fi[['title', 'uid' ]]\n",
    "df_sci_fi\n",
    "sci_fi_list = df_sci_fi['uid'].tolist()\n",
    "df_reviews_sci_fi = df_merge_nodups[df_merge_nodups['anime_uid'].isin(sci_fi_list)]\n",
    "df_reviews_sci_fi"
   ]
  },
  {
   "cell_type": "code",
   "execution_count": 19,
   "metadata": {},
   "outputs": [
    {
     "data": {
      "text/html": [
       "<div>\n",
       "<style scoped>\n",
       "    .dataframe tbody tr th:only-of-type {\n",
       "        vertical-align: middle;\n",
       "    }\n",
       "\n",
       "    .dataframe tbody tr th {\n",
       "        vertical-align: top;\n",
       "    }\n",
       "\n",
       "    .dataframe thead th {\n",
       "        text-align: right;\n",
       "    }\n",
       "</style>\n",
       "<table border=\"1\" class=\"dataframe\">\n",
       "  <thead>\n",
       "    <tr style=\"text-align: right;\">\n",
       "      <th></th>\n",
       "      <th>profile</th>\n",
       "      <th>gender</th>\n",
       "      <th>birthday</th>\n",
       "      <th>Age</th>\n",
       "      <th>anime_uid</th>\n",
       "      <th>score</th>\n",
       "    </tr>\n",
       "  </thead>\n",
       "  <tbody>\n",
       "    <tr>\n",
       "      <th>2</th>\n",
       "      <td>DesolatePsyche</td>\n",
       "      <td>Male</td>\n",
       "      <td>1994</td>\n",
       "      <td>Millenials</td>\n",
       "      <td>35073</td>\n",
       "      <td>6</td>\n",
       "    </tr>\n",
       "    <tr>\n",
       "      <th>15</th>\n",
       "      <td>DesolatePsyche</td>\n",
       "      <td>Male</td>\n",
       "      <td>1994</td>\n",
       "      <td>Millenials</td>\n",
       "      <td>21939</td>\n",
       "      <td>9</td>\n",
       "    </tr>\n",
       "    <tr>\n",
       "      <th>20</th>\n",
       "      <td>DesolatePsyche</td>\n",
       "      <td>Male</td>\n",
       "      <td>1994</td>\n",
       "      <td>Millenials</td>\n",
       "      <td>205</td>\n",
       "      <td>8</td>\n",
       "    </tr>\n",
       "    <tr>\n",
       "      <th>21</th>\n",
       "      <td>DesolatePsyche</td>\n",
       "      <td>Male</td>\n",
       "      <td>1994</td>\n",
       "      <td>Millenials</td>\n",
       "      <td>32937</td>\n",
       "      <td>8</td>\n",
       "    </tr>\n",
       "    <tr>\n",
       "      <th>27</th>\n",
       "      <td>DesolatePsyche</td>\n",
       "      <td>Male</td>\n",
       "      <td>1994</td>\n",
       "      <td>Millenials</td>\n",
       "      <td>34599</td>\n",
       "      <td>8</td>\n",
       "    </tr>\n",
       "    <tr>\n",
       "      <th>...</th>\n",
       "      <td>...</td>\n",
       "      <td>...</td>\n",
       "      <td>...</td>\n",
       "      <td>...</td>\n",
       "      <td>...</td>\n",
       "      <td>...</td>\n",
       "    </tr>\n",
       "    <tr>\n",
       "      <th>243093</th>\n",
       "      <td>Nekkro</td>\n",
       "      <td>Male</td>\n",
       "      <td>1992</td>\n",
       "      <td>Millenials</td>\n",
       "      <td>4246</td>\n",
       "      <td>8</td>\n",
       "    </tr>\n",
       "    <tr>\n",
       "      <th>243094</th>\n",
       "      <td>fura</td>\n",
       "      <td>Male</td>\n",
       "      <td>1989</td>\n",
       "      <td>Millenials</td>\n",
       "      <td>4246</td>\n",
       "      <td>8</td>\n",
       "    </tr>\n",
       "    <tr>\n",
       "      <th>243266</th>\n",
       "      <td>HazelOwers</td>\n",
       "      <td>Female</td>\n",
       "      <td>1994</td>\n",
       "      <td>Millenials</td>\n",
       "      <td>1117</td>\n",
       "      <td>9</td>\n",
       "    </tr>\n",
       "    <tr>\n",
       "      <th>243297</th>\n",
       "      <td>lapinmagik</td>\n",
       "      <td>Male</td>\n",
       "      <td>1983</td>\n",
       "      <td>Millenials</td>\n",
       "      <td>10033</td>\n",
       "      <td>8</td>\n",
       "    </tr>\n",
       "    <tr>\n",
       "      <th>243298</th>\n",
       "      <td>Mad_Maestro</td>\n",
       "      <td>Male</td>\n",
       "      <td>1992</td>\n",
       "      <td>Millenials</td>\n",
       "      <td>10033</td>\n",
       "      <td>8</td>\n",
       "    </tr>\n",
       "  </tbody>\n",
       "</table>\n",
       "<p>12834 rows × 6 columns</p>\n",
       "</div>"
      ],
      "text/plain": [
       "               profile  gender  birthday         Age  anime_uid  score\n",
       "2       DesolatePsyche    Male      1994  Millenials      35073      6\n",
       "15      DesolatePsyche    Male      1994  Millenials      21939      9\n",
       "20      DesolatePsyche    Male      1994  Millenials        205      8\n",
       "21      DesolatePsyche    Male      1994  Millenials      32937      8\n",
       "27      DesolatePsyche    Male      1994  Millenials      34599      8\n",
       "...                ...     ...       ...         ...        ...    ...\n",
       "243093          Nekkro    Male      1992  Millenials       4246      8\n",
       "243094            fura    Male      1989  Millenials       4246      8\n",
       "243266      HazelOwers  Female      1994  Millenials       1117      9\n",
       "243297      lapinmagik    Male      1983  Millenials      10033      8\n",
       "243298     Mad_Maestro    Male      1992  Millenials      10033      8\n",
       "\n",
       "[12834 rows x 6 columns]"
      ]
     },
     "execution_count": 19,
     "metadata": {},
     "output_type": "execute_result"
    }
   ],
   "source": [
    "df_adventure = df_anime_names[df_anime_names.adventure == True]\n",
    "df_adventure = df_adventure[['title', 'uid' ]]\n",
    "df_adventure\n",
    "adventure_list = df_adventure['uid'].tolist()\n",
    "df_reviews_adventure = df_merge_nodups[df_merge_nodups['anime_uid'].isin(adventure_list)]\n",
    "df_reviews_adventure"
   ]
  },
  {
   "cell_type": "code",
   "execution_count": 20,
   "metadata": {},
   "outputs": [
    {
     "data": {
      "text/html": [
       "<div>\n",
       "<style scoped>\n",
       "    .dataframe tbody tr th:only-of-type {\n",
       "        vertical-align: middle;\n",
       "    }\n",
       "\n",
       "    .dataframe tbody tr th {\n",
       "        vertical-align: top;\n",
       "    }\n",
       "\n",
       "    .dataframe thead th {\n",
       "        text-align: right;\n",
       "    }\n",
       "</style>\n",
       "<table border=\"1\" class=\"dataframe\">\n",
       "  <thead>\n",
       "    <tr style=\"text-align: right;\">\n",
       "      <th></th>\n",
       "      <th>profile</th>\n",
       "      <th>gender</th>\n",
       "      <th>birthday</th>\n",
       "      <th>Age</th>\n",
       "      <th>anime_uid</th>\n",
       "      <th>score</th>\n",
       "    </tr>\n",
       "  </thead>\n",
       "  <tbody>\n",
       "    <tr>\n",
       "      <th>11</th>\n",
       "      <td>DesolatePsyche</td>\n",
       "      <td>Male</td>\n",
       "      <td>1994</td>\n",
       "      <td>Millenials</td>\n",
       "      <td>31812</td>\n",
       "      <td>8</td>\n",
       "    </tr>\n",
       "    <tr>\n",
       "      <th>14</th>\n",
       "      <td>DesolatePsyche</td>\n",
       "      <td>Male</td>\n",
       "      <td>1994</td>\n",
       "      <td>Millenials</td>\n",
       "      <td>19</td>\n",
       "      <td>8</td>\n",
       "    </tr>\n",
       "    <tr>\n",
       "      <th>15</th>\n",
       "      <td>DesolatePsyche</td>\n",
       "      <td>Male</td>\n",
       "      <td>1994</td>\n",
       "      <td>Millenials</td>\n",
       "      <td>21939</td>\n",
       "      <td>9</td>\n",
       "    </tr>\n",
       "    <tr>\n",
       "      <th>27</th>\n",
       "      <td>DesolatePsyche</td>\n",
       "      <td>Male</td>\n",
       "      <td>1994</td>\n",
       "      <td>Millenials</td>\n",
       "      <td>34599</td>\n",
       "      <td>8</td>\n",
       "    </tr>\n",
       "    <tr>\n",
       "      <th>28</th>\n",
       "      <td>DesolatePsyche</td>\n",
       "      <td>Male</td>\n",
       "      <td>1994</td>\n",
       "      <td>Millenials</td>\n",
       "      <td>1520</td>\n",
       "      <td>6</td>\n",
       "    </tr>\n",
       "    <tr>\n",
       "      <th>...</th>\n",
       "      <td>...</td>\n",
       "      <td>...</td>\n",
       "      <td>...</td>\n",
       "      <td>...</td>\n",
       "      <td>...</td>\n",
       "      <td>...</td>\n",
       "    </tr>\n",
       "    <tr>\n",
       "      <th>243282</th>\n",
       "      <td>FoamyFrog</td>\n",
       "      <td>Male</td>\n",
       "      <td>1993</td>\n",
       "      <td>Millenials</td>\n",
       "      <td>165</td>\n",
       "      <td>5</td>\n",
       "    </tr>\n",
       "    <tr>\n",
       "      <th>243299</th>\n",
       "      <td>omally</td>\n",
       "      <td>Male</td>\n",
       "      <td>1994</td>\n",
       "      <td>Millenials</td>\n",
       "      <td>2593</td>\n",
       "      <td>10</td>\n",
       "    </tr>\n",
       "    <tr>\n",
       "      <th>243300</th>\n",
       "      <td>Akuteru</td>\n",
       "      <td>Male</td>\n",
       "      <td>1993</td>\n",
       "      <td>Millenials</td>\n",
       "      <td>2593</td>\n",
       "      <td>9</td>\n",
       "    </tr>\n",
       "    <tr>\n",
       "      <th>243301</th>\n",
       "      <td>Razielek</td>\n",
       "      <td>Male</td>\n",
       "      <td>1986</td>\n",
       "      <td>Millenials</td>\n",
       "      <td>2593</td>\n",
       "      <td>7</td>\n",
       "    </tr>\n",
       "    <tr>\n",
       "      <th>243302</th>\n",
       "      <td>bridgesams</td>\n",
       "      <td>Male</td>\n",
       "      <td>2001</td>\n",
       "      <td>Gen_Z</td>\n",
       "      <td>2593</td>\n",
       "      <td>9</td>\n",
       "    </tr>\n",
       "  </tbody>\n",
       "</table>\n",
       "<p>8702 rows × 6 columns</p>\n",
       "</div>"
      ],
      "text/plain": [
       "               profile gender  birthday         Age  anime_uid  score\n",
       "11      DesolatePsyche   Male      1994  Millenials      31812      8\n",
       "14      DesolatePsyche   Male      1994  Millenials         19      8\n",
       "15      DesolatePsyche   Male      1994  Millenials      21939      9\n",
       "27      DesolatePsyche   Male      1994  Millenials      34599      8\n",
       "28      DesolatePsyche   Male      1994  Millenials       1520      6\n",
       "...                ...    ...       ...         ...        ...    ...\n",
       "243282       FoamyFrog   Male      1993  Millenials        165      5\n",
       "243299          omally   Male      1994  Millenials       2593     10\n",
       "243300         Akuteru   Male      1993  Millenials       2593      9\n",
       "243301        Razielek   Male      1986  Millenials       2593      7\n",
       "243302      bridgesams   Male      2001       Gen_Z       2593      9\n",
       "\n",
       "[8702 rows x 6 columns]"
      ]
     },
     "execution_count": 20,
     "metadata": {},
     "output_type": "execute_result"
    }
   ],
   "source": [
    "df_mystery = df_anime_names[df_anime_names.mystery == True]\n",
    "df_mystery = df_mystery[['title', 'uid' ]]\n",
    "df_mystery\n",
    "mystery_list = df_mystery['uid'].tolist()\n",
    "df_reviews_mystery = df_merge_nodups[df_merge_nodups['anime_uid'].isin(mystery_list)]\n",
    "df_reviews_mystery"
   ]
  },
  {
   "cell_type": "code",
   "execution_count": 21,
   "metadata": {},
   "outputs": [
    {
     "data": {
      "text/html": [
       "<div>\n",
       "<style scoped>\n",
       "    .dataframe tbody tr th:only-of-type {\n",
       "        vertical-align: middle;\n",
       "    }\n",
       "\n",
       "    .dataframe tbody tr th {\n",
       "        vertical-align: top;\n",
       "    }\n",
       "\n",
       "    .dataframe thead th {\n",
       "        text-align: right;\n",
       "    }\n",
       "</style>\n",
       "<table border=\"1\" class=\"dataframe\">\n",
       "  <thead>\n",
       "    <tr style=\"text-align: right;\">\n",
       "      <th></th>\n",
       "      <th>profile</th>\n",
       "      <th>gender</th>\n",
       "      <th>birthday</th>\n",
       "      <th>Age</th>\n",
       "      <th>anime_uid</th>\n",
       "      <th>score</th>\n",
       "    </tr>\n",
       "  </thead>\n",
       "  <tbody>\n",
       "    <tr>\n",
       "      <th>2</th>\n",
       "      <td>DesolatePsyche</td>\n",
       "      <td>Male</td>\n",
       "      <td>1994</td>\n",
       "      <td>Millenials</td>\n",
       "      <td>35073</td>\n",
       "      <td>6</td>\n",
       "    </tr>\n",
       "    <tr>\n",
       "      <th>11</th>\n",
       "      <td>DesolatePsyche</td>\n",
       "      <td>Male</td>\n",
       "      <td>1994</td>\n",
       "      <td>Millenials</td>\n",
       "      <td>31812</td>\n",
       "      <td>8</td>\n",
       "    </tr>\n",
       "    <tr>\n",
       "      <th>15</th>\n",
       "      <td>DesolatePsyche</td>\n",
       "      <td>Male</td>\n",
       "      <td>1994</td>\n",
       "      <td>Millenials</td>\n",
       "      <td>21939</td>\n",
       "      <td>9</td>\n",
       "    </tr>\n",
       "    <tr>\n",
       "      <th>17</th>\n",
       "      <td>DesolatePsyche</td>\n",
       "      <td>Male</td>\n",
       "      <td>1994</td>\n",
       "      <td>Millenials</td>\n",
       "      <td>32281</td>\n",
       "      <td>9</td>\n",
       "    </tr>\n",
       "    <tr>\n",
       "      <th>19</th>\n",
       "      <td>DesolatePsyche</td>\n",
       "      <td>Male</td>\n",
       "      <td>1994</td>\n",
       "      <td>Millenials</td>\n",
       "      <td>33674</td>\n",
       "      <td>10</td>\n",
       "    </tr>\n",
       "    <tr>\n",
       "      <th>...</th>\n",
       "      <td>...</td>\n",
       "      <td>...</td>\n",
       "      <td>...</td>\n",
       "      <td>...</td>\n",
       "      <td>...</td>\n",
       "      <td>...</td>\n",
       "    </tr>\n",
       "    <tr>\n",
       "      <th>243285</th>\n",
       "      <td>AishaPachia</td>\n",
       "      <td>Female</td>\n",
       "      <td>1991</td>\n",
       "      <td>Millenials</td>\n",
       "      <td>35828</td>\n",
       "      <td>5</td>\n",
       "    </tr>\n",
       "    <tr>\n",
       "      <th>243299</th>\n",
       "      <td>omally</td>\n",
       "      <td>Male</td>\n",
       "      <td>1994</td>\n",
       "      <td>Millenials</td>\n",
       "      <td>2593</td>\n",
       "      <td>10</td>\n",
       "    </tr>\n",
       "    <tr>\n",
       "      <th>243300</th>\n",
       "      <td>Akuteru</td>\n",
       "      <td>Male</td>\n",
       "      <td>1993</td>\n",
       "      <td>Millenials</td>\n",
       "      <td>2593</td>\n",
       "      <td>9</td>\n",
       "    </tr>\n",
       "    <tr>\n",
       "      <th>243301</th>\n",
       "      <td>Razielek</td>\n",
       "      <td>Male</td>\n",
       "      <td>1986</td>\n",
       "      <td>Millenials</td>\n",
       "      <td>2593</td>\n",
       "      <td>7</td>\n",
       "    </tr>\n",
       "    <tr>\n",
       "      <th>243302</th>\n",
       "      <td>bridgesams</td>\n",
       "      <td>Male</td>\n",
       "      <td>2001</td>\n",
       "      <td>Gen_Z</td>\n",
       "      <td>2593</td>\n",
       "      <td>9</td>\n",
       "    </tr>\n",
       "  </tbody>\n",
       "</table>\n",
       "<p>15453 rows × 6 columns</p>\n",
       "</div>"
      ],
      "text/plain": [
       "               profile  gender  birthday         Age  anime_uid  score\n",
       "2       DesolatePsyche    Male      1994  Millenials      35073      6\n",
       "11      DesolatePsyche    Male      1994  Millenials      31812      8\n",
       "15      DesolatePsyche    Male      1994  Millenials      21939      9\n",
       "17      DesolatePsyche    Male      1994  Millenials      32281      9\n",
       "19      DesolatePsyche    Male      1994  Millenials      33674     10\n",
       "...                ...     ...       ...         ...        ...    ...\n",
       "243285     AishaPachia  Female      1991  Millenials      35828      5\n",
       "243299          omally    Male      1994  Millenials       2593     10\n",
       "243300         Akuteru    Male      1993  Millenials       2593      9\n",
       "243301        Razielek    Male      1986  Millenials       2593      7\n",
       "243302      bridgesams    Male      2001       Gen_Z       2593      9\n",
       "\n",
       "[15453 rows x 6 columns]"
      ]
     },
     "execution_count": 21,
     "metadata": {},
     "output_type": "execute_result"
    }
   ],
   "source": [
    "df_supernatural = df_anime_names[df_anime_names.supernatural == True]\n",
    "df_supernatural = df_supernatural[['title', 'uid' ]]\n",
    "df_supernatural\n",
    "supernatural_list = df_supernatural['uid'].tolist()\n",
    "df_reviews_supernatural = df_merge_nodups[df_merge_nodups['anime_uid'].isin(supernatural_list)]\n",
    "df_reviews_supernatural"
   ]
  },
  {
   "cell_type": "code",
   "execution_count": 22,
   "metadata": {},
   "outputs": [
    {
     "data": {
      "text/html": [
       "<div>\n",
       "<style scoped>\n",
       "    .dataframe tbody tr th:only-of-type {\n",
       "        vertical-align: middle;\n",
       "    }\n",
       "\n",
       "    .dataframe tbody tr th {\n",
       "        vertical-align: top;\n",
       "    }\n",
       "\n",
       "    .dataframe thead th {\n",
       "        text-align: right;\n",
       "    }\n",
       "</style>\n",
       "<table border=\"1\" class=\"dataframe\">\n",
       "  <thead>\n",
       "    <tr style=\"text-align: right;\">\n",
       "      <th></th>\n",
       "      <th>profile</th>\n",
       "      <th>gender</th>\n",
       "      <th>birthday</th>\n",
       "      <th>Age</th>\n",
       "      <th>anime_uid</th>\n",
       "      <th>score</th>\n",
       "    </tr>\n",
       "  </thead>\n",
       "  <tbody>\n",
       "    <tr>\n",
       "      <th>81</th>\n",
       "      <td>DesolatePsyche</td>\n",
       "      <td>Male</td>\n",
       "      <td>1994</td>\n",
       "      <td>Millenials</td>\n",
       "      <td>21177</td>\n",
       "      <td>4</td>\n",
       "    </tr>\n",
       "    <tr>\n",
       "      <th>96</th>\n",
       "      <td>DesolatePsyche</td>\n",
       "      <td>Male</td>\n",
       "      <td>1994</td>\n",
       "      <td>Millenials</td>\n",
       "      <td>25731</td>\n",
       "      <td>7</td>\n",
       "    </tr>\n",
       "    <tr>\n",
       "      <th>136</th>\n",
       "      <td>DesolatePsyche</td>\n",
       "      <td>Male</td>\n",
       "      <td>1994</td>\n",
       "      <td>Millenials</td>\n",
       "      <td>27829</td>\n",
       "      <td>8</td>\n",
       "    </tr>\n",
       "    <tr>\n",
       "      <th>850</th>\n",
       "      <td>jchang</td>\n",
       "      <td>Male</td>\n",
       "      <td>1992</td>\n",
       "      <td>Millenials</td>\n",
       "      <td>2904</td>\n",
       "      <td>10</td>\n",
       "    </tr>\n",
       "    <tr>\n",
       "      <th>862</th>\n",
       "      <td>jchang</td>\n",
       "      <td>Male</td>\n",
       "      <td>1992</td>\n",
       "      <td>Millenials</td>\n",
       "      <td>2001</td>\n",
       "      <td>9</td>\n",
       "    </tr>\n",
       "    <tr>\n",
       "      <th>...</th>\n",
       "      <td>...</td>\n",
       "      <td>...</td>\n",
       "      <td>...</td>\n",
       "      <td>...</td>\n",
       "      <td>...</td>\n",
       "      <td>...</td>\n",
       "    </tr>\n",
       "    <tr>\n",
       "      <th>243278</th>\n",
       "      <td>hopp17</td>\n",
       "      <td>Male</td>\n",
       "      <td>1980</td>\n",
       "      <td>Gen_Z</td>\n",
       "      <td>165</td>\n",
       "      <td>10</td>\n",
       "    </tr>\n",
       "    <tr>\n",
       "      <th>243279</th>\n",
       "      <td>shnjji</td>\n",
       "      <td>Female</td>\n",
       "      <td>1998</td>\n",
       "      <td>Gen_Z</td>\n",
       "      <td>165</td>\n",
       "      <td>10</td>\n",
       "    </tr>\n",
       "    <tr>\n",
       "      <th>243282</th>\n",
       "      <td>FoamyFrog</td>\n",
       "      <td>Male</td>\n",
       "      <td>1993</td>\n",
       "      <td>Millenials</td>\n",
       "      <td>165</td>\n",
       "      <td>5</td>\n",
       "    </tr>\n",
       "    <tr>\n",
       "      <th>243286</th>\n",
       "      <td>BunnychuXO</td>\n",
       "      <td>Female</td>\n",
       "      <td>1990</td>\n",
       "      <td>Millenials</td>\n",
       "      <td>31</td>\n",
       "      <td>6</td>\n",
       "    </tr>\n",
       "    <tr>\n",
       "      <th>243287</th>\n",
       "      <td>Ultorskoss</td>\n",
       "      <td>Male</td>\n",
       "      <td>1990</td>\n",
       "      <td>Millenials</td>\n",
       "      <td>31</td>\n",
       "      <td>7</td>\n",
       "    </tr>\n",
       "  </tbody>\n",
       "</table>\n",
       "<p>4904 rows × 6 columns</p>\n",
       "</div>"
      ],
      "text/plain": [
       "               profile  gender  birthday         Age  anime_uid  score\n",
       "81      DesolatePsyche    Male      1994  Millenials      21177      4\n",
       "96      DesolatePsyche    Male      1994  Millenials      25731      7\n",
       "136     DesolatePsyche    Male      1994  Millenials      27829      8\n",
       "850             jchang    Male      1992  Millenials       2904     10\n",
       "862             jchang    Male      1992  Millenials       2001      9\n",
       "...                ...     ...       ...         ...        ...    ...\n",
       "243278          hopp17    Male      1980       Gen_Z        165     10\n",
       "243279          shnjji  Female      1998       Gen_Z        165     10\n",
       "243282       FoamyFrog    Male      1993  Millenials        165      5\n",
       "243286      BunnychuXO  Female      1990  Millenials         31      6\n",
       "243287      Ultorskoss    Male      1990  Millenials         31      7\n",
       "\n",
       "[4904 rows x 6 columns]"
      ]
     },
     "execution_count": 22,
     "metadata": {},
     "output_type": "execute_result"
    }
   ],
   "source": [
    "df_mecha = df_anime_names[df_anime_names.mecha == True]\n",
    "df_mecha = df_mecha[['title', 'uid' ]]\n",
    "df_mecha\n",
    "mecha_list = df_mecha['uid'].tolist()\n",
    "df_reviews_mecha = df_merge_nodups[df_merge_nodups['anime_uid'].isin(mecha_list)]\n",
    "df_reviews_mecha"
   ]
  },
  {
   "cell_type": "code",
   "execution_count": 23,
   "metadata": {},
   "outputs": [
    {
     "data": {
      "text/html": [
       "<div>\n",
       "<style scoped>\n",
       "    .dataframe tbody tr th:only-of-type {\n",
       "        vertical-align: middle;\n",
       "    }\n",
       "\n",
       "    .dataframe tbody tr th {\n",
       "        vertical-align: top;\n",
       "    }\n",
       "\n",
       "    .dataframe thead th {\n",
       "        text-align: right;\n",
       "    }\n",
       "</style>\n",
       "<table border=\"1\" class=\"dataframe\">\n",
       "  <thead>\n",
       "    <tr style=\"text-align: right;\">\n",
       "      <th></th>\n",
       "      <th>profile</th>\n",
       "      <th>gender</th>\n",
       "      <th>birthday</th>\n",
       "      <th>Age</th>\n",
       "      <th>anime_uid</th>\n",
       "      <th>score</th>\n",
       "    </tr>\n",
       "  </thead>\n",
       "  <tbody>\n",
       "    <tr>\n",
       "      <th>2</th>\n",
       "      <td>DesolatePsyche</td>\n",
       "      <td>Male</td>\n",
       "      <td>1994</td>\n",
       "      <td>Millenials</td>\n",
       "      <td>35073</td>\n",
       "      <td>6</td>\n",
       "    </tr>\n",
       "    <tr>\n",
       "      <th>11</th>\n",
       "      <td>DesolatePsyche</td>\n",
       "      <td>Male</td>\n",
       "      <td>1994</td>\n",
       "      <td>Millenials</td>\n",
       "      <td>31812</td>\n",
       "      <td>8</td>\n",
       "    </tr>\n",
       "    <tr>\n",
       "      <th>15</th>\n",
       "      <td>DesolatePsyche</td>\n",
       "      <td>Male</td>\n",
       "      <td>1994</td>\n",
       "      <td>Millenials</td>\n",
       "      <td>21939</td>\n",
       "      <td>9</td>\n",
       "    </tr>\n",
       "    <tr>\n",
       "      <th>17</th>\n",
       "      <td>DesolatePsyche</td>\n",
       "      <td>Male</td>\n",
       "      <td>1994</td>\n",
       "      <td>Millenials</td>\n",
       "      <td>32281</td>\n",
       "      <td>9</td>\n",
       "    </tr>\n",
       "    <tr>\n",
       "      <th>19</th>\n",
       "      <td>DesolatePsyche</td>\n",
       "      <td>Male</td>\n",
       "      <td>1994</td>\n",
       "      <td>Millenials</td>\n",
       "      <td>33674</td>\n",
       "      <td>10</td>\n",
       "    </tr>\n",
       "    <tr>\n",
       "      <th>...</th>\n",
       "      <td>...</td>\n",
       "      <td>...</td>\n",
       "      <td>...</td>\n",
       "      <td>...</td>\n",
       "      <td>...</td>\n",
       "      <td>...</td>\n",
       "    </tr>\n",
       "    <tr>\n",
       "      <th>243285</th>\n",
       "      <td>AishaPachia</td>\n",
       "      <td>Female</td>\n",
       "      <td>1991</td>\n",
       "      <td>Millenials</td>\n",
       "      <td>35828</td>\n",
       "      <td>5</td>\n",
       "    </tr>\n",
       "    <tr>\n",
       "      <th>243299</th>\n",
       "      <td>omally</td>\n",
       "      <td>Male</td>\n",
       "      <td>1994</td>\n",
       "      <td>Millenials</td>\n",
       "      <td>2593</td>\n",
       "      <td>10</td>\n",
       "    </tr>\n",
       "    <tr>\n",
       "      <th>243300</th>\n",
       "      <td>Akuteru</td>\n",
       "      <td>Male</td>\n",
       "      <td>1993</td>\n",
       "      <td>Millenials</td>\n",
       "      <td>2593</td>\n",
       "      <td>9</td>\n",
       "    </tr>\n",
       "    <tr>\n",
       "      <th>243301</th>\n",
       "      <td>Razielek</td>\n",
       "      <td>Male</td>\n",
       "      <td>1986</td>\n",
       "      <td>Millenials</td>\n",
       "      <td>2593</td>\n",
       "      <td>7</td>\n",
       "    </tr>\n",
       "    <tr>\n",
       "      <th>243302</th>\n",
       "      <td>bridgesams</td>\n",
       "      <td>Male</td>\n",
       "      <td>2001</td>\n",
       "      <td>Gen_Z</td>\n",
       "      <td>2593</td>\n",
       "      <td>9</td>\n",
       "    </tr>\n",
       "  </tbody>\n",
       "</table>\n",
       "<p>15453 rows × 6 columns</p>\n",
       "</div>"
      ],
      "text/plain": [
       "               profile  gender  birthday         Age  anime_uid  score\n",
       "2       DesolatePsyche    Male      1994  Millenials      35073      6\n",
       "11      DesolatePsyche    Male      1994  Millenials      31812      8\n",
       "15      DesolatePsyche    Male      1994  Millenials      21939      9\n",
       "17      DesolatePsyche    Male      1994  Millenials      32281      9\n",
       "19      DesolatePsyche    Male      1994  Millenials      33674     10\n",
       "...                ...     ...       ...         ...        ...    ...\n",
       "243285     AishaPachia  Female      1991  Millenials      35828      5\n",
       "243299          omally    Male      1994  Millenials       2593     10\n",
       "243300         Akuteru    Male      1993  Millenials       2593      9\n",
       "243301        Razielek    Male      1986  Millenials       2593      7\n",
       "243302      bridgesams    Male      2001       Gen_Z       2593      9\n",
       "\n",
       "[15453 rows x 6 columns]"
      ]
     },
     "execution_count": 23,
     "metadata": {},
     "output_type": "execute_result"
    }
   ],
   "source": [
    "df_historical = df_anime_names[df_anime_names.historical == True]\n",
    "df_historical = df_historical[['title', 'uid' ]]\n",
    "df_historical\n",
    "historical_list = df_historical['uid'].tolist()\n",
    "df_reviews_historical = df_merge_nodups[df_merge_nodups['anime_uid'].isin(supernatural_list)]\n",
    "df_reviews_historical"
   ]
  },
  {
   "cell_type": "code",
   "execution_count": 24,
   "metadata": {},
   "outputs": [
    {
     "data": {
      "text/html": [
       "<div>\n",
       "<style scoped>\n",
       "    .dataframe tbody tr th:only-of-type {\n",
       "        vertical-align: middle;\n",
       "    }\n",
       "\n",
       "    .dataframe tbody tr th {\n",
       "        vertical-align: top;\n",
       "    }\n",
       "\n",
       "    .dataframe thead th {\n",
       "        text-align: right;\n",
       "    }\n",
       "</style>\n",
       "<table border=\"1\" class=\"dataframe\">\n",
       "  <thead>\n",
       "    <tr style=\"text-align: right;\">\n",
       "      <th></th>\n",
       "      <th>profile</th>\n",
       "      <th>gender</th>\n",
       "      <th>birthday</th>\n",
       "      <th>Age</th>\n",
       "      <th>anime_uid</th>\n",
       "      <th>score</th>\n",
       "    </tr>\n",
       "  </thead>\n",
       "  <tbody>\n",
       "    <tr>\n",
       "      <th>7</th>\n",
       "      <td>DesolatePsyche</td>\n",
       "      <td>Male</td>\n",
       "      <td>1994</td>\n",
       "      <td>Millenials</td>\n",
       "      <td>77</td>\n",
       "      <td>7</td>\n",
       "    </tr>\n",
       "    <tr>\n",
       "      <th>22</th>\n",
       "      <td>DesolatePsyche</td>\n",
       "      <td>Male</td>\n",
       "      <td>1994</td>\n",
       "      <td>Millenials</td>\n",
       "      <td>31964</td>\n",
       "      <td>7</td>\n",
       "    </tr>\n",
       "    <tr>\n",
       "      <th>41</th>\n",
       "      <td>DesolatePsyche</td>\n",
       "      <td>Male</td>\n",
       "      <td>1994</td>\n",
       "      <td>Millenials</td>\n",
       "      <td>1915</td>\n",
       "      <td>5</td>\n",
       "    </tr>\n",
       "    <tr>\n",
       "      <th>63</th>\n",
       "      <td>DesolatePsyche</td>\n",
       "      <td>Male</td>\n",
       "      <td>1994</td>\n",
       "      <td>Millenials</td>\n",
       "      <td>1356</td>\n",
       "      <td>5</td>\n",
       "    </tr>\n",
       "    <tr>\n",
       "      <th>73</th>\n",
       "      <td>DesolatePsyche</td>\n",
       "      <td>Male</td>\n",
       "      <td>1994</td>\n",
       "      <td>Millenials</td>\n",
       "      <td>7580</td>\n",
       "      <td>7</td>\n",
       "    </tr>\n",
       "    <tr>\n",
       "      <th>...</th>\n",
       "      <td>...</td>\n",
       "      <td>...</td>\n",
       "      <td>...</td>\n",
       "      <td>...</td>\n",
       "      <td>...</td>\n",
       "      <td>...</td>\n",
       "    </tr>\n",
       "    <tr>\n",
       "      <th>243051</th>\n",
       "      <td>Kudoku</td>\n",
       "      <td>Male</td>\n",
       "      <td>1993</td>\n",
       "      <td>Millenials</td>\n",
       "      <td>5079</td>\n",
       "      <td>8</td>\n",
       "    </tr>\n",
       "    <tr>\n",
       "      <th>243054</th>\n",
       "      <td>TauntingBeat</td>\n",
       "      <td>Male</td>\n",
       "      <td>1994</td>\n",
       "      <td>Millenials</td>\n",
       "      <td>5079</td>\n",
       "      <td>5</td>\n",
       "    </tr>\n",
       "    <tr>\n",
       "      <th>243055</th>\n",
       "      <td>sashimee-kenna</td>\n",
       "      <td>Female</td>\n",
       "      <td>1992</td>\n",
       "      <td>Millenials</td>\n",
       "      <td>5079</td>\n",
       "      <td>10</td>\n",
       "    </tr>\n",
       "    <tr>\n",
       "      <th>243259</th>\n",
       "      <td>Hakuyou</td>\n",
       "      <td>Male</td>\n",
       "      <td>1991</td>\n",
       "      <td>Millenials</td>\n",
       "      <td>20689</td>\n",
       "      <td>9</td>\n",
       "    </tr>\n",
       "    <tr>\n",
       "      <th>243260</th>\n",
       "      <td>Naoki__</td>\n",
       "      <td>Male</td>\n",
       "      <td>1990</td>\n",
       "      <td>Millenials</td>\n",
       "      <td>20689</td>\n",
       "      <td>1</td>\n",
       "    </tr>\n",
       "  </tbody>\n",
       "</table>\n",
       "<p>5603 rows × 6 columns</p>\n",
       "</div>"
      ],
      "text/plain": [
       "               profile  gender  birthday         Age  anime_uid  score\n",
       "7       DesolatePsyche    Male      1994  Millenials         77      7\n",
       "22      DesolatePsyche    Male      1994  Millenials      31964      7\n",
       "41      DesolatePsyche    Male      1994  Millenials       1915      5\n",
       "63      DesolatePsyche    Male      1994  Millenials       1356      5\n",
       "73      DesolatePsyche    Male      1994  Millenials       7580      7\n",
       "...                ...     ...       ...         ...        ...    ...\n",
       "243051          Kudoku    Male      1993  Millenials       5079      8\n",
       "243054    TauntingBeat    Male      1994  Millenials       5079      5\n",
       "243055  sashimee-kenna  Female      1992  Millenials       5079     10\n",
       "243259         Hakuyou    Male      1991  Millenials      20689      9\n",
       "243260         Naoki__    Male      1990  Millenials      20689      1\n",
       "\n",
       "[5603 rows x 6 columns]"
      ]
     },
     "execution_count": 24,
     "metadata": {},
     "output_type": "execute_result"
    }
   ],
   "source": [
    "df_super_power = df_anime_names[df_anime_names.super_power == True]\n",
    "df_super_power = df_super_power[['title', 'uid' ]]\n",
    "df_super_power\n",
    "super_power_list = df_super_power['uid'].tolist()\n",
    "df_reviews_super_power = df_merge_nodups[df_merge_nodups['anime_uid'].isin(super_power_list)]\n",
    "df_reviews_super_power"
   ]
  },
  {
   "cell_type": "code",
   "execution_count": 25,
   "metadata": {},
   "outputs": [
    {
     "data": {
      "text/html": [
       "<div>\n",
       "<style scoped>\n",
       "    .dataframe tbody tr th:only-of-type {\n",
       "        vertical-align: middle;\n",
       "    }\n",
       "\n",
       "    .dataframe tbody tr th {\n",
       "        vertical-align: top;\n",
       "    }\n",
       "\n",
       "    .dataframe thead th {\n",
       "        text-align: right;\n",
       "    }\n",
       "</style>\n",
       "<table border=\"1\" class=\"dataframe\">\n",
       "  <thead>\n",
       "    <tr style=\"text-align: right;\">\n",
       "      <th></th>\n",
       "      <th>profile</th>\n",
       "      <th>gender</th>\n",
       "      <th>birthday</th>\n",
       "      <th>Age</th>\n",
       "      <th>anime_uid</th>\n",
       "      <th>score</th>\n",
       "    </tr>\n",
       "  </thead>\n",
       "  <tbody>\n",
       "    <tr>\n",
       "      <th>2</th>\n",
       "      <td>DesolatePsyche</td>\n",
       "      <td>Male</td>\n",
       "      <td>1994</td>\n",
       "      <td>Millenials</td>\n",
       "      <td>35073</td>\n",
       "      <td>6</td>\n",
       "    </tr>\n",
       "    <tr>\n",
       "      <th>8</th>\n",
       "      <td>DesolatePsyche</td>\n",
       "      <td>Male</td>\n",
       "      <td>1994</td>\n",
       "      <td>Millenials</td>\n",
       "      <td>31173</td>\n",
       "      <td>9</td>\n",
       "    </tr>\n",
       "    <tr>\n",
       "      <th>10</th>\n",
       "      <td>DesolatePsyche</td>\n",
       "      <td>Male</td>\n",
       "      <td>1994</td>\n",
       "      <td>Millenials</td>\n",
       "      <td>31240</td>\n",
       "      <td>9</td>\n",
       "    </tr>\n",
       "    <tr>\n",
       "      <th>15</th>\n",
       "      <td>DesolatePsyche</td>\n",
       "      <td>Male</td>\n",
       "      <td>1994</td>\n",
       "      <td>Millenials</td>\n",
       "      <td>21939</td>\n",
       "      <td>9</td>\n",
       "    </tr>\n",
       "    <tr>\n",
       "      <th>18</th>\n",
       "      <td>DesolatePsyche</td>\n",
       "      <td>Male</td>\n",
       "      <td>1994</td>\n",
       "      <td>Millenials</td>\n",
       "      <td>33352</td>\n",
       "      <td>10</td>\n",
       "    </tr>\n",
       "    <tr>\n",
       "      <th>...</th>\n",
       "      <td>...</td>\n",
       "      <td>...</td>\n",
       "      <td>...</td>\n",
       "      <td>...</td>\n",
       "      <td>...</td>\n",
       "      <td>...</td>\n",
       "    </tr>\n",
       "    <tr>\n",
       "      <th>243270</th>\n",
       "      <td>Jimmy2233</td>\n",
       "      <td>Male</td>\n",
       "      <td>1990</td>\n",
       "      <td>Millenials</td>\n",
       "      <td>16009</td>\n",
       "      <td>5</td>\n",
       "    </tr>\n",
       "    <tr>\n",
       "      <th>243271</th>\n",
       "      <td>GU357</td>\n",
       "      <td>Male</td>\n",
       "      <td>1993</td>\n",
       "      <td>Millenials</td>\n",
       "      <td>16009</td>\n",
       "      <td>9</td>\n",
       "    </tr>\n",
       "    <tr>\n",
       "      <th>243272</th>\n",
       "      <td>ScytheShinigami</td>\n",
       "      <td>Female</td>\n",
       "      <td>1999</td>\n",
       "      <td>Gen_Z</td>\n",
       "      <td>16009</td>\n",
       "      <td>8</td>\n",
       "    </tr>\n",
       "    <tr>\n",
       "      <th>243297</th>\n",
       "      <td>lapinmagik</td>\n",
       "      <td>Male</td>\n",
       "      <td>1983</td>\n",
       "      <td>Millenials</td>\n",
       "      <td>10033</td>\n",
       "      <td>8</td>\n",
       "    </tr>\n",
       "    <tr>\n",
       "      <th>243298</th>\n",
       "      <td>Mad_Maestro</td>\n",
       "      <td>Male</td>\n",
       "      <td>1992</td>\n",
       "      <td>Millenials</td>\n",
       "      <td>10033</td>\n",
       "      <td>8</td>\n",
       "    </tr>\n",
       "  </tbody>\n",
       "</table>\n",
       "<p>15069 rows × 6 columns</p>\n",
       "</div>"
      ],
      "text/plain": [
       "                profile  gender  birthday         Age  anime_uid  score\n",
       "2        DesolatePsyche    Male      1994  Millenials      35073      6\n",
       "8        DesolatePsyche    Male      1994  Millenials      31173      9\n",
       "10       DesolatePsyche    Male      1994  Millenials      31240      9\n",
       "15       DesolatePsyche    Male      1994  Millenials      21939      9\n",
       "18       DesolatePsyche    Male      1994  Millenials      33352     10\n",
       "...                 ...     ...       ...         ...        ...    ...\n",
       "243270        Jimmy2233    Male      1990  Millenials      16009      5\n",
       "243271            GU357    Male      1993  Millenials      16009      9\n",
       "243272  ScytheShinigami  Female      1999       Gen_Z      16009      8\n",
       "243297       lapinmagik    Male      1983  Millenials      10033      8\n",
       "243298      Mad_Maestro    Male      1992  Millenials      10033      8\n",
       "\n",
       "[15069 rows x 6 columns]"
      ]
     },
     "execution_count": 25,
     "metadata": {},
     "output_type": "execute_result"
    }
   ],
   "source": [
    "df_fantasy = df_anime_names[df_anime_names.fantasy == True]\n",
    "df_fantasy = df_fantasy [['title', 'uid' ]]\n",
    "fantasy_list = df_fantasy ['uid'].tolist()\n",
    "df_reviews_fantasy = df_merge_nodups[df_merge_nodups['anime_uid'].isin(fantasy_list)]\n",
    "df_reviews_fantasy"
   ]
  },
  {
   "cell_type": "code",
   "execution_count": 26,
   "metadata": {},
   "outputs": [
    {
     "data": {
      "text/html": [
       "<div>\n",
       "<style scoped>\n",
       "    .dataframe tbody tr th:only-of-type {\n",
       "        vertical-align: middle;\n",
       "    }\n",
       "\n",
       "    .dataframe tbody tr th {\n",
       "        vertical-align: top;\n",
       "    }\n",
       "\n",
       "    .dataframe thead th {\n",
       "        text-align: right;\n",
       "    }\n",
       "</style>\n",
       "<table border=\"1\" class=\"dataframe\">\n",
       "  <thead>\n",
       "    <tr style=\"text-align: right;\">\n",
       "      <th></th>\n",
       "      <th>profile</th>\n",
       "      <th>gender</th>\n",
       "      <th>birthday</th>\n",
       "      <th>Age</th>\n",
       "      <th>anime_uid</th>\n",
       "      <th>score</th>\n",
       "    </tr>\n",
       "  </thead>\n",
       "  <tbody>\n",
       "    <tr>\n",
       "      <th>1</th>\n",
       "      <td>DesolatePsyche</td>\n",
       "      <td>Male</td>\n",
       "      <td>1994</td>\n",
       "      <td>Millenials</td>\n",
       "      <td>12403</td>\n",
       "      <td>6</td>\n",
       "    </tr>\n",
       "    <tr>\n",
       "      <th>3</th>\n",
       "      <td>DesolatePsyche</td>\n",
       "      <td>Male</td>\n",
       "      <td>1994</td>\n",
       "      <td>Millenials</td>\n",
       "      <td>23225</td>\n",
       "      <td>7</td>\n",
       "    </tr>\n",
       "    <tr>\n",
       "      <th>4</th>\n",
       "      <td>DesolatePsyche</td>\n",
       "      <td>Male</td>\n",
       "      <td>1994</td>\n",
       "      <td>Millenials</td>\n",
       "      <td>2035</td>\n",
       "      <td>8</td>\n",
       "    </tr>\n",
       "    <tr>\n",
       "      <th>6</th>\n",
       "      <td>DesolatePsyche</td>\n",
       "      <td>Male</td>\n",
       "      <td>1994</td>\n",
       "      <td>Millenials</td>\n",
       "      <td>30279</td>\n",
       "      <td>7</td>\n",
       "    </tr>\n",
       "    <tr>\n",
       "      <th>12</th>\n",
       "      <td>DesolatePsyche</td>\n",
       "      <td>Male</td>\n",
       "      <td>1994</td>\n",
       "      <td>Millenials</td>\n",
       "      <td>877</td>\n",
       "      <td>7</td>\n",
       "    </tr>\n",
       "    <tr>\n",
       "      <th>...</th>\n",
       "      <td>...</td>\n",
       "      <td>...</td>\n",
       "      <td>...</td>\n",
       "      <td>...</td>\n",
       "      <td>...</td>\n",
       "      <td>...</td>\n",
       "    </tr>\n",
       "    <tr>\n",
       "      <th>243283</th>\n",
       "      <td>Samurai_Wolf337</td>\n",
       "      <td>Male</td>\n",
       "      <td>1994</td>\n",
       "      <td>Millenials</td>\n",
       "      <td>8676</td>\n",
       "      <td>9</td>\n",
       "    </tr>\n",
       "    <tr>\n",
       "      <th>243284</th>\n",
       "      <td>Mattios</td>\n",
       "      <td>Male</td>\n",
       "      <td>1996</td>\n",
       "      <td>Gen_Z</td>\n",
       "      <td>35828</td>\n",
       "      <td>10</td>\n",
       "    </tr>\n",
       "    <tr>\n",
       "      <th>243285</th>\n",
       "      <td>AishaPachia</td>\n",
       "      <td>Female</td>\n",
       "      <td>1991</td>\n",
       "      <td>Millenials</td>\n",
       "      <td>35828</td>\n",
       "      <td>5</td>\n",
       "    </tr>\n",
       "    <tr>\n",
       "      <th>243291</th>\n",
       "      <td>PinkiPockets</td>\n",
       "      <td>Female</td>\n",
       "      <td>1991</td>\n",
       "      <td>Millenials</td>\n",
       "      <td>34262</td>\n",
       "      <td>8</td>\n",
       "    </tr>\n",
       "    <tr>\n",
       "      <th>243292</th>\n",
       "      <td>LCSeixas</td>\n",
       "      <td>Male</td>\n",
       "      <td>1997</td>\n",
       "      <td>Gen_Z</td>\n",
       "      <td>16934</td>\n",
       "      <td>6</td>\n",
       "    </tr>\n",
       "  </tbody>\n",
       "</table>\n",
       "<p>10494 rows × 6 columns</p>\n",
       "</div>"
      ],
      "text/plain": [
       "                profile  gender  birthday         Age  anime_uid  score\n",
       "1        DesolatePsyche    Male      1994  Millenials      12403      6\n",
       "3        DesolatePsyche    Male      1994  Millenials      23225      7\n",
       "4        DesolatePsyche    Male      1994  Millenials       2035      8\n",
       "6        DesolatePsyche    Male      1994  Millenials      30279      7\n",
       "12       DesolatePsyche    Male      1994  Millenials        877      7\n",
       "...                 ...     ...       ...         ...        ...    ...\n",
       "243283  Samurai_Wolf337    Male      1994  Millenials       8676      9\n",
       "243284          Mattios    Male      1996       Gen_Z      35828     10\n",
       "243285      AishaPachia  Female      1991  Millenials      35828      5\n",
       "243291     PinkiPockets  Female      1991  Millenials      34262      8\n",
       "243292         LCSeixas    Male      1997       Gen_Z      16934      6\n",
       "\n",
       "[10494 rows x 6 columns]"
      ]
     },
     "execution_count": 26,
     "metadata": {},
     "output_type": "execute_result"
    }
   ],
   "source": [
    "df_slice = df_anime_names[df_anime_names.slice_of_life == True]\n",
    "df_slice= df_slice[['title', 'uid' ]]\n",
    "slice_list = df_slice ['uid'].tolist()\n",
    "df_reviews_slice = df_merge_nodups[df_merge_nodups['anime_uid'].isin(slice_list)]\n",
    "df_reviews_slice"
   ]
  },
  {
   "cell_type": "code",
   "execution_count": 27,
   "metadata": {},
   "outputs": [
    {
     "data": {
      "text/html": [
       "<div>\n",
       "<style scoped>\n",
       "    .dataframe tbody tr th:only-of-type {\n",
       "        vertical-align: middle;\n",
       "    }\n",
       "\n",
       "    .dataframe tbody tr th {\n",
       "        vertical-align: top;\n",
       "    }\n",
       "\n",
       "    .dataframe thead th {\n",
       "        text-align: right;\n",
       "    }\n",
       "</style>\n",
       "<table border=\"1\" class=\"dataframe\">\n",
       "  <thead>\n",
       "    <tr style=\"text-align: right;\">\n",
       "      <th></th>\n",
       "      <th>profile</th>\n",
       "      <th>gender</th>\n",
       "      <th>birthday</th>\n",
       "      <th>Age</th>\n",
       "      <th>anime_uid</th>\n",
       "      <th>score</th>\n",
       "    </tr>\n",
       "  </thead>\n",
       "  <tbody>\n",
       "    <tr>\n",
       "      <th>1</th>\n",
       "      <td>DesolatePsyche</td>\n",
       "      <td>Male</td>\n",
       "      <td>1994</td>\n",
       "      <td>Millenials</td>\n",
       "      <td>12403</td>\n",
       "      <td>6</td>\n",
       "    </tr>\n",
       "    <tr>\n",
       "      <th>3</th>\n",
       "      <td>DesolatePsyche</td>\n",
       "      <td>Male</td>\n",
       "      <td>1994</td>\n",
       "      <td>Millenials</td>\n",
       "      <td>23225</td>\n",
       "      <td>7</td>\n",
       "    </tr>\n",
       "    <tr>\n",
       "      <th>6</th>\n",
       "      <td>DesolatePsyche</td>\n",
       "      <td>Male</td>\n",
       "      <td>1994</td>\n",
       "      <td>Millenials</td>\n",
       "      <td>30279</td>\n",
       "      <td>7</td>\n",
       "    </tr>\n",
       "    <tr>\n",
       "      <th>8</th>\n",
       "      <td>DesolatePsyche</td>\n",
       "      <td>Male</td>\n",
       "      <td>1994</td>\n",
       "      <td>Millenials</td>\n",
       "      <td>31173</td>\n",
       "      <td>9</td>\n",
       "    </tr>\n",
       "    <tr>\n",
       "      <th>12</th>\n",
       "      <td>DesolatePsyche</td>\n",
       "      <td>Male</td>\n",
       "      <td>1994</td>\n",
       "      <td>Millenials</td>\n",
       "      <td>877</td>\n",
       "      <td>7</td>\n",
       "    </tr>\n",
       "    <tr>\n",
       "      <th>...</th>\n",
       "      <td>...</td>\n",
       "      <td>...</td>\n",
       "      <td>...</td>\n",
       "      <td>...</td>\n",
       "      <td>...</td>\n",
       "      <td>...</td>\n",
       "    </tr>\n",
       "    <tr>\n",
       "      <th>243155</th>\n",
       "      <td>TheRealRedRaven</td>\n",
       "      <td>Female</td>\n",
       "      <td>1999</td>\n",
       "      <td>Gen_Z</td>\n",
       "      <td>10321</td>\n",
       "      <td>8</td>\n",
       "    </tr>\n",
       "    <tr>\n",
       "      <th>243156</th>\n",
       "      <td>nekomakenma</td>\n",
       "      <td>Female</td>\n",
       "      <td>2001</td>\n",
       "      <td>Gen_Z</td>\n",
       "      <td>10321</td>\n",
       "      <td>5</td>\n",
       "    </tr>\n",
       "    <tr>\n",
       "      <th>243157</th>\n",
       "      <td>Shuru10</td>\n",
       "      <td>Female</td>\n",
       "      <td>1998</td>\n",
       "      <td>Gen_Z</td>\n",
       "      <td>10321</td>\n",
       "      <td>6</td>\n",
       "    </tr>\n",
       "    <tr>\n",
       "      <th>243158</th>\n",
       "      <td>IngevanSon</td>\n",
       "      <td>Female</td>\n",
       "      <td>1998</td>\n",
       "      <td>Gen_Z</td>\n",
       "      <td>10321</td>\n",
       "      <td>8</td>\n",
       "    </tr>\n",
       "    <tr>\n",
       "      <th>243159</th>\n",
       "      <td>teoelena34</td>\n",
       "      <td>Female</td>\n",
       "      <td>1998</td>\n",
       "      <td>Gen_Z</td>\n",
       "      <td>10321</td>\n",
       "      <td>3</td>\n",
       "    </tr>\n",
       "  </tbody>\n",
       "</table>\n",
       "<p>4432 rows × 6 columns</p>\n",
       "</div>"
      ],
      "text/plain": [
       "                profile  gender  birthday         Age  anime_uid  score\n",
       "1        DesolatePsyche    Male      1994  Millenials      12403      6\n",
       "3        DesolatePsyche    Male      1994  Millenials      23225      7\n",
       "6        DesolatePsyche    Male      1994  Millenials      30279      7\n",
       "8        DesolatePsyche    Male      1994  Millenials      31173      9\n",
       "12       DesolatePsyche    Male      1994  Millenials        877      7\n",
       "...                 ...     ...       ...         ...        ...    ...\n",
       "243155  TheRealRedRaven  Female      1999       Gen_Z      10321      8\n",
       "243156      nekomakenma  Female      2001       Gen_Z      10321      5\n",
       "243157          Shuru10  Female      1998       Gen_Z      10321      6\n",
       "243158       IngevanSon  Female      1998       Gen_Z      10321      8\n",
       "243159       teoelena34  Female      1998       Gen_Z      10321      3\n",
       "\n",
       "[4432 rows x 6 columns]"
      ]
     },
     "execution_count": 27,
     "metadata": {},
     "output_type": "execute_result"
    }
   ],
   "source": [
    "df_shoujo= df_anime_names[df_anime_names.shoujo == True]\n",
    "df_shoujo= df_shoujo[['title', 'uid' ]]\n",
    "shoujo_list = df_shoujo ['uid'].tolist()\n",
    "df_reviews_shoujo = df_merge_nodups[df_merge_nodups['anime_uid'].isin(shoujo_list)]\n",
    "df_reviews_shoujo"
   ]
  },
  {
   "cell_type": "code",
   "execution_count": 28,
   "metadata": {},
   "outputs": [
    {
     "data": {
      "text/html": [
       "<div>\n",
       "<style scoped>\n",
       "    .dataframe tbody tr th:only-of-type {\n",
       "        vertical-align: middle;\n",
       "    }\n",
       "\n",
       "    .dataframe tbody tr th {\n",
       "        vertical-align: top;\n",
       "    }\n",
       "\n",
       "    .dataframe thead th {\n",
       "        text-align: right;\n",
       "    }\n",
       "</style>\n",
       "<table border=\"1\" class=\"dataframe\">\n",
       "  <thead>\n",
       "    <tr style=\"text-align: right;\">\n",
       "      <th></th>\n",
       "      <th>profile</th>\n",
       "      <th>gender</th>\n",
       "      <th>birthday</th>\n",
       "      <th>Age</th>\n",
       "      <th>anime_uid</th>\n",
       "      <th>score</th>\n",
       "    </tr>\n",
       "  </thead>\n",
       "  <tbody>\n",
       "    <tr>\n",
       "      <th>14</th>\n",
       "      <td>DesolatePsyche</td>\n",
       "      <td>Male</td>\n",
       "      <td>1994</td>\n",
       "      <td>Millenials</td>\n",
       "      <td>19</td>\n",
       "      <td>8</td>\n",
       "    </tr>\n",
       "    <tr>\n",
       "      <th>997</th>\n",
       "      <td>angelsreview</td>\n",
       "      <td>Female</td>\n",
       "      <td>1989</td>\n",
       "      <td>Millenials</td>\n",
       "      <td>1571</td>\n",
       "      <td>8</td>\n",
       "    </tr>\n",
       "    <tr>\n",
       "      <th>1018</th>\n",
       "      <td>angelsreview</td>\n",
       "      <td>Female</td>\n",
       "      <td>1989</td>\n",
       "      <td>Millenials</td>\n",
       "      <td>47</td>\n",
       "      <td>7</td>\n",
       "    </tr>\n",
       "    <tr>\n",
       "      <th>1035</th>\n",
       "      <td>angelsreview</td>\n",
       "      <td>Female</td>\n",
       "      <td>1989</td>\n",
       "      <td>Millenials</td>\n",
       "      <td>7724</td>\n",
       "      <td>8</td>\n",
       "    </tr>\n",
       "    <tr>\n",
       "      <th>1050</th>\n",
       "      <td>angelsreview</td>\n",
       "      <td>Female</td>\n",
       "      <td>1989</td>\n",
       "      <td>Millenials</td>\n",
       "      <td>150</td>\n",
       "      <td>6</td>\n",
       "    </tr>\n",
       "    <tr>\n",
       "      <th>...</th>\n",
       "      <td>...</td>\n",
       "      <td>...</td>\n",
       "      <td>...</td>\n",
       "      <td>...</td>\n",
       "      <td>...</td>\n",
       "      <td>...</td>\n",
       "    </tr>\n",
       "    <tr>\n",
       "      <th>243241</th>\n",
       "      <td>Elmar_Sauro</td>\n",
       "      <td>Male</td>\n",
       "      <td>1998</td>\n",
       "      <td>Gen_Z</td>\n",
       "      <td>6880</td>\n",
       "      <td>10</td>\n",
       "    </tr>\n",
       "    <tr>\n",
       "      <th>243242</th>\n",
       "      <td>iceyprototype</td>\n",
       "      <td>Male</td>\n",
       "      <td>1999</td>\n",
       "      <td>Gen_Z</td>\n",
       "      <td>6880</td>\n",
       "      <td>8</td>\n",
       "    </tr>\n",
       "    <tr>\n",
       "      <th>243243</th>\n",
       "      <td>Ixillius</td>\n",
       "      <td>Male</td>\n",
       "      <td>1989</td>\n",
       "      <td>Millenials</td>\n",
       "      <td>6880</td>\n",
       "      <td>1</td>\n",
       "    </tr>\n",
       "    <tr>\n",
       "      <th>243244</th>\n",
       "      <td>Sevealin</td>\n",
       "      <td>Male</td>\n",
       "      <td>1995</td>\n",
       "      <td>Millenials</td>\n",
       "      <td>6880</td>\n",
       "      <td>9</td>\n",
       "    </tr>\n",
       "    <tr>\n",
       "      <th>243245</th>\n",
       "      <td>SpiritGuns</td>\n",
       "      <td>Female</td>\n",
       "      <td>1994</td>\n",
       "      <td>Millenials</td>\n",
       "      <td>6880</td>\n",
       "      <td>9</td>\n",
       "    </tr>\n",
       "  </tbody>\n",
       "</table>\n",
       "<p>4798 rows × 6 columns</p>\n",
       "</div>"
      ],
      "text/plain": [
       "               profile  gender  birthday         Age  anime_uid  score\n",
       "14      DesolatePsyche    Male      1994  Millenials         19      8\n",
       "997       angelsreview  Female      1989  Millenials       1571      8\n",
       "1018      angelsreview  Female      1989  Millenials         47      7\n",
       "1035      angelsreview  Female      1989  Millenials       7724      8\n",
       "1050      angelsreview  Female      1989  Millenials        150      6\n",
       "...                ...     ...       ...         ...        ...    ...\n",
       "243241     Elmar_Sauro    Male      1998       Gen_Z       6880     10\n",
       "243242   iceyprototype    Male      1999       Gen_Z       6880      8\n",
       "243243        Ixillius    Male      1989  Millenials       6880      1\n",
       "243244        Sevealin    Male      1995  Millenials       6880      9\n",
       "243245      SpiritGuns  Female      1994  Millenials       6880      9\n",
       "\n",
       "[4798 rows x 6 columns]"
      ]
     },
     "execution_count": 28,
     "metadata": {},
     "output_type": "execute_result"
    }
   ],
   "source": [
    "df_horror= df_anime_names[df_anime_names.horror == True]\n",
    "df_horror= df_horror[['title', 'uid' ]]\n",
    "horror_list = df_horror ['uid'].tolist()\n",
    "df_reviews_horror= df_merge_nodups[df_merge_nodups['anime_uid'].isin(horror_list)]\n",
    "df_reviews_horror"
   ]
  },
  {
   "cell_type": "code",
   "execution_count": 95,
   "metadata": {},
   "outputs": [
    {
     "data": {
      "text/html": [
       "<div>\n",
       "<style scoped>\n",
       "    .dataframe tbody tr th:only-of-type {\n",
       "        vertical-align: middle;\n",
       "    }\n",
       "\n",
       "    .dataframe tbody tr th {\n",
       "        vertical-align: top;\n",
       "    }\n",
       "\n",
       "    .dataframe thead th {\n",
       "        text-align: right;\n",
       "    }\n",
       "</style>\n",
       "<table border=\"1\" class=\"dataframe\">\n",
       "  <thead>\n",
       "    <tr style=\"text-align: right;\">\n",
       "      <th></th>\n",
       "      <th>profile</th>\n",
       "      <th>gender</th>\n",
       "      <th>birthday</th>\n",
       "      <th>Age</th>\n",
       "      <th>anime_uid</th>\n",
       "      <th>score</th>\n",
       "    </tr>\n",
       "  </thead>\n",
       "  <tbody>\n",
       "    <tr>\n",
       "      <th>64</th>\n",
       "      <td>DesolatePsyche</td>\n",
       "      <td>Male</td>\n",
       "      <td>1994</td>\n",
       "      <td>Millenials</td>\n",
       "      <td>33487</td>\n",
       "      <td>7</td>\n",
       "    </tr>\n",
       "    <tr>\n",
       "      <th>65</th>\n",
       "      <td>DesolatePsyche</td>\n",
       "      <td>Male</td>\n",
       "      <td>1994</td>\n",
       "      <td>Millenials</td>\n",
       "      <td>24703</td>\n",
       "      <td>8</td>\n",
       "    </tr>\n",
       "    <tr>\n",
       "      <th>69</th>\n",
       "      <td>DesolatePsyche</td>\n",
       "      <td>Male</td>\n",
       "      <td>1994</td>\n",
       "      <td>Millenials</td>\n",
       "      <td>28979</td>\n",
       "      <td>9</td>\n",
       "    </tr>\n",
       "    <tr>\n",
       "      <th>94</th>\n",
       "      <td>DesolatePsyche</td>\n",
       "      <td>Male</td>\n",
       "      <td>1994</td>\n",
       "      <td>Millenials</td>\n",
       "      <td>4720</td>\n",
       "      <td>4</td>\n",
       "    </tr>\n",
       "    <tr>\n",
       "      <th>101</th>\n",
       "      <td>DesolatePsyche</td>\n",
       "      <td>Male</td>\n",
       "      <td>1994</td>\n",
       "      <td>Millenials</td>\n",
       "      <td>35203</td>\n",
       "      <td>7</td>\n",
       "    </tr>\n",
       "    <tr>\n",
       "      <th>...</th>\n",
       "      <td>...</td>\n",
       "      <td>...</td>\n",
       "      <td>...</td>\n",
       "      <td>...</td>\n",
       "      <td>...</td>\n",
       "      <td>...</td>\n",
       "    </tr>\n",
       "    <tr>\n",
       "      <th>243155</th>\n",
       "      <td>TheRealRedRaven</td>\n",
       "      <td>Female</td>\n",
       "      <td>1999</td>\n",
       "      <td>Gen_Z</td>\n",
       "      <td>10321</td>\n",
       "      <td>8</td>\n",
       "    </tr>\n",
       "    <tr>\n",
       "      <th>243156</th>\n",
       "      <td>nekomakenma</td>\n",
       "      <td>Female</td>\n",
       "      <td>2001</td>\n",
       "      <td>Gen_Z</td>\n",
       "      <td>10321</td>\n",
       "      <td>5</td>\n",
       "    </tr>\n",
       "    <tr>\n",
       "      <th>243157</th>\n",
       "      <td>Shuru10</td>\n",
       "      <td>Female</td>\n",
       "      <td>1998</td>\n",
       "      <td>Gen_Z</td>\n",
       "      <td>10321</td>\n",
       "      <td>6</td>\n",
       "    </tr>\n",
       "    <tr>\n",
       "      <th>243158</th>\n",
       "      <td>IngevanSon</td>\n",
       "      <td>Female</td>\n",
       "      <td>1998</td>\n",
       "      <td>Gen_Z</td>\n",
       "      <td>10321</td>\n",
       "      <td>8</td>\n",
       "    </tr>\n",
       "    <tr>\n",
       "      <th>243159</th>\n",
       "      <td>teoelena34</td>\n",
       "      <td>Female</td>\n",
       "      <td>1998</td>\n",
       "      <td>Gen_Z</td>\n",
       "      <td>10321</td>\n",
       "      <td>3</td>\n",
       "    </tr>\n",
       "  </tbody>\n",
       "</table>\n",
       "<p>4765 rows × 6 columns</p>\n",
       "</div>"
      ],
      "text/plain": [
       "                profile  gender  birthday         Age  anime_uid  score\n",
       "64       DesolatePsyche    Male      1994  Millenials      33487      7\n",
       "65       DesolatePsyche    Male      1994  Millenials      24703      8\n",
       "69       DesolatePsyche    Male      1994  Millenials      28979      9\n",
       "94       DesolatePsyche    Male      1994  Millenials       4720      4\n",
       "101      DesolatePsyche    Male      1994  Millenials      35203      7\n",
       "...                 ...     ...       ...         ...        ...    ...\n",
       "243155  TheRealRedRaven  Female      1999       Gen_Z      10321      8\n",
       "243156      nekomakenma  Female      2001       Gen_Z      10321      5\n",
       "243157          Shuru10  Female      1998       Gen_Z      10321      6\n",
       "243158       IngevanSon  Female      1998       Gen_Z      10321      8\n",
       "243159       teoelena34  Female      1998       Gen_Z      10321      3\n",
       "\n",
       "[4765 rows x 6 columns]"
      ]
     },
     "execution_count": 95,
     "metadata": {},
     "output_type": "execute_result"
    }
   ],
   "source": [
    "df_harem= df_anime_names[df_anime_names.harem == True]\n",
    "df_harem= df_harem[['title', 'uid' ]]\n",
    "harem_list = df_harem ['uid'].tolist()\n",
    "df_reviews_harem= df_merge_nodups[df_merge_nodups['anime_uid'].isin(harem_list)]\n",
    "df_reviews_harem\n"
   ]
  },
  {
   "cell_type": "markdown",
   "metadata": {},
   "source": [
    "# Data Analysis & Results"
   ]
  },
  {
   "cell_type": "markdown",
   "metadata": {},
   "source": [
    "We ended up averaging the scores in each genre, for both Gen-Z and Millenials. We printed them, as well as showed two graphs. The first graph shows the proportion of Gen-Z'ers or Millenials that gave a score within that genre, and the second shows the average score of the entire genre.\n",
    "\n"
   ]
  },
  {
   "cell_type": "code",
   "execution_count": 30,
   "metadata": {},
   "outputs": [
    {
     "data": {
      "text/plain": [
       "<AxesSubplot:xlabel='score', ylabel='proportion'>"
      ]
     },
     "execution_count": 30,
     "metadata": {},
     "output_type": "execute_result"
    },
    {
     "data": {
      "image/png": "[encoded data removed]",
      "text/plain": [
       "<Figure size 432x288 with 1 Axes>"
      ]
     },
     "metadata": {
      "needs_background": "light"
     },
     "output_type": "display_data"
    }
   ],
   "source": [
    "comedy_prop = df_reviews_comedy.groupby('Age')['score'].value_counts(normalize=True).rename(\"proportion\").reset_index()\n",
    "sns.barplot(x = 'score', y = 'proportion' , hue = 'Age', data = comedy_prop, palette = \"crest\" )"
   ]
  },
  {
   "cell_type": "code",
   "execution_count": 31,
   "metadata": {},
   "outputs": [
    {
     "data": {
      "text/html": [
       "<div>\n",
       "<style scoped>\n",
       "    .dataframe tbody tr th:only-of-type {\n",
       "        vertical-align: middle;\n",
       "    }\n",
       "\n",
       "    .dataframe tbody tr th {\n",
       "        vertical-align: top;\n",
       "    }\n",
       "\n",
       "    .dataframe thead th {\n",
       "        text-align: right;\n",
       "    }\n",
       "</style>\n",
       "<table border=\"1\" class=\"dataframe\">\n",
       "  <thead>\n",
       "    <tr style=\"text-align: right;\">\n",
       "      <th></th>\n",
       "      <th>Age</th>\n",
       "      <th>score</th>\n",
       "    </tr>\n",
       "  </thead>\n",
       "  <tbody>\n",
       "    <tr>\n",
       "      <th>0</th>\n",
       "      <td>Gen_Z</td>\n",
       "      <td>7.695085</td>\n",
       "    </tr>\n",
       "    <tr>\n",
       "      <th>1</th>\n",
       "      <td>Millenials</td>\n",
       "      <td>7.544193</td>\n",
       "    </tr>\n",
       "  </tbody>\n",
       "</table>\n",
       "</div>"
      ],
      "text/plain": [
       "          Age     score\n",
       "0       Gen_Z  7.695085\n",
       "1  Millenials  7.544193"
      ]
     },
     "execution_count": 31,
     "metadata": {},
     "output_type": "execute_result"
    },
    {
     "data": {
      "image/png": "[encoded data removed]",
      "text/plain": [
       "<Figure size 432x288 with 1 Axes>"
      ]
     },
     "metadata": {
      "needs_background": "light"
     },
     "output_type": "display_data"
    }
   ],
   "source": [
    "overall_comedy = df_reviews_comedy.groupby('Age', as_index=False)['score'].mean()\n",
    "overall_comedy_plot = sns.barplot(x = 'Age', y = 'score', data = overall_comedy, palette = \"crest\")\n",
    "plt.ylim(0, 10)\n",
    "overall_comedy"
   ]
  },
  {
   "cell_type": "code",
   "execution_count": 99,
   "metadata": {},
   "outputs": [
    {
     "data": {
      "text/plain": [
       "<AxesSubplot:xlabel='score', ylabel='proportion'>"
      ]
     },
     "execution_count": 99,
     "metadata": {},
     "output_type": "execute_result"
    },
    {
     "data": {
      "image/png": "[encoded data removed]",
      "text/plain": [
       "<Figure size 432x288 with 1 Axes>"
      ]
     },
     "metadata": {
      "needs_background": "light"
     },
     "output_type": "display_data"
    }
   ],
   "source": [
    "action_prop = df_reviews_action.groupby('Age')['score'].value_counts(normalize=True).rename(\"proportion\").reset_index()\n",
    "sns.barplot(x = 'score', y = 'proportion' , hue = 'Age', data = action_prop, palette = \"Set2\" )"
   ]
  },
  {
   "cell_type": "code",
   "execution_count": 100,
   "metadata": {},
   "outputs": [
    {
     "data": {
      "text/html": [
       "<div>\n",
       "<style scoped>\n",
       "    .dataframe tbody tr th:only-of-type {\n",
       "        vertical-align: middle;\n",
       "    }\n",
       "\n",
       "    .dataframe tbody tr th {\n",
       "        vertical-align: top;\n",
       "    }\n",
       "\n",
       "    .dataframe thead th {\n",
       "        text-align: right;\n",
       "    }\n",
       "</style>\n",
       "<table border=\"1\" class=\"dataframe\">\n",
       "  <thead>\n",
       "    <tr style=\"text-align: right;\">\n",
       "      <th></th>\n",
       "      <th>Age</th>\n",
       "      <th>score</th>\n",
       "    </tr>\n",
       "  </thead>\n",
       "  <tbody>\n",
       "    <tr>\n",
       "      <th>0</th>\n",
       "      <td>Gen_Z</td>\n",
       "      <td>7.370713</td>\n",
       "    </tr>\n",
       "    <tr>\n",
       "      <th>1</th>\n",
       "      <td>Millenials</td>\n",
       "      <td>7.284483</td>\n",
       "    </tr>\n",
       "  </tbody>\n",
       "</table>\n",
       "</div>"
      ],
      "text/plain": [
       "          Age     score\n",
       "0       Gen_Z  7.370713\n",
       "1  Millenials  7.284483"
      ]
     },
     "execution_count": 100,
     "metadata": {},
     "output_type": "execute_result"
    },
    {
     "data": {
      "image/png": "[encoded data removed]",
      "text/plain": [
       "<Figure size 432x288 with 1 Axes>"
      ]
     },
     "metadata": {
      "needs_background": "light"
     },
     "output_type": "display_data"
    }
   ],
   "source": [
    "overall_action = df_reviews_action.groupby('Age', as_index=False)['score'].mean()\n",
    "overall_action_plot = sns.barplot(x = 'Age', y = 'score', data = overall_action, palette = \"Set2\")\n",
    "plt.ylim(0, 10)\n",
    "overall_action"
   ]
  },
  {
   "cell_type": "code",
   "execution_count": 101,
   "metadata": {},
   "outputs": [
    {
     "data": {
      "text/plain": [
       "<AxesSubplot:xlabel='score', ylabel='proportion'>"
      ]
     },
     "execution_count": 101,
     "metadata": {},
     "output_type": "execute_result"
    },
    {
     "data": {
      "image/png": "[encoded data removed]",
      "text/plain": [
       "<Figure size 432x288 with 1 Axes>"
      ]
     },
     "metadata": {
      "needs_background": "light"
     },
     "output_type": "display_data"
    }
   ],
   "source": [
    "sports_prop = df_reviews_sports.groupby('Age')['score'].value_counts(normalize=True).rename(\"proportion\").reset_index()\n",
    "sns.barplot(x = 'score', y = 'proportion' , hue = 'Age', data = sports_prop, palette = \"Set3\" )"
   ]
  },
  {
   "cell_type": "code",
   "execution_count": 102,
   "metadata": {},
   "outputs": [
    {
     "data": {
      "text/html": [
       "<div>\n",
       "<style scoped>\n",
       "    .dataframe tbody tr th:only-of-type {\n",
       "        vertical-align: middle;\n",
       "    }\n",
       "\n",
       "    .dataframe tbody tr th {\n",
       "        vertical-align: top;\n",
       "    }\n",
       "\n",
       "    .dataframe thead th {\n",
       "        text-align: right;\n",
       "    }\n",
       "</style>\n",
       "<table border=\"1\" class=\"dataframe\">\n",
       "  <thead>\n",
       "    <tr style=\"text-align: right;\">\n",
       "      <th></th>\n",
       "      <th>Age</th>\n",
       "      <th>score</th>\n",
       "    </tr>\n",
       "  </thead>\n",
       "  <tbody>\n",
       "    <tr>\n",
       "      <th>0</th>\n",
       "      <td>Gen_Z</td>\n",
       "      <td>8.012987</td>\n",
       "    </tr>\n",
       "    <tr>\n",
       "      <th>1</th>\n",
       "      <td>Millenials</td>\n",
       "      <td>7.804348</td>\n",
       "    </tr>\n",
       "  </tbody>\n",
       "</table>\n",
       "</div>"
      ],
      "text/plain": [
       "          Age     score\n",
       "0       Gen_Z  8.012987\n",
       "1  Millenials  7.804348"
      ]
     },
     "execution_count": 102,
     "metadata": {},
     "output_type": "execute_result"
    },
    {
     "data": {
      "image/png": "[encoded data removed]",
      "text/plain": [
       "<Figure size 432x288 with 1 Axes>"
      ]
     },
     "metadata": {
      "needs_background": "light"
     },
     "output_type": "display_data"
    }
   ],
   "source": [
    "overall_sports = df_reviews_sports.groupby('Age', as_index=False)['score'].mean()\n",
    "overall_sports_plot = sns.barplot(x = 'Age', y = 'score', data = overall_sports, palette = \"Set3\")\n",
    "plt.ylim(0, 10)\n",
    "overall_sports"
   ]
  },
  {
   "cell_type": "code",
   "execution_count": 103,
   "metadata": {},
   "outputs": [
    {
     "data": {
      "text/plain": [
       "<AxesSubplot:xlabel='score', ylabel='proportion'>"
      ]
     },
     "execution_count": 103,
     "metadata": {},
     "output_type": "execute_result"
    },
    {
     "data": {
      "image/png": "[encoded data removed]",
      "text/plain": [
       "<Figure size 432x288 with 1 Axes>"
      ]
     },
     "metadata": {
      "needs_background": "light"
     },
     "output_type": "display_data"
    }
   ],
   "source": [
    "military_prop = df_reviews_military.groupby('Age')['score'].value_counts(normalize=True).rename(\"proportion\").reset_index()\n",
    "sns.barplot(x = 'score', y = 'proportion' , hue = 'Age', data = military_prop, palette = \"mako\" )"
   ]
  },
  {
   "cell_type": "code",
   "execution_count": 104,
   "metadata": {},
   "outputs": [
    {
     "data": {
      "text/html": [
       "<div>\n",
       "<style scoped>\n",
       "    .dataframe tbody tr th:only-of-type {\n",
       "        vertical-align: middle;\n",
       "    }\n",
       "\n",
       "    .dataframe tbody tr th {\n",
       "        vertical-align: top;\n",
       "    }\n",
       "\n",
       "    .dataframe thead th {\n",
       "        text-align: right;\n",
       "    }\n",
       "</style>\n",
       "<table border=\"1\" class=\"dataframe\">\n",
       "  <thead>\n",
       "    <tr style=\"text-align: right;\">\n",
       "      <th></th>\n",
       "      <th>Age</th>\n",
       "      <th>score</th>\n",
       "    </tr>\n",
       "  </thead>\n",
       "  <tbody>\n",
       "    <tr>\n",
       "      <th>0</th>\n",
       "      <td>Gen_Z</td>\n",
       "      <td>7.845609</td>\n",
       "    </tr>\n",
       "    <tr>\n",
       "      <th>1</th>\n",
       "      <td>Millenials</td>\n",
       "      <td>7.750107</td>\n",
       "    </tr>\n",
       "  </tbody>\n",
       "</table>\n",
       "</div>"
      ],
      "text/plain": [
       "          Age     score\n",
       "0       Gen_Z  7.845609\n",
       "1  Millenials  7.750107"
      ]
     },
     "execution_count": 104,
     "metadata": {},
     "output_type": "execute_result"
    },
    {
     "data": {
      "image/png": "[encoded data removed]",
      "text/plain": [
       "<Figure size 432x288 with 1 Axes>"
      ]
     },
     "metadata": {
      "needs_background": "light"
     },
     "output_type": "display_data"
    }
   ],
   "source": [
    "overall_military = df_reviews_military.groupby('Age', as_index=False)['score'].mean()\n",
    "overall_military_plot = sns.barplot(x = 'Age', y = 'score', data = overall_military, palette = \"mako\")\n",
    "plt.ylim(0, 10)\n",
    "overall_military"
   ]
  },
  {
   "cell_type": "code",
   "execution_count": 105,
   "metadata": {},
   "outputs": [
    {
     "data": {
      "text/plain": [
       "<AxesSubplot:xlabel='score', ylabel='proportion'>"
      ]
     },
     "execution_count": 105,
     "metadata": {},
     "output_type": "execute_result"
    },
    {
     "data": {
      "image/png": "[encoded data removed]",
      "text/plain": [
       "<Figure size 432x288 with 1 Axes>"
      ]
     },
     "metadata": {
      "needs_background": "light"
     },
     "output_type": "display_data"
    }
   ],
   "source": [
    "drama_prop = df_reviews_drama.groupby('Age')['score'].value_counts(normalize=True).rename(\"proportion\").reset_index()\n",
    "sns.barplot(x = 'score', y = 'proportion' , hue = 'Age', data = drama_prop, palette = \"rocket\" )"
   ]
  },
  {
   "cell_type": "code",
   "execution_count": 106,
   "metadata": {},
   "outputs": [
    {
     "data": {
      "text/html": [
       "<div>\n",
       "<style scoped>\n",
       "    .dataframe tbody tr th:only-of-type {\n",
       "        vertical-align: middle;\n",
       "    }\n",
       "\n",
       "    .dataframe tbody tr th {\n",
       "        vertical-align: top;\n",
       "    }\n",
       "\n",
       "    .dataframe thead th {\n",
       "        text-align: right;\n",
       "    }\n",
       "</style>\n",
       "<table border=\"1\" class=\"dataframe\">\n",
       "  <thead>\n",
       "    <tr style=\"text-align: right;\">\n",
       "      <th></th>\n",
       "      <th>Age</th>\n",
       "      <th>score</th>\n",
       "    </tr>\n",
       "  </thead>\n",
       "  <tbody>\n",
       "    <tr>\n",
       "      <th>0</th>\n",
       "      <td>Gen_Z</td>\n",
       "      <td>7.787674</td>\n",
       "    </tr>\n",
       "    <tr>\n",
       "      <th>1</th>\n",
       "      <td>Millenials</td>\n",
       "      <td>7.736092</td>\n",
       "    </tr>\n",
       "  </tbody>\n",
       "</table>\n",
       "</div>"
      ],
      "text/plain": [
       "          Age     score\n",
       "0       Gen_Z  7.787674\n",
       "1  Millenials  7.736092"
      ]
     },
     "execution_count": 106,
     "metadata": {},
     "output_type": "execute_result"
    },
    {
     "data": {
      "image/png": "[encoded data removed]",
      "text/plain": [
       "<Figure size 432x288 with 1 Axes>"
      ]
     },
     "metadata": {
      "needs_background": "light"
     },
     "output_type": "display_data"
    }
   ],
   "source": [
    "overall_drama = df_reviews_drama.groupby('Age', as_index=False)['score'].mean()\n",
    "overall_drama_plot = sns.barplot(x = 'Age', y = 'score', data = overall_drama, palette = \"rocket\")\n",
    "plt.ylim(0, 10)\n",
    "overall_drama"
   ]
  },
  {
   "cell_type": "code",
   "execution_count": 40,
   "metadata": {},
   "outputs": [
    {
     "data": {
      "text/plain": [
       "<AxesSubplot:xlabel='score', ylabel='proportion'>"
      ]
     },
     "execution_count": 40,
     "metadata": {},
     "output_type": "execute_result"
    },
    {
     "data": {
      "image/png": "[encoded data removed]",
      "text/plain": [
       "<Figure size 432x288 with 1 Axes>"
      ]
     },
     "metadata": {
      "needs_background": "light"
     },
     "output_type": "display_data"
    }
   ],
   "source": [
    "music_prop = df_reviews_music.groupby('Age')['score'].value_counts(normalize=True).rename(\"proportion\").reset_index()\n",
    "sns.barplot(x = 'score', y = 'proportion' , hue = 'Age', data = music_prop, palette = \"flare\" )"
   ]
  },
  {
   "cell_type": "code",
   "execution_count": 41,
   "metadata": {},
   "outputs": [
    {
     "data": {
      "text/html": [
       "<div>\n",
       "<style scoped>\n",
       "    .dataframe tbody tr th:only-of-type {\n",
       "        vertical-align: middle;\n",
       "    }\n",
       "\n",
       "    .dataframe tbody tr th {\n",
       "        vertical-align: top;\n",
       "    }\n",
       "\n",
       "    .dataframe thead th {\n",
       "        text-align: right;\n",
       "    }\n",
       "</style>\n",
       "<table border=\"1\" class=\"dataframe\">\n",
       "  <thead>\n",
       "    <tr style=\"text-align: right;\">\n",
       "      <th></th>\n",
       "      <th>Age</th>\n",
       "      <th>score</th>\n",
       "    </tr>\n",
       "  </thead>\n",
       "  <tbody>\n",
       "    <tr>\n",
       "      <th>0</th>\n",
       "      <td>Gen_Z</td>\n",
       "      <td>7.565359</td>\n",
       "    </tr>\n",
       "    <tr>\n",
       "      <th>1</th>\n",
       "      <td>Millenials</td>\n",
       "      <td>7.577594</td>\n",
       "    </tr>\n",
       "  </tbody>\n",
       "</table>\n",
       "</div>"
      ],
      "text/plain": [
       "          Age     score\n",
       "0       Gen_Z  7.565359\n",
       "1  Millenials  7.577594"
      ]
     },
     "execution_count": 41,
     "metadata": {},
     "output_type": "execute_result"
    },
    {
     "data": {
      "image/png": "[encoded data removed]",
      "text/plain": [
       "<Figure size 432x288 with 1 Axes>"
      ]
     },
     "metadata": {
      "needs_background": "light"
     },
     "output_type": "display_data"
    }
   ],
   "source": [
    "overall_music = df_reviews_music.groupby('Age', as_index=False)['score'].mean()\n",
    "overall_music_plot = sns.barplot(x = 'Age', y = 'score', data = overall_music, palette = \"flare\")\n",
    "plt.ylim(0, 10)\n",
    "overall_music"
   ]
  },
  {
   "cell_type": "code",
   "execution_count": 108,
   "metadata": {},
   "outputs": [
    {
     "data": {
      "text/plain": [
       "<AxesSubplot:xlabel='score', ylabel='proportion'>"
      ]
     },
     "execution_count": 108,
     "metadata": {},
     "output_type": "execute_result"
    },
    {
     "data": {
      "image/png": "[encoded data removed]",
      "text/plain": [
       "<Figure size 432x288 with 1 Axes>"
      ]
     },
     "metadata": {
      "needs_background": "light"
     },
     "output_type": "display_data"
    }
   ],
   "source": [
    "school_prop = df_reviews_school.groupby('Age')['score'].value_counts(normalize=True).rename(\"proportion\").reset_index()\n",
    "sns.barplot(x = 'score', y = 'proportion' , hue = 'Age', data = school_prop, palette = \"magma\" )"
   ]
  },
  {
   "cell_type": "code",
   "execution_count": 109,
   "metadata": {},
   "outputs": [
    {
     "data": {
      "text/html": [
       "<div>\n",
       "<style scoped>\n",
       "    .dataframe tbody tr th:only-of-type {\n",
       "        vertical-align: middle;\n",
       "    }\n",
       "\n",
       "    .dataframe tbody tr th {\n",
       "        vertical-align: top;\n",
       "    }\n",
       "\n",
       "    .dataframe thead th {\n",
       "        text-align: right;\n",
       "    }\n",
       "</style>\n",
       "<table border=\"1\" class=\"dataframe\">\n",
       "  <thead>\n",
       "    <tr style=\"text-align: right;\">\n",
       "      <th></th>\n",
       "      <th>Age</th>\n",
       "      <th>score</th>\n",
       "    </tr>\n",
       "  </thead>\n",
       "  <tbody>\n",
       "    <tr>\n",
       "      <th>0</th>\n",
       "      <td>Gen_Z</td>\n",
       "      <td>7.523183</td>\n",
       "    </tr>\n",
       "    <tr>\n",
       "      <th>1</th>\n",
       "      <td>Millenials</td>\n",
       "      <td>7.364632</td>\n",
       "    </tr>\n",
       "  </tbody>\n",
       "</table>\n",
       "</div>"
      ],
      "text/plain": [
       "          Age     score\n",
       "0       Gen_Z  7.523183\n",
       "1  Millenials  7.364632"
      ]
     },
     "execution_count": 109,
     "metadata": {},
     "output_type": "execute_result"
    },
    {
     "data": {
      "image/png": "[encoded data removed]",
      "text/plain": [
       "<Figure size 432x288 with 1 Axes>"
      ]
     },
     "metadata": {
      "needs_background": "light"
     },
     "output_type": "display_data"
    }
   ],
   "source": [
    "overall_school = df_reviews_school.groupby('Age', as_index=False)['score'].mean()\n",
    "overall_school_plot = sns.barplot(x = 'Age', y = 'score', data = overall_school, palette = \"magma\")\n",
    "plt.ylim(0, 10)\n",
    "overall_school"
   ]
  },
  {
   "cell_type": "code",
   "execution_count": 110,
   "metadata": {},
   "outputs": [
    {
     "data": {
      "text/plain": [
       "<AxesSubplot:xlabel='score', ylabel='proportion'>"
      ]
     },
     "execution_count": 110,
     "metadata": {},
     "output_type": "execute_result"
    },
    {
     "data": {
      "image/png": "[encoded data removed]",
      "text/plain": [
       "<Figure size 432x288 with 1 Axes>"
      ]
     },
     "metadata": {
      "needs_background": "light"
     },
     "output_type": "display_data"
    }
   ],
   "source": [
    "shounen_prop = df_reviews_shounen.groupby('Age')['score'].value_counts(normalize=True).rename(\"proportion\").reset_index()\n",
    "sns.barplot(x = 'score', y = 'proportion' , hue = 'Age', data = shounen_prop, palette = \"viridis\" )"
   ]
  },
  {
   "cell_type": "code",
   "execution_count": 111,
   "metadata": {},
   "outputs": [
    {
     "data": {
      "text/html": [
       "<div>\n",
       "<style scoped>\n",
       "    .dataframe tbody tr th:only-of-type {\n",
       "        vertical-align: middle;\n",
       "    }\n",
       "\n",
       "    .dataframe tbody tr th {\n",
       "        vertical-align: top;\n",
       "    }\n",
       "\n",
       "    .dataframe thead th {\n",
       "        text-align: right;\n",
       "    }\n",
       "</style>\n",
       "<table border=\"1\" class=\"dataframe\">\n",
       "  <thead>\n",
       "    <tr style=\"text-align: right;\">\n",
       "      <th></th>\n",
       "      <th>Age</th>\n",
       "      <th>score</th>\n",
       "    </tr>\n",
       "  </thead>\n",
       "  <tbody>\n",
       "    <tr>\n",
       "      <th>0</th>\n",
       "      <td>Gen_Z</td>\n",
       "      <td>7.817575</td>\n",
       "    </tr>\n",
       "    <tr>\n",
       "      <th>1</th>\n",
       "      <td>Millenials</td>\n",
       "      <td>7.594521</td>\n",
       "    </tr>\n",
       "  </tbody>\n",
       "</table>\n",
       "</div>"
      ],
      "text/plain": [
       "          Age     score\n",
       "0       Gen_Z  7.817575\n",
       "1  Millenials  7.594521"
      ]
     },
     "execution_count": 111,
     "metadata": {},
     "output_type": "execute_result"
    },
    {
     "data": {
      "image/png": "[encoded data removed]",
      "text/plain": [
       "<Figure size 432x288 with 1 Axes>"
      ]
     },
     "metadata": {
      "needs_background": "light"
     },
     "output_type": "display_data"
    }
   ],
   "source": [
    "overall_shounen = df_reviews_shounen.groupby('Age', as_index=False)['score'].mean()\n",
    "overall_shounen_plot = sns.barplot(x = 'Age', y = 'score', data = overall_shounen, palette = \"viridis\")\n",
    "plt.ylim(0, 10)\n",
    "overall_shounen"
   ]
  },
  {
   "cell_type": "code",
   "execution_count": 112,
   "metadata": {},
   "outputs": [
    {
     "data": {
      "text/plain": [
       "<AxesSubplot:xlabel='score', ylabel='proportion'>"
      ]
     },
     "execution_count": 112,
     "metadata": {},
     "output_type": "execute_result"
    },
    {
     "data": {
      "image/png": "[encoded data removed]",
      "text/plain": [
       "<Figure size 432x288 with 1 Axes>"
      ]
     },
     "metadata": {
      "needs_background": "light"
     },
     "output_type": "display_data"
    }
   ],
   "source": [
    "romance_prop = df_reviews_romance.groupby('Age')['score'].value_counts(normalize=True).rename(\"proportion\").reset_index()\n",
    "sns.barplot(x = 'score', y = 'proportion' , hue = 'Age', data = romance_prop, palette = \"cubehelix\" )"
   ]
  },
  {
   "cell_type": "code",
   "execution_count": 113,
   "metadata": {},
   "outputs": [
    {
     "data": {
      "text/html": [
       "<div>\n",
       "<style scoped>\n",
       "    .dataframe tbody tr th:only-of-type {\n",
       "        vertical-align: middle;\n",
       "    }\n",
       "\n",
       "    .dataframe tbody tr th {\n",
       "        vertical-align: top;\n",
       "    }\n",
       "\n",
       "    .dataframe thead th {\n",
       "        text-align: right;\n",
       "    }\n",
       "</style>\n",
       "<table border=\"1\" class=\"dataframe\">\n",
       "  <thead>\n",
       "    <tr style=\"text-align: right;\">\n",
       "      <th></th>\n",
       "      <th>Age</th>\n",
       "      <th>score</th>\n",
       "    </tr>\n",
       "  </thead>\n",
       "  <tbody>\n",
       "    <tr>\n",
       "      <th>0</th>\n",
       "      <td>Gen_Z</td>\n",
       "      <td>7.466918</td>\n",
       "    </tr>\n",
       "    <tr>\n",
       "      <th>1</th>\n",
       "      <td>Millenials</td>\n",
       "      <td>7.479257</td>\n",
       "    </tr>\n",
       "  </tbody>\n",
       "</table>\n",
       "</div>"
      ],
      "text/plain": [
       "          Age     score\n",
       "0       Gen_Z  7.466918\n",
       "1  Millenials  7.479257"
      ]
     },
     "execution_count": 113,
     "metadata": {},
     "output_type": "execute_result"
    },
    {
     "data": {
      "image/png": "[encoded data removed]",
      "text/plain": [
       "<Figure size 432x288 with 1 Axes>"
      ]
     },
     "metadata": {
      "needs_background": "light"
     },
     "output_type": "display_data"
    }
   ],
   "source": [
    "overall_romance = df_reviews_romance.groupby('Age', as_index=False)['score'].mean()\n",
    "overall_romance_plot = sns.barplot(x = 'Age', y = 'score', data = overall_romance, palette = \"cubehelix\")\n",
    "plt.ylim(0, 10)\n",
    "overall_romance"
   ]
  },
  {
   "cell_type": "code",
   "execution_count": 115,
   "metadata": {},
   "outputs": [
    {
     "data": {
      "text/plain": [
       "<AxesSubplot:xlabel='score', ylabel='proportion'>"
      ]
     },
     "execution_count": 115,
     "metadata": {},
     "output_type": "execute_result"
    },
    {
     "data": {
      "image/png": "[encoded data removed]",
      "text/plain": [
       "<Figure size 432x288 with 1 Axes>"
      ]
     },
     "metadata": {
      "needs_background": "light"
     },
     "output_type": "display_data"
    }
   ],
   "source": [
    "sci_fi_prop = df_reviews_sci_fi.groupby('Age')['score'].value_counts(normalize=True).rename(\"proportion\").reset_index()\n",
    "sns.barplot(x = 'score', y = 'proportion' , hue = 'Age', data = sci_fi_prop, palette = \"vlag\" )"
   ]
  },
  {
   "cell_type": "code",
   "execution_count": 116,
   "metadata": {},
   "outputs": [
    {
     "data": {
      "text/html": [
       "<div>\n",
       "<style scoped>\n",
       "    .dataframe tbody tr th:only-of-type {\n",
       "        vertical-align: middle;\n",
       "    }\n",
       "\n",
       "    .dataframe tbody tr th {\n",
       "        vertical-align: top;\n",
       "    }\n",
       "\n",
       "    .dataframe thead th {\n",
       "        text-align: right;\n",
       "    }\n",
       "</style>\n",
       "<table border=\"1\" class=\"dataframe\">\n",
       "  <thead>\n",
       "    <tr style=\"text-align: right;\">\n",
       "      <th></th>\n",
       "      <th>Age</th>\n",
       "      <th>score</th>\n",
       "    </tr>\n",
       "  </thead>\n",
       "  <tbody>\n",
       "    <tr>\n",
       "      <th>0</th>\n",
       "      <td>Gen_Z</td>\n",
       "      <td>7.508536</td>\n",
       "    </tr>\n",
       "    <tr>\n",
       "      <th>1</th>\n",
       "      <td>Millenials</td>\n",
       "      <td>7.395005</td>\n",
       "    </tr>\n",
       "  </tbody>\n",
       "</table>\n",
       "</div>"
      ],
      "text/plain": [
       "          Age     score\n",
       "0       Gen_Z  7.508536\n",
       "1  Millenials  7.395005"
      ]
     },
     "execution_count": 116,
     "metadata": {},
     "output_type": "execute_result"
    },
    {
     "data": {
      "image/png": "[encoded data removed]",
      "text/plain": [
       "<Figure size 432x288 with 1 Axes>"
      ]
     },
     "metadata": {
      "needs_background": "light"
     },
     "output_type": "display_data"
    }
   ],
   "source": [
    "overall_sci_fi = df_reviews_sci_fi.groupby('Age', as_index=False)['score'].mean()\n",
    "overall_sci_fi_plot = sns.barplot(x = 'Age', y = 'score', data = overall_sci_fi, palette = \"vlag\")\n",
    "plt.ylim(0, 10)\n",
    "overall_sci_fi"
   ]
  },
  {
   "cell_type": "code",
   "execution_count": 117,
   "metadata": {},
   "outputs": [
    {
     "data": {
      "text/plain": [
       "<AxesSubplot:xlabel='score', ylabel='proportion'>"
      ]
     },
     "execution_count": 117,
     "metadata": {},
     "output_type": "execute_result"
    },
    {
     "data": {
      "image/png": "[encoded data removed]",
      "text/plain": [
       "<Figure size 432x288 with 1 Axes>"
      ]
     },
     "metadata": {
      "needs_background": "light"
     },
     "output_type": "display_data"
    }
   ],
   "source": [
    "adventure_prop = df_reviews_adventure.groupby('Age')['score'].value_counts(normalize=True).rename(\"proportion\").reset_index()\n",
    "sns.barplot(x = 'score', y = 'proportion' , hue = 'Age', data = adventure_prop, palette = \"icefire\" )"
   ]
  },
  {
   "cell_type": "code",
   "execution_count": 118,
   "metadata": {},
   "outputs": [
    {
     "data": {
      "text/html": [
       "<div>\n",
       "<style scoped>\n",
       "    .dataframe tbody tr th:only-of-type {\n",
       "        vertical-align: middle;\n",
       "    }\n",
       "\n",
       "    .dataframe tbody tr th {\n",
       "        vertical-align: top;\n",
       "    }\n",
       "\n",
       "    .dataframe thead th {\n",
       "        text-align: right;\n",
       "    }\n",
       "</style>\n",
       "<table border=\"1\" class=\"dataframe\">\n",
       "  <thead>\n",
       "    <tr style=\"text-align: right;\">\n",
       "      <th></th>\n",
       "      <th>Age</th>\n",
       "      <th>score</th>\n",
       "    </tr>\n",
       "  </thead>\n",
       "  <tbody>\n",
       "    <tr>\n",
       "      <th>0</th>\n",
       "      <td>Gen_Z</td>\n",
       "      <td>7.542912</td>\n",
       "    </tr>\n",
       "    <tr>\n",
       "      <th>1</th>\n",
       "      <td>Millenials</td>\n",
       "      <td>7.472025</td>\n",
       "    </tr>\n",
       "  </tbody>\n",
       "</table>\n",
       "</div>"
      ],
      "text/plain": [
       "          Age     score\n",
       "0       Gen_Z  7.542912\n",
       "1  Millenials  7.472025"
      ]
     },
     "execution_count": 118,
     "metadata": {},
     "output_type": "execute_result"
    },
    {
     "data": {
      "image/png": "[encoded data removed]",
      "text/plain": [
       "<Figure size 432x288 with 1 Axes>"
      ]
     },
     "metadata": {
      "needs_background": "light"
     },
     "output_type": "display_data"
    }
   ],
   "source": [
    "overall_adventure = df_reviews_adventure.groupby('Age', as_index=False)['score'].mean()\n",
    "overall_adventure_plot = sns.barplot(x = 'Age', y = 'score', data = overall_adventure, palette = \"icefire\")\n",
    "plt.ylim(0, 10)\n",
    "overall_adventure"
   ]
  },
  {
   "cell_type": "code",
   "execution_count": 120,
   "metadata": {},
   "outputs": [
    {
     "data": {
      "text/plain": [
       "<AxesSubplot:xlabel='score', ylabel='proportion'>"
      ]
     },
     "execution_count": 120,
     "metadata": {},
     "output_type": "execute_result"
    },
    {
     "data": {
      "image/png": "[encoded data removed]",
      "text/plain": [
       "<Figure size 432x288 with 1 Axes>"
      ]
     },
     "metadata": {
      "needs_background": "light"
     },
     "output_type": "display_data"
    }
   ],
   "source": [
    "mystery_prop = df_reviews_mystery.groupby('Age')['score'].value_counts(normalize=True).rename(\"proportion\").reset_index()\n",
    "sns.barplot(x = 'score', y = 'proportion' , hue = 'Age', data = mystery_prop, palette = \"coolwarm\" )"
   ]
  },
  {
   "cell_type": "code",
   "execution_count": 121,
   "metadata": {},
   "outputs": [
    {
     "data": {
      "text/html": [
       "<div>\n",
       "<style scoped>\n",
       "    .dataframe tbody tr th:only-of-type {\n",
       "        vertical-align: middle;\n",
       "    }\n",
       "\n",
       "    .dataframe tbody tr th {\n",
       "        vertical-align: top;\n",
       "    }\n",
       "\n",
       "    .dataframe thead th {\n",
       "        text-align: right;\n",
       "    }\n",
       "</style>\n",
       "<table border=\"1\" class=\"dataframe\">\n",
       "  <thead>\n",
       "    <tr style=\"text-align: right;\">\n",
       "      <th></th>\n",
       "      <th>Age</th>\n",
       "      <th>score</th>\n",
       "    </tr>\n",
       "  </thead>\n",
       "  <tbody>\n",
       "    <tr>\n",
       "      <th>0</th>\n",
       "      <td>Gen_Z</td>\n",
       "      <td>7.720485</td>\n",
       "    </tr>\n",
       "    <tr>\n",
       "      <th>1</th>\n",
       "      <td>Millenials</td>\n",
       "      <td>7.631811</td>\n",
       "    </tr>\n",
       "  </tbody>\n",
       "</table>\n",
       "</div>"
      ],
      "text/plain": [
       "          Age     score\n",
       "0       Gen_Z  7.720485\n",
       "1  Millenials  7.631811"
      ]
     },
     "execution_count": 121,
     "metadata": {},
     "output_type": "execute_result"
    },
    {
     "data": {
      "image/png": "[encoded data removed]",
      "text/plain": [
       "<Figure size 432x288 with 1 Axes>"
      ]
     },
     "metadata": {
      "needs_background": "light"
     },
     "output_type": "display_data"
    }
   ],
   "source": [
    "overall_mystery = df_reviews_mystery.groupby('Age', as_index=False)['score'].mean()\n",
    "overall_mystery_plot = sns.barplot(x = 'Age', y = 'score', data = overall_mystery, palette = \"coolwarm\")\n",
    "plt.ylim(0, 10)\n",
    "overall_mystery"
   ]
  },
  {
   "cell_type": "code",
   "execution_count": 124,
   "metadata": {},
   "outputs": [
    {
     "data": {
      "text/plain": [
       "<AxesSubplot:xlabel='score', ylabel='proportion'>"
      ]
     },
     "execution_count": 124,
     "metadata": {},
     "output_type": "execute_result"
    },
    {
     "data": {
      "image/png": "[encoded data removed]",
      "text/plain": [
       "<Figure size 432x288 with 1 Axes>"
      ]
     },
     "metadata": {
      "needs_background": "light"
     },
     "output_type": "display_data"
    }
   ],
   "source": [
    "supernatural_prop = df_reviews_supernatural.groupby('Age')['score'].value_counts(normalize=True).rename(\"proportion\").reset_index()\n",
    "sns.barplot(x = 'score', y = 'proportion' , hue = 'Age', data = supernatural_prop, palette = \"Blues\" )"
   ]
  },
  {
   "cell_type": "code",
   "execution_count": 125,
   "metadata": {},
   "outputs": [
    {
     "data": {
      "text/html": [
       "<div>\n",
       "<style scoped>\n",
       "    .dataframe tbody tr th:only-of-type {\n",
       "        vertical-align: middle;\n",
       "    }\n",
       "\n",
       "    .dataframe tbody tr th {\n",
       "        vertical-align: top;\n",
       "    }\n",
       "\n",
       "    .dataframe thead th {\n",
       "        text-align: right;\n",
       "    }\n",
       "</style>\n",
       "<table border=\"1\" class=\"dataframe\">\n",
       "  <thead>\n",
       "    <tr style=\"text-align: right;\">\n",
       "      <th></th>\n",
       "      <th>Age</th>\n",
       "      <th>score</th>\n",
       "    </tr>\n",
       "  </thead>\n",
       "  <tbody>\n",
       "    <tr>\n",
       "      <th>0</th>\n",
       "      <td>Gen_Z</td>\n",
       "      <td>7.664955</td>\n",
       "    </tr>\n",
       "    <tr>\n",
       "      <th>1</th>\n",
       "      <td>Millenials</td>\n",
       "      <td>7.568932</td>\n",
       "    </tr>\n",
       "  </tbody>\n",
       "</table>\n",
       "</div>"
      ],
      "text/plain": [
       "          Age     score\n",
       "0       Gen_Z  7.664955\n",
       "1  Millenials  7.568932"
      ]
     },
     "execution_count": 125,
     "metadata": {},
     "output_type": "execute_result"
    },
    {
     "data": {
      "image/png": "[encoded data removed]",
      "text/plain": [
       "<Figure size 432x288 with 1 Axes>"
      ]
     },
     "metadata": {
      "needs_background": "light"
     },
     "output_type": "display_data"
    }
   ],
   "source": [
    "overall_supernatural = df_reviews_supernatural.groupby('Age', as_index=False)['score'].mean()\n",
    "overall_supernatural_plot = sns.barplot(x = 'Age', y = 'score', data = overall_supernatural, palette = \"Blues\")\n",
    "plt.ylim(0, 10)\n",
    "overall_supernatural"
   ]
  },
  {
   "cell_type": "code",
   "execution_count": 126,
   "metadata": {},
   "outputs": [
    {
     "data": {
      "text/plain": [
       "<AxesSubplot:xlabel='score', ylabel='proportion'>"
      ]
     },
     "execution_count": 126,
     "metadata": {},
     "output_type": "execute_result"
    },
    {
     "data": {
      "image/png": "[encoded data removed]",
      "text/plain": [
       "<Figure size 432x288 with 1 Axes>"
      ]
     },
     "metadata": {
      "needs_background": "light"
     },
     "output_type": "display_data"
    }
   ],
   "source": [
    "mecha_prop = df_reviews_mecha.groupby('Age')['score'].value_counts(normalize=True).rename(\"proportion\").reset_index()\n",
    "sns.barplot(x = 'score', y = 'proportion' , hue = 'Age', data = mecha_prop, palette = \"Spectral\" )"
   ]
  },
  {
   "cell_type": "code",
   "execution_count": 127,
   "metadata": {},
   "outputs": [
    {
     "data": {
      "text/html": [
       "<div>\n",
       "<style scoped>\n",
       "    .dataframe tbody tr th:only-of-type {\n",
       "        vertical-align: middle;\n",
       "    }\n",
       "\n",
       "    .dataframe tbody tr th {\n",
       "        vertical-align: top;\n",
       "    }\n",
       "\n",
       "    .dataframe thead th {\n",
       "        text-align: right;\n",
       "    }\n",
       "</style>\n",
       "<table border=\"1\" class=\"dataframe\">\n",
       "  <thead>\n",
       "    <tr style=\"text-align: right;\">\n",
       "      <th></th>\n",
       "      <th>Age</th>\n",
       "      <th>score</th>\n",
       "    </tr>\n",
       "  </thead>\n",
       "  <tbody>\n",
       "    <tr>\n",
       "      <th>0</th>\n",
       "      <td>Gen_Z</td>\n",
       "      <td>7.332608</td>\n",
       "    </tr>\n",
       "    <tr>\n",
       "      <th>1</th>\n",
       "      <td>Millenials</td>\n",
       "      <td>7.462341</td>\n",
       "    </tr>\n",
       "  </tbody>\n",
       "</table>\n",
       "</div>"
      ],
      "text/plain": [
       "          Age     score\n",
       "0       Gen_Z  7.332608\n",
       "1  Millenials  7.462341"
      ]
     },
     "execution_count": 127,
     "metadata": {},
     "output_type": "execute_result"
    },
    {
     "data": {
      "image/png": "[encoded data removed]",
      "text/plain": [
       "<Figure size 432x288 with 1 Axes>"
      ]
     },
     "metadata": {
      "needs_background": "light"
     },
     "output_type": "display_data"
    }
   ],
   "source": [
    "overall_mecha = df_reviews_mecha.groupby('Age', as_index=False)['score'].mean()\n",
    "overall_mecha_plot = sns.barplot(x = 'Age', y = 'score', data = overall_mecha, palette = \"Spectral\")\n",
    "plt.ylim(0, 10)\n",
    "overall_mecha"
   ]
  },
  {
   "cell_type": "code",
   "execution_count": 128,
   "metadata": {},
   "outputs": [
    {
     "data": {
      "text/plain": [
       "<AxesSubplot:xlabel='score', ylabel='proportion'>"
      ]
     },
     "execution_count": 128,
     "metadata": {},
     "output_type": "execute_result"
    },
    {
     "data": {
      "image/png": "[encoded data removed]",
      "text/plain": [
       "<Figure size 432x288 with 1 Axes>"
      ]
     },
     "metadata": {
      "needs_background": "light"
     },
     "output_type": "display_data"
    }
   ],
   "source": [
    "historical_prop = df_reviews_historical.groupby('Age')['score'].value_counts(normalize=True).rename(\"proportion\").reset_index()\n",
    "sns.barplot(x = 'score', y = 'proportion' , hue = 'Age', data = historical_prop, palette = \"pastel\" )"
   ]
  },
  {
   "cell_type": "code",
   "execution_count": 129,
   "metadata": {},
   "outputs": [
    {
     "data": {
      "text/html": [
       "<div>\n",
       "<style scoped>\n",
       "    .dataframe tbody tr th:only-of-type {\n",
       "        vertical-align: middle;\n",
       "    }\n",
       "\n",
       "    .dataframe tbody tr th {\n",
       "        vertical-align: top;\n",
       "    }\n",
       "\n",
       "    .dataframe thead th {\n",
       "        text-align: right;\n",
       "    }\n",
       "</style>\n",
       "<table border=\"1\" class=\"dataframe\">\n",
       "  <thead>\n",
       "    <tr style=\"text-align: right;\">\n",
       "      <th></th>\n",
       "      <th>Age</th>\n",
       "      <th>score</th>\n",
       "    </tr>\n",
       "  </thead>\n",
       "  <tbody>\n",
       "    <tr>\n",
       "      <th>0</th>\n",
       "      <td>Gen_Z</td>\n",
       "      <td>7.664955</td>\n",
       "    </tr>\n",
       "    <tr>\n",
       "      <th>1</th>\n",
       "      <td>Millenials</td>\n",
       "      <td>7.568932</td>\n",
       "    </tr>\n",
       "  </tbody>\n",
       "</table>\n",
       "</div>"
      ],
      "text/plain": [
       "          Age     score\n",
       "0       Gen_Z  7.664955\n",
       "1  Millenials  7.568932"
      ]
     },
     "execution_count": 129,
     "metadata": {},
     "output_type": "execute_result"
    },
    {
     "data": {
      "image/png": "[encoded data removed]",
      "text/plain": [
       "<Figure size 432x288 with 1 Axes>"
      ]
     },
     "metadata": {
      "needs_background": "light"
     },
     "output_type": "display_data"
    }
   ],
   "source": [
    "overall_historical = df_reviews_historical.groupby('Age', as_index=False)['score'].mean()\n",
    "overall_historical_plot = sns.barplot(x = 'Age', y = 'score', data = overall_historical, palette = \"pastel\")\n",
    "plt.ylim(0, 10)\n",
    "overall_historical"
   ]
  },
  {
   "cell_type": "code",
   "execution_count": 130,
   "metadata": {},
   "outputs": [
    {
     "data": {
      "text/plain": [
       "<AxesSubplot:xlabel='score', ylabel='proportion'>"
      ]
     },
     "execution_count": 130,
     "metadata": {},
     "output_type": "execute_result"
    },
    {
     "data": {
      "image/png": "[encoded data removed]",
      "text/plain": [
       "<Figure size 432x288 with 1 Axes>"
      ]
     },
     "metadata": {
      "needs_background": "light"
     },
     "output_type": "display_data"
    }
   ],
   "source": [
    "super_power_prop = df_reviews_super_power.groupby('Age')['score'].value_counts(normalize=True).rename(\"proportion\").reset_index()\n",
    "sns.barplot(x = 'score', y = 'proportion' , hue = 'Age', data = super_power_prop, palette = \"husl\" )"
   ]
  },
  {
   "cell_type": "code",
   "execution_count": 131,
   "metadata": {},
   "outputs": [
    {
     "data": {
      "text/html": [
       "<div>\n",
       "<style scoped>\n",
       "    .dataframe tbody tr th:only-of-type {\n",
       "        vertical-align: middle;\n",
       "    }\n",
       "\n",
       "    .dataframe tbody tr th {\n",
       "        vertical-align: top;\n",
       "    }\n",
       "\n",
       "    .dataframe thead th {\n",
       "        text-align: right;\n",
       "    }\n",
       "</style>\n",
       "<table border=\"1\" class=\"dataframe\">\n",
       "  <thead>\n",
       "    <tr style=\"text-align: right;\">\n",
       "      <th></th>\n",
       "      <th>Age</th>\n",
       "      <th>score</th>\n",
       "    </tr>\n",
       "  </thead>\n",
       "  <tbody>\n",
       "    <tr>\n",
       "      <th>0</th>\n",
       "      <td>Gen_Z</td>\n",
       "      <td>7.587236</td>\n",
       "    </tr>\n",
       "    <tr>\n",
       "      <th>1</th>\n",
       "      <td>Millenials</td>\n",
       "      <td>7.310658</td>\n",
       "    </tr>\n",
       "  </tbody>\n",
       "</table>\n",
       "</div>"
      ],
      "text/plain": [
       "          Age     score\n",
       "0       Gen_Z  7.587236\n",
       "1  Millenials  7.310658"
      ]
     },
     "execution_count": 131,
     "metadata": {},
     "output_type": "execute_result"
    },
    {
     "data": {
      "image/png": "[encoded data removed]",
      "text/plain": [
       "<Figure size 432x288 with 1 Axes>"
      ]
     },
     "metadata": {
      "needs_background": "light"
     },
     "output_type": "display_data"
    }
   ],
   "source": [
    "overall_super_power = df_reviews_super_power.groupby('Age', as_index=False)['score'].mean()\n",
    "overall_super_power_plot = sns.barplot(x = 'Age', y = 'score', data = overall_super_power, palette = \"husl\")\n",
    "plt.ylim(0, 10)\n",
    "overall_super_power"
   ]
  },
  {
   "cell_type": "code",
   "execution_count": 132,
   "metadata": {},
   "outputs": [
    {
     "data": {
      "text/plain": [
       "<AxesSubplot:xlabel='score', ylabel='proportion'>"
      ]
     },
     "execution_count": 132,
     "metadata": {},
     "output_type": "execute_result"
    },
    {
     "data": {
      "image/png": "[encoded data removed]",
      "text/plain": [
       "<Figure size 432x288 with 1 Axes>"
      ]
     },
     "metadata": {
      "needs_background": "light"
     },
     "output_type": "display_data"
    }
   ],
   "source": [
    "fantasy_prop = df_reviews_fantasy.groupby('Age')['score'].value_counts(normalize=True).rename(\"proportion\").reset_index()\n",
    "sns.barplot(x = 'score', y = 'proportion' , hue = 'Age', data = fantasy_prop, palette = \"light:b\" )"
   ]
  },
  {
   "cell_type": "code",
   "execution_count": 133,
   "metadata": {},
   "outputs": [
    {
     "data": {
      "text/html": [
       "<div>\n",
       "<style scoped>\n",
       "    .dataframe tbody tr th:only-of-type {\n",
       "        vertical-align: middle;\n",
       "    }\n",
       "\n",
       "    .dataframe tbody tr th {\n",
       "        vertical-align: top;\n",
       "    }\n",
       "\n",
       "    .dataframe thead th {\n",
       "        text-align: right;\n",
       "    }\n",
       "</style>\n",
       "<table border=\"1\" class=\"dataframe\">\n",
       "  <thead>\n",
       "    <tr style=\"text-align: right;\">\n",
       "      <th></th>\n",
       "      <th>Age</th>\n",
       "      <th>score</th>\n",
       "    </tr>\n",
       "  </thead>\n",
       "  <tbody>\n",
       "    <tr>\n",
       "      <th>0</th>\n",
       "      <td>Gen_Z</td>\n",
       "      <td>7.265102</td>\n",
       "    </tr>\n",
       "    <tr>\n",
       "      <th>1</th>\n",
       "      <td>Millenials</td>\n",
       "      <td>7.272283</td>\n",
       "    </tr>\n",
       "  </tbody>\n",
       "</table>\n",
       "</div>"
      ],
      "text/plain": [
       "          Age     score\n",
       "0       Gen_Z  7.265102\n",
       "1  Millenials  7.272283"
      ]
     },
     "execution_count": 133,
     "metadata": {},
     "output_type": "execute_result"
    },
    {
     "data": {
      "image/png": "[encoded data removed]",
      "text/plain": [
       "<Figure size 432x288 with 1 Axes>"
      ]
     },
     "metadata": {
      "needs_background": "light"
     },
     "output_type": "display_data"
    }
   ],
   "source": [
    "overall_fantasy = df_reviews_fantasy.groupby('Age', as_index=False)['score'].mean()\n",
    "overall_fantasy_plot = sns.barplot(x = 'Age', y = 'score', data = overall_fantasy, palette = \"light:b\")\n",
    "plt.ylim(0, 10)\n",
    "overall_fantasy"
   ]
  },
  {
   "cell_type": "code",
   "execution_count": 134,
   "metadata": {},
   "outputs": [
    {
     "data": {
      "text/plain": [
       "<AxesSubplot:xlabel='score', ylabel='proportion'>"
      ]
     },
     "execution_count": 134,
     "metadata": {},
     "output_type": "execute_result"
    },
    {
     "data": {
      "image/png": "[encoded data removed]",
      "text/plain": [
       "<Figure size 432x288 with 1 Axes>"
      ]
     },
     "metadata": {
      "needs_background": "light"
     },
     "output_type": "display_data"
    }
   ],
   "source": [
    "slice_of_life_prop = df_reviews_slice.groupby('Age')['score'].value_counts(normalize=True).rename(\"proportion\").reset_index()\n",
    "sns.barplot(x = 'score', y = 'proportion' , hue = 'Age', data = slice_of_life_prop, palette = \"RdPu\" )"
   ]
  },
  {
   "cell_type": "code",
   "execution_count": 135,
   "metadata": {},
   "outputs": [
    {
     "data": {
      "text/html": [
       "<div>\n",
       "<style scoped>\n",
       "    .dataframe tbody tr th:only-of-type {\n",
       "        vertical-align: middle;\n",
       "    }\n",
       "\n",
       "    .dataframe tbody tr th {\n",
       "        vertical-align: top;\n",
       "    }\n",
       "\n",
       "    .dataframe thead th {\n",
       "        text-align: right;\n",
       "    }\n",
       "</style>\n",
       "<table border=\"1\" class=\"dataframe\">\n",
       "  <thead>\n",
       "    <tr style=\"text-align: right;\">\n",
       "      <th></th>\n",
       "      <th>Age</th>\n",
       "      <th>score</th>\n",
       "    </tr>\n",
       "  </thead>\n",
       "  <tbody>\n",
       "    <tr>\n",
       "      <th>0</th>\n",
       "      <td>Gen_Z</td>\n",
       "      <td>7.942211</td>\n",
       "    </tr>\n",
       "    <tr>\n",
       "      <th>1</th>\n",
       "      <td>Millenials</td>\n",
       "      <td>7.853445</td>\n",
       "    </tr>\n",
       "  </tbody>\n",
       "</table>\n",
       "</div>"
      ],
      "text/plain": [
       "          Age     score\n",
       "0       Gen_Z  7.942211\n",
       "1  Millenials  7.853445"
      ]
     },
     "execution_count": 135,
     "metadata": {},
     "output_type": "execute_result"
    },
    {
     "data": {
      "image/png": "[encoded data removed]",
      "text/plain": [
       "<Figure size 432x288 with 1 Axes>"
      ]
     },
     "metadata": {
      "needs_background": "light"
     },
     "output_type": "display_data"
    }
   ],
   "source": [
    "overall_slice_of_life = df_reviews_slice.groupby('Age', as_index=False)['score'].mean()\n",
    "overall_slice_of_life_plot = sns.barplot(x = 'Age', y = 'score', data = overall_slice_of_life, palette = \"RdPu\") \n",
    "plt.ylim(0, 10)\n",
    "overall_slice_of_life"
   ]
  },
  {
   "cell_type": "code",
   "execution_count": 138,
   "metadata": {},
   "outputs": [
    {
     "data": {
      "text/plain": [
       "<AxesSubplot:xlabel='score', ylabel='proportion'>"
      ]
     },
     "execution_count": 138,
     "metadata": {},
     "output_type": "execute_result"
    },
    {
     "data": {
      "image/png": "[encoded data removed]",
      "text/plain": [
       "<Figure size 432x288 with 1 Axes>"
      ]
     },
     "metadata": {
      "needs_background": "light"
     },
     "output_type": "display_data"
    }
   ],
   "source": [
    "shoujo_prop = df_reviews_shoujo.groupby('Age')['score'].value_counts(normalize=True).rename(\"proportion\").reset_index()\n",
    "sns.barplot(x = 'score', y = 'proportion' , hue = 'Age', data = shoujo_prop, palette = \"GnBu_d\" )"
   ]
  },
  {
   "cell_type": "code",
   "execution_count": 139,
   "metadata": {},
   "outputs": [
    {
     "data": {
      "text/html": [
       "<div>\n",
       "<style scoped>\n",
       "    .dataframe tbody tr th:only-of-type {\n",
       "        vertical-align: middle;\n",
       "    }\n",
       "\n",
       "    .dataframe tbody tr th {\n",
       "        vertical-align: top;\n",
       "    }\n",
       "\n",
       "    .dataframe thead th {\n",
       "        text-align: right;\n",
       "    }\n",
       "</style>\n",
       "<table border=\"1\" class=\"dataframe\">\n",
       "  <thead>\n",
       "    <tr style=\"text-align: right;\">\n",
       "      <th></th>\n",
       "      <th>Age</th>\n",
       "      <th>score</th>\n",
       "    </tr>\n",
       "  </thead>\n",
       "  <tbody>\n",
       "    <tr>\n",
       "      <th>0</th>\n",
       "      <td>Gen_Z</td>\n",
       "      <td>7.533662</td>\n",
       "    </tr>\n",
       "    <tr>\n",
       "      <th>1</th>\n",
       "      <td>Millenials</td>\n",
       "      <td>7.540115</td>\n",
       "    </tr>\n",
       "  </tbody>\n",
       "</table>\n",
       "</div>"
      ],
      "text/plain": [
       "          Age     score\n",
       "0       Gen_Z  7.533662\n",
       "1  Millenials  7.540115"
      ]
     },
     "execution_count": 139,
     "metadata": {},
     "output_type": "execute_result"
    },
    {
     "data": {
      "image/png": "[encoded data removed]",
      "text/plain": [
       "<Figure size 432x288 with 1 Axes>"
      ]
     },
     "metadata": {
      "needs_background": "light"
     },
     "output_type": "display_data"
    }
   ],
   "source": [
    "overall_shoujo = df_reviews_shoujo.groupby('Age', as_index=False)['score'].mean()\n",
    "overall_shoujo_plot = sns.barplot(x = 'Age', y = 'score', data = overall_shoujo, palette = \"GnBu_d\")\n",
    "plt.ylim(0, 10)\n",
    "overall_shoujo"
   ]
  },
  {
   "cell_type": "code",
   "execution_count": 140,
   "metadata": {},
   "outputs": [
    {
     "data": {
      "text/plain": [
       "<AxesSubplot:xlabel='score', ylabel='proportion'>"
      ]
     },
     "execution_count": 140,
     "metadata": {},
     "output_type": "execute_result"
    },
    {
     "data": {
      "image/png": "[encoded data removed]",
      "text/plain": [
       "<Figure size 432x288 with 1 Axes>"
      ]
     },
     "metadata": {
      "needs_background": "light"
     },
     "output_type": "display_data"
    }
   ],
   "source": [
    "horror_prop = df_reviews_horror.groupby('Age')['score'].value_counts(normalize=True).rename(\"proportion\").reset_index()\n",
    "sns.barplot(x = 'score', y = 'proportion' , hue = 'Age', data = horror_prop, palette = \"BuGn_r\" )"
   ]
  },
  {
   "cell_type": "code",
   "execution_count": 141,
   "metadata": {},
   "outputs": [
    {
     "data": {
      "text/html": [
       "<div>\n",
       "<style scoped>\n",
       "    .dataframe tbody tr th:only-of-type {\n",
       "        vertical-align: middle;\n",
       "    }\n",
       "\n",
       "    .dataframe tbody tr th {\n",
       "        vertical-align: top;\n",
       "    }\n",
       "\n",
       "    .dataframe thead th {\n",
       "        text-align: right;\n",
       "    }\n",
       "</style>\n",
       "<table border=\"1\" class=\"dataframe\">\n",
       "  <thead>\n",
       "    <tr style=\"text-align: right;\">\n",
       "      <th></th>\n",
       "      <th>Age</th>\n",
       "      <th>score</th>\n",
       "    </tr>\n",
       "  </thead>\n",
       "  <tbody>\n",
       "    <tr>\n",
       "      <th>0</th>\n",
       "      <td>Gen_Z</td>\n",
       "      <td>6.806373</td>\n",
       "    </tr>\n",
       "    <tr>\n",
       "      <th>1</th>\n",
       "      <td>Millenials</td>\n",
       "      <td>7.046048</td>\n",
       "    </tr>\n",
       "  </tbody>\n",
       "</table>\n",
       "</div>"
      ],
      "text/plain": [
       "          Age     score\n",
       "0       Gen_Z  6.806373\n",
       "1  Millenials  7.046048"
      ]
     },
     "execution_count": 141,
     "metadata": {},
     "output_type": "execute_result"
    },
    {
     "data": {
      "image/png": "[encoded data removed]",
      "text/plain": [
       "<Figure size 432x288 with 1 Axes>"
      ]
     },
     "metadata": {
      "needs_background": "light"
     },
     "output_type": "display_data"
    }
   ],
   "source": [
    "overall_horror = df_reviews_horror.groupby('Age', as_index=False)['score'].mean()\n",
    "overall_horror_plot = sns.barplot(x = 'Age', y = 'score', data = overall_horror, palette = \"BuGn_r\")\n",
    "plt.ylim(0, 10)\n",
    "overall_horror"
   ]
  },
  {
   "cell_type": "code",
   "execution_count": 144,
   "metadata": {},
   "outputs": [
    {
     "data": {
      "text/plain": [
       "<AxesSubplot:xlabel='score', ylabel='proportion'>"
      ]
     },
     "execution_count": 144,
     "metadata": {},
     "output_type": "execute_result"
    },
    {
     "data": {
      "image/png": "[encoded data removed]",
      "text/plain": [
       "<Figure size 432x288 with 1 Axes>"
      ]
     },
     "metadata": {
      "needs_background": "light"
     },
     "output_type": "display_data"
    }
   ],
   "source": [
    "harem_prop = df_reviews_harem.groupby('Age')['score'].value_counts(normalize=True).rename(\"proportion\").reset_index()\n",
    "sns.barplot(x = 'score', y = 'proportion' , hue = 'Age', data = harem_prop, palette = \"crest\" )"
   ]
  },
  {
   "cell_type": "code",
   "execution_count": 145,
   "metadata": {},
   "outputs": [
    {
     "data": {
      "text/html": [
       "<div>\n",
       "<style scoped>\n",
       "    .dataframe tbody tr th:only-of-type {\n",
       "        vertical-align: middle;\n",
       "    }\n",
       "\n",
       "    .dataframe tbody tr th {\n",
       "        vertical-align: top;\n",
       "    }\n",
       "\n",
       "    .dataframe thead th {\n",
       "        text-align: right;\n",
       "    }\n",
       "</style>\n",
       "<table border=\"1\" class=\"dataframe\">\n",
       "  <thead>\n",
       "    <tr style=\"text-align: right;\">\n",
       "      <th></th>\n",
       "      <th>Age</th>\n",
       "      <th>score</th>\n",
       "    </tr>\n",
       "  </thead>\n",
       "  <tbody>\n",
       "    <tr>\n",
       "      <th>0</th>\n",
       "      <td>Gen_Z</td>\n",
       "      <td>6.566519</td>\n",
       "    </tr>\n",
       "    <tr>\n",
       "      <th>1</th>\n",
       "      <td>Millenials</td>\n",
       "      <td>6.735337</td>\n",
       "    </tr>\n",
       "  </tbody>\n",
       "</table>\n",
       "</div>"
      ],
      "text/plain": [
       "          Age     score\n",
       "0       Gen_Z  6.566519\n",
       "1  Millenials  6.735337"
      ]
     },
     "execution_count": 145,
     "metadata": {},
     "output_type": "execute_result"
    },
    {
     "data": {
      "image/png": "[encoded data removed]",
      "text/plain": [
       "<Figure size 432x288 with 1 Axes>"
      ]
     },
     "metadata": {
      "needs_background": "light"
     },
     "output_type": "display_data"
    }
   ],
   "source": [
    "overall_harem = df_reviews_harem.groupby('Age', as_index=False)['score'].mean()\n",
    "overall_harem_plot = sns.barplot(x = 'Age', y = 'score', data = overall_harem, palette = \"crest\")\n",
    "plt.ylim(0, 10)\n",
    "overall_harem"
   ]
  },
  {
   "cell_type": "markdown",
   "metadata": {},
   "source": [
    "Below we made a new dataframe with genre, Gen Z scores, and Millenial scores as its columns. This was done by extracting the pre-existing means that we already calculated earlier on from `overall_df`."
   ]
  },
  {
   "cell_type": "code",
   "execution_count": 72,
   "metadata": {},
   "outputs": [
    {
     "data": {
      "text/html": [
       "<div>\n",
       "<style scoped>\n",
       "    .dataframe tbody tr th:only-of-type {\n",
       "        vertical-align: middle;\n",
       "    }\n",
       "\n",
       "    .dataframe tbody tr th {\n",
       "        vertical-align: top;\n",
       "    }\n",
       "\n",
       "    .dataframe thead th {\n",
       "        text-align: right;\n",
       "    }\n",
       "</style>\n",
       "<table border=\"1\" class=\"dataframe\">\n",
       "  <thead>\n",
       "    <tr style=\"text-align: right;\">\n",
       "      <th></th>\n",
       "      <th>genre</th>\n",
       "      <th>Gen_Z_score</th>\n",
       "      <th>Millenial_score</th>\n",
       "    </tr>\n",
       "  </thead>\n",
       "  <tbody>\n",
       "    <tr>\n",
       "      <th>0</th>\n",
       "      <td>comedy</td>\n",
       "      <td>7.695085</td>\n",
       "      <td>7.544193</td>\n",
       "    </tr>\n",
       "    <tr>\n",
       "      <th>1</th>\n",
       "      <td>action</td>\n",
       "      <td>7.370713</td>\n",
       "      <td>7.284483</td>\n",
       "    </tr>\n",
       "    <tr>\n",
       "      <th>2</th>\n",
       "      <td>sport</td>\n",
       "      <td>8.012987</td>\n",
       "      <td>7.804348</td>\n",
       "    </tr>\n",
       "    <tr>\n",
       "      <th>3</th>\n",
       "      <td>drama</td>\n",
       "      <td>7.787674</td>\n",
       "      <td>7.736092</td>\n",
       "    </tr>\n",
       "    <tr>\n",
       "      <th>4</th>\n",
       "      <td>military</td>\n",
       "      <td>7.845609</td>\n",
       "      <td>7.750107</td>\n",
       "    </tr>\n",
       "    <tr>\n",
       "      <th>5</th>\n",
       "      <td>music</td>\n",
       "      <td>7.565359</td>\n",
       "      <td>7.577594</td>\n",
       "    </tr>\n",
       "    <tr>\n",
       "      <th>6</th>\n",
       "      <td>school</td>\n",
       "      <td>7.523183</td>\n",
       "      <td>7.364632</td>\n",
       "    </tr>\n",
       "    <tr>\n",
       "      <th>7</th>\n",
       "      <td>shounen</td>\n",
       "      <td>7.817575</td>\n",
       "      <td>7.594521</td>\n",
       "    </tr>\n",
       "    <tr>\n",
       "      <th>8</th>\n",
       "      <td>romance</td>\n",
       "      <td>7.466918</td>\n",
       "      <td>7.479257</td>\n",
       "    </tr>\n",
       "    <tr>\n",
       "      <th>9</th>\n",
       "      <td>sci_fi</td>\n",
       "      <td>7.508536</td>\n",
       "      <td>7.395005</td>\n",
       "    </tr>\n",
       "    <tr>\n",
       "      <th>10</th>\n",
       "      <td>adventure</td>\n",
       "      <td>7.542912</td>\n",
       "      <td>7.472025</td>\n",
       "    </tr>\n",
       "    <tr>\n",
       "      <th>11</th>\n",
       "      <td>mystery</td>\n",
       "      <td>7.720485</td>\n",
       "      <td>7.631811</td>\n",
       "    </tr>\n",
       "    <tr>\n",
       "      <th>12</th>\n",
       "      <td>supernatural</td>\n",
       "      <td>7.664955</td>\n",
       "      <td>7.568932</td>\n",
       "    </tr>\n",
       "    <tr>\n",
       "      <th>13</th>\n",
       "      <td>mecha</td>\n",
       "      <td>7.332608</td>\n",
       "      <td>7.462341</td>\n",
       "    </tr>\n",
       "    <tr>\n",
       "      <th>14</th>\n",
       "      <td>historical</td>\n",
       "      <td>7.664955</td>\n",
       "      <td>7.568932</td>\n",
       "    </tr>\n",
       "    <tr>\n",
       "      <th>15</th>\n",
       "      <td>super_power</td>\n",
       "      <td>7.587236</td>\n",
       "      <td>7.310658</td>\n",
       "    </tr>\n",
       "    <tr>\n",
       "      <th>16</th>\n",
       "      <td>fantasy</td>\n",
       "      <td>7.265102</td>\n",
       "      <td>7.272283</td>\n",
       "    </tr>\n",
       "    <tr>\n",
       "      <th>17</th>\n",
       "      <td>slice_of_life</td>\n",
       "      <td>7.942211</td>\n",
       "      <td>7.853445</td>\n",
       "    </tr>\n",
       "    <tr>\n",
       "      <th>18</th>\n",
       "      <td>shoujo</td>\n",
       "      <td>7.533662</td>\n",
       "      <td>7.540115</td>\n",
       "    </tr>\n",
       "    <tr>\n",
       "      <th>19</th>\n",
       "      <td>horror</td>\n",
       "      <td>6.806373</td>\n",
       "      <td>7.046048</td>\n",
       "    </tr>\n",
       "    <tr>\n",
       "      <th>20</th>\n",
       "      <td>harem</td>\n",
       "      <td>6.566519</td>\n",
       "      <td>6.735337</td>\n",
       "    </tr>\n",
       "  </tbody>\n",
       "</table>\n",
       "</div>"
      ],
      "text/plain": [
       "            genre  Gen_Z_score  Millenial_score\n",
       "0          comedy     7.695085         7.544193\n",
       "1          action     7.370713         7.284483\n",
       "2           sport     8.012987         7.804348\n",
       "3           drama     7.787674         7.736092\n",
       "4        military     7.845609         7.750107\n",
       "5           music     7.565359         7.577594\n",
       "6          school     7.523183         7.364632\n",
       "7         shounen     7.817575         7.594521\n",
       "8         romance     7.466918         7.479257\n",
       "9          sci_fi     7.508536         7.395005\n",
       "10      adventure     7.542912         7.472025\n",
       "11        mystery     7.720485         7.631811\n",
       "12   supernatural     7.664955         7.568932\n",
       "13          mecha     7.332608         7.462341\n",
       "14     historical     7.664955         7.568932\n",
       "15    super_power     7.587236         7.310658\n",
       "16        fantasy     7.265102         7.272283\n",
       "17  slice_of_life     7.942211         7.853445\n",
       "18         shoujo     7.533662         7.540115\n",
       "19         horror     6.806373         7.046048\n",
       "20          harem     6.566519         6.735337"
      ]
     },
     "execution_count": 72,
     "metadata": {},
     "output_type": "execute_result"
    }
   ],
   "source": [
    "overall_df = overall_comedy\n",
    "overall_df['action'] = overall_action['score']\n",
    "overall_df['sport'] = overall_sports['score']\n",
    "overall_df['drama'] = overall_drama['score']\n",
    "overall_df['military'] = overall_military['score']\n",
    "overall_df['music'] = overall_music['score']\n",
    "overall_df['school'] = overall_school['score']\n",
    "overall_df['shounen'] = overall_shounen['score']\n",
    "overall_df['romance'] = overall_romance['score']\n",
    "overall_df['sci_fi'] = overall_sci_fi['score']\n",
    "overall_df['adventure'] = overall_adventure['score']\n",
    "overall_df['mystery'] = overall_mystery['score']\n",
    "overall_df['supernatural'] = overall_supernatural['score']\n",
    "overall_df['mecha'] = overall_mecha['score']\n",
    "overall_df['historical'] = overall_historical['score']\n",
    "overall_df['super_power'] = overall_super_power['score']\n",
    "overall_df['fantasy'] = overall_fantasy['score']\n",
    "overall_df['slice_of_life'] = overall_slice_of_life['score']\n",
    "overall_df['shoujo'] = overall_shoujo['score']\n",
    "overall_df['horror'] = overall_horror['score']\n",
    "overall_df['harem'] = overall_harem['score']\n",
    "overall_df = overall_df.rename(columns={'score': 'comedy'})\n",
    "new_overall = pd.DataFrame(columns = ['genre','Gen_Z_score','Millenial_score'])\n",
    "genres = [\"comedy\", \"action\", 'sport', 'drama','military','music','school','shounen','romance',\n",
    "                           'sci_fi','adventure','mystery','supernatural','mecha','historical','super_power',\n",
    "                           'fantasy','slice_of_life','shoujo','horror','harem']\n",
    "count = 0\n",
    "for genre in genres:\n",
    "    new_overall.loc[count] = [genre,overall_df[genre][0],overall_df[genre][1]]\n",
    "    count+=1\n",
    "new_overall"
   ]
  },
  {
   "cell_type": "markdown",
   "metadata": {},
   "source": [
    "Down below is a graph where we get to see all the average ratings for each genre separated by the fact of them being a Gen Z or a Millenial for easier viewing."
   ]
  },
  {
   "cell_type": "code",
   "execution_count": 73,
   "metadata": {},
   "outputs": [
    {
     "data": {
      "image/png": "[encoded data removed]",
      "text/plain": [
       "<Figure size 936x1440 with 1 Axes>"
      ]
     },
     "metadata": {
      "needs_background": "light"
     },
     "output_type": "display_data"
    }
   ],
   "source": [
    "new_overall.plot(x='genre', y=['Gen_Z_score','Millenial_score'], kind = 'barh',figsize=(13, 20))\n",
    "plt.show()"
   ]
  },
  {
   "cell_type": "markdown",
   "metadata": {},
   "source": [
    "Overall, Gen-Z preferred 14/21, while Millenials preferred 7/21. Even though most of their scores were pretty even between the two age groups, there was still a difference. Gen-Z seem to prefer comedy, action, sports, drama, military, shounen, sci-fi, supernatural, slice of life, historical, super power, mystery, adventure, and school. And Millenial seemed to prefer fantasy, mecha, music, romance, shoujo, horror, and harem"
   ]
  },
  {
   "cell_type": "markdown",
   "metadata": {},
   "source": [
    "# T-Test/Regression Model\n"
   ]
  },
  {
   "cell_type": "markdown",
   "metadata": {},
   "source": [
    "In order to further analyze and fully understand whether or not there is a significant difference between Gen Z and Millennials anime preferences, we'll perform linear regressions on the anime reviews scores given by the group that did the review (Gen Z or Millennial) to see if there is a significant difference on preferences between the two age groups and the scores they give for the animes various genres. While we are here, we also wanted to see if other factors such as gender would have a bigger contribution to the difference in preferences, if there are any.\n",
    "\n",
    "We began by running a regression model on the genre comedy to see whether the age gaps affect the preference for the genre. However, to save space, for the rest of the genre, we'll be printing only the P values of [Age, Male/Female, Nonbinary]. The True/False will indicate whether or not there is a significant difference between the predictors Age, Gender(Male, Non-Binary) and the dependent variable, 'score' in this case."
   ]
  },
  {
   "cell_type": "code",
   "execution_count": 74,
   "metadata": {},
   "outputs": [
    {
     "name": "stdout",
     "output_type": "stream",
     "text": [
      "                            OLS Regression Results                            \n",
      "==============================================================================\n",
      "Dep. Variable:                  score   R-squared:                       0.005\n",
      "Model:                            OLS   Adj. R-squared:                  0.005\n",
      "Method:                 Least Squares   F-statistic:                     43.70\n",
      "Date:                Sat, 12 Mar 2022   Prob (F-statistic):           3.67e-28\n",
      "Time:                        00:29:29   Log-Likelihood:                -59022.\n",
      "No. Observations:               27012   AIC:                         1.181e+05\n",
      "Df Residuals:                   27008   BIC:                         1.181e+05\n",
      "Df Model:                           3                                         \n",
      "Covariance Type:            nonrobust                                         \n",
      "========================================================================================\n",
      "                           coef    std err          t      P>|t|      [0.025      0.975]\n",
      "----------------------------------------------------------------------------------------\n",
      "Intercept                7.9146      0.030    261.799      0.000       7.855       7.974\n",
      "Age[T.Millenials]       -0.1456      0.026     -5.497      0.000      -0.198      -0.094\n",
      "gender[T.Male]          -0.2877      0.031     -9.367      0.000      -0.348      -0.228\n",
      "gender[T.Non-Binary]    -0.5992      0.119     -5.022      0.000      -0.833      -0.365\n",
      "==============================================================================\n",
      "Omnibus:                     3766.502   Durbin-Watson:                   1.511\n",
      "Prob(Omnibus):                  0.000   Jarque-Bera (JB):             5545.929\n",
      "Skew:                          -1.055   Prob(JB):                         0.00\n",
      "Kurtosis:                       3.689   Cond. No.                         12.9\n",
      "==============================================================================\n",
      "\n",
      "Notes:\n",
      "[1] Standard Errors assume that the covariance matrix of the errors is correctly specified.\n"
     ]
    }
   ],
   "source": [
    "df_reviews_comedy\n",
    "dependent1, predictors1 = patsy.dmatrices('score ~ Age + gender',df_reviews_comedy)\n",
    "model1 = sm.OLS(dependent1, predictors1)\n",
    "res_1 = model1.fit()\n",
    "print(res_1.summary())"
   ]
  },
  {
   "cell_type": "code",
   "execution_count": 75,
   "metadata": {},
   "outputs": [
    {
     "name": "stdout",
     "output_type": "stream",
     "text": [
      "0.00352 True\n",
      "0.0 True\n",
      "0.0 True\n"
     ]
    }
   ],
   "source": [
    "dependent2, predictors2 = patsy.dmatrices('score ~ Age + gender',df_reviews_action)\n",
    "model2 = sm.OLS(dependent2, predictors2)\n",
    "res_2 = model2.fit()\n",
    "for attributeIndex in range(1,4):\n",
    "    print(round(res_2.pvalues[attributeIndex],5), round(res_2.pvalues[attributeIndex],5) < 0.01 )"
   ]
  },
  {
   "cell_type": "code",
   "execution_count": 76,
   "metadata": {},
   "outputs": [
    {
     "name": "stdout",
     "output_type": "stream",
     "text": [
      "0.06265 False\n",
      "0.00047 True\n",
      "0.0999 False\n"
     ]
    }
   ],
   "source": [
    "dependent3, predictors3 = patsy.dmatrices('score ~ Age + gender',df_reviews_sports)\n",
    "model3 = sm.OLS(dependent3, predictors3)\n",
    "res_3 = model3.fit()\n",
    "for attributeIndex in range(1,4):\n",
    "    print(round(res_3.pvalues[attributeIndex],5), round(res_3.pvalues[attributeIndex],5) < 0.01 )"
   ]
  },
  {
   "cell_type": "code",
   "execution_count": 77,
   "metadata": {},
   "outputs": [
    {
     "name": "stdout",
     "output_type": "stream",
     "text": [
      "0.08849 False\n",
      "0.0 True\n",
      "0.0 True\n"
     ]
    }
   ],
   "source": [
    "dependent4, predictors4 = patsy.dmatrices('score ~ Age + gender',df_reviews_drama)\n",
    "model4 = sm.OLS(dependent4, predictors4)\n",
    "res_4 = model4.fit()\n",
    "for attributeIndex in range(1,4):\n",
    "    print(round(res_4.pvalues[attributeIndex],5), round(res_4.pvalues[attributeIndex],5) < 0.01 )"
   ]
  },
  {
   "cell_type": "code",
   "execution_count": 78,
   "metadata": {},
   "outputs": [
    {
     "name": "stdout",
     "output_type": "stream",
     "text": [
      "0.17229 False\n",
      "0.0 True\n",
      "0.05435 False\n"
     ]
    }
   ],
   "source": [
    "dependent5, predictors5 = patsy.dmatrices('score ~ Age + gender',df_reviews_military)\n",
    "model5= sm.OLS(dependent5, predictors5)\n",
    "res_5 = model5.fit()\n",
    "for attributeIndex in range(1,4):\n",
    "    print(round(res_5.pvalues[attributeIndex],5), round(res_5.pvalues[attributeIndex],5) < 0.01 )"
   ]
  },
  {
   "cell_type": "code",
   "execution_count": 79,
   "metadata": {},
   "outputs": [
    {
     "name": "stdout",
     "output_type": "stream",
     "text": [
      "0.88547 False\n",
      "0.06055 False\n",
      "0.37256 False\n"
     ]
    }
   ],
   "source": [
    "dependent6, predictors6 = patsy.dmatrices('score ~ Age + gender',df_reviews_music)\n",
    "model6= sm.OLS(dependent6, predictors6)\n",
    "res_6 = model6.fit()\n",
    "for attributeIndex in range(1,4):\n",
    "    print(round(res_6.pvalues[attributeIndex],5), round(res_6.pvalues[attributeIndex],5) < 0.01 )"
   ]
  },
  {
   "cell_type": "code",
   "execution_count": 80,
   "metadata": {},
   "outputs": [
    {
     "name": "stdout",
     "output_type": "stream",
     "text": [
      "1e-05 True\n",
      "0.00093 True\n",
      "0.00051 True\n"
     ]
    }
   ],
   "source": [
    "dependent7, predictors7 = patsy.dmatrices('score ~ Age + gender',df_reviews_school)\n",
    "model7 = sm.OLS(dependent7, predictors7)\n",
    "res_7 = model7.fit()\n",
    "for attributeIndex in range(1,4):\n",
    "    print(round(res_7.pvalues[attributeIndex],5), round(res_7.pvalues[attributeIndex],5) < 0.01 )"
   ]
  },
  {
   "cell_type": "code",
   "execution_count": 81,
   "metadata": {},
   "outputs": [
    {
     "name": "stdout",
     "output_type": "stream",
     "text": [
      "0.0 True\n",
      "0.0 True\n",
      "0.0 True\n"
     ]
    }
   ],
   "source": [
    "dependent8, predictors8 = patsy.dmatrices('score ~ Age + gender',df_reviews_shounen)\n",
    "model8 = sm.OLS(dependent8, predictors8)\n",
    "res_8 = model8.fit()\n",
    "for attributeIndex in range(1,4):\n",
    "    print(round(res_8.pvalues[attributeIndex],5), round(res_8.pvalues[attributeIndex],5) < 0.01 )"
   ]
  },
  {
   "cell_type": "code",
   "execution_count": 82,
   "metadata": {},
   "outputs": [
    {
     "name": "stdout",
     "output_type": "stream",
     "text": [
      "0.82593 False\n",
      "0.0 True\n",
      "0.0 True\n"
     ]
    }
   ],
   "source": [
    "dependent9, predictors9 = patsy.dmatrices('score ~ Age + gender',df_reviews_romance)\n",
    "model9 = sm.OLS(dependent9, predictors9)\n",
    "res_9 = model9.fit()\n",
    "for attributeIndex in range(1,4):\n",
    "    print(round(res_9.pvalues[attributeIndex],5), round(res_9.pvalues[attributeIndex],5) < 0.01 )"
   ]
  },
  {
   "cell_type": "code",
   "execution_count": 83,
   "metadata": {},
   "outputs": [
    {
     "name": "stdout",
     "output_type": "stream",
     "text": [
      "0.0035 True\n",
      "0.00037 True\n",
      "0.00017 True\n"
     ]
    }
   ],
   "source": [
    "dependent10, predictors10 = patsy.dmatrices('score ~ Age + gender',df_reviews_sci_fi)\n",
    "model10 = sm.OLS(dependent10, predictors10)\n",
    "res_10 = model10.fit()\n",
    "for attributeIndex in range(1,4):\n",
    "    print(round(res_10.pvalues[attributeIndex],5), round(res_10.pvalues[attributeIndex],5) < 0.01 )"
   ]
  },
  {
   "cell_type": "code",
   "execution_count": 84,
   "metadata": {},
   "outputs": [
    {
     "name": "stdout",
     "output_type": "stream",
     "text": [
      "0.07349 False\n",
      "0.0 True\n",
      "0.00095 True\n"
     ]
    }
   ],
   "source": [
    "dependent11, predictors11 = patsy.dmatrices('score ~ Age + gender',df_reviews_adventure)\n",
    "model11 = sm.OLS(dependent11, predictors11)\n",
    "res_11 = model11.fit()\n",
    "for attributeIndex in range(1,4):\n",
    "    print(round(res_11.pvalues[attributeIndex],5), round(res_11.pvalues[attributeIndex],5) < 0.01 )"
   ]
  },
  {
   "cell_type": "code",
   "execution_count": 85,
   "metadata": {},
   "outputs": [
    {
     "name": "stdout",
     "output_type": "stream",
     "text": [
      "0.07804 False\n",
      "0.00043 True\n",
      "0.07385 False\n"
     ]
    }
   ],
   "source": [
    "dependent12, predictors12 = patsy.dmatrices('score ~ Age + gender',df_reviews_mystery)\n",
    "model12 = sm.OLS(dependent12, predictors12)\n",
    "res_12 = model12.fit()\n",
    "for attributeIndex in range(1,4):\n",
    "    print(round(res_12.pvalues[attributeIndex],5), round(res_12.pvalues[attributeIndex],5) < 0.01 )"
   ]
  },
  {
   "cell_type": "code",
   "execution_count": 86,
   "metadata": {},
   "outputs": [
    {
     "name": "stdout",
     "output_type": "stream",
     "text": [
      "0.00936 True\n",
      "0.0 True\n",
      "0.0 True\n"
     ]
    }
   ],
   "source": [
    "dependent13, predictors13 = patsy.dmatrices('score ~ Age + gender',df_reviews_supernatural)\n",
    "model13 = sm.OLS(dependent13, predictors13)\n",
    "res_13 = model13.fit()\n",
    "for attributeIndex in range(1,4):\n",
    "    print(round(res_13.pvalues[attributeIndex],5), round(res_13.pvalues[attributeIndex],5) < 0.01 )"
   ]
  },
  {
   "cell_type": "code",
   "execution_count": 87,
   "metadata": {},
   "outputs": [
    {
     "name": "stdout",
     "output_type": "stream",
     "text": [
      "0.08745 False\n",
      "0.053 False\n",
      "0.00047 True\n"
     ]
    }
   ],
   "source": [
    "dependent14, predictors14 = patsy.dmatrices('score ~ Age + gender',df_reviews_mecha)\n",
    "model14 = sm.OLS(dependent14, predictors14)\n",
    "res_14 = model14.fit()\n",
    "for attributeIndex in range(1,4):\n",
    "    print(round(res_14.pvalues[attributeIndex],5), round(res_14.pvalues[attributeIndex],5) < 0.01 )"
   ]
  },
  {
   "cell_type": "code",
   "execution_count": 88,
   "metadata": {},
   "outputs": [
    {
     "name": "stdout",
     "output_type": "stream",
     "text": [
      "0.00936 True\n",
      "0.0 True\n",
      "0.0 True\n"
     ]
    }
   ],
   "source": [
    "dependent15, predictors15 = patsy.dmatrices('score ~ Age + gender',df_reviews_historical)\n",
    "model15 = sm.OLS(dependent15, predictors15)\n",
    "res_15 = model15.fit()\n",
    "for attributeIndex in range(1,4):\n",
    "    print(round(res_15.pvalues[attributeIndex],5), round(res_15.pvalues[attributeIndex],5) < 0.01 )"
   ]
  },
  {
   "cell_type": "code",
   "execution_count": 89,
   "metadata": {},
   "outputs": [
    {
     "name": "stdout",
     "output_type": "stream",
     "text": [
      "1e-05 True\n",
      "0.0 True\n",
      "0.01201 False\n"
     ]
    }
   ],
   "source": [
    "dependent16, predictors16 = patsy.dmatrices('score ~ Age + gender',df_reviews_super_power)\n",
    "model16 = sm.OLS(dependent16, predictors16)\n",
    "res_16 = model16.fit()\n",
    "for attributeIndex in range(1,4):\n",
    "    print(round(res_16.pvalues[attributeIndex],5), round(res_16.pvalues[attributeIndex],5) < 0.01 )"
   ]
  },
  {
   "cell_type": "code",
   "execution_count": 90,
   "metadata": {},
   "outputs": [
    {
     "name": "stdout",
     "output_type": "stream",
     "text": [
      "0.78933 False\n",
      "0.0 True\n",
      "6e-05 True\n"
     ]
    }
   ],
   "source": [
    "dependent17, predictors17 = patsy.dmatrices('score ~ Age + gender',df_reviews_fantasy)\n",
    "model17 = sm.OLS(dependent17, predictors17)\n",
    "res_17 = model17.fit()\n",
    "for attributeIndex in range(1,4):\n",
    "    print(round(res_17.pvalues[attributeIndex],5), round(res_17.pvalues[attributeIndex],5) < 0.01 )\n"
   ]
  },
  {
   "cell_type": "code",
   "execution_count": 91,
   "metadata": {},
   "outputs": [
    {
     "name": "stdout",
     "output_type": "stream",
     "text": [
      "0.02518 False\n",
      "0.20328 False\n",
      "0.37987 False\n"
     ]
    }
   ],
   "source": [
    "dependent18, predictors18 = patsy.dmatrices('score ~ Age + gender',df_reviews_slice)\n",
    "model18 = sm.OLS(dependent18, predictors18)\n",
    "res_18 = model18.fit()\n",
    "for attributeIndex in range(1,4):\n",
    "    print(round(res_18.pvalues[attributeIndex],5), round(res_18.pvalues[attributeIndex],5) < 0.01 )\n"
   ]
  },
  {
   "cell_type": "code",
   "execution_count": 92,
   "metadata": {},
   "outputs": [
    {
     "name": "stdout",
     "output_type": "stream",
     "text": [
      "0.68554 False\n",
      "0.0 True\n",
      "0.00988 True\n"
     ]
    }
   ],
   "source": [
    "dependent19, predictors19 = patsy.dmatrices('score ~ Age + gender',df_reviews_shoujo)\n",
    "model19 = sm.OLS(dependent19, predictors19)\n",
    "res_19 = model19.fit()\n",
    "for attributeIndex in range(1,4):\n",
    "    print(round(res_19.pvalues[attributeIndex],5), round(res_19.pvalues[attributeIndex],5) < 0.01 )"
   ]
  },
  {
   "cell_type": "code",
   "execution_count": 93,
   "metadata": {},
   "outputs": [
    {
     "name": "stdout",
     "output_type": "stream",
     "text": [
      "0.00094 True\n",
      "0.00025 True\n",
      "0.02037 False\n"
     ]
    }
   ],
   "source": [
    "dependent20, predictors20 = patsy.dmatrices('score ~ Age + gender',df_reviews_horror)\n",
    "model20 = sm.OLS(dependent20, predictors20)\n",
    "res_20 = model20.fit()\n",
    "for attributeIndex in range(1,4):\n",
    "    print(round(res_20.pvalues[attributeIndex],5), round(res_20.pvalues[attributeIndex],5) < 0.01 )"
   ]
  },
  {
   "cell_type": "code",
   "execution_count": 94,
   "metadata": {
    "scrolled": true
   },
   "outputs": [
    {
     "name": "stdout",
     "output_type": "stream",
     "text": [
      "0.03671 False\n",
      "0.10637 False\n",
      "0.03856 False\n"
     ]
    }
   ],
   "source": [
    "dependent21, predictors21 = patsy.dmatrices('score ~ Age + gender',df_reviews_harem)\n",
    "model21 = sm.OLS(dependent21, predictors21)\n",
    "res_21 = model21.fit()\n",
    "for attributeIndex in range(1,4):\n",
    "    print(round(res_21.pvalues[attributeIndex],5), round(res_21.pvalues[attributeIndex],5) < 0.01 )"
   ]
  },
  {
   "cell_type": "markdown",
   "metadata": {},
   "source": [
    "After running the regression model on each genre with age and gender as the 2 predictors and looking at their p-values, we can see that age isn't a clear predictor for score as more than half(12/21) of these genres indicated no significant difference with an alpha of 0.01. On the otherhand, with gender as the predictor for score, we found that 18/21 genres resulted in a significant difference, showing that gender, in this case, proves to be the better or more consistent predictor for score/ratings of an anime. At the same time, this denies our initial prediction that scores were more dictated/impacted by age groups only."
   ]
  },
  {
   "cell_type": "markdown",
   "metadata": {},
   "source": [
    "# Ethics & Privacy"
   ]
  },
  {
   "cell_type": "markdown",
   "metadata": {},
   "source": [
    "All of our data comes from public datasets. These datasets are listed on public websites anyone can access, such as Kaggle. There is also data pulled directly off MyAnimeList, which gathers reported information about reviews and ratings, where users know that said reviews and ratings will be posted online for all to see - this is information willingly shared with the public. Although there is some data that uses personal bias, such as a user’s personal rating for a show, the reviews are averaged out and cannot be traced back to the user. Another way we prevent tracing back is by removing the MyAnimeList username, so that no individual person’s privacy is violated. We also do not intend on using personal information, such as gender, age, and profile name, in order to avoid a possible data breach or privacy exposure.\n",
    "\n",
    "We note that this project is aimed to look at and analyze the possible effects age has on show genre preference. We are not advocating or preferring a certain genre or age over another. We understand that this project could potentially imply to show producers to produce more content of a certain genre matched with a certain age group, however this project is simply trying to look for correlations within art, at the most basic level. The benefits of this project outweigh the potential risk of this project being used for selfish or power-hungry purposes."
   ]
  },
  {
   "cell_type": "markdown",
   "metadata": {},
   "source": [
    "# Conclusion & Discussion"
   ]
  },
  {
   "cell_type": "markdown",
   "metadata": {},
   "source": [
    "Our research question gathered information regarding anime genres, as well as ratings given to specific shows from users who have watched those animes. We looked at the popularities of the shows, and how different age generations (specifically Millenials and Gen Z-ers) rated them. More specifically, we wanted to look at trends between the two age groups, if one group preferred a certain genre over another. Does being a Millenial or Gen Z-er mean you enjoy specific genres of anime over the other? \n",
    "\n",
    "In order to answer our question, we looked at data. The dataset contained several thousand unique anime titles, along with the corresponding genres they responded to. It also included user profiles and information about the profiles: their username (which we ignored for ethical reasons), gender (which we also ignored for initial EDA), and year of birth (which we used to determine if they were classified as a Millennial or Gen Z). It also included the rating.\n",
    "\n",
    "With our EDA, we were able to look at different trends between the genres and age groups. For example, Gen-Z preferred 14 out of the 21 genres (over Millennials), and Millennials preferred the other 7. We also noticed that the scores seemed pretty even between the two age groups.\n",
    "\n",
    "We performed linear regressions (t-test) on our data. We found that overall, age was not a very good predictor for the score given to the anime. Because we did not get statistically significant results from doing tests on age, we decided to look at gender as well (and compare it to age), and found out that gender determined the score way more than age. Thus, we did not support our initial hypothesis that age strongly dictates the ratings of an anime.\n",
    "\n",
    "### Limitations\n",
    "Despite finding evidence, we did also find some limitations in the analysis. For example, some animes had more reviews and ratings than others. That means that the animes with more reviews could suffer from the law of large numbers, which states that as the sample size grows, the mean averages out. In that case, reviews from animes with less popularity will carry more weight. \n",
    "\n",
    "We had a few other limitations as well. One of them being that we did not have enough variables. In addition, the age groups were broad, over 30 years fit into only two groups. We could have added a third or fourth group, to make the ages more significant, independent, and individual. There are also always going to be outliers, such as people older or younger than the age range we set, and outliers in those who do not have these accounts to send reviews in the first place."
   ]
  },
  {
   "cell_type": "markdown",
   "metadata": {},
   "source": [
    "# Team Contributions"
   ]
  },
  {
   "cell_type": "markdown",
   "metadata": {},
   "source": [
    "#### Claire Wu:\n",
    "- Did the writeups for the background, hypothesis, and conclusion\n",
    "- Researched specific datasets and prior works\n",
    "- Curated a presentation to provide a concise overview of our project\n",
    "- Helped with the editing of the overall writeup\n",
    "\n",
    "\n",
    "#### Felicity Villagomez:\n",
    "- Writeup for the overview \n",
    "- Produced a video explaining the details of the project\n",
    "- Helped with the editing of the overall writeup\n",
    "\n",
    "#### Duy Pham:\n",
    "- Organized the overall average scores between the genres and the age group\n",
    "- Plotted the bar graph to compare the preferences between Gen-Z and Millenials \n",
    "- Wrote T-test finding significant differences between age groups and gender\n",
    "- Helped adding details for clarity in the write up \n",
    "\n",
    "#### Hy Huynh:\n",
    "- Cleaned up the dataset that matches our need for the hypothesis\n",
    "- Provided tables for each genre based on user, age, and score\n",
    "- Plotted graphs to compare both the average scores of Gen-Z and Millenials for every genre\n",
    "- Helped adding details for clarity in the write up \n",
    "\n",
    "#### Andrew Vo:\n",
    "- Proofread bugs and minor errors within the coding\n",
    "- Splitting the workload to provide data for each genre\n",
    "- Helped with the editing of the overall writeup"
   ]
  }
 ],
 "metadata": {
  "kernelspec": {
   "display_name": "Python 3 (ipykernel)",
   "language": "python",
   "name": "python3"
  },
  "language_info": {
   "codemirror_mode": {
    "name": "ipython",
    "version": 3
   },
   "file_extension": ".py",
   "mimetype": "text/x-python",
   "name": "python",
   "nbconvert_exporter": "python",
   "pygments_lexer": "ipython3",
   "version": "3.9.5"
  }
 },
 "nbformat": 4,
 "nbformat_minor": 2
}
