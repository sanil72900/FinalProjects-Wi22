{
 "cells": [
  {
   "cell_type": "markdown",
   "metadata": {},
   "source": [
    "# COGS 108 - Covid influence on IMDb rating "
   ]
  },
  {
   "cell_type": "markdown",
   "metadata": {},
   "source": [
    "## Permissions\n",
    "\n",
    "Place an `X` in the appropriate bracket below to specify if you would like your group's project to be made available to the public. (Note that student names will be included (but PIDs will be scraped from any groups who include their PIDs).\n",
    "\n",
    "* [ X ] YES - make available\n",
    "* [  ] NO - keep private"
   ]
  },
  {
   "cell_type": "markdown",
   "metadata": {},
   "source": [
    "### Link to video presentation: https://youtu.be/ctxBKgSMMMs"
   ]
  },
  {
   "cell_type": "markdown",
   "metadata": {},
   "source": [
    "# Overview"
   ]
  },
  {
   "cell_type": "markdown",
   "metadata": {},
   "source": [
    "As the COVID-19 pandemic has influenced various aspects of daily lives, the film industry no doubt has also suffered from enormous impacts under factors like obstacles in movie production and the psychological states of the audience. For our project, we aim to determine whether the ratings for movies during the pandemic are significantly different from those before. We are also interested in whether the genres of the movies play a role in influencing the ratings. We extracted data from one of the most recognizable platforms, IMDb, and categorized them into 2018-2019 before-pandemic group and 2020-2022 during-pandemic group. We conducted t-test analysis between the distribution in movie rating before and after the pandemic. We also conducted linear regression to determine if there is a statistically significant linear relationship between the independent variable (year before and after pandemic) and the dependent variable (movie rating). Upon analysis, we found that there is a significant distribution difference between movie rating before and after the pandemic, but we fail to reject the null hypothesis using linear regression. We also analyzed the role of genres as factors affecting the movie ratings. We selected the top 10 common genres and ran t-tests on each of them. We found significance in all 10 genres except 1) Comedy,Talk-Show; 2) Drama,Romance and 3) Crime,Drama,Mystery. Overall, we conclude that both Covid-19 and genres of movies have significant influence on movie rating before and during the pandemic. "
   ]
  },
  {
   "cell_type": "markdown",
   "metadata": {},
   "source": [
    "# Names\n",
    "\n",
    "- Jiaqi Chen A15572667\n",
    "- Caiyi Li A15612529\n",
    "- Man Kui Sit A17148723\n",
    "- Yutong Chen A15907095\n",
    "- Xingyu Deng A15851708"
   ]
  },
  {
   "cell_type": "markdown",
   "metadata": {},
   "source": [
    "<a id='research_question'></a>\n",
    "# Research Question"
   ]
  },
  {
   "cell_type": "markdown",
   "metadata": {},
   "source": [
    "*Are the average IMDb ratings of movie and TV shows released during the COVID-19 pandemic (2020-2022) generally lower than those released before the pandemic (2018-2019)? Do genres also have an influence on the ratings?*"
   ]
  },
  {
   "cell_type": "markdown",
   "metadata": {},
   "source": [
    "<a id='background'></a>\n",
    "\n",
    "## Background & Prior Work"
   ]
  },
  {
   "cell_type": "markdown",
   "metadata": {},
   "source": [
    "COVID-19 has changed nearly every aspect of people’s life. With the further spread of the pandemic around the world, its impact on the movie market is also spreading, with box office totals falling and many movies being forced to withdraw or postpone their premieres. Movies in progress have also been forced to suspend filming. According to a report from Florida State University, the US box office loss during the epidemic was about $5 billion (1). In addition to the direct box office loss, COVID-19 will certainly also have a huge impact on various aspects of film production and distribution, and the loss of the global film market during the pandemic will be much higher than this figure.\n",
    "\n",
    "While COVID-19 poses a real threat to cinemas, it also triggers a wave of innovation, allowing the film industry to find new possibilities. When lots of movie theatres are forced to close down and many people are quarantined at home, people's demand for film and television consumption tends to shift online. From a report written by Brad Adgate on Forbes, we learn that the demand for TV series, online dramas, and online movies has increased significantly. Some theatrical movies are directly uploaded to online platforms; there is also a spike in the number of views and membership size of online video platforms (2). On one hand, it shows that film and video industry has a diversity of revenue sources; on the other hand, it reveals that people's need for film and television culture is continuous.\n",
    "\n",
    "We, as a group, are all passionate about media and entertainment. Therefore, we are interested in exploring how the pandemic may affect people’s opinions and attitudes of the entertainment industry, especially the film industry. As the pandemic has limited the ways of entertainment we could choose from, we are eager to find whether it has an influence on our standards towards movies.\n",
    "\n",
    "Moreover, researches have shown that COVID-19 has affected both the physical and mental well-being of people. By studying the Mood responses of 1,062 participants (386 male, 676 female), Peter C. Terry and other researchers came up with the conclusion that there is a significant mood disturbance among the population during the period of COVID-19 restrictions (3). We wonder if the increased level of negative emotions will also influence how people rate a movie.\n",
    "\n",
    "References:\n",
    "- 1)https://union.fsu.edu/movies/blog/COVID\n",
    "\n",
    "- 2)https://www.forbes.com/sites/bradadgate/2021/04/13/the-impact-covid-19-had-on-the-entertainment-industry-in-2020/?sh=67323391250f\n",
    "\n",
    "- 3)https://www.frontiersin.org/articles/10.3389/fpsyg.2020.589598/full"
   ]
  },
  {
   "cell_type": "markdown",
   "metadata": {},
   "source": [
    "# Hypothesis\n"
   ]
  },
  {
   "cell_type": "markdown",
   "metadata": {},
   "source": [
    "We predict that the ratings for movies from 2020 to 2022 of the ongoing pandemic would be significantly lower than those before the pandemic in 2018 and 2019. Both the overall performance of the film industry and the audience’s evaluation would decrease. The overall performance of the firm industry would decrease because of the various problems caused by the COVID-19, such as the health of the crew and the difficulty of them gathering together, which we assume is illustrated by the quality of produced movies. It is possible that the bad moods of the audience would influence how they rate the movies. The audience could also be more strict with movie ratings for they spend more time in solitude, allowing more careful observation and rigorous judgments of the movies."
   ]
  },
  {
   "cell_type": "markdown",
   "metadata": {},
   "source": [
    "# Dataset(s)"
   ]
  },
  {
   "cell_type": "markdown",
   "metadata": {},
   "source": [
    "We use dataset from the authoritative platform IMDb to obtain the ratings for movies during the past years. More specifically, we use average ratings from 2018 to 2022 for drawing comparisons before(2018-2019) and during the pandemic(2020-2022). We focus on variables such as the release year of movie for grouping them and the average rating for each movie. Information for each movie/TV show is stored under the a unique identifier for us to locate the year and the rating together. We would calculate the average movie rating for each year and analyze them to see whether a significant difference exists. We also include the genre variable to investigate the possible effect of genre on the ratings.\n",
    "\n",
    "### I.Basic information of titles\n",
    "- **1) Dataset Name:** title.basics.tsv\n",
    "- **2) Link to the dataset:** https://www.imdb.com/interfaces/\n",
    "- **3) Number of observations:** 8723787 \n",
    "- **4) Description:** This dataset contains data on the basic information of titles ranging from 1874 up to 2022. The observation is each title of the movie/TV show in the IMDb database.\n",
    "- **5) Variable:**\n",
    "<br>\n",
    "     "
   ]
  },
  {
   "cell_type": "markdown",
   "metadata": {},
   "source": [
    "|Variable|Description|\n",
    "|:-|:-|\n",
    "|tconst |alphanumeric unique identifier of the title |\n",
    "|titleType  |the type/format of the title |\n",
    "|primaryTitle |the more popular title|\n",
    "|originalTitle  |original title in orginal language |\n",
    "|isAdult  |0: non-adult title; 1: adult title |\n",
    "|startYear  |the release year of a title|\n",
    "|endYear  |TV Series end year. ‘\\N’ for all other title types |\n",
    "|runtimeMinutes  |primary runtime of the title in minutes|\n",
    "|genres  |up to three genres associated with the title|"
   ]
  },
  {
   "cell_type": "markdown",
   "metadata": {},
   "source": [
    "#### II.IMDb ratings for titles\n",
    "- **1)Dataset Name:** title.ratings.tsv\n",
    "- **2)Link to the dataset:** https://www.imdb.com/interfaces/\n",
    "- **3)Number of observations:** 1218446\n",
    "- **4)Description:** This dataset contains the information of IMDb ratings and votes for titles. The observation is each title of the movie/TV show in the IMDb database.\n",
    "- **5)Variable:**"
   ]
  },
  {
   "cell_type": "markdown",
   "metadata": {},
   "source": [
    "|Variable|Description|\n",
    "|:-|:-|\n",
    "|tconst |alphanumeric unique identifier of the title |\n",
    "|averageRating  |weighted average of all the individual user ratings |\n",
    "|numVotes |number of votes the title has received|\n"
   ]
  },
  {
   "cell_type": "markdown",
   "metadata": {},
   "source": [
    "As these two datasets have the common column “tconst”, which is the unique identifier of each title, we will use merge function to match the basic information of the title and the rating it has. **(Note: Data download date: Feb 24 2022)**"
   ]
  },
  {
   "cell_type": "markdown",
   "metadata": {},
   "source": [
    "# Setup"
   ]
  },
  {
   "cell_type": "code",
   "execution_count": 1,
   "metadata": {},
   "outputs": [],
   "source": [
    "## First import all necessary libraries for this project\n",
    "import pandas as pd\n",
    "import numpy as np\n",
    "import seaborn as sns\n",
    "import matplotlib.pyplot as plt\n",
    "import patsy\n",
    "import statsmodels.api as sm\n",
    "from scipy.stats import ttest_ind, chisquare, normaltest"
   ]
  },
  {
   "cell_type": "markdown",
   "metadata": {},
   "source": [
    "# Data Cleaning"
   ]
  },
  {
   "cell_type": "markdown",
   "metadata": {},
   "source": [
    "## Movie Data\n",
    "### 1. Movie Basics data\n",
    "<br>\n",
    "First we load the data from tsv file for basic movie information, including the title and genre for each movie/TV show. The data did need to be cleaned because there is a lot of uncessary information, for example the primary title (original Title would be enough), titleType, runtime Minutes, and endYear(since we only have to consider year that the movie is released). We want to remove all the unnecessary information since it won't be useful to our data analysis."
   ]
  },
  {
   "cell_type": "code",
   "execution_count": 2,
   "metadata": {},
   "outputs": [
    {
     "data": {
      "text/html": [
       "<div>\n",
       "<style scoped>\n",
       "    .dataframe tbody tr th:only-of-type {\n",
       "        vertical-align: middle;\n",
       "    }\n",
       "\n",
       "    .dataframe tbody tr th {\n",
       "        vertical-align: top;\n",
       "    }\n",
       "\n",
       "    .dataframe thead th {\n",
       "        text-align: right;\n",
       "    }\n",
       "</style>\n",
       "<table border=\"1\" class=\"dataframe\">\n",
       "  <thead>\n",
       "    <tr style=\"text-align: right;\">\n",
       "      <th></th>\n",
       "      <th>tconst</th>\n",
       "      <th>originalTitle</th>\n",
       "      <th>isAdult</th>\n",
       "      <th>startYear</th>\n",
       "      <th>genres</th>\n",
       "    </tr>\n",
       "  </thead>\n",
       "  <tbody>\n",
       "    <tr>\n",
       "      <th>0</th>\n",
       "      <td>tt0000001</td>\n",
       "      <td>Carmencita</td>\n",
       "      <td>0</td>\n",
       "      <td>1894</td>\n",
       "      <td>Documentary,Short</td>\n",
       "    </tr>\n",
       "    <tr>\n",
       "      <th>1</th>\n",
       "      <td>tt0000002</td>\n",
       "      <td>Le clown et ses chiens</td>\n",
       "      <td>0</td>\n",
       "      <td>1892</td>\n",
       "      <td>Animation,Short</td>\n",
       "    </tr>\n",
       "    <tr>\n",
       "      <th>2</th>\n",
       "      <td>tt0000003</td>\n",
       "      <td>Pauvre Pierrot</td>\n",
       "      <td>0</td>\n",
       "      <td>1892</td>\n",
       "      <td>Animation,Comedy,Romance</td>\n",
       "    </tr>\n",
       "    <tr>\n",
       "      <th>3</th>\n",
       "      <td>tt0000004</td>\n",
       "      <td>Un bon bock</td>\n",
       "      <td>0</td>\n",
       "      <td>1892</td>\n",
       "      <td>Animation,Short</td>\n",
       "    </tr>\n",
       "    <tr>\n",
       "      <th>4</th>\n",
       "      <td>tt0000005</td>\n",
       "      <td>Blacksmith Scene</td>\n",
       "      <td>0</td>\n",
       "      <td>1893</td>\n",
       "      <td>Comedy,Short</td>\n",
       "    </tr>\n",
       "  </tbody>\n",
       "</table>\n",
       "</div>"
      ],
      "text/plain": [
       "      tconst           originalTitle isAdult startYear  \\\n",
       "0  tt0000001              Carmencita       0      1894   \n",
       "1  tt0000002  Le clown et ses chiens       0      1892   \n",
       "2  tt0000003          Pauvre Pierrot       0      1892   \n",
       "3  tt0000004             Un bon bock       0      1892   \n",
       "4  tt0000005        Blacksmith Scene       0      1893   \n",
       "\n",
       "                     genres  \n",
       "0         Documentary,Short  \n",
       "1           Animation,Short  \n",
       "2  Animation,Comedy,Romance  \n",
       "3           Animation,Short  \n",
       "4              Comedy,Short  "
      ]
     },
     "execution_count": 2,
     "metadata": {},
     "output_type": "execute_result"
    }
   ],
   "source": [
    "## reading basics file \n",
    "tsv_file = \"basics.tsv\"\n",
    "basics = pd.read_csv(tsv_file,sep='\\t',low_memory=False)\n",
    "\n",
    "# dropping null values\n",
    "basics = basics.dropna()\n",
    "\n",
    "## drop all uncessary columns\n",
    "basics = basics.drop(['titleType','primaryTitle','runtimeMinutes','endYear'], axis = 1)\n",
    "\n",
    "## print out to see the modified data\n",
    "basics.head()"
   ]
  },
  {
   "cell_type": "code",
   "execution_count": 3,
   "metadata": {},
   "outputs": [
    {
     "data": {
      "text/plain": [
       "(8723787, 5)"
      ]
     },
     "execution_count": 3,
     "metadata": {},
     "output_type": "execute_result"
    }
   ],
   "source": [
    "basics.shape"
   ]
  },
  {
   "cell_type": "markdown",
   "metadata": {},
   "source": [
    "<a id='movie_rating_data_clean'></a>\n",
    "### 2. Movie Rating data\n",
    "Then we load & clean data from tsv file for movie rating data. The data did not need to be cleaned much because it only had the tconst, averageRating and number of votes. We only needed to drop all rows that had any null values. "
   ]
  },
  {
   "cell_type": "code",
   "execution_count": 4,
   "metadata": {},
   "outputs": [
    {
     "data": {
      "text/html": [
       "<div>\n",
       "<style scoped>\n",
       "    .dataframe tbody tr th:only-of-type {\n",
       "        vertical-align: middle;\n",
       "    }\n",
       "\n",
       "    .dataframe tbody tr th {\n",
       "        vertical-align: top;\n",
       "    }\n",
       "\n",
       "    .dataframe thead th {\n",
       "        text-align: right;\n",
       "    }\n",
       "</style>\n",
       "<table border=\"1\" class=\"dataframe\">\n",
       "  <thead>\n",
       "    <tr style=\"text-align: right;\">\n",
       "      <th></th>\n",
       "      <th>tconst</th>\n",
       "      <th>averageRating</th>\n",
       "      <th>numVotes</th>\n",
       "    </tr>\n",
       "  </thead>\n",
       "  <tbody>\n",
       "    <tr>\n",
       "      <th>0</th>\n",
       "      <td>tt0000001</td>\n",
       "      <td>5.7</td>\n",
       "      <td>1864</td>\n",
       "    </tr>\n",
       "    <tr>\n",
       "      <th>1</th>\n",
       "      <td>tt0000002</td>\n",
       "      <td>6.0</td>\n",
       "      <td>243</td>\n",
       "    </tr>\n",
       "    <tr>\n",
       "      <th>2</th>\n",
       "      <td>tt0000003</td>\n",
       "      <td>6.5</td>\n",
       "      <td>1631</td>\n",
       "    </tr>\n",
       "    <tr>\n",
       "      <th>3</th>\n",
       "      <td>tt0000004</td>\n",
       "      <td>6.0</td>\n",
       "      <td>158</td>\n",
       "    </tr>\n",
       "    <tr>\n",
       "      <th>4</th>\n",
       "      <td>tt0000005</td>\n",
       "      <td>6.2</td>\n",
       "      <td>2458</td>\n",
       "    </tr>\n",
       "  </tbody>\n",
       "</table>\n",
       "</div>"
      ],
      "text/plain": [
       "      tconst  averageRating  numVotes\n",
       "0  tt0000001            5.7      1864\n",
       "1  tt0000002            6.0       243\n",
       "2  tt0000003            6.5      1631\n",
       "3  tt0000004            6.0       158\n",
       "4  tt0000005            6.2      2458"
      ]
     },
     "execution_count": 4,
     "metadata": {},
     "output_type": "execute_result"
    }
   ],
   "source": [
    "## reading movie ratings file \n",
    "tsv_file2 = \"ratings.tsv\"\n",
    "ratings = pd.read_csv(tsv_file2,sep='\\t',low_memory=False)\n",
    "\n",
    "# dropping null values\n",
    "ratings = ratings.dropna()\n",
    "\n",
    "## print out to see the modified data\n",
    "ratings.head()\n",
    "\n"
   ]
  },
  {
   "cell_type": "code",
   "execution_count": 5,
   "metadata": {},
   "outputs": [
    {
     "data": {
      "text/plain": [
       "(1218446, 3)"
      ]
     },
     "execution_count": 5,
     "metadata": {},
     "output_type": "execute_result"
    }
   ],
   "source": [
    "ratings.shape"
   ]
  },
  {
   "cell_type": "markdown",
   "metadata": {},
   "source": [
    "### 3. Merge two data\n",
    "Here we want to merge [basics](#'movie_data_clean') and [rating](#'movie_rating_data_clean') based on the common identifier \"tconst\" to get it ready for data analysis."
   ]
  },
  {
   "cell_type": "code",
   "execution_count": 6,
   "metadata": {},
   "outputs": [],
   "source": [
    "## merge the two data sets base on the tconst identifer\n",
    "data = pd.merge(basics, ratings, on =\"tconst\")"
   ]
  },
  {
   "cell_type": "code",
   "execution_count": 7,
   "metadata": {},
   "outputs": [
    {
     "data": {
      "text/html": [
       "<div>\n",
       "<style scoped>\n",
       "    .dataframe tbody tr th:only-of-type {\n",
       "        vertical-align: middle;\n",
       "    }\n",
       "\n",
       "    .dataframe tbody tr th {\n",
       "        vertical-align: top;\n",
       "    }\n",
       "\n",
       "    .dataframe thead th {\n",
       "        text-align: right;\n",
       "    }\n",
       "</style>\n",
       "<table border=\"1\" class=\"dataframe\">\n",
       "  <thead>\n",
       "    <tr style=\"text-align: right;\">\n",
       "      <th></th>\n",
       "      <th>tconst</th>\n",
       "      <th>originalTitle</th>\n",
       "      <th>isAdult</th>\n",
       "      <th>startYear</th>\n",
       "      <th>genres</th>\n",
       "      <th>averageRating</th>\n",
       "      <th>numVotes</th>\n",
       "    </tr>\n",
       "  </thead>\n",
       "  <tbody>\n",
       "    <tr>\n",
       "      <th>0</th>\n",
       "      <td>tt0000001</td>\n",
       "      <td>Carmencita</td>\n",
       "      <td>0</td>\n",
       "      <td>1894</td>\n",
       "      <td>Documentary,Short</td>\n",
       "      <td>5.7</td>\n",
       "      <td>1864</td>\n",
       "    </tr>\n",
       "    <tr>\n",
       "      <th>1</th>\n",
       "      <td>tt0000002</td>\n",
       "      <td>Le clown et ses chiens</td>\n",
       "      <td>0</td>\n",
       "      <td>1892</td>\n",
       "      <td>Animation,Short</td>\n",
       "      <td>6.0</td>\n",
       "      <td>243</td>\n",
       "    </tr>\n",
       "    <tr>\n",
       "      <th>2</th>\n",
       "      <td>tt0000003</td>\n",
       "      <td>Pauvre Pierrot</td>\n",
       "      <td>0</td>\n",
       "      <td>1892</td>\n",
       "      <td>Animation,Comedy,Romance</td>\n",
       "      <td>6.5</td>\n",
       "      <td>1631</td>\n",
       "    </tr>\n",
       "    <tr>\n",
       "      <th>3</th>\n",
       "      <td>tt0000004</td>\n",
       "      <td>Un bon bock</td>\n",
       "      <td>0</td>\n",
       "      <td>1892</td>\n",
       "      <td>Animation,Short</td>\n",
       "      <td>6.0</td>\n",
       "      <td>158</td>\n",
       "    </tr>\n",
       "    <tr>\n",
       "      <th>4</th>\n",
       "      <td>tt0000005</td>\n",
       "      <td>Blacksmith Scene</td>\n",
       "      <td>0</td>\n",
       "      <td>1893</td>\n",
       "      <td>Comedy,Short</td>\n",
       "      <td>6.2</td>\n",
       "      <td>2458</td>\n",
       "    </tr>\n",
       "  </tbody>\n",
       "</table>\n",
       "</div>"
      ],
      "text/plain": [
       "      tconst           originalTitle isAdult startYear  \\\n",
       "0  tt0000001              Carmencita       0      1894   \n",
       "1  tt0000002  Le clown et ses chiens       0      1892   \n",
       "2  tt0000003          Pauvre Pierrot       0      1892   \n",
       "3  tt0000004             Un bon bock       0      1892   \n",
       "4  tt0000005        Blacksmith Scene       0      1893   \n",
       "\n",
       "                     genres  averageRating  numVotes  \n",
       "0         Documentary,Short            5.7      1864  \n",
       "1           Animation,Short            6.0       243  \n",
       "2  Animation,Comedy,Romance            6.5      1631  \n",
       "3           Animation,Short            6.0       158  \n",
       "4              Comedy,Short            6.2      2458  "
      ]
     },
     "execution_count": 7,
     "metadata": {},
     "output_type": "execute_result"
    }
   ],
   "source": [
    "## print the head to see the data\n",
    "data.head()"
   ]
  },
  {
   "cell_type": "markdown",
   "metadata": {},
   "source": [
    "### 4. Sort and clean data\n",
    "Here we want to sort the data according to the year movie/TV show is produced. We notice that there are some blank lines in the startYear. We want to remove all the data without a startYear. After sorting, we want to create two data sets (1)`data_before_pandemic` and (2)`data_after_pandemic`, containg all movie data before and after pandemic respectively."
   ]
  },
  {
   "cell_type": "code",
   "execution_count": 8,
   "metadata": {},
   "outputs": [],
   "source": [
    "## sorting data\n",
    "data = data.sort_values(by=['startYear'])"
   ]
  },
  {
   "cell_type": "code",
   "execution_count": 9,
   "metadata": {},
   "outputs": [
    {
     "data": {
      "text/html": [
       "<div>\n",
       "<style scoped>\n",
       "    .dataframe tbody tr th:only-of-type {\n",
       "        vertical-align: middle;\n",
       "    }\n",
       "\n",
       "    .dataframe tbody tr th {\n",
       "        vertical-align: top;\n",
       "    }\n",
       "\n",
       "    .dataframe thead th {\n",
       "        text-align: right;\n",
       "    }\n",
       "</style>\n",
       "<table border=\"1\" class=\"dataframe\">\n",
       "  <thead>\n",
       "    <tr style=\"text-align: right;\">\n",
       "      <th></th>\n",
       "      <th>tconst</th>\n",
       "      <th>originalTitle</th>\n",
       "      <th>isAdult</th>\n",
       "      <th>startYear</th>\n",
       "      <th>genres</th>\n",
       "      <th>averageRating</th>\n",
       "      <th>numVotes</th>\n",
       "    </tr>\n",
       "  </thead>\n",
       "  <tbody>\n",
       "    <tr>\n",
       "      <th>880782</th>\n",
       "      <td>tt3155794</td>\n",
       "      <td>Passage de Venus</td>\n",
       "      <td>0</td>\n",
       "      <td>1874</td>\n",
       "      <td>Documentary,Short</td>\n",
       "      <td>6.9</td>\n",
       "      <td>1584</td>\n",
       "    </tr>\n",
       "    <tr>\n",
       "      <th>654522</th>\n",
       "      <td>tt14495706</td>\n",
       "      <td>La Rosace Magique</td>\n",
       "      <td>0</td>\n",
       "      <td>1877</td>\n",
       "      <td>Animation,Short</td>\n",
       "      <td>6.0</td>\n",
       "      <td>92</td>\n",
       "    </tr>\n",
       "    <tr>\n",
       "      <th>722180</th>\n",
       "      <td>tt16763774</td>\n",
       "      <td>Zimm. Boum. Boum!</td>\n",
       "      <td>0</td>\n",
       "      <td>1877</td>\n",
       "      <td>Animation,Short</td>\n",
       "      <td>5.9</td>\n",
       "      <td>8</td>\n",
       "    </tr>\n",
       "    <tr>\n",
       "      <th>722179</th>\n",
       "      <td>tt16763740</td>\n",
       "      <td>Le jeu de corde</td>\n",
       "      <td>0</td>\n",
       "      <td>1877</td>\n",
       "      <td>Animation,Short</td>\n",
       "      <td>5.6</td>\n",
       "      <td>9</td>\n",
       "    </tr>\n",
       "    <tr>\n",
       "      <th>722177</th>\n",
       "      <td>tt16763674</td>\n",
       "      <td>La danse sur la corde</td>\n",
       "      <td>0</td>\n",
       "      <td>1877</td>\n",
       "      <td>Animation,Short</td>\n",
       "      <td>5.7</td>\n",
       "      <td>9</td>\n",
       "    </tr>\n",
       "    <tr>\n",
       "      <th>...</th>\n",
       "      <td>...</td>\n",
       "      <td>...</td>\n",
       "      <td>...</td>\n",
       "      <td>...</td>\n",
       "      <td>...</td>\n",
       "      <td>...</td>\n",
       "      <td>...</td>\n",
       "    </tr>\n",
       "    <tr>\n",
       "      <th>562884</th>\n",
       "      <td>tt12317906</td>\n",
       "      <td>From Largo Theatre Patton Oswalt</td>\n",
       "      <td>0</td>\n",
       "      <td>\\N</td>\n",
       "      <td>Comedy,Music,Talk-Show</td>\n",
       "      <td>7.9</td>\n",
       "      <td>11</td>\n",
       "    </tr>\n",
       "    <tr>\n",
       "      <th>562883</th>\n",
       "      <td>tt12317904</td>\n",
       "      <td>From Largo Theatre Don Cheadle</td>\n",
       "      <td>0</td>\n",
       "      <td>\\N</td>\n",
       "      <td>Comedy,Music,Talk-Show</td>\n",
       "      <td>6.8</td>\n",
       "      <td>10</td>\n",
       "    </tr>\n",
       "    <tr>\n",
       "      <th>562882</th>\n",
       "      <td>tt12317902</td>\n",
       "      <td>From Largo Theatre Chris Redd</td>\n",
       "      <td>0</td>\n",
       "      <td>\\N</td>\n",
       "      <td>Comedy,Music,Talk-Show</td>\n",
       "      <td>7.1</td>\n",
       "      <td>11</td>\n",
       "    </tr>\n",
       "    <tr>\n",
       "      <th>1045275</th>\n",
       "      <td>tt5847808</td>\n",
       "      <td>For the Team</td>\n",
       "      <td>0</td>\n",
       "      <td>\\N</td>\n",
       "      <td>Crime,Drama,Mystery</td>\n",
       "      <td>9.1</td>\n",
       "      <td>54</td>\n",
       "    </tr>\n",
       "    <tr>\n",
       "      <th>1099538</th>\n",
       "      <td>tt6848322</td>\n",
       "      <td>Tiger Cops</td>\n",
       "      <td>0</td>\n",
       "      <td>\\N</td>\n",
       "      <td>Action</td>\n",
       "      <td>7.4</td>\n",
       "      <td>6</td>\n",
       "    </tr>\n",
       "  </tbody>\n",
       "</table>\n",
       "<p>1218444 rows × 7 columns</p>\n",
       "</div>"
      ],
      "text/plain": [
       "             tconst                     originalTitle isAdult startYear  \\\n",
       "880782    tt3155794                  Passage de Venus       0      1874   \n",
       "654522   tt14495706                 La Rosace Magique       0      1877   \n",
       "722180   tt16763774                 Zimm. Boum. Boum!       0      1877   \n",
       "722179   tt16763740                   Le jeu de corde       0      1877   \n",
       "722177   tt16763674             La danse sur la corde       0      1877   \n",
       "...             ...                               ...     ...       ...   \n",
       "562884   tt12317906  From Largo Theatre Patton Oswalt       0        \\N   \n",
       "562883   tt12317904    From Largo Theatre Don Cheadle       0        \\N   \n",
       "562882   tt12317902     From Largo Theatre Chris Redd       0        \\N   \n",
       "1045275   tt5847808                      For the Team       0        \\N   \n",
       "1099538   tt6848322                        Tiger Cops       0        \\N   \n",
       "\n",
       "                         genres  averageRating  numVotes  \n",
       "880782        Documentary,Short            6.9      1584  \n",
       "654522          Animation,Short            6.0        92  \n",
       "722180          Animation,Short            5.9         8  \n",
       "722179          Animation,Short            5.6         9  \n",
       "722177          Animation,Short            5.7         9  \n",
       "...                         ...            ...       ...  \n",
       "562884   Comedy,Music,Talk-Show            7.9        11  \n",
       "562883   Comedy,Music,Talk-Show            6.8        10  \n",
       "562882   Comedy,Music,Talk-Show            7.1        11  \n",
       "1045275     Crime,Drama,Mystery            9.1        54  \n",
       "1099538                  Action            7.4         6  \n",
       "\n",
       "[1218444 rows x 7 columns]"
      ]
     },
     "execution_count": 9,
     "metadata": {},
     "output_type": "execute_result"
    }
   ],
   "source": [
    "data"
   ]
  },
  {
   "cell_type": "code",
   "execution_count": 10,
   "metadata": {},
   "outputs": [],
   "source": [
    "## function to replace all blank startYear with a\n",
    "def standardize_year(str_in):\n",
    "    \n",
    "    try:\n",
    "        str_in = str_in.replace(\"\\\\N\", \"a\")\n",
    "    except:\n",
    "        str_in = np.nan\n",
    "        \n",
    "    return str_in"
   ]
  },
  {
   "cell_type": "code",
   "execution_count": 11,
   "metadata": {},
   "outputs": [
    {
     "data": {
      "text/html": [
       "<div>\n",
       "<style scoped>\n",
       "    .dataframe tbody tr th:only-of-type {\n",
       "        vertical-align: middle;\n",
       "    }\n",
       "\n",
       "    .dataframe tbody tr th {\n",
       "        vertical-align: top;\n",
       "    }\n",
       "\n",
       "    .dataframe thead th {\n",
       "        text-align: right;\n",
       "    }\n",
       "</style>\n",
       "<table border=\"1\" class=\"dataframe\">\n",
       "  <thead>\n",
       "    <tr style=\"text-align: right;\">\n",
       "      <th></th>\n",
       "      <th>tconst</th>\n",
       "      <th>originalTitle</th>\n",
       "      <th>isAdult</th>\n",
       "      <th>startYear</th>\n",
       "      <th>genres</th>\n",
       "      <th>averageRating</th>\n",
       "      <th>numVotes</th>\n",
       "    </tr>\n",
       "  </thead>\n",
       "  <tbody>\n",
       "    <tr>\n",
       "      <th>880782</th>\n",
       "      <td>tt3155794</td>\n",
       "      <td>Passage de Venus</td>\n",
       "      <td>0</td>\n",
       "      <td>1874</td>\n",
       "      <td>Documentary,Short</td>\n",
       "      <td>6.9</td>\n",
       "      <td>1584</td>\n",
       "    </tr>\n",
       "    <tr>\n",
       "      <th>654522</th>\n",
       "      <td>tt14495706</td>\n",
       "      <td>La Rosace Magique</td>\n",
       "      <td>0</td>\n",
       "      <td>1877</td>\n",
       "      <td>Animation,Short</td>\n",
       "      <td>6.0</td>\n",
       "      <td>92</td>\n",
       "    </tr>\n",
       "    <tr>\n",
       "      <th>722180</th>\n",
       "      <td>tt16763774</td>\n",
       "      <td>Zimm. Boum. Boum!</td>\n",
       "      <td>0</td>\n",
       "      <td>1877</td>\n",
       "      <td>Animation,Short</td>\n",
       "      <td>5.9</td>\n",
       "      <td>8</td>\n",
       "    </tr>\n",
       "    <tr>\n",
       "      <th>722179</th>\n",
       "      <td>tt16763740</td>\n",
       "      <td>Le jeu de corde</td>\n",
       "      <td>0</td>\n",
       "      <td>1877</td>\n",
       "      <td>Animation,Short</td>\n",
       "      <td>5.6</td>\n",
       "      <td>9</td>\n",
       "    </tr>\n",
       "    <tr>\n",
       "      <th>722177</th>\n",
       "      <td>tt16763674</td>\n",
       "      <td>La danse sur la corde</td>\n",
       "      <td>0</td>\n",
       "      <td>1877</td>\n",
       "      <td>Animation,Short</td>\n",
       "      <td>5.7</td>\n",
       "      <td>9</td>\n",
       "    </tr>\n",
       "    <tr>\n",
       "      <th>...</th>\n",
       "      <td>...</td>\n",
       "      <td>...</td>\n",
       "      <td>...</td>\n",
       "      <td>...</td>\n",
       "      <td>...</td>\n",
       "      <td>...</td>\n",
       "      <td>...</td>\n",
       "    </tr>\n",
       "    <tr>\n",
       "      <th>722109</th>\n",
       "      <td>tt16761514</td>\n",
       "      <td>The War Plan</td>\n",
       "      <td>0</td>\n",
       "      <td>2022</td>\n",
       "      <td>Comedy,Romance</td>\n",
       "      <td>5.9</td>\n",
       "      <td>32</td>\n",
       "    </tr>\n",
       "    <tr>\n",
       "      <th>721828</th>\n",
       "      <td>tt16751250</td>\n",
       "      <td>New Year's Evil</td>\n",
       "      <td>0</td>\n",
       "      <td>2022</td>\n",
       "      <td>Action,Sport</td>\n",
       "      <td>6.8</td>\n",
       "      <td>19</td>\n",
       "    </tr>\n",
       "    <tr>\n",
       "      <th>721817</th>\n",
       "      <td>tt16750580</td>\n",
       "      <td>Home Inspector Joe</td>\n",
       "      <td>0</td>\n",
       "      <td>2022</td>\n",
       "      <td>Reality-TV</td>\n",
       "      <td>6.0</td>\n",
       "      <td>34</td>\n",
       "    </tr>\n",
       "    <tr>\n",
       "      <th>700408</th>\n",
       "      <td>tt15830222</td>\n",
       "      <td>Gordon Ramsay's Road Trip: Greek Vacation</td>\n",
       "      <td>0</td>\n",
       "      <td>2022</td>\n",
       "      <td>Adventure,Comedy,Reality-TV</td>\n",
       "      <td>7.9</td>\n",
       "      <td>8</td>\n",
       "    </tr>\n",
       "    <tr>\n",
       "      <th>721819</th>\n",
       "      <td>tt16750700</td>\n",
       "      <td>Still Water Runs Deep</td>\n",
       "      <td>0</td>\n",
       "      <td>2022</td>\n",
       "      <td>Comedy</td>\n",
       "      <td>3.4</td>\n",
       "      <td>12</td>\n",
       "    </tr>\n",
       "  </tbody>\n",
       "</table>\n",
       "<p>1218229 rows × 7 columns</p>\n",
       "</div>"
      ],
      "text/plain": [
       "            tconst                              originalTitle isAdult  \\\n",
       "880782   tt3155794                           Passage de Venus       0   \n",
       "654522  tt14495706                          La Rosace Magique       0   \n",
       "722180  tt16763774                          Zimm. Boum. Boum!       0   \n",
       "722179  tt16763740                            Le jeu de corde       0   \n",
       "722177  tt16763674                      La danse sur la corde       0   \n",
       "...            ...                                        ...     ...   \n",
       "722109  tt16761514                               The War Plan       0   \n",
       "721828  tt16751250                            New Year's Evil       0   \n",
       "721817  tt16750580                         Home Inspector Joe       0   \n",
       "700408  tt15830222  Gordon Ramsay's Road Trip: Greek Vacation       0   \n",
       "721819  tt16750700                      Still Water Runs Deep       0   \n",
       "\n",
       "       startYear                       genres  averageRating  numVotes  \n",
       "880782      1874            Documentary,Short            6.9      1584  \n",
       "654522      1877              Animation,Short            6.0        92  \n",
       "722180      1877              Animation,Short            5.9         8  \n",
       "722179      1877              Animation,Short            5.6         9  \n",
       "722177      1877              Animation,Short            5.7         9  \n",
       "...          ...                          ...            ...       ...  \n",
       "722109      2022               Comedy,Romance            5.9        32  \n",
       "721828      2022                 Action,Sport            6.8        19  \n",
       "721817      2022                   Reality-TV            6.0        34  \n",
       "700408      2022  Adventure,Comedy,Reality-TV            7.9         8  \n",
       "721819      2022                       Comedy            3.4        12  \n",
       "\n",
       "[1218229 rows x 7 columns]"
      ]
     },
     "execution_count": 11,
     "metadata": {},
     "output_type": "execute_result"
    }
   ],
   "source": [
    "#apply the standardize_year function\n",
    "data['startYear'] = data['startYear'].apply(standardize_year)\n",
    "\n",
    "##drop all blank startYear value(which we replace with a)\n",
    "data = data[data['startYear']!= \"a\"]\n",
    "\n",
    "## make sure all blank value are removed\n",
    "data"
   ]
  },
  {
   "cell_type": "code",
   "execution_count": 12,
   "metadata": {},
   "outputs": [],
   "source": [
    "## select the column that we need and save it to data_new\n",
    "data_new = data[['tconst','startYear','genres','averageRating']].copy()"
   ]
  },
  {
   "cell_type": "code",
   "execution_count": 13,
   "metadata": {},
   "outputs": [
    {
     "data": {
      "text/html": [
       "<div>\n",
       "<style scoped>\n",
       "    .dataframe tbody tr th:only-of-type {\n",
       "        vertical-align: middle;\n",
       "    }\n",
       "\n",
       "    .dataframe tbody tr th {\n",
       "        vertical-align: top;\n",
       "    }\n",
       "\n",
       "    .dataframe thead th {\n",
       "        text-align: right;\n",
       "    }\n",
       "</style>\n",
       "<table border=\"1\" class=\"dataframe\">\n",
       "  <thead>\n",
       "    <tr style=\"text-align: right;\">\n",
       "      <th></th>\n",
       "      <th>tconst</th>\n",
       "      <th>startYear</th>\n",
       "      <th>genres</th>\n",
       "      <th>averageRating</th>\n",
       "    </tr>\n",
       "  </thead>\n",
       "  <tbody>\n",
       "    <tr>\n",
       "      <th>1169512</th>\n",
       "      <td>tt8488114</td>\n",
       "      <td>2018</td>\n",
       "      <td>Action,Adventure,Animation</td>\n",
       "      <td>5.1</td>\n",
       "    </tr>\n",
       "    <tr>\n",
       "      <th>1181994</th>\n",
       "      <td>tt8846310</td>\n",
       "      <td>2018</td>\n",
       "      <td>Short</td>\n",
       "      <td>7.5</td>\n",
       "    </tr>\n",
       "    <tr>\n",
       "      <th>1216782</th>\n",
       "      <td>tt9865134</td>\n",
       "      <td>2018</td>\n",
       "      <td>Comedy,Short</td>\n",
       "      <td>9.2</td>\n",
       "    </tr>\n",
       "    <tr>\n",
       "      <th>1181992</th>\n",
       "      <td>tt8846198</td>\n",
       "      <td>2018</td>\n",
       "      <td>Drama</td>\n",
       "      <td>6.1</td>\n",
       "    </tr>\n",
       "    <tr>\n",
       "      <th>1181981</th>\n",
       "      <td>tt8845840</td>\n",
       "      <td>2018</td>\n",
       "      <td>Drama</td>\n",
       "      <td>6.2</td>\n",
       "    </tr>\n",
       "    <tr>\n",
       "      <th>...</th>\n",
       "      <td>...</td>\n",
       "      <td>...</td>\n",
       "      <td>...</td>\n",
       "      <td>...</td>\n",
       "    </tr>\n",
       "    <tr>\n",
       "      <th>473045</th>\n",
       "      <td>tt10493038</td>\n",
       "      <td>2019</td>\n",
       "      <td>Animation,Short</td>\n",
       "      <td>7.5</td>\n",
       "    </tr>\n",
       "    <tr>\n",
       "      <th>469565</th>\n",
       "      <td>tt10433052</td>\n",
       "      <td>2019</td>\n",
       "      <td>Animation,Drama,Mystery</td>\n",
       "      <td>8.8</td>\n",
       "    </tr>\n",
       "    <tr>\n",
       "      <th>469475</th>\n",
       "      <td>tt10431442</td>\n",
       "      <td>2019</td>\n",
       "      <td>Drama,Fantasy,History</td>\n",
       "      <td>7.7</td>\n",
       "    </tr>\n",
       "    <tr>\n",
       "      <th>943808</th>\n",
       "      <td>tt4126476</td>\n",
       "      <td>2019</td>\n",
       "      <td>Drama,Romance</td>\n",
       "      <td>5.3</td>\n",
       "    </tr>\n",
       "    <tr>\n",
       "      <th>469241</th>\n",
       "      <td>tt10425908</td>\n",
       "      <td>2019</td>\n",
       "      <td>Action,Crime,Drama</td>\n",
       "      <td>6.9</td>\n",
       "    </tr>\n",
       "  </tbody>\n",
       "</table>\n",
       "<p>110626 rows × 4 columns</p>\n",
       "</div>"
      ],
      "text/plain": [
       "             tconst startYear                      genres  averageRating\n",
       "1169512   tt8488114      2018  Action,Adventure,Animation            5.1\n",
       "1181994   tt8846310      2018                       Short            7.5\n",
       "1216782   tt9865134      2018                Comedy,Short            9.2\n",
       "1181992   tt8846198      2018                       Drama            6.1\n",
       "1181981   tt8845840      2018                       Drama            6.2\n",
       "...             ...       ...                         ...            ...\n",
       "473045   tt10493038      2019             Animation,Short            7.5\n",
       "469565   tt10433052      2019     Animation,Drama,Mystery            8.8\n",
       "469475   tt10431442      2019       Drama,Fantasy,History            7.7\n",
       "943808    tt4126476      2019               Drama,Romance            5.3\n",
       "469241   tt10425908      2019          Action,Crime,Drama            6.9\n",
       "\n",
       "[110626 rows x 4 columns]"
      ]
     },
     "execution_count": 13,
     "metadata": {},
     "output_type": "execute_result"
    }
   ],
   "source": [
    "## sort the data we want to use before the pandemic start \n",
    "data_before_pandemic = data_new[(data_new['startYear'] == '2018') | (data_new['startYear'] == '2019')]\n",
    "data_before_pandemic"
   ]
  },
  {
   "cell_type": "code",
   "execution_count": 14,
   "metadata": {},
   "outputs": [
    {
     "data": {
      "text/html": [
       "<div>\n",
       "<style scoped>\n",
       "    .dataframe tbody tr th:only-of-type {\n",
       "        vertical-align: middle;\n",
       "    }\n",
       "\n",
       "    .dataframe tbody tr th {\n",
       "        vertical-align: top;\n",
       "    }\n",
       "\n",
       "    .dataframe thead th {\n",
       "        text-align: right;\n",
       "    }\n",
       "</style>\n",
       "<table border=\"1\" class=\"dataframe\">\n",
       "  <thead>\n",
       "    <tr style=\"text-align: right;\">\n",
       "      <th></th>\n",
       "      <th>tconst</th>\n",
       "      <th>startYear</th>\n",
       "      <th>genres</th>\n",
       "      <th>averageRating</th>\n",
       "    </tr>\n",
       "  </thead>\n",
       "  <tbody>\n",
       "    <tr>\n",
       "      <th>542597</th>\n",
       "      <td>tt11873126</td>\n",
       "      <td>2020</td>\n",
       "      <td>Drama</td>\n",
       "      <td>7.6</td>\n",
       "    </tr>\n",
       "    <tr>\n",
       "      <th>547877</th>\n",
       "      <td>tt11986728</td>\n",
       "      <td>2020</td>\n",
       "      <td>Action,Crime,Drama</td>\n",
       "      <td>8.1</td>\n",
       "    </tr>\n",
       "    <tr>\n",
       "      <th>553174</th>\n",
       "      <td>tt12100064</td>\n",
       "      <td>2020</td>\n",
       "      <td>Comedy,Reality-TV</td>\n",
       "      <td>7.3</td>\n",
       "    </tr>\n",
       "    <tr>\n",
       "      <th>553172</th>\n",
       "      <td>tt12100048</td>\n",
       "      <td>2020</td>\n",
       "      <td>Comedy,Drama,Romance</td>\n",
       "      <td>3.5</td>\n",
       "    </tr>\n",
       "    <tr>\n",
       "      <th>553173</th>\n",
       "      <td>tt12100062</td>\n",
       "      <td>2020</td>\n",
       "      <td>Adventure,Family,Reality-TV</td>\n",
       "      <td>7.5</td>\n",
       "    </tr>\n",
       "    <tr>\n",
       "      <th>...</th>\n",
       "      <td>...</td>\n",
       "      <td>...</td>\n",
       "      <td>...</td>\n",
       "      <td>...</td>\n",
       "    </tr>\n",
       "    <tr>\n",
       "      <th>722109</th>\n",
       "      <td>tt16761514</td>\n",
       "      <td>2022</td>\n",
       "      <td>Comedy,Romance</td>\n",
       "      <td>5.9</td>\n",
       "    </tr>\n",
       "    <tr>\n",
       "      <th>721828</th>\n",
       "      <td>tt16751250</td>\n",
       "      <td>2022</td>\n",
       "      <td>Action,Sport</td>\n",
       "      <td>6.8</td>\n",
       "    </tr>\n",
       "    <tr>\n",
       "      <th>721817</th>\n",
       "      <td>tt16750580</td>\n",
       "      <td>2022</td>\n",
       "      <td>Reality-TV</td>\n",
       "      <td>6.0</td>\n",
       "    </tr>\n",
       "    <tr>\n",
       "      <th>700408</th>\n",
       "      <td>tt15830222</td>\n",
       "      <td>2022</td>\n",
       "      <td>Adventure,Comedy,Reality-TV</td>\n",
       "      <td>7.9</td>\n",
       "    </tr>\n",
       "    <tr>\n",
       "      <th>721819</th>\n",
       "      <td>tt16750700</td>\n",
       "      <td>2022</td>\n",
       "      <td>Comedy</td>\n",
       "      <td>3.4</td>\n",
       "    </tr>\n",
       "  </tbody>\n",
       "</table>\n",
       "<p>96303 rows × 4 columns</p>\n",
       "</div>"
      ],
      "text/plain": [
       "            tconst startYear                       genres  averageRating\n",
       "542597  tt11873126      2020                        Drama            7.6\n",
       "547877  tt11986728      2020           Action,Crime,Drama            8.1\n",
       "553174  tt12100064      2020            Comedy,Reality-TV            7.3\n",
       "553172  tt12100048      2020         Comedy,Drama,Romance            3.5\n",
       "553173  tt12100062      2020  Adventure,Family,Reality-TV            7.5\n",
       "...            ...       ...                          ...            ...\n",
       "722109  tt16761514      2022               Comedy,Romance            5.9\n",
       "721828  tt16751250      2022                 Action,Sport            6.8\n",
       "721817  tt16750580      2022                   Reality-TV            6.0\n",
       "700408  tt15830222      2022  Adventure,Comedy,Reality-TV            7.9\n",
       "721819  tt16750700      2022                       Comedy            3.4\n",
       "\n",
       "[96303 rows x 4 columns]"
      ]
     },
     "execution_count": 14,
     "metadata": {},
     "output_type": "execute_result"
    }
   ],
   "source": [
    "## sort the data we want to use after the pandemic start\n",
    "data_after_pandemic = data_new[(data_new['startYear'] == '2020') | (data_new['startYear'] == '2021')| (data_new['startYear'] == '2022')]\n",
    "data_after_pandemic"
   ]
  },
  {
   "cell_type": "markdown",
   "metadata": {},
   "source": [
    "# Data Analysis & Results"
   ]
  },
  {
   "cell_type": "markdown",
   "metadata": {},
   "source": [
    "At first we want to take a look at all of data, and the rating data of each year from 2018 to 2022."
   ]
  },
  {
   "cell_type": "code",
   "execution_count": 15,
   "metadata": {},
   "outputs": [],
   "source": [
    "all_data = data_new[(data_new['startYear'] == '2018') | (data_new['startYear'] == '2019') | (data_new['startYear'] == '2020') | (data_new['startYear'] == '2021')| (data_new['startYear'] == '2022')]"
   ]
  },
  {
   "cell_type": "code",
   "execution_count": 16,
   "metadata": {},
   "outputs": [
    {
     "data": {
      "text/plain": [
       "<AxesSubplot:xlabel='startYear', ylabel='averageRating'>"
      ]
     },
     "execution_count": 16,
     "metadata": {},
     "output_type": "execute_result"
    },
    {
     "data": {
      "image/png": "[encoded data removed]",
      "text/plain": [
       "<Figure size 432x288 with 1 Axes>"
      ]
     },
     "metadata": {
      "needs_background": "light"
     },
     "output_type": "display_data"
    }
   ],
   "source": [
    "# An overview of the rating of films over time\n",
    "sns.lineplot(data = all_data, x = 'startYear', y = 'averageRating')"
   ]
  },
  {
   "cell_type": "markdown",
   "metadata": {},
   "source": [
    "From the lineplot, we see a increase in rating during the pre-COVID period, from 2018 to 2019. Then there is a sudden drop from 2019 to 2020, when COVID first occured. From 2020 to 2022, it shows an increase in the rating.\n",
    "\n"
   ]
  },
  {
   "cell_type": "markdown",
   "metadata": {},
   "source": [
    "## 2018 Title Data"
   ]
  },
  {
   "cell_type": "code",
   "execution_count": 17,
   "metadata": {},
   "outputs": [
    {
     "data": {
      "text/html": [
       "<div>\n",
       "<style scoped>\n",
       "    .dataframe tbody tr th:only-of-type {\n",
       "        vertical-align: middle;\n",
       "    }\n",
       "\n",
       "    .dataframe tbody tr th {\n",
       "        vertical-align: top;\n",
       "    }\n",
       "\n",
       "    .dataframe thead th {\n",
       "        text-align: right;\n",
       "    }\n",
       "</style>\n",
       "<table border=\"1\" class=\"dataframe\">\n",
       "  <thead>\n",
       "    <tr style=\"text-align: right;\">\n",
       "      <th></th>\n",
       "      <th>index</th>\n",
       "      <th>tconst</th>\n",
       "      <th>startYear</th>\n",
       "      <th>genres</th>\n",
       "      <th>averageRating</th>\n",
       "    </tr>\n",
       "  </thead>\n",
       "  <tbody>\n",
       "    <tr>\n",
       "      <th>0</th>\n",
       "      <td>1169512</td>\n",
       "      <td>tt8488114</td>\n",
       "      <td>2018</td>\n",
       "      <td>Action,Adventure,Animation</td>\n",
       "      <td>5.1</td>\n",
       "    </tr>\n",
       "    <tr>\n",
       "      <th>1</th>\n",
       "      <td>1181994</td>\n",
       "      <td>tt8846310</td>\n",
       "      <td>2018</td>\n",
       "      <td>Short</td>\n",
       "      <td>7.5</td>\n",
       "    </tr>\n",
       "    <tr>\n",
       "      <th>2</th>\n",
       "      <td>1216782</td>\n",
       "      <td>tt9865134</td>\n",
       "      <td>2018</td>\n",
       "      <td>Comedy,Short</td>\n",
       "      <td>9.2</td>\n",
       "    </tr>\n",
       "    <tr>\n",
       "      <th>3</th>\n",
       "      <td>1181992</td>\n",
       "      <td>tt8846198</td>\n",
       "      <td>2018</td>\n",
       "      <td>Drama</td>\n",
       "      <td>6.1</td>\n",
       "    </tr>\n",
       "    <tr>\n",
       "      <th>4</th>\n",
       "      <td>1181981</td>\n",
       "      <td>tt8845840</td>\n",
       "      <td>2018</td>\n",
       "      <td>Drama</td>\n",
       "      <td>6.2</td>\n",
       "    </tr>\n",
       "    <tr>\n",
       "      <th>...</th>\n",
       "      <td>...</td>\n",
       "      <td>...</td>\n",
       "      <td>...</td>\n",
       "      <td>...</td>\n",
       "      <td>...</td>\n",
       "    </tr>\n",
       "    <tr>\n",
       "      <th>55196</th>\n",
       "      <td>1153200</td>\n",
       "      <td>tt8066650</td>\n",
       "      <td>2018</td>\n",
       "      <td>Animation,Documentary,Short</td>\n",
       "      <td>6.7</td>\n",
       "    </tr>\n",
       "    <tr>\n",
       "      <th>55197</th>\n",
       "      <td>1156714</td>\n",
       "      <td>tt8159034</td>\n",
       "      <td>2018</td>\n",
       "      <td>Reality-TV</td>\n",
       "      <td>5.0</td>\n",
       "    </tr>\n",
       "    <tr>\n",
       "      <th>55198</th>\n",
       "      <td>1156713</td>\n",
       "      <td>tt8159030</td>\n",
       "      <td>2018</td>\n",
       "      <td>Reality-TV</td>\n",
       "      <td>5.4</td>\n",
       "    </tr>\n",
       "    <tr>\n",
       "      <th>55199</th>\n",
       "      <td>1153206</td>\n",
       "      <td>tt8066818</td>\n",
       "      <td>2018</td>\n",
       "      <td>Action,Comedy</td>\n",
       "      <td>5.7</td>\n",
       "    </tr>\n",
       "    <tr>\n",
       "      <th>55200</th>\n",
       "      <td>1156739</td>\n",
       "      <td>tt8159724</td>\n",
       "      <td>2018</td>\n",
       "      <td>Short</td>\n",
       "      <td>7.5</td>\n",
       "    </tr>\n",
       "  </tbody>\n",
       "</table>\n",
       "<p>55201 rows × 5 columns</p>\n",
       "</div>"
      ],
      "text/plain": [
       "         index     tconst startYear                       genres  \\\n",
       "0      1169512  tt8488114      2018   Action,Adventure,Animation   \n",
       "1      1181994  tt8846310      2018                        Short   \n",
       "2      1216782  tt9865134      2018                 Comedy,Short   \n",
       "3      1181992  tt8846198      2018                        Drama   \n",
       "4      1181981  tt8845840      2018                        Drama   \n",
       "...        ...        ...       ...                          ...   \n",
       "55196  1153200  tt8066650      2018  Animation,Documentary,Short   \n",
       "55197  1156714  tt8159034      2018                   Reality-TV   \n",
       "55198  1156713  tt8159030      2018                   Reality-TV   \n",
       "55199  1153206  tt8066818      2018                Action,Comedy   \n",
       "55200  1156739  tt8159724      2018                        Short   \n",
       "\n",
       "       averageRating  \n",
       "0                5.1  \n",
       "1                7.5  \n",
       "2                9.2  \n",
       "3                6.1  \n",
       "4                6.2  \n",
       "...              ...  \n",
       "55196            6.7  \n",
       "55197            5.0  \n",
       "55198            5.4  \n",
       "55199            5.7  \n",
       "55200            7.5  \n",
       "\n",
       "[55201 rows x 5 columns]"
      ]
     },
     "execution_count": 17,
     "metadata": {},
     "output_type": "execute_result"
    }
   ],
   "source": [
    "#take a look at the data of movies and TV shows released in 2018\n",
    "data_2018 = data_new[data_new['startYear'] == '2018'].reset_index()\n",
    "data_2018"
   ]
  },
  {
   "cell_type": "code",
   "execution_count": 18,
   "metadata": {},
   "outputs": [
    {
     "data": {
      "text/plain": [
       "(55201, 5)"
      ]
     },
     "execution_count": 18,
     "metadata": {},
     "output_type": "execute_result"
    }
   ],
   "source": [
    "data_2018.shape"
   ]
  },
  {
   "cell_type": "code",
   "execution_count": 19,
   "metadata": {},
   "outputs": [
    {
     "data": {
      "text/plain": [
       "count    55201.000000\n",
       "mean         7.106009\n",
       "std          1.395474\n",
       "min          1.000000\n",
       "25%          6.400000\n",
       "50%          7.300000\n",
       "75%          8.100000\n",
       "max         10.000000\n",
       "Name: averageRating, dtype: float64"
      ]
     },
     "execution_count": 19,
     "metadata": {},
     "output_type": "execute_result"
    }
   ],
   "source": [
    "data_2018['averageRating'].describe()"
   ]
  },
  {
   "cell_type": "code",
   "execution_count": 20,
   "metadata": {},
   "outputs": [
    {
     "data": {
      "text/plain": [
       "<seaborn.axisgrid.FacetGrid at 0x7fbe34a33160>"
      ]
     },
     "execution_count": 20,
     "metadata": {},
     "output_type": "execute_result"
    },
    {
     "data": {
      "image/png": "[encoded data removed]",
      "text/plain": [
       "<Figure size 360x360 with 1 Axes>"
      ]
     },
     "metadata": {
      "needs_background": "light"
     },
     "output_type": "display_data"
    }
   ],
   "source": [
    "#take a look at the distribution of ratings\n",
    "sns.displot(data_2018['averageRating'], kde = True)"
   ]
  },
  {
   "cell_type": "code",
   "execution_count": 21,
   "metadata": {},
   "outputs": [
    {
     "data": {
      "text/plain": [
       "Comedy                        4291\n",
       "Documentary                   4123\n",
       "Drama                         3649\n",
       "Reality-TV                    2179\n",
       "Action,Adventure,Animation    1636\n",
       "                              ... \n",
       "Fantasy,Music,Musical            1\n",
       "News,Sci-Fi,Short                1\n",
       "Adventure,Animation,Sport        1\n",
       "Adventure,Western                1\n",
       "Action,Romance,War               1\n",
       "Name: genres, Length: 889, dtype: int64"
      ]
     },
     "execution_count": 21,
     "metadata": {},
     "output_type": "execute_result"
    }
   ],
   "source": [
    "data_2018['genres'].value_counts()"
   ]
  },
  {
   "cell_type": "markdown",
   "metadata": {},
   "source": [
    "From the visualization we generated, the average ratings of titles released in 2018 is normally distributed, with a little skewed to the left.\n",
    "From the visualization we generated, the average ratings of titles released in 2018 is normally distributed, with a little skewed to the left."
   ]
  },
  {
   "cell_type": "markdown",
   "metadata": {},
   "source": [
    "## 2019 Title Data"
   ]
  },
  {
   "cell_type": "code",
   "execution_count": 22,
   "metadata": {},
   "outputs": [
    {
     "data": {
      "text/html": [
       "<div>\n",
       "<style scoped>\n",
       "    .dataframe tbody tr th:only-of-type {\n",
       "        vertical-align: middle;\n",
       "    }\n",
       "\n",
       "    .dataframe tbody tr th {\n",
       "        vertical-align: top;\n",
       "    }\n",
       "\n",
       "    .dataframe thead th {\n",
       "        text-align: right;\n",
       "    }\n",
       "</style>\n",
       "<table border=\"1\" class=\"dataframe\">\n",
       "  <thead>\n",
       "    <tr style=\"text-align: right;\">\n",
       "      <th></th>\n",
       "      <th>index</th>\n",
       "      <th>tconst</th>\n",
       "      <th>startYear</th>\n",
       "      <th>genres</th>\n",
       "      <th>averageRating</th>\n",
       "    </tr>\n",
       "  </thead>\n",
       "  <tbody>\n",
       "    <tr>\n",
       "      <th>0</th>\n",
       "      <td>1211672</td>\n",
       "      <td>tt9685290</td>\n",
       "      <td>2019</td>\n",
       "      <td>Drama</td>\n",
       "      <td>7.2</td>\n",
       "    </tr>\n",
       "    <tr>\n",
       "      <th>1</th>\n",
       "      <td>1208537</td>\n",
       "      <td>tt9584972</td>\n",
       "      <td>2019</td>\n",
       "      <td>Drama</td>\n",
       "      <td>5.5</td>\n",
       "    </tr>\n",
       "    <tr>\n",
       "      <th>2</th>\n",
       "      <td>1105931</td>\n",
       "      <td>tt6985248</td>\n",
       "      <td>2019</td>\n",
       "      <td>Crime,Drama,Short</td>\n",
       "      <td>8.6</td>\n",
       "    </tr>\n",
       "    <tr>\n",
       "      <th>3</th>\n",
       "      <td>1209599</td>\n",
       "      <td>tt9619196</td>\n",
       "      <td>2019</td>\n",
       "      <td>Documentary</td>\n",
       "      <td>7.7</td>\n",
       "    </tr>\n",
       "    <tr>\n",
       "      <th>4</th>\n",
       "      <td>1153424</td>\n",
       "      <td>tt8072130</td>\n",
       "      <td>2019</td>\n",
       "      <td>Action,Adventure,Mystery</td>\n",
       "      <td>8.0</td>\n",
       "    </tr>\n",
       "    <tr>\n",
       "      <th>...</th>\n",
       "      <td>...</td>\n",
       "      <td>...</td>\n",
       "      <td>...</td>\n",
       "      <td>...</td>\n",
       "      <td>...</td>\n",
       "    </tr>\n",
       "    <tr>\n",
       "      <th>55420</th>\n",
       "      <td>473045</td>\n",
       "      <td>tt10493038</td>\n",
       "      <td>2019</td>\n",
       "      <td>Animation,Short</td>\n",
       "      <td>7.5</td>\n",
       "    </tr>\n",
       "    <tr>\n",
       "      <th>55421</th>\n",
       "      <td>469565</td>\n",
       "      <td>tt10433052</td>\n",
       "      <td>2019</td>\n",
       "      <td>Animation,Drama,Mystery</td>\n",
       "      <td>8.8</td>\n",
       "    </tr>\n",
       "    <tr>\n",
       "      <th>55422</th>\n",
       "      <td>469475</td>\n",
       "      <td>tt10431442</td>\n",
       "      <td>2019</td>\n",
       "      <td>Drama,Fantasy,History</td>\n",
       "      <td>7.7</td>\n",
       "    </tr>\n",
       "    <tr>\n",
       "      <th>55423</th>\n",
       "      <td>943808</td>\n",
       "      <td>tt4126476</td>\n",
       "      <td>2019</td>\n",
       "      <td>Drama,Romance</td>\n",
       "      <td>5.3</td>\n",
       "    </tr>\n",
       "    <tr>\n",
       "      <th>55424</th>\n",
       "      <td>469241</td>\n",
       "      <td>tt10425908</td>\n",
       "      <td>2019</td>\n",
       "      <td>Action,Crime,Drama</td>\n",
       "      <td>6.9</td>\n",
       "    </tr>\n",
       "  </tbody>\n",
       "</table>\n",
       "<p>55425 rows × 5 columns</p>\n",
       "</div>"
      ],
      "text/plain": [
       "         index      tconst startYear                    genres  averageRating\n",
       "0      1211672   tt9685290      2019                     Drama            7.2\n",
       "1      1208537   tt9584972      2019                     Drama            5.5\n",
       "2      1105931   tt6985248      2019         Crime,Drama,Short            8.6\n",
       "3      1209599   tt9619196      2019               Documentary            7.7\n",
       "4      1153424   tt8072130      2019  Action,Adventure,Mystery            8.0\n",
       "...        ...         ...       ...                       ...            ...\n",
       "55420   473045  tt10493038      2019           Animation,Short            7.5\n",
       "55421   469565  tt10433052      2019   Animation,Drama,Mystery            8.8\n",
       "55422   469475  tt10431442      2019     Drama,Fantasy,History            7.7\n",
       "55423   943808   tt4126476      2019             Drama,Romance            5.3\n",
       "55424   469241  tt10425908      2019        Action,Crime,Drama            6.9\n",
       "\n",
       "[55425 rows x 5 columns]"
      ]
     },
     "execution_count": 22,
     "metadata": {},
     "output_type": "execute_result"
    }
   ],
   "source": [
    "#take a look at the data of movies and TV shows released in 2019\n",
    "data_2019 = data_new[data_new['startYear'] == '2019'].reset_index()\n",
    "data_2019"
   ]
  },
  {
   "cell_type": "code",
   "execution_count": 23,
   "metadata": {},
   "outputs": [
    {
     "data": {
      "text/plain": [
       "(55425, 5)"
      ]
     },
     "execution_count": 23,
     "metadata": {},
     "output_type": "execute_result"
    }
   ],
   "source": [
    "data_2019.shape"
   ]
  },
  {
   "cell_type": "code",
   "execution_count": 24,
   "metadata": {},
   "outputs": [
    {
     "data": {
      "text/plain": [
       "count    55425.000000\n",
       "mean         7.134549\n",
       "std          1.391018\n",
       "min          1.000000\n",
       "25%          6.400000\n",
       "50%          7.300000\n",
       "75%          8.100000\n",
       "max         10.000000\n",
       "Name: averageRating, dtype: float64"
      ]
     },
     "execution_count": 24,
     "metadata": {},
     "output_type": "execute_result"
    }
   ],
   "source": [
    "data_2019['averageRating'].describe()"
   ]
  },
  {
   "cell_type": "code",
   "execution_count": 25,
   "metadata": {},
   "outputs": [
    {
     "data": {
      "text/plain": [
       "<seaborn.axisgrid.FacetGrid at 0x7fbe342b71f0>"
      ]
     },
     "execution_count": 25,
     "metadata": {},
     "output_type": "execute_result"
    },
    {
     "data": {
      "image/png": "[encoded data removed]",
      "text/plain": [
       "<Figure size 360x360 with 1 Axes>"
      ]
     },
     "metadata": {
      "needs_background": "light"
     },
     "output_type": "display_data"
    }
   ],
   "source": [
    "#take a look at the distribution of ratings\n",
    "sns.displot(data_2019['averageRating'], kde = True)"
   ]
  },
  {
   "cell_type": "markdown",
   "metadata": {},
   "source": [
    "From the visualization we generated, the average ratings of titles released in 2019 is normally distributed, with a little skewed to the left."
   ]
  },
  {
   "cell_type": "markdown",
   "metadata": {},
   "source": [
    "## 2020 Title Data"
   ]
  },
  {
   "cell_type": "code",
   "execution_count": 26,
   "metadata": {},
   "outputs": [
    {
     "data": {
      "text/html": [
       "<div>\n",
       "<style scoped>\n",
       "    .dataframe tbody tr th:only-of-type {\n",
       "        vertical-align: middle;\n",
       "    }\n",
       "\n",
       "    .dataframe tbody tr th {\n",
       "        vertical-align: top;\n",
       "    }\n",
       "\n",
       "    .dataframe thead th {\n",
       "        text-align: right;\n",
       "    }\n",
       "</style>\n",
       "<table border=\"1\" class=\"dataframe\">\n",
       "  <thead>\n",
       "    <tr style=\"text-align: right;\">\n",
       "      <th></th>\n",
       "      <th>index</th>\n",
       "      <th>tconst</th>\n",
       "      <th>startYear</th>\n",
       "      <th>genres</th>\n",
       "      <th>averageRating</th>\n",
       "    </tr>\n",
       "  </thead>\n",
       "  <tbody>\n",
       "    <tr>\n",
       "      <th>0</th>\n",
       "      <td>542597</td>\n",
       "      <td>tt11873126</td>\n",
       "      <td>2020</td>\n",
       "      <td>Drama</td>\n",
       "      <td>7.6</td>\n",
       "    </tr>\n",
       "    <tr>\n",
       "      <th>1</th>\n",
       "      <td>547877</td>\n",
       "      <td>tt11986728</td>\n",
       "      <td>2020</td>\n",
       "      <td>Action,Crime,Drama</td>\n",
       "      <td>8.1</td>\n",
       "    </tr>\n",
       "    <tr>\n",
       "      <th>2</th>\n",
       "      <td>553174</td>\n",
       "      <td>tt12100064</td>\n",
       "      <td>2020</td>\n",
       "      <td>Comedy,Reality-TV</td>\n",
       "      <td>7.3</td>\n",
       "    </tr>\n",
       "    <tr>\n",
       "      <th>3</th>\n",
       "      <td>553172</td>\n",
       "      <td>tt12100048</td>\n",
       "      <td>2020</td>\n",
       "      <td>Comedy,Drama,Romance</td>\n",
       "      <td>3.5</td>\n",
       "    </tr>\n",
       "    <tr>\n",
       "      <th>4</th>\n",
       "      <td>553173</td>\n",
       "      <td>tt12100062</td>\n",
       "      <td>2020</td>\n",
       "      <td>Adventure,Family,Reality-TV</td>\n",
       "      <td>7.5</td>\n",
       "    </tr>\n",
       "    <tr>\n",
       "      <th>...</th>\n",
       "      <td>...</td>\n",
       "      <td>...</td>\n",
       "      <td>...</td>\n",
       "      <td>...</td>\n",
       "      <td>...</td>\n",
       "    </tr>\n",
       "    <tr>\n",
       "      <th>48035</th>\n",
       "      <td>592597</td>\n",
       "      <td>tt13027374</td>\n",
       "      <td>2020</td>\n",
       "      <td>Drama,Romance,Short</td>\n",
       "      <td>6.8</td>\n",
       "    </tr>\n",
       "    <tr>\n",
       "      <th>48036</th>\n",
       "      <td>593206</td>\n",
       "      <td>tt13039130</td>\n",
       "      <td>2020</td>\n",
       "      <td>Drama</td>\n",
       "      <td>5.6</td>\n",
       "    </tr>\n",
       "    <tr>\n",
       "      <th>48037</th>\n",
       "      <td>592677</td>\n",
       "      <td>tt13028860</td>\n",
       "      <td>2020</td>\n",
       "      <td>Comedy,Game-Show</td>\n",
       "      <td>6.9</td>\n",
       "    </tr>\n",
       "    <tr>\n",
       "      <th>48038</th>\n",
       "      <td>592598</td>\n",
       "      <td>tt13027408</td>\n",
       "      <td>2020</td>\n",
       "      <td>Documentary,Short</td>\n",
       "      <td>6.8</td>\n",
       "    </tr>\n",
       "    <tr>\n",
       "      <th>48039</th>\n",
       "      <td>599469</td>\n",
       "      <td>tt13167898</td>\n",
       "      <td>2020</td>\n",
       "      <td>Animation,Comedy,Short</td>\n",
       "      <td>8.0</td>\n",
       "    </tr>\n",
       "  </tbody>\n",
       "</table>\n",
       "<p>48040 rows × 5 columns</p>\n",
       "</div>"
      ],
      "text/plain": [
       "        index      tconst startYear                       genres  \\\n",
       "0      542597  tt11873126      2020                        Drama   \n",
       "1      547877  tt11986728      2020           Action,Crime,Drama   \n",
       "2      553174  tt12100064      2020            Comedy,Reality-TV   \n",
       "3      553172  tt12100048      2020         Comedy,Drama,Romance   \n",
       "4      553173  tt12100062      2020  Adventure,Family,Reality-TV   \n",
       "...       ...         ...       ...                          ...   \n",
       "48035  592597  tt13027374      2020          Drama,Romance,Short   \n",
       "48036  593206  tt13039130      2020                        Drama   \n",
       "48037  592677  tt13028860      2020             Comedy,Game-Show   \n",
       "48038  592598  tt13027408      2020            Documentary,Short   \n",
       "48039  599469  tt13167898      2020       Animation,Comedy,Short   \n",
       "\n",
       "       averageRating  \n",
       "0                7.6  \n",
       "1                8.1  \n",
       "2                7.3  \n",
       "3                3.5  \n",
       "4                7.5  \n",
       "...              ...  \n",
       "48035            6.8  \n",
       "48036            5.6  \n",
       "48037            6.9  \n",
       "48038            6.8  \n",
       "48039            8.0  \n",
       "\n",
       "[48040 rows x 5 columns]"
      ]
     },
     "execution_count": 26,
     "metadata": {},
     "output_type": "execute_result"
    }
   ],
   "source": [
    "#take a look at the data of movies and TV shows released in 2019\n",
    "data_2020 = data_new[data_new['startYear'] == '2020'].reset_index()\n",
    "data_2020"
   ]
  },
  {
   "cell_type": "code",
   "execution_count": 27,
   "metadata": {},
   "outputs": [
    {
     "data": {
      "text/plain": [
       "(48040, 5)"
      ]
     },
     "execution_count": 27,
     "metadata": {},
     "output_type": "execute_result"
    }
   ],
   "source": [
    "data_2020.shape"
   ]
  },
  {
   "cell_type": "code",
   "execution_count": 28,
   "metadata": {},
   "outputs": [
    {
     "data": {
      "text/plain": [
       "count    48040.000000\n",
       "mean         7.103447\n",
       "std          1.437139\n",
       "min          1.000000\n",
       "25%          6.300000\n",
       "50%          7.300000\n",
       "75%          8.100000\n",
       "max         10.000000\n",
       "Name: averageRating, dtype: float64"
      ]
     },
     "execution_count": 28,
     "metadata": {},
     "output_type": "execute_result"
    }
   ],
   "source": [
    "data_2020['averageRating'].describe()"
   ]
  },
  {
   "cell_type": "code",
   "execution_count": 29,
   "metadata": {},
   "outputs": [
    {
     "data": {
      "text/plain": [
       "<seaborn.axisgrid.FacetGrid at 0x7fbe3943f3d0>"
      ]
     },
     "execution_count": 29,
     "metadata": {},
     "output_type": "execute_result"
    },
    {
     "data": {
      "image/png": "[encoded data removed]",
      "text/plain": [
       "<Figure size 360x360 with 1 Axes>"
      ]
     },
     "metadata": {
      "needs_background": "light"
     },
     "output_type": "display_data"
    }
   ],
   "source": [
    "#take a look at the distribution of ratings\n",
    "sns.displot(data_2020['averageRating'], kde = True)"
   ]
  },
  {
   "cell_type": "markdown",
   "metadata": {},
   "source": [
    "From the visualization we generated, the average ratings of titles released in 2020 is normally distributed, with a little skewed to the left.\n",
    "\n"
   ]
  },
  {
   "cell_type": "markdown",
   "metadata": {},
   "source": [
    "## 2021 Title Data"
   ]
  },
  {
   "cell_type": "code",
   "execution_count": 30,
   "metadata": {},
   "outputs": [
    {
     "data": {
      "text/html": [
       "<div>\n",
       "<style scoped>\n",
       "    .dataframe tbody tr th:only-of-type {\n",
       "        vertical-align: middle;\n",
       "    }\n",
       "\n",
       "    .dataframe tbody tr th {\n",
       "        vertical-align: top;\n",
       "    }\n",
       "\n",
       "    .dataframe thead th {\n",
       "        text-align: right;\n",
       "    }\n",
       "</style>\n",
       "<table border=\"1\" class=\"dataframe\">\n",
       "  <thead>\n",
       "    <tr style=\"text-align: right;\">\n",
       "      <th></th>\n",
       "      <th>index</th>\n",
       "      <th>tconst</th>\n",
       "      <th>startYear</th>\n",
       "      <th>genres</th>\n",
       "      <th>averageRating</th>\n",
       "    </tr>\n",
       "  </thead>\n",
       "  <tbody>\n",
       "    <tr>\n",
       "      <th>0</th>\n",
       "      <td>673755</td>\n",
       "      <td>tt15033630</td>\n",
       "      <td>2021</td>\n",
       "      <td>Drama,Romance</td>\n",
       "      <td>8.2</td>\n",
       "    </tr>\n",
       "    <tr>\n",
       "      <th>1</th>\n",
       "      <td>678968</td>\n",
       "      <td>tt15173012</td>\n",
       "      <td>2021</td>\n",
       "      <td>Drama,Romance</td>\n",
       "      <td>8.0</td>\n",
       "    </tr>\n",
       "    <tr>\n",
       "      <th>2</th>\n",
       "      <td>680018</td>\n",
       "      <td>tt15202426</td>\n",
       "      <td>2021</td>\n",
       "      <td>Reality-TV</td>\n",
       "      <td>8.5</td>\n",
       "    </tr>\n",
       "    <tr>\n",
       "      <th>3</th>\n",
       "      <td>678824</td>\n",
       "      <td>tt15170082</td>\n",
       "      <td>2021</td>\n",
       "      <td>Documentary</td>\n",
       "      <td>7.5</td>\n",
       "    </tr>\n",
       "    <tr>\n",
       "      <th>4</th>\n",
       "      <td>680019</td>\n",
       "      <td>tt15202578</td>\n",
       "      <td>2021</td>\n",
       "      <td>Comedy,Talk-Show</td>\n",
       "      <td>9.1</td>\n",
       "    </tr>\n",
       "    <tr>\n",
       "      <th>...</th>\n",
       "      <td>...</td>\n",
       "      <td>...</td>\n",
       "      <td>...</td>\n",
       "      <td>...</td>\n",
       "      <td>...</td>\n",
       "    </tr>\n",
       "    <tr>\n",
       "      <th>43905</th>\n",
       "      <td>642512</td>\n",
       "      <td>tt14176872</td>\n",
       "      <td>2021</td>\n",
       "      <td>Drama</td>\n",
       "      <td>8.3</td>\n",
       "    </tr>\n",
       "    <tr>\n",
       "      <th>43906</th>\n",
       "      <td>645658</td>\n",
       "      <td>tt14257574</td>\n",
       "      <td>2021</td>\n",
       "      <td>Action,Adventure,Animation</td>\n",
       "      <td>8.0</td>\n",
       "    </tr>\n",
       "    <tr>\n",
       "      <th>43907</th>\n",
       "      <td>642719</td>\n",
       "      <td>tt14182122</td>\n",
       "      <td>2021</td>\n",
       "      <td>Game-Show</td>\n",
       "      <td>7.4</td>\n",
       "    </tr>\n",
       "    <tr>\n",
       "      <th>43908</th>\n",
       "      <td>645661</td>\n",
       "      <td>tt14257596</td>\n",
       "      <td>2021</td>\n",
       "      <td>News,Short</td>\n",
       "      <td>8.5</td>\n",
       "    </tr>\n",
       "    <tr>\n",
       "      <th>43909</th>\n",
       "      <td>642721</td>\n",
       "      <td>tt14182126</td>\n",
       "      <td>2021</td>\n",
       "      <td>Game-Show</td>\n",
       "      <td>7.1</td>\n",
       "    </tr>\n",
       "  </tbody>\n",
       "</table>\n",
       "<p>43910 rows × 5 columns</p>\n",
       "</div>"
      ],
      "text/plain": [
       "        index      tconst startYear                      genres  averageRating\n",
       "0      673755  tt15033630      2021               Drama,Romance            8.2\n",
       "1      678968  tt15173012      2021               Drama,Romance            8.0\n",
       "2      680018  tt15202426      2021                  Reality-TV            8.5\n",
       "3      678824  tt15170082      2021                 Documentary            7.5\n",
       "4      680019  tt15202578      2021            Comedy,Talk-Show            9.1\n",
       "...       ...         ...       ...                         ...            ...\n",
       "43905  642512  tt14176872      2021                       Drama            8.3\n",
       "43906  645658  tt14257574      2021  Action,Adventure,Animation            8.0\n",
       "43907  642719  tt14182122      2021                   Game-Show            7.4\n",
       "43908  645661  tt14257596      2021                  News,Short            8.5\n",
       "43909  642721  tt14182126      2021                   Game-Show            7.1\n",
       "\n",
       "[43910 rows x 5 columns]"
      ]
     },
     "execution_count": 30,
     "metadata": {},
     "output_type": "execute_result"
    }
   ],
   "source": [
    "#take a look at the data of movies and TV shows released in 2019\n",
    "data_2021 = data_new[data_new['startYear'] == '2021'].reset_index()\n",
    "data_2021"
   ]
  },
  {
   "cell_type": "code",
   "execution_count": 31,
   "metadata": {},
   "outputs": [
    {
     "data": {
      "text/plain": [
       "(43910, 5)"
      ]
     },
     "execution_count": 31,
     "metadata": {},
     "output_type": "execute_result"
    }
   ],
   "source": [
    "data_2021.shape"
   ]
  },
  {
   "cell_type": "code",
   "execution_count": 32,
   "metadata": {},
   "outputs": [
    {
     "data": {
      "text/plain": [
       "count    43910.000000\n",
       "mean         7.177764\n",
       "std          1.480286\n",
       "min          1.000000\n",
       "25%          6.400000\n",
       "50%          7.300000\n",
       "75%          8.200000\n",
       "max         10.000000\n",
       "Name: averageRating, dtype: float64"
      ]
     },
     "execution_count": 32,
     "metadata": {},
     "output_type": "execute_result"
    }
   ],
   "source": [
    "data_2021['averageRating'].describe()"
   ]
  },
  {
   "cell_type": "code",
   "execution_count": 33,
   "metadata": {},
   "outputs": [
    {
     "data": {
      "text/plain": [
       "<seaborn.axisgrid.FacetGrid at 0x7fbe394edc70>"
      ]
     },
     "execution_count": 33,
     "metadata": {},
     "output_type": "execute_result"
    },
    {
     "data": {
      "image/png": "[encoded data removed]",
      "text/plain": [
       "<Figure size 360x360 with 1 Axes>"
      ]
     },
     "metadata": {
      "needs_background": "light"
     },
     "output_type": "display_data"
    }
   ],
   "source": [
    "#take a look at the distribution of ratings\n",
    "sns.displot(data_2019['averageRating'], kde = True)"
   ]
  },
  {
   "cell_type": "markdown",
   "metadata": {},
   "source": [
    "From the visualization we generated, the average ratings of titles released in 2021 is normally distributed, with a little skewed to the left."
   ]
  },
  {
   "cell_type": "markdown",
   "metadata": {},
   "source": [
    "## 2022 Title Data"
   ]
  },
  {
   "cell_type": "code",
   "execution_count": 34,
   "metadata": {},
   "outputs": [
    {
     "data": {
      "text/html": [
       "<div>\n",
       "<style scoped>\n",
       "    .dataframe tbody tr th:only-of-type {\n",
       "        vertical-align: middle;\n",
       "    }\n",
       "\n",
       "    .dataframe tbody tr th {\n",
       "        vertical-align: top;\n",
       "    }\n",
       "\n",
       "    .dataframe thead th {\n",
       "        text-align: right;\n",
       "    }\n",
       "</style>\n",
       "<table border=\"1\" class=\"dataframe\">\n",
       "  <thead>\n",
       "    <tr style=\"text-align: right;\">\n",
       "      <th></th>\n",
       "      <th>index</th>\n",
       "      <th>tconst</th>\n",
       "      <th>startYear</th>\n",
       "      <th>genres</th>\n",
       "      <th>averageRating</th>\n",
       "    </tr>\n",
       "  </thead>\n",
       "  <tbody>\n",
       "    <tr>\n",
       "      <th>0</th>\n",
       "      <td>737137</td>\n",
       "      <td>tt17494144</td>\n",
       "      <td>2022</td>\n",
       "      <td>Action,Sport</td>\n",
       "      <td>6.5</td>\n",
       "    </tr>\n",
       "    <tr>\n",
       "      <th>1</th>\n",
       "      <td>737136</td>\n",
       "      <td>tt17494134</td>\n",
       "      <td>2022</td>\n",
       "      <td>Action,Sport</td>\n",
       "      <td>7.4</td>\n",
       "    </tr>\n",
       "    <tr>\n",
       "      <th>2</th>\n",
       "      <td>737816</td>\n",
       "      <td>tt17519556</td>\n",
       "      <td>2022</td>\n",
       "      <td>Biography,Documentary</td>\n",
       "      <td>6.8</td>\n",
       "    </tr>\n",
       "    <tr>\n",
       "      <th>3</th>\n",
       "      <td>737903</td>\n",
       "      <td>tt17524826</td>\n",
       "      <td>2022</td>\n",
       "      <td>Action,Adventure,Crime</td>\n",
       "      <td>7.6</td>\n",
       "    </tr>\n",
       "    <tr>\n",
       "      <th>4</th>\n",
       "      <td>737066</td>\n",
       "      <td>tt17490474</td>\n",
       "      <td>2022</td>\n",
       "      <td>Adventure,Animation,Fantasy</td>\n",
       "      <td>7.7</td>\n",
       "    </tr>\n",
       "    <tr>\n",
       "      <th>...</th>\n",
       "      <td>...</td>\n",
       "      <td>...</td>\n",
       "      <td>...</td>\n",
       "      <td>...</td>\n",
       "      <td>...</td>\n",
       "    </tr>\n",
       "    <tr>\n",
       "      <th>4348</th>\n",
       "      <td>722109</td>\n",
       "      <td>tt16761514</td>\n",
       "      <td>2022</td>\n",
       "      <td>Comedy,Romance</td>\n",
       "      <td>5.9</td>\n",
       "    </tr>\n",
       "    <tr>\n",
       "      <th>4349</th>\n",
       "      <td>721828</td>\n",
       "      <td>tt16751250</td>\n",
       "      <td>2022</td>\n",
       "      <td>Action,Sport</td>\n",
       "      <td>6.8</td>\n",
       "    </tr>\n",
       "    <tr>\n",
       "      <th>4350</th>\n",
       "      <td>721817</td>\n",
       "      <td>tt16750580</td>\n",
       "      <td>2022</td>\n",
       "      <td>Reality-TV</td>\n",
       "      <td>6.0</td>\n",
       "    </tr>\n",
       "    <tr>\n",
       "      <th>4351</th>\n",
       "      <td>700408</td>\n",
       "      <td>tt15830222</td>\n",
       "      <td>2022</td>\n",
       "      <td>Adventure,Comedy,Reality-TV</td>\n",
       "      <td>7.9</td>\n",
       "    </tr>\n",
       "    <tr>\n",
       "      <th>4352</th>\n",
       "      <td>721819</td>\n",
       "      <td>tt16750700</td>\n",
       "      <td>2022</td>\n",
       "      <td>Comedy</td>\n",
       "      <td>3.4</td>\n",
       "    </tr>\n",
       "  </tbody>\n",
       "</table>\n",
       "<p>4353 rows × 5 columns</p>\n",
       "</div>"
      ],
      "text/plain": [
       "       index      tconst startYear                       genres  averageRating\n",
       "0     737137  tt17494144      2022                 Action,Sport            6.5\n",
       "1     737136  tt17494134      2022                 Action,Sport            7.4\n",
       "2     737816  tt17519556      2022        Biography,Documentary            6.8\n",
       "3     737903  tt17524826      2022       Action,Adventure,Crime            7.6\n",
       "4     737066  tt17490474      2022  Adventure,Animation,Fantasy            7.7\n",
       "...      ...         ...       ...                          ...            ...\n",
       "4348  722109  tt16761514      2022               Comedy,Romance            5.9\n",
       "4349  721828  tt16751250      2022                 Action,Sport            6.8\n",
       "4350  721817  tt16750580      2022                   Reality-TV            6.0\n",
       "4351  700408  tt15830222      2022  Adventure,Comedy,Reality-TV            7.9\n",
       "4352  721819  tt16750700      2022                       Comedy            3.4\n",
       "\n",
       "[4353 rows x 5 columns]"
      ]
     },
     "execution_count": 34,
     "metadata": {},
     "output_type": "execute_result"
    }
   ],
   "source": [
    "#take a look at the data of movies and TV shows released in 2019\n",
    "data_2022 = data_new[data_new['startYear'] == '2022'].reset_index()\n",
    "data_2022"
   ]
  },
  {
   "cell_type": "code",
   "execution_count": 35,
   "metadata": {},
   "outputs": [
    {
     "data": {
      "text/plain": [
       "(4353, 5)"
      ]
     },
     "execution_count": 35,
     "metadata": {},
     "output_type": "execute_result"
    }
   ],
   "source": [
    "data_2022.shape"
   ]
  },
  {
   "cell_type": "code",
   "execution_count": 36,
   "metadata": {},
   "outputs": [
    {
     "data": {
      "text/plain": [
       "count    4353.000000\n",
       "mean        7.325936\n",
       "std         1.487477\n",
       "min         1.000000\n",
       "25%         6.500000\n",
       "50%         7.500000\n",
       "75%         8.300000\n",
       "max        10.000000\n",
       "Name: averageRating, dtype: float64"
      ]
     },
     "execution_count": 36,
     "metadata": {},
     "output_type": "execute_result"
    }
   ],
   "source": [
    "data_2022['averageRating'].describe()"
   ]
  },
  {
   "cell_type": "code",
   "execution_count": 37,
   "metadata": {},
   "outputs": [
    {
     "data": {
      "text/plain": [
       "<seaborn.axisgrid.FacetGrid at 0x7fbe3757d970>"
      ]
     },
     "execution_count": 37,
     "metadata": {},
     "output_type": "execute_result"
    },
    {
     "data": {
      "image/png": "[encoded data removed]",
      "text/plain": [
       "<Figure size 360x360 with 1 Axes>"
      ]
     },
     "metadata": {
      "needs_background": "light"
     },
     "output_type": "display_data"
    }
   ],
   "source": [
    "#take a look at the distribution of ratings\n",
    "sns.displot(data_2022['averageRating'], kde = True)"
   ]
  },
  {
   "cell_type": "markdown",
   "metadata": {},
   "source": [
    "From the visualization we generated, the average ratings of titles released in 2018 is normally distributed, with a little skewed to the left."
   ]
  },
  {
   "cell_type": "markdown",
   "metadata": {},
   "source": [
    "## Rating before and after pandemic"
   ]
  },
  {
   "cell_type": "markdown",
   "metadata": {},
   "source": [
    "After looking at data of each year, we divide the data into rating before and after the pandemic. We extract the rating data before pandemic, and store it in `movie_before_pandemic_rating`.Then we extract the rating data after pandemic, and store it in `movie_after_pandemic_rating`."
   ]
  },
  {
   "cell_type": "code",
   "execution_count": 38,
   "metadata": {},
   "outputs": [],
   "source": [
    "movie_before_pandemic_rating = data_before_pandemic['averageRating']\n",
    "movie_after_pandemic_rating = data_after_pandemic['averageRating']"
   ]
  },
  {
   "cell_type": "code",
   "execution_count": 39,
   "metadata": {},
   "outputs": [
    {
     "data": {
      "text/plain": [
       "<seaborn.axisgrid.FacetGrid at 0x7fbe3d8f8fd0>"
      ]
     },
     "execution_count": 39,
     "metadata": {},
     "output_type": "execute_result"
    },
    {
     "data": {
      "image/png": "[encoded data removed]",
      "text/plain": [
       "<Figure size 360x360 with 1 Axes>"
      ]
     },
     "metadata": {
      "needs_background": "light"
     },
     "output_type": "display_data"
    }
   ],
   "source": [
    "#take a look at the distribution of ratings before pandemic\n",
    "sns.displot(movie_before_pandemic_rating, kde = True)"
   ]
  },
  {
   "cell_type": "code",
   "execution_count": 40,
   "metadata": {},
   "outputs": [
    {
     "data": {
      "text/plain": [
       "<seaborn.axisgrid.FacetGrid at 0x7fbe3a417be0>"
      ]
     },
     "execution_count": 40,
     "metadata": {},
     "output_type": "execute_result"
    },
    {
     "data": {
      "image/png": "[encoded data removed]",
      "text/plain": [
       "<Figure size 360x360 with 1 Axes>"
      ]
     },
     "metadata": {
      "needs_background": "light"
     },
     "output_type": "display_data"
    }
   ],
   "source": [
    "#take a look at the distribution of ratings after pandemic\n",
    "sns.displot(movie_after_pandemic_rating, kde = True)"
   ]
  },
  {
   "cell_type": "markdown",
   "metadata": {},
   "source": [
    "Carry out a t-test (using the `ttest_ind()` function) to compare the two distributions. Store the test statstic in the variable `t_val` and the p-value in the variable `p_val`."
   ]
  },
  {
   "cell_type": "code",
   "execution_count": 41,
   "metadata": {},
   "outputs": [],
   "source": [
    "t_val, p_val = ttest_ind(a = movie_after_pandemic_rating, b = movie_before_pandemic_rating)"
   ]
  },
  {
   "cell_type": "code",
   "execution_count": 42,
   "metadata": {},
   "outputs": [
    {
     "data": {
      "text/plain": [
       "(4.312579852096631, 1.6143513686951104e-05)"
      ]
     },
     "execution_count": 42,
     "metadata": {},
     "output_type": "execute_result"
    }
   ],
   "source": [
    "t_val, p_val"
   ]
  },
  {
   "cell_type": "code",
   "execution_count": 43,
   "metadata": {},
   "outputs": [
    {
     "name": "stdout",
     "output_type": "stream",
     "text": [
      "There is a significant difference!\n"
     ]
    }
   ],
   "source": [
    "# Check if statistical test passes significance\n",
    "# using an alpha value of 0.01. This code provided.\n",
    "if p_val < 0.01:\n",
    "    print('There is a significant difference!')\n",
    "else:\n",
    "    print('There is NOT a significant difference!')"
   ]
  },
  {
   "cell_type": "markdown",
   "metadata": {},
   "source": [
    "Through the t-test, we notice that there is a significant distribution difference between movie rating before and after the pandemic."
   ]
  },
  {
   "cell_type": "markdown",
   "metadata": {},
   "source": [
    "## Linear Regression"
   ]
  },
  {
   "cell_type": "markdown",
   "metadata": {},
   "source": [
    "### Why Linear Regression?"
   ]
  },
  {
   "cell_type": "markdown",
   "metadata": {},
   "source": [
    "We use linear regresssion for our analysis as we want to determine if there is a statistically significant linear relationship between the independent variable (year before and after pandemic) and the dependent variable (movie rating)."
   ]
  },
  {
   "cell_type": "markdown",
   "metadata": {},
   "source": [
    "##### Hypothesis Testing\n",
    "\n",
    "$H_o$: There is no relationship between year and movie rating ($\\beta = 0$)\n",
    "\n",
    "$H_a$: There is a relationship between year and movie rating ($\\beta \\ne 0$)"
   ]
  },
  {
   "cell_type": "markdown",
   "metadata": {},
   "source": [
    "### Create a linear model to predict rating from years"
   ]
  },
  {
   "cell_type": "markdown",
   "metadata": {},
   "source": [
    "### (1) Predict the rating using linear model"
   ]
  },
  {
   "cell_type": "code",
   "execution_count": 44,
   "metadata": {},
   "outputs": [
    {
     "data": {
      "text/html": [
       "<div>\n",
       "<style scoped>\n",
       "    .dataframe tbody tr th:only-of-type {\n",
       "        vertical-align: middle;\n",
       "    }\n",
       "\n",
       "    .dataframe tbody tr th {\n",
       "        vertical-align: top;\n",
       "    }\n",
       "\n",
       "    .dataframe thead th {\n",
       "        text-align: right;\n",
       "    }\n",
       "</style>\n",
       "<table border=\"1\" class=\"dataframe\">\n",
       "  <thead>\n",
       "    <tr style=\"text-align: right;\">\n",
       "      <th></th>\n",
       "      <th>tconst</th>\n",
       "      <th>startYear</th>\n",
       "      <th>genres</th>\n",
       "      <th>averageRating</th>\n",
       "    </tr>\n",
       "  </thead>\n",
       "  <tbody>\n",
       "    <tr>\n",
       "      <th>1169512</th>\n",
       "      <td>tt8488114</td>\n",
       "      <td>2018</td>\n",
       "      <td>Action,Adventure,Animation</td>\n",
       "      <td>5.1</td>\n",
       "    </tr>\n",
       "    <tr>\n",
       "      <th>1181994</th>\n",
       "      <td>tt8846310</td>\n",
       "      <td>2018</td>\n",
       "      <td>Short</td>\n",
       "      <td>7.5</td>\n",
       "    </tr>\n",
       "    <tr>\n",
       "      <th>1216782</th>\n",
       "      <td>tt9865134</td>\n",
       "      <td>2018</td>\n",
       "      <td>Comedy,Short</td>\n",
       "      <td>9.2</td>\n",
       "    </tr>\n",
       "    <tr>\n",
       "      <th>1181992</th>\n",
       "      <td>tt8846198</td>\n",
       "      <td>2018</td>\n",
       "      <td>Drama</td>\n",
       "      <td>6.1</td>\n",
       "    </tr>\n",
       "    <tr>\n",
       "      <th>1181981</th>\n",
       "      <td>tt8845840</td>\n",
       "      <td>2018</td>\n",
       "      <td>Drama</td>\n",
       "      <td>6.2</td>\n",
       "    </tr>\n",
       "    <tr>\n",
       "      <th>...</th>\n",
       "      <td>...</td>\n",
       "      <td>...</td>\n",
       "      <td>...</td>\n",
       "      <td>...</td>\n",
       "    </tr>\n",
       "    <tr>\n",
       "      <th>722109</th>\n",
       "      <td>tt16761514</td>\n",
       "      <td>2022</td>\n",
       "      <td>Comedy,Romance</td>\n",
       "      <td>5.9</td>\n",
       "    </tr>\n",
       "    <tr>\n",
       "      <th>721828</th>\n",
       "      <td>tt16751250</td>\n",
       "      <td>2022</td>\n",
       "      <td>Action,Sport</td>\n",
       "      <td>6.8</td>\n",
       "    </tr>\n",
       "    <tr>\n",
       "      <th>721817</th>\n",
       "      <td>tt16750580</td>\n",
       "      <td>2022</td>\n",
       "      <td>Reality-TV</td>\n",
       "      <td>6.0</td>\n",
       "    </tr>\n",
       "    <tr>\n",
       "      <th>700408</th>\n",
       "      <td>tt15830222</td>\n",
       "      <td>2022</td>\n",
       "      <td>Adventure,Comedy,Reality-TV</td>\n",
       "      <td>7.9</td>\n",
       "    </tr>\n",
       "    <tr>\n",
       "      <th>721819</th>\n",
       "      <td>tt16750700</td>\n",
       "      <td>2022</td>\n",
       "      <td>Comedy</td>\n",
       "      <td>3.4</td>\n",
       "    </tr>\n",
       "  </tbody>\n",
       "</table>\n",
       "<p>206929 rows × 4 columns</p>\n",
       "</div>"
      ],
      "text/plain": [
       "             tconst startYear                       genres  averageRating\n",
       "1169512   tt8488114      2018   Action,Adventure,Animation            5.1\n",
       "1181994   tt8846310      2018                        Short            7.5\n",
       "1216782   tt9865134      2018                 Comedy,Short            9.2\n",
       "1181992   tt8846198      2018                        Drama            6.1\n",
       "1181981   tt8845840      2018                        Drama            6.2\n",
       "...             ...       ...                          ...            ...\n",
       "722109   tt16761514      2022               Comedy,Romance            5.9\n",
       "721828   tt16751250      2022                 Action,Sport            6.8\n",
       "721817   tt16750580      2022                   Reality-TV            6.0\n",
       "700408   tt15830222      2022  Adventure,Comedy,Reality-TV            7.9\n",
       "721819   tt16750700      2022                       Comedy            3.4\n",
       "\n",
       "[206929 rows x 4 columns]"
      ]
     },
     "execution_count": 44,
     "metadata": {},
     "output_type": "execute_result"
    }
   ],
   "source": [
    "## we are going to use all data here\n",
    "all_data"
   ]
  },
  {
   "cell_type": "code",
   "execution_count": 45,
   "metadata": {},
   "outputs": [],
   "source": [
    "dependent, predictors = patsy.dmatrices('averageRating ~ startYear', all_data )\n",
    "model = sm.OLS(dependent, predictors)\n",
    "res_1 = model.fit()"
   ]
  },
  {
   "cell_type": "code",
   "execution_count": 46,
   "metadata": {},
   "outputs": [
    {
     "name": "stdout",
     "output_type": "stream",
     "text": [
      "                            OLS Regression Results                            \n",
      "==============================================================================\n",
      "Dep. Variable:          averageRating   R-squared:                       0.001\n",
      "Model:                            OLS   Adj. R-squared:                  0.001\n",
      "Method:                 Least Squares   F-statistic:                     40.95\n",
      "Date:                Mon, 14 Mar 2022   Prob (F-statistic):           2.30e-34\n",
      "Time:                        21:27:23   Log-Likelihood:            -3.6681e+05\n",
      "No. Observations:              206929   AIC:                         7.336e+05\n",
      "Df Residuals:                  206924   BIC:                         7.337e+05\n",
      "Df Model:                           4                                         \n",
      "Covariance Type:            nonrobust                                         \n",
      "=====================================================================================\n",
      "                        coef    std err          t      P>|t|      [0.025      0.975]\n",
      "-------------------------------------------------------------------------------------\n",
      "Intercept             7.1060      0.006   1172.154      0.000       7.094       7.118\n",
      "startYear[T.2019]     0.0285      0.009      3.332      0.001       0.012       0.045\n",
      "startYear[T.2020]    -0.0026      0.009     -0.288      0.773      -0.020       0.015\n",
      "startYear[T.2021]     0.0718      0.009      7.878      0.000       0.054       0.090\n",
      "startYear[T.2022]     0.2199      0.022      9.808      0.000       0.176       0.264\n",
      "==============================================================================\n",
      "Omnibus:                    24226.879   Durbin-Watson:                   1.690\n",
      "Prob(Omnibus):                  0.000   Jarque-Bera (JB):            37389.178\n",
      "Skew:                          -0.852   Prob(JB):                         0.00\n",
      "Kurtosis:                       4.196   Cond. No.                         7.91\n",
      "==============================================================================\n",
      "\n",
      "Notes:\n",
      "[1] Standard Errors assume that the covariance matrix of the errors is correctly specified.\n"
     ]
    }
   ],
   "source": [
    "# Print out the summary results of the model fitting\n",
    "print(res_1.summary())"
   ]
  },
  {
   "cell_type": "markdown",
   "metadata": {},
   "source": [
    "Assuming we use 0.01 as the alpha value,\n",
    "we are able to see that the p value in startYear == 2020 is 0.773, which is significantly larger than 0.01. Therefore we fail to reject our null hypothesis. The relationship may be happen due to chance alone. Then, We'd have to do a lot more digging/analysis before determining that conclusively!"
   ]
  },
  {
   "cell_type": "markdown",
   "metadata": {},
   "source": [
    "## Genre Data"
   ]
  },
  {
   "cell_type": "markdown",
   "metadata": {},
   "source": [
    "Here we want to find is there any other factor affecting the rating before and after the pandemic. We think genre of the movie would be one possible factor. So, we are trying to find out the top 10 most popular genres of the movie before and after covid."
   ]
  },
  {
   "cell_type": "code",
   "execution_count": 47,
   "metadata": {},
   "outputs": [
    {
     "data": {
      "text/plain": [
       "Comedy                        15207\n",
       "Drama                         14886\n",
       "Documentary                   14871\n",
       "Reality-TV                     8741\n",
       "Action,Adventure,Animation     6478\n",
       "                              ...  \n",
       "Action,Adventure,Musical          1\n",
       "Musical,Mystery,Short             1\n",
       "Music,Sci-Fi,Thriller             1\n",
       "Biography,History,Musical         1\n",
       "Adventure,Short,War               1\n",
       "Name: genres, Length: 1231, dtype: int64"
      ]
     },
     "execution_count": 47,
     "metadata": {},
     "output_type": "execute_result"
    }
   ],
   "source": [
    "#take a look at the number of genres in our data\n",
    "all_data['genres'].value_counts()"
   ]
  },
  {
   "cell_type": "code",
   "execution_count": 48,
   "metadata": {},
   "outputs": [
    {
     "data": {
      "text/plain": [
       "38"
      ]
     },
     "execution_count": 48,
     "metadata": {},
     "output_type": "execute_result"
    }
   ],
   "source": [
    "np.sum(all_data['genres'].value_counts() > 1000)"
   ]
  },
  {
   "cell_type": "code",
   "execution_count": 49,
   "metadata": {},
   "outputs": [],
   "source": [
    "#find the most common 10 genres of the data\n",
    "top_10 = all_data['genres'].value_counts()[:10].index.tolist()\n"
   ]
  },
  {
   "cell_type": "code",
   "execution_count": 50,
   "metadata": {},
   "outputs": [
    {
     "data": {
      "text/plain": [
       "['Comedy',\n",
       " 'Drama',\n",
       " 'Documentary',\n",
       " 'Reality-TV',\n",
       " 'Action,Adventure,Animation',\n",
       " 'Comedy,Drama',\n",
       " 'Comedy,Talk-Show',\n",
       " 'Drama,Short',\n",
       " 'Drama,Romance',\n",
       " 'Crime,Drama,Mystery']"
      ]
     },
     "execution_count": 50,
     "metadata": {},
     "output_type": "execute_result"
    }
   ],
   "source": [
    "top_10"
   ]
  },
  {
   "cell_type": "markdown",
   "metadata": {},
   "source": [
    "As there are too many different genres, we decide to limit our analysis to the top 10 common genres of out dataset."
   ]
  },
  {
   "cell_type": "markdown",
   "metadata": {},
   "source": [
    "### (1) Genre changes before pandemic vs. after pandemic"
   ]
  },
  {
   "cell_type": "markdown",
   "metadata": {},
   "source": [
    "Here we are going to find if there is any changes in the most popular genres before and after pandemic."
   ]
  },
  {
   "cell_type": "code",
   "execution_count": 51,
   "metadata": {},
   "outputs": [
    {
     "data": {
      "text/html": [
       "<div>\n",
       "<style scoped>\n",
       "    .dataframe tbody tr th:only-of-type {\n",
       "        vertical-align: middle;\n",
       "    }\n",
       "\n",
       "    .dataframe tbody tr th {\n",
       "        vertical-align: top;\n",
       "    }\n",
       "\n",
       "    .dataframe thead th {\n",
       "        text-align: right;\n",
       "    }\n",
       "</style>\n",
       "<table border=\"1\" class=\"dataframe\">\n",
       "  <thead>\n",
       "    <tr style=\"text-align: right;\">\n",
       "      <th></th>\n",
       "      <th>tconst</th>\n",
       "      <th>startYear</th>\n",
       "      <th>genres</th>\n",
       "      <th>averageRating</th>\n",
       "    </tr>\n",
       "  </thead>\n",
       "  <tbody>\n",
       "    <tr>\n",
       "      <th>1169512</th>\n",
       "      <td>tt8488114</td>\n",
       "      <td>2018</td>\n",
       "      <td>Action,Adventure,Animation</td>\n",
       "      <td>5.1</td>\n",
       "    </tr>\n",
       "    <tr>\n",
       "      <th>1181994</th>\n",
       "      <td>tt8846310</td>\n",
       "      <td>2018</td>\n",
       "      <td>Short</td>\n",
       "      <td>7.5</td>\n",
       "    </tr>\n",
       "    <tr>\n",
       "      <th>1216782</th>\n",
       "      <td>tt9865134</td>\n",
       "      <td>2018</td>\n",
       "      <td>Comedy,Short</td>\n",
       "      <td>9.2</td>\n",
       "    </tr>\n",
       "    <tr>\n",
       "      <th>1181992</th>\n",
       "      <td>tt8846198</td>\n",
       "      <td>2018</td>\n",
       "      <td>Drama</td>\n",
       "      <td>6.1</td>\n",
       "    </tr>\n",
       "    <tr>\n",
       "      <th>1181981</th>\n",
       "      <td>tt8845840</td>\n",
       "      <td>2018</td>\n",
       "      <td>Drama</td>\n",
       "      <td>6.2</td>\n",
       "    </tr>\n",
       "    <tr>\n",
       "      <th>...</th>\n",
       "      <td>...</td>\n",
       "      <td>...</td>\n",
       "      <td>...</td>\n",
       "      <td>...</td>\n",
       "    </tr>\n",
       "    <tr>\n",
       "      <th>473045</th>\n",
       "      <td>tt10493038</td>\n",
       "      <td>2019</td>\n",
       "      <td>Animation,Short</td>\n",
       "      <td>7.5</td>\n",
       "    </tr>\n",
       "    <tr>\n",
       "      <th>469565</th>\n",
       "      <td>tt10433052</td>\n",
       "      <td>2019</td>\n",
       "      <td>Animation,Drama,Mystery</td>\n",
       "      <td>8.8</td>\n",
       "    </tr>\n",
       "    <tr>\n",
       "      <th>469475</th>\n",
       "      <td>tt10431442</td>\n",
       "      <td>2019</td>\n",
       "      <td>Drama,Fantasy,History</td>\n",
       "      <td>7.7</td>\n",
       "    </tr>\n",
       "    <tr>\n",
       "      <th>943808</th>\n",
       "      <td>tt4126476</td>\n",
       "      <td>2019</td>\n",
       "      <td>Drama,Romance</td>\n",
       "      <td>5.3</td>\n",
       "    </tr>\n",
       "    <tr>\n",
       "      <th>469241</th>\n",
       "      <td>tt10425908</td>\n",
       "      <td>2019</td>\n",
       "      <td>Action,Crime,Drama</td>\n",
       "      <td>6.9</td>\n",
       "    </tr>\n",
       "  </tbody>\n",
       "</table>\n",
       "<p>110626 rows × 4 columns</p>\n",
       "</div>"
      ],
      "text/plain": [
       "             tconst startYear                      genres  averageRating\n",
       "1169512   tt8488114      2018  Action,Adventure,Animation            5.1\n",
       "1181994   tt8846310      2018                       Short            7.5\n",
       "1216782   tt9865134      2018                Comedy,Short            9.2\n",
       "1181992   tt8846198      2018                       Drama            6.1\n",
       "1181981   tt8845840      2018                       Drama            6.2\n",
       "...             ...       ...                         ...            ...\n",
       "473045   tt10493038      2019             Animation,Short            7.5\n",
       "469565   tt10433052      2019     Animation,Drama,Mystery            8.8\n",
       "469475   tt10431442      2019       Drama,Fantasy,History            7.7\n",
       "943808    tt4126476      2019               Drama,Romance            5.3\n",
       "469241   tt10425908      2019          Action,Crime,Drama            6.9\n",
       "\n",
       "[110626 rows x 4 columns]"
      ]
     },
     "execution_count": 51,
     "metadata": {},
     "output_type": "execute_result"
    }
   ],
   "source": [
    "# all data after pandemic happen(year2018-2019)\n",
    "data_before_pandemic"
   ]
  },
  {
   "cell_type": "code",
   "execution_count": 52,
   "metadata": {},
   "outputs": [],
   "source": [
    "# Determining top 10 genres before COVID\n",
    "Pre_r = data_before_pandemic['genres'].value_counts(normalize = True).rename('proportion').reset_index()\n",
    "Pre_top10 = Pre_r.iloc[0:10]"
   ]
  },
  {
   "cell_type": "code",
   "execution_count": 53,
   "metadata": {},
   "outputs": [
    {
     "data": {
      "text/html": [
       "<div>\n",
       "<style scoped>\n",
       "    .dataframe tbody tr th:only-of-type {\n",
       "        vertical-align: middle;\n",
       "    }\n",
       "\n",
       "    .dataframe tbody tr th {\n",
       "        vertical-align: top;\n",
       "    }\n",
       "\n",
       "    .dataframe thead th {\n",
       "        text-align: right;\n",
       "    }\n",
       "</style>\n",
       "<table border=\"1\" class=\"dataframe\">\n",
       "  <thead>\n",
       "    <tr style=\"text-align: right;\">\n",
       "      <th></th>\n",
       "      <th>index</th>\n",
       "      <th>proportion</th>\n",
       "    </tr>\n",
       "  </thead>\n",
       "  <tbody>\n",
       "    <tr>\n",
       "      <th>0</th>\n",
       "      <td>Documentary</td>\n",
       "      <td>0.074603</td>\n",
       "    </tr>\n",
       "    <tr>\n",
       "      <th>1</th>\n",
       "      <td>Comedy</td>\n",
       "      <td>0.074377</td>\n",
       "    </tr>\n",
       "    <tr>\n",
       "      <th>2</th>\n",
       "      <td>Drama</td>\n",
       "      <td>0.069233</td>\n",
       "    </tr>\n",
       "    <tr>\n",
       "      <th>3</th>\n",
       "      <td>Reality-TV</td>\n",
       "      <td>0.041066</td>\n",
       "    </tr>\n",
       "    <tr>\n",
       "      <th>4</th>\n",
       "      <td>Action,Adventure,Animation</td>\n",
       "      <td>0.032009</td>\n",
       "    </tr>\n",
       "    <tr>\n",
       "      <th>5</th>\n",
       "      <td>Drama,Short</td>\n",
       "      <td>0.023494</td>\n",
       "    </tr>\n",
       "    <tr>\n",
       "      <th>6</th>\n",
       "      <td>Comedy,Drama</td>\n",
       "      <td>0.021857</td>\n",
       "    </tr>\n",
       "    <tr>\n",
       "      <th>7</th>\n",
       "      <td>Comedy,Talk-Show</td>\n",
       "      <td>0.021803</td>\n",
       "    </tr>\n",
       "    <tr>\n",
       "      <th>8</th>\n",
       "      <td>Drama,Romance</td>\n",
       "      <td>0.019308</td>\n",
       "    </tr>\n",
       "    <tr>\n",
       "      <th>9</th>\n",
       "      <td>Crime,Drama,Mystery</td>\n",
       "      <td>0.017573</td>\n",
       "    </tr>\n",
       "  </tbody>\n",
       "</table>\n",
       "</div>"
      ],
      "text/plain": [
       "                        index  proportion\n",
       "0                 Documentary    0.074603\n",
       "1                      Comedy    0.074377\n",
       "2                       Drama    0.069233\n",
       "3                  Reality-TV    0.041066\n",
       "4  Action,Adventure,Animation    0.032009\n",
       "5                 Drama,Short    0.023494\n",
       "6                Comedy,Drama    0.021857\n",
       "7            Comedy,Talk-Show    0.021803\n",
       "8               Drama,Romance    0.019308\n",
       "9         Crime,Drama,Mystery    0.017573"
      ]
     },
     "execution_count": 53,
     "metadata": {},
     "output_type": "execute_result"
    }
   ],
   "source": [
    "# Take a look at the top 10 genres \n",
    "Pre_top10"
   ]
  },
  {
   "cell_type": "markdown",
   "metadata": {},
   "source": [
    "Here we plot and see the top 10 genres before COVID happened."
   ]
  },
  {
   "cell_type": "code",
   "execution_count": 54,
   "metadata": {},
   "outputs": [
    {
     "data": {
      "text/plain": [
       "<AxesSubplot:xlabel='proportion', ylabel='index'>"
      ]
     },
     "execution_count": 54,
     "metadata": {},
     "output_type": "execute_result"
    },
    {
     "data": {
      "image/png": "[encoded data removed]",
      "text/plain": [
       "<Figure size 432x288 with 1 Axes>"
      ]
     },
     "metadata": {
      "needs_background": "light"
     },
     "output_type": "display_data"
    }
   ],
   "source": [
    "sns.barplot(x = 'proportion', y = 'index', data = Pre_top10)"
   ]
  },
  {
   "cell_type": "code",
   "execution_count": 55,
   "metadata": {},
   "outputs": [
    {
     "data": {
      "text/html": [
       "<div>\n",
       "<style scoped>\n",
       "    .dataframe tbody tr th:only-of-type {\n",
       "        vertical-align: middle;\n",
       "    }\n",
       "\n",
       "    .dataframe tbody tr th {\n",
       "        vertical-align: top;\n",
       "    }\n",
       "\n",
       "    .dataframe thead th {\n",
       "        text-align: right;\n",
       "    }\n",
       "</style>\n",
       "<table border=\"1\" class=\"dataframe\">\n",
       "  <thead>\n",
       "    <tr style=\"text-align: right;\">\n",
       "      <th></th>\n",
       "      <th>tconst</th>\n",
       "      <th>startYear</th>\n",
       "      <th>genres</th>\n",
       "      <th>averageRating</th>\n",
       "    </tr>\n",
       "  </thead>\n",
       "  <tbody>\n",
       "    <tr>\n",
       "      <th>542597</th>\n",
       "      <td>tt11873126</td>\n",
       "      <td>2020</td>\n",
       "      <td>Drama</td>\n",
       "      <td>7.6</td>\n",
       "    </tr>\n",
       "    <tr>\n",
       "      <th>547877</th>\n",
       "      <td>tt11986728</td>\n",
       "      <td>2020</td>\n",
       "      <td>Action,Crime,Drama</td>\n",
       "      <td>8.1</td>\n",
       "    </tr>\n",
       "    <tr>\n",
       "      <th>553174</th>\n",
       "      <td>tt12100064</td>\n",
       "      <td>2020</td>\n",
       "      <td>Comedy,Reality-TV</td>\n",
       "      <td>7.3</td>\n",
       "    </tr>\n",
       "    <tr>\n",
       "      <th>553172</th>\n",
       "      <td>tt12100048</td>\n",
       "      <td>2020</td>\n",
       "      <td>Comedy,Drama,Romance</td>\n",
       "      <td>3.5</td>\n",
       "    </tr>\n",
       "    <tr>\n",
       "      <th>553173</th>\n",
       "      <td>tt12100062</td>\n",
       "      <td>2020</td>\n",
       "      <td>Adventure,Family,Reality-TV</td>\n",
       "      <td>7.5</td>\n",
       "    </tr>\n",
       "    <tr>\n",
       "      <th>...</th>\n",
       "      <td>...</td>\n",
       "      <td>...</td>\n",
       "      <td>...</td>\n",
       "      <td>...</td>\n",
       "    </tr>\n",
       "    <tr>\n",
       "      <th>722109</th>\n",
       "      <td>tt16761514</td>\n",
       "      <td>2022</td>\n",
       "      <td>Comedy,Romance</td>\n",
       "      <td>5.9</td>\n",
       "    </tr>\n",
       "    <tr>\n",
       "      <th>721828</th>\n",
       "      <td>tt16751250</td>\n",
       "      <td>2022</td>\n",
       "      <td>Action,Sport</td>\n",
       "      <td>6.8</td>\n",
       "    </tr>\n",
       "    <tr>\n",
       "      <th>721817</th>\n",
       "      <td>tt16750580</td>\n",
       "      <td>2022</td>\n",
       "      <td>Reality-TV</td>\n",
       "      <td>6.0</td>\n",
       "    </tr>\n",
       "    <tr>\n",
       "      <th>700408</th>\n",
       "      <td>tt15830222</td>\n",
       "      <td>2022</td>\n",
       "      <td>Adventure,Comedy,Reality-TV</td>\n",
       "      <td>7.9</td>\n",
       "    </tr>\n",
       "    <tr>\n",
       "      <th>721819</th>\n",
       "      <td>tt16750700</td>\n",
       "      <td>2022</td>\n",
       "      <td>Comedy</td>\n",
       "      <td>3.4</td>\n",
       "    </tr>\n",
       "  </tbody>\n",
       "</table>\n",
       "<p>96303 rows × 4 columns</p>\n",
       "</div>"
      ],
      "text/plain": [
       "            tconst startYear                       genres  averageRating\n",
       "542597  tt11873126      2020                        Drama            7.6\n",
       "547877  tt11986728      2020           Action,Crime,Drama            8.1\n",
       "553174  tt12100064      2020            Comedy,Reality-TV            7.3\n",
       "553172  tt12100048      2020         Comedy,Drama,Romance            3.5\n",
       "553173  tt12100062      2020  Adventure,Family,Reality-TV            7.5\n",
       "...            ...       ...                          ...            ...\n",
       "722109  tt16761514      2022               Comedy,Romance            5.9\n",
       "721828  tt16751250      2022                 Action,Sport            6.8\n",
       "721817  tt16750580      2022                   Reality-TV            6.0\n",
       "700408  tt15830222      2022  Adventure,Comedy,Reality-TV            7.9\n",
       "721819  tt16750700      2022                       Comedy            3.4\n",
       "\n",
       "[96303 rows x 4 columns]"
      ]
     },
     "execution_count": 55,
     "metadata": {},
     "output_type": "execute_result"
    }
   ],
   "source": [
    "# all data after pandemic happen(year2020-2022)\n",
    "data_after_pandemic"
   ]
  },
  {
   "cell_type": "code",
   "execution_count": 56,
   "metadata": {},
   "outputs": [],
   "source": [
    "# Determining top10 genres after COVID\n",
    "Covid_r = data_after_pandemic['genres'].value_counts(normalize = True).rename('proportion').reset_index()\n",
    "Covid_top10 = Covid_r.iloc[0:10]"
   ]
  },
  {
   "cell_type": "code",
   "execution_count": 57,
   "metadata": {},
   "outputs": [
    {
     "data": {
      "text/html": [
       "<div>\n",
       "<style scoped>\n",
       "    .dataframe tbody tr th:only-of-type {\n",
       "        vertical-align: middle;\n",
       "    }\n",
       "\n",
       "    .dataframe tbody tr th {\n",
       "        vertical-align: top;\n",
       "    }\n",
       "\n",
       "    .dataframe thead th {\n",
       "        text-align: right;\n",
       "    }\n",
       "</style>\n",
       "<table border=\"1\" class=\"dataframe\">\n",
       "  <thead>\n",
       "    <tr style=\"text-align: right;\">\n",
       "      <th></th>\n",
       "      <th>index</th>\n",
       "      <th>proportion</th>\n",
       "    </tr>\n",
       "  </thead>\n",
       "  <tbody>\n",
       "    <tr>\n",
       "      <th>0</th>\n",
       "      <td>Drama</td>\n",
       "      <td>0.075044</td>\n",
       "    </tr>\n",
       "    <tr>\n",
       "      <th>1</th>\n",
       "      <td>Comedy</td>\n",
       "      <td>0.072469</td>\n",
       "    </tr>\n",
       "    <tr>\n",
       "      <th>2</th>\n",
       "      <td>Documentary</td>\n",
       "      <td>0.068721</td>\n",
       "    </tr>\n",
       "    <tr>\n",
       "      <th>3</th>\n",
       "      <td>Reality-TV</td>\n",
       "      <td>0.043592</td>\n",
       "    </tr>\n",
       "    <tr>\n",
       "      <th>4</th>\n",
       "      <td>Action,Adventure,Animation</td>\n",
       "      <td>0.030497</td>\n",
       "    </tr>\n",
       "    <tr>\n",
       "      <th>5</th>\n",
       "      <td>Comedy,Drama</td>\n",
       "      <td>0.025492</td>\n",
       "    </tr>\n",
       "    <tr>\n",
       "      <th>6</th>\n",
       "      <td>Crime,Drama,Mystery</td>\n",
       "      <td>0.019916</td>\n",
       "    </tr>\n",
       "    <tr>\n",
       "      <th>7</th>\n",
       "      <td>Comedy,Talk-Show</td>\n",
       "      <td>0.018753</td>\n",
       "    </tr>\n",
       "    <tr>\n",
       "      <th>8</th>\n",
       "      <td>Drama,Romance</td>\n",
       "      <td>0.018639</td>\n",
       "    </tr>\n",
       "    <tr>\n",
       "      <th>9</th>\n",
       "      <td>Drama,Short</td>\n",
       "      <td>0.015981</td>\n",
       "    </tr>\n",
       "  </tbody>\n",
       "</table>\n",
       "</div>"
      ],
      "text/plain": [
       "                        index  proportion\n",
       "0                       Drama    0.075044\n",
       "1                      Comedy    0.072469\n",
       "2                 Documentary    0.068721\n",
       "3                  Reality-TV    0.043592\n",
       "4  Action,Adventure,Animation    0.030497\n",
       "5                Comedy,Drama    0.025492\n",
       "6         Crime,Drama,Mystery    0.019916\n",
       "7            Comedy,Talk-Show    0.018753\n",
       "8               Drama,Romance    0.018639\n",
       "9                 Drama,Short    0.015981"
      ]
     },
     "execution_count": 57,
     "metadata": {},
     "output_type": "execute_result"
    }
   ],
   "source": [
    "# Take a look at the top 10 genres \n",
    "Covid_top10"
   ]
  },
  {
   "cell_type": "markdown",
   "metadata": {},
   "source": [
    "Here we plot and see the top 10 genres after COVID happened."
   ]
  },
  {
   "cell_type": "code",
   "execution_count": 58,
   "metadata": {},
   "outputs": [
    {
     "data": {
      "text/plain": [
       "<AxesSubplot:xlabel='proportion', ylabel='index'>"
      ]
     },
     "execution_count": 58,
     "metadata": {},
     "output_type": "execute_result"
    },
    {
     "data": {
      "image/png": "[encoded data removed]",
      "text/plain": [
       "<Figure size 432x288 with 1 Axes>"
      ]
     },
     "metadata": {
      "needs_background": "light"
     },
     "output_type": "display_data"
    }
   ],
   "source": [
    "sns.barplot(x = 'proportion', y = 'index', data = Covid_top10)"
   ]
  },
  {
   "cell_type": "markdown",
   "metadata": {},
   "source": [
    "The bar chart is very good at visualizing dsitributions of different categories. Comparing the pre-COVID and post-COVID data, we find that there is some change in the most popular genres. In the pre-COVID period, Documentary is the most popular genre, with a huge proportion of 0.074. In contrast, in the post-COVID period, Documentary drops to the third popular categories, with a proportion of only 0.068. Drama becomes the most popular genre in the post-COVID period, with its proportion changing from 0.069 to 0.075. While Reality-TV, Action&Adventure&Animation, Comedy Talks-how, and Drama&Romance maintain a relatively constant popularity, we notice the the rise of Crime&Drama&Mystery from the 10th to the 7th place, and the drop of Drama Short from the 6th to the 10th place."
   ]
  },
  {
   "cell_type": "markdown",
   "metadata": {},
   "source": [
    "### (2) Rating changes from 2018-2022"
   ]
  },
  {
   "cell_type": "markdown",
   "metadata": {},
   "source": [
    "After exploring the proportion change of genres, we want to take a look at whether the average ratings of the common genres changed during Covid."
   ]
  },
  {
   "cell_type": "code",
   "execution_count": 59,
   "metadata": {},
   "outputs": [],
   "source": [
    "# Determining top 10 genres of all data (2018 - 2022)\n",
    "All_r = all_data['genres'].value_counts(normalize = True).rename('proportion').reset_index()\n",
    "All_top10 = All_r.iloc[0:10]\n"
   ]
  },
  {
   "cell_type": "code",
   "execution_count": 60,
   "metadata": {},
   "outputs": [
    {
     "data": {
      "text/html": [
       "<div>\n",
       "<style scoped>\n",
       "    .dataframe tbody tr th:only-of-type {\n",
       "        vertical-align: middle;\n",
       "    }\n",
       "\n",
       "    .dataframe tbody tr th {\n",
       "        vertical-align: top;\n",
       "    }\n",
       "\n",
       "    .dataframe thead th {\n",
       "        text-align: right;\n",
       "    }\n",
       "</style>\n",
       "<table border=\"1\" class=\"dataframe\">\n",
       "  <thead>\n",
       "    <tr style=\"text-align: right;\">\n",
       "      <th></th>\n",
       "      <th>index</th>\n",
       "      <th>proportion</th>\n",
       "    </tr>\n",
       "  </thead>\n",
       "  <tbody>\n",
       "    <tr>\n",
       "      <th>0</th>\n",
       "      <td>Comedy</td>\n",
       "      <td>0.073489</td>\n",
       "    </tr>\n",
       "    <tr>\n",
       "      <th>1</th>\n",
       "      <td>Drama</td>\n",
       "      <td>0.071938</td>\n",
       "    </tr>\n",
       "    <tr>\n",
       "      <th>2</th>\n",
       "      <td>Documentary</td>\n",
       "      <td>0.071865</td>\n",
       "    </tr>\n",
       "    <tr>\n",
       "      <th>3</th>\n",
       "      <td>Reality-TV</td>\n",
       "      <td>0.042242</td>\n",
       "    </tr>\n",
       "    <tr>\n",
       "      <th>4</th>\n",
       "      <td>Action,Adventure,Animation</td>\n",
       "      <td>0.031305</td>\n",
       "    </tr>\n",
       "    <tr>\n",
       "      <th>5</th>\n",
       "      <td>Comedy,Drama</td>\n",
       "      <td>0.023549</td>\n",
       "    </tr>\n",
       "    <tr>\n",
       "      <th>6</th>\n",
       "      <td>Comedy,Talk-Show</td>\n",
       "      <td>0.020384</td>\n",
       "    </tr>\n",
       "    <tr>\n",
       "      <th>7</th>\n",
       "      <td>Drama,Short</td>\n",
       "      <td>0.019997</td>\n",
       "    </tr>\n",
       "    <tr>\n",
       "      <th>8</th>\n",
       "      <td>Drama,Romance</td>\n",
       "      <td>0.018997</td>\n",
       "    </tr>\n",
       "    <tr>\n",
       "      <th>9</th>\n",
       "      <td>Crime,Drama,Mystery</td>\n",
       "      <td>0.018663</td>\n",
       "    </tr>\n",
       "  </tbody>\n",
       "</table>\n",
       "</div>"
      ],
      "text/plain": [
       "                        index  proportion\n",
       "0                      Comedy    0.073489\n",
       "1                       Drama    0.071938\n",
       "2                 Documentary    0.071865\n",
       "3                  Reality-TV    0.042242\n",
       "4  Action,Adventure,Animation    0.031305\n",
       "5                Comedy,Drama    0.023549\n",
       "6            Comedy,Talk-Show    0.020384\n",
       "7                 Drama,Short    0.019997\n",
       "8               Drama,Romance    0.018997\n",
       "9         Crime,Drama,Mystery    0.018663"
      ]
     },
     "execution_count": 60,
     "metadata": {},
     "output_type": "execute_result"
    }
   ],
   "source": [
    "All_top10"
   ]
  },
  {
   "cell_type": "code",
   "execution_count": 61,
   "metadata": {},
   "outputs": [],
   "source": [
    "# Group films by the only the top ten genres\n",
    "data_trend = all_data[(all_data['genres'] == 'Comedy') | (all_data['genres'] == 'Drama')\n",
    "                      | (all_data['genres'] == 'Documentary') | (all_data['genres'] == 'Reality-TV')\n",
    "                      | (all_data['genres'] == 'Action,Adventure,Animation') | (all_data['genres'] == 'Comedy,Drama')\n",
    "                      | (all_data['genres'] == 'Comedy,Talk-Show') | (all_data['genres'] == 'Drama,Short')\n",
    "                      | (all_data['genres'] == 'Drama,Romance') | (all_data['genres'] == 'Crime,Drama,Mystery') ]\n"
   ]
  },
  {
   "cell_type": "code",
   "execution_count": 62,
   "metadata": {},
   "outputs": [
    {
     "data": {
      "text/html": [
       "<div>\n",
       "<style scoped>\n",
       "    .dataframe tbody tr th:only-of-type {\n",
       "        vertical-align: middle;\n",
       "    }\n",
       "\n",
       "    .dataframe tbody tr th {\n",
       "        vertical-align: top;\n",
       "    }\n",
       "\n",
       "    .dataframe thead th {\n",
       "        text-align: right;\n",
       "    }\n",
       "</style>\n",
       "<table border=\"1\" class=\"dataframe\">\n",
       "  <thead>\n",
       "    <tr style=\"text-align: right;\">\n",
       "      <th></th>\n",
       "      <th>tconst</th>\n",
       "      <th>startYear</th>\n",
       "      <th>genres</th>\n",
       "      <th>averageRating</th>\n",
       "    </tr>\n",
       "  </thead>\n",
       "  <tbody>\n",
       "    <tr>\n",
       "      <th>1169512</th>\n",
       "      <td>tt8488114</td>\n",
       "      <td>2018</td>\n",
       "      <td>Action,Adventure,Animation</td>\n",
       "      <td>5.1</td>\n",
       "    </tr>\n",
       "    <tr>\n",
       "      <th>1181992</th>\n",
       "      <td>tt8846198</td>\n",
       "      <td>2018</td>\n",
       "      <td>Drama</td>\n",
       "      <td>6.1</td>\n",
       "    </tr>\n",
       "    <tr>\n",
       "      <th>1181981</th>\n",
       "      <td>tt8845840</td>\n",
       "      <td>2018</td>\n",
       "      <td>Drama</td>\n",
       "      <td>6.2</td>\n",
       "    </tr>\n",
       "    <tr>\n",
       "      <th>516662</th>\n",
       "      <td>tt11328646</td>\n",
       "      <td>2018</td>\n",
       "      <td>Documentary</td>\n",
       "      <td>7.0</td>\n",
       "    </tr>\n",
       "    <tr>\n",
       "      <th>1181872</th>\n",
       "      <td>tt8841610</td>\n",
       "      <td>2018</td>\n",
       "      <td>Drama,Short</td>\n",
       "      <td>8.5</td>\n",
       "    </tr>\n",
       "    <tr>\n",
       "      <th>...</th>\n",
       "      <td>...</td>\n",
       "      <td>...</td>\n",
       "      <td>...</td>\n",
       "      <td>...</td>\n",
       "    </tr>\n",
       "    <tr>\n",
       "      <th>722090</th>\n",
       "      <td>tt16760488</td>\n",
       "      <td>2022</td>\n",
       "      <td>Reality-TV</td>\n",
       "      <td>7.3</td>\n",
       "    </tr>\n",
       "    <tr>\n",
       "      <th>722091</th>\n",
       "      <td>tt16760592</td>\n",
       "      <td>2022</td>\n",
       "      <td>Comedy</td>\n",
       "      <td>2.9</td>\n",
       "    </tr>\n",
       "    <tr>\n",
       "      <th>721869</th>\n",
       "      <td>tt16751740</td>\n",
       "      <td>2022</td>\n",
       "      <td>Comedy</td>\n",
       "      <td>8.6</td>\n",
       "    </tr>\n",
       "    <tr>\n",
       "      <th>721817</th>\n",
       "      <td>tt16750580</td>\n",
       "      <td>2022</td>\n",
       "      <td>Reality-TV</td>\n",
       "      <td>6.0</td>\n",
       "    </tr>\n",
       "    <tr>\n",
       "      <th>721819</th>\n",
       "      <td>tt16750700</td>\n",
       "      <td>2022</td>\n",
       "      <td>Comedy</td>\n",
       "      <td>3.4</td>\n",
       "    </tr>\n",
       "  </tbody>\n",
       "</table>\n",
       "<p>81205 rows × 4 columns</p>\n",
       "</div>"
      ],
      "text/plain": [
       "             tconst startYear                      genres  averageRating\n",
       "1169512   tt8488114      2018  Action,Adventure,Animation            5.1\n",
       "1181992   tt8846198      2018                       Drama            6.1\n",
       "1181981   tt8845840      2018                       Drama            6.2\n",
       "516662   tt11328646      2018                 Documentary            7.0\n",
       "1181872   tt8841610      2018                 Drama,Short            8.5\n",
       "...             ...       ...                         ...            ...\n",
       "722090   tt16760488      2022                  Reality-TV            7.3\n",
       "722091   tt16760592      2022                      Comedy            2.9\n",
       "721869   tt16751740      2022                      Comedy            8.6\n",
       "721817   tt16750580      2022                  Reality-TV            6.0\n",
       "721819   tt16750700      2022                      Comedy            3.4\n",
       "\n",
       "[81205 rows x 4 columns]"
      ]
     },
     "execution_count": 62,
     "metadata": {},
     "output_type": "execute_result"
    }
   ],
   "source": [
    "data_trend"
   ]
  },
  {
   "cell_type": "markdown",
   "metadata": {},
   "source": [
    "First, we take a look at the average rating distribution of each one of the top 10 genres."
   ]
  },
  {
   "cell_type": "code",
   "execution_count": 63,
   "metadata": {},
   "outputs": [
    {
     "data": {
      "text/plain": [
       "<AxesSubplot:xlabel='genres', ylabel='averageRating'>"
      ]
     },
     "execution_count": 63,
     "metadata": {},
     "output_type": "execute_result"
    },
    {
     "data": {
      "image/png": "[encoded data removed]",
      "text/plain": [
       "<Figure size 1224x576 with 1 Axes>"
      ]
     },
     "metadata": {
      "needs_background": "light"
     },
     "output_type": "display_data"
    }
   ],
   "source": [
    "#take a look at the average ratings of the top 10 genres\n",
    "plt.figure(figsize=(17,8))\n",
    "sns.boxplot(x = 'genres', y = 'averageRating', data = data_trend, palette = 'Paired')"
   ]
  },
  {
   "cell_type": "markdown",
   "metadata": {},
   "source": [
    "From the boxplot, we see that there is not sharp difference between median ratings among the genres we selected. Action Adventure Animation has the highest median ratings and Comedy Talk-Show has the lowest median ratings. Dramashort ratings shows the greatest range while Crime Drama Mystery shows a smallest range."
   ]
  },
  {
   "cell_type": "markdown",
   "metadata": {},
   "source": [
    "We use both a line plot and a grouped barplot to visualize the change of each genre."
   ]
  },
  {
   "cell_type": "code",
   "execution_count": 64,
   "metadata": {},
   "outputs": [
    {
     "data": {
      "text/plain": [
       "<matplotlib.legend.Legend at 0x7fbe4d83ce20>"
      ]
     },
     "execution_count": 64,
     "metadata": {},
     "output_type": "execute_result"
    },
    {
     "data": {
      "image/png": "[encoded data removed]",
      "text/plain": [
       "<Figure size 432x288 with 1 Axes>"
      ]
     },
     "metadata": {
      "needs_background": "light"
     },
     "output_type": "display_data"
    }
   ],
   "source": [
    "# Draw a lineplot to look at rating from 2018-2022\n",
    "fig_t = sns.lineplot(data = data_trend, x = 'startYear', y = 'averageRating', hue = 'genres')\n",
    "fig_t.legend(bbox_to_anchor=(1.1, 0.9))"
   ]
  },
  {
   "cell_type": "code",
   "execution_count": 65,
   "metadata": {},
   "outputs": [
    {
     "data": {
      "text/plain": [
       "<matplotlib.legend.Legend at 0x7fbe43ea7130>"
      ]
     },
     "execution_count": 65,
     "metadata": {},
     "output_type": "execute_result"
    },
    {
     "data": {
      "image/png": "[encoded data removed]",
      "text/plain": [
       "<Figure size 1800x360 with 1 Axes>"
      ]
     },
     "metadata": {
      "needs_background": "light"
     },
     "output_type": "display_data"
    }
   ],
   "source": [
    "# Draw a grouped barchart to look at rating from 2018-2022\n",
    "plt.figure(figsize=(25,5))\n",
    "g = sns.barplot(data = data_trend, x = 'genres', y = 'averageRating', hue = 'startYear',ci = None, palette = 'Spectral')\n",
    "g.legend(bbox_to_anchor=(1.1, 0.9))"
   ]
  },
  {
   "cell_type": "markdown",
   "metadata": {},
   "source": [
    "From the plots we generated, we find that there is a slight increase in the ratings of Action&Adventure&Animation, Drama, Drama&Short, and Comedy&Drama. There is a slight decrease in the ratings of Reality-TV and Crime&Drama&Mystery."
   ]
  },
  {
   "cell_type": "markdown",
   "metadata": {},
   "source": [
    "### (3) Rating changes in different genres "
   ]
  },
  {
   "cell_type": "markdown",
   "metadata": {},
   "source": [
    "Here, we are going to compare the rating changes in the top 10 generes before and after pandemic. Then we are going to perform a t-test on the rating on each genere before and after pandemic to see if there is a significant difference in rating before and after pandemic."
   ]
  },
  {
   "cell_type": "markdown",
   "metadata": {},
   "source": [
    "#### 1. Documentary"
   ]
  },
  {
   "cell_type": "code",
   "execution_count": 66,
   "metadata": {},
   "outputs": [],
   "source": [
    "# Deriving Pre-Covid Documentary Rating data  \n",
    "Documentary_before_pandemic = data_before_pandemic[data_before_pandemic['genres'] == 'Documentary']\n",
    "Documentary_before_pandemic_rating = Documentary_before_pandemic['averageRating']"
   ]
  },
  {
   "cell_type": "code",
   "execution_count": 67,
   "metadata": {},
   "outputs": [
    {
     "data": {
      "text/plain": [
       "516662     7.0\n",
       "516664     6.2\n",
       "449924     6.7\n",
       "1180233    6.2\n",
       "1180441    5.0\n",
       "          ... \n",
       "473033     6.2\n",
       "943944     7.0\n",
       "469412     6.6\n",
       "473345     8.5\n",
       "473821     6.3\n",
       "Name: averageRating, Length: 8253, dtype: float64"
      ]
     },
     "execution_count": 67,
     "metadata": {},
     "output_type": "execute_result"
    }
   ],
   "source": [
    "# Take a look at Pre-Covid Documentary Rating data  \n",
    "Documentary_before_pandemic_rating"
   ]
  },
  {
   "cell_type": "code",
   "execution_count": 68,
   "metadata": {},
   "outputs": [],
   "source": [
    "# Deriving Post-Covid Documentary Rating data  \n",
    "Documentary_after_pandemic = data_after_pandemic[data_after_pandemic['genres'] == 'Documentary']\n",
    "Documentary_after_pandemic_rating = Documentary_after_pandemic['averageRating']"
   ]
  },
  {
   "cell_type": "code",
   "execution_count": 69,
   "metadata": {},
   "outputs": [
    {
     "data": {
      "text/plain": [
       "542588    7.2\n",
       "553198    7.0\n",
       "541344    8.0\n",
       "553176    7.1\n",
       "541345    7.1\n",
       "         ... \n",
       "721969    7.0\n",
       "721970    7.2\n",
       "716731    7.3\n",
       "716622    4.8\n",
       "716904    6.6\n",
       "Name: averageRating, Length: 6618, dtype: float64"
      ]
     },
     "execution_count": 69,
     "metadata": {},
     "output_type": "execute_result"
    }
   ],
   "source": [
    "# Take a look at Post-Covid Documentary Rating data  \n",
    "Documentary_after_pandemic_rating"
   ]
  },
  {
   "cell_type": "code",
   "execution_count": 70,
   "metadata": {},
   "outputs": [
    {
     "data": {
      "text/plain": [
       "(-3.396351425822577, 0.0006846937388764388)"
      ]
     },
     "execution_count": 70,
     "metadata": {},
     "output_type": "execute_result"
    }
   ],
   "source": [
    "# Determining test and p-value to identify if a significant difference exists\n",
    "t_val, p_val1 = ttest_ind(a = Documentary_before_pandemic_rating, b = Documentary_after_pandemic_rating)\n",
    "t_val, p_val1"
   ]
  },
  {
   "cell_type": "code",
   "execution_count": 71,
   "metadata": {},
   "outputs": [
    {
     "name": "stdout",
     "output_type": "stream",
     "text": [
      "There is a significant difference!\n"
     ]
    }
   ],
   "source": [
    "# Check if statistical test passes significance\n",
    "# using an alpha value of 0.01. This code provided.\n",
    "if p_val1 < 0.01:\n",
    "    print('There is a significant difference!')\n",
    "else:\n",
    "    print('There is NOT a significant difference!')"
   ]
  },
  {
   "cell_type": "markdown",
   "metadata": {},
   "source": [
    "#### 2. Comedy\t"
   ]
  },
  {
   "cell_type": "code",
   "execution_count": 72,
   "metadata": {},
   "outputs": [],
   "source": [
    "# Deriving Pre-Covid Comedy Rating data  \n",
    "Comedy_before_pandemic = data_before_pandemic[data_before_pandemic['genres'] == 'Comedy']\n",
    "Comedy_before_pandemic_rating = Comedy_before_pandemic['averageRating']"
   ]
  },
  {
   "cell_type": "code",
   "execution_count": 73,
   "metadata": {},
   "outputs": [
    {
     "data": {
      "text/plain": [
       "1181866    7.6\n",
       "1180440    8.8\n",
       "1181996    5.8\n",
       "450434     7.6\n",
       "1181999    6.4\n",
       "          ... \n",
       "469897     8.3\n",
       "447608     6.5\n",
       "1071228    5.2\n",
       "473828     8.1\n",
       "1071146    7.2\n",
       "Name: averageRating, Length: 8228, dtype: float64"
      ]
     },
     "execution_count": 73,
     "metadata": {},
     "output_type": "execute_result"
    }
   ],
   "source": [
    "# Take a look at Pre-Covid Comedy Rating data  \n",
    "Comedy_before_pandemic_rating"
   ]
  },
  {
   "cell_type": "code",
   "execution_count": 74,
   "metadata": {},
   "outputs": [],
   "source": [
    "# Deriving Post-Covid Comedy Rating data  \n",
    "Comedy_after_pandemic = data_after_pandemic[data_after_pandemic['genres'] == 'Comedy']\n",
    "Comedy_after_pandemic_rating = Comedy_after_pandemic['averageRating']"
   ]
  },
  {
   "cell_type": "code",
   "execution_count": 75,
   "metadata": {},
   "outputs": [
    {
     "data": {
      "text/plain": [
       "541339    8.3\n",
       "541343    6.7\n",
       "553417    7.4\n",
       "553415    7.4\n",
       "553414    7.7\n",
       "         ... \n",
       "722118    5.2\n",
       "669083    6.4\n",
       "722091    2.9\n",
       "721869    8.6\n",
       "721819    3.4\n",
       "Name: averageRating, Length: 6979, dtype: float64"
      ]
     },
     "execution_count": 75,
     "metadata": {},
     "output_type": "execute_result"
    }
   ],
   "source": [
    "# Take a look at Post-Covid Comedy Rating data  \n",
    "Comedy_after_pandemic_rating"
   ]
  },
  {
   "cell_type": "code",
   "execution_count": 76,
   "metadata": {},
   "outputs": [
    {
     "data": {
      "text/plain": [
       "(5.516124098720345, 3.522136477985945e-08)"
      ]
     },
     "execution_count": 76,
     "metadata": {},
     "output_type": "execute_result"
    }
   ],
   "source": [
    "# Determining test and p-value to identify if a significant difference exists\n",
    "t_val, p_val2 = ttest_ind(a = Comedy_before_pandemic_rating, b = Comedy_after_pandemic_rating)\n",
    "t_val, p_val2"
   ]
  },
  {
   "cell_type": "code",
   "execution_count": 77,
   "metadata": {},
   "outputs": [
    {
     "name": "stdout",
     "output_type": "stream",
     "text": [
      "There is a significant difference!\n"
     ]
    }
   ],
   "source": [
    "# Check if statistical test passes significance\n",
    "# using an alpha value of 0.01. This code provided.\n",
    "if p_val2 < 0.01:\n",
    "    print('There is a significant difference!')\n",
    "else:\n",
    "    print('There is NOT a significant difference!')"
   ]
  },
  {
   "cell_type": "markdown",
   "metadata": {},
   "source": [
    "#### 3. Drama"
   ]
  },
  {
   "cell_type": "code",
   "execution_count": 78,
   "metadata": {},
   "outputs": [],
   "source": [
    "# Deriving Pre-Covid Drama Rating data  \n",
    "Drama_before_pandemic = data_before_pandemic[data_before_pandemic['genres'] == 'Drama']\n",
    "Drama_before_pandemic_rating = Drama_before_pandemic['averageRating']"
   ]
  },
  {
   "cell_type": "code",
   "execution_count": 79,
   "metadata": {},
   "outputs": [
    {
     "data": {
      "text/plain": [
       "1181992    6.1\n",
       "1181981    6.2\n",
       "1180228    6.6\n",
       "1170001    6.3\n",
       "1051202    6.5\n",
       "          ... \n",
       "469478     8.2\n",
       "1064148    5.9\n",
       "469800     6.7\n",
       "1070603    6.8\n",
       "449796     5.1\n",
       "Name: averageRating, Length: 7659, dtype: float64"
      ]
     },
     "execution_count": 79,
     "metadata": {},
     "output_type": "execute_result"
    }
   ],
   "source": [
    "# Take a look at Pre-Covid Drama Rating data  \n",
    "Drama_before_pandemic_rating"
   ]
  },
  {
   "cell_type": "code",
   "execution_count": 80,
   "metadata": {},
   "outputs": [],
   "source": [
    "# Deriving Post-Covid Drama Rating data  \n",
    "Drama_after_pandemic = data_after_pandemic[data_after_pandemic['genres'] == 'Drama']\n",
    "Drama_after_pandemic_rating = Drama_after_pandemic['averageRating']"
   ]
  },
  {
   "cell_type": "code",
   "execution_count": 81,
   "metadata": {},
   "outputs": [
    {
     "data": {
      "text/plain": [
       "542597    7.6\n",
       "546505    8.0\n",
       "546506    8.2\n",
       "546509    8.2\n",
       "546508    8.2\n",
       "         ... \n",
       "510455    7.6\n",
       "510454    7.6\n",
       "510453    7.3\n",
       "510452    7.2\n",
       "510451    6.9\n",
       "Name: averageRating, Length: 7227, dtype: float64"
      ]
     },
     "execution_count": 81,
     "metadata": {},
     "output_type": "execute_result"
    }
   ],
   "source": [
    "# Take a look at Post-Covid Drama Rating data  \n",
    "Drama_after_pandemic_rating"
   ]
  },
  {
   "cell_type": "code",
   "execution_count": 82,
   "metadata": {},
   "outputs": [
    {
     "data": {
      "text/plain": [
       "(-4.321633595565213, 1.5588343142094394e-05)"
      ]
     },
     "execution_count": 82,
     "metadata": {},
     "output_type": "execute_result"
    }
   ],
   "source": [
    "# Determining test and p-value to identify if a significant difference exists\n",
    "t_val, p_val3 = ttest_ind(a = Drama_before_pandemic_rating, b = Drama_after_pandemic_rating)\n",
    "t_val, p_val3"
   ]
  },
  {
   "cell_type": "code",
   "execution_count": 83,
   "metadata": {},
   "outputs": [
    {
     "name": "stdout",
     "output_type": "stream",
     "text": [
      "There is a significant difference!\n"
     ]
    }
   ],
   "source": [
    "# Check if statistical test passes significance\n",
    "# using an alpha value of 0.01. This code provided.\n",
    "if p_val3 < 0.01:\n",
    "    print('There is a significant difference!')\n",
    "else:\n",
    "    print('There is NOT a significant difference!')"
   ]
  },
  {
   "cell_type": "markdown",
   "metadata": {},
   "source": [
    "#### 4. Reality-TV"
   ]
  },
  {
   "cell_type": "code",
   "execution_count": 84,
   "metadata": {},
   "outputs": [],
   "source": [
    "# Deriving Pre-Covid Reality-TV Rating data  \n",
    "RealityTV_before_pandemic = data_before_pandemic[data_before_pandemic['genres'] == 'Reality-TV']\n",
    "RealityTV_before_pandemic_rating = RealityTV_before_pandemic['averageRating']"
   ]
  },
  {
   "cell_type": "code",
   "execution_count": 85,
   "metadata": {},
   "outputs": [
    {
     "data": {
      "text/plain": [
       "1180323    7.0\n",
       "1180322    7.4\n",
       "1181971    7.1\n",
       "1181975    8.2\n",
       "1180401    7.1\n",
       "          ... \n",
       "473319     9.4\n",
       "473059     6.8\n",
       "473062     7.2\n",
       "473064     7.2\n",
       "469765     6.0\n",
       "Name: averageRating, Length: 4543, dtype: float64"
      ]
     },
     "execution_count": 85,
     "metadata": {},
     "output_type": "execute_result"
    }
   ],
   "source": [
    "# Take a look at Pre-Covid RealityTV Rating data  \n",
    "RealityTV_before_pandemic_rating"
   ]
  },
  {
   "cell_type": "code",
   "execution_count": 86,
   "metadata": {},
   "outputs": [],
   "source": [
    "# Deriving Post-Covid Reality-TV Rating data  \n",
    "RealityTV_after_pandemic = data_after_pandemic[data_after_pandemic['genres'] == 'Reality-TV']\n",
    "RealityTV_after_pandemic_rating = RealityTV_after_pandemic['averageRating']"
   ]
  },
  {
   "cell_type": "code",
   "execution_count": 87,
   "metadata": {},
   "outputs": [
    {
     "data": {
      "text/plain": [
       "542547     5.2\n",
       "542541     3.4\n",
       "553447     6.3\n",
       "553446     5.4\n",
       "553429     5.1\n",
       "          ... \n",
       "721982    10.0\n",
       "721981     7.6\n",
       "661686     4.7\n",
       "722090     7.3\n",
       "721817     6.0\n",
       "Name: averageRating, Length: 4198, dtype: float64"
      ]
     },
     "execution_count": 87,
     "metadata": {},
     "output_type": "execute_result"
    }
   ],
   "source": [
    "# Take a look at Post-Covid RealityTV Rating data  \n",
    "RealityTV_after_pandemic_rating"
   ]
  },
  {
   "cell_type": "code",
   "execution_count": 88,
   "metadata": {},
   "outputs": [
    {
     "data": {
      "text/plain": [
       "(3.8249795807936775, 0.0001316930256649457)"
      ]
     },
     "execution_count": 88,
     "metadata": {},
     "output_type": "execute_result"
    }
   ],
   "source": [
    "# Determining test and p-value to identify if a significant difference exists\n",
    "t_val, p_val4 = ttest_ind(a = RealityTV_before_pandemic_rating, b = RealityTV_after_pandemic_rating)\n",
    "t_val, p_val4"
   ]
  },
  {
   "cell_type": "code",
   "execution_count": 89,
   "metadata": {},
   "outputs": [
    {
     "name": "stdout",
     "output_type": "stream",
     "text": [
      "There is a significant difference!\n"
     ]
    }
   ],
   "source": [
    "# Check if statistical test passes significance\n",
    "# using an alpha value of 0.01. This code provided.\n",
    "if p_val4 < 0.01:\n",
    "    print('There is a significant difference!')\n",
    "else:\n",
    "    print('There is NOT a significant difference!')"
   ]
  },
  {
   "cell_type": "markdown",
   "metadata": {},
   "source": [
    "#### 5. Action,Adventure,Animation\t"
   ]
  },
  {
   "cell_type": "code",
   "execution_count": 90,
   "metadata": {},
   "outputs": [],
   "source": [
    "# Deriving Pre-Covid Drama Rating data  \n",
    "ActionAdventureAnimation_before_pandemic = data_before_pandemic[data_before_pandemic['genres'] == 'Action,Adventure,Animation']\n",
    "ActionAdventureAnimation_before_pandemic_rating = ActionAdventureAnimation_before_pandemic['averageRating']"
   ]
  },
  {
   "cell_type": "code",
   "execution_count": 91,
   "metadata": {},
   "outputs": [
    {
     "data": {
      "text/plain": [
       "1169512    5.1\n",
       "1181988    6.7\n",
       "1181989    7.4\n",
       "1216752    6.5\n",
       "1216770    8.6\n",
       "          ... \n",
       "473589     9.0\n",
       "473587     9.2\n",
       "473586     8.4\n",
       "473830     9.6\n",
       "473588     9.0\n",
       "Name: averageRating, Length: 3541, dtype: float64"
      ]
     },
     "execution_count": 91,
     "metadata": {},
     "output_type": "execute_result"
    }
   ],
   "source": [
    "# Take a look at Pre-Covid ActionAdventureAnimation Rating data  \n",
    "ActionAdventureAnimation_before_pandemic_rating"
   ]
  },
  {
   "cell_type": "code",
   "execution_count": 92,
   "metadata": {},
   "outputs": [],
   "source": [
    "# Deriving Post-Covid Action,Adventure,Animation Rating data  \n",
    "ActionAdventureAnimation_after_pandemic = data_after_pandemic[data_after_pandemic['genres'] == 'Action,Adventure,Animation']\n",
    "ActionAdventureAnimation_after_pandemic_rating = ActionAdventureAnimation_after_pandemic['averageRating']"
   ]
  },
  {
   "cell_type": "code",
   "execution_count": 93,
   "metadata": {},
   "outputs": [
    {
     "data": {
      "text/plain": [
       "553190    8.3\n",
       "553187    8.5\n",
       "542543    9.3\n",
       "554836    8.2\n",
       "554837    8.0\n",
       "         ... \n",
       "648777    9.1\n",
       "719104    6.3\n",
       "717472    7.8\n",
       "722280    9.0\n",
       "724446    5.2\n",
       "Name: averageRating, Length: 2937, dtype: float64"
      ]
     },
     "execution_count": 93,
     "metadata": {},
     "output_type": "execute_result"
    }
   ],
   "source": [
    "# Take a look at Post-Covid ActionAdventureAnimation Rating data  \n",
    "ActionAdventureAnimation_after_pandemic_rating"
   ]
  },
  {
   "cell_type": "code",
   "execution_count": 94,
   "metadata": {},
   "outputs": [
    {
     "data": {
      "text/plain": [
       "(-4.173669770775037, 3.0365710257479148e-05)"
      ]
     },
     "execution_count": 94,
     "metadata": {},
     "output_type": "execute_result"
    }
   ],
   "source": [
    "# Determining test and p-value to identify if a significant difference exists\n",
    "t_val, p_val5 = ttest_ind(a = ActionAdventureAnimation_before_pandemic_rating, b = ActionAdventureAnimation_after_pandemic_rating)\n",
    "t_val, p_val5"
   ]
  },
  {
   "cell_type": "code",
   "execution_count": 95,
   "metadata": {},
   "outputs": [
    {
     "name": "stdout",
     "output_type": "stream",
     "text": [
      "There is a significant difference!\n"
     ]
    }
   ],
   "source": [
    "# Check if statistical test passes significance\n",
    "# using an alpha value of 0.01. This code provided.\n",
    "if p_val5 < 0.01:\n",
    "    print('There is a significant difference!')\n",
    "else:\n",
    "    print('There is NOT a significant difference!')"
   ]
  },
  {
   "cell_type": "markdown",
   "metadata": {},
   "source": [
    "#### 6. Comedy, Drama"
   ]
  },
  {
   "cell_type": "code",
   "execution_count": 96,
   "metadata": {},
   "outputs": [],
   "source": [
    "# Deriving Pre-Covid ComedyDrama Rating data  \n",
    "ComedyDrama_before_pandemic = data_before_pandemic[data_before_pandemic['genres'] == 'Comedy,Drama']\n",
    "ComedyDrama_before_pandemic_rating = ComedyDrama_before_pandemic['averageRating']"
   ]
  },
  {
   "cell_type": "code",
   "execution_count": 97,
   "metadata": {},
   "outputs": [
    {
     "data": {
      "text/plain": [
       "1180231    8.1\n",
       "1181987    6.1\n",
       "1181904    7.5\n",
       "1051242    7.6\n",
       "1050622    7.8\n",
       "          ... \n",
       "473555     8.3\n",
       "473094     7.3\n",
       "473556     8.3\n",
       "1063937    8.1\n",
       "447544     7.5\n",
       "Name: averageRating, Length: 2418, dtype: float64"
      ]
     },
     "execution_count": 97,
     "metadata": {},
     "output_type": "execute_result"
    }
   ],
   "source": [
    "# Take a look at Pre-Covid ComedyDrama Rating data  \n",
    "ComedyDrama_before_pandemic_rating"
   ]
  },
  {
   "cell_type": "code",
   "execution_count": 98,
   "metadata": {},
   "outputs": [],
   "source": [
    "# Deriving Post-Covid ComedyDrama Rating data  \n",
    "ComedyDrama_after_pandemic = data_after_pandemic[data_after_pandemic['genres'] == 'Comedy,Drama']\n",
    "ComedyDrama_after_pandemic_rating = ComedyDrama_after_pandemic['averageRating']"
   ]
  },
  {
   "cell_type": "code",
   "execution_count": 99,
   "metadata": {},
   "outputs": [
    {
     "data": {
      "text/plain": [
       "547883    6.6\n",
       "547884    6.3\n",
       "541329    8.1\n",
       "546914    6.5\n",
       "546912    2.8\n",
       "         ... \n",
       "561313    8.0\n",
       "561311    7.6\n",
       "561314    8.2\n",
       "561315    9.3\n",
       "561310    7.5\n",
       "Name: averageRating, Length: 2455, dtype: float64"
      ]
     },
     "execution_count": 99,
     "metadata": {},
     "output_type": "execute_result"
    }
   ],
   "source": [
    "# Take a look at Post-Covid ComedyDrama Rating data \n",
    "ComedyDrama_after_pandemic_rating"
   ]
  },
  {
   "cell_type": "code",
   "execution_count": 100,
   "metadata": {},
   "outputs": [
    {
     "data": {
      "text/plain": [
       "(-4.821528764215727, 1.4679958209925507e-06)"
      ]
     },
     "execution_count": 100,
     "metadata": {},
     "output_type": "execute_result"
    }
   ],
   "source": [
    "# Determining test and p-value to identify if a significant difference exists\n",
    "t_val, p_val6 = ttest_ind(a = ComedyDrama_before_pandemic_rating, b = ComedyDrama_after_pandemic_rating)\n",
    "t_val, p_val6"
   ]
  },
  {
   "cell_type": "code",
   "execution_count": 101,
   "metadata": {},
   "outputs": [
    {
     "name": "stdout",
     "output_type": "stream",
     "text": [
      "There is a significant difference!\n"
     ]
    }
   ],
   "source": [
    "# Check if statistical test passes significance\n",
    "# using an alpha value of 0.01. This code provided.\n",
    "if p_val6 < 0.01:\n",
    "    print('There is a significant difference!')\n",
    "else:\n",
    "    print('There is NOT a significant difference!')"
   ]
  },
  {
   "cell_type": "markdown",
   "metadata": {},
   "source": [
    "#### 7. Comedy,Talk-Show"
   ]
  },
  {
   "cell_type": "code",
   "execution_count": 102,
   "metadata": {},
   "outputs": [],
   "source": [
    "# Deriving Pre-Covid ComedyTalk-Show Rating data  \n",
    "ComedyTalkShow_before_pandemic = data_before_pandemic[data_before_pandemic['genres'] == 'Comedy,Talk-Show']\n",
    "ComedyTalkShow_before_pandemic_rating = ComedyTalkShow_before_pandemic['averageRating']"
   ]
  },
  {
   "cell_type": "code",
   "execution_count": 103,
   "metadata": {},
   "outputs": [
    {
     "data": {
      "text/plain": [
       "1169587    6.4\n",
       "1180410    7.3\n",
       "1180411    5.7\n",
       "1180409    7.0\n",
       "1180412    6.8\n",
       "          ... \n",
       "472976     6.5\n",
       "472972     6.4\n",
       "473509     8.0\n",
       "473813     7.4\n",
       "473812     7.5\n",
       "Name: averageRating, Length: 2412, dtype: float64"
      ]
     },
     "execution_count": 103,
     "metadata": {},
     "output_type": "execute_result"
    }
   ],
   "source": [
    "# Take a look at Pre-Covid ComedyTalk-Show Rating data\n",
    "ComedyTalkShow_before_pandemic_rating"
   ]
  },
  {
   "cell_type": "code",
   "execution_count": 104,
   "metadata": {},
   "outputs": [],
   "source": [
    "# Deriving Post-Covid ComedyTalk-Show Rating data  \n",
    "ComedyTalkShow_after_pandemic = data_after_pandemic[data_after_pandemic['genres'] == 'Comedy,Talk-Show']\n",
    "ComedyTalkShow_after_pandemic_rating = ComedyTalkShow_after_pandemic['averageRating']"
   ]
  },
  {
   "cell_type": "code",
   "execution_count": 105,
   "metadata": {},
   "outputs": [
    {
     "data": {
      "text/plain": [
       "553435    6.8\n",
       "542540    6.8\n",
       "547858    7.0\n",
       "553349    7.3\n",
       "553347    8.1\n",
       "         ... \n",
       "727925    6.4\n",
       "727924    6.7\n",
       "721338    7.6\n",
       "724465    8.9\n",
       "724464    7.8\n",
       "Name: averageRating, Length: 1806, dtype: float64"
      ]
     },
     "execution_count": 105,
     "metadata": {},
     "output_type": "execute_result"
    }
   ],
   "source": [
    "# Take a look at Post-Covid ComedyTalk-Show Rating data\n",
    "ComedyTalkShow_after_pandemic_rating"
   ]
  },
  {
   "cell_type": "code",
   "execution_count": 106,
   "metadata": {},
   "outputs": [
    {
     "data": {
      "text/plain": [
       "(2.2009708865798427, 0.027792099831188025)"
      ]
     },
     "execution_count": 106,
     "metadata": {},
     "output_type": "execute_result"
    }
   ],
   "source": [
    "# Determining test and p-value to identify if a significant difference exists\n",
    "t_val, p_val7 = ttest_ind(a = ComedyTalkShow_before_pandemic_rating, b = ComedyTalkShow_after_pandemic_rating)\n",
    "t_val, p_val7"
   ]
  },
  {
   "cell_type": "code",
   "execution_count": 107,
   "metadata": {},
   "outputs": [
    {
     "name": "stdout",
     "output_type": "stream",
     "text": [
      "There is NOT a significant difference!\n"
     ]
    }
   ],
   "source": [
    "# Check if statistical test passes significance\n",
    "# using an alpha value of 0.01. This code provided.\n",
    "if p_val7 < 0.01:\n",
    "    print('There is a significant difference!')\n",
    "else:\n",
    "    print('There is NOT a significant difference!')"
   ]
  },
  {
   "cell_type": "markdown",
   "metadata": {},
   "source": [
    "#### 8. Drama,Short"
   ]
  },
  {
   "cell_type": "code",
   "execution_count": 108,
   "metadata": {},
   "outputs": [],
   "source": [
    "# Deriving Pre-Covid DramaShort Rating data  \n",
    "DramaShort_before_pandemic = data_before_pandemic[data_before_pandemic['genres'] == 'Drama,Short']\n",
    "DramaShort_before_pandemic_rating = DramaShort_before_pandemic['averageRating']"
   ]
  },
  {
   "cell_type": "code",
   "execution_count": 109,
   "metadata": {},
   "outputs": [
    {
     "data": {
      "text/plain": [
       "1181872    8.5\n",
       "537087     4.5\n",
       "1180427    7.0\n",
       "1169539    7.1\n",
       "1169572    8.4\n",
       "          ... \n",
       "447609     8.4\n",
       "449774     8.0\n",
       "473833     3.0\n",
       "473829     4.5\n",
       "473621     7.7\n",
       "Name: averageRating, Length: 2599, dtype: float64"
      ]
     },
     "execution_count": 109,
     "metadata": {},
     "output_type": "execute_result"
    }
   ],
   "source": [
    "# Take a look at Pre-Covid DramaShort Rating data\n",
    "DramaShort_before_pandemic_rating"
   ]
  },
  {
   "cell_type": "code",
   "execution_count": 110,
   "metadata": {},
   "outputs": [],
   "source": [
    "# Deriving Psot-Covid DramaShort Rating data  \n",
    "DramaShort_after_pandemic = data_after_pandemic[data_after_pandemic['genres'] == 'Drama,Short']\n",
    "DramaShort_after_pandemic_rating = DramaShort_after_pandemic['averageRating']"
   ]
  },
  {
   "cell_type": "code",
   "execution_count": 111,
   "metadata": {},
   "outputs": [
    {
     "data": {
      "text/plain": [
       "553199     7.8\n",
       "553445     9.6\n",
       "554821     7.8\n",
       "542574     8.5\n",
       "546919     5.5\n",
       "          ... \n",
       "724642     7.6\n",
       "727285     6.4\n",
       "726852     9.8\n",
       "726865     9.4\n",
       "716331    10.0\n",
       "Name: averageRating, Length: 1539, dtype: float64"
      ]
     },
     "execution_count": 111,
     "metadata": {},
     "output_type": "execute_result"
    }
   ],
   "source": [
    "# Take a look at Post-Covid DramaShort Rating data\n",
    "DramaShort_after_pandemic_rating"
   ]
  },
  {
   "cell_type": "code",
   "execution_count": 112,
   "metadata": {},
   "outputs": [
    {
     "data": {
      "text/plain": [
       "(-4.770574999780551, 1.9003344684806058e-06)"
      ]
     },
     "execution_count": 112,
     "metadata": {},
     "output_type": "execute_result"
    }
   ],
   "source": [
    "# Determining test and p-value to identify if a significant difference exists\n",
    "t_val, p_val8 = ttest_ind(a = DramaShort_before_pandemic_rating, b = DramaShort_after_pandemic_rating)\n",
    "t_val, p_val8"
   ]
  },
  {
   "cell_type": "code",
   "execution_count": 113,
   "metadata": {},
   "outputs": [
    {
     "name": "stdout",
     "output_type": "stream",
     "text": [
      "There is a significant difference!\n"
     ]
    }
   ],
   "source": [
    "# Check if statistical test passes significance\n",
    "# using an alpha value of 0.01. This code provided.\n",
    "if p_val8 < 0.01:\n",
    "    print('There is a significant difference!')\n",
    "else:\n",
    "    print('There is NOT a significant difference!')"
   ]
  },
  {
   "cell_type": "markdown",
   "metadata": {},
   "source": [
    "#### 9. Drama, Romance"
   ]
  },
  {
   "cell_type": "code",
   "execution_count": 114,
   "metadata": {},
   "outputs": [],
   "source": [
    "# Deriving Pre-Covid DramaRomance Rating data  \n",
    "DramaRomance_before_pandemic = data_before_pandemic[data_before_pandemic['genres'] == 'Drama,Romance']\n",
    "DramaRomance_before_pandemic_rating = DramaRomance_before_pandemic['averageRating']"
   ]
  },
  {
   "cell_type": "code",
   "execution_count": 115,
   "metadata": {},
   "outputs": [
    {
     "data": {
      "text/plain": [
       "1181865    8.5\n",
       "1181864    8.7\n",
       "1049782    6.9\n",
       "1180250    7.5\n",
       "449907     3.0\n",
       "          ... \n",
       "469261     8.9\n",
       "469260     8.5\n",
       "469263     8.3\n",
       "469262     8.7\n",
       "943808     5.3\n",
       "Name: averageRating, Length: 2136, dtype: float64"
      ]
     },
     "execution_count": 115,
     "metadata": {},
     "output_type": "execute_result"
    }
   ],
   "source": [
    "# Take a look at Pre-Covid DramaRomance Rating data\n",
    "DramaRomance_before_pandemic_rating"
   ]
  },
  {
   "cell_type": "code",
   "execution_count": 116,
   "metadata": {},
   "outputs": [],
   "source": [
    "# Deriving Post-Covid Drama,Romance Rating data  \n",
    "DramaRomance_after_pandemic = data_after_pandemic[data_after_pandemic['genres'] == 'Drama,Romance']\n",
    "DramaRomance_after_pandemic_rating = DramaRomance_after_pandemic['averageRating']\n"
   ]
  },
  {
   "cell_type": "code",
   "execution_count": 117,
   "metadata": {},
   "outputs": [
    {
     "data": {
      "text/plain": [
       "541447    8.0\n",
       "541446    7.4\n",
       "542576    6.4\n",
       "542564    6.1\n",
       "548060    6.3\n",
       "         ... \n",
       "718936    5.2\n",
       "718802    6.1\n",
       "686501    4.6\n",
       "722743    6.3\n",
       "722181    4.5\n",
       "Name: averageRating, Length: 1795, dtype: float64"
      ]
     },
     "execution_count": 117,
     "metadata": {},
     "output_type": "execute_result"
    }
   ],
   "source": [
    "# Take a look at Post-Covid DramaRomance Rating data\n",
    "DramaRomance_after_pandemic_rating"
   ]
  },
  {
   "cell_type": "code",
   "execution_count": 118,
   "metadata": {},
   "outputs": [
    {
     "data": {
      "text/plain": [
       "(-1.3469683502886087, 0.17806810921740862)"
      ]
     },
     "execution_count": 118,
     "metadata": {},
     "output_type": "execute_result"
    }
   ],
   "source": [
    "# Determining test and p-value to identify if a significant difference exists\n",
    "t_val, p_val9 = ttest_ind(a = DramaRomance_before_pandemic_rating, b = DramaRomance_after_pandemic_rating)\n",
    "t_val, p_val9"
   ]
  },
  {
   "cell_type": "code",
   "execution_count": 119,
   "metadata": {},
   "outputs": [
    {
     "name": "stdout",
     "output_type": "stream",
     "text": [
      "There is NOT a significant difference!\n"
     ]
    }
   ],
   "source": [
    "# Check if statistical test passes significance\n",
    "# using an alpha value of 0.01. This code provided.\n",
    "if p_val9 < 0.01:\n",
    "    print('There is a significant difference!')\n",
    "else:\n",
    "    print('There is NOT a significant difference!')"
   ]
  },
  {
   "cell_type": "markdown",
   "metadata": {},
   "source": [
    "#### 10. Crime,Drama,Mystery"
   ]
  },
  {
   "cell_type": "code",
   "execution_count": 120,
   "metadata": {},
   "outputs": [],
   "source": [
    "# Deriving Pre-Covid CrimeDramaMystery Rating data  \n",
    "CrimeDramaMystery_before_pandemic = data_before_pandemic[data_before_pandemic['genres'] == 'Crime,Drama,Mystery']\n",
    "CrimeDramaMystery_before_pandemic_rating = CrimeDramaMystery_before_pandemic['averageRating']"
   ]
  },
  {
   "cell_type": "code",
   "execution_count": 121,
   "metadata": {},
   "outputs": [
    {
     "data": {
      "text/plain": [
       "1182042    8.5\n",
       "1182043    8.2\n",
       "1182041    8.6\n",
       "1182044    8.2\n",
       "1182046    8.2\n",
       "          ... \n",
       "473921     7.8\n",
       "447546     8.5\n",
       "447547     7.8\n",
       "447549     8.8\n",
       "469813     5.4\n",
       "Name: averageRating, Length: 1944, dtype: float64"
      ]
     },
     "execution_count": 121,
     "metadata": {},
     "output_type": "execute_result"
    }
   ],
   "source": [
    "# Take a look at Pre-Covid CrimeDramaMystery Rating data\n",
    "CrimeDramaMystery_before_pandemic_rating"
   ]
  },
  {
   "cell_type": "code",
   "execution_count": 122,
   "metadata": {},
   "outputs": [],
   "source": [
    "# Deriving Post-Covid Crime,Drama,Mystery Rating data  \n",
    "CrimeDramaMystery_after_pandemic = data_after_pandemic[data_after_pandemic['genres'] == 'Crime,Drama,Mystery']\n",
    "CrimeDramaMystery_after_pandemic_rating = CrimeDramaMystery_after_pandemic['averageRating']"
   ]
  },
  {
   "cell_type": "code",
   "execution_count": 123,
   "metadata": {},
   "outputs": [
    {
     "data": {
      "text/plain": [
       "1167357    7.7\n",
       "1167358    7.4\n",
       "1167359    7.8\n",
       "542532     7.6\n",
       "1167350    7.9\n",
       "          ... \n",
       "722178     8.0\n",
       "722337     6.3\n",
       "724018     8.3\n",
       "723625     7.0\n",
       "721964     6.2\n",
       "Name: averageRating, Length: 1918, dtype: float64"
      ]
     },
     "execution_count": 123,
     "metadata": {},
     "output_type": "execute_result"
    }
   ],
   "source": [
    "# Take a look at Post-Covid CrimeDramaMystery Rating data\n",
    "CrimeDramaMystery_after_pandemic_rating"
   ]
  },
  {
   "cell_type": "code",
   "execution_count": 124,
   "metadata": {},
   "outputs": [
    {
     "data": {
      "text/plain": [
       "(-1.3469683502886087, 0.17806810921740862)"
      ]
     },
     "execution_count": 124,
     "metadata": {},
     "output_type": "execute_result"
    }
   ],
   "source": [
    "# Determining test and p-value to identify if a significant difference exists\n",
    "t_val, p_val10 = ttest_ind(a = DramaRomance_before_pandemic_rating, b = DramaRomance_after_pandemic_rating)\n",
    "t_val, p_val10"
   ]
  },
  {
   "cell_type": "code",
   "execution_count": 125,
   "metadata": {},
   "outputs": [
    {
     "name": "stdout",
     "output_type": "stream",
     "text": [
      "There is NOT a significant difference!\n"
     ]
    }
   ],
   "source": [
    "# Check if statistical test passes significance\n",
    "# using an alpha value of 0.01. This code provided.\n",
    "if p_val10 < 0.01:\n",
    "    print('There is a significant difference!')\n",
    "else:\n",
    "    print('There is NOT a significant difference!')"
   ]
  },
  {
   "cell_type": "markdown",
   "metadata": {},
   "source": [
    "Suprisingly, after we conducted t-test on the top 10 genres, we find that all genres except `Comedy,Talk-Show`, `Drama,Romance`, and `Crime,Drama,Mystery`show a significant difference in ratings before and after COVID."
   ]
  },
  {
   "cell_type": "markdown",
   "metadata": {},
   "source": [
    "### FDR correction"
   ]
  },
  {
   "cell_type": "markdown",
   "metadata": {},
   "source": [
    "As we are doing multiple comparisons, we then use FDR correction to control the number of potential false-positive."
   ]
  },
  {
   "cell_type": "code",
   "execution_count": 126,
   "metadata": {},
   "outputs": [
    {
     "data": {
      "text/plain": [
       "[0.0006846937388764388,\n",
       " 3.522136477985945e-08,\n",
       " 1.5588343142094394e-05,\n",
       " 0.0001316930256649457,\n",
       " 3.0365710257479148e-05,\n",
       " 1.4679958209925507e-06,\n",
       " 0.027792099831188025,\n",
       " 1.9003344684806058e-06,\n",
       " 0.17806810921740862,\n",
       " 0.17806810921740862]"
      ]
     },
     "execution_count": 126,
     "metadata": {},
     "output_type": "execute_result"
    }
   ],
   "source": [
    "#put all of the 10 p-values above into a list\n",
    "p_val_list = [p_val1,p_val2,p_val3,p_val4,p_val5,p_val6,p_val7,p_val8,p_val9,p_val10]\n",
    "p_val_list"
   ]
  },
  {
   "cell_type": "code",
   "execution_count": 127,
   "metadata": {},
   "outputs": [],
   "source": [
    "#perform the FDR adjustment\n",
    "p_val_list.sort()"
   ]
  },
  {
   "cell_type": "code",
   "execution_count": 128,
   "metadata": {},
   "outputs": [],
   "source": [
    "rank = 1\n",
    "len_p_val_list = len(p_val_list)\n",
    "p_adj_list = []\n",
    "for p in p_val_list:\n",
    "    fdr_adj_p_val = p*len_p_val_list/rank\n",
    "    rank += 1\n",
    "    p_adj_list.append(\n",
    "    {'p_val': p, \n",
    "     'fdr_adj_p_val': fdr_adj_p_val})"
   ]
  },
  {
   "cell_type": "code",
   "execution_count": 129,
   "metadata": {},
   "outputs": [
    {
     "data": {
      "text/plain": [
       "[{'p_val': 3.522136477985945e-08, 'fdr_adj_p_val': 3.5221364779859446e-07},\n",
       " {'p_val': 1.4679958209925507e-06, 'fdr_adj_p_val': 7.339979104962753e-06},\n",
       " {'p_val': 1.9003344684806058e-06, 'fdr_adj_p_val': 6.334448228268686e-06},\n",
       " {'p_val': 1.5588343142094394e-05, 'fdr_adj_p_val': 3.8970857855235986e-05},\n",
       " {'p_val': 3.0365710257479148e-05, 'fdr_adj_p_val': 6.0731420514958296e-05},\n",
       " {'p_val': 0.0001316930256649457, 'fdr_adj_p_val': 0.00021948837610824283},\n",
       " {'p_val': 0.0006846937388764388, 'fdr_adj_p_val': 0.0009781339126806268},\n",
       " {'p_val': 0.027792099831188025, 'fdr_adj_p_val': 0.034740124788985034},\n",
       " {'p_val': 0.17806810921740862, 'fdr_adj_p_val': 0.19785345468600957},\n",
       " {'p_val': 0.17806810921740862, 'fdr_adj_p_val': 0.17806810921740862}]"
      ]
     },
     "execution_count": 129,
     "metadata": {},
     "output_type": "execute_result"
    }
   ],
   "source": [
    "p_adj_list"
   ]
  },
  {
   "cell_type": "markdown",
   "metadata": {},
   "source": [
    "After applying the FDR correction, we find that the result remains the same. All genres except `Comedy,Talk-Show`, `Drama,Romance`, and `Crime,Drama,Mystery`show a significant difference in ratings before and after COVID."
   ]
  },
  {
   "cell_type": "markdown",
   "metadata": {},
   "source": [
    "Noitce that there are some overlapping categories in the genres set by the raw dataset. Therefore, we further examine if the ratings of those individual categories change before and after the pandemic. \n",
    "\n",
    "In the top 10 genres among all data (2018-2022), `Drama` appears 5 times and `Comedy` appears 5 times.We decide to focus on these two most common genres."
   ]
  },
  {
   "cell_type": "markdown",
   "metadata": {},
   "source": [
    "### 1. Drama"
   ]
  },
  {
   "cell_type": "markdown",
   "metadata": {},
   "source": [
    "We are going to take a deeper look at average rating of all generes including drama before and after the pandemic"
   ]
  },
  {
   "cell_type": "code",
   "execution_count": 130,
   "metadata": {},
   "outputs": [
    {
     "name": "stderr",
     "output_type": "stream",
     "text": [
      "/var/folders/vc/094wqshj2cvfjrr0qk_q87140000gn/T/ipykernel_27485/1604438831.py:2: UserWarning: Boolean Series key will be reindexed to match DataFrame index.\n",
      "  DramaM_before_pandemic = data_before_pandemic[(data_before_pandemic['genres'] == 'Crime,Drama,Mystery') | (data_before_pandemic['genres'] == 'Drama')\n"
     ]
    }
   ],
   "source": [
    "# Deriving Pre-Covid BigDrama Rating data  \n",
    "DramaM_before_pandemic = data_before_pandemic[(data_before_pandemic['genres'] == 'Crime,Drama,Mystery') | (data_before_pandemic['genres'] == 'Drama')\n",
    "                                             | (data_before_pandemic['genres'] == 'Drama,Short')  | (data_before_pandemic['genres'] == 'Comedy,Drama')\n",
    "                                             | (data_after_pandemic['genres'] == 'Drama,Romance')]  \n",
    "DramaM_before_pandemic_rating = DramaM_before_pandemic['averageRating']\n"
   ]
  },
  {
   "cell_type": "code",
   "execution_count": 131,
   "metadata": {},
   "outputs": [
    {
     "data": {
      "text/plain": [
       "1181992    6.1\n",
       "1181981    6.2\n",
       "1181872    8.5\n",
       "1180228    6.6\n",
       "1170001    6.3\n",
       "          ... \n",
       "1070603    6.8\n",
       "449796     5.1\n",
       "473829     4.5\n",
       "473621     7.7\n",
       "447544     7.5\n",
       "Name: averageRating, Length: 14620, dtype: float64"
      ]
     },
     "execution_count": 131,
     "metadata": {},
     "output_type": "execute_result"
    }
   ],
   "source": [
    "# Take a look at the Pre-Covid BigDrama Rating data\n",
    "DramaM_before_pandemic_rating"
   ]
  },
  {
   "cell_type": "code",
   "execution_count": 132,
   "metadata": {},
   "outputs": [],
   "source": [
    "# Deriving Post-Covid BigDrama Rating data  \n",
    "DramaM_after_pandemic = data_after_pandemic[(data_after_pandemic['genres'] == 'Crime,Drama,Mystery') | (data_after_pandemic['genres'] == 'Drama')\n",
    "                                            | (data_after_pandemic['genres'] == 'Drama,Short')  | (data_after_pandemic['genres'] == 'Comedy,Drama')\n",
    "                                            | (data_after_pandemic['genres'] == 'Drama,Romance') ]  \n",
    "DramaM_after_pandemic_rating = DramaM_after_pandemic['averageRating']\n"
   ]
  },
  {
   "cell_type": "code",
   "execution_count": 133,
   "metadata": {},
   "outputs": [
    {
     "data": {
      "text/plain": [
       "542597     7.6\n",
       "1167357    7.7\n",
       "547883     6.6\n",
       "547884     6.3\n",
       "546505     8.0\n",
       "          ... \n",
       "510455     7.6\n",
       "510454     7.6\n",
       "510453     7.3\n",
       "510452     7.2\n",
       "510451     6.9\n",
       "Name: averageRating, Length: 14934, dtype: float64"
      ]
     },
     "execution_count": 133,
     "metadata": {},
     "output_type": "execute_result"
    }
   ],
   "source": [
    "# Take a look at the Post-Covid BigDrama Rating data\n",
    "DramaM_after_pandemic_rating"
   ]
  },
  {
   "cell_type": "markdown",
   "metadata": {},
   "source": [
    "We are going to plot to see the change of average rating for all generes including drama during 2018-2022"
   ]
  },
  {
   "cell_type": "code",
   "execution_count": 134,
   "metadata": {},
   "outputs": [
    {
     "data": {
      "image/png": "[encoded data removed]",
      "text/plain": [
       "<Figure size 432x288 with 1 Axes>"
      ]
     },
     "metadata": {
      "needs_background": "light"
     },
     "output_type": "display_data"
    }
   ],
   "source": [
    "# Quick glimpse of rating changes of BigDrama category \n",
    "DramaM_data = all_data[(all_data['genres'] == 'Crime,Drama,Mystery') | (all_data['genres'] == 'Drama')\n",
    "                       | (all_data['genres'] == 'Drama,Short')  | (all_data['genres'] == 'Comedy,Drama')\n",
    "                       | (all_data['genres'] == 'Drama,Romance') ]  \n",
    "fig_t = sns.lineplot(data = DramaM_data, x = 'startYear', y = 'averageRating')"
   ]
  },
  {
   "cell_type": "markdown",
   "metadata": {},
   "source": [
    "From the line plot, we notice that there is a slight decrease from 2019 to 2020, following with a spike in rating from 2020 to 2021."
   ]
  },
  {
   "cell_type": "code",
   "execution_count": 135,
   "metadata": {},
   "outputs": [
    {
     "data": {
      "text/plain": [
       "(-6.819457392027846, 9.314311242521604e-12)"
      ]
     },
     "execution_count": 135,
     "metadata": {},
     "output_type": "execute_result"
    }
   ],
   "source": [
    "# Determining test and p-value to identify if a significant difference exists\n",
    "t_val, p_val = ttest_ind(a = DramaM_before_pandemic_rating, b = DramaM_after_pandemic_rating)\n",
    "t_val, p_val"
   ]
  },
  {
   "cell_type": "code",
   "execution_count": 136,
   "metadata": {},
   "outputs": [
    {
     "name": "stdout",
     "output_type": "stream",
     "text": [
      "There is a significant difference!\n"
     ]
    }
   ],
   "source": [
    "# Check if statistical test passes significance\n",
    "# using an alpha value of 0.01. This code provided.\n",
    "if p_val < 0.01:\n",
    "    print('There is a significant difference!')\n",
    "else:\n",
    "    print('There is NOT a significant difference!')"
   ]
  },
  {
   "cell_type": "markdown",
   "metadata": {},
   "source": [
    "After we conducted t-test on the all generes containing drama, we find that there is a significant difference in ratings before and after COVID."
   ]
  },
  {
   "cell_type": "markdown",
   "metadata": {},
   "source": [
    "### 2. Comedy"
   ]
  },
  {
   "cell_type": "markdown",
   "metadata": {},
   "source": [
    "We are going to take a deeper look at average rating of all generes including Comedy before and after the pandemic"
   ]
  },
  {
   "cell_type": "code",
   "execution_count": 137,
   "metadata": {},
   "outputs": [],
   "source": [
    "# Deriving Pre-Covid BigComedy Rating data  \n",
    "ComedyM_before_pandemic = data_before_pandemic[(data_before_pandemic['genres'] == 'Comedy') | (data_before_pandemic['genres'] == 'Comedy,Drama')\n",
    "                                              | (data_before_pandemic['genres'] == 'Comedy,Talk-Show')]  \n",
    "ComedyM_before_pandemic_rating = ComedyM_before_pandemic['averageRating']\n"
   ]
  },
  {
   "cell_type": "code",
   "execution_count": 138,
   "metadata": {},
   "outputs": [
    {
     "data": {
      "text/plain": [
       "1169587    6.4\n",
       "1181866    7.6\n",
       "1180440    8.8\n",
       "1180231    8.1\n",
       "1181996    5.8\n",
       "          ... \n",
       "1063937    8.1\n",
       "1071228    5.2\n",
       "473828     8.1\n",
       "447544     7.5\n",
       "1071146    7.2\n",
       "Name: averageRating, Length: 13058, dtype: float64"
      ]
     },
     "execution_count": 138,
     "metadata": {},
     "output_type": "execute_result"
    }
   ],
   "source": [
    "# Take a look at the Pre-Covid BigComedy Rating data\n",
    "ComedyM_before_pandemic_rating"
   ]
  },
  {
   "cell_type": "code",
   "execution_count": 139,
   "metadata": {},
   "outputs": [],
   "source": [
    "# Deriving Post-Covid BigComedy Rating data  \n",
    "ComedyM_after_pandemic = data_after_pandemic[(data_after_pandemic['genres'] == 'Comedy') | (data_after_pandemic['genres'] == 'Comedy,Drama')\n",
    "                                              | (data_after_pandemic['genres'] == 'Comedy,Talk-Show')]  \n",
    "ComedyM_after_pandemic_rating = ComedyM_after_pandemic['averageRating']"
   ]
  },
  {
   "cell_type": "code",
   "execution_count": 140,
   "metadata": {},
   "outputs": [
    {
     "data": {
      "text/plain": [
       "547883    6.6\n",
       "547884    6.3\n",
       "541339    8.3\n",
       "541343    6.7\n",
       "541329    8.1\n",
       "         ... \n",
       "722118    5.2\n",
       "669083    6.4\n",
       "722091    2.9\n",
       "721869    8.6\n",
       "721819    3.4\n",
       "Name: averageRating, Length: 11240, dtype: float64"
      ]
     },
     "execution_count": 140,
     "metadata": {},
     "output_type": "execute_result"
    }
   ],
   "source": [
    "# Take a look at the Post-Covid BigComedy Rating data\n",
    "ComedyM_after_pandemic_rating"
   ]
  },
  {
   "cell_type": "markdown",
   "metadata": {},
   "source": [
    "We are going to plot to see the change of average rating for all generes including Comedy during 2018-2022"
   ]
  },
  {
   "cell_type": "code",
   "execution_count": 141,
   "metadata": {},
   "outputs": [
    {
     "data": {
      "image/png": "[encoded data removed]",
      "text/plain": [
       "<Figure size 432x288 with 1 Axes>"
      ]
     },
     "metadata": {
      "needs_background": "light"
     },
     "output_type": "display_data"
    }
   ],
   "source": [
    "# Quick glimpse of rating changes of BigComedy category \n",
    "ComedyM_data = all_data[(all_data['genres'] == 'Comedy') | (all_data['genres'] == 'Comedy,Drama')\n",
    "                                              | (all_data['genres'] == 'Comedy,Talk-Show')]  \n",
    "fig_t = sns.lineplot(data = ComedyM_data, x = 'startYear', y = 'averageRating')"
   ]
  },
  {
   "cell_type": "markdown",
   "metadata": {},
   "source": [
    "From the line plot, the average rating decreases every year from 2018 to 2021, but suddenly increases from 2021 to 2022."
   ]
  },
  {
   "cell_type": "code",
   "execution_count": 142,
   "metadata": {},
   "outputs": [
    {
     "data": {
      "text/plain": [
       "(2.8930079200103074, 0.0038191059406776284)"
      ]
     },
     "execution_count": 142,
     "metadata": {},
     "output_type": "execute_result"
    }
   ],
   "source": [
    "# Determining test and p-value to identify if a significant difference exists\n",
    "t_val, p_val = ttest_ind(a = ComedyM_before_pandemic_rating, b = ComedyM_after_pandemic_rating)\n",
    "t_val, p_val"
   ]
  },
  {
   "cell_type": "code",
   "execution_count": 143,
   "metadata": {},
   "outputs": [
    {
     "name": "stdout",
     "output_type": "stream",
     "text": [
      "There is a significant difference!\n"
     ]
    }
   ],
   "source": [
    "# Check if statistical test passes significance\n",
    "# using an alpha value of 0.01. This code provided.\n",
    "if p_val < 0.01:\n",
    "    print('There is a significant difference!')\n",
    "else:\n",
    "    print('There is NOT a significant difference!')"
   ]
  },
  {
   "cell_type": "markdown",
   "metadata": {},
   "source": [
    "After we conducted t-test on the all generes containing drama, we find that there is a significant difference in ratings before and after COVID."
   ]
  },
  {
   "cell_type": "markdown",
   "metadata": {},
   "source": [
    "# Ethics & Privacy"
   ]
  },
  {
   "cell_type": "markdown",
   "metadata": {},
   "source": [
    "### A. Data Collection\n",
    "The datasets we use come from publicly available datasets (1), and we will only use the datasets for research purposes. The IMDb datasets we use are “available for access to customers for personal and non-commercial use”. \n",
    "\n",
    "The IMDb dataset does not include any personally identifiable information (PII). The only subdataset that relates to users’ ratings is `Title.ratings.tsv.gz`, and it only contains: `tconst` — the alphanumeric unique identifier of the title, `averageRating` — the weighted average of all the individual user ratings, and `numVotes` — the number of votes the title has received.\n",
    "\n",
    "We recognize the potential biases in the IMDb ratings we will use. The ratings could be potentially biased towards the western population as the majority of IMDb users are from western countries. The ratings could also be biased towards the male population as there are significantly more male users than female users (2).\n",
    "\n",
    "We are aware of the possibility of intentionally manipulating the ratings (either improving or lowering the rating). To deal with this issue, IMDb has “several safeguards in place to automatically detect and defeat this type of ballot stuffing” and “apply several countermeasures against all attempts to skew the rating (3).”\n",
    "\n",
    "### B. Data Storage\n",
    "All of our data is electronic, and will be safely stored in our private Github repository. When all our group members leave the group, the data will be stored in the COGS108 repository, and it is the right of the instructor then to decide when to destroy the stored data.\n",
    "\n",
    "### C. Analysis\n",
    "We well-document the process of how we generate our analysis and make it reproducible by including all our codes and sources in case we discover issues in the future.\n",
    "\n",
    "### D. Deployment\n",
    "We recognize that there could be unintended consequences of our project. Our results do suggest there is a statistically significant relationship between COVID and the ratings. Movie producers can be less likely to make movies as they know the works will be negatively affected beforehand. It is also possible that producers choose to produce specific types of movies/TV shows as we do find relationship between ratings and the genres. We will consider removing our project from the internet if the situation does occur. But do keep in mind that our project has limitations because of the complex nature of COVID. Therefore, it should not act as an authoriative source to follow.\n",
    "\n",
    "References:\n",
    "- 1)https://www.imdb.com/interfaces/\n",
    "- 2)https://community-imdb.sprinklr.com/conversations/imdbcom/percentage-of-registered-users-by-gender/5f4a79718815453dba7d8434\n",
    "- 3)https://help.imdb.com/article/imdb/track-movies-tv/ratings-faq/G67Y87TFYYP6TWAV#"
   ]
  },
  {
   "cell_type": "markdown",
   "metadata": {},
   "source": [
    "# Conclusion & Discussion"
   ]
  },
  {
   "cell_type": "markdown",
   "metadata": {},
   "source": [
    "Based on our analysis, we do see a significant difference in ratings before and during the pandemic. However,differing from our initial hypothesis,the average IMDb ratings of movie and TV shows released during the COVID-19 pandemic are not generally lower than those released before the pandemic. The results have shown that the average movie ratings in 2020-2022 has increased compared to those between 2018-2019. We ran both t-tests and linear regression to assess the data. By running t-tests on average ratings before and after pandemic using datasets from IMDb, we were able to establish a statistically significant relationship between the average ratings before and during the pandemic. \n",
    "\n",
    "Taking the nature of COVID-19 into consideration, we assume that such significance might arise from two major reasons: 1) the quality of movie production and 2) the psychological states of the audience. Firstly, the film industry has suffered from substantial impacts such that countless production companies were forced to change schedules and shut down. The making process of movies also faced problems like the quarantine and health problems. All of these factors can damage the quality of movies produced during the pandemic. The other possible reason is the change in assessment criteria of the audience. They could be having either lower or higher standards of movies due to boredom and other negative mental states as a result of the pandemic, thus leading to the significant differences between the average ratings. We also identified genres as one of the factors affecting movie ratings and ran t-test analysis on the top 10 genres. Looking at the results, it is clear that a large number of genres, such as documentary, drama and comedy, has significant influence on the ratings. Upon analysis, we could say that genres also play an important role in assessing the relationship between movie ratings and the pandemic that is in need of further analysis. \n",
    " \n",
    "One of the biggest limitations of our study comes from the complex nature of the Covid-19 situation. Due to the unprecedented condition of the pandemic, countless factors no doubt exist in causing the significance in the relationship between movie ratings and the global pandemic. For example, the emergence of new streaming video services from companies like Disney and Netflix has encouraged numbers of at-home viewers, which has differed largely from theatrical experience. The decrease in the number of movie releases may also play a role in the audience judging the quality of movies. Moving forward, we suggest future research to focus on further analyzing the differences in the average ratings along with above factors. It would help to understand the specific influence of Covid-19 on the film industry such as what contributes to the audience’s criteria and the change in movie ratings. Future study should try to assess which specific factors, other than the quality of the film industry and the condition of the movie audience, are at play in causing and mediating the relationship, thus enabling us to untangle the complexity in the covid-19 situation. Another limitation is we only have one overall average rating for each title rather than the collection of ratings of each individual. We don’t have the specific date a rating is published, and we only have numeric ratings instead of text reviews. In the future, it would be ideal to use web scraping and text analysis tools to further analyze the rating/review of the audience. For instance, if we could access the specific date the rating is published, we would be able to explore the relationship between ratings and COVID based on the trend of average ratings in different periods and the trend of new Covid cases.  \n",
    "Overall, our work shows how COVID-19 could affect people’s attitudes towards entertainment. It also promotes further inferential research in multiple fields, such as psychology, sociology, and business, to study people’s behaviors and evaluations during the pandemic."
   ]
  },
  {
   "cell_type": "markdown",
   "metadata": {},
   "source": [
    "# Team Contributions"
   ]
  },
  {
   "cell_type": "markdown",
   "metadata": {},
   "source": [
    "Jiaqi Chen - Found data, wrote hypothesis and RQ, data cleaning, wrote overview and discussion&conclusion, present on EDA results\n",
    "<br>\n",
    "Caiyi Li - ppt, background,research question, update coding, and conclusion\n",
    "<br>\n",
    "Man Kui Sit - Background, Found Data, Data Cleaning, Analysis, Discussion\n",
    "<br>\n",
    "Yutong Chen - Background, Datasets, Data cleaning, EDA, Ethics&Privacy, Discussion, slides, present hypothesis+data\n",
    "<br>\n",
    "Xinyu Deng - EDA Coding and graph description, slides, present on EDA results\n",
    "<br>"
   ]
  }
 ],
 "metadata": {
  "kernelspec": {
   "display_name": "Python 3 (ipykernel)",
   "language": "python",
   "name": "python3"
  },
  "language_info": {
   "codemirror_mode": {
    "name": "ipython",
    "version": 3
   },
   "file_extension": ".py",
   "mimetype": "text/x-python",
   "name": "python",
   "nbconvert_exporter": "python",
   "pygments_lexer": "ipython3",
   "version": "3.9.7"
  }
 },
 "nbformat": 4,
 "nbformat_minor": 2
}
