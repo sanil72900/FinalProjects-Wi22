{
 "cells": [
  {
   "cell_type": "markdown",
   "metadata": {},
   "source": [
    "# COGS 108 - Final Project Proposal"
   ]
  },
  {
   "cell_type": "markdown",
   "metadata": {},
   "source": [
    "# Names\n",
    "\n",
    "- Xiaofei Teng\n",
    "- Yichen Han\n",
    "- Yuang Lin\n",
    "- Chen Lou"
   ]
  },
  {
   "cell_type": "markdown",
   "metadata": {},
   "source": [
    "# Research Question"
   ]
  },
  {
   "cell_type": "markdown",
   "metadata": {},
   "source": [
    "Is there a correlation between Covid-19 infection and marriage/birth rate during 2021 around different states in US?"
   ]
  },
  {
   "cell_type": "markdown",
   "metadata": {},
   "source": [
    "# Background and Prior Work"
   ]
  },
  {
   "cell_type": "markdown",
   "metadata": {},
   "source": [
    "##### Introduction:\n",
    "\n",
    "Started in 2020, covid-19 spread all over the world and influenced people’s life for almost 2 years. People get used to work and study remotely, and outdoor activities aren’t options of the weekends anymore. Covid-19 almost change every aspect of our life, and people spend much more time at home than before. Although covid-19 has taken many people’s lives all over the world, which causing the death rate increaed a lot than usual years, it may also affect marriage and birth rate. Since people can’t go out to have a dinner or watch movies, conventional ways of dating are impossible during covid. So it may affect the marriage rate since people can not develop relationships like before. Moreover, covid may also influence the birth rate since people spend much time at home with their partners. Before the covid, the average birth rate of the world is 2.4 per woman, and we expect we can see growth of this number during the covid. In this report, we will use data and plots to analyze the marriage rate and birth rate and we will get some conclusions to see if our hypothesis is correct.\n",
    "\n",
    "##### Prior Work:\n",
    "\n",
    "In the past two years, there have already been several studies on how the covid-19 pandemic influences Americans’ marriage and fertility. An article from Institute of Family Studies (1) researches the change of marriage and divorce rate in the US during the first half year of the pandemic. The article concludes that covid-19 not only hinders the establishment of new families, but also improves the harmonity of existing families. \n",
    "\n",
    "Another article from Brookings (2) focuses more on the baby born in the US during the Covid pandemic. This article summarizes a Covid-19 baby bust during the epidemic and proves this by plotting a negative relationship between the incidence rate and changes in birth across states. Meanwhile, the article proposes evidence that fertility rates may be underestimated during the epidemic.\n",
    "\n",
    "Though these two sources provide data that seemingly show a negative relationship between marriage/birth rate and covid-19, we are not fully satisfied with them. The first article lacks quantitative analysis comparing how different infection rates correlate to the change of marriage rate. Though the second article has quantitative analysis, it does not draw a definite conclusion. We believe such flaws are majorly because both studies use data in 2020, which are relatively outdated. It has been one more pandemic year since then, in which more related data have been collected. Therefore, in order to quantify how Americans’ marriage and fertility changes corresponding to infection rate, we would like to analyze with more recent data on covid-19 and marriage/fertility rate. \n",
    "\n",
    "##### Reference:\n",
    "    \n",
    "   * https://ifstudies.org/blog/the-good-and-bad-news-about-marriage-in-the-time-of-covid\n",
    "    \n",
    "   * https://www.brookings.edu/research/early-evidence-of-missing-births-from-the-covid-19-baby-bust/#:~:text=U.S.%20states%20that%20had%20higher,had%20at%20least%20one%20child.\n"
   ]
  },
  {
   "cell_type": "markdown",
   "metadata": {},
   "source": [
    "# Hypothesis\n"
   ]
  },
  {
   "cell_type": "markdown",
   "metadata": {},
   "source": [
    "Our hypothesis is that covid-19 infection has a negative correlation to both marriage and birth rate. To be more specific, the more covid-19 infections and deaths in a month, the less new copules and newborns will be in the same month. The reason we made this hypothesis is that people could be less likely to meet or date others with increasing covid-19 cases, thus leads to a decline in new marriages. Also, considering that infants and children are more vulnerable to the virus, couples might be more concerned to have a baby during the pandemic, thus leads to a deline in newborns."
   ]
  },
  {
   "cell_type": "markdown",
   "metadata": {},
   "source": [
    "# Data"
   ]
  },
  {
   "cell_type": "markdown",
   "metadata": {},
   "source": [
    "We hope for data collected from each and every state of the US. Our avariables are covid infections, covid deaths, new marriage registration, and newborn number (as we noticed that it is hard to calculate the rate because it requires basic population info). We plan to organize the data in a monthly manner for the whole year 2021, thus for each state there will be 12 observations (if we find this sample too small, we can look for daily/weekly data and probably reduce the number of states we include)."
   ]
  },
  {
   "cell_type": "markdown",
   "metadata": {},
   "source": [
    "# Ethics & Privacy"
   ]
  },
  {
   "cell_type": "markdown",
   "metadata": {},
   "source": [
    "All of the datasets that we collect will be legally published data that everyone could have access to on the internet. The data on the Covid-19 infection cases during its matching period will come from government certified Covid-19 tracking organizations such as John Hopkins Coronavirus Resource Center. The coronavirus related data that this resource center provides maintains detailed and finalized data that reports coronavirus status for almost any time period since the start of the pandemic. As John Hopkins University is one of the top medical related facilities, the coronavirus data it reported would be less likely to have much bias. It is worth noting that the coronavirus related data reported from John Hopkins Coronavirus Resource Center has been the official national and global data reported by the United States, United Nation, and many other countries.The data for newborn infants and marriages in our research report will be coming from data reports from American government facilities such as the Centers for Disease Control Preventions. While CDC is one of the most authorized health organizations in the United States, it is unlikely that the data we drew has bias. All the data that we plan to collect does not contain any need for personal information or self made surveys. Therefore, no privacy of any kind will be violated.  \n"
   ]
  },
  {
   "cell_type": "markdown",
   "metadata": {},
   "source": [
    "# Team Expectations "
   ]
  },
  {
   "cell_type": "markdown",
   "metadata": {},
   "source": [
    "* Everybody contributes rather equally to the project\n",
    "* Hold at least 2 zoom meetings for the project every week\n",
    "* Respond to messages within 6 hours"
   ]
  },
  {
   "cell_type": "markdown",
   "metadata": {},
   "source": [
    "# Project Timeline Proposal"
   ]
  },
  {
   "cell_type": "markdown",
   "metadata": {},
   "source": [
    "| Meeting Date  | Meeting Time| Completed Before Meeting  | Discuss at Meeting |\n",
    "|---|---|---|---|\n",
    "| 1/21  |  4 PM | Read previous projects given on Github  | Complete the previous project review | \n",
    "| 1/26  |  3 PM | Brainestorm on reserach topics | Discuss and draft project proposal | \n",
    "| 1/29  | 3 PM  | Complete each one's section on the proposal | Finalize the proposal and turnin |\n",
    "| 2/5  | 3 PM | Look for datasets | Finalize datasets and variables |\n",
    "| 2/14  | 3 PM  | Import & Wrangle Data; EDA | Review/Edit wrangling/EDA; Discuss Analysis Plan  |\n",
    "| 2/23  | 3 PM  | Finalize wrangling/EDA; Begin Analysis | Discuss/edit Analysis; Complete project check-in |\n",
    "| 3/13  | 3 PM  | Complete analysis; Draft results/conclusion/discussion | Discuss/edit full project |\n",
    "| 3/19  | Before 11:59 PM  | NA | Turn in Final Project & Group Project Surveys |"
   ]
  }
 ],
 "metadata": {
  "kernelspec": {
   "display_name": "Python 3 (ipykernel)",
   "language": "python",
   "name": "python3"
  },
  "language_info": {
   "codemirror_mode": {
    "name": "ipython",
    "version": 3
   },
   "file_extension": ".py",
   "mimetype": "text/x-python",
   "name": "python",
   "nbconvert_exporter": "python",
   "pygments_lexer": "ipython3",
   "version": "3.9.5"
  }
 },
 "nbformat": 4,
 "nbformat_minor": 2
}
