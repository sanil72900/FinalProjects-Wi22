{
 "cells": [
  {
   "cell_type": "markdown",
   "metadata": {},
   "source": [
    "# Analyzing in game relationships between TFT ranks"
   ]
  },
  {
   "cell_type": "markdown",
   "metadata": {},
   "source": [
    "## Video Link\n",
    "https://drive.google.com/file/d/1jk8FqTIehS7hzOclS_5U58tgrrv6Wv-A/view?usp=sharing"
   ]
  },
  {
   "cell_type": "markdown",
   "metadata": {},
   "source": [
    "## Permissions\n",
    "\n",
    "Place an `X` in the appropriate bracket below to specify if you would like your group's project to be made available to the public. (Note that student names will be included (but PIDs will be scraped from any groups who include their PIDs).\n",
    "\n",
    "* [ X ] YES - make available\n",
    "* [  ] NO - keep private"
   ]
  },
  {
   "cell_type": "markdown",
   "metadata": {},
   "source": [
    "# Overview"
   ]
  },
  {
   "cell_type": "markdown",
   "metadata": {},
   "source": [
    "TeamFight Tactics (TFT) is a competitive game where certain choices and strategies determine one's path to victory. With this in mind, we want to determine what kind of strategies differentiate advanced rank play vs lower rank play. For our project, we specifically want to determine if team costs lower, games shorten and optimal compositions change as the rank of the TFT player increases. We conducted our analysis using histograms, Kernel Density estimation, count plots, linear regression and lastly a t-test to verify if our findings were significant. Upon analysis, we concluded that the rank of a TFT player does have an significant impact on how they play and there are distinct patterns that players of a certain rank follow."
   ]
  },
  {
   "cell_type": "markdown",
   "metadata": {},
   "source": [
    "# Names\n",
    "\n",
    "- Jaden Padua\n",
    "- Daphne Nong\n",
    "- Tony Guan\n",
    "- Catherine Lee\n",
    "- Jennifer Pham"
   ]
  },
  {
   "cell_type": "markdown",
   "metadata": {},
   "source": [
    "<a id='research_question'></a>\n",
    "# Research Question"
   ]
  },
  {
   "cell_type": "markdown",
   "metadata": {},
   "source": [
    "Does the rank of a TFT player have an impact on how the game is played?"
   ]
  },
  {
   "cell_type": "markdown",
   "metadata": {},
   "source": [
    "<a id='background'></a>\n",
    "\n",
    "## Background & Prior Work"
   ]
  },
  {
   "cell_type": "markdown",
   "metadata": {},
   "source": [
    "#### **Introduction**\n",
    "\n",
    "Teamfight Tactics (TFT) is an auto-chess battler video game created by the company Riot Games, Inc. TFT is a round based strategy game consisting of up to 8 players. In TFT, each player must assemble a team of champions and battle against other player's teams in effort to be the last team standing on the board and claim first place. After each round, players can purchase and arrange their units on a hexagonal chess board. When the round starts, the units attack autonomously, and thus a battle is simulated between the team composition of your team vs the current player you are battling. A player loses the round if all of their units on the board die in battle. Each round that a player loses will decrement their overall health. A player loses the game if their overall health drops below 0. The game ends when there is one last player standing out of the original 8. \n",
    "\n",
    "See reference (1) for further details regarding what TFT is.\n",
    "\n",
    "#### **Ranking System**\n",
    "\n",
    "In order to understand our research question we need to define the TFT ranked tiers. TFT Has 9 different ranked tiers that players are placed in:\n",
    "* Iron\n",
    "* Bronze\n",
    "* Silver\n",
    "* Gold\n",
    "* Platinum\n",
    "* Diamond\n",
    "* Master\n",
    "* Grandmaster\n",
    "* Challenger\n",
    "\n",
    "Players are placed in one of these 9 tiers above based on their skill level and in game performance. Player's are allowed to promote or demote to different tiers if they improve or get worse. The Iron tier, for example are for beginner players with little experience whereas the Challenger tier is for professional TFT players who play the game as a full-time job / occupation.\n",
    "\n",
    "See reference (3) for further details regarding the ranking system.\n",
    "\n",
    "\n",
    "#### **Unit Cost & Star Levels**\n",
    "\n",
    "Recall that since units are able to be purchased, every unit has an associated cost attached to them. And since TFT is inherently a card battler game, the cost of each unit can vary based on the quality of the champion. Thus, higher quality units tend to cost more where as lower quality units tend to cost less. A given unit can also become upgraded with the concept of star levels. Each unit on their own has a default star level of 1. If 3 identical units are purchased by a player, the unit can upgrade to star level 2. If 9 identical units are purchased by a player, the unit can upgrade to star level 3.\n",
    "\n",
    "#### **Team Compositions & Potential Strategies**\n",
    "\n",
    "Now we define a team composition as a collection of units such that each unit has been purchased by a player. From the above section we know that different team compositions can have different associated costs. And thus, here are some potential strategies that player's use with respect to team comps:\n",
    "* *buy as many cheap units as possible to try and wipe everyone out early on for a quick win*\n",
    "* *save their money on expensive, high quality units in effort to outscale and secure a late win*\n",
    "\n",
    "Hence, it is evident that the cost of a team composition is paramount to the overall success of a player winning. The concept of optimizing your gold / resources for maximal efficiency is called managing your \"Economy\" or \"Econ\".\n",
    "\n",
    "We define an \"efficient team composition\" as a set of units in a winning entry such that the summation of each of the units respective cost is low, namely:\n",
    "\n",
    "iterating through each unit in a set of units --> finding their associated cost & star level --> summing this value for every unit --> total_cost (lower number == efficient, higher number == not_efficient).\n",
    "\n",
    "We proceed to measure how \"efficient\" the team comps are between professional vs amateur players by analyzing the mean of both elos \"total_cost\" column and determining which mean is lower.\n",
    "\n",
    "See reference (2) for more details about team compositions / economy management.\n",
    "\n",
    "#### **Matchmaking Rating**\n",
    "\n",
    "Since TFT is played at a competitive level, we have the concept of Matchmaking rating or \"MMR\" where player's gain ladder points or \"LP\" in effort to climb the ranks and be placed on the leaderboard for top TFT players in the world. If a player ends up in the top four player's remaining for any given game, they will gain ladder points and increase their overall MMR. However, if they place in the bottom four, a player will lose LP and decrease their MMR. MMR is used to indicate a player's overall skill level and who they are matched up with in future games.\n",
    "\n",
    "#### **Amateur vs Professional Play**\n",
    "\n",
    "A professional TFT player can be characterized as a player with an significantly large number of LP and abnormally high MMR. These players are the best of the best, dedicating countless hours to research optimal team compositions and tuning their strategies to the current meta or popularity. Professionals will also extensivelly research their competition by looking up what team compositions their opponents used in the past in effort to counter them. \n",
    "\n",
    "See reference (4) for more details about pro vs. amateur players.\n",
    "\n",
    "\n",
    "#### **References:**\n",
    "\n",
    "- 1) https://www.hotspawn.com/autobattler/guides/what-is-teamfight-tactics-tft\n",
    "- 2) https://mobalytics.gg/blog/how-to-manage-your-economy-in-teamfight-tactics-three-strategies/\n",
    "- 3) https://esports.gg/guides/mobile/tft-rank-system-explained/\n",
    "- 4) https://www.redbull.com/au-en/cloud9-teamfight-tactics-pro-player-tips-interview\n",
    "\n"
   ]
  },
  {
   "cell_type": "markdown",
   "metadata": {},
   "source": [
    "# Hypothesis\n"
   ]
  },
  {
   "cell_type": "markdown",
   "metadata": {},
   "source": [
    "We hypothesize that as the rank of a TFT player increases, the team costs get lower, the games get shorter, and the compositions get more efficient. Based on the cited references above (2) and (4) along with our own intuition from personally playing the game, we believe that professional TFT players are said to be signficantly more efficient and aggresive with their play style, resulting in fast games with low cost units."
   ]
  },
  {
   "cell_type": "markdown",
   "metadata": {},
   "source": [
    "# Dataset(s)"
   ]
  },
  {
   "cell_type": "markdown",
   "metadata": {},
   "source": [
    "- Dataset Name: TFT Match Data\n",
    "- Link to the dataset: https://www.kaggle.com/gyejr95/tft-match-data\n",
    "- Number of observations: 20,000 (10,000 plat, 10,000 challenger)\n",
    "\n",
    "This data set includes data about low elo / high elo TFT games (namely plat vs challenger players). It shows information about a specific TFT player's in game statistics such as: gameDuration, ranking, combination, champsions used."
   ]
  },
  {
   "cell_type": "markdown",
   "metadata": {},
   "source": [
    "# Setup"
   ]
  },
  {
   "cell_type": "code",
   "execution_count": 1,
   "metadata": {},
   "outputs": [],
   "source": [
    "import pandas as pd\n",
    "import seaborn as sns\n",
    "import json\n",
    "from matplotlib import pyplot as plt\n",
    "from scipy import stats\n",
    "from scipy.stats import ttest_ind\n",
    "\n",
    "pd.options.mode.chained_assignment = None\n",
    "\n",
    "\"\"\"\n",
    "@description: load in plat, challenger, and champion match data into dataframes\n",
    "@params: None\n",
    "@returns: List<pandas.DataFrame>\n",
    "\"\"\"\n",
    "def load_data():\n",
    "    plat_df = pd.read_csv('data/TFT_Plat_Data.csv')\n",
    "    chal_df = pd.read_csv('data/TFT_Challenger_Data.csv')\n",
    "    champ_df = pd.read_csv('data/TFT_Champ_Data.csv')\n",
    "    \n",
    "    return [plat_df, chal_df, champ_df]"
   ]
  },
  {
   "cell_type": "markdown",
   "metadata": {},
   "source": [
    "# Data Cleaning"
   ]
  },
  {
   "cell_type": "markdown",
   "metadata": {},
   "source": [
    "Describe your data cleaning steps here."
   ]
  },
  {
   "cell_type": "code",
   "execution_count": 2,
   "metadata": {},
   "outputs": [],
   "source": [
    "NUM_ROWS = 1500\n",
    "DROPPED_COLUMNS = [\"gameId\", \"level\", \"gameDuration\"]"
   ]
  },
  {
   "cell_type": "code",
   "execution_count": 3,
   "metadata": {},
   "outputs": [],
   "source": [
    "\"\"\"\n",
    "@description: Filters raw data to only info that we will actually use\n",
    "\n",
    "Filters applied:\n",
    "1. We only want rank 1 entries (people who came in first place) \n",
    "2. Only want 1500 Rows of rank 1 entries\n",
    "3. Remove gameId, level, ingameDuration column because these serve no use\n",
    "\n",
    "@params: data: List<pandas.DataFrame>\n",
    "@returns: List<pandas.DataFrame>\n",
    "\"\"\"\n",
    "def filter_data(data):\n",
    "    plat_df, chal_df, champ_df = data\n",
    "    \n",
    "    plat_df, chal_df = plat_df[plat_df.Ranked == 1].reset_index(), chal_df[chal_df.Ranked == 1].reset_index()\n",
    "    plat_df, chal_df = plat_df.head(NUM_ROWS), chal_df.head(NUM_ROWS)\n",
    "    plat_df, chal_df = plat_df.drop(columns=DROPPED_COLUMNS), chal_df.drop(columns=DROPPED_COLUMNS)\n",
    "    \n",
    "    return [plat_df, chal_df, champ_df]"
   ]
  },
  {
   "cell_type": "code",
   "execution_count": 4,
   "metadata": {},
   "outputs": [],
   "source": [
    "\"\"\"\n",
    "@description: Cleans filtered data to be used for analysis\n",
    "\n",
    "Data cleaning steps:\n",
    "1. rename \"ingameDuration\" --> \"duration\"\n",
    "2. convert duration seconds to minutes (rounded 2 decimal places)\n",
    "3. Drop all rows with NaN valuyes\n",
    "\n",
    "@params: List<pandas.DataFrame>\n",
    "@returns: List<pandas.DataFrame>\n",
    "\n",
    "\"\"\"\n",
    "def clean_data(data):\n",
    "    plat_df, chal_df, champ_df = data\n",
    "    \n",
    "    plat_df = plat_df.rename(columns={\"ingameDuration\": \"duration\", \"champion\": \"champions\"})\n",
    "    chal_df = chal_df.rename(columns={\"ingameDuration\": \"duration\", \"champion\": \"champions\"})\n",
    "    \n",
    "    plat_df[\"duration\"] = round(plat_df[\"duration\"] / 60, 2) \n",
    "    chal_df[\"duration\"] = round(chal_df[\"duration\"] / 60, 2)\n",
    "    \n",
    "    return [plat_df, chal_df, champ_df]"
   ]
  },
  {
   "cell_type": "code",
   "execution_count": 5,
   "metadata": {},
   "outputs": [],
   "source": [
    "\"\"\"\n",
    "@description: Star mapping where 1 start maps to 1 unit, 2 stars maps to 3 units, 3 stars maps to 9 units\n",
    "\"\"\"\n",
    "star_map = {\n",
    "    1: 1,\n",
    "    2: 3,\n",
    "    3: 9\n",
    "}"
   ]
  },
  {
   "cell_type": "code",
   "execution_count": 6,
   "metadata": {},
   "outputs": [],
   "source": [
    "\"\"\"\n",
    "@description: Calculates total_cost of each row based on champ / star values in the champ_json\n",
    "@params: champs_json:Dict(), champ_df:<pandas.DataFrame>\n",
    "@returns: total_cost:int\n",
    "\"\"\"\n",
    "def calc_total_cost(champs_json, champ_df):\n",
    "    total_cost = 0\n",
    "    for champ in champs_json:\n",
    "        champ_info = champ_df.loc[champ_df['name'] == champ]\n",
    "        # disregard row if champ not found, set to negative val which we will remove later\n",
    "        if champ_info.empty:\n",
    "            total_cost = 0\n",
    "            break\n",
    "\n",
    "        star = champs_json[champ]['star']\n",
    "        cost = champ_info['cost'].values[0]\n",
    "\n",
    "        champ_cost = cost * star_map[star]\n",
    "        total_cost += champ_cost\n",
    "    return total_cost"
   ]
  },
  {
   "cell_type": "code",
   "execution_count": 7,
   "metadata": {},
   "outputs": [],
   "source": [
    "\"\"\"\n",
    "@description: Calcs most used synergy per row for a given winning player\n",
    "@params: synergies_json:Dict(), champ_df:pandas.DataFrame\n",
    "@returns: most_synergy:str\n",
    "\"\"\"\n",
    "def calc_most_synergy(synergies_json, champ_df):\n",
    "    most_synergy = \"\"\n",
    "    most_synergy_val = 0\n",
    "    for key in synergies_json:\n",
    "        val = synergies_json[key]\n",
    "        \n",
    "        if val > most_synergy_val:\n",
    "            most_synergy_val = val\n",
    "            most_synergy = key\n",
    "    return most_synergy"
   ]
  },
  {
   "cell_type": "code",
   "execution_count": 8,
   "metadata": {},
   "outputs": [],
   "source": [
    "\"\"\"\n",
    "@description: Adds / Calculates total cost of board and most used synergy for each row in our df\n",
    "\n",
    "Methodology:\n",
    "1. init total_cost blank value for each row in new_df\n",
    "3. For each row there is a \"champions\" column which is all the champs a certain player has\n",
    "4. For each champ in json object of champions, locate that champ in champ_df\n",
    "5. Retrieve cost associated by champ and multiply by star level\n",
    "6. set new_df \"total_cost\" column to that total_cost\n",
    "\n",
    "@params: df:pandas.DataFrame, champ_df:pandas.DataFrame\n",
    "@returns: new_df:pandas.DataFrame\n",
    "\n",
    "\"\"\"\n",
    "def add_cols(df, champ_df):\n",
    "    new_df = df\n",
    "    new_df[\"total_cost\"] = pd.Series(dtype='int')\n",
    "    new_df[\"most_synergy\"] = pd.Series(dtype='str')\n",
    "\n",
    "    for i in range(len(df)):\n",
    "        champs = df.iloc[i]['champions']\n",
    "        champs_str = str(champs).replace(\"'\", '\"').lower()\n",
    "        champs_json = json.loads(champs_str)\n",
    "\n",
    "        total_cost = calc_total_cost(champs_json, champ_df)\n",
    "        new_df.at[i, \"total_cost\"] = total_cost\n",
    "        \n",
    "        synergies = df.iloc[i]['combination']\n",
    "        synergies_str = str(synergies).replace(\"'\", '\"').lower()\n",
    "        synergies_json = json.loads(synergies_str)\n",
    "         \n",
    "        most_synergy = calc_most_synergy(synergies_json, champ_df)\n",
    "        new_df.at[i, \"most_synergy\"] = most_synergy\n",
    "        \n",
    "    return new_df"
   ]
  },
  {
   "cell_type": "code",
   "execution_count": 9,
   "metadata": {},
   "outputs": [],
   "source": [
    "\"\"\"\n",
    "@description: loading --> filtering --> cleaning\n",
    "\"\"\"\n",
    "raw_data = load_data()\n",
    "filtered_data = filter_data(raw_data)\n",
    "cleaned_data = clean_data(filtered_data)\n",
    "\"\"\"\n",
    "@description: adding / calculating total_cost, most_synergy columns\n",
    "\"\"\"\n",
    "plat_df, chal_df, champ_df = cleaned_data\n",
    "\n",
    "plat_df, chal_df  = add_cols(plat_df, champ_df), add_cols(chal_df, champ_df)"
   ]
  },
  {
   "cell_type": "code",
   "execution_count": 10,
   "metadata": {},
   "outputs": [
    {
     "data": {
      "text/html": [
       "<div>\n",
       "<style scoped>\n",
       "    .dataframe tbody tr th:only-of-type {\n",
       "        vertical-align: middle;\n",
       "    }\n",
       "\n",
       "    .dataframe tbody tr th {\n",
       "        vertical-align: top;\n",
       "    }\n",
       "\n",
       "    .dataframe thead th {\n",
       "        text-align: right;\n",
       "    }\n",
       "</style>\n",
       "<table border=\"1\" class=\"dataframe\">\n",
       "  <thead>\n",
       "    <tr style=\"text-align: right;\">\n",
       "      <th></th>\n",
       "      <th>index</th>\n",
       "      <th>lastRound</th>\n",
       "      <th>Ranked</th>\n",
       "      <th>duration</th>\n",
       "      <th>combination</th>\n",
       "      <th>champions</th>\n",
       "      <th>total_cost</th>\n",
       "      <th>most_synergy</th>\n",
       "    </tr>\n",
       "  </thead>\n",
       "  <tbody>\n",
       "    <tr>\n",
       "      <th>0</th>\n",
       "      <td>4</td>\n",
       "      <td>38</td>\n",
       "      <td>1</td>\n",
       "      <td>32.59</td>\n",
       "      <td>{'Blaster': 1, 'Chrono': 5, 'DarkStar': 3, 'Pr...</td>\n",
       "      <td>{'TwistedFate': {'items': [36, 27], 'star': 3}...</td>\n",
       "      <td>57.0</td>\n",
       "      <td>chrono</td>\n",
       "    </tr>\n",
       "    <tr>\n",
       "      <th>1</th>\n",
       "      <td>13</td>\n",
       "      <td>37</td>\n",
       "      <td>1</td>\n",
       "      <td>34.57</td>\n",
       "      <td>{'Blaster': 2, 'Chrono': 2, 'Infiltrator': 2, ...</td>\n",
       "      <td>{'KhaZix': {'items': [99, 17, 17], 'star': 3},...</td>\n",
       "      <td>78.0</td>\n",
       "      <td>valkyrie</td>\n",
       "    </tr>\n",
       "    <tr>\n",
       "      <th>2</th>\n",
       "      <td>20</td>\n",
       "      <td>40</td>\n",
       "      <td>1</td>\n",
       "      <td>37.24</td>\n",
       "      <td>{'DarkStar': 2, 'Demolitionist': 2, 'Infiltrat...</td>\n",
       "      <td>{'KhaZix': {'items': [59], 'star': 2}, 'KaiSa'...</td>\n",
       "      <td>105.0</td>\n",
       "      <td>infiltrator</td>\n",
       "    </tr>\n",
       "    <tr>\n",
       "      <th>3</th>\n",
       "      <td>31</td>\n",
       "      <td>37</td>\n",
       "      <td>1</td>\n",
       "      <td>34.05</td>\n",
       "      <td>{'Blaster': 1, 'Chrono': 7, 'ManaReaver': 1, '...</td>\n",
       "      <td>{'TwistedFate': {'items': [], 'star': 1}, 'Cai...</td>\n",
       "      <td>63.0</td>\n",
       "      <td>chrono</td>\n",
       "    </tr>\n",
       "    <tr>\n",
       "      <th>4</th>\n",
       "      <td>32</td>\n",
       "      <td>38</td>\n",
       "      <td>1</td>\n",
       "      <td>34.63</td>\n",
       "      <td>{'Blaster': 1, 'Chrono': 1, 'Rebel': 6, 'Set3_...</td>\n",
       "      <td>{'Malphite': {'items': [], 'star': 2}, 'Yasuo'...</td>\n",
       "      <td>94.0</td>\n",
       "      <td>rebel</td>\n",
       "    </tr>\n",
       "    <tr>\n",
       "      <th>...</th>\n",
       "      <td>...</td>\n",
       "      <td>...</td>\n",
       "      <td>...</td>\n",
       "      <td>...</td>\n",
       "      <td>...</td>\n",
       "      <td>...</td>\n",
       "      <td>...</td>\n",
       "      <td>...</td>\n",
       "    </tr>\n",
       "    <tr>\n",
       "      <th>1495</th>\n",
       "      <td>11971</td>\n",
       "      <td>37</td>\n",
       "      <td>1</td>\n",
       "      <td>32.70</td>\n",
       "      <td>{'Blaster': 1, 'Chrono': 2, 'Cybernetic': 3, '...</td>\n",
       "      <td>{'Fiora': {'items': [6], 'star': 2}, 'Blitzcra...</td>\n",
       "      <td>71.0</td>\n",
       "      <td>cybernetic</td>\n",
       "    </tr>\n",
       "    <tr>\n",
       "      <th>1496</th>\n",
       "      <td>11978</td>\n",
       "      <td>35</td>\n",
       "      <td>1</td>\n",
       "      <td>32.30</td>\n",
       "      <td>{'Chrono': 2, 'DarkStar': 1, 'Rebel': 1, 'Set3...</td>\n",
       "      <td>{'TwistedFate': {'items': [], 'star': 2}, 'Pop...</td>\n",
       "      <td>82.0</td>\n",
       "      <td>set3_sorcerer</td>\n",
       "    </tr>\n",
       "    <tr>\n",
       "      <th>1497</th>\n",
       "      <td>11990</td>\n",
       "      <td>37</td>\n",
       "      <td>1</td>\n",
       "      <td>34.93</td>\n",
       "      <td>{'Chrono': 2, 'Demolitionist': 2, 'Infiltrator...</td>\n",
       "      <td>{'Poppy': {'items': [], 'star': 2}, 'Xayah': {...</td>\n",
       "      <td>80.0</td>\n",
       "      <td>set3_blademaster</td>\n",
       "    </tr>\n",
       "    <tr>\n",
       "      <th>1498</th>\n",
       "      <td>11994</td>\n",
       "      <td>41</td>\n",
       "      <td>1</td>\n",
       "      <td>37.00</td>\n",
       "      <td>{'Chrono': 2, 'Cybernetic': 2, 'Infiltrator': ...</td>\n",
       "      <td>{'TwistedFate': {'items': [], 'star': 3}, 'Mal...</td>\n",
       "      <td>113.0</td>\n",
       "      <td>set3_brawler</td>\n",
       "    </tr>\n",
       "    <tr>\n",
       "      <th>1499</th>\n",
       "      <td>12005</td>\n",
       "      <td>40</td>\n",
       "      <td>1</td>\n",
       "      <td>36.63</td>\n",
       "      <td>{'Blaster': 4, 'Chrono': 2, 'Cybernetic': 1, '...</td>\n",
       "      <td>{'Malphite': {'items': [17, 45], 'star': 2}, '...</td>\n",
       "      <td>99.0</td>\n",
       "      <td>blaster</td>\n",
       "    </tr>\n",
       "  </tbody>\n",
       "</table>\n",
       "<p>1500 rows × 8 columns</p>\n",
       "</div>"
      ],
      "text/plain": [
       "      index  lastRound  Ranked  duration  \\\n",
       "0         4         38       1     32.59   \n",
       "1        13         37       1     34.57   \n",
       "2        20         40       1     37.24   \n",
       "3        31         37       1     34.05   \n",
       "4        32         38       1     34.63   \n",
       "...     ...        ...     ...       ...   \n",
       "1495  11971         37       1     32.70   \n",
       "1496  11978         35       1     32.30   \n",
       "1497  11990         37       1     34.93   \n",
       "1498  11994         41       1     37.00   \n",
       "1499  12005         40       1     36.63   \n",
       "\n",
       "                                            combination  \\\n",
       "0     {'Blaster': 1, 'Chrono': 5, 'DarkStar': 3, 'Pr...   \n",
       "1     {'Blaster': 2, 'Chrono': 2, 'Infiltrator': 2, ...   \n",
       "2     {'DarkStar': 2, 'Demolitionist': 2, 'Infiltrat...   \n",
       "3     {'Blaster': 1, 'Chrono': 7, 'ManaReaver': 1, '...   \n",
       "4     {'Blaster': 1, 'Chrono': 1, 'Rebel': 6, 'Set3_...   \n",
       "...                                                 ...   \n",
       "1495  {'Blaster': 1, 'Chrono': 2, 'Cybernetic': 3, '...   \n",
       "1496  {'Chrono': 2, 'DarkStar': 1, 'Rebel': 1, 'Set3...   \n",
       "1497  {'Chrono': 2, 'Demolitionist': 2, 'Infiltrator...   \n",
       "1498  {'Chrono': 2, 'Cybernetic': 2, 'Infiltrator': ...   \n",
       "1499  {'Blaster': 4, 'Chrono': 2, 'Cybernetic': 1, '...   \n",
       "\n",
       "                                              champions  total_cost  \\\n",
       "0     {'TwistedFate': {'items': [36, 27], 'star': 3}...        57.0   \n",
       "1     {'KhaZix': {'items': [99, 17, 17], 'star': 3},...        78.0   \n",
       "2     {'KhaZix': {'items': [59], 'star': 2}, 'KaiSa'...       105.0   \n",
       "3     {'TwistedFate': {'items': [], 'star': 1}, 'Cai...        63.0   \n",
       "4     {'Malphite': {'items': [], 'star': 2}, 'Yasuo'...        94.0   \n",
       "...                                                 ...         ...   \n",
       "1495  {'Fiora': {'items': [6], 'star': 2}, 'Blitzcra...        71.0   \n",
       "1496  {'TwistedFate': {'items': [], 'star': 2}, 'Pop...        82.0   \n",
       "1497  {'Poppy': {'items': [], 'star': 2}, 'Xayah': {...        80.0   \n",
       "1498  {'TwistedFate': {'items': [], 'star': 3}, 'Mal...       113.0   \n",
       "1499  {'Malphite': {'items': [17, 45], 'star': 2}, '...        99.0   \n",
       "\n",
       "          most_synergy  \n",
       "0               chrono  \n",
       "1             valkyrie  \n",
       "2          infiltrator  \n",
       "3               chrono  \n",
       "4                rebel  \n",
       "...                ...  \n",
       "1495        cybernetic  \n",
       "1496     set3_sorcerer  \n",
       "1497  set3_blademaster  \n",
       "1498      set3_brawler  \n",
       "1499           blaster  \n",
       "\n",
       "[1500 rows x 8 columns]"
      ]
     },
     "execution_count": 10,
     "metadata": {},
     "output_type": "execute_result"
    }
   ],
   "source": [
    "plat_df"
   ]
  },
  {
   "cell_type": "code",
   "execution_count": 11,
   "metadata": {},
   "outputs": [
    {
     "data": {
      "text/html": [
       "<div>\n",
       "<style scoped>\n",
       "    .dataframe tbody tr th:only-of-type {\n",
       "        vertical-align: middle;\n",
       "    }\n",
       "\n",
       "    .dataframe tbody tr th {\n",
       "        vertical-align: top;\n",
       "    }\n",
       "\n",
       "    .dataframe thead th {\n",
       "        text-align: right;\n",
       "    }\n",
       "</style>\n",
       "<table border=\"1\" class=\"dataframe\">\n",
       "  <thead>\n",
       "    <tr style=\"text-align: right;\">\n",
       "      <th></th>\n",
       "      <th>index</th>\n",
       "      <th>lastRound</th>\n",
       "      <th>Ranked</th>\n",
       "      <th>duration</th>\n",
       "      <th>combination</th>\n",
       "      <th>champions</th>\n",
       "      <th>total_cost</th>\n",
       "      <th>most_synergy</th>\n",
       "    </tr>\n",
       "  </thead>\n",
       "  <tbody>\n",
       "    <tr>\n",
       "      <th>0</th>\n",
       "      <td>0</td>\n",
       "      <td>35</td>\n",
       "      <td>1</td>\n",
       "      <td>35.57</td>\n",
       "      <td>{'DarkStar': 2, 'Protector': 4, 'Rebel': 1, 'S...</td>\n",
       "      <td>{'JarvanIV': {'items': [27], 'star': 3}, 'Sona...</td>\n",
       "      <td>98.0</td>\n",
       "      <td>protector</td>\n",
       "    </tr>\n",
       "    <tr>\n",
       "      <th>1</th>\n",
       "      <td>8</td>\n",
       "      <td>41</td>\n",
       "      <td>1</td>\n",
       "      <td>39.63</td>\n",
       "      <td>{'Blaster': 2, 'Demolitionist': 2, 'Mercenary'...</td>\n",
       "      <td>{'Malphite': {'items': [], 'star': 2}, 'Yasuo'...</td>\n",
       "      <td>76.0</td>\n",
       "      <td>rebel</td>\n",
       "    </tr>\n",
       "    <tr>\n",
       "      <th>2</th>\n",
       "      <td>16</td>\n",
       "      <td>38</td>\n",
       "      <td>1</td>\n",
       "      <td>37.08</td>\n",
       "      <td>{'Blaster': 2, 'Demolitionist': 2, 'Mercenary'...</td>\n",
       "      <td>{'Ziggs': {'items': [], 'star': 2}, 'Yasuo': {...</td>\n",
       "      <td>73.0</td>\n",
       "      <td>rebel</td>\n",
       "    </tr>\n",
       "    <tr>\n",
       "      <th>3</th>\n",
       "      <td>24</td>\n",
       "      <td>38</td>\n",
       "      <td>1</td>\n",
       "      <td>38.60</td>\n",
       "      <td>{'Blaster': 4, 'Chrono': 2, 'Cybernetic': 1, '...</td>\n",
       "      <td>{'Malphite': {'items': [], 'star': 1}, 'Graves...</td>\n",
       "      <td>87.0</td>\n",
       "      <td>blaster</td>\n",
       "    </tr>\n",
       "    <tr>\n",
       "      <th>4</th>\n",
       "      <td>32</td>\n",
       "      <td>37</td>\n",
       "      <td>1</td>\n",
       "      <td>35.67</td>\n",
       "      <td>{'DarkStar': 2, 'Protector': 4, 'Rebel': 1, 'S...</td>\n",
       "      <td>{'JarvanIV': {'items': [], 'star': 3}, 'Sona':...</td>\n",
       "      <td>108.0</td>\n",
       "      <td>protector</td>\n",
       "    </tr>\n",
       "    <tr>\n",
       "      <th>...</th>\n",
       "      <td>...</td>\n",
       "      <td>...</td>\n",
       "      <td>...</td>\n",
       "      <td>...</td>\n",
       "      <td>...</td>\n",
       "      <td>...</td>\n",
       "      <td>...</td>\n",
       "      <td>...</td>\n",
       "    </tr>\n",
       "    <tr>\n",
       "      <th>1495</th>\n",
       "      <td>11960</td>\n",
       "      <td>40</td>\n",
       "      <td>1</td>\n",
       "      <td>36.74</td>\n",
       "      <td>{'Blaster': 2, 'Chrono': 1, 'Cybernetic': 6, '...</td>\n",
       "      <td>{'Fiora': {'items': [67], 'star': 1}, 'Leona':...</td>\n",
       "      <td>88.0</td>\n",
       "      <td>cybernetic</td>\n",
       "    </tr>\n",
       "    <tr>\n",
       "      <th>1496</th>\n",
       "      <td>11968</td>\n",
       "      <td>37</td>\n",
       "      <td>1</td>\n",
       "      <td>32.91</td>\n",
       "      <td>{'DarkStar': 3, 'Demolitionist': 1, 'Infiltrat...</td>\n",
       "      <td>{'KhaZix': {'items': [], 'star': 1}, 'KaiSa': ...</td>\n",
       "      <td>121.0</td>\n",
       "      <td>infiltrator</td>\n",
       "    </tr>\n",
       "    <tr>\n",
       "      <th>1497</th>\n",
       "      <td>11976</td>\n",
       "      <td>37</td>\n",
       "      <td>1</td>\n",
       "      <td>35.03</td>\n",
       "      <td>{'Blaster': 2, 'Chrono': 4, 'ManaReaver': 2, '...</td>\n",
       "      <td>{'Xayah': {'items': [], 'star': 2}, 'Shen': {'...</td>\n",
       "      <td>74.0</td>\n",
       "      <td>chrono</td>\n",
       "    </tr>\n",
       "    <tr>\n",
       "      <th>1498</th>\n",
       "      <td>11984</td>\n",
       "      <td>40</td>\n",
       "      <td>1</td>\n",
       "      <td>37.86</td>\n",
       "      <td>{'DarkStar': 2, 'Protector': 4, 'Rebel': 1, 'S...</td>\n",
       "      <td>{'JarvanIV': {'items': [68], 'star': 3}, 'Sona...</td>\n",
       "      <td>99.0</td>\n",
       "      <td>protector</td>\n",
       "    </tr>\n",
       "    <tr>\n",
       "      <th>1499</th>\n",
       "      <td>11992</td>\n",
       "      <td>40</td>\n",
       "      <td>1</td>\n",
       "      <td>37.57</td>\n",
       "      <td>{'DarkStar': 2, 'Demolitionist': 1, 'Infiltrat...</td>\n",
       "      <td>{'KhaZix': {'items': [], 'star': 2}, 'KaiSa': ...</td>\n",
       "      <td>126.0</td>\n",
       "      <td>infiltrator</td>\n",
       "    </tr>\n",
       "  </tbody>\n",
       "</table>\n",
       "<p>1500 rows × 8 columns</p>\n",
       "</div>"
      ],
      "text/plain": [
       "      index  lastRound  Ranked  duration  \\\n",
       "0         0         35       1     35.57   \n",
       "1         8         41       1     39.63   \n",
       "2        16         38       1     37.08   \n",
       "3        24         38       1     38.60   \n",
       "4        32         37       1     35.67   \n",
       "...     ...        ...     ...       ...   \n",
       "1495  11960         40       1     36.74   \n",
       "1496  11968         37       1     32.91   \n",
       "1497  11976         37       1     35.03   \n",
       "1498  11984         40       1     37.86   \n",
       "1499  11992         40       1     37.57   \n",
       "\n",
       "                                            combination  \\\n",
       "0     {'DarkStar': 2, 'Protector': 4, 'Rebel': 1, 'S...   \n",
       "1     {'Blaster': 2, 'Demolitionist': 2, 'Mercenary'...   \n",
       "2     {'Blaster': 2, 'Demolitionist': 2, 'Mercenary'...   \n",
       "3     {'Blaster': 4, 'Chrono': 2, 'Cybernetic': 1, '...   \n",
       "4     {'DarkStar': 2, 'Protector': 4, 'Rebel': 1, 'S...   \n",
       "...                                                 ...   \n",
       "1495  {'Blaster': 2, 'Chrono': 1, 'Cybernetic': 6, '...   \n",
       "1496  {'DarkStar': 3, 'Demolitionist': 1, 'Infiltrat...   \n",
       "1497  {'Blaster': 2, 'Chrono': 4, 'ManaReaver': 2, '...   \n",
       "1498  {'DarkStar': 2, 'Protector': 4, 'Rebel': 1, 'S...   \n",
       "1499  {'DarkStar': 2, 'Demolitionist': 1, 'Infiltrat...   \n",
       "\n",
       "                                              champions  total_cost  \\\n",
       "0     {'JarvanIV': {'items': [27], 'star': 3}, 'Sona...        98.0   \n",
       "1     {'Malphite': {'items': [], 'star': 2}, 'Yasuo'...        76.0   \n",
       "2     {'Ziggs': {'items': [], 'star': 2}, 'Yasuo': {...        73.0   \n",
       "3     {'Malphite': {'items': [], 'star': 1}, 'Graves...        87.0   \n",
       "4     {'JarvanIV': {'items': [], 'star': 3}, 'Sona':...       108.0   \n",
       "...                                                 ...         ...   \n",
       "1495  {'Fiora': {'items': [67], 'star': 1}, 'Leona':...        88.0   \n",
       "1496  {'KhaZix': {'items': [], 'star': 1}, 'KaiSa': ...       121.0   \n",
       "1497  {'Xayah': {'items': [], 'star': 2}, 'Shen': {'...        74.0   \n",
       "1498  {'JarvanIV': {'items': [68], 'star': 3}, 'Sona...        99.0   \n",
       "1499  {'KhaZix': {'items': [], 'star': 2}, 'KaiSa': ...       126.0   \n",
       "\n",
       "     most_synergy  \n",
       "0       protector  \n",
       "1           rebel  \n",
       "2           rebel  \n",
       "3         blaster  \n",
       "4       protector  \n",
       "...           ...  \n",
       "1495   cybernetic  \n",
       "1496  infiltrator  \n",
       "1497       chrono  \n",
       "1498    protector  \n",
       "1499  infiltrator  \n",
       "\n",
       "[1500 rows x 8 columns]"
      ]
     },
     "execution_count": 11,
     "metadata": {},
     "output_type": "execute_result"
    }
   ],
   "source": [
    "chal_df"
   ]
  },
  {
   "cell_type": "code",
   "execution_count": 12,
   "metadata": {},
   "outputs": [
    {
     "data": {
      "text/html": [
       "<div>\n",
       "<style scoped>\n",
       "    .dataframe tbody tr th:only-of-type {\n",
       "        vertical-align: middle;\n",
       "    }\n",
       "\n",
       "    .dataframe tbody tr th {\n",
       "        vertical-align: top;\n",
       "    }\n",
       "\n",
       "    .dataframe thead th {\n",
       "        text-align: right;\n",
       "    }\n",
       "</style>\n",
       "<table border=\"1\" class=\"dataframe\">\n",
       "  <thead>\n",
       "    <tr style=\"text-align: right;\">\n",
       "      <th></th>\n",
       "      <th>index</th>\n",
       "      <th>lastRound</th>\n",
       "      <th>Ranked</th>\n",
       "      <th>duration</th>\n",
       "      <th>total_cost</th>\n",
       "    </tr>\n",
       "  </thead>\n",
       "  <tbody>\n",
       "    <tr>\n",
       "      <th>count</th>\n",
       "      <td>1500.000000</td>\n",
       "      <td>1500.000000</td>\n",
       "      <td>1500.0</td>\n",
       "      <td>1500.000000</td>\n",
       "      <td>1500.000000</td>\n",
       "    </tr>\n",
       "    <tr>\n",
       "      <th>mean</th>\n",
       "      <td>6007.019333</td>\n",
       "      <td>38.413333</td>\n",
       "      <td>1.0</td>\n",
       "      <td>36.055093</td>\n",
       "      <td>96.894667</td>\n",
       "    </tr>\n",
       "    <tr>\n",
       "      <th>std</th>\n",
       "      <td>3465.848374</td>\n",
       "      <td>2.262278</td>\n",
       "      <td>0.0</td>\n",
       "      <td>2.346572</td>\n",
       "      <td>22.668704</td>\n",
       "    </tr>\n",
       "    <tr>\n",
       "      <th>min</th>\n",
       "      <td>4.000000</td>\n",
       "      <td>33.000000</td>\n",
       "      <td>1.0</td>\n",
       "      <td>29.740000</td>\n",
       "      <td>0.000000</td>\n",
       "    </tr>\n",
       "    <tr>\n",
       "      <th>25%</th>\n",
       "      <td>3011.000000</td>\n",
       "      <td>37.000000</td>\n",
       "      <td>1.0</td>\n",
       "      <td>34.290000</td>\n",
       "      <td>82.000000</td>\n",
       "    </tr>\n",
       "    <tr>\n",
       "      <th>50%</th>\n",
       "      <td>6005.000000</td>\n",
       "      <td>38.000000</td>\n",
       "      <td>1.0</td>\n",
       "      <td>35.880000</td>\n",
       "      <td>96.000000</td>\n",
       "    </tr>\n",
       "    <tr>\n",
       "      <th>75%</th>\n",
       "      <td>9009.000000</td>\n",
       "      <td>40.000000</td>\n",
       "      <td>1.0</td>\n",
       "      <td>37.630000</td>\n",
       "      <td>111.000000</td>\n",
       "    </tr>\n",
       "    <tr>\n",
       "      <th>max</th>\n",
       "      <td>12005.000000</td>\n",
       "      <td>47.000000</td>\n",
       "      <td>1.0</td>\n",
       "      <td>44.300000</td>\n",
       "      <td>179.000000</td>\n",
       "    </tr>\n",
       "  </tbody>\n",
       "</table>\n",
       "</div>"
      ],
      "text/plain": [
       "              index    lastRound  Ranked     duration   total_cost\n",
       "count   1500.000000  1500.000000  1500.0  1500.000000  1500.000000\n",
       "mean    6007.019333    38.413333     1.0    36.055093    96.894667\n",
       "std     3465.848374     2.262278     0.0     2.346572    22.668704\n",
       "min        4.000000    33.000000     1.0    29.740000     0.000000\n",
       "25%     3011.000000    37.000000     1.0    34.290000    82.000000\n",
       "50%     6005.000000    38.000000     1.0    35.880000    96.000000\n",
       "75%     9009.000000    40.000000     1.0    37.630000   111.000000\n",
       "max    12005.000000    47.000000     1.0    44.300000   179.000000"
      ]
     },
     "execution_count": 12,
     "metadata": {},
     "output_type": "execute_result"
    }
   ],
   "source": [
    "plat_df.describe()"
   ]
  },
  {
   "cell_type": "code",
   "execution_count": 13,
   "metadata": {},
   "outputs": [
    {
     "data": {
      "text/html": [
       "<div>\n",
       "<style scoped>\n",
       "    .dataframe tbody tr th:only-of-type {\n",
       "        vertical-align: middle;\n",
       "    }\n",
       "\n",
       "    .dataframe tbody tr th {\n",
       "        vertical-align: top;\n",
       "    }\n",
       "\n",
       "    .dataframe thead th {\n",
       "        text-align: right;\n",
       "    }\n",
       "</style>\n",
       "<table border=\"1\" class=\"dataframe\">\n",
       "  <thead>\n",
       "    <tr style=\"text-align: right;\">\n",
       "      <th></th>\n",
       "      <th>index</th>\n",
       "      <th>lastRound</th>\n",
       "      <th>Ranked</th>\n",
       "      <th>duration</th>\n",
       "      <th>total_cost</th>\n",
       "    </tr>\n",
       "  </thead>\n",
       "  <tbody>\n",
       "    <tr>\n",
       "      <th>count</th>\n",
       "      <td>1500.000000</td>\n",
       "      <td>1500.000000</td>\n",
       "      <td>1500.0</td>\n",
       "      <td>1500.000000</td>\n",
       "      <td>1500.000000</td>\n",
       "    </tr>\n",
       "    <tr>\n",
       "      <th>mean</th>\n",
       "      <td>5996.000000</td>\n",
       "      <td>38.136000</td>\n",
       "      <td>1.0</td>\n",
       "      <td>35.406513</td>\n",
       "      <td>94.417333</td>\n",
       "    </tr>\n",
       "    <tr>\n",
       "      <th>std</th>\n",
       "      <td>3465.256123</td>\n",
       "      <td>2.154824</td>\n",
       "      <td>0.0</td>\n",
       "      <td>2.224832</td>\n",
       "      <td>19.520516</td>\n",
       "    </tr>\n",
       "    <tr>\n",
       "      <th>min</th>\n",
       "      <td>0.000000</td>\n",
       "      <td>33.000000</td>\n",
       "      <td>1.0</td>\n",
       "      <td>29.370000</td>\n",
       "      <td>42.000000</td>\n",
       "    </tr>\n",
       "    <tr>\n",
       "      <th>25%</th>\n",
       "      <td>2998.000000</td>\n",
       "      <td>37.000000</td>\n",
       "      <td>1.0</td>\n",
       "      <td>33.860000</td>\n",
       "      <td>80.000000</td>\n",
       "    </tr>\n",
       "    <tr>\n",
       "      <th>50%</th>\n",
       "      <td>5996.000000</td>\n",
       "      <td>38.000000</td>\n",
       "      <td>1.0</td>\n",
       "      <td>35.010000</td>\n",
       "      <td>94.500000</td>\n",
       "    </tr>\n",
       "    <tr>\n",
       "      <th>75%</th>\n",
       "      <td>8994.000000</td>\n",
       "      <td>40.000000</td>\n",
       "      <td>1.0</td>\n",
       "      <td>36.740000</td>\n",
       "      <td>108.000000</td>\n",
       "    </tr>\n",
       "    <tr>\n",
       "      <th>max</th>\n",
       "      <td>11992.000000</td>\n",
       "      <td>47.000000</td>\n",
       "      <td>1.0</td>\n",
       "      <td>44.220000</td>\n",
       "      <td>168.000000</td>\n",
       "    </tr>\n",
       "  </tbody>\n",
       "</table>\n",
       "</div>"
      ],
      "text/plain": [
       "              index    lastRound  Ranked     duration   total_cost\n",
       "count   1500.000000  1500.000000  1500.0  1500.000000  1500.000000\n",
       "mean    5996.000000    38.136000     1.0    35.406513    94.417333\n",
       "std     3465.256123     2.154824     0.0     2.224832    19.520516\n",
       "min        0.000000    33.000000     1.0    29.370000    42.000000\n",
       "25%     2998.000000    37.000000     1.0    33.860000    80.000000\n",
       "50%     5996.000000    38.000000     1.0    35.010000    94.500000\n",
       "75%     8994.000000    40.000000     1.0    36.740000   108.000000\n",
       "max    11992.000000    47.000000     1.0    44.220000   168.000000"
      ]
     },
     "execution_count": 13,
     "metadata": {},
     "output_type": "execute_result"
    }
   ],
   "source": [
    "chal_df.describe()"
   ]
  },
  {
   "cell_type": "markdown",
   "metadata": {},
   "source": [
    "# Data Analysis & Results"
   ]
  },
  {
   "cell_type": "markdown",
   "metadata": {},
   "source": [
    "The first step in our exploratory data analysis is to analyze the total team compositon cost columns between both elo's (plat vs. challenger). We first simply analyze both mean and percentage increase values between the two ranks:"
   ]
  },
  {
   "cell_type": "code",
   "execution_count": 14,
   "metadata": {},
   "outputs": [],
   "source": [
    "plat_cost = plat_df[\"total_cost\"]\n",
    "chal_cost = chal_df[\"total_cost\"]\n",
    "\n",
    "plat_mean = round(plat_cost.mean(), 2) \n",
    "chal_mean = round(chal_cost.mean(), 2)"
   ]
  },
  {
   "cell_type": "code",
   "execution_count": 15,
   "metadata": {},
   "outputs": [],
   "source": [
    "\"\"\"\n",
    "@description: Display's Plat / Challenger Means\n",
    "@params: None\n",
    "@returns: msg:str\n",
    "\"\"\"\n",
    "def display_means():\n",
    "    msg = \"Plat Mean: {}, Chal Mean: {}\".format(str(plat_mean), str(chal_mean))\n",
    "    return msg"
   ]
  },
  {
   "cell_type": "code",
   "execution_count": 16,
   "metadata": {},
   "outputs": [],
   "source": [
    "\"\"\"\n",
    "@description: Display percentage increases\n",
    "@params: None\n",
    "@returns: msg:str\n",
    "\"\"\"\n",
    "def display_perc_increase():\n",
    "    perc_increase = round(((plat_mean - chal_mean)/plat_mean) * 100, 2)\n",
    "    msg = \"Percentage increase on average: {}%\".format(perc_increase)\n",
    "    return msg"
   ]
  },
  {
   "cell_type": "code",
   "execution_count": 17,
   "metadata": {},
   "outputs": [
    {
     "data": {
      "text/plain": [
       "'Plat Mean: 96.89, Chal Mean: 94.42'"
      ]
     },
     "execution_count": 17,
     "metadata": {},
     "output_type": "execute_result"
    }
   ],
   "source": [
    "display_means()"
   ]
  },
  {
   "cell_type": "code",
   "execution_count": 18,
   "metadata": {},
   "outputs": [
    {
     "data": {
      "text/plain": [
       "'Percentage increase on average: 2.55%'"
      ]
     },
     "execution_count": 18,
     "metadata": {},
     "output_type": "execute_result"
    }
   ],
   "source": [
    "display_perc_increase()"
   ]
  },
  {
   "cell_type": "markdown",
   "metadata": {},
   "source": [
    "From this simple calculation we see that on average, plat players spend around:\n",
    "\n",
    "- 2.49 more gold than challenger\n",
    "- 2.55% more gold than challenger players.\n",
    "\n",
    "We then plot Histogram / KDE plots to better explore the distribution of the data"
   ]
  },
  {
   "cell_type": "code",
   "execution_count": 19,
   "metadata": {},
   "outputs": [],
   "source": [
    "\"\"\"\n",
    "@description: plots histograms and kernal density estimations of total cost cols / duration per both dfs\n",
    "@params: None\n",
    "@returns: None\n",
    "\"\"\"\n",
    "def plot_hist_KDEs(col, color1, color2):\n",
    "    fig, axes = plt.subplots(2, 2, sharex=True, figsize=(15,10))\n",
    "\n",
    "    sns.histplot(ax=axes[0][0], data=plat_df, x=col, color=color1)\n",
    "    sns.kdeplot(ax=axes[1][0], data=plat_df, x=col, color=color1)\n",
    "    axes[0][0].set_title(\"Plat Histogram\")\n",
    "    axes[1][0].set_title(\"Plat KDE Plot\")\n",
    "\n",
    "    sns.histplot(ax=axes[0][1], data=chal_df, x=col, color=color2)\n",
    "    sns.kdeplot(ax=axes[1][1], data=chal_df, x=col, color=color2)\n",
    "    axes[0][1].set_title(\"Chal Histogram\")\n",
    "    axes[1][1].set_title(\"Chal KDE Plot\")"
   ]
  },
  {
   "cell_type": "code",
   "execution_count": 20,
   "metadata": {},
   "outputs": [
    {
     "data": {
      "image/png": "[encoded data removed]",
      "text/plain": [
       "<Figure size 1080x720 with 4 Axes>"
      ]
     },
     "metadata": {
      "needs_background": "light"
     },
     "output_type": "display_data"
    }
   ],
   "source": [
    "plot_hist_KDEs(\"total_cost\", \"green\", \"orange\")"
   ]
  },
  {
   "cell_type": "markdown",
   "metadata": {},
   "source": [
    "From our distributions / exploratory intuition we see that plat players tend to spend slighty more than challenger players, however we will conduct a formal t-test and observe if such observations are significant:"
   ]
  },
  {
   "cell_type": "code",
   "execution_count": 21,
   "metadata": {},
   "outputs": [],
   "source": [
    "\"\"\"\n",
    "@description: Using t-test to observe if observations prove a significant difference\n",
    "@NOTE: using threshold alpha p-value of 0.01 \n",
    "@params: None\n",
    "@returns: msg:str\n",
    "\"\"\"\n",
    "def get_t_test(col_1, col_2):\n",
    "    threshold = 0.01\n",
    "    t_val, p_val = ttest_ind(col_1, col_2)\n",
    "    \n",
    "    msg = \"p-value: {}, \".format(str(p_val))\n",
    "    \n",
    "    if p_val < threshold:\n",
    "        msg += \"Significant Difference\"\n",
    "    else:\n",
    "        msg += \"NO Significant Difference\"\n",
    "    return msg"
   ]
  },
  {
   "cell_type": "code",
   "execution_count": 22,
   "metadata": {},
   "outputs": [
    {
     "data": {
      "text/plain": [
       "'p-value: 0.0013540373109294972, Significant Difference'"
      ]
     },
     "execution_count": 22,
     "metadata": {},
     "output_type": "execute_result"
    }
   ],
   "source": [
    "get_t_test(plat_cost, chal_cost)"
   ]
  },
  {
   "cell_type": "markdown",
   "metadata": {},
   "source": [
    "From our formal t-test it is evident that there IS a signficant difference between plat and challenger team \n",
    "composition costs"
   ]
  },
  {
   "cell_type": "markdown",
   "metadata": {},
   "source": [
    "We now conduct a similiar investigation on the duration of a game between plat / challenger players"
   ]
  },
  {
   "cell_type": "code",
   "execution_count": 23,
   "metadata": {},
   "outputs": [],
   "source": [
    "plat_duration = plat_df[\"duration\"]\n",
    "chal_duration = chal_df[\"duration\"]\n",
    "\n",
    "plat_mean = round(plat_duration.mean(), 2) \n",
    "chal_mean = round(chal_duration.mean(), 2)"
   ]
  },
  {
   "cell_type": "code",
   "execution_count": 24,
   "metadata": {},
   "outputs": [
    {
     "data": {
      "text/plain": [
       "'Plat Mean: 36.06, Chal Mean: 35.41'"
      ]
     },
     "execution_count": 24,
     "metadata": {},
     "output_type": "execute_result"
    }
   ],
   "source": [
    "display_means()"
   ]
  },
  {
   "cell_type": "code",
   "execution_count": 25,
   "metadata": {},
   "outputs": [
    {
     "data": {
      "text/plain": [
       "'Percentage increase on average: 1.8%'"
      ]
     },
     "execution_count": 25,
     "metadata": {},
     "output_type": "execute_result"
    }
   ],
   "source": [
    "display_perc_increase()"
   ]
  },
  {
   "cell_type": "markdown",
   "metadata": {},
   "source": [
    "From this simple calculation we see that on average, plat players have a game duration of around:\n",
    "\n",
    "- 25 seconds more than challenger players\n",
    "- 1.8% more time than challenger players\n",
    "\n",
    "We then plot Histogram / KDE plots to better explore the distribution of the data\n"
   ]
  },
  {
   "cell_type": "code",
   "execution_count": 26,
   "metadata": {},
   "outputs": [
    {
     "data": {
      "image/png": "[encoded data removed]",
      "text/plain": [
       "<Figure size 1080x720 with 4 Axes>"
      ]
     },
     "metadata": {
      "needs_background": "light"
     },
     "output_type": "display_data"
    }
   ],
   "source": [
    "plot_hist_KDEs(\"duration\", \"dodgerblue\", \"coral\")"
   ]
  },
  {
   "cell_type": "markdown",
   "metadata": {},
   "source": [
    "We observe from the KDE and histogram distributions that the results from game duration between plat / challenger \n",
    "seem MORE signficant than total cost. However, we again conduct a formalized t-test to challenge our intuition:"
   ]
  },
  {
   "cell_type": "code",
   "execution_count": 27,
   "metadata": {},
   "outputs": [
    {
     "data": {
      "text/plain": [
       "'p-value: 1.084877140651484e-14, Significant Difference'"
      ]
     },
     "execution_count": 27,
     "metadata": {},
     "output_type": "execute_result"
    }
   ],
   "source": [
    "get_t_test(plat_duration, chal_duration)"
   ]
  },
  {
   "cell_type": "markdown",
   "metadata": {},
   "source": [
    "From our formal t-test it is evident that there also IS a signficant difference between plat and challenger game durations"
   ]
  },
  {
   "cell_type": "markdown",
   "metadata": {},
   "source": [
    "Next, we want to analyze the relationships of popular team synergies (most used type of unit) between plat and\n",
    "challenger players. To do this we start by analyzing the value counts of each synergy in our plat / chal columns"
   ]
  },
  {
   "cell_type": "code",
   "execution_count": 28,
   "metadata": {},
   "outputs": [
    {
     "data": {
      "text/plain": [
       "blaster             242\n",
       "infiltrator         194\n",
       "set3_celestial      149\n",
       "set3_sorcerer       110\n",
       "chrono              100\n",
       "cybernetic           99\n",
       "darkstar             94\n",
       "set3_brawler         93\n",
       "set3_blademaster     82\n",
       "rebel                77\n",
       "protector            76\n",
       "vanguard             63\n",
       "starguardian         42\n",
       "spacepirate          35\n",
       "set3_mystic          17\n",
       "set3_void             5\n",
       "shadow                4\n",
       "demolitionist         3\n",
       "set2_glacial          2\n",
       "mechpilot             2\n",
       "poison                2\n",
       "set2_ranger           2\n",
       "electric              1\n",
       "crystal               1\n",
       "valkyrie              1\n",
       "set2_assassin         1\n",
       "manareaver            1\n",
       "inferno               1\n",
       "warden                1\n",
       "Name: most_synergy, dtype: int64"
      ]
     },
     "execution_count": 28,
     "metadata": {},
     "output_type": "execute_result"
    }
   ],
   "source": [
    "plat_synergies = plat_df[\"most_synergy\"].value_counts()\n",
    "plat_synergies"
   ]
  },
  {
   "cell_type": "code",
   "execution_count": 29,
   "metadata": {},
   "outputs": [
    {
     "data": {
      "text/plain": [
       "cybernetic          322\n",
       "infiltrator         294\n",
       "set3_brawler        126\n",
       "blaster             125\n",
       "chrono              111\n",
       "vanguard            103\n",
       "protector            93\n",
       "set3_sorcerer        88\n",
       "starguardian         71\n",
       "darkstar             66\n",
       "set3_blademaster     49\n",
       "rebel                33\n",
       "set3_celestial       10\n",
       "set3_mystic           9\n",
       "Name: most_synergy, dtype: int64"
      ]
     },
     "execution_count": 29,
     "metadata": {},
     "output_type": "execute_result"
    }
   ],
   "source": [
    "chal_synergies = chal_df[\"most_synergy\"].value_counts()\n",
    "chal_synergies"
   ]
  },
  {
   "cell_type": "markdown",
   "metadata": {},
   "source": [
    "From value counts alone we see that platinum players try a greater number of synergies than challenger\n",
    "players. We then calculate the exact number by finding the unique value counts number of each rank:\n"
   ]
  },
  {
   "cell_type": "code",
   "execution_count": 30,
   "metadata": {},
   "outputs": [],
   "source": [
    "\"\"\"\n",
    "@description: Prints out a msg that displays the number of our unique synergies\n",
    "@params: None\n",
    "@returns: None\n",
    "\"\"\"\n",
    "def display_unique_synergies():\n",
    "    plat_unique_synergies = len(plat_synergies.unique())\n",
    "    chal_unique_synergies = len(chal_synergies.unique())\n",
    "    \n",
    "    print(\"Plat Unique Synergies: {}\".format(plat_unique_synergies))\n",
    "    print(\"Challenger Unique Synergies: {}\".format(chal_unique_synergies))"
   ]
  },
  {
   "cell_type": "code",
   "execution_count": 31,
   "metadata": {},
   "outputs": [
    {
     "name": "stdout",
     "output_type": "stream",
     "text": [
      "Plat Unique Synergies: 20\n",
      "Challenger Unique Synergies: 14\n"
     ]
    }
   ],
   "source": [
    "display_unique_synergies()"
   ]
  },
  {
   "cell_type": "markdown",
   "metadata": {},
   "source": [
    "From this calculation we can see that there is a greater variation in the synergies used in platinum, implying that\n",
    "plat players tend to try more compositions while challenger players tend to stick to the meta and experiment less."
   ]
  },
  {
   "cell_type": "markdown",
   "metadata": {},
   "source": [
    "Now let us create count plots of the top 10 most used synergies per each rank:"
   ]
  },
  {
   "cell_type": "code",
   "execution_count": 32,
   "metadata": {},
   "outputs": [],
   "source": [
    "\"\"\"\n",
    "@description: Plots countplots of most used synergies per rank \n",
    "@params: None\n",
    "@returns: None\n",
    "\"\"\"\n",
    "def plot_synergies():\n",
    "    fig, axes = plt.subplots(2, 1, figsize=(15,20))\n",
    "    sns.countplot(ax=axes[0], data=plat_df, y=\"most_synergy\",\n",
    "                  order=plat_df[\"most_synergy\"].value_counts().iloc[:10].index)\n",
    "    \n",
    "    axes[0].set_title(\"Plat Synergies\")\n",
    "    sns.countplot(ax=axes[1], data=chal_df, y=\"most_synergy\", \n",
    "                  order=chal_df[\"most_synergy\"].value_counts().iloc[:10].index)\n",
    "    axes[1].set_title(\"Challenger Synergies\")"
   ]
  },
  {
   "cell_type": "code",
   "execution_count": 33,
   "metadata": {},
   "outputs": [
    {
     "data": {
      "image/png": "[encoded data removed]",
      "text/plain": [
       "<Figure size 1080x1440 with 2 Axes>"
      ]
     },
     "metadata": {
      "needs_background": "light"
     },
     "output_type": "display_data"
    }
   ],
   "source": [
    "plot_synergies()"
   ]
  },
  {
   "cell_type": "markdown",
   "metadata": {},
   "source": [
    "From our findings of synergies between plat vs. challenger players it is evident that the synergies used between elos is signficantly different. For example, plat players seem to gravitate towards the \"blaster\" synergy while challenger players seem to stick with \"cybernetic\" synergies.\n",
    "\n",
    "Furthermore we can conclude that not only are synergies used differently in plat vs. challenger games, but the variation of synergies is also different and plat players tend to experiment with different play styles / synergies in their games"
   ]
  },
  {
   "cell_type": "markdown",
   "metadata": {},
   "source": [
    "Next, we want to dig deeper in the relationships between gameDuration and total composition costs by comparing two linear regressions, namely one for plat players and one for challenger players. Our first step is to validate that gameDuration and total_costs are linear related by creating scatterplot's for both data frames:"
   ]
  },
  {
   "cell_type": "code",
   "execution_count": 34,
   "metadata": {},
   "outputs": [],
   "source": [
    "\"\"\"\n",
    "@description: Filtering outliers such that total cost is greater than 0 and taking 200 sample\n",
    "\"\"\"\n",
    "plat_filtered = plat_df[plat_df.total_cost > 0]\n",
    "chal_filtered = chal_df[chal_df.total_cost > 0]\n",
    "plat_sample = plat_filtered.head(200)\n",
    "chal_sample = chal_filtered.head(200)"
   ]
  },
  {
   "cell_type": "code",
   "execution_count": 35,
   "metadata": {},
   "outputs": [],
   "source": [
    "\"\"\"\n",
    "@description: Plots scatterplots for total_cost vs.duration for both elos\n",
    "@params: None\n",
    "@returns: None\n",
    "\"\"\"\n",
    "def plot_scatterplots():\n",
    "    fig, axes = plt.subplots(1, 2, sharex=True, figsize=(15,7))\n",
    "    sns.scatterplot(ax=axes[0] ,data=plat_sample, x=\"total_cost\", y=\"duration\", color=\"brown\")\n",
    "    axes[0].set_title(\"Plat total_cost vs. duration scatterplot\")\n",
    "    sns.scatterplot(ax=axes[1] ,data=chal_sample, x=\"total_cost\", y=\"duration\", color=\"purple\")\n",
    "    axes[1].set_title(\"Challenger total_cost vs. duration scatterplot\")"
   ]
  },
  {
   "cell_type": "code",
   "execution_count": 36,
   "metadata": {},
   "outputs": [
    {
     "data": {
      "image/png": "[encoded data removed]",
      "text/plain": [
       "<Figure size 1080x504 with 2 Axes>"
      ]
     },
     "metadata": {
      "needs_background": "light"
     },
     "output_type": "display_data"
    }
   ],
   "source": [
    "plot_scatterplots()"
   ]
  },
  {
   "cell_type": "markdown",
   "metadata": {},
   "source": [
    "From our scatterplots we can see that there is a similiar weak linear relationship of total_cost vs. duration in both\n",
    "elos. Let us dive a bit deeper into these relationships and compare linear regressions for each dataframe:"
   ]
  },
  {
   "cell_type": "code",
   "execution_count": 37,
   "metadata": {},
   "outputs": [],
   "source": [
    "\"\"\"\n",
    "@description: calculates our regression slope and plots both regressions and puts slopes on legends\n",
    "@params: None\n",
    "@returns: None\n",
    "\"\"\"\n",
    "def plot_regplots():\n",
    "    slope1, intercept1, r_value1, p_value1, std_err1 = stats.linregress(\n",
    "        plat_sample['duration'],\n",
    "        plat_sample['total_cost'])\n",
    "    slope2, intercept2, r_value2, p_value2, std_err2 = stats.linregress(\n",
    "        chal_sample['duration'],\n",
    "        chal_sample['total_cost'])\n",
    "    \n",
    "    \n",
    "    fig, axes = plt.subplots(1, 2, sharex=True, figsize=(15,7))\n",
    "    \n",
    "    axes[0].set_title(\"Plat total_cost vs. duration linear regression\")\n",
    "    ax1 = sns.regplot(ax=axes[0] ,data=plat_sample,\n",
    "                x=\"total_cost\", y=\"duration\",\n",
    "                color=\"brown\", line_kws={'label': \"slope : {0:.1f}x\".format(slope1)})\n",
    "    ax1.legend()\n",
    "    \n",
    "    axes[1].set_title(\"Challenger total_cost vs. duration linear regression\")\n",
    "    ax2 = sns.regplot(ax=axes[1] ,data=chal_sample,\n",
    "            x=\"total_cost\", y=\"duration\",\n",
    "            color=\"purple\", line_kws={'label': \"slope : {0:.1f}x \".format(slope2)})\n",
    "    ax2.legend()"
   ]
  },
  {
   "cell_type": "code",
   "execution_count": 38,
   "metadata": {},
   "outputs": [
    {
     "data": {
      "image/png": "[encoded data removed]",
      "text/plain": [
       "<Figure size 1080x504 with 2 Axes>"
      ]
     },
     "metadata": {
      "needs_background": "light"
     },
     "output_type": "display_data"
    }
   ],
   "source": [
    "plot_regplots()"
   ]
  },
  {
   "cell_type": "markdown",
   "metadata": {},
   "source": [
    "From observing both of our linear regressions we see that there is a stronger linear relationship between total_cost and game duration of plat players (slope of around 2.9) than challenger players (slope of around 2.2). This infers as the game duration increases:\n",
    "\n",
    "- plat players spend 1.32 times more gold every minute than challenger players\n",
    "- plat players spend 31.2% more gold every minute than challenger players\n",
    "\n",
    "\n",
    "# Summary\n",
    "\n",
    "In summary, we conducted EDA on three variables between two different datasets (plat vs. challenger games). namely\"\n",
    "- Total Team Composition Cost\n",
    "- Game Duration\n",
    "- Most Used Synergy\n",
    "\n",
    "With respect to **total team composition cost**, we found that:\n",
    "- plat players on average spend 96.89 gold, challenger players on average spend 94.42 gold (From mean / percentage calculation)\n",
    "- plat players on average spend 2.49 more gold than challenger players (From histogram / KDEs)\n",
    "- plat players spend 2.55% more gold than challenger player's (From histogram / KDEs)\n",
    "- calculated p_value from t-test (using 0.1 threshold) was 0.00135, marking signficance difference in both means (from calculated t-test)\n",
    "\n",
    "\n",
    "With respect to **game duration**, we found that:\n",
    "- plat players on average spend 36.06 minutes in game, challenger players on average spend 35.41 minutes in game (From mean / percentage calculation)\n",
    "- plat players on average spend 0.65 more minutes (about 39 seconds) in game than challenger players (From histogram / KDEs)\n",
    "- plat players spend 1.8% more time than challenger players in game (From histogram / KDEs)\n",
    "- calculated p_value from t-test (using 0.1 threshold) was 1.08e-14, marking signficance difference in both means from calculated t-test)\n",
    "\n",
    "With respect to **most used synergies**, we found that:\n",
    "- plat players have 20 unique synergies used while challenger players have 14 (much more variation in plat) (from countplot)\n",
    "- Top synergy in plat was \"blaster\" while the top synergy in challenger was \"cybernetic\" (from countplot)\n",
    "\n",
    "With respect to analyzing regressions between **game duration and total cost** between elos we found that:\n",
    "- plat players spend 1.32 times more gold every minute than challenger players\n",
    "- plat players spend 31.2% more gold every minute than challenger players\n",
    "\n",
    "\n",
    "Thus, we can conclude through extensive analysis on each of the three variables, that we in turn accept the null hypothesis in our prior assumptions\n",
    "and current intuition that the rank of a TFT player has an impact on how the game is played."
   ]
  },
  {
   "cell_type": "markdown",
   "metadata": {},
   "source": [
    "# Ethics & Privacy"
   ]
  },
  {
   "cell_type": "markdown",
   "metadata": {},
   "source": [
    "#### **Privacy**\n",
    "\n",
    "Each row in our dataset includes match data of an anonymous player, data such as in game ranking, team composition, match duration, matchmaking rating, and much more. The dataset does NOT include personal identifiable information; details such as player's username or email have been stripped from the dataset beforehand. Additionally, there are millions of TFT players at each rank, thus trying to identify a player's identity soley through match data is near to impossible. Regarding ownership, the game is owned by the company Riot Games, Inc. and the matches have been made publicly available through their developer API. Riot Games has the rights to the data and players have consented to this when registering for an account, so there is informed consent for data collection and analysis.\n",
    "\n",
    "#### **Ethics**\n",
    "\n",
    "The data could be used nefariously by people who tend to make \"bots\" or AI that automatically plays the game for them. Awareness of what yields a good victory could mean that it could be programmed into a bot's behavior.\n",
    "\n",
    "#### **Bias**\n",
    "\n",
    "The \"meta\" or the currently \"Most Effective Tactic Available\" is constantly evolving in a dynamic game like Teamfight Tactics. Developers of the game constantly tweak aspects of the match to make different items or champions more fair. The analysis we do currently might not generalize well to the future where drastic changes have been made to the game. In other words, our static data might bias our data towards a previous version of the game.\n",
    "\n",
    "Also, this data is collected from Korea exclusively. Different regions might have different strategies or play styles which change the data. The most popular strategies we find here are not definitive across all regions by any means.\n",
    "\n",
    "\n"
   ]
  },
  {
   "cell_type": "markdown",
   "metadata": {},
   "source": [
    "# Conclusion & Discussion"
   ]
  },
  {
   "cell_type": "markdown",
   "metadata": {},
   "source": [
    "We created this project with the intention of figuring out whether or not a player's ranking (specifically Platinum vs Challenger) in Team Fight Tactics affected their team composition costs, game duration, and most used synergies while playing. Since being a higher rank implies that a player is more experienced with the game, we believed that factors like total team composition costs and game duration would decrease as their ranking increased. Originally, we discussed whether we should only find if there was a relationship between the costs of a player's team composition and ranking, but in the end we decided to focus on more factors since our original idea was a bit lacking in scope.\n",
    "\n",
    "**Total Team Composition Costs**\n",
    "\n",
    "Through a calculation of the mean total costs for Diamond and Challenger players, we found that on average, Diamond players spend 96.86 gold per game while Challenger players spend 94.42 gold per game, a difference of 2.49 gold. In other words, Diamond players spend 2.55% more gold per game than Challenger players on average. This data is illustrated using histograms above. Calculating the T-test for these values revealed that this difference was indeed significant. \n",
    "\n",
    "We can then conclude that as team ranking increases, total team composition costs does indeed decrease as well.\n",
    "\n",
    "**Game Duration**\n",
    "\n",
    "Calculations for the mean game duration showed that Platinum players on average spend 36.06 minutes in game while Challenger players on average spend 35.41 minutes in game, a difference of 39 seconds. From our histograms and KDES, we found that Platinum players spend 1.8% more time in-game than Challenger players, and a T-test revealed that this difference was indeed significant.\n",
    "\n",
    "Thus we conclude that game duration does decrease as ranking increases.\n",
    "\n",
    "**Most Used Synergies**\n",
    "\n",
    "Our count plot shows that Platinum players have 20 unique synergies while Challenger players have 14. We have also found that Platinum players tend to play the \"blaster\" synergy, while Challenger players tend to play the \"cybernetic\" synergy.\n",
    "\n",
    "Thus, we can conclude that not only are synergies used differently in Platinum vs. Challenger games, but the variation of synergies is also different. Platinum players tend to experiment with different play styles in their games, while Challenger players tend to stick to a few play styles.\n",
    "\n",
    "**Relationship Between Game Duration and Total Cost**\n",
    "\n",
    "We createdscatterplots we can see that there is a similiar weak linear relationship of total costs vs. game duration. Using scatterplots and linear regressions, we found that Platinum players spend 1.32 times more gold every minute than Challenger players, or in other words 31.2% more gold.\n",
    "\n",
    "In the end, our analysis reveals that there are apparent differences in gamplay between Platinum ranked players and Challenger ranked players. Thus, we conclude that our hypothesis holds true.\n",
    "\n"
   ]
  },
  {
   "cell_type": "markdown",
   "metadata": {},
   "source": [
    "# Team Contributions"
   ]
  },
  {
   "cell_type": "markdown",
   "metadata": {},
   "source": [
    "- Jaden : Main Coder & Project Manager / assigning & delegating work\n",
    "- Jennifer: Coding / Code Reviewer / Data Cleaning / conclusion & discussion\n",
    "- Tony: Coding / Code Reviewer / Video / Slides / Project Context\n",
    "- Catherine: Coding / Privacy ethics research / Data cleaning / Overview section\n",
    "- Daphne: Domain Knowledge / Background & Context / Video / Slides"
   ]
  }
 ],
 "metadata": {
  "kernelspec": {
   "display_name": "Python 3 (ipykernel)",
   "language": "python",
   "name": "python3"
  },
  "language_info": {
   "codemirror_mode": {
    "name": "ipython",
    "version": 3
   },
   "file_extension": ".py",
   "mimetype": "text/x-python",
   "name": "python",
   "nbconvert_exporter": "python",
   "pygments_lexer": "ipython3",
   "version": "3.9.7"
  }
 },
 "nbformat": 4,
 "nbformat_minor": 2
}
