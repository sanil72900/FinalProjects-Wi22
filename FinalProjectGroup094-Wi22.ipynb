{
 "cells": [
  {
   "cell_type": "markdown",
   "metadata": {},
   "source": [
    "# COGS 108 Predicting mushroom edibility"
   ]
  },
  {
   "cell_type": "markdown",
   "metadata": {},
   "source": [
    "https://youtu.be/NyEHiLICmgE"
   ]
  },
  {
   "cell_type": "markdown",
   "metadata": {},
   "source": [
    "## Permissions\n",
    "\n",
    "Place an `X` in the appropriate bracket below to specify if you would like your group's project to be made available to the public. (Note that student names will be included (but PIDs will be scraped from any groups who include their PIDs).\n",
    "\n",
    "* [ x ] YES - make available\n",
    "* [  ] NO - keep private"
   ]
  },
  {
   "cell_type": "markdown",
   "metadata": {},
   "source": [
    "# Overview"
   ]
  },
  {
   "cell_type": "markdown",
   "metadata": {},
   "source": [
    "Here in this project, we are able to sucessfully predict mushroom edibility based on both unsupervised and supervised learning methods. Result suggest that supervised method has better performance, when using a decision tree, we are able to have almost 100% accuracy, suggesting a promising way to predict mushroom edibility."
   ]
  },
  {
   "cell_type": "markdown",
   "metadata": {},
   "source": [
    "# Names\n",
    "\n",
    "- Tianyi Bian\n",
    "- Xuhui Liu\n",
    "- Yijing Zhang"
   ]
  },
  {
   "cell_type": "markdown",
   "metadata": {},
   "source": [
    "<a id='research_question'></a>\n",
    "# Research Question"
   ]
  },
  {
   "cell_type": "markdown",
   "metadata": {},
   "source": [
    "Can we use machine learning algorithems to predict the edibility of mushrooms based on their physical attributes? Can we find which physcial attribute contribute the most to the edibility? The physical attributes include shapes, colors, types of cap, gill, stalk and so on."
   ]
  },
  {
   "cell_type": "markdown",
   "metadata": {},
   "source": [
    "<a id='background'></a>\n",
    "\n",
    "## Background & Prior Work"
   ]
  },
  {
   "cell_type": "markdown",
   "metadata": {},
   "source": [
    "Predicting whether a mushroom is edible is a very interesting and meaningful question. When people are in food shortage or are hiking, mushrooms are an important and delicious food resource. However, some mushrooms are poisonous and very dangerous. We need to figure out a way to find out what mushrooms are edible.\n",
    "\n",
    "\n",
    "1）K-Means Clustering vs. Logistic Regression\n",
    "The first project focus on comparing two methods on predicting whether the mushroom is edible. This project is interesting because it compares supervised and unsupervised leaning in the binary prediction case. Besides, since both method is usually used for quantitative data, but the mushroom characters are almost all categorical data, how they address the problem is also very important.\n",
    "\n",
    "2) Classification (Tensorflow) and Feature Selection\n",
    "The second project focus on the feature selection, which is an important part of our project. Since there are around 22 columns in our dataset, after we do something like one-hot encoding, the number of columns will continue increase, we need to find out a way to reduce the number of feature and figure out the most important feature. So, we need to find a best way to do feature selection. This project uses Chi-Squared Feature Selection which is interesting. We need to refer to that. \n",
    "\n",
    "\n",
    "References (include links):\n",
    "- 1) https://www.kaggle.com/minc33/k-means-clustering-vs-logistic-regression\n",
    "- 2) https://www.kaggle.com/jl18pg052/classification-tensorflow-and-feature-selection"
   ]
  },
  {
   "cell_type": "markdown",
   "metadata": {},
   "source": [
    "# Hypothesis"
   ]
  },
  {
   "cell_type": "markdown",
   "metadata": {},
   "source": [
    "In our study, we hypothesize that there is indeed a relationship between the poison of the mushroom and its cap color, since there is an old saying that says we cannot eat the colored mushroom since they are all poisonous. Stalk-shape and cap shape can also be important features of mushroom since many hikers and travelers judge whether the mushroom is edible by their shapes. \n"
   ]
  },
  {
   "cell_type": "markdown",
   "metadata": {},
   "source": [
    "# Dataset(s)"
   ]
  },
  {
   "cell_type": "markdown",
   "metadata": {},
   "source": [
    "*Fill in your dataset information here*\n",
    "\n",
    "(Copy this information for each dataset)\n",
    "- Dataset Name:\n",
    "- Link to the dataset:\n",
    "- Number of observations:\n",
    "\n",
    "1-2 sentences describing each dataset. \n",
    "\n",
    "If you plan to use multiple datasets, add 1-2 sentences about how you plan to combine these datasets."
   ]
  },
  {
   "cell_type": "markdown",
   "metadata": {},
   "source": [
    "We are going to use a dataset called mushroom.csv, which can be found on a Kaggle project. This dataset includes 23 different features about a mushroom, which includes cap-shape, cap-surface, cap-color, and other features. There are a total of 8125 observations in this dataset. These data are stored in a csv file, which is easy for us to import in notebook and analyze with pandas.\n",
    "link:https://www.kaggle.com/uciml/mushroom-classification"
   ]
  },
  {
   "cell_type": "markdown",
   "metadata": {},
   "source": [
    "# Setup"
   ]
  },
  {
   "cell_type": "code",
   "execution_count": 57,
   "metadata": {},
   "outputs": [],
   "source": [
    "import numpy as np\n",
    "import pandas as pd\n",
    "from IPython.display import Image\n",
    "import seaborn as sns\n",
    "import matplotlib.pyplot as plt\n",
    "from scipy.stats import chi2_contingency\n",
    "from sklearn.metrics import *\n",
    "from sklearn.model_selection import train_test_split\n",
    "from sklearn.tree import DecisionTreeClassifier\n",
    "from sklearn.preprocessing import OneHotEncoder\n",
    "from sklearn.ensemble import RandomForestClassifier"
   ]
  },
  {
   "cell_type": "markdown",
   "metadata": {},
   "source": [
    "# Data Cleaning"
   ]
  },
  {
   "cell_type": "markdown",
   "metadata": {},
   "source": [
    "## 1. Import the Dataset"
   ]
  },
  {
   "cell_type": "code",
   "execution_count": 5,
   "metadata": {},
   "outputs": [],
   "source": [
    "# let pandas display max columns\n",
    "pd.set_option('display.max_columns', None)"
   ]
  },
  {
   "cell_type": "code",
   "execution_count": 6,
   "metadata": {},
   "outputs": [
    {
     "data": {
      "text/html": [
       "<div>\n",
       "<style scoped>\n",
       "    .dataframe tbody tr th:only-of-type {\n",
       "        vertical-align: middle;\n",
       "    }\n",
       "\n",
       "    .dataframe tbody tr th {\n",
       "        vertical-align: top;\n",
       "    }\n",
       "\n",
       "    .dataframe thead th {\n",
       "        text-align: right;\n",
       "    }\n",
       "</style>\n",
       "<table border=\"1\" class=\"dataframe\">\n",
       "  <thead>\n",
       "    <tr style=\"text-align: right;\">\n",
       "      <th></th>\n",
       "      <th>class</th>\n",
       "      <th>cap-shape</th>\n",
       "      <th>cap-surface</th>\n",
       "      <th>cap-color</th>\n",
       "      <th>bruises</th>\n",
       "      <th>odor</th>\n",
       "      <th>gill-attachment</th>\n",
       "      <th>gill-spacing</th>\n",
       "      <th>gill-size</th>\n",
       "      <th>gill-color</th>\n",
       "      <th>stalk-shape</th>\n",
       "      <th>stalk-root</th>\n",
       "      <th>stalk-surface-above-ring</th>\n",
       "      <th>stalk-surface-below-ring</th>\n",
       "      <th>stalk-color-above-ring</th>\n",
       "      <th>stalk-color-below-ring</th>\n",
       "      <th>veil-type</th>\n",
       "      <th>veil-color</th>\n",
       "      <th>ring-number</th>\n",
       "      <th>ring-type</th>\n",
       "      <th>spore-print-color</th>\n",
       "      <th>population</th>\n",
       "      <th>habitat</th>\n",
       "    </tr>\n",
       "  </thead>\n",
       "  <tbody>\n",
       "    <tr>\n",
       "      <th>0</th>\n",
       "      <td>p</td>\n",
       "      <td>x</td>\n",
       "      <td>s</td>\n",
       "      <td>n</td>\n",
       "      <td>t</td>\n",
       "      <td>p</td>\n",
       "      <td>f</td>\n",
       "      <td>c</td>\n",
       "      <td>n</td>\n",
       "      <td>k</td>\n",
       "      <td>e</td>\n",
       "      <td>e</td>\n",
       "      <td>s</td>\n",
       "      <td>s</td>\n",
       "      <td>w</td>\n",
       "      <td>w</td>\n",
       "      <td>p</td>\n",
       "      <td>w</td>\n",
       "      <td>o</td>\n",
       "      <td>p</td>\n",
       "      <td>k</td>\n",
       "      <td>s</td>\n",
       "      <td>u</td>\n",
       "    </tr>\n",
       "    <tr>\n",
       "      <th>1</th>\n",
       "      <td>e</td>\n",
       "      <td>x</td>\n",
       "      <td>s</td>\n",
       "      <td>y</td>\n",
       "      <td>t</td>\n",
       "      <td>a</td>\n",
       "      <td>f</td>\n",
       "      <td>c</td>\n",
       "      <td>b</td>\n",
       "      <td>k</td>\n",
       "      <td>e</td>\n",
       "      <td>c</td>\n",
       "      <td>s</td>\n",
       "      <td>s</td>\n",
       "      <td>w</td>\n",
       "      <td>w</td>\n",
       "      <td>p</td>\n",
       "      <td>w</td>\n",
       "      <td>o</td>\n",
       "      <td>p</td>\n",
       "      <td>n</td>\n",
       "      <td>n</td>\n",
       "      <td>g</td>\n",
       "    </tr>\n",
       "    <tr>\n",
       "      <th>2</th>\n",
       "      <td>e</td>\n",
       "      <td>b</td>\n",
       "      <td>s</td>\n",
       "      <td>w</td>\n",
       "      <td>t</td>\n",
       "      <td>l</td>\n",
       "      <td>f</td>\n",
       "      <td>c</td>\n",
       "      <td>b</td>\n",
       "      <td>n</td>\n",
       "      <td>e</td>\n",
       "      <td>c</td>\n",
       "      <td>s</td>\n",
       "      <td>s</td>\n",
       "      <td>w</td>\n",
       "      <td>w</td>\n",
       "      <td>p</td>\n",
       "      <td>w</td>\n",
       "      <td>o</td>\n",
       "      <td>p</td>\n",
       "      <td>n</td>\n",
       "      <td>n</td>\n",
       "      <td>m</td>\n",
       "    </tr>\n",
       "    <tr>\n",
       "      <th>3</th>\n",
       "      <td>p</td>\n",
       "      <td>x</td>\n",
       "      <td>y</td>\n",
       "      <td>w</td>\n",
       "      <td>t</td>\n",
       "      <td>p</td>\n",
       "      <td>f</td>\n",
       "      <td>c</td>\n",
       "      <td>n</td>\n",
       "      <td>n</td>\n",
       "      <td>e</td>\n",
       "      <td>e</td>\n",
       "      <td>s</td>\n",
       "      <td>s</td>\n",
       "      <td>w</td>\n",
       "      <td>w</td>\n",
       "      <td>p</td>\n",
       "      <td>w</td>\n",
       "      <td>o</td>\n",
       "      <td>p</td>\n",
       "      <td>k</td>\n",
       "      <td>s</td>\n",
       "      <td>u</td>\n",
       "    </tr>\n",
       "    <tr>\n",
       "      <th>4</th>\n",
       "      <td>e</td>\n",
       "      <td>x</td>\n",
       "      <td>s</td>\n",
       "      <td>g</td>\n",
       "      <td>f</td>\n",
       "      <td>n</td>\n",
       "      <td>f</td>\n",
       "      <td>w</td>\n",
       "      <td>b</td>\n",
       "      <td>k</td>\n",
       "      <td>t</td>\n",
       "      <td>e</td>\n",
       "      <td>s</td>\n",
       "      <td>s</td>\n",
       "      <td>w</td>\n",
       "      <td>w</td>\n",
       "      <td>p</td>\n",
       "      <td>w</td>\n",
       "      <td>o</td>\n",
       "      <td>e</td>\n",
       "      <td>n</td>\n",
       "      <td>a</td>\n",
       "      <td>g</td>\n",
       "    </tr>\n",
       "  </tbody>\n",
       "</table>\n",
       "</div>"
      ],
      "text/plain": [
       "  class cap-shape cap-surface cap-color bruises odor gill-attachment  \\\n",
       "0     p         x           s         n       t    p               f   \n",
       "1     e         x           s         y       t    a               f   \n",
       "2     e         b           s         w       t    l               f   \n",
       "3     p         x           y         w       t    p               f   \n",
       "4     e         x           s         g       f    n               f   \n",
       "\n",
       "  gill-spacing gill-size gill-color stalk-shape stalk-root  \\\n",
       "0            c         n          k           e          e   \n",
       "1            c         b          k           e          c   \n",
       "2            c         b          n           e          c   \n",
       "3            c         n          n           e          e   \n",
       "4            w         b          k           t          e   \n",
       "\n",
       "  stalk-surface-above-ring stalk-surface-below-ring stalk-color-above-ring  \\\n",
       "0                        s                        s                      w   \n",
       "1                        s                        s                      w   \n",
       "2                        s                        s                      w   \n",
       "3                        s                        s                      w   \n",
       "4                        s                        s                      w   \n",
       "\n",
       "  stalk-color-below-ring veil-type veil-color ring-number ring-type  \\\n",
       "0                      w         p          w           o         p   \n",
       "1                      w         p          w           o         p   \n",
       "2                      w         p          w           o         p   \n",
       "3                      w         p          w           o         p   \n",
       "4                      w         p          w           o         e   \n",
       "\n",
       "  spore-print-color population habitat  \n",
       "0                 k          s       u  \n",
       "1                 n          n       g  \n",
       "2                 n          n       m  \n",
       "3                 k          s       u  \n",
       "4                 n          a       g  "
      ]
     },
     "execution_count": 6,
     "metadata": {},
     "output_type": "execute_result"
    }
   ],
   "source": [
    "# first read the csv and look at it\n",
    "mushroom_df = pd.read_csv(\"mushrooms.csv\")\n",
    "mushroom_df.head()"
   ]
  },
  {
   "cell_type": "markdown",
   "metadata": {},
   "source": [
    "## 2. Feature Interpretation"
   ]
  },
  {
   "cell_type": "code",
   "execution_count": 7,
   "metadata": {},
   "outputs": [
    {
     "data": {
      "text/plain": [
       "Index(['class', 'cap-shape', 'cap-surface', 'cap-color', 'bruises', 'odor',\n",
       "       'gill-attachment', 'gill-spacing', 'gill-size', 'gill-color',\n",
       "       'stalk-shape', 'stalk-root', 'stalk-surface-above-ring',\n",
       "       'stalk-surface-below-ring', 'stalk-color-above-ring',\n",
       "       'stalk-color-below-ring', 'veil-type', 'veil-color', 'ring-number',\n",
       "       'ring-type', 'spore-print-color', 'population', 'habitat'],\n",
       "      dtype='object')"
      ]
     },
     "execution_count": 7,
     "metadata": {},
     "output_type": "execute_result"
    }
   ],
   "source": [
    "# We need to understand the meaning of each feature\n",
    "mushroom_df.columns"
   ]
  },
  {
   "cell_type": "markdown",
   "metadata": {},
   "source": [
    "### Attribute Information: (classes: edible=e, poisonous=p)\n",
    "Here is a picture of structure of mushroom\n",
    "<img src=\"pictures/mushroomglossary.jpg\" />\n",
    "<img src=\"pictures/mushroom-structure.jpg\" />\n",
    "\n",
    "#### cap-shape: bell=b,conical=c,convex=x,flat=f, knobbed=k,sunken=s\n",
    "![Mushroom cap shape](pictures/mushroom-cap-shape.jpg)\n",
    "\n",
    "#### cap-surface: fibrous=f,grooves=g,scaly=y,smooth=s\n",
    "![Mushroom cap surface](pictures/mushroom-cap-surface.jpg)\n",
    "\n",
    "#### cap-color: brown=n,buff=b,cinnamon=c,gray=g,green=r,pink=p,purple=u,red=e,white=w,yellow=y\n",
    "color is encoded by the keys above.\n",
    "\n",
    "#### bruises: bruises=t,no=f\n",
    "example of mushroom bruises <br>\n",
    "![Mushroom bruises](pictures/mushroom-bruise.jpg)\n",
    "\n",
    "#### odor: almond=a,anise=l,creosote=c,fishy=y,foul=f,musty=m,none=n,pungent=p,spicy=s\n",
    "odor is encoded by the list above and the features are described.\n",
    "\n",
    "#### gill-attachment: attached=a,descending=d,free=f,notched=n\n",
    "![Mushroom gill_attachment](pictures/mushroom-gill-attachment.jpg)\n",
    "\n",
    "#### gill-spacing: close=c,crowded=w,distant=d\n",
    "![Mushroom gill_spacing](pictures/mushroom-gill-spacing.jpg)\n",
    "\n",
    "#### gill-size: broad=b,narrow=n\n",
    "size of gill is encoded by the keys above.\n",
    "\n",
    "#### gill-color: black=k,brown=n,buff=b,chocolate=h,gray=g, green=r,orange=o,pink=p,purple=u,red=e,white=w,yellow=y\n",
    "gill color is encoded in a slightly different manner(more colors included) than cap color but the keys are provided.\n",
    "#### stalk-shape: enlarging=e,tapering=t\n",
    "![Mushroom stalk_shape](pictures/mushroom-stalk-shape.jpg)\n",
    "\n",
    "#### stalk-root: bulbous=b,club=c,cup=u,equal=e,rhizomorphs=z,rooted=r,missing=?\n",
    "![Mushroom stalk_root](pictures/mushroom-stalk-root.jpg)\n",
    "\n",
    "#### stalk-surface-above-ring: fibrous=f,scaly=y,silky=k,smooth=s\n",
    "Surface type is illustrated in the former part and the location of the surface above the ring is also illustrated in the second picture\n",
    "\n",
    "#### stalk-surface-below-ring: fibrous=f,scaly=y,silky=k,smooth=s\n",
    "Surface type is illustrated in the former part and the location of the surface below the ring is also illustrated in the second picture\n",
    "\n",
    "#### stalk-color-above-ring: brown=n,buff=b,cinnamon=c,gray=g,orange=o,pink=p,red=e,white=w,yellow=y\n",
    "color is encoded by the keys above.\n",
    "#### stalk-color-below-ring: brown=n,buff=b,cinnamon=c,gray=g,orange=o,pink=p,red=e,white=w,yellow=y\n",
    "color is encoded by the keys above.\n",
    "#### veil-type: partial=p,universal=u\n",
    "![Mushroom veils](pictures/mushroom-veils.jpg)\n",
    "![Mushroom veils_type](pictures/mushroom-veil-type.jpg)\n",
    "\n",
    "#### veil-color: brown=n,orange=o,white=w,yellow=y\n",
    "color is encoded by the keys above.\n",
    "\n",
    "#### ring-number: none=n,one=o,two=t\n",
    "color is encoded by the keys above. In our data cleaning step, the ring number are converted to integers.\n",
    "\n",
    "#### ring-type: cobwebby=c,evanescent=e,flaring=f,large=l,none=n,pendant=p,sheathing=s,zone=z\n",
    "![Mushroom ring_type](pictures/mushroom-ring-type.jpg)\n",
    "\n",
    "#### spore-print-color: black=k,brown=n,buff=b,chocolate=h,green=r,orange=o,purple=u,white=w,yellow=y\n",
    "![Mushroom spore_print](pictures/mushroom-spore-print.jpg)\n",
    "\n",
    "#### population: abundant=a,clustered=c,numerous=n,scattered=s,several=v,solitary=y\n",
    "population describes how the mushrooms are clustered\n",
    "\n",
    "#### habitat: grasses=g,leaves=l,meadows=m,paths=p,urban=u,waste=w,woods=d\n",
    "habitat describes where the mushrooms live."
   ]
  },
  {
   "cell_type": "markdown",
   "metadata": {},
   "source": [
    "## 3. Data Type of the features"
   ]
  },
  {
   "cell_type": "code",
   "execution_count": 8,
   "metadata": {},
   "outputs": [
    {
     "data": {
      "text/plain": [
       "class                       object\n",
       "cap-shape                   object\n",
       "cap-surface                 object\n",
       "cap-color                   object\n",
       "bruises                     object\n",
       "odor                        object\n",
       "gill-attachment             object\n",
       "gill-spacing                object\n",
       "gill-size                   object\n",
       "gill-color                  object\n",
       "stalk-shape                 object\n",
       "stalk-root                  object\n",
       "stalk-surface-above-ring    object\n",
       "stalk-surface-below-ring    object\n",
       "stalk-color-above-ring      object\n",
       "stalk-color-below-ring      object\n",
       "veil-type                   object\n",
       "veil-color                  object\n",
       "ring-number                 object\n",
       "ring-type                   object\n",
       "spore-print-color           object\n",
       "population                  object\n",
       "habitat                     object\n",
       "dtype: object"
      ]
     },
     "execution_count": 8,
     "metadata": {},
     "output_type": "execute_result"
    }
   ],
   "source": [
    "mushroom_df.dtypes"
   ]
  },
  {
   "cell_type": "markdown",
   "metadata": {},
   "source": [
    "They are all string type. Let's determine the type of each varible."
   ]
  },
  {
   "cell_type": "markdown",
   "metadata": {},
   "source": [
    "| Varibles | Type |\n",
    "| --- | --- |\n",
    "|class |                      binary |\n",
    "|cap-shape  |                 nominal |\n",
    "|cap-surface  |             nominal |\n",
    "|cap-color|                   nominal |\n",
    "|bruises  |                   binary|\n",
    "|odor      |                  nominal|\n",
    "|gill-attachment|             nominal|\n",
    "|gill-spacing |               nominal|\n",
    "|gill-size|                   nominal|\n",
    "|gill-color|                  nominal|\n",
    "|stalk-shape|                 nominal|\n",
    "|stalk-root|                  nominal|\n",
    "|stalk-surface-above-ring|    nominal|\n",
    "|stalk-surface-below-ring|    nominal|\n",
    "|stalk-color-above-ring|      nominal|\n",
    "|stalk-color-below-ring|      nominal|\n",
    "|veil-type|                   nominal|\n",
    "|veil-color|                  nominal|\n",
    "|ring-number|                 ordinal|\n",
    "|ring-type|                   nominal|\n",
    "|spore-print-color|           nominal|\n",
    "|population|                  nominal|\n",
    "|habitat|                   nominal|"
   ]
  },
  {
   "cell_type": "markdown",
   "metadata": {},
   "source": [
    "We are fine with nominal data. So, we only need to do binary encoding to _class_ and _bruises_ and do ordinal encoding to _ring-number_."
   ]
  },
  {
   "cell_type": "code",
   "execution_count": 9,
   "metadata": {},
   "outputs": [],
   "source": [
    "# We convert poisonous to 0 and edible to 1\n",
    "mushroom_df[\"class\"] = mushroom_df[\"class\"].replace({\"p\":0, \"e\":1})"
   ]
  },
  {
   "cell_type": "code",
   "execution_count": 10,
   "metadata": {},
   "outputs": [],
   "source": [
    "# We convert bruises to 1 and no bruises to 0\n",
    "mushroom_df[\"bruises\"] = mushroom_df[\"bruises\"].replace({\"f\":0, \"t\":1})"
   ]
  },
  {
   "cell_type": "code",
   "execution_count": 11,
   "metadata": {},
   "outputs": [],
   "source": [
    "# We ordinal encoding ring number\n",
    "mushroom_df[\"ring-number\"] = mushroom_df[\"ring-number\"].replace({\"n\":0, \"o\":1, \"t\":2})"
   ]
  },
  {
   "cell_type": "code",
   "execution_count": 12,
   "metadata": {},
   "outputs": [
    {
     "data": {
      "text/html": [
       "<div>\n",
       "<style scoped>\n",
       "    .dataframe tbody tr th:only-of-type {\n",
       "        vertical-align: middle;\n",
       "    }\n",
       "\n",
       "    .dataframe tbody tr th {\n",
       "        vertical-align: top;\n",
       "    }\n",
       "\n",
       "    .dataframe thead th {\n",
       "        text-align: right;\n",
       "    }\n",
       "</style>\n",
       "<table border=\"1\" class=\"dataframe\">\n",
       "  <thead>\n",
       "    <tr style=\"text-align: right;\">\n",
       "      <th></th>\n",
       "      <th>class</th>\n",
       "      <th>cap-shape</th>\n",
       "      <th>cap-surface</th>\n",
       "      <th>cap-color</th>\n",
       "      <th>bruises</th>\n",
       "      <th>odor</th>\n",
       "      <th>gill-attachment</th>\n",
       "      <th>gill-spacing</th>\n",
       "      <th>gill-size</th>\n",
       "      <th>gill-color</th>\n",
       "      <th>stalk-shape</th>\n",
       "      <th>stalk-root</th>\n",
       "      <th>stalk-surface-above-ring</th>\n",
       "      <th>stalk-surface-below-ring</th>\n",
       "      <th>stalk-color-above-ring</th>\n",
       "      <th>stalk-color-below-ring</th>\n",
       "      <th>veil-type</th>\n",
       "      <th>veil-color</th>\n",
       "      <th>ring-number</th>\n",
       "      <th>ring-type</th>\n",
       "      <th>spore-print-color</th>\n",
       "      <th>population</th>\n",
       "      <th>habitat</th>\n",
       "    </tr>\n",
       "  </thead>\n",
       "  <tbody>\n",
       "    <tr>\n",
       "      <th>0</th>\n",
       "      <td>0</td>\n",
       "      <td>x</td>\n",
       "      <td>s</td>\n",
       "      <td>n</td>\n",
       "      <td>1</td>\n",
       "      <td>p</td>\n",
       "      <td>f</td>\n",
       "      <td>c</td>\n",
       "      <td>n</td>\n",
       "      <td>k</td>\n",
       "      <td>e</td>\n",
       "      <td>e</td>\n",
       "      <td>s</td>\n",
       "      <td>s</td>\n",
       "      <td>w</td>\n",
       "      <td>w</td>\n",
       "      <td>p</td>\n",
       "      <td>w</td>\n",
       "      <td>1</td>\n",
       "      <td>p</td>\n",
       "      <td>k</td>\n",
       "      <td>s</td>\n",
       "      <td>u</td>\n",
       "    </tr>\n",
       "    <tr>\n",
       "      <th>1</th>\n",
       "      <td>1</td>\n",
       "      <td>x</td>\n",
       "      <td>s</td>\n",
       "      <td>y</td>\n",
       "      <td>1</td>\n",
       "      <td>a</td>\n",
       "      <td>f</td>\n",
       "      <td>c</td>\n",
       "      <td>b</td>\n",
       "      <td>k</td>\n",
       "      <td>e</td>\n",
       "      <td>c</td>\n",
       "      <td>s</td>\n",
       "      <td>s</td>\n",
       "      <td>w</td>\n",
       "      <td>w</td>\n",
       "      <td>p</td>\n",
       "      <td>w</td>\n",
       "      <td>1</td>\n",
       "      <td>p</td>\n",
       "      <td>n</td>\n",
       "      <td>n</td>\n",
       "      <td>g</td>\n",
       "    </tr>\n",
       "    <tr>\n",
       "      <th>2</th>\n",
       "      <td>1</td>\n",
       "      <td>b</td>\n",
       "      <td>s</td>\n",
       "      <td>w</td>\n",
       "      <td>1</td>\n",
       "      <td>l</td>\n",
       "      <td>f</td>\n",
       "      <td>c</td>\n",
       "      <td>b</td>\n",
       "      <td>n</td>\n",
       "      <td>e</td>\n",
       "      <td>c</td>\n",
       "      <td>s</td>\n",
       "      <td>s</td>\n",
       "      <td>w</td>\n",
       "      <td>w</td>\n",
       "      <td>p</td>\n",
       "      <td>w</td>\n",
       "      <td>1</td>\n",
       "      <td>p</td>\n",
       "      <td>n</td>\n",
       "      <td>n</td>\n",
       "      <td>m</td>\n",
       "    </tr>\n",
       "    <tr>\n",
       "      <th>3</th>\n",
       "      <td>0</td>\n",
       "      <td>x</td>\n",
       "      <td>y</td>\n",
       "      <td>w</td>\n",
       "      <td>1</td>\n",
       "      <td>p</td>\n",
       "      <td>f</td>\n",
       "      <td>c</td>\n",
       "      <td>n</td>\n",
       "      <td>n</td>\n",
       "      <td>e</td>\n",
       "      <td>e</td>\n",
       "      <td>s</td>\n",
       "      <td>s</td>\n",
       "      <td>w</td>\n",
       "      <td>w</td>\n",
       "      <td>p</td>\n",
       "      <td>w</td>\n",
       "      <td>1</td>\n",
       "      <td>p</td>\n",
       "      <td>k</td>\n",
       "      <td>s</td>\n",
       "      <td>u</td>\n",
       "    </tr>\n",
       "    <tr>\n",
       "      <th>4</th>\n",
       "      <td>1</td>\n",
       "      <td>x</td>\n",
       "      <td>s</td>\n",
       "      <td>g</td>\n",
       "      <td>0</td>\n",
       "      <td>n</td>\n",
       "      <td>f</td>\n",
       "      <td>w</td>\n",
       "      <td>b</td>\n",
       "      <td>k</td>\n",
       "      <td>t</td>\n",
       "      <td>e</td>\n",
       "      <td>s</td>\n",
       "      <td>s</td>\n",
       "      <td>w</td>\n",
       "      <td>w</td>\n",
       "      <td>p</td>\n",
       "      <td>w</td>\n",
       "      <td>1</td>\n",
       "      <td>e</td>\n",
       "      <td>n</td>\n",
       "      <td>a</td>\n",
       "      <td>g</td>\n",
       "    </tr>\n",
       "  </tbody>\n",
       "</table>\n",
       "</div>"
      ],
      "text/plain": [
       "   class cap-shape cap-surface cap-color  bruises odor gill-attachment  \\\n",
       "0      0         x           s         n        1    p               f   \n",
       "1      1         x           s         y        1    a               f   \n",
       "2      1         b           s         w        1    l               f   \n",
       "3      0         x           y         w        1    p               f   \n",
       "4      1         x           s         g        0    n               f   \n",
       "\n",
       "  gill-spacing gill-size gill-color stalk-shape stalk-root  \\\n",
       "0            c         n          k           e          e   \n",
       "1            c         b          k           e          c   \n",
       "2            c         b          n           e          c   \n",
       "3            c         n          n           e          e   \n",
       "4            w         b          k           t          e   \n",
       "\n",
       "  stalk-surface-above-ring stalk-surface-below-ring stalk-color-above-ring  \\\n",
       "0                        s                        s                      w   \n",
       "1                        s                        s                      w   \n",
       "2                        s                        s                      w   \n",
       "3                        s                        s                      w   \n",
       "4                        s                        s                      w   \n",
       "\n",
       "  stalk-color-below-ring veil-type veil-color  ring-number ring-type  \\\n",
       "0                      w         p          w            1         p   \n",
       "1                      w         p          w            1         p   \n",
       "2                      w         p          w            1         p   \n",
       "3                      w         p          w            1         p   \n",
       "4                      w         p          w            1         e   \n",
       "\n",
       "  spore-print-color population habitat  \n",
       "0                 k          s       u  \n",
       "1                 n          n       g  \n",
       "2                 n          n       m  \n",
       "3                 k          s       u  \n",
       "4                 n          a       g  "
      ]
     },
     "execution_count": 12,
     "metadata": {},
     "output_type": "execute_result"
    }
   ],
   "source": [
    "# look at the data again\n",
    "mushroom_df.head()"
   ]
  },
  {
   "cell_type": "markdown",
   "metadata": {},
   "source": [
    "## 4. Look at Missing value"
   ]
  },
  {
   "cell_type": "code",
   "execution_count": 13,
   "metadata": {},
   "outputs": [
    {
     "data": {
      "text/plain": [
       "class                       0\n",
       "cap-shape                   0\n",
       "cap-surface                 0\n",
       "cap-color                   0\n",
       "bruises                     0\n",
       "odor                        0\n",
       "gill-attachment             0\n",
       "gill-spacing                0\n",
       "gill-size                   0\n",
       "gill-color                  0\n",
       "stalk-shape                 0\n",
       "stalk-root                  0\n",
       "stalk-surface-above-ring    0\n",
       "stalk-surface-below-ring    0\n",
       "stalk-color-above-ring      0\n",
       "stalk-color-below-ring      0\n",
       "veil-type                   0\n",
       "veil-color                  0\n",
       "ring-number                 0\n",
       "ring-type                   0\n",
       "spore-print-color           0\n",
       "population                  0\n",
       "habitat                     0\n",
       "dtype: int64"
      ]
     },
     "execution_count": 13,
     "metadata": {},
     "output_type": "execute_result"
    }
   ],
   "source": [
    "# Check number of missing value in each column\n",
    "pd.isnull(mushroom_df).sum(axis = 0)"
   ]
  },
  {
   "cell_type": "markdown",
   "metadata": {},
   "source": [
    "Good! We don't have any missing value"
   ]
  },
  {
   "cell_type": "markdown",
   "metadata": {},
   "source": [
    "## 5. Potential problem about the data"
   ]
  },
  {
   "cell_type": "markdown",
   "metadata": {},
   "source": [
    "We notice that _ring-number_ may be 0. If the mushroom doesn't have a ring, what will be the ring type of the mushroom. Let's look at it. "
   ]
  },
  {
   "cell_type": "code",
   "execution_count": 14,
   "metadata": {},
   "outputs": [
    {
     "data": {
      "text/plain": [
       "n    36\n",
       "Name: ring-type, dtype: int64"
      ]
     },
     "execution_count": 14,
     "metadata": {},
     "output_type": "execute_result"
    }
   ],
   "source": [
    "mushroom_df[mushroom_df[\"ring-number\"] == 0][\"ring-type\"].value_counts()"
   ]
  },
  {
   "cell_type": "markdown",
   "metadata": {},
   "source": [
    "They are all none, which is very consistent. So, it is not a problem. However, we should still be careful here if we want to develop a regression model because it implies perfect colinearity."
   ]
  },
  {
   "cell_type": "markdown",
   "metadata": {},
   "source": [
    "Another possiblely inconsistence in the dataset may be the _stalk-color-above-ring_ and _stalk-color-below-ring_. Let's check whether they are consistent if the _ring-number_ is zero."
   ]
  },
  {
   "cell_type": "code",
   "execution_count": 15,
   "metadata": {},
   "outputs": [
    {
     "data": {
      "text/plain": [
       "True"
      ]
     },
     "execution_count": 15,
     "metadata": {},
     "output_type": "execute_result"
    }
   ],
   "source": [
    "df = mushroom_df[mushroom_df[\"ring-number\"] == 0]\n",
    "(df[\"stalk-color-above-ring\"] == df[\"stalk-color-below-ring\"]).all()"
   ]
  },
  {
   "cell_type": "code",
   "execution_count": 16,
   "metadata": {},
   "outputs": [
    {
     "data": {
      "text/plain": [
       "c    36\n",
       "Name: stalk-color-above-ring, dtype: int64"
      ]
     },
     "execution_count": 16,
     "metadata": {},
     "output_type": "execute_result"
    }
   ],
   "source": [
    "df[\"stalk-color-above-ring\"].value_counts()"
   ]
  },
  {
   "cell_type": "markdown",
   "metadata": {},
   "source": [
    "We showed that they are consistent, but a key point to notice is that all mushrooms without rings have cinnamon color which is another perfect colinearity."
   ]
  },
  {
   "cell_type": "markdown",
   "metadata": {},
   "source": [
    "We do similar test to _stalk-surface-above-ring_ and _stalk-surface-below-ring_."
   ]
  },
  {
   "cell_type": "code",
   "execution_count": 17,
   "metadata": {},
   "outputs": [
    {
     "data": {
      "text/plain": [
       "False"
      ]
     },
     "execution_count": 17,
     "metadata": {},
     "output_type": "execute_result"
    }
   ],
   "source": [
    "(df[\"stalk-surface-above-ring\"] == df[\"stalk-surface-below-ring\"]).all()"
   ]
  },
  {
   "cell_type": "code",
   "execution_count": 18,
   "metadata": {},
   "outputs": [
    {
     "data": {
      "text/html": [
       "<div>\n",
       "<style scoped>\n",
       "    .dataframe tbody tr th:only-of-type {\n",
       "        vertical-align: middle;\n",
       "    }\n",
       "\n",
       "    .dataframe tbody tr th {\n",
       "        vertical-align: top;\n",
       "    }\n",
       "\n",
       "    .dataframe thead th {\n",
       "        text-align: right;\n",
       "    }\n",
       "</style>\n",
       "<table border=\"1\" class=\"dataframe\">\n",
       "  <thead>\n",
       "    <tr style=\"text-align: right;\">\n",
       "      <th></th>\n",
       "      <th>stalk-surface-above-ring</th>\n",
       "      <th>stalk-surface-below-ring</th>\n",
       "      <th>ring-number</th>\n",
       "    </tr>\n",
       "  </thead>\n",
       "  <tbody>\n",
       "    <tr>\n",
       "      <th>6415</th>\n",
       "      <td>k</td>\n",
       "      <td>y</td>\n",
       "      <td>0</td>\n",
       "    </tr>\n",
       "    <tr>\n",
       "      <th>6668</th>\n",
       "      <td>k</td>\n",
       "      <td>y</td>\n",
       "      <td>0</td>\n",
       "    </tr>\n",
       "    <tr>\n",
       "      <th>6855</th>\n",
       "      <td>k</td>\n",
       "      <td>y</td>\n",
       "      <td>0</td>\n",
       "    </tr>\n",
       "    <tr>\n",
       "      <th>6945</th>\n",
       "      <td>k</td>\n",
       "      <td>y</td>\n",
       "      <td>0</td>\n",
       "    </tr>\n",
       "    <tr>\n",
       "      <th>6991</th>\n",
       "      <td>k</td>\n",
       "      <td>y</td>\n",
       "      <td>0</td>\n",
       "    </tr>\n",
       "  </tbody>\n",
       "</table>\n",
       "</div>"
      ],
      "text/plain": [
       "     stalk-surface-above-ring stalk-surface-below-ring  ring-number\n",
       "6415                        k                        y            0\n",
       "6668                        k                        y            0\n",
       "6855                        k                        y            0\n",
       "6945                        k                        y            0\n",
       "6991                        k                        y            0"
      ]
     },
     "execution_count": 18,
     "metadata": {},
     "output_type": "execute_result"
    }
   ],
   "source": [
    "df[[\"stalk-surface-above-ring\", \"stalk-surface-below-ring\", \"ring-number\"]].head()"
   ]
  },
  {
   "cell_type": "markdown",
   "metadata": {},
   "source": [
    "Here is a strange point: why the mushrooms have different surfaces below and above the ring given that the mushrooms do not have a ring. We will try to figure it out in the future."
   ]
  },
  {
   "cell_type": "markdown",
   "metadata": {},
   "source": [
    "# Data Analysis & Results (EDA)"
   ]
  },
  {
   "cell_type": "markdown",
   "metadata": {},
   "source": [
    "In this section, we are mainly going to take a look at every column in the dataframe (i.e., every different feature of the mushroom). Moreover, we are going to observe the relationship between these features and the poisonousness; and the potential relationship between features, to avoid colinearity."
   ]
  },
  {
   "cell_type": "markdown",
   "metadata": {},
   "source": [
    "## 1. Basic summary statistics"
   ]
  },
  {
   "cell_type": "code",
   "execution_count": 19,
   "metadata": {},
   "outputs": [
    {
     "data": {
      "text/plain": [
       "1    0.517971\n",
       "0    0.482029\n",
       "Name: class, dtype: float64"
      ]
     },
     "execution_count": 19,
     "metadata": {},
     "output_type": "execute_result"
    }
   ],
   "source": [
    "mushroom_df[\"class\"].value_counts(normalize = True)"
   ]
  },
  {
   "cell_type": "markdown",
   "metadata": {},
   "source": [
    "We observe that the number of poisonous mushrooms and edible mushrooms is about the same"
   ]
  },
  {
   "cell_type": "markdown",
   "metadata": {},
   "source": [
    "## 2. Contingency Tables"
   ]
  },
  {
   "cell_type": "markdown",
   "metadata": {},
   "source": [
    "In this section, we are going to establish contingency tables of each feature with the ``class``, and visualize them with barplots. Again, remember that value 1 means edible and value 0 means poisonous."
   ]
  },
  {
   "cell_type": "markdown",
   "metadata": {},
   "source": [
    "### (1) cap-shape"
   ]
  },
  {
   "cell_type": "code",
   "execution_count": 20,
   "metadata": {},
   "outputs": [
    {
     "data": {
      "text/plain": [
       "<AxesSubplot:xlabel='cap-shape'>"
      ]
     },
     "execution_count": 20,
     "metadata": {},
     "output_type": "execute_result"
    },
    {
     "data": {
      "image/png": "[encoded data removed]",
      "text/plain": [
       "<Figure size 432x288 with 1 Axes>"
      ]
     },
     "metadata": {
      "needs_background": "light"
     },
     "output_type": "display_data"
    }
   ],
   "source": [
    "ct_cap_shape = pd.crosstab(mushroom_df['cap-shape'],mushroom_df['class'], margins = False, normalize=True)\n",
    "ct_cap_shape.plot(kind=\"bar\", rot=0)"
   ]
  },
  {
   "cell_type": "markdown",
   "metadata": {},
   "source": [
    "From this graph, we can observe that ``flat`` and ``convex`` cap shape behaves relatively indifferent between poison and edible, and ``bell``, ``knobbed`` cap shape behaves relatively significant different between poison and edible. ``conical`` and ``sunken`` have too small sample size that we cannot observe."
   ]
  },
  {
   "cell_type": "markdown",
   "metadata": {},
   "source": [
    "We will add this feature to our model. We can do some feature enginearing to retain only three variable in the columns such as bell, knobbed, and not bell nore knobbed."
   ]
  },
  {
   "cell_type": "markdown",
   "metadata": {},
   "source": [
    "### (2) cap-surface"
   ]
  },
  {
   "cell_type": "code",
   "execution_count": 21,
   "metadata": {},
   "outputs": [
    {
     "data": {
      "text/plain": [
       "<AxesSubplot:xlabel='cap-surface'>"
      ]
     },
     "execution_count": 21,
     "metadata": {},
     "output_type": "execute_result"
    },
    {
     "data": {
      "image/png": "[encoded data removed]",
      "text/plain": [
       "<Figure size 432x288 with 1 Axes>"
      ]
     },
     "metadata": {
      "needs_background": "light"
     },
     "output_type": "display_data"
    }
   ],
   "source": [
    "ct_cap_surface = pd.crosstab(mushroom_df['cap-surface'],mushroom_df['class'], margins = False, normalize=True)\n",
    "ct_cap_surface.plot(kind=\"bar\", rot=0)"
   ]
  },
  {
   "cell_type": "markdown",
   "metadata": {},
   "source": [
    "From this graph, we can observe that ``fibrous``, ``scaly``, and ``smooth`` cap surface behaves relatively significant between poison and edible. ``grooves`` have too small sample size that we cannot observe."
   ]
  },
  {
   "cell_type": "markdown",
   "metadata": {},
   "source": [
    "We will add this feature to our model. We can do feature engineering like fibrous or not."
   ]
  },
  {
   "cell_type": "markdown",
   "metadata": {},
   "source": [
    "### (3) cap-color"
   ]
  },
  {
   "cell_type": "markdown",
   "metadata": {},
   "source": [
    "As the old saying says, don't eat colorful mushrooms. lets see how mushrooms are seperated by color."
   ]
  },
  {
   "cell_type": "code",
   "execution_count": 22,
   "metadata": {},
   "outputs": [
    {
     "data": {
      "text/plain": [
       "<AxesSubplot:xlabel='cap-color'>"
      ]
     },
     "execution_count": 22,
     "metadata": {},
     "output_type": "execute_result"
    },
    {
     "data": {
      "image/png": "[encoded data removed]",
      "text/plain": [
       "<Figure size 432x288 with 1 Axes>"
      ]
     },
     "metadata": {
      "needs_background": "light"
     },
     "output_type": "display_data"
    }
   ],
   "source": [
    "ct_cap_color = pd.crosstab(mushroom_df['cap-color'],mushroom_df['class'], margins = False, normalize=True)\n",
    "ct_cap_color.plot(kind=\"bar\", rot=0)"
   ]
  },
  {
   "cell_type": "markdown",
   "metadata": {},
   "source": [
    "From this graph, we can observe that ``buff``, ``red``, ``gray``,``brown``, ``pink``, ``white``, and ``yellow`` cap color behaves relatively significant between poison and edible. ``cinnamon``, ``green``, and ``purple`` have too small sample size that we cannot observe."
   ]
  },
  {
   "cell_type": "markdown",
   "metadata": {},
   "source": [
    "We will add this feature to our model."
   ]
  },
  {
   "cell_type": "markdown",
   "metadata": {},
   "source": [
    "### (4) bruises"
   ]
  },
  {
   "cell_type": "code",
   "execution_count": 23,
   "metadata": {},
   "outputs": [
    {
     "data": {
      "text/plain": [
       "<AxesSubplot:xlabel='bruises'>"
      ]
     },
     "execution_count": 23,
     "metadata": {},
     "output_type": "execute_result"
    },
    {
     "data": {
      "image/png": "[encoded data removed]",
      "text/plain": [
       "<Figure size 432x288 with 1 Axes>"
      ]
     },
     "metadata": {
      "needs_background": "light"
     },
     "output_type": "display_data"
    }
   ],
   "source": [
    "ct_bruises = pd.crosstab(mushroom_df['bruises'],mushroom_df['class'], margins = False, normalize=True)\n",
    "ct_bruises.plot(kind=\"bar\", rot=0)"
   ]
  },
  {
   "cell_type": "markdown",
   "metadata": {},
   "source": [
    "From this graph, we can observe that there is significant difference between poison and edible on whether mushrooms has bruises."
   ]
  },
  {
   "cell_type": "markdown",
   "metadata": {},
   "source": [
    "We will add this feature to our model."
   ]
  },
  {
   "cell_type": "markdown",
   "metadata": {},
   "source": [
    "### (5) odor"
   ]
  },
  {
   "cell_type": "code",
   "execution_count": 24,
   "metadata": {},
   "outputs": [
    {
     "data": {
      "text/plain": [
       "<AxesSubplot:xlabel='odor'>"
      ]
     },
     "execution_count": 24,
     "metadata": {},
     "output_type": "execute_result"
    },
    {
     "data": {
      "image/png": "[encoded data removed]",
      "text/plain": [
       "<Figure size 432x288 with 1 Axes>"
      ]
     },
     "metadata": {
      "needs_background": "light"
     },
     "output_type": "display_data"
    }
   ],
   "source": [
    "ct_odor = pd.crosstab(mushroom_df['odor'],mushroom_df['class'], margins = False, normalize=True)\n",
    "ct_odor.plot(kind=\"bar\", rot=0)"
   ]
  },
  {
   "cell_type": "markdown",
   "metadata": {},
   "source": [
    "From this graph, we can observe that all categories in mushroom odors behaves relatively significant between poison and edible."
   ]
  },
  {
   "cell_type": "markdown",
   "metadata": {},
   "source": [
    "We will add this feature to our model."
   ]
  },
  {
   "cell_type": "markdown",
   "metadata": {},
   "source": [
    "### (6) gill-attachment"
   ]
  },
  {
   "cell_type": "code",
   "execution_count": 25,
   "metadata": {},
   "outputs": [
    {
     "data": {
      "text/plain": [
       "<AxesSubplot:xlabel='gill-attachment'>"
      ]
     },
     "execution_count": 25,
     "metadata": {},
     "output_type": "execute_result"
    },
    {
     "data": {
      "image/png": "[encoded data removed]",
      "text/plain": [
       "<Figure size 432x288 with 1 Axes>"
      ]
     },
     "metadata": {
      "needs_background": "light"
     },
     "output_type": "display_data"
    }
   ],
   "source": [
    "ct_gill_attachment = pd.crosstab(mushroom_df['gill-attachment'],mushroom_df['class'], margins = False, normalize=True)\n",
    "ct_gill_attachment.plot(kind=\"bar\", rot=0)"
   ]
  },
  {
   "cell_type": "markdown",
   "metadata": {},
   "source": [
    "From this graph, we can observe that all categories in gill-attachment behaves relatively indifferent between poison and edible."
   ]
  },
  {
   "cell_type": "markdown",
   "metadata": {},
   "source": [
    "We will **NOT** add this feature to our model."
   ]
  },
  {
   "cell_type": "markdown",
   "metadata": {},
   "source": [
    "### (7) gill-spacing"
   ]
  },
  {
   "cell_type": "code",
   "execution_count": 26,
   "metadata": {},
   "outputs": [
    {
     "data": {
      "text/plain": [
       "<AxesSubplot:xlabel='gill-spacing'>"
      ]
     },
     "execution_count": 26,
     "metadata": {},
     "output_type": "execute_result"
    },
    {
     "data": {
      "image/png": "[encoded data removed]",
      "text/plain": [
       "<Figure size 432x288 with 1 Axes>"
      ]
     },
     "metadata": {
      "needs_background": "light"
     },
     "output_type": "display_data"
    }
   ],
   "source": [
    "ct_gill_spacing = pd.crosstab(mushroom_df['gill-spacing'],mushroom_df['class'], margins = False, normalize=True)\n",
    "ct_gill_spacing.plot(kind=\"bar\", rot=0)"
   ]
  },
  {
   "cell_type": "markdown",
   "metadata": {},
   "source": [
    "From this graph, we can observe that all categories in gill-spacing behaves relatively significant between poison and edible."
   ]
  },
  {
   "cell_type": "markdown",
   "metadata": {},
   "source": [
    "We will add this feature to our model."
   ]
  },
  {
   "cell_type": "markdown",
   "metadata": {},
   "source": [
    "### (8) gill-size"
   ]
  },
  {
   "cell_type": "code",
   "execution_count": 27,
   "metadata": {},
   "outputs": [
    {
     "data": {
      "text/plain": [
       "<AxesSubplot:xlabel='gill-size'>"
      ]
     },
     "execution_count": 27,
     "metadata": {},
     "output_type": "execute_result"
    },
    {
     "data": {
      "image/png": "[encoded data removed]",
      "text/plain": [
       "<Figure size 432x288 with 1 Axes>"
      ]
     },
     "metadata": {
      "needs_background": "light"
     },
     "output_type": "display_data"
    }
   ],
   "source": [
    "ct_gill_size = pd.crosstab(mushroom_df['gill-size'],mushroom_df['class'], margins = False, normalize=True)\n",
    "ct_gill_size.plot(kind=\"bar\", rot=0)"
   ]
  },
  {
   "cell_type": "markdown",
   "metadata": {},
   "source": [
    "From this graph, we can observe that all categories in gill-size behaves relatively significant between poison and edible."
   ]
  },
  {
   "cell_type": "markdown",
   "metadata": {},
   "source": [
    "We will add this feature to our model."
   ]
  },
  {
   "cell_type": "markdown",
   "metadata": {},
   "source": [
    "### (9) gill-color"
   ]
  },
  {
   "cell_type": "code",
   "execution_count": 28,
   "metadata": {},
   "outputs": [
    {
     "data": {
      "text/plain": [
       "<AxesSubplot:xlabel='gill-color'>"
      ]
     },
     "execution_count": 28,
     "metadata": {},
     "output_type": "execute_result"
    },
    {
     "data": {
      "image/png": "[encoded data removed]",
      "text/plain": [
       "<Figure size 432x288 with 1 Axes>"
      ]
     },
     "metadata": {
      "needs_background": "light"
     },
     "output_type": "display_data"
    }
   ],
   "source": [
    "ct_gill_color = pd.crosstab(mushroom_df['gill-color'],mushroom_df['class'], margins = False, normalize=True)\n",
    "ct_gill_color.plot(kind=\"bar\", rot=0)"
   ]
  },
  {
   "cell_type": "markdown",
   "metadata": {},
   "source": [
    "From this graph, we can observe that all categories in gill-color behaves relatively significant between poison and edible."
   ]
  },
  {
   "cell_type": "markdown",
   "metadata": {},
   "source": [
    "We will add this feature to our model."
   ]
  },
  {
   "cell_type": "markdown",
   "metadata": {},
   "source": [
    "### (10) stalk-shape"
   ]
  },
  {
   "cell_type": "code",
   "execution_count": 29,
   "metadata": {},
   "outputs": [
    {
     "data": {
      "text/plain": [
       "<AxesSubplot:xlabel='stalk-shape'>"
      ]
     },
     "execution_count": 29,
     "metadata": {},
     "output_type": "execute_result"
    },
    {
     "data": {
      "image/png": "[encoded data removed]",
      "text/plain": [
       "<Figure size 432x288 with 1 Axes>"
      ]
     },
     "metadata": {
      "needs_background": "light"
     },
     "output_type": "display_data"
    }
   ],
   "source": [
    "ct_stalk_shape = pd.crosstab(mushroom_df['stalk-shape'],mushroom_df['class'], margins = False, normalize=True)\n",
    "ct_stalk_shape.plot(kind=\"bar\", rot=0)"
   ]
  },
  {
   "cell_type": "markdown",
   "metadata": {},
   "source": [
    "From this graph, we can observe that all categories in stalk-shape behaves relatively indifferent between poison and edible."
   ]
  },
  {
   "cell_type": "markdown",
   "metadata": {},
   "source": [
    "We will **NOT** add this feature to our model."
   ]
  },
  {
   "cell_type": "markdown",
   "metadata": {},
   "source": [
    "### (11) stalk-root"
   ]
  },
  {
   "cell_type": "code",
   "execution_count": 30,
   "metadata": {},
   "outputs": [
    {
     "data": {
      "text/plain": [
       "<AxesSubplot:xlabel='stalk-root'>"
      ]
     },
     "execution_count": 30,
     "metadata": {},
     "output_type": "execute_result"
    },
    {
     "data": {
      "image/png": "[encoded data removed]",
      "text/plain": [
       "<Figure size 432x288 with 1 Axes>"
      ]
     },
     "metadata": {
      "needs_background": "light"
     },
     "output_type": "display_data"
    }
   ],
   "source": [
    "ct_stalk_root = pd.crosstab(mushroom_df['stalk-root'],mushroom_df['class'], margins = False, normalize=True)\n",
    "ct_stalk_root.plot(kind=\"bar\", rot=0)"
   ]
  },
  {
   "cell_type": "markdown",
   "metadata": {},
   "source": [
    "From this graph, we can observe that except ``bulbous``, which is relatively indifferent between poison and edible, all other categories in stalk-root behaves relatively indifferent between poison and edible."
   ]
  },
  {
   "cell_type": "markdown",
   "metadata": {},
   "source": [
    "We will add this feature to our model."
   ]
  },
  {
   "cell_type": "markdown",
   "metadata": {},
   "source": [
    "### (12) stalk-surface-above-ring"
   ]
  },
  {
   "cell_type": "code",
   "execution_count": 31,
   "metadata": {},
   "outputs": [
    {
     "data": {
      "text/plain": [
       "<AxesSubplot:xlabel='stalk-surface-above-ring'>"
      ]
     },
     "execution_count": 31,
     "metadata": {},
     "output_type": "execute_result"
    },
    {
     "data": {
      "image/png": "[encoded data removed]",
      "text/plain": [
       "<Figure size 432x288 with 1 Axes>"
      ]
     },
     "metadata": {
      "needs_background": "light"
     },
     "output_type": "display_data"
    }
   ],
   "source": [
    "ct_stalk_sar = pd.crosstab(mushroom_df['stalk-surface-above-ring'],mushroom_df['class'], margins = False, normalize=True)\n",
    "ct_stalk_sar.plot(kind=\"bar\", rot=0)"
   ]
  },
  {
   "cell_type": "markdown",
   "metadata": {},
   "source": [
    "From this graph, we can observe that except ``scaly``, which has too small sample size to follow, all other categories in stalk-surface-above-ring behaves relatively indifferent between poison and edible."
   ]
  },
  {
   "cell_type": "markdown",
   "metadata": {},
   "source": [
    "We will add this feature to our model."
   ]
  },
  {
   "cell_type": "markdown",
   "metadata": {},
   "source": [
    "### (13) stalk-surface-below-ring"
   ]
  },
  {
   "cell_type": "code",
   "execution_count": 32,
   "metadata": {},
   "outputs": [
    {
     "data": {
      "text/plain": [
       "<AxesSubplot:xlabel='stalk-surface-below-ring'>"
      ]
     },
     "execution_count": 32,
     "metadata": {},
     "output_type": "execute_result"
    },
    {
     "data": {
      "image/png": "[encoded data removed]",
      "text/plain": [
       "<Figure size 432x288 with 1 Axes>"
      ]
     },
     "metadata": {
      "needs_background": "light"
     },
     "output_type": "display_data"
    }
   ],
   "source": [
    "ct_stalk_sbr = pd.crosstab(mushroom_df['stalk-surface-below-ring'],mushroom_df['class'], margins = False, normalize=True)\n",
    "ct_stalk_sbr.plot(kind=\"bar\", rot=0)"
   ]
  },
  {
   "cell_type": "markdown",
   "metadata": {},
   "source": [
    "From this graph, we can observe that all categories in stalk-surface-below-ring behaves relatively significant between poison and edible."
   ]
  },
  {
   "cell_type": "markdown",
   "metadata": {},
   "source": [
    "We will add this feature to our model."
   ]
  },
  {
   "cell_type": "markdown",
   "metadata": {},
   "source": [
    "### (14) stalk-color-above-ring"
   ]
  },
  {
   "cell_type": "code",
   "execution_count": 33,
   "metadata": {},
   "outputs": [
    {
     "data": {
      "text/plain": [
       "<AxesSubplot:xlabel='stalk-color-above-ring'>"
      ]
     },
     "execution_count": 33,
     "metadata": {},
     "output_type": "execute_result"
    },
    {
     "data": {
      "image/png": "[encoded data removed]",
      "text/plain": [
       "<Figure size 432x288 with 1 Axes>"
      ]
     },
     "metadata": {
      "needs_background": "light"
     },
     "output_type": "display_data"
    }
   ],
   "source": [
    "ct_stalk_car = pd.crosstab(mushroom_df['stalk-color-above-ring'],mushroom_df['class'], margins = False, normalize=True)\n",
    "ct_stalk_car.plot(kind=\"bar\", rot=0)"
   ]
  },
  {
   "cell_type": "markdown",
   "metadata": {},
   "source": [
    "From this graph, we can observe that except ``cinnamon``, which has too small sample size to follow, all other categories in stalk-color-above-ring behaves relatively indifferent between poison and edible."
   ]
  },
  {
   "cell_type": "markdown",
   "metadata": {},
   "source": [
    "We will add this feature to our model."
   ]
  },
  {
   "cell_type": "markdown",
   "metadata": {},
   "source": [
    "### (15) stalk-color-below-ring"
   ]
  },
  {
   "cell_type": "code",
   "execution_count": 34,
   "metadata": {},
   "outputs": [
    {
     "data": {
      "text/plain": [
       "<AxesSubplot:xlabel='stalk-color-below-ring'>"
      ]
     },
     "execution_count": 34,
     "metadata": {},
     "output_type": "execute_result"
    },
    {
     "data": {
      "image/png": "[encoded data removed]",
      "text/plain": [
       "<Figure size 432x288 with 1 Axes>"
      ]
     },
     "metadata": {
      "needs_background": "light"
     },
     "output_type": "display_data"
    }
   ],
   "source": [
    "ct_stalk_cbr = pd.crosstab(mushroom_df['stalk-color-below-ring'],mushroom_df['class'], margins = False, normalize=True)\n",
    "ct_stalk_cbr.plot(kind=\"bar\", rot=0)"
   ]
  },
  {
   "cell_type": "markdown",
   "metadata": {},
   "source": [
    "From this graph, we can observe that except ``cinnamon``, which has too small sample size to follow, all other categories in stalk-color-above-ring behaves relatively indifferent between poison and edible."
   ]
  },
  {
   "cell_type": "markdown",
   "metadata": {},
   "source": [
    "We will add this feature to our model."
   ]
  },
  {
   "cell_type": "markdown",
   "metadata": {},
   "source": [
    "***Remark***\n",
    "\n",
    "We have noticed that the graph of contingency table of ``stalk-color-above-ring`` and ``stalk-color-below-ring`` are exactly the same. So we are going to check their colinearity in the next section."
   ]
  },
  {
   "cell_type": "code",
   "execution_count": 35,
   "metadata": {},
   "outputs": [
    {
     "data": {
      "text/html": [
       "<div>\n",
       "<style scoped>\n",
       "    .dataframe tbody tr th:only-of-type {\n",
       "        vertical-align: middle;\n",
       "    }\n",
       "\n",
       "    .dataframe tbody tr th {\n",
       "        vertical-align: top;\n",
       "    }\n",
       "\n",
       "    .dataframe thead th {\n",
       "        text-align: right;\n",
       "    }\n",
       "</style>\n",
       "<table border=\"1\" class=\"dataframe\">\n",
       "  <thead>\n",
       "    <tr style=\"text-align: right;\">\n",
       "      <th></th>\n",
       "      <th>stalk-color-below-ring</th>\n",
       "      <th>stalk-color-above-ring</th>\n",
       "    </tr>\n",
       "  </thead>\n",
       "  <tbody>\n",
       "    <tr>\n",
       "      <th>0</th>\n",
       "      <td>w</td>\n",
       "      <td>w</td>\n",
       "    </tr>\n",
       "    <tr>\n",
       "      <th>1</th>\n",
       "      <td>w</td>\n",
       "      <td>w</td>\n",
       "    </tr>\n",
       "    <tr>\n",
       "      <th>2</th>\n",
       "      <td>w</td>\n",
       "      <td>w</td>\n",
       "    </tr>\n",
       "    <tr>\n",
       "      <th>3</th>\n",
       "      <td>w</td>\n",
       "      <td>w</td>\n",
       "    </tr>\n",
       "    <tr>\n",
       "      <th>4</th>\n",
       "      <td>w</td>\n",
       "      <td>w</td>\n",
       "    </tr>\n",
       "    <tr>\n",
       "      <th>...</th>\n",
       "      <td>...</td>\n",
       "      <td>...</td>\n",
       "    </tr>\n",
       "    <tr>\n",
       "      <th>8119</th>\n",
       "      <td>o</td>\n",
       "      <td>o</td>\n",
       "    </tr>\n",
       "    <tr>\n",
       "      <th>8120</th>\n",
       "      <td>o</td>\n",
       "      <td>o</td>\n",
       "    </tr>\n",
       "    <tr>\n",
       "      <th>8121</th>\n",
       "      <td>o</td>\n",
       "      <td>o</td>\n",
       "    </tr>\n",
       "    <tr>\n",
       "      <th>8122</th>\n",
       "      <td>w</td>\n",
       "      <td>w</td>\n",
       "    </tr>\n",
       "    <tr>\n",
       "      <th>8123</th>\n",
       "      <td>o</td>\n",
       "      <td>o</td>\n",
       "    </tr>\n",
       "  </tbody>\n",
       "</table>\n",
       "<p>8124 rows × 2 columns</p>\n",
       "</div>"
      ],
      "text/plain": [
       "     stalk-color-below-ring stalk-color-above-ring\n",
       "0                         w                      w\n",
       "1                         w                      w\n",
       "2                         w                      w\n",
       "3                         w                      w\n",
       "4                         w                      w\n",
       "...                     ...                    ...\n",
       "8119                      o                      o\n",
       "8120                      o                      o\n",
       "8121                      o                      o\n",
       "8122                      w                      w\n",
       "8123                      o                      o\n",
       "\n",
       "[8124 rows x 2 columns]"
      ]
     },
     "execution_count": 35,
     "metadata": {},
     "output_type": "execute_result"
    }
   ],
   "source": [
    "mushroom_df[['stalk-color-below-ring', 'stalk-color-above-ring']]"
   ]
  },
  {
   "cell_type": "markdown",
   "metadata": {},
   "source": [
    "### (16) veil-type"
   ]
  },
  {
   "cell_type": "code",
   "execution_count": 36,
   "metadata": {},
   "outputs": [
    {
     "data": {
      "text/plain": [
       "<AxesSubplot:xlabel='veil-type'>"
      ]
     },
     "execution_count": 36,
     "metadata": {},
     "output_type": "execute_result"
    },
    {
     "data": {
      "image/png": "[encoded data removed]",
      "text/plain": [
       "<Figure size 432x288 with 1 Axes>"
      ]
     },
     "metadata": {
      "needs_background": "light"
     },
     "output_type": "display_data"
    }
   ],
   "source": [
    "ct_veil_type = pd.crosstab(mushroom_df['veil-type'],mushroom_df['class'], margins = False, normalize=True)\n",
    "ct_veil_type.plot(kind=\"bar\", rot=0)"
   ]
  },
  {
   "cell_type": "code",
   "execution_count": 37,
   "metadata": {},
   "outputs": [
    {
     "data": {
      "text/html": [
       "<div>\n",
       "<style scoped>\n",
       "    .dataframe tbody tr th:only-of-type {\n",
       "        vertical-align: middle;\n",
       "    }\n",
       "\n",
       "    .dataframe tbody tr th {\n",
       "        vertical-align: top;\n",
       "    }\n",
       "\n",
       "    .dataframe thead th {\n",
       "        text-align: right;\n",
       "    }\n",
       "</style>\n",
       "<table border=\"1\" class=\"dataframe\">\n",
       "  <thead>\n",
       "    <tr style=\"text-align: right;\">\n",
       "      <th></th>\n",
       "      <th>class</th>\n",
       "      <th>cap-shape</th>\n",
       "      <th>cap-surface</th>\n",
       "      <th>cap-color</th>\n",
       "      <th>bruises</th>\n",
       "      <th>odor</th>\n",
       "      <th>gill-attachment</th>\n",
       "      <th>gill-spacing</th>\n",
       "      <th>gill-size</th>\n",
       "      <th>gill-color</th>\n",
       "      <th>stalk-shape</th>\n",
       "      <th>stalk-root</th>\n",
       "      <th>stalk-surface-above-ring</th>\n",
       "      <th>stalk-surface-below-ring</th>\n",
       "      <th>stalk-color-above-ring</th>\n",
       "      <th>stalk-color-below-ring</th>\n",
       "      <th>veil-type</th>\n",
       "      <th>veil-color</th>\n",
       "      <th>ring-number</th>\n",
       "      <th>ring-type</th>\n",
       "      <th>spore-print-color</th>\n",
       "      <th>population</th>\n",
       "      <th>habitat</th>\n",
       "    </tr>\n",
       "  </thead>\n",
       "  <tbody>\n",
       "  </tbody>\n",
       "</table>\n",
       "</div>"
      ],
      "text/plain": [
       "Empty DataFrame\n",
       "Columns: [class, cap-shape, cap-surface, cap-color, bruises, odor, gill-attachment, gill-spacing, gill-size, gill-color, stalk-shape, stalk-root, stalk-surface-above-ring, stalk-surface-below-ring, stalk-color-above-ring, stalk-color-below-ring, veil-type, veil-color, ring-number, ring-type, spore-print-color, population, habitat]\n",
       "Index: []"
      ]
     },
     "execution_count": 37,
     "metadata": {},
     "output_type": "execute_result"
    }
   ],
   "source": [
    "mushroom_df[mushroom_df['veil-type'] != 'p']"
   ]
  },
  {
   "cell_type": "markdown",
   "metadata": {},
   "source": [
    "We have realized that there is only one category in ``veil-type``. Therefore, we will **NOT** add this feature to model."
   ]
  },
  {
   "cell_type": "markdown",
   "metadata": {},
   "source": [
    "### (17) veil-color"
   ]
  },
  {
   "cell_type": "code",
   "execution_count": 38,
   "metadata": {},
   "outputs": [
    {
     "data": {
      "text/plain": [
       "<AxesSubplot:xlabel='veil-color'>"
      ]
     },
     "execution_count": 38,
     "metadata": {},
     "output_type": "execute_result"
    },
    {
     "data": {
      "image/png": "[encoded data removed]",
      "text/plain": [
       "<Figure size 432x288 with 1 Axes>"
      ]
     },
     "metadata": {
      "needs_background": "light"
     },
     "output_type": "display_data"
    }
   ],
   "source": [
    "ct_veil_type = pd.crosstab(mushroom_df['veil-color'],mushroom_df['class'], margins = False, normalize=True)\n",
    "ct_veil_type.plot(kind=\"bar\", rot=0)"
   ]
  },
  {
   "cell_type": "markdown",
   "metadata": {},
   "source": [
    "From this graph, we have noticed that ``brown``, ``orange``, and ``yellow`` have too small sample size to follow, and ``white`` is relatively indifferent between poison and edible."
   ]
  },
  {
   "cell_type": "markdown",
   "metadata": {},
   "source": [
    "We will **NOT** add this feature to model."
   ]
  },
  {
   "cell_type": "markdown",
   "metadata": {},
   "source": [
    "### (18) ring-number"
   ]
  },
  {
   "cell_type": "code",
   "execution_count": 39,
   "metadata": {},
   "outputs": [
    {
     "data": {
      "text/plain": [
       "<AxesSubplot:xlabel='ring-number'>"
      ]
     },
     "execution_count": 39,
     "metadata": {},
     "output_type": "execute_result"
    },
    {
     "data": {
      "image/png": "[encoded data removed]",
      "text/plain": [
       "<Figure size 432x288 with 1 Axes>"
      ]
     },
     "metadata": {
      "needs_background": "light"
     },
     "output_type": "display_data"
    }
   ],
   "source": [
    "ct_ring_number = pd.crosstab(mushroom_df['ring-number'],mushroom_df['class'], margins = False, normalize=True)\n",
    "ct_ring_number.plot(kind=\"bar\", rot=0)"
   ]
  },
  {
   "cell_type": "markdown",
   "metadata": {},
   "source": [
    "From this graph, we have noticed that ``0``, ``2`` have too small sample size to follow, and ``1`` is relatively indifferent between poison and edible."
   ]
  },
  {
   "cell_type": "markdown",
   "metadata": {},
   "source": [
    "We will **NOT** add this feature to model."
   ]
  },
  {
   "cell_type": "markdown",
   "metadata": {},
   "source": [
    "### (19) ring-type"
   ]
  },
  {
   "cell_type": "code",
   "execution_count": 40,
   "metadata": {},
   "outputs": [
    {
     "data": {
      "text/plain": [
       "<AxesSubplot:xlabel='ring-type'>"
      ]
     },
     "execution_count": 40,
     "metadata": {},
     "output_type": "execute_result"
    },
    {
     "data": {
      "image/png": "[encoded data removed]",
      "text/plain": [
       "<Figure size 432x288 with 1 Axes>"
      ]
     },
     "metadata": {
      "needs_background": "light"
     },
     "output_type": "display_data"
    }
   ],
   "source": [
    "ct_ring_type = pd.crosstab(mushroom_df['ring-type'],mushroom_df['class'], margins = False, normalize=True)\n",
    "ct_ring_type.plot(kind=\"bar\", rot=0)"
   ]
  },
  {
   "cell_type": "markdown",
   "metadata": {},
   "source": [
    "From this graph, we can observe that except ``flaring`` and ``none``, which has too small sample size to follow, all other categories in spore-print-color behaves relatively indifferent between poison and edible."
   ]
  },
  {
   "cell_type": "markdown",
   "metadata": {},
   "source": [
    "We will add this feature to our model."
   ]
  },
  {
   "cell_type": "markdown",
   "metadata": {},
   "source": [
    "### (20) spore-print-color"
   ]
  },
  {
   "cell_type": "code",
   "execution_count": 41,
   "metadata": {},
   "outputs": [
    {
     "data": {
      "text/plain": [
       "<AxesSubplot:xlabel='spore-print-color'>"
      ]
     },
     "execution_count": 41,
     "metadata": {},
     "output_type": "execute_result"
    },
    {
     "data": {
      "image/png": "[encoded data removed]",
      "text/plain": [
       "<Figure size 432x288 with 1 Axes>"
      ]
     },
     "metadata": {
      "needs_background": "light"
     },
     "output_type": "display_data"
    }
   ],
   "source": [
    "ct_spc = pd.crosstab(mushroom_df['spore-print-color'],mushroom_df['class'], margins = False, normalize=True)\n",
    "ct_spc.plot(kind=\"bar\", rot=0)"
   ]
  },
  {
   "cell_type": "markdown",
   "metadata": {},
   "source": [
    "From this graph, we can observe that except ``buff``, ``orange``, ``green``, ``purple``, and ``yellow``, which has too small sample size to follow, all other categories in spore-print-color behaves relatively indifferent between poison and edible."
   ]
  },
  {
   "cell_type": "markdown",
   "metadata": {},
   "source": [
    "We will add this feature to our model."
   ]
  },
  {
   "cell_type": "markdown",
   "metadata": {},
   "source": [
    "### (21) population"
   ]
  },
  {
   "cell_type": "code",
   "execution_count": 42,
   "metadata": {},
   "outputs": [
    {
     "data": {
      "text/plain": [
       "<AxesSubplot:xlabel='population'>"
      ]
     },
     "execution_count": 42,
     "metadata": {},
     "output_type": "execute_result"
    },
    {
     "data": {
      "image/png": "[encoded data removed]",
      "text/plain": [
       "<Figure size 432x288 with 1 Axes>"
      ]
     },
     "metadata": {
      "needs_background": "light"
     },
     "output_type": "display_data"
    }
   ],
   "source": [
    "ct_population = pd.crosstab(mushroom_df['population'],mushroom_df['class'], margins = False, normalize=True)\n",
    "ct_population.plot(kind=\"bar\", rot=0)"
   ]
  },
  {
   "cell_type": "markdown",
   "metadata": {},
   "source": [
    "From this graph, we can observe that all categories in ``population`` behaves relatively significant between poison and edible.\n"
   ]
  },
  {
   "cell_type": "markdown",
   "metadata": {},
   "source": [
    "We will add this feature to our model."
   ]
  },
  {
   "cell_type": "markdown",
   "metadata": {},
   "source": [
    "### (22) habitat"
   ]
  },
  {
   "cell_type": "code",
   "execution_count": 43,
   "metadata": {},
   "outputs": [
    {
     "data": {
      "text/plain": [
       "<AxesSubplot:xlabel='habitat'>"
      ]
     },
     "execution_count": 43,
     "metadata": {},
     "output_type": "execute_result"
    },
    {
     "data": {
      "image/png": "[encoded data removed]",
      "text/plain": [
       "<Figure size 432x288 with 1 Axes>"
      ]
     },
     "metadata": {
      "needs_background": "light"
     },
     "output_type": "display_data"
    }
   ],
   "source": [
    "ct_habitat = pd.crosstab(mushroom_df['habitat'],mushroom_df['class'], margins = False, normalize=True)\n",
    "ct_habitat.plot(kind=\"bar\", rot=0)"
   ]
  },
  {
   "cell_type": "markdown",
   "metadata": {},
   "source": [
    "From this graph, we can observe that all categories in ``habitat`` behaves relatively significant between poison and edible.\n"
   ]
  },
  {
   "cell_type": "markdown",
   "metadata": {},
   "source": [
    "We will add this feature to our model."
   ]
  },
  {
   "cell_type": "markdown",
   "metadata": {},
   "source": [
    "### (23) Summary of included features"
   ]
  },
  {
   "cell_type": "markdown",
   "metadata": {},
   "source": [
    "After viewing the contingency tables, we are going to choose the listed features:\n",
    "- cap-shape\n",
    "- cap-surface\n",
    "- cap-color\n",
    "- bruises\n",
    "- odor\n",
    "- gill-spacing\n",
    "- gill-size\n",
    "- gill-color\n",
    "- stalk-root\n",
    "- stalk-surface-above-ring\n",
    "- stalk-surface-below-ring\n",
    "- stalk-color-above-ring\n",
    "- stalk-color-below-ring\n",
    "- ring-type\n",
    "- spore-print-color\n",
    "- population\n",
    "- habitat "
   ]
  },
  {
   "cell_type": "markdown",
   "metadata": {},
   "source": [
    "## 2. Possible Colinearity"
   ]
  },
  {
   "cell_type": "code",
   "execution_count": 44,
   "metadata": {},
   "outputs": [],
   "source": [
    "# collect useful features\n",
    "mushroom_df_feature_reduced1 = mushroom_df[[\"cap-shape\", \"cap-surface\", \"cap-color\", \"bruises\", \"odor\",\n",
    "                                            \"gill-spacing\", \"gill-size\", \"gill-color\", \"stalk-root\",\n",
    "                                            \"stalk-surface-above-ring\", \"stalk-surface-below-ring\",\n",
    "                                            \"stalk-color-above-ring\", \"stalk-color-below-ring\",\n",
    "                                            \"ring-type\", \"spore-print-color\", \"population\", \"habitat\"]]"
   ]
  },
  {
   "cell_type": "code",
   "execution_count": 45,
   "metadata": {},
   "outputs": [],
   "source": [
    "col_lst = list(mushroom_df_feature_reduced1.columns)"
   ]
  },
  {
   "cell_type": "markdown",
   "metadata": {},
   "source": [
    "We use chi-square test for independence to calculate the chi-square statistics for any pair of variables."
   ]
  },
  {
   "cell_type": "code",
   "execution_count": 46,
   "metadata": {},
   "outputs": [],
   "source": [
    "out_array = np.zeros(shape=(len(col_lst),len(col_lst)))\n",
    "for i in range(len(col_lst)):\n",
    "    for j in range(len(col_lst)):\n",
    "        test_df = pd.crosstab(index=mushroom_df[col_lst[i]], columns=mushroom_df[col_lst[j]])\n",
    "        stat = chi2_contingency(test_df)[0]\n",
    "        out_array[i][j] = stat"
   ]
  },
  {
   "cell_type": "code",
   "execution_count": 47,
   "metadata": {},
   "outputs": [],
   "source": [
    "dependent_matrix = pd.DataFrame(out_array)"
   ]
  },
  {
   "cell_type": "code",
   "execution_count": 48,
   "metadata": {},
   "outputs": [],
   "source": [
    "dependent_matrix.index = col_lst\n",
    "dependent_matrix.columns = col_lst"
   ]
  },
  {
   "cell_type": "markdown",
   "metadata": {},
   "source": [
    "The results are showed in the following table"
   ]
  },
  {
   "cell_type": "code",
   "execution_count": 49,
   "metadata": {},
   "outputs": [
    {
     "data": {
      "text/html": [
       "<div>\n",
       "<style scoped>\n",
       "    .dataframe tbody tr th:only-of-type {\n",
       "        vertical-align: middle;\n",
       "    }\n",
       "\n",
       "    .dataframe tbody tr th {\n",
       "        vertical-align: top;\n",
       "    }\n",
       "\n",
       "    .dataframe thead th {\n",
       "        text-align: right;\n",
       "    }\n",
       "</style>\n",
       "<table border=\"1\" class=\"dataframe\">\n",
       "  <thead>\n",
       "    <tr style=\"text-align: right;\">\n",
       "      <th></th>\n",
       "      <th>cap-shape</th>\n",
       "      <th>cap-surface</th>\n",
       "      <th>cap-color</th>\n",
       "      <th>bruises</th>\n",
       "      <th>odor</th>\n",
       "      <th>gill-spacing</th>\n",
       "      <th>gill-size</th>\n",
       "      <th>gill-color</th>\n",
       "      <th>stalk-root</th>\n",
       "      <th>stalk-surface-above-ring</th>\n",
       "      <th>stalk-surface-below-ring</th>\n",
       "      <th>stalk-color-above-ring</th>\n",
       "      <th>stalk-color-below-ring</th>\n",
       "      <th>ring-type</th>\n",
       "      <th>spore-print-color</th>\n",
       "      <th>population</th>\n",
       "      <th>habitat</th>\n",
       "    </tr>\n",
       "  </thead>\n",
       "  <tbody>\n",
       "    <tr>\n",
       "      <th>cap-shape</th>\n",
       "      <td>40620.000000</td>\n",
       "      <td>1011.493003</td>\n",
       "      <td>1193.768578</td>\n",
       "      <td>530.776681</td>\n",
       "      <td>2448.503052</td>\n",
       "      <td>54.229876</td>\n",
       "      <td>977.206565</td>\n",
       "      <td>2245.151613</td>\n",
       "      <td>4215.114824</td>\n",
       "      <td>624.355608</td>\n",
       "      <td>307.051665</td>\n",
       "      <td>1871.870085</td>\n",
       "      <td>1179.404895</td>\n",
       "      <td>1408.359529</td>\n",
       "      <td>2558.981366</td>\n",
       "      <td>2364.712278</td>\n",
       "      <td>2985.912206</td>\n",
       "    </tr>\n",
       "    <tr>\n",
       "      <th>cap-surface</th>\n",
       "      <td>1011.493003</td>\n",
       "      <td>24372.000000</td>\n",
       "      <td>1236.828958</td>\n",
       "      <td>146.695811</td>\n",
       "      <td>1385.708498</td>\n",
       "      <td>929.337926</td>\n",
       "      <td>625.211042</td>\n",
       "      <td>1617.494297</td>\n",
       "      <td>2412.976732</td>\n",
       "      <td>506.230074</td>\n",
       "      <td>699.333029</td>\n",
       "      <td>1553.528443</td>\n",
       "      <td>1615.400201</td>\n",
       "      <td>1230.827400</td>\n",
       "      <td>1318.851622</td>\n",
       "      <td>1674.019157</td>\n",
       "      <td>1535.547169</td>\n",
       "    </tr>\n",
       "    <tr>\n",
       "      <th>cap-color</th>\n",
       "      <td>1193.768578</td>\n",
       "      <td>1236.828958</td>\n",
       "      <td>73116.000000</td>\n",
       "      <td>384.838070</td>\n",
       "      <td>7164.821147</td>\n",
       "      <td>1299.555299</td>\n",
       "      <td>1796.936323</td>\n",
       "      <td>5832.239102</td>\n",
       "      <td>4824.721663</td>\n",
       "      <td>1610.732543</td>\n",
       "      <td>2497.777181</td>\n",
       "      <td>4970.170076</td>\n",
       "      <td>5068.393964</td>\n",
       "      <td>10120.742122</td>\n",
       "      <td>5335.212074</td>\n",
       "      <td>3798.735391</td>\n",
       "      <td>5205.101254</td>\n",
       "    </tr>\n",
       "    <tr>\n",
       "      <th>bruises</th>\n",
       "      <td>530.776681</td>\n",
       "      <td>146.695811</td>\n",
       "      <td>384.838070</td>\n",
       "      <td>8119.883087</td>\n",
       "      <td>3548.535179</td>\n",
       "      <td>726.942784</td>\n",
       "      <td>1108.124760</td>\n",
       "      <td>3435.836879</td>\n",
       "      <td>2650.937973</td>\n",
       "      <td>2687.718334</td>\n",
       "      <td>2609.306376</td>\n",
       "      <td>1897.013460</td>\n",
       "      <td>1973.232800</td>\n",
       "      <td>4797.865583</td>\n",
       "      <td>3046.673704</td>\n",
       "      <td>733.968760</td>\n",
       "      <td>2289.963040</td>\n",
       "    </tr>\n",
       "    <tr>\n",
       "      <th>odor</th>\n",
       "      <td>2448.503052</td>\n",
       "      <td>1385.708498</td>\n",
       "      <td>7164.821147</td>\n",
       "      <td>3548.535179</td>\n",
       "      <td>64992.000000</td>\n",
       "      <td>1500.504960</td>\n",
       "      <td>4703.776083</td>\n",
       "      <td>9898.449462</td>\n",
       "      <td>12481.423734</td>\n",
       "      <td>4224.863722</td>\n",
       "      <td>6271.550490</td>\n",
       "      <td>13172.786758</td>\n",
       "      <td>12967.365435</td>\n",
       "      <td>15782.980493</td>\n",
       "      <td>10211.837811</td>\n",
       "      <td>5709.118137</td>\n",
       "      <td>6675.138401</td>\n",
       "    </tr>\n",
       "    <tr>\n",
       "      <th>gill-spacing</th>\n",
       "      <td>54.229876</td>\n",
       "      <td>929.337926</td>\n",
       "      <td>1299.555299</td>\n",
       "      <td>726.942784</td>\n",
       "      <td>1500.504960</td>\n",
       "      <td>8116.617004</td>\n",
       "      <td>94.707626</td>\n",
       "      <td>862.090827</td>\n",
       "      <td>2692.401910</td>\n",
       "      <td>1553.330059</td>\n",
       "      <td>1398.279336</td>\n",
       "      <td>1307.336699</td>\n",
       "      <td>1145.527552</td>\n",
       "      <td>684.708672</td>\n",
       "      <td>773.675909</td>\n",
       "      <td>3689.974478</td>\n",
       "      <td>2391.899057</td>\n",
       "    </tr>\n",
       "    <tr>\n",
       "      <th>gill-size</th>\n",
       "      <td>977.206565</td>\n",
       "      <td>625.211042</td>\n",
       "      <td>1796.936323</td>\n",
       "      <td>1108.124760</td>\n",
       "      <td>4703.776083</td>\n",
       "      <td>94.707626</td>\n",
       "      <td>8119.318986</td>\n",
       "      <td>4994.285659</td>\n",
       "      <td>3199.673357</td>\n",
       "      <td>234.949704</td>\n",
       "      <td>185.031607</td>\n",
       "      <td>1088.724300</td>\n",
       "      <td>979.175259</td>\n",
       "      <td>2645.539640</td>\n",
       "      <td>3546.112224</td>\n",
       "      <td>2178.283023</td>\n",
       "      <td>2025.525172</td>\n",
       "    </tr>\n",
       "    <tr>\n",
       "      <th>gill-color</th>\n",
       "      <td>2245.151613</td>\n",
       "      <td>1617.494297</td>\n",
       "      <td>5832.239102</td>\n",
       "      <td>3435.836879</td>\n",
       "      <td>9898.449462</td>\n",
       "      <td>862.090827</td>\n",
       "      <td>4994.285659</td>\n",
       "      <td>89364.000000</td>\n",
       "      <td>8627.256386</td>\n",
       "      <td>3051.832348</td>\n",
       "      <td>3481.993923</td>\n",
       "      <td>11516.419368</td>\n",
       "      <td>11306.083821</td>\n",
       "      <td>8737.084007</td>\n",
       "      <td>15303.012180</td>\n",
       "      <td>7336.259763</td>\n",
       "      <td>10248.056738</td>\n",
       "    </tr>\n",
       "    <tr>\n",
       "      <th>stalk-root</th>\n",
       "      <td>4215.114824</td>\n",
       "      <td>2412.976732</td>\n",
       "      <td>4824.721663</td>\n",
       "      <td>2650.937973</td>\n",
       "      <td>12481.423734</td>\n",
       "      <td>2692.401910</td>\n",
       "      <td>3199.673357</td>\n",
       "      <td>8627.256386</td>\n",
       "      <td>32496.000000</td>\n",
       "      <td>2314.813133</td>\n",
       "      <td>7546.866580</td>\n",
       "      <td>4438.484003</td>\n",
       "      <td>4441.619525</td>\n",
       "      <td>6369.280188</td>\n",
       "      <td>8772.219784</td>\n",
       "      <td>9117.233546</td>\n",
       "      <td>9361.864103</td>\n",
       "    </tr>\n",
       "    <tr>\n",
       "      <th>stalk-surface-above-ring</th>\n",
       "      <td>624.355608</td>\n",
       "      <td>506.230074</td>\n",
       "      <td>1610.732543</td>\n",
       "      <td>2687.718334</td>\n",
       "      <td>4224.863722</td>\n",
       "      <td>1553.330059</td>\n",
       "      <td>234.949704</td>\n",
       "      <td>3051.832348</td>\n",
       "      <td>2314.813133</td>\n",
       "      <td>24372.000000</td>\n",
       "      <td>5850.201063</td>\n",
       "      <td>6507.249697</td>\n",
       "      <td>4568.798015</td>\n",
       "      <td>5032.931820</td>\n",
       "      <td>4281.006272</td>\n",
       "      <td>2459.438479</td>\n",
       "      <td>2201.623623</td>\n",
       "    </tr>\n",
       "    <tr>\n",
       "      <th>stalk-surface-below-ring</th>\n",
       "      <td>307.051665</td>\n",
       "      <td>699.333029</td>\n",
       "      <td>2497.777181</td>\n",
       "      <td>2609.306376</td>\n",
       "      <td>6271.550490</td>\n",
       "      <td>1398.279336</td>\n",
       "      <td>185.031607</td>\n",
       "      <td>3481.993923</td>\n",
       "      <td>7546.866580</td>\n",
       "      <td>5850.201063</td>\n",
       "      <td>24372.000000</td>\n",
       "      <td>5001.426312</td>\n",
       "      <td>5198.169585</td>\n",
       "      <td>6574.046143</td>\n",
       "      <td>4333.726929</td>\n",
       "      <td>2527.015329</td>\n",
       "      <td>2346.180521</td>\n",
       "    </tr>\n",
       "    <tr>\n",
       "      <th>stalk-color-above-ring</th>\n",
       "      <td>1871.870085</td>\n",
       "      <td>1553.528443</td>\n",
       "      <td>4970.170076</td>\n",
       "      <td>1897.013460</td>\n",
       "      <td>13172.786758</td>\n",
       "      <td>1307.336699</td>\n",
       "      <td>1088.724300</td>\n",
       "      <td>11516.419368</td>\n",
       "      <td>4438.484003</td>\n",
       "      <td>6507.249697</td>\n",
       "      <td>5001.426312</td>\n",
       "      <td>64992.000000</td>\n",
       "      <td>26187.865365</td>\n",
       "      <td>14701.875095</td>\n",
       "      <td>11242.080198</td>\n",
       "      <td>7145.382179</td>\n",
       "      <td>8569.086936</td>\n",
       "    </tr>\n",
       "    <tr>\n",
       "      <th>stalk-color-below-ring</th>\n",
       "      <td>1179.404895</td>\n",
       "      <td>1615.400201</td>\n",
       "      <td>5068.393964</td>\n",
       "      <td>1973.232800</td>\n",
       "      <td>12967.365435</td>\n",
       "      <td>1145.527552</td>\n",
       "      <td>979.175259</td>\n",
       "      <td>11306.083821</td>\n",
       "      <td>4441.619525</td>\n",
       "      <td>4568.798015</td>\n",
       "      <td>5198.169585</td>\n",
       "      <td>26187.865365</td>\n",
       "      <td>64992.000000</td>\n",
       "      <td>14354.345330</td>\n",
       "      <td>11005.585902</td>\n",
       "      <td>7034.529646</td>\n",
       "      <td>8510.551329</td>\n",
       "    </tr>\n",
       "    <tr>\n",
       "      <th>ring-type</th>\n",
       "      <td>1408.359529</td>\n",
       "      <td>1230.827400</td>\n",
       "      <td>10120.742122</td>\n",
       "      <td>4797.865583</td>\n",
       "      <td>15782.980493</td>\n",
       "      <td>684.708672</td>\n",
       "      <td>2645.539640</td>\n",
       "      <td>8737.084007</td>\n",
       "      <td>6369.280188</td>\n",
       "      <td>5032.931820</td>\n",
       "      <td>6574.046143</td>\n",
       "      <td>14701.875095</td>\n",
       "      <td>14354.345330</td>\n",
       "      <td>32496.000000</td>\n",
       "      <td>9857.800468</td>\n",
       "      <td>3823.553812</td>\n",
       "      <td>2998.165127</td>\n",
       "    </tr>\n",
       "    <tr>\n",
       "      <th>spore-print-color</th>\n",
       "      <td>2558.981366</td>\n",
       "      <td>1318.851622</td>\n",
       "      <td>5335.212074</td>\n",
       "      <td>3046.673704</td>\n",
       "      <td>10211.837811</td>\n",
       "      <td>773.675909</td>\n",
       "      <td>3546.112224</td>\n",
       "      <td>15303.012180</td>\n",
       "      <td>8772.219784</td>\n",
       "      <td>4281.006272</td>\n",
       "      <td>4333.726929</td>\n",
       "      <td>11242.080198</td>\n",
       "      <td>11005.585902</td>\n",
       "      <td>9857.800468</td>\n",
       "      <td>64992.000000</td>\n",
       "      <td>3649.832923</td>\n",
       "      <td>5177.935241</td>\n",
       "    </tr>\n",
       "    <tr>\n",
       "      <th>population</th>\n",
       "      <td>2364.712278</td>\n",
       "      <td>1674.019157</td>\n",
       "      <td>3798.735391</td>\n",
       "      <td>733.968760</td>\n",
       "      <td>5709.118137</td>\n",
       "      <td>3689.974478</td>\n",
       "      <td>2178.283023</td>\n",
       "      <td>7336.259763</td>\n",
       "      <td>9117.233546</td>\n",
       "      <td>2459.438479</td>\n",
       "      <td>2527.015329</td>\n",
       "      <td>7145.382179</td>\n",
       "      <td>7034.529646</td>\n",
       "      <td>3823.553812</td>\n",
       "      <td>3649.832923</td>\n",
       "      <td>40620.000000</td>\n",
       "      <td>10431.001581</td>\n",
       "    </tr>\n",
       "    <tr>\n",
       "      <th>habitat</th>\n",
       "      <td>2985.912206</td>\n",
       "      <td>1535.547169</td>\n",
       "      <td>5205.101254</td>\n",
       "      <td>2289.963040</td>\n",
       "      <td>6675.138401</td>\n",
       "      <td>2391.899057</td>\n",
       "      <td>2025.525172</td>\n",
       "      <td>10248.056738</td>\n",
       "      <td>9361.864103</td>\n",
       "      <td>2201.623623</td>\n",
       "      <td>2346.180521</td>\n",
       "      <td>8569.086936</td>\n",
       "      <td>8510.551329</td>\n",
       "      <td>2998.165127</td>\n",
       "      <td>5177.935241</td>\n",
       "      <td>10431.001581</td>\n",
       "      <td>48744.000000</td>\n",
       "    </tr>\n",
       "  </tbody>\n",
       "</table>\n",
       "</div>"
      ],
      "text/plain": [
       "                             cap-shape   cap-surface     cap-color  \\\n",
       "cap-shape                 40620.000000   1011.493003   1193.768578   \n",
       "cap-surface                1011.493003  24372.000000   1236.828958   \n",
       "cap-color                  1193.768578   1236.828958  73116.000000   \n",
       "bruises                     530.776681    146.695811    384.838070   \n",
       "odor                       2448.503052   1385.708498   7164.821147   \n",
       "gill-spacing                 54.229876    929.337926   1299.555299   \n",
       "gill-size                   977.206565    625.211042   1796.936323   \n",
       "gill-color                 2245.151613   1617.494297   5832.239102   \n",
       "stalk-root                 4215.114824   2412.976732   4824.721663   \n",
       "stalk-surface-above-ring    624.355608    506.230074   1610.732543   \n",
       "stalk-surface-below-ring    307.051665    699.333029   2497.777181   \n",
       "stalk-color-above-ring     1871.870085   1553.528443   4970.170076   \n",
       "stalk-color-below-ring     1179.404895   1615.400201   5068.393964   \n",
       "ring-type                  1408.359529   1230.827400  10120.742122   \n",
       "spore-print-color          2558.981366   1318.851622   5335.212074   \n",
       "population                 2364.712278   1674.019157   3798.735391   \n",
       "habitat                    2985.912206   1535.547169   5205.101254   \n",
       "\n",
       "                              bruises          odor  gill-spacing  \\\n",
       "cap-shape                  530.776681   2448.503052     54.229876   \n",
       "cap-surface                146.695811   1385.708498    929.337926   \n",
       "cap-color                  384.838070   7164.821147   1299.555299   \n",
       "bruises                   8119.883087   3548.535179    726.942784   \n",
       "odor                      3548.535179  64992.000000   1500.504960   \n",
       "gill-spacing               726.942784   1500.504960   8116.617004   \n",
       "gill-size                 1108.124760   4703.776083     94.707626   \n",
       "gill-color                3435.836879   9898.449462    862.090827   \n",
       "stalk-root                2650.937973  12481.423734   2692.401910   \n",
       "stalk-surface-above-ring  2687.718334   4224.863722   1553.330059   \n",
       "stalk-surface-below-ring  2609.306376   6271.550490   1398.279336   \n",
       "stalk-color-above-ring    1897.013460  13172.786758   1307.336699   \n",
       "stalk-color-below-ring    1973.232800  12967.365435   1145.527552   \n",
       "ring-type                 4797.865583  15782.980493    684.708672   \n",
       "spore-print-color         3046.673704  10211.837811    773.675909   \n",
       "population                 733.968760   5709.118137   3689.974478   \n",
       "habitat                   2289.963040   6675.138401   2391.899057   \n",
       "\n",
       "                            gill-size    gill-color    stalk-root  \\\n",
       "cap-shape                  977.206565   2245.151613   4215.114824   \n",
       "cap-surface                625.211042   1617.494297   2412.976732   \n",
       "cap-color                 1796.936323   5832.239102   4824.721663   \n",
       "bruises                   1108.124760   3435.836879   2650.937973   \n",
       "odor                      4703.776083   9898.449462  12481.423734   \n",
       "gill-spacing                94.707626    862.090827   2692.401910   \n",
       "gill-size                 8119.318986   4994.285659   3199.673357   \n",
       "gill-color                4994.285659  89364.000000   8627.256386   \n",
       "stalk-root                3199.673357   8627.256386  32496.000000   \n",
       "stalk-surface-above-ring   234.949704   3051.832348   2314.813133   \n",
       "stalk-surface-below-ring   185.031607   3481.993923   7546.866580   \n",
       "stalk-color-above-ring    1088.724300  11516.419368   4438.484003   \n",
       "stalk-color-below-ring     979.175259  11306.083821   4441.619525   \n",
       "ring-type                 2645.539640   8737.084007   6369.280188   \n",
       "spore-print-color         3546.112224  15303.012180   8772.219784   \n",
       "population                2178.283023   7336.259763   9117.233546   \n",
       "habitat                   2025.525172  10248.056738   9361.864103   \n",
       "\n",
       "                          stalk-surface-above-ring  stalk-surface-below-ring  \\\n",
       "cap-shape                               624.355608                307.051665   \n",
       "cap-surface                             506.230074                699.333029   \n",
       "cap-color                              1610.732543               2497.777181   \n",
       "bruises                                2687.718334               2609.306376   \n",
       "odor                                   4224.863722               6271.550490   \n",
       "gill-spacing                           1553.330059               1398.279336   \n",
       "gill-size                               234.949704                185.031607   \n",
       "gill-color                             3051.832348               3481.993923   \n",
       "stalk-root                             2314.813133               7546.866580   \n",
       "stalk-surface-above-ring              24372.000000               5850.201063   \n",
       "stalk-surface-below-ring               5850.201063              24372.000000   \n",
       "stalk-color-above-ring                 6507.249697               5001.426312   \n",
       "stalk-color-below-ring                 4568.798015               5198.169585   \n",
       "ring-type                              5032.931820               6574.046143   \n",
       "spore-print-color                      4281.006272               4333.726929   \n",
       "population                             2459.438479               2527.015329   \n",
       "habitat                                2201.623623               2346.180521   \n",
       "\n",
       "                          stalk-color-above-ring  stalk-color-below-ring  \\\n",
       "cap-shape                            1871.870085             1179.404895   \n",
       "cap-surface                          1553.528443             1615.400201   \n",
       "cap-color                            4970.170076             5068.393964   \n",
       "bruises                              1897.013460             1973.232800   \n",
       "odor                                13172.786758            12967.365435   \n",
       "gill-spacing                         1307.336699             1145.527552   \n",
       "gill-size                            1088.724300              979.175259   \n",
       "gill-color                          11516.419368            11306.083821   \n",
       "stalk-root                           4438.484003             4441.619525   \n",
       "stalk-surface-above-ring             6507.249697             4568.798015   \n",
       "stalk-surface-below-ring             5001.426312             5198.169585   \n",
       "stalk-color-above-ring              64992.000000            26187.865365   \n",
       "stalk-color-below-ring              26187.865365            64992.000000   \n",
       "ring-type                           14701.875095            14354.345330   \n",
       "spore-print-color                   11242.080198            11005.585902   \n",
       "population                           7145.382179             7034.529646   \n",
       "habitat                              8569.086936             8510.551329   \n",
       "\n",
       "                             ring-type  spore-print-color    population  \\\n",
       "cap-shape                  1408.359529        2558.981366   2364.712278   \n",
       "cap-surface                1230.827400        1318.851622   1674.019157   \n",
       "cap-color                 10120.742122        5335.212074   3798.735391   \n",
       "bruises                    4797.865583        3046.673704    733.968760   \n",
       "odor                      15782.980493       10211.837811   5709.118137   \n",
       "gill-spacing                684.708672         773.675909   3689.974478   \n",
       "gill-size                  2645.539640        3546.112224   2178.283023   \n",
       "gill-color                 8737.084007       15303.012180   7336.259763   \n",
       "stalk-root                 6369.280188        8772.219784   9117.233546   \n",
       "stalk-surface-above-ring   5032.931820        4281.006272   2459.438479   \n",
       "stalk-surface-below-ring   6574.046143        4333.726929   2527.015329   \n",
       "stalk-color-above-ring    14701.875095       11242.080198   7145.382179   \n",
       "stalk-color-below-ring    14354.345330       11005.585902   7034.529646   \n",
       "ring-type                 32496.000000        9857.800468   3823.553812   \n",
       "spore-print-color          9857.800468       64992.000000   3649.832923   \n",
       "population                 3823.553812        3649.832923  40620.000000   \n",
       "habitat                    2998.165127        5177.935241  10431.001581   \n",
       "\n",
       "                               habitat  \n",
       "cap-shape                  2985.912206  \n",
       "cap-surface                1535.547169  \n",
       "cap-color                  5205.101254  \n",
       "bruises                    2289.963040  \n",
       "odor                       6675.138401  \n",
       "gill-spacing               2391.899057  \n",
       "gill-size                  2025.525172  \n",
       "gill-color                10248.056738  \n",
       "stalk-root                 9361.864103  \n",
       "stalk-surface-above-ring   2201.623623  \n",
       "stalk-surface-below-ring   2346.180521  \n",
       "stalk-color-above-ring     8569.086936  \n",
       "stalk-color-below-ring     8510.551329  \n",
       "ring-type                  2998.165127  \n",
       "spore-print-color          5177.935241  \n",
       "population                10431.001581  \n",
       "habitat                   48744.000000  "
      ]
     },
     "execution_count": 49,
     "metadata": {},
     "output_type": "execute_result"
    }
   ],
   "source": [
    "dependent_matrix"
   ]
  },
  {
   "cell_type": "markdown",
   "metadata": {},
   "source": [
    "We visualize the result. The effect is similar to the correlation matrix. The brighter color means more dependency."
   ]
  },
  {
   "cell_type": "code",
   "execution_count": 47,
   "metadata": {},
   "outputs": [
    {
     "data": {
      "image/png": "[encoded data removed]",
      "text/plain": [
       "<Figure size 432x288 with 1 Axes>"
      ]
     },
     "metadata": {
      "needs_background": "light"
     },
     "output_type": "display_data"
    }
   ],
   "source": [
    "plt.imshow(dependent_matrix, cmap='hot', interpolation='nearest')\n",
    "plt.show()"
   ]
  },
  {
   "cell_type": "markdown",
   "metadata": {},
   "source": [
    "We will pay attention to those pair of vairables with high dependency."
   ]
  },
  {
   "cell_type": "markdown",
   "metadata": {},
   "source": [
    "# Prediction Model"
   ]
  },
  {
   "cell_type": "markdown",
   "metadata": {},
   "source": [
    "## 1. Unsupervised learning"
   ]
  },
  {
   "cell_type": "markdown",
   "metadata": {},
   "source": [
    "We will look at the natural clusters generated by unsupervised learning algorithm in this section. We will compare these clusters with edibility of these mushrooms."
   ]
  },
  {
   "cell_type": "markdown",
   "metadata": {},
   "source": [
    "### 1.1 K-mode Algorithm"
   ]
  },
  {
   "cell_type": "markdown",
   "metadata": {},
   "source": [
    "We will implement a K-mode algorithm in this section. We set K = 2."
   ]
  },
  {
   "cell_type": "code",
   "execution_count": 50,
   "metadata": {},
   "outputs": [],
   "source": [
    "y = mushroom_df[\"class\"]"
   ]
  },
  {
   "cell_type": "code",
   "execution_count": 51,
   "metadata": {},
   "outputs": [],
   "source": [
    "X = mushroom_df_feature_reduced1"
   ]
  },
  {
   "cell_type": "code",
   "execution_count": 112,
   "metadata": {},
   "outputs": [],
   "source": [
    "inits = X.sample(2) # Generate the random initialization"
   ]
  },
  {
   "cell_type": "code",
   "execution_count": 51,
   "metadata": {},
   "outputs": [],
   "source": [
    "def calculate_rank(matrix, centers):\n",
    "    \n",
    "    disimilarity_score_lst_0 = []\n",
    "    disimilarity_score_lst_1 = []\n",
    "    \n",
    "    for i in range(matrix.shape[0]):\n",
    "        disimilarity_score_lst_0.append((matrix.iloc[i, :] != centers.iloc[0,:]).sum())\n",
    "        disimilarity_score_lst_1.append((matrix.iloc[i, :] != centers.iloc[1,:]).sum())\n",
    "    \n",
    "    disimilarity_matrix = pd.DataFrame({\"disimilarity_score_0\":disimilarity_score_lst_0, \"disimilarity_score_1\":disimilarity_score_lst_1})\n",
    "    \n",
    "    rank = disimilarity_matrix.idxmin(axis = 1)\n",
    "    \n",
    "    return rank"
   ]
  },
  {
   "cell_type": "code",
   "execution_count": 52,
   "metadata": {},
   "outputs": [],
   "source": [
    "def calculate_centers(matrix, rank):\n",
    "    \n",
    "    matrix_with_rank = matrix.assign(rank = rank)\n",
    "    \n",
    "    centers = matrix_with_rank.groupby(\"rank\").aggregate(lambda x: x.value_counts().index[0])\n",
    "    \n",
    "    return centers"
   ]
  },
  {
   "cell_type": "code",
   "execution_count": 113,
   "metadata": {},
   "outputs": [
    {
     "name": "stdout",
     "output_type": "stream",
     "text": [
      "1\n",
      "2\n",
      "3\n",
      "4\n"
     ]
    }
   ],
   "source": [
    "tracker = 0\n",
    "centers = inits\n",
    "while True:\n",
    "    rank = calculate_rank(X, centers)\n",
    "    new_centers = calculate_centers(X, rank)\n",
    "    if ((centers.iloc[0, :] != new_centers.iloc[0, :]).sum()<=0) and ((centers.iloc[1, :] != new_centers.iloc[1, :]).sum()<=0):\n",
    "        break\n",
    "    else:\n",
    "        centers = new_centers\n",
    "    tracker = tracker + 1\n",
    "    print(tracker)"
   ]
  },
  {
   "cell_type": "code",
   "execution_count": 114,
   "metadata": {},
   "outputs": [],
   "source": [
    "y_predict = rank.replace({\"disimilarity_score_0\":0, \"disimilarity_score_1\":1})"
   ]
  },
  {
   "cell_type": "code",
   "execution_count": 116,
   "metadata": {},
   "outputs": [
    {
     "data": {
      "text/plain": [
       "0.8911866075824717"
      ]
     },
     "execution_count": 116,
     "metadata": {},
     "output_type": "execute_result"
    }
   ],
   "source": [
    "(y == y_predict).mean()"
   ]
  },
  {
   "cell_type": "code",
   "execution_count": 119,
   "metadata": {},
   "outputs": [],
   "source": [
    "cm = confusion_matrix(y, y_predict)"
   ]
  },
  {
   "cell_type": "code",
   "execution_count": 121,
   "metadata": {},
   "outputs": [
    {
     "data": {
      "text/plain": [
       "<sklearn.metrics._plot.confusion_matrix.ConfusionMatrixDisplay at 0x1dff1f18430>"
      ]
     },
     "execution_count": 121,
     "metadata": {},
     "output_type": "execute_result"
    },
    {
     "data": {
      "image/png": "[encoded data removed]",
      "text/plain": [
       "<Figure size 432x288 with 2 Axes>"
      ]
     },
     "metadata": {
      "needs_background": "light"
     },
     "output_type": "display_data"
    }
   ],
   "source": [
    "disp = ConfusionMatrixDisplay(cm, [\"Most\", \"Least\"])\n",
    "disp.plot()"
   ]
  },
  {
   "cell_type": "code",
   "execution_count": 124,
   "metadata": {},
   "outputs": [
    {
     "data": {
      "text/plain": [
       "(3100, 816, 68, 4140)"
      ]
     },
     "execution_count": 124,
     "metadata": {},
     "output_type": "execute_result"
    }
   ],
   "source": [
    "tn, fp, fn, tp =  cm.ravel()\n",
    "(tn, fp, fn, tp)"
   ]
  },
  {
   "cell_type": "markdown",
   "metadata": {},
   "source": [
    "## 2. Supervised learning"
   ]
  },
  {
   "cell_type": "markdown",
   "metadata": {},
   "source": [
    "### 2.1 Decision Tree"
   ]
  },
  {
   "cell_type": "code",
   "execution_count": 182,
   "metadata": {},
   "outputs": [
    {
     "data": {
      "text/html": [
       "<div>\n",
       "<style scoped>\n",
       "    .dataframe tbody tr th:only-of-type {\n",
       "        vertical-align: middle;\n",
       "    }\n",
       "\n",
       "    .dataframe tbody tr th {\n",
       "        vertical-align: top;\n",
       "    }\n",
       "\n",
       "    .dataframe thead th {\n",
       "        text-align: right;\n",
       "    }\n",
       "</style>\n",
       "<table border=\"1\" class=\"dataframe\">\n",
       "  <thead>\n",
       "    <tr style=\"text-align: right;\">\n",
       "      <th></th>\n",
       "      <th>cap-shape</th>\n",
       "      <th>cap-surface</th>\n",
       "      <th>cap-color</th>\n",
       "      <th>bruises</th>\n",
       "      <th>odor</th>\n",
       "      <th>gill-spacing</th>\n",
       "      <th>gill-size</th>\n",
       "      <th>gill-color</th>\n",
       "      <th>stalk-root</th>\n",
       "      <th>stalk-surface-above-ring</th>\n",
       "      <th>stalk-surface-below-ring</th>\n",
       "      <th>stalk-color-above-ring</th>\n",
       "      <th>stalk-color-below-ring</th>\n",
       "      <th>ring-type</th>\n",
       "      <th>spore-print-color</th>\n",
       "      <th>population</th>\n",
       "      <th>habitat</th>\n",
       "    </tr>\n",
       "  </thead>\n",
       "  <tbody>\n",
       "    <tr>\n",
       "      <th>0</th>\n",
       "      <td>x</td>\n",
       "      <td>s</td>\n",
       "      <td>n</td>\n",
       "      <td>1</td>\n",
       "      <td>p</td>\n",
       "      <td>c</td>\n",
       "      <td>n</td>\n",
       "      <td>k</td>\n",
       "      <td>e</td>\n",
       "      <td>s</td>\n",
       "      <td>s</td>\n",
       "      <td>w</td>\n",
       "      <td>w</td>\n",
       "      <td>p</td>\n",
       "      <td>k</td>\n",
       "      <td>s</td>\n",
       "      <td>u</td>\n",
       "    </tr>\n",
       "    <tr>\n",
       "      <th>1</th>\n",
       "      <td>x</td>\n",
       "      <td>s</td>\n",
       "      <td>y</td>\n",
       "      <td>1</td>\n",
       "      <td>a</td>\n",
       "      <td>c</td>\n",
       "      <td>b</td>\n",
       "      <td>k</td>\n",
       "      <td>c</td>\n",
       "      <td>s</td>\n",
       "      <td>s</td>\n",
       "      <td>w</td>\n",
       "      <td>w</td>\n",
       "      <td>p</td>\n",
       "      <td>n</td>\n",
       "      <td>n</td>\n",
       "      <td>g</td>\n",
       "    </tr>\n",
       "    <tr>\n",
       "      <th>2</th>\n",
       "      <td>b</td>\n",
       "      <td>s</td>\n",
       "      <td>w</td>\n",
       "      <td>1</td>\n",
       "      <td>l</td>\n",
       "      <td>c</td>\n",
       "      <td>b</td>\n",
       "      <td>n</td>\n",
       "      <td>c</td>\n",
       "      <td>s</td>\n",
       "      <td>s</td>\n",
       "      <td>w</td>\n",
       "      <td>w</td>\n",
       "      <td>p</td>\n",
       "      <td>n</td>\n",
       "      <td>n</td>\n",
       "      <td>m</td>\n",
       "    </tr>\n",
       "    <tr>\n",
       "      <th>3</th>\n",
       "      <td>x</td>\n",
       "      <td>y</td>\n",
       "      <td>w</td>\n",
       "      <td>1</td>\n",
       "      <td>p</td>\n",
       "      <td>c</td>\n",
       "      <td>n</td>\n",
       "      <td>n</td>\n",
       "      <td>e</td>\n",
       "      <td>s</td>\n",
       "      <td>s</td>\n",
       "      <td>w</td>\n",
       "      <td>w</td>\n",
       "      <td>p</td>\n",
       "      <td>k</td>\n",
       "      <td>s</td>\n",
       "      <td>u</td>\n",
       "    </tr>\n",
       "    <tr>\n",
       "      <th>4</th>\n",
       "      <td>x</td>\n",
       "      <td>s</td>\n",
       "      <td>g</td>\n",
       "      <td>0</td>\n",
       "      <td>n</td>\n",
       "      <td>w</td>\n",
       "      <td>b</td>\n",
       "      <td>k</td>\n",
       "      <td>e</td>\n",
       "      <td>s</td>\n",
       "      <td>s</td>\n",
       "      <td>w</td>\n",
       "      <td>w</td>\n",
       "      <td>e</td>\n",
       "      <td>n</td>\n",
       "      <td>a</td>\n",
       "      <td>g</td>\n",
       "    </tr>\n",
       "  </tbody>\n",
       "</table>\n",
       "</div>"
      ],
      "text/plain": [
       "  cap-shape cap-surface cap-color  bruises odor gill-spacing gill-size  \\\n",
       "0         x           s         n        1    p            c         n   \n",
       "1         x           s         y        1    a            c         b   \n",
       "2         b           s         w        1    l            c         b   \n",
       "3         x           y         w        1    p            c         n   \n",
       "4         x           s         g        0    n            w         b   \n",
       "\n",
       "  gill-color stalk-root stalk-surface-above-ring stalk-surface-below-ring  \\\n",
       "0          k          e                        s                        s   \n",
       "1          k          c                        s                        s   \n",
       "2          n          c                        s                        s   \n",
       "3          n          e                        s                        s   \n",
       "4          k          e                        s                        s   \n",
       "\n",
       "  stalk-color-above-ring stalk-color-below-ring ring-type spore-print-color  \\\n",
       "0                      w                      w         p                 k   \n",
       "1                      w                      w         p                 n   \n",
       "2                      w                      w         p                 n   \n",
       "3                      w                      w         p                 k   \n",
       "4                      w                      w         e                 n   \n",
       "\n",
       "  population habitat  \n",
       "0          s       u  \n",
       "1          n       g  \n",
       "2          n       m  \n",
       "3          s       u  \n",
       "4          a       g  "
      ]
     },
     "execution_count": 182,
     "metadata": {},
     "output_type": "execute_result"
    }
   ],
   "source": [
    "X.head()"
   ]
  },
  {
   "cell_type": "code",
   "execution_count": 54,
   "metadata": {},
   "outputs": [],
   "source": [
    "# We will use one-hot encoding to convert all the categorical variables to dummy variables\n",
    "ohe = OneHotEncoder()\n",
    "# drop first to avoid perfect colinearity\n",
    "OneHotEncoder(drop='first')\n",
    "ohe.fit(X)\n",
    "out = ohe.transform(X).toarray()"
   ]
  },
  {
   "cell_type": "code",
   "execution_count": 137,
   "metadata": {},
   "outputs": [
    {
     "data": {
      "text/plain": [
       "(8124, 105)"
      ]
     },
     "execution_count": 137,
     "metadata": {},
     "output_type": "execute_result"
    }
   ],
   "source": [
    "# We convert 17 features to 105 dummy variables which is reasonable\n",
    "out.shape"
   ]
  },
  {
   "cell_type": "code",
   "execution_count": 174,
   "metadata": {},
   "outputs": [],
   "source": [
    "# Here, we use train test split, with test set size to be 0.2\n",
    "X_train, X_test, y_train, y_test = train_test_split(out, y, test_size=0.2, random_state=94)"
   ]
  },
  {
   "cell_type": "code",
   "execution_count": 175,
   "metadata": {},
   "outputs": [],
   "source": [
    "clf = DecisionTreeClassifier(random_state=94)"
   ]
  },
  {
   "cell_type": "code",
   "execution_count": 176,
   "metadata": {},
   "outputs": [
    {
     "data": {
      "text/plain": [
       "DecisionTreeClassifier(random_state=94)"
      ]
     },
     "execution_count": 176,
     "metadata": {},
     "output_type": "execute_result"
    }
   ],
   "source": [
    "clf.fit(X_train, y_train)"
   ]
  },
  {
   "cell_type": "code",
   "execution_count": 177,
   "metadata": {},
   "outputs": [],
   "source": [
    "# predict training set\n",
    "y_train_predict = clf.predict(X_train)"
   ]
  },
  {
   "cell_type": "code",
   "execution_count": 178,
   "metadata": {},
   "outputs": [],
   "source": [
    "# predict test set\n",
    "y_test_predict = clf.predict(X_test)"
   ]
  },
  {
   "cell_type": "code",
   "execution_count": 179,
   "metadata": {},
   "outputs": [
    {
     "data": {
      "text/plain": [
       "1.0"
      ]
     },
     "execution_count": 179,
     "metadata": {},
     "output_type": "execute_result"
    }
   ],
   "source": [
    "# training set accuracy is 100%\n",
    "(y_train_predict == y_train).mean()"
   ]
  },
  {
   "cell_type": "code",
   "execution_count": 180,
   "metadata": {},
   "outputs": [
    {
     "data": {
      "text/plain": [
       "1.0"
      ]
     },
     "execution_count": 180,
     "metadata": {},
     "output_type": "execute_result"
    }
   ],
   "source": [
    "# test set accuracy is 100%. So, there is no sign of overfit\n",
    "(y_test_predict == y_test).mean()"
   ]
  },
  {
   "cell_type": "markdown",
   "metadata": {},
   "source": [
    "### 2.2 Random Forest "
   ]
  },
  {
   "cell_type": "markdown",
   "metadata": {},
   "source": [
    "The Decision Tree Classifier reaches a perfect accuracy in predicting mushroom edibility."
   ]
  },
  {
   "cell_type": "code",
   "execution_count": 52,
   "metadata": {},
   "outputs": [
    {
     "data": {
      "text/html": [
       "<div>\n",
       "<style scoped>\n",
       "    .dataframe tbody tr th:only-of-type {\n",
       "        vertical-align: middle;\n",
       "    }\n",
       "\n",
       "    .dataframe tbody tr th {\n",
       "        vertical-align: top;\n",
       "    }\n",
       "\n",
       "    .dataframe thead th {\n",
       "        text-align: right;\n",
       "    }\n",
       "</style>\n",
       "<table border=\"1\" class=\"dataframe\">\n",
       "  <thead>\n",
       "    <tr style=\"text-align: right;\">\n",
       "      <th></th>\n",
       "      <th>cap-shape</th>\n",
       "      <th>cap-surface</th>\n",
       "      <th>cap-color</th>\n",
       "      <th>bruises</th>\n",
       "      <th>odor</th>\n",
       "      <th>gill-spacing</th>\n",
       "      <th>gill-size</th>\n",
       "      <th>gill-color</th>\n",
       "      <th>stalk-root</th>\n",
       "      <th>stalk-surface-above-ring</th>\n",
       "      <th>stalk-surface-below-ring</th>\n",
       "      <th>stalk-color-above-ring</th>\n",
       "      <th>stalk-color-below-ring</th>\n",
       "      <th>ring-type</th>\n",
       "      <th>spore-print-color</th>\n",
       "      <th>population</th>\n",
       "      <th>habitat</th>\n",
       "    </tr>\n",
       "  </thead>\n",
       "  <tbody>\n",
       "    <tr>\n",
       "      <th>0</th>\n",
       "      <td>x</td>\n",
       "      <td>s</td>\n",
       "      <td>n</td>\n",
       "      <td>1</td>\n",
       "      <td>p</td>\n",
       "      <td>c</td>\n",
       "      <td>n</td>\n",
       "      <td>k</td>\n",
       "      <td>e</td>\n",
       "      <td>s</td>\n",
       "      <td>s</td>\n",
       "      <td>w</td>\n",
       "      <td>w</td>\n",
       "      <td>p</td>\n",
       "      <td>k</td>\n",
       "      <td>s</td>\n",
       "      <td>u</td>\n",
       "    </tr>\n",
       "    <tr>\n",
       "      <th>1</th>\n",
       "      <td>x</td>\n",
       "      <td>s</td>\n",
       "      <td>y</td>\n",
       "      <td>1</td>\n",
       "      <td>a</td>\n",
       "      <td>c</td>\n",
       "      <td>b</td>\n",
       "      <td>k</td>\n",
       "      <td>c</td>\n",
       "      <td>s</td>\n",
       "      <td>s</td>\n",
       "      <td>w</td>\n",
       "      <td>w</td>\n",
       "      <td>p</td>\n",
       "      <td>n</td>\n",
       "      <td>n</td>\n",
       "      <td>g</td>\n",
       "    </tr>\n",
       "    <tr>\n",
       "      <th>2</th>\n",
       "      <td>b</td>\n",
       "      <td>s</td>\n",
       "      <td>w</td>\n",
       "      <td>1</td>\n",
       "      <td>l</td>\n",
       "      <td>c</td>\n",
       "      <td>b</td>\n",
       "      <td>n</td>\n",
       "      <td>c</td>\n",
       "      <td>s</td>\n",
       "      <td>s</td>\n",
       "      <td>w</td>\n",
       "      <td>w</td>\n",
       "      <td>p</td>\n",
       "      <td>n</td>\n",
       "      <td>n</td>\n",
       "      <td>m</td>\n",
       "    </tr>\n",
       "    <tr>\n",
       "      <th>3</th>\n",
       "      <td>x</td>\n",
       "      <td>y</td>\n",
       "      <td>w</td>\n",
       "      <td>1</td>\n",
       "      <td>p</td>\n",
       "      <td>c</td>\n",
       "      <td>n</td>\n",
       "      <td>n</td>\n",
       "      <td>e</td>\n",
       "      <td>s</td>\n",
       "      <td>s</td>\n",
       "      <td>w</td>\n",
       "      <td>w</td>\n",
       "      <td>p</td>\n",
       "      <td>k</td>\n",
       "      <td>s</td>\n",
       "      <td>u</td>\n",
       "    </tr>\n",
       "    <tr>\n",
       "      <th>4</th>\n",
       "      <td>x</td>\n",
       "      <td>s</td>\n",
       "      <td>g</td>\n",
       "      <td>0</td>\n",
       "      <td>n</td>\n",
       "      <td>w</td>\n",
       "      <td>b</td>\n",
       "      <td>k</td>\n",
       "      <td>e</td>\n",
       "      <td>s</td>\n",
       "      <td>s</td>\n",
       "      <td>w</td>\n",
       "      <td>w</td>\n",
       "      <td>e</td>\n",
       "      <td>n</td>\n",
       "      <td>a</td>\n",
       "      <td>g</td>\n",
       "    </tr>\n",
       "  </tbody>\n",
       "</table>\n",
       "</div>"
      ],
      "text/plain": [
       "  cap-shape cap-surface cap-color  bruises odor gill-spacing gill-size  \\\n",
       "0         x           s         n        1    p            c         n   \n",
       "1         x           s         y        1    a            c         b   \n",
       "2         b           s         w        1    l            c         b   \n",
       "3         x           y         w        1    p            c         n   \n",
       "4         x           s         g        0    n            w         b   \n",
       "\n",
       "  gill-color stalk-root stalk-surface-above-ring stalk-surface-below-ring  \\\n",
       "0          k          e                        s                        s   \n",
       "1          k          c                        s                        s   \n",
       "2          n          c                        s                        s   \n",
       "3          n          e                        s                        s   \n",
       "4          k          e                        s                        s   \n",
       "\n",
       "  stalk-color-above-ring stalk-color-below-ring ring-type spore-print-color  \\\n",
       "0                      w                      w         p                 k   \n",
       "1                      w                      w         p                 n   \n",
       "2                      w                      w         p                 n   \n",
       "3                      w                      w         p                 k   \n",
       "4                      w                      w         e                 n   \n",
       "\n",
       "  population habitat  \n",
       "0          s       u  \n",
       "1          n       g  \n",
       "2          n       m  \n",
       "3          s       u  \n",
       "4          a       g  "
      ]
     },
     "execution_count": 52,
     "metadata": {},
     "output_type": "execute_result"
    }
   ],
   "source": [
    "# Check for the features\n",
    "X.head()"
   ]
  },
  {
   "cell_type": "code",
   "execution_count": 55,
   "metadata": {},
   "outputs": [],
   "source": [
    "# Train-test split: with test size to be 0.25\n",
    "X_train, X_test, y_train, y_test = train_test_split(out, y, test_size=0.25, random_state=30)"
   ]
  },
  {
   "cell_type": "code",
   "execution_count": 59,
   "metadata": {},
   "outputs": [],
   "source": [
    "# Training the machine learning model using random forest\n",
    "# Create the model with 100 trees\n",
    "clf = RandomForestClassifier(n_estimators = 100, bootstrap = True)\n",
    "\n",
    "# Fit on training data\n",
    "model_mushroom = clf.fit(X_train, y_train)"
   ]
  },
  {
   "cell_type": "code",
   "execution_count": 60,
   "metadata": {},
   "outputs": [
    {
     "name": "stdout",
     "output_type": "stream",
     "text": [
      "Correct Prediction (%) for mushrooms: 100.0\n"
     ]
    }
   ],
   "source": [
    "# Report the accuracy score\n",
    "print('Correct Prediction (%) for mushrooms:', \n",
    "      accuracy_score(y_test, model_mushroom.predict(X_test), normalize=True)*100.0)"
   ]
  },
  {
   "cell_type": "code",
   "execution_count": 61,
   "metadata": {},
   "outputs": [
    {
     "name": "stdout",
     "output_type": "stream",
     "text": [
      "              precision    recall  f1-score   support\n",
      "\n",
      "           0       1.00      1.00      1.00       933\n",
      "           1       1.00      1.00      1.00      1098\n",
      "\n",
      "    accuracy                           1.00      2031\n",
      "   macro avg       1.00      1.00      1.00      2031\n",
      "weighted avg       1.00      1.00      1.00      2031\n",
      "\n"
     ]
    }
   ],
   "source": [
    "# Run the code to view the classification report metrics\n",
    "\n",
    "report = classification_report(y_test, model_mushroom.predict(X_test))\n",
    "print(report)"
   ]
  },
  {
   "cell_type": "markdown",
   "metadata": {},
   "source": [
    "From our accuracy score and the classification report, we can see that the Random Forest model also achieves a perfect accuracy (100%) in predicting mushroom accuracy."
   ]
  },
  {
   "cell_type": "markdown",
   "metadata": {},
   "source": [
    "We thought this might be a conincidence of reaching a 100% accuracy. Therefore, we changed the number of trees in forest in the RandomForestClassification Model and try again with this model."
   ]
  },
  {
   "cell_type": "code",
   "execution_count": 62,
   "metadata": {},
   "outputs": [],
   "source": [
    "# Training the machine learning model using random forest\n",
    "# Create the model with 100 trees\n",
    "clf = RandomForestClassifier(n_estimators = 50, bootstrap = True)\n",
    "\n",
    "# Fit on training data\n",
    "model_mushroom = clf.fit(X_train, y_train)"
   ]
  },
  {
   "cell_type": "code",
   "execution_count": null,
   "metadata": {},
   "outputs": [],
   "source": [
    "# Report the accuracy score\n",
    "print('Correct Prediction (%) for mushrooms with 50 trees:', \n",
    "      accuracy_score(y_test, model_mushroom.predict(X_test), normalize=True)*100.0)"
   ]
  },
  {
   "cell_type": "code",
   "execution_count": 63,
   "metadata": {},
   "outputs": [
    {
     "name": "stdout",
     "output_type": "stream",
     "text": [
      "              precision    recall  f1-score   support\n",
      "\n",
      "           0       1.00      1.00      1.00       933\n",
      "           1       1.00      1.00      1.00      1098\n",
      "\n",
      "    accuracy                           1.00      2031\n",
      "   macro avg       1.00      1.00      1.00      2031\n",
      "weighted avg       1.00      1.00      1.00      2031\n",
      "\n"
     ]
    }
   ],
   "source": [
    "# Run the code to view the classification report metrics\n",
    "\n",
    "report = classification_report(y_test, model_mushroom.predict(X_test))\n",
    "print(report)"
   ]
  },
  {
   "cell_type": "markdown",
   "metadata": {},
   "source": [
    "The result is still 100% accuracy. Therefore, we can confidently say the Random Forest model also achieves a perfect accuracy in predicting mushroom accuracy."
   ]
  },
  {
   "cell_type": "markdown",
   "metadata": {},
   "source": [
    "# Ethics & Privacy"
   ]
  },
  {
   "cell_type": "markdown",
   "metadata": {},
   "source": [
    "First of all, this model might have some unintended consequences. For example, knowing that this model can provide extra information on the edibility of the mushrooms. One might choose to eat mushroom when there is absolutely no need for him to take the mushroom.(e.g. When one has enough food but just want one more course on his dinner table). Considering that even our prediction shows 100% accurate rate for our test set, the modle can still be wrong if new types of mushrooms are found. Moreover, our k mode classifying model have more false positive prediction on the edibility which this prediction might increase health risk by misidendifying a poisonous mushroom as edible. Moreover, some mushroom feature might not be very distinct for non-specialist to recognize.( For example a spicy smell might be misunderstanded as a pungent smell.And our model havely relays on such feature to make predcitions.) Therefore our prediction might fail to cover all people. Since our project focus on the study of mushrooms instead of on objects that are more related to people, its quite unlikely for personal information to leak. However, it is still possible to make inferences about personal information based on where poisonous mushrooms are located."
   ]
  },
  {
   "cell_type": "markdown",
   "metadata": {},
   "source": [
    "# Conclusion & Discussion"
   ]
  },
  {
   "cell_type": "markdown",
   "metadata": {},
   "source": [
    "Results\n",
    "In our project, we are able to first explore the data and find some interesting knowledge about mushroom edibility. For example, we can see that based on the contingency graph, mushroom odor, gill color and bruises are all strong predictors for mushroom edibility. For example, from this dataset, all mushroom that has a buff gill color are poisonous. Based on these strong associations we found in our dataset, we are able to exclude some features out of our prediction model. We also to found internal correlation between different mushroom features, for example ring type might be correlated to odor, which is very interesting and might inspire some evolutionary biology research on why these two intuitively unrelated features are correlated. We then generate prediction models based on both unsupervised/supervised learning method. We are able to see that supervised learning method has a better performance than the unsupervised learning method, and in this prediction, both a decision tree and a random forest approach can achieve 100% prediction accuracy, which serves as a very competent model in predicting mushroom edibility.\n",
    "Discussion\n",
    "Although we are able to achieve perfect accuracy in our prediction model, there is still few considerations we need to think about. For example, there is over 10000 types of mushrooms in the world and our data set only includes about 8000 which is only half of them. So there is still possibility that our prediction model might fail to include some important features for the other 5000 mushrooms that are not in our dataset. Moreover, currently our model uses 17 features for the prediction, however if we think practically, one is nearly impossible to correctly identify all the 17 features. Therefore, we might need to introduce some error prone feature to our model as well as trying to further reduce the features that is needed for the model such that we are able to still make correct prediction but with fewer number of features needed.\n"
   ]
  },
  {
   "cell_type": "markdown",
   "metadata": {},
   "source": [
    "# Team Contributions"
   ]
  },
  {
   "cell_type": "markdown",
   "metadata": {},
   "source": [
    "Xuhui liu: decision tree coding, data cleaning, data finding, feature explination.\n",
    "Yijing Zhang:random Forest coding, generating contigency table, research hypothesis write up\n",
    "Tianyi Bian: Compling all code, conclusion & discussion, and video presentation."
   ]
  }
 ],
 "metadata": {
  "kernelspec": {
   "display_name": "Python 3 (ipykernel)",
   "language": "python",
   "name": "python3"
  },
  "language_info": {
   "codemirror_mode": {
    "name": "ipython",
    "version": 3
   },
   "file_extension": ".py",
   "mimetype": "text/x-python",
   "name": "python",
   "nbconvert_exporter": "python",
   "pygments_lexer": "ipython3",
   "version": "3.9.7"
  }
 },
 "nbformat": 4,
 "nbformat_minor": 4
}
