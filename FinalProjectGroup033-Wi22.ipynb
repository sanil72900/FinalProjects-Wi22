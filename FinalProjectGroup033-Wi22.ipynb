{
 "cells": [
  {
   "cell_type": "markdown",
   "id": "e2c84570",
   "metadata": {},
   "source": [
    "# COGS 108 - Electric Vehicles and Electricity Prices"
   ]
  },
  {
   "cell_type": "markdown",
   "id": "deeeb2fa",
   "metadata": {},
   "source": [
    "### Video Report - https://drive.google.com/file/d/10VexNr8x5wrzDQiMaTRhzvTGV6PtksDp/view?usp=sharing"
   ]
  },
  {
   "cell_type": "markdown",
   "id": "720a9197",
   "metadata": {},
   "source": [
    "## Permissions"
   ]
  },
  {
   "cell_type": "markdown",
   "id": "5bef589e",
   "metadata": {},
   "source": [
    "- [X] YES - make available\n",
    "- [ ] NO - keep private"
   ]
  },
  {
   "cell_type": "markdown",
   "id": "8f37c952",
   "metadata": {},
   "source": [
    "# Overview"
   ]
  },
  {
   "cell_type": "markdown",
   "id": "e9c627b4",
   "metadata": {},
   "source": [
    "With the recent push for more sustainable and eco-friendly modes of transportation, the purpose of this study is to explore whether there is a positive correlation between the increasing presence of electric vehicles and the price of electricity in the U.S. To answer this question, our team gathered datasets of electric vehicle sales and charging stations to measure electric vehicle presence. After cleaning and exploring the data, we conducted OLS regression analysis on several variables to determine their impact on the national electricity price. Overall, we concluded that electric vehicle sales, charging stations, and port stations do have a moderate positive correlation with the electricity price; however, this is likely due to coinciding trends over time rather than direct influence, and causality cannot be proved."
   ]
  },
  {
   "cell_type": "markdown",
   "id": "a6503080",
   "metadata": {},
   "source": [
    "# Names\n",
    "\n",
    "- Soyon Kim\n",
    "- Lucy Gai\n",
    "- Jenna Yang\n",
    "- Ann Chwu\n",
    "- Darian Hong"
   ]
  },
  {
   "cell_type": "markdown",
   "id": "d8c1698b",
   "metadata": {},
   "source": [
    "<a id='research_question'></a>\n",
    "# Research Question"
   ]
  },
  {
   "cell_type": "markdown",
   "id": "be979137",
   "metadata": {},
   "source": [
    "Is there a positive correlation between the increasing presence of electric vehicles in the United States and the price of electricity nationwide? Electric vehicle presence is defined with the number of plug-in electric vehicles (PEVs) sold and number of charging stations built in the US. Electricity prices are defined through residential, commercial, and industrial prices in cents/kWh."
   ]
  },
  {
   "cell_type": "markdown",
   "id": "5775f09c",
   "metadata": {},
   "source": [
    "## Background and Prior Work"
   ]
  },
  {
   "cell_type": "markdown",
   "id": "bac5f3f7",
   "metadata": {},
   "source": [
    "Electric vehicles (EV) relying on electric motors more than any other energy source are rapidly becoming the future of ubiquitous technology. Electric transportation advocates argue that the transition can lend a solution to climate change, introduce a new job market, and provide an alternate option for already expensive, traditional cars. Along with Tesla, more companies like Uber, Lucid Motors, and Volta Charging are joining the trend of EV’s. \n",
    "\n",
    "As data has shown, the U.S. electric vehicle market has grown from just a few thousand vehicles in 2010 to more than 300,000 sold annually in 2020 (2). A UC Berkeley study on electric vehicles questions how EV adapation and sales will impact factors such as employment, healthcare costs, and greenhouse gas emissions (3). In particular, it analyses consumer adoption trends and patterns for EV sales and then applies potential macroeconomic impacts this may have. Yet with the growth of EVs and their integration into society, there must also be assessments and modifications to U.S. electric power generation and distribution systems. A Department of Energy summary report on EVs discusses the quick expansion of EVs and questions the ability of U.S. energy generation, as well as generation capacity in future years to come (4). These concerns on additional electricity consumption and growing demand has led us to also question how the rise in EVs will affect electricity prices across the country. \n",
    "\n",
    "References (include links):\n",
    "- 1) https://energynews.us/2022/01/28/transition-to-electric-transportation-must-elevate-equity-beyond-evs-advocates-say/ \n",
    "- 2) https://theicct.org/publication/evaluating-electric-vehicle-market-growth-across-u-s-cities/\n",
    "- 3) http://citeseerx.ist.psu.edu/viewdoc/download?doi=10.1.1.1048.8973&rep=rep1&type=pdf\n",
    "- 4) https://www.energy.gov/sites/prod/files/2019/12/f69/GITT%20ISATT%20EVs%20at%20Scale%20Grid%20Summary%20Report%20FINAL%20Nov2019.pdf"
   ]
  },
  {
   "cell_type": "markdown",
   "id": "c3e8c07c",
   "metadata": {},
   "source": [
    "# Hypothesis\n"
   ]
  },
  {
   "cell_type": "markdown",
   "id": "50967c16",
   "metadata": {},
   "source": [
    "We hypothesize that the more EV’s there are on the roads nationwide, the more electricity prices will increase across the entire nation of the U.S. The increased use of EVs would likely promote the growth of the electric power industry as they must accomodate for higher demands regarding electric power generation and usage, thus increasing price."
   ]
  },
  {
   "cell_type": "markdown",
   "id": "6dea3b56",
   "metadata": {},
   "source": [
    "# Dataset(s)"
   ]
  },
  {
   "cell_type": "markdown",
   "id": "03d04ff6",
   "metadata": {},
   "source": [
    "Sales to Ultimate Customers (Megawatt Hours) by State by Sector by Provider, 1990-2020\n",
    "- https://www.eia.gov/electricity/data.php > Sales > Monthly Form EIA-861M (formerly EIA-826) detailed data (1990 - present) > sales_revenue.xlsx\n",
    "- 19485 observations\n",
    "- This dataset contains monthly and yearly electricity sales in the US both nationally and by state, containing information from 1990 to the present. The sales are broken down into different categories: residential, commercial, industrial, transportation, other, and total. We want to use this data to analyze electricity prices and see how trends in prices (measured in cents/kWh) within each category compare to trends in electric vehicle and charging station data.\n",
    "\n",
    "US Plug-In Electric Vehicle Sales by Model\n",
    "- https://afdc.energy.gov/data/10567\n",
    "- 55 observations\n",
    "- This dataset contains the number of total sales of electric vehicles in the U.S from 2011 to 2018, broken down by the vehicle model. We would like to use this dataset to measure/estimate the number of EVs that were sold per year and compare the different years.\n",
    "\n",
    "U.S. Public and Private Electric Vehicle Charging Infrastructure\n",
    "- https://afdc.energy.gov/data/10964 \n",
    "- 11 observations\n",
    "- This dataset contains the number of electric vehicle supply equipment (EVSE) ports and the number of EV charging station locations in the US from 2011 to 2021. We want to use this dataset to compare the change in number over time, as well as combine the information with the EV sales to define electric vehicle presence."
   ]
  },
  {
   "cell_type": "markdown",
   "id": "6add8ebc",
   "metadata": {},
   "source": [
    "# Setup"
   ]
  },
  {
   "cell_type": "code",
   "execution_count": 82,
   "id": "ff2fa752",
   "metadata": {},
   "outputs": [],
   "source": [
    "import pandas as pd\n",
    "import numpy as np\n",
    "import matplotlib.pyplot as plt\n",
    "import seaborn as sns\n",
    "import patsy\n",
    "import statsmodels.api as sm"
   ]
  },
  {
   "cell_type": "markdown",
   "id": "e2f9b948",
   "metadata": {},
   "source": [
    "# Data Cleaning"
   ]
  },
  {
   "cell_type": "markdown",
   "id": "750408dd",
   "metadata": {},
   "source": [
    "The data was not very clean as we had to change the type of the values often and had quite a bit of invalid entries to replace. To get the data into a usable format, we had to convert the numbers from strings into integers, convert all letters to lowercase and remove commas, and replace empty data with 0. We removed unnecessary columns and renamed necessary columns with more meaningful labels. For example, we renamed “Unnamed: 0_level_0” to “Year”. Finally, we manipulated certain data to also include the yearly percent change of certain column values (electricity price, EV sales, port and station counts) to account for autocorrelation when analyzing our data."
   ]
  },
  {
   "cell_type": "markdown",
   "id": "1e4e76e2",
   "metadata": {},
   "source": [
    "## Electric Vehicle Sales by Model Dataset"
   ]
  },
  {
   "cell_type": "markdown",
   "id": "68064ea4",
   "metadata": {},
   "source": [
    "The EV Sales by Model dataset gives US sales of EVs by model, from 2011 to 2018. After converting the excel sheet to csv, we made sure to standardize the data by changing all number inputs from strings into integers, and then made sure there were no null or missing values in the dataset. We then chose to include only the totals for each year, summing up the counts for all model types and reindexing our dataframe to include only totals for each year as a column. Finally, we calculated the percent change for each year and added this as a column."
   ]
  },
  {
   "cell_type": "code",
   "execution_count": 83,
   "id": "89815204",
   "metadata": {},
   "outputs": [
    {
     "data": {
      "text/html": [
       "<div>\n",
       "<style scoped>\n",
       "    .dataframe tbody tr th:only-of-type {\n",
       "        vertical-align: middle;\n",
       "    }\n",
       "\n",
       "    .dataframe tbody tr th {\n",
       "        vertical-align: top;\n",
       "    }\n",
       "\n",
       "    .dataframe thead th {\n",
       "        text-align: right;\n",
       "    }\n",
       "</style>\n",
       "<table border=\"1\" class=\"dataframe\">\n",
       "  <thead>\n",
       "    <tr style=\"text-align: right;\">\n",
       "      <th></th>\n",
       "      <th>Vehicle</th>\n",
       "      <th>Type</th>\n",
       "      <th>2011</th>\n",
       "      <th>2012</th>\n",
       "      <th>2013</th>\n",
       "      <th>2014</th>\n",
       "      <th>2015</th>\n",
       "      <th>2016</th>\n",
       "      <th>2017</th>\n",
       "      <th>2018</th>\n",
       "      <th>2019</th>\n",
       "    </tr>\n",
       "  </thead>\n",
       "  <tbody>\n",
       "    <tr>\n",
       "      <th>0</th>\n",
       "      <td>Chevy Volt</td>\n",
       "      <td>PHEV</td>\n",
       "      <td>7,671</td>\n",
       "      <td>23,461</td>\n",
       "      <td>23,094</td>\n",
       "      <td>18,805</td>\n",
       "      <td>15,393</td>\n",
       "      <td>24,739</td>\n",
       "      <td>20,349</td>\n",
       "      <td>18,306</td>\n",
       "      <td>4,915</td>\n",
       "    </tr>\n",
       "    <tr>\n",
       "      <th>1</th>\n",
       "      <td>Nissan Leaf</td>\n",
       "      <td>EV</td>\n",
       "      <td>9,674</td>\n",
       "      <td>9,819</td>\n",
       "      <td>22,610</td>\n",
       "      <td>30,200</td>\n",
       "      <td>17,269</td>\n",
       "      <td>14,006</td>\n",
       "      <td>11,230</td>\n",
       "      <td>14,715</td>\n",
       "      <td>12,365</td>\n",
       "    </tr>\n",
       "    <tr>\n",
       "      <th>2</th>\n",
       "      <td>Smart ED</td>\n",
       "      <td>EV</td>\n",
       "      <td>342</td>\n",
       "      <td>139</td>\n",
       "      <td>923</td>\n",
       "      <td>2,594</td>\n",
       "      <td>1,387</td>\n",
       "      <td>657</td>\n",
       "      <td>544</td>\n",
       "      <td>1,219</td>\n",
       "      <td>680</td>\n",
       "    </tr>\n",
       "    <tr>\n",
       "      <th>3</th>\n",
       "      <td>Mitsubishi I EV</td>\n",
       "      <td>EV</td>\n",
       "      <td>76</td>\n",
       "      <td>588</td>\n",
       "      <td>1,029</td>\n",
       "      <td>196</td>\n",
       "      <td>115</td>\n",
       "      <td>94</td>\n",
       "      <td>6</td>\n",
       "      <td>-</td>\n",
       "      <td>-</td>\n",
       "    </tr>\n",
       "    <tr>\n",
       "      <th>4</th>\n",
       "      <td>BMW Active E</td>\n",
       "      <td>EV</td>\n",
       "      <td>-</td>\n",
       "      <td>673</td>\n",
       "      <td>-</td>\n",
       "      <td>-</td>\n",
       "      <td>-</td>\n",
       "      <td>-</td>\n",
       "      <td>-</td>\n",
       "      <td>-</td>\n",
       "      <td>-</td>\n",
       "    </tr>\n",
       "  </tbody>\n",
       "</table>\n",
       "</div>"
      ],
      "text/plain": [
       "           Vehicle  Type             2011    2012             2013  \\\n",
       "0       Chevy Volt  PHEV            7,671  23,461           23,094   \n",
       "1      Nissan Leaf    EV            9,674   9,819           22,610   \n",
       "2         Smart ED    EV              342     139              923   \n",
       "3  Mitsubishi I EV    EV               76     588            1,029   \n",
       "4     BMW Active E    EV              -       673              -     \n",
       "\n",
       "                2014               2015               2016               2017  \\\n",
       "0             18,805             15,393             24,739             20,349   \n",
       "1             30,200             17,269             14,006             11,230   \n",
       "2              2,594              1,387                657                544   \n",
       "3                196                115                 94                  6   \n",
       "4                -                  -                  -                  -     \n",
       "\n",
       "               2018              2019  \n",
       "0            18,306             4,915  \n",
       "1            14,715            12,365  \n",
       "2             1,219               680  \n",
       "3               -                 -    \n",
       "4               -                 -    "
      ]
     },
     "execution_count": 83,
     "metadata": {},
     "output_type": "execute_result"
    }
   ],
   "source": [
    "ev_sales = pd.read_csv(\"ev_sales.csv\")\n",
    "ev_sales.head()"
   ]
  },
  {
   "cell_type": "code",
   "execution_count": 84,
   "id": "28125d5a",
   "metadata": {},
   "outputs": [],
   "source": [
    "# Function to standardize in ev_sales to be integers\n",
    "def standardize_value(str_in):\n",
    "    try:\n",
    "        str_in = str_in.lower()\n",
    "        str_in = str_in.strip()\n",
    "        str_in = str_in.replace(\",\", \"\")\n",
    "        \n",
    "        if \"-\" in str_in:\n",
    "            output = 0\n",
    "        else:\n",
    "            output = int(str_in)\n",
    "        \n",
    "    except:\n",
    "        output = 0\n",
    "            \n",
    "    return output"
   ]
  },
  {
   "cell_type": "code",
   "execution_count": 85,
   "id": "3229511f",
   "metadata": {},
   "outputs": [],
   "source": [
    "# Apply the standardizing function to columns with numbers\n",
    "for column in ev_sales.columns[2:]:\n",
    "    ev_sales[column] = ev_sales[column].apply(standardize_value)"
   ]
  },
  {
   "cell_type": "code",
   "execution_count": 86,
   "id": "79334b68",
   "metadata": {},
   "outputs": [],
   "source": [
    "# Pivot table \n",
    "ev_sales = pd.melt(ev_sales, id_vars=['Vehicle'], value_vars=['2011', '2012', '2013','2014','2015', '2016', '2017', '2018','2019'],\n",
    "        var_name='Year', value_name='Sales')\n",
    "\n",
    "# Get only years\n",
    "ev_sales = ev_sales.groupby('Year').sum().reset_index()\n",
    "\n",
    "# Add percent change column\n",
    "ev_sales['% Change Sales'] = ev_sales['Sales'].pct_change().fillna(0)*100\n",
    "\n",
    "ev_sales[\"Year\"] = ev_sales[\"Year\"].apply(standardize_value)\n"
   ]
  },
  {
   "cell_type": "code",
   "execution_count": 87,
   "id": "4521aff8",
   "metadata": {},
   "outputs": [
    {
     "name": "stdout",
     "output_type": "stream",
     "text": [
      "<class 'pandas.core.frame.DataFrame'>\n",
      "RangeIndex: 9 entries, 0 to 8\n",
      "Data columns (total 3 columns):\n",
      " #   Column          Non-Null Count  Dtype  \n",
      "---  ------          --------------  -----  \n",
      " 0   Year            9 non-null      int64  \n",
      " 1   Sales           9 non-null      int64  \n",
      " 2   % Change Sales  9 non-null      float64\n",
      "dtypes: float64(1), int64(2)\n",
      "memory usage: 344.0 bytes\n"
     ]
    }
   ],
   "source": [
    "ev_sales.info()"
   ]
  },
  {
   "cell_type": "code",
   "execution_count": 88,
   "id": "5adc2c93",
   "metadata": {},
   "outputs": [
    {
     "data": {
      "text/html": [
       "<div>\n",
       "<style scoped>\n",
       "    .dataframe tbody tr th:only-of-type {\n",
       "        vertical-align: middle;\n",
       "    }\n",
       "\n",
       "    .dataframe tbody tr th {\n",
       "        vertical-align: top;\n",
       "    }\n",
       "\n",
       "    .dataframe thead th {\n",
       "        text-align: right;\n",
       "    }\n",
       "</style>\n",
       "<table border=\"1\" class=\"dataframe\">\n",
       "  <thead>\n",
       "    <tr style=\"text-align: right;\">\n",
       "      <th></th>\n",
       "      <th>Year</th>\n",
       "      <th>Sales</th>\n",
       "      <th>% Change Sales</th>\n",
       "    </tr>\n",
       "  </thead>\n",
       "  <tbody>\n",
       "    <tr>\n",
       "      <th>0</th>\n",
       "      <td>2011</td>\n",
       "      <td>17763</td>\n",
       "      <td>0.000000</td>\n",
       "    </tr>\n",
       "    <tr>\n",
       "      <th>1</th>\n",
       "      <td>2012</td>\n",
       "      <td>53171</td>\n",
       "      <td>199.335698</td>\n",
       "    </tr>\n",
       "    <tr>\n",
       "      <th>2</th>\n",
       "      <td>2013</td>\n",
       "      <td>97102</td>\n",
       "      <td>82.622106</td>\n",
       "    </tr>\n",
       "    <tr>\n",
       "      <th>3</th>\n",
       "      <td>2014</td>\n",
       "      <td>118882</td>\n",
       "      <td>22.430022</td>\n",
       "    </tr>\n",
       "    <tr>\n",
       "      <th>4</th>\n",
       "      <td>2015</td>\n",
       "      <td>114023</td>\n",
       "      <td>-4.087246</td>\n",
       "    </tr>\n",
       "  </tbody>\n",
       "</table>\n",
       "</div>"
      ],
      "text/plain": [
       "   Year   Sales  % Change Sales\n",
       "0  2011   17763        0.000000\n",
       "1  2012   53171      199.335698\n",
       "2  2013   97102       82.622106\n",
       "3  2014  118882       22.430022\n",
       "4  2015  114023       -4.087246"
      ]
     },
     "execution_count": 88,
     "metadata": {},
     "output_type": "execute_result"
    }
   ],
   "source": [
    "ev_sales.head()"
   ]
  },
  {
   "cell_type": "markdown",
   "id": "75a30fe2",
   "metadata": {},
   "source": [
    "## Public and Private Electric Vehicle Charging Infrastructure Dataset"
   ]
  },
  {
   "cell_type": "markdown",
   "id": "c968aa2a",
   "metadata": {},
   "source": [
    "The EV Charging Infrastructure Dataset gives the count of EVSE Ports and charging stations in the US from 2011 to 2021. After converting the original excel sheet to csv format, we again made sure to standardize the data by changing all number inputs from strings into integers, and then made sure there were no null or missing values in the dataset. Finally, we again calculated the yearly percent change for our column values of interest - EVSE Ports and Station Locations - and added columns in our dataframe to record this."
   ]
  },
  {
   "cell_type": "code",
   "execution_count": 89,
   "id": "f193d826",
   "metadata": {},
   "outputs": [
    {
     "data": {
      "text/html": [
       "<div>\n",
       "<style scoped>\n",
       "    .dataframe tbody tr th:only-of-type {\n",
       "        vertical-align: middle;\n",
       "    }\n",
       "\n",
       "    .dataframe tbody tr th {\n",
       "        vertical-align: top;\n",
       "    }\n",
       "\n",
       "    .dataframe thead th {\n",
       "        text-align: right;\n",
       "    }\n",
       "</style>\n",
       "<table border=\"1\" class=\"dataframe\">\n",
       "  <thead>\n",
       "    <tr style=\"text-align: right;\">\n",
       "      <th></th>\n",
       "      <th>Year</th>\n",
       "      <th>EVSE Ports</th>\n",
       "      <th>Station Locations</th>\n",
       "    </tr>\n",
       "  </thead>\n",
       "  <tbody>\n",
       "    <tr>\n",
       "      <th>0</th>\n",
       "      <td>2011</td>\n",
       "      <td>5,070</td>\n",
       "      <td>2,100</td>\n",
       "    </tr>\n",
       "    <tr>\n",
       "      <th>1</th>\n",
       "      <td>2012</td>\n",
       "      <td>14,982</td>\n",
       "      <td>6,200</td>\n",
       "    </tr>\n",
       "    <tr>\n",
       "      <th>2</th>\n",
       "      <td>2013</td>\n",
       "      <td>19,472</td>\n",
       "      <td>8,100</td>\n",
       "    </tr>\n",
       "    <tr>\n",
       "      <th>3</th>\n",
       "      <td>2014</td>\n",
       "      <td>25,602</td>\n",
       "      <td>10,712</td>\n",
       "    </tr>\n",
       "    <tr>\n",
       "      <th>4</th>\n",
       "      <td>2015</td>\n",
       "      <td>34,151</td>\n",
       "      <td>13,696</td>\n",
       "    </tr>\n",
       "    <tr>\n",
       "      <th>5</th>\n",
       "      <td>2016</td>\n",
       "      <td>45,124</td>\n",
       "      <td>17,723</td>\n",
       "    </tr>\n",
       "    <tr>\n",
       "      <th>6</th>\n",
       "      <td>2017</td>\n",
       "      <td>53,117</td>\n",
       "      <td>19,792</td>\n",
       "    </tr>\n",
       "    <tr>\n",
       "      <th>7</th>\n",
       "      <td>2018</td>\n",
       "      <td>64,037</td>\n",
       "      <td>22,826</td>\n",
       "    </tr>\n",
       "    <tr>\n",
       "      <th>8</th>\n",
       "      <td>2019</td>\n",
       "      <td>85,079</td>\n",
       "      <td>26,959</td>\n",
       "    </tr>\n",
       "    <tr>\n",
       "      <th>9</th>\n",
       "      <td>2020</td>\n",
       "      <td>106,814</td>\n",
       "      <td>31,738</td>\n",
       "    </tr>\n",
       "    <tr>\n",
       "      <th>10</th>\n",
       "      <td>2021</td>\n",
       "      <td>128,474</td>\n",
       "      <td>50,054</td>\n",
       "    </tr>\n",
       "  </tbody>\n",
       "</table>\n",
       "</div>"
      ],
      "text/plain": [
       "    Year EVSE Ports Station Locations\n",
       "0   2011     5,070             2,100 \n",
       "1   2012    14,982             6,200 \n",
       "2   2013    19,472             8,100 \n",
       "3   2014    25,602            10,712 \n",
       "4   2015    34,151            13,696 \n",
       "5   2016    45,124            17,723 \n",
       "6   2017    53,117            19,792 \n",
       "7   2018    64,037            22,826 \n",
       "8   2019    85,079            26,959 \n",
       "9   2020   106,814            31,738 \n",
       "10  2021   128,474            50,054 "
      ]
     },
     "execution_count": 89,
     "metadata": {},
     "output_type": "execute_result"
    }
   ],
   "source": [
    "evse = pd.read_csv(\"evse_raw.csv\")\n",
    "evse"
   ]
  },
  {
   "cell_type": "code",
   "execution_count": 90,
   "id": "79cd2c9b",
   "metadata": {},
   "outputs": [],
   "source": [
    "# Apply the standardizing function to columns with numbers\n",
    "for column in evse.columns[1:]:\n",
    "    evse[column] = evse[column].apply(standardize_value)"
   ]
  },
  {
   "cell_type": "code",
   "execution_count": 91,
   "id": "5280dca7",
   "metadata": {},
   "outputs": [],
   "source": [
    "# Add percent change columns\n",
    "evse['% Change Ports'] = evse['EVSE Ports'].pct_change().fillna(0)*100\n",
    "evse['% Change Stations'] = evse['Station Locations'].pct_change().fillna(0)*100"
   ]
  },
  {
   "cell_type": "code",
   "execution_count": 92,
   "id": "3b623462",
   "metadata": {},
   "outputs": [
    {
     "name": "stdout",
     "output_type": "stream",
     "text": [
      "<class 'pandas.core.frame.DataFrame'>\n",
      "RangeIndex: 11 entries, 0 to 10\n",
      "Data columns (total 5 columns):\n",
      " #   Column             Non-Null Count  Dtype  \n",
      "---  ------             --------------  -----  \n",
      " 0   Year               11 non-null     int64  \n",
      " 1   EVSE Ports         11 non-null     int64  \n",
      " 2   Station Locations  11 non-null     int64  \n",
      " 3   % Change Ports     11 non-null     float64\n",
      " 4   % Change Stations  11 non-null     float64\n",
      "dtypes: float64(2), int64(3)\n",
      "memory usage: 568.0 bytes\n"
     ]
    }
   ],
   "source": [
    "evse.info()\n"
   ]
  },
  {
   "cell_type": "code",
   "execution_count": 93,
   "id": "8916ddc8",
   "metadata": {},
   "outputs": [
    {
     "data": {
      "text/html": [
       "<div>\n",
       "<style scoped>\n",
       "    .dataframe tbody tr th:only-of-type {\n",
       "        vertical-align: middle;\n",
       "    }\n",
       "\n",
       "    .dataframe tbody tr th {\n",
       "        vertical-align: top;\n",
       "    }\n",
       "\n",
       "    .dataframe thead th {\n",
       "        text-align: right;\n",
       "    }\n",
       "</style>\n",
       "<table border=\"1\" class=\"dataframe\">\n",
       "  <thead>\n",
       "    <tr style=\"text-align: right;\">\n",
       "      <th></th>\n",
       "      <th>Year</th>\n",
       "      <th>EVSE Ports</th>\n",
       "      <th>Station Locations</th>\n",
       "      <th>% Change Ports</th>\n",
       "      <th>% Change Stations</th>\n",
       "    </tr>\n",
       "  </thead>\n",
       "  <tbody>\n",
       "    <tr>\n",
       "      <th>0</th>\n",
       "      <td>2011</td>\n",
       "      <td>5070</td>\n",
       "      <td>2100</td>\n",
       "      <td>0.000000</td>\n",
       "      <td>0.000000</td>\n",
       "    </tr>\n",
       "    <tr>\n",
       "      <th>1</th>\n",
       "      <td>2012</td>\n",
       "      <td>14982</td>\n",
       "      <td>6200</td>\n",
       "      <td>195.502959</td>\n",
       "      <td>195.238095</td>\n",
       "    </tr>\n",
       "    <tr>\n",
       "      <th>2</th>\n",
       "      <td>2013</td>\n",
       "      <td>19472</td>\n",
       "      <td>8100</td>\n",
       "      <td>29.969296</td>\n",
       "      <td>30.645161</td>\n",
       "    </tr>\n",
       "    <tr>\n",
       "      <th>3</th>\n",
       "      <td>2014</td>\n",
       "      <td>25602</td>\n",
       "      <td>10712</td>\n",
       "      <td>31.481101</td>\n",
       "      <td>32.246914</td>\n",
       "    </tr>\n",
       "    <tr>\n",
       "      <th>4</th>\n",
       "      <td>2015</td>\n",
       "      <td>34151</td>\n",
       "      <td>13696</td>\n",
       "      <td>33.391923</td>\n",
       "      <td>27.856609</td>\n",
       "    </tr>\n",
       "    <tr>\n",
       "      <th>5</th>\n",
       "      <td>2016</td>\n",
       "      <td>45124</td>\n",
       "      <td>17723</td>\n",
       "      <td>32.130831</td>\n",
       "      <td>29.402745</td>\n",
       "    </tr>\n",
       "    <tr>\n",
       "      <th>6</th>\n",
       "      <td>2017</td>\n",
       "      <td>53117</td>\n",
       "      <td>19792</td>\n",
       "      <td>17.713412</td>\n",
       "      <td>11.674096</td>\n",
       "    </tr>\n",
       "    <tr>\n",
       "      <th>7</th>\n",
       "      <td>2018</td>\n",
       "      <td>64037</td>\n",
       "      <td>22826</td>\n",
       "      <td>20.558390</td>\n",
       "      <td>15.329426</td>\n",
       "    </tr>\n",
       "    <tr>\n",
       "      <th>8</th>\n",
       "      <td>2019</td>\n",
       "      <td>85079</td>\n",
       "      <td>26959</td>\n",
       "      <td>32.859128</td>\n",
       "      <td>18.106545</td>\n",
       "    </tr>\n",
       "    <tr>\n",
       "      <th>9</th>\n",
       "      <td>2020</td>\n",
       "      <td>106814</td>\n",
       "      <td>31738</td>\n",
       "      <td>25.546845</td>\n",
       "      <td>17.726919</td>\n",
       "    </tr>\n",
       "    <tr>\n",
       "      <th>10</th>\n",
       "      <td>2021</td>\n",
       "      <td>128474</td>\n",
       "      <td>50054</td>\n",
       "      <td>20.278241</td>\n",
       "      <td>57.710001</td>\n",
       "    </tr>\n",
       "  </tbody>\n",
       "</table>\n",
       "</div>"
      ],
      "text/plain": [
       "    Year  EVSE Ports  Station Locations  % Change Ports  % Change Stations\n",
       "0   2011        5070               2100        0.000000           0.000000\n",
       "1   2012       14982               6200      195.502959         195.238095\n",
       "2   2013       19472               8100       29.969296          30.645161\n",
       "3   2014       25602              10712       31.481101          32.246914\n",
       "4   2015       34151              13696       33.391923          27.856609\n",
       "5   2016       45124              17723       32.130831          29.402745\n",
       "6   2017       53117              19792       17.713412          11.674096\n",
       "7   2018       64037              22826       20.558390          15.329426\n",
       "8   2019       85079              26959       32.859128          18.106545\n",
       "9   2020      106814              31738       25.546845          17.726919\n",
       "10  2021      128474              50054       20.278241          57.710001"
      ]
     },
     "execution_count": 93,
     "metadata": {},
     "output_type": "execute_result"
    }
   ],
   "source": [
    "evse"
   ]
  },
  {
   "cell_type": "markdown",
   "id": "b26cbc1c",
   "metadata": {},
   "source": [
    "## Sales Revenue (Electricity)"
   ]
  },
  {
   "cell_type": "markdown",
   "id": "7a42743c",
   "metadata": {},
   "source": [
    "This dataset contains monthly and yearly electricity sales in the US both nationally and by state, containing information from 1990 to the present. We extracted the sheet US-YTD from the original excel file and converted it to CSV. This portion of the data contained information on national revenue, sales, customers, and electricity prices from 1990 to 2021 in residential, commercial, industrial, transportation, and other categories with row observations broken down into months. After importing the csv file, we had to fix the column names due to the multi-index nature of the original data which generated various \"unnamed\" columns in our generated dataframe. We also removed revenue, sales, and customers columns since we wish to focus on electricity prices over time. We then extracted only the mean prices from the years and removed the individual monthly observations since we wish to focus on change over the years. Finally, we calculated the yearly percent change in price and added this as another column for analysis."
   ]
  },
  {
   "cell_type": "code",
   "execution_count": 94,
   "id": "7ede0cc6",
   "metadata": {},
   "outputs": [
    {
     "data": {
      "text/html": [
       "<div>\n",
       "<style scoped>\n",
       "    .dataframe tbody tr th:only-of-type {\n",
       "        vertical-align: middle;\n",
       "    }\n",
       "\n",
       "    .dataframe tbody tr th {\n",
       "        vertical-align: top;\n",
       "    }\n",
       "\n",
       "    .dataframe thead th {\n",
       "        text-align: right;\n",
       "    }\n",
       "</style>\n",
       "<table border=\"1\" class=\"dataframe\">\n",
       "  <thead>\n",
       "    <tr style=\"text-align: right;\">\n",
       "      <th></th>\n",
       "      <th>Unnamed: 0</th>\n",
       "      <th>Unnamed: 1</th>\n",
       "      <th>Unnamed: 2</th>\n",
       "      <th>RESIDENTIAL</th>\n",
       "      <th>Unnamed: 4</th>\n",
       "      <th>Unnamed: 5</th>\n",
       "      <th>Unnamed: 6</th>\n",
       "      <th>COMMERCIAL</th>\n",
       "      <th>Unnamed: 8</th>\n",
       "      <th>Unnamed: 9</th>\n",
       "      <th>...</th>\n",
       "      <th>Unnamed: 17</th>\n",
       "      <th>Unnamed: 18</th>\n",
       "      <th>OTHER</th>\n",
       "      <th>Unnamed: 20</th>\n",
       "      <th>Unnamed: 21</th>\n",
       "      <th>Unnamed: 22</th>\n",
       "      <th>TOTAL</th>\n",
       "      <th>Unnamed: 24</th>\n",
       "      <th>Unnamed: 25</th>\n",
       "      <th>Unnamed: 26</th>\n",
       "    </tr>\n",
       "  </thead>\n",
       "  <tbody>\n",
       "    <tr>\n",
       "      <th>0</th>\n",
       "      <td>NaN</td>\n",
       "      <td>NaN</td>\n",
       "      <td>NaN</td>\n",
       "      <td>Revenue</td>\n",
       "      <td>Sales</td>\n",
       "      <td>Customers</td>\n",
       "      <td>Price</td>\n",
       "      <td>Revenue</td>\n",
       "      <td>Sales</td>\n",
       "      <td>Customers</td>\n",
       "      <td>...</td>\n",
       "      <td>Customers</td>\n",
       "      <td>Price</td>\n",
       "      <td>Revenue</td>\n",
       "      <td>Sales</td>\n",
       "      <td>Customers</td>\n",
       "      <td>Price</td>\n",
       "      <td>Revenue</td>\n",
       "      <td>Sales</td>\n",
       "      <td>Customers</td>\n",
       "      <td>Price</td>\n",
       "    </tr>\n",
       "    <tr>\n",
       "      <th>1</th>\n",
       "      <td>1990.0</td>\n",
       "      <td>1</td>\n",
       "      <td>Final</td>\n",
       "      <td>6,841,300</td>\n",
       "      <td>95,420,231</td>\n",
       "      <td>.</td>\n",
       "      <td>7.17</td>\n",
       "      <td>4,332,195</td>\n",
       "      <td>62,498,967</td>\n",
       "      <td>.</td>\n",
       "      <td>...</td>\n",
       "      <td>.</td>\n",
       "      <td>.</td>\n",
       "      <td>465,357</td>\n",
       "      <td>7,767,762</td>\n",
       "      <td>.</td>\n",
       "      <td>5.99</td>\n",
       "      <td>15,091,189</td>\n",
       "      <td>240,874,655</td>\n",
       "      <td>.</td>\n",
       "      <td>6.27</td>\n",
       "    </tr>\n",
       "    <tr>\n",
       "      <th>2</th>\n",
       "      <td>1990.0</td>\n",
       "      <td>2</td>\n",
       "      <td>Final</td>\n",
       "      <td>5,571,807</td>\n",
       "      <td>74,498,370</td>\n",
       "      <td>.</td>\n",
       "      <td>7.48</td>\n",
       "      <td>4,070,345</td>\n",
       "      <td>56,912,068</td>\n",
       "      <td>.</td>\n",
       "      <td>...</td>\n",
       "      <td>.</td>\n",
       "      <td>.</td>\n",
       "      <td>451,273</td>\n",
       "      <td>7,345,620</td>\n",
       "      <td>.</td>\n",
       "      <td>6.14</td>\n",
       "      <td>13,514,792</td>\n",
       "      <td>213,362,594</td>\n",
       "      <td>.</td>\n",
       "      <td>6.33</td>\n",
       "    </tr>\n",
       "    <tr>\n",
       "      <th>3</th>\n",
       "      <td>1990.0</td>\n",
       "      <td>3</td>\n",
       "      <td>Final</td>\n",
       "      <td>5,442,934</td>\n",
       "      <td>71,901,767</td>\n",
       "      <td>.</td>\n",
       "      <td>7.57</td>\n",
       "      <td>4,191,027</td>\n",
       "      <td>57,979,978</td>\n",
       "      <td>.</td>\n",
       "      <td>...</td>\n",
       "      <td>.</td>\n",
       "      <td>.</td>\n",
       "      <td>458,404</td>\n",
       "      <td>7,343,455</td>\n",
       "      <td>.</td>\n",
       "      <td>6.24</td>\n",
       "      <td>13,626,535</td>\n",
       "      <td>214,067,173</td>\n",
       "      <td>.</td>\n",
       "      <td>6.37</td>\n",
       "    </tr>\n",
       "    <tr>\n",
       "      <th>4</th>\n",
       "      <td>1990.0</td>\n",
       "      <td>4</td>\n",
       "      <td>Final</td>\n",
       "      <td>5,015,134</td>\n",
       "      <td>65,190,618</td>\n",
       "      <td>.</td>\n",
       "      <td>7.69</td>\n",
       "      <td>4,065,960</td>\n",
       "      <td>56,480,718</td>\n",
       "      <td>.</td>\n",
       "      <td>...</td>\n",
       "      <td>.</td>\n",
       "      <td>.</td>\n",
       "      <td>468,345</td>\n",
       "      <td>7,162,259</td>\n",
       "      <td>.</td>\n",
       "      <td>6.54</td>\n",
       "      <td>13,022,717</td>\n",
       "      <td>205,071,739</td>\n",
       "      <td>.</td>\n",
       "      <td>6.35</td>\n",
       "    </tr>\n",
       "    <tr>\n",
       "      <th>...</th>\n",
       "      <td>...</td>\n",
       "      <td>...</td>\n",
       "      <td>...</td>\n",
       "      <td>...</td>\n",
       "      <td>...</td>\n",
       "      <td>...</td>\n",
       "      <td>...</td>\n",
       "      <td>...</td>\n",
       "      <td>...</td>\n",
       "      <td>...</td>\n",
       "      <td>...</td>\n",
       "      <td>...</td>\n",
       "      <td>...</td>\n",
       "      <td>...</td>\n",
       "      <td>...</td>\n",
       "      <td>...</td>\n",
       "      <td>...</td>\n",
       "      <td>...</td>\n",
       "      <td>...</td>\n",
       "      <td>...</td>\n",
       "      <td>...</td>\n",
       "    </tr>\n",
       "    <tr>\n",
       "      <th>411</th>\n",
       "      <td>2021.0</td>\n",
       "      <td>8</td>\n",
       "      <td>Preliminary</td>\n",
       "      <td>22,168,583</td>\n",
       "      <td>158,634,041</td>\n",
       "      <td>138,446,332</td>\n",
       "      <td>13.97</td>\n",
       "      <td>15,208,067</td>\n",
       "      <td>130,996,981</td>\n",
       "      <td>19,116,117</td>\n",
       "      <td>...</td>\n",
       "      <td>81</td>\n",
       "      <td>10.19</td>\n",
       "      <td>.</td>\n",
       "      <td>.</td>\n",
       "      <td>.</td>\n",
       "      <td>.</td>\n",
       "      <td>44,329,583</td>\n",
       "      <td>380,365,775</td>\n",
       "      <td>158,606,056</td>\n",
       "      <td>11.65</td>\n",
       "    </tr>\n",
       "    <tr>\n",
       "      <th>412</th>\n",
       "      <td>2021.0</td>\n",
       "      <td>9</td>\n",
       "      <td>Preliminary</td>\n",
       "      <td>18,706,730</td>\n",
       "      <td>131,847,798</td>\n",
       "      <td>138,486,142</td>\n",
       "      <td>14.19</td>\n",
       "      <td>13,965,865</td>\n",
       "      <td>118,792,029</td>\n",
       "      <td>19,123,936</td>\n",
       "      <td>...</td>\n",
       "      <td>81</td>\n",
       "      <td>11.23</td>\n",
       "      <td>.</td>\n",
       "      <td>.</td>\n",
       "      <td>.</td>\n",
       "      <td>.</td>\n",
       "      <td>39,270,194</td>\n",
       "      <td>336,002,774</td>\n",
       "      <td>158,650,411</td>\n",
       "      <td>11.69</td>\n",
       "    </tr>\n",
       "    <tr>\n",
       "      <th>413</th>\n",
       "      <td>2021.0</td>\n",
       "      <td>10</td>\n",
       "      <td>Preliminary</td>\n",
       "      <td>14,713,464</td>\n",
       "      <td>104,293,368</td>\n",
       "      <td>137,835,330</td>\n",
       "      <td>14.11</td>\n",
       "      <td>12,944,769</td>\n",
       "      <td>111,985,138</td>\n",
       "      <td>19,092,557</td>\n",
       "      <td>...</td>\n",
       "      <td>81</td>\n",
       "      <td>10.29</td>\n",
       "      <td>.</td>\n",
       "      <td>.</td>\n",
       "      <td>.</td>\n",
       "      <td>.</td>\n",
       "      <td>34,042,374</td>\n",
       "      <td>300,837,900</td>\n",
       "      <td>157,950,655</td>\n",
       "      <td>11.32</td>\n",
       "    </tr>\n",
       "    <tr>\n",
       "      <th>414</th>\n",
       "      <td>2021.0</td>\n",
       "      <td>11</td>\n",
       "      <td>Preliminary</td>\n",
       "      <td>14,249,501</td>\n",
       "      <td>100,937,877</td>\n",
       "      <td>137,344,547</td>\n",
       "      <td>14.12</td>\n",
       "      <td>11,693,799</td>\n",
       "      <td>103,192,396</td>\n",
       "      <td>18,999,278</td>\n",
       "      <td>...</td>\n",
       "      <td>81</td>\n",
       "      <td>10.48</td>\n",
       "      <td>.</td>\n",
       "      <td>.</td>\n",
       "      <td>.</td>\n",
       "      <td>.</td>\n",
       "      <td>32,081,295</td>\n",
       "      <td>286,143,610</td>\n",
       "      <td>157,366,909</td>\n",
       "      <td>11.21</td>\n",
       "    </tr>\n",
       "    <tr>\n",
       "      <th>415</th>\n",
       "      <td>2021.0</td>\n",
       "      <td>.</td>\n",
       "      <td>Preliminary</td>\n",
       "      <td>186,406,726</td>\n",
       "      <td>1,358,036,498</td>\n",
       "      <td>137,721,101</td>\n",
       "      <td>13.73</td>\n",
       "      <td>137,591,442</td>\n",
       "      <td>1,218,124,737</td>\n",
       "      <td>19,008,452</td>\n",
       "      <td>...</td>\n",
       "      <td>81</td>\n",
       "      <td>10.21</td>\n",
       "      <td>.</td>\n",
       "      <td>.</td>\n",
       "      <td>.</td>\n",
       "      <td>.</td>\n",
       "      <td>390,475,848</td>\n",
       "      <td>3,487,147,469</td>\n",
       "      <td>157,749,659</td>\n",
       "      <td>11.20</td>\n",
       "    </tr>\n",
       "  </tbody>\n",
       "</table>\n",
       "<p>416 rows × 27 columns</p>\n",
       "</div>"
      ],
      "text/plain": [
       "     Unnamed: 0 Unnamed: 1   Unnamed: 2  RESIDENTIAL     Unnamed: 4  \\\n",
       "0           NaN        NaN          NaN      Revenue          Sales   \n",
       "1        1990.0          1        Final    6,841,300     95,420,231   \n",
       "2        1990.0          2        Final    5,571,807     74,498,370   \n",
       "3        1990.0          3        Final    5,442,934     71,901,767   \n",
       "4        1990.0          4        Final    5,015,134     65,190,618   \n",
       "..          ...        ...          ...          ...            ...   \n",
       "411      2021.0          8  Preliminary   22,168,583    158,634,041   \n",
       "412      2021.0          9  Preliminary   18,706,730    131,847,798   \n",
       "413      2021.0         10  Preliminary   14,713,464    104,293,368   \n",
       "414      2021.0         11  Preliminary   14,249,501    100,937,877   \n",
       "415      2021.0          .  Preliminary  186,406,726  1,358,036,498   \n",
       "\n",
       "      Unnamed: 5 Unnamed: 6   COMMERCIAL     Unnamed: 8  Unnamed: 9  ...  \\\n",
       "0      Customers      Price      Revenue          Sales   Customers  ...   \n",
       "1              .       7.17    4,332,195     62,498,967           .  ...   \n",
       "2              .       7.48    4,070,345     56,912,068           .  ...   \n",
       "3              .       7.57    4,191,027     57,979,978           .  ...   \n",
       "4              .       7.69    4,065,960     56,480,718           .  ...   \n",
       "..           ...        ...          ...            ...         ...  ...   \n",
       "411  138,446,332      13.97   15,208,067    130,996,981  19,116,117  ...   \n",
       "412  138,486,142      14.19   13,965,865    118,792,029  19,123,936  ...   \n",
       "413  137,835,330      14.11   12,944,769    111,985,138  19,092,557  ...   \n",
       "414  137,344,547      14.12   11,693,799    103,192,396  18,999,278  ...   \n",
       "415  137,721,101      13.73  137,591,442  1,218,124,737  19,008,452  ...   \n",
       "\n",
       "    Unnamed: 17 Unnamed: 18    OTHER Unnamed: 20 Unnamed: 21 Unnamed: 22  \\\n",
       "0     Customers       Price  Revenue       Sales   Customers       Price   \n",
       "1             .           .  465,357   7,767,762           .        5.99   \n",
       "2             .           .  451,273   7,345,620           .        6.14   \n",
       "3             .           .  458,404   7,343,455           .        6.24   \n",
       "4             .           .  468,345   7,162,259           .        6.54   \n",
       "..          ...         ...      ...         ...         ...         ...   \n",
       "411          81       10.19        .           .           .           .   \n",
       "412          81       11.23        .           .           .           .   \n",
       "413          81       10.29        .           .           .           .   \n",
       "414          81       10.48        .           .           .           .   \n",
       "415          81       10.21        .           .           .           .   \n",
       "\n",
       "           TOTAL    Unnamed: 24  Unnamed: 25 Unnamed: 26  \n",
       "0        Revenue          Sales    Customers       Price  \n",
       "1     15,091,189    240,874,655            .        6.27  \n",
       "2     13,514,792    213,362,594            .        6.33  \n",
       "3     13,626,535    214,067,173            .        6.37  \n",
       "4     13,022,717    205,071,739            .        6.35  \n",
       "..           ...            ...          ...         ...  \n",
       "411   44,329,583    380,365,775  158,606,056       11.65  \n",
       "412   39,270,194    336,002,774  158,650,411       11.69  \n",
       "413   34,042,374    300,837,900  157,950,655       11.32  \n",
       "414   32,081,295    286,143,610  157,366,909       11.21  \n",
       "415  390,475,848  3,487,147,469  157,749,659       11.20  \n",
       "\n",
       "[416 rows x 27 columns]"
      ]
     },
     "execution_count": 94,
     "metadata": {},
     "output_type": "execute_result"
    }
   ],
   "source": [
    "rev_sales = pd.read_csv(\"sales_revenue_raw.csv\")\n",
    "rev_sales"
   ]
  },
  {
   "cell_type": "code",
   "execution_count": 95,
   "id": "5c9a21b2",
   "metadata": {},
   "outputs": [
    {
     "data": {
      "text/html": [
       "<div>\n",
       "<style scoped>\n",
       "    .dataframe tbody tr th:only-of-type {\n",
       "        vertical-align: middle;\n",
       "    }\n",
       "\n",
       "    .dataframe tbody tr th {\n",
       "        vertical-align: top;\n",
       "    }\n",
       "\n",
       "    .dataframe thead th {\n",
       "        text-align: right;\n",
       "    }\n",
       "</style>\n",
       "<table border=\"1\" class=\"dataframe\">\n",
       "  <thead>\n",
       "    <tr style=\"text-align: right;\">\n",
       "      <th></th>\n",
       "      <th>Year</th>\n",
       "      <th>Month</th>\n",
       "      <th>Price</th>\n",
       "    </tr>\n",
       "  </thead>\n",
       "  <tbody>\n",
       "    <tr>\n",
       "      <th>0</th>\n",
       "      <td>1990.0</td>\n",
       "      <td>1</td>\n",
       "      <td>6.27</td>\n",
       "    </tr>\n",
       "    <tr>\n",
       "      <th>1</th>\n",
       "      <td>1990.0</td>\n",
       "      <td>2</td>\n",
       "      <td>6.33</td>\n",
       "    </tr>\n",
       "    <tr>\n",
       "      <th>2</th>\n",
       "      <td>1990.0</td>\n",
       "      <td>3</td>\n",
       "      <td>6.37</td>\n",
       "    </tr>\n",
       "    <tr>\n",
       "      <th>3</th>\n",
       "      <td>1990.0</td>\n",
       "      <td>4</td>\n",
       "      <td>6.35</td>\n",
       "    </tr>\n",
       "    <tr>\n",
       "      <th>4</th>\n",
       "      <td>1990.0</td>\n",
       "      <td>5</td>\n",
       "      <td>6.46</td>\n",
       "    </tr>\n",
       "    <tr>\n",
       "      <th>...</th>\n",
       "      <td>...</td>\n",
       "      <td>...</td>\n",
       "      <td>...</td>\n",
       "    </tr>\n",
       "    <tr>\n",
       "      <th>410</th>\n",
       "      <td>2021.0</td>\n",
       "      <td>8</td>\n",
       "      <td>11.65</td>\n",
       "    </tr>\n",
       "    <tr>\n",
       "      <th>411</th>\n",
       "      <td>2021.0</td>\n",
       "      <td>9</td>\n",
       "      <td>11.69</td>\n",
       "    </tr>\n",
       "    <tr>\n",
       "      <th>412</th>\n",
       "      <td>2021.0</td>\n",
       "      <td>10</td>\n",
       "      <td>11.32</td>\n",
       "    </tr>\n",
       "    <tr>\n",
       "      <th>413</th>\n",
       "      <td>2021.0</td>\n",
       "      <td>11</td>\n",
       "      <td>11.21</td>\n",
       "    </tr>\n",
       "    <tr>\n",
       "      <th>414</th>\n",
       "      <td>2021.0</td>\n",
       "      <td>.</td>\n",
       "      <td>11.20</td>\n",
       "    </tr>\n",
       "  </tbody>\n",
       "</table>\n",
       "<p>415 rows × 3 columns</p>\n",
       "</div>"
      ],
      "text/plain": [
       "       Year Month  Price\n",
       "0    1990.0     1   6.27\n",
       "1    1990.0     2   6.33\n",
       "2    1990.0     3   6.37\n",
       "3    1990.0     4   6.35\n",
       "4    1990.0     5   6.46\n",
       "..      ...   ...    ...\n",
       "410  2021.0     8  11.65\n",
       "411  2021.0     9  11.69\n",
       "412  2021.0    10  11.32\n",
       "413  2021.0    11  11.21\n",
       "414  2021.0     .  11.20\n",
       "\n",
       "[415 rows x 3 columns]"
      ]
     },
     "execution_count": 95,
     "metadata": {},
     "output_type": "execute_result"
    }
   ],
   "source": [
    "# Remove unnecessary columns\n",
    "rev_sales = rev_sales.drop(rev_sales.columns[2:26], axis=1)\n",
    "\n",
    "# Fix column names\n",
    "rev_sales.columns = [\"Year\", \"Month\", \"Price\"]\n",
    "\n",
    "# Remove first row\n",
    "rev_sales = rev_sales.drop(0)\n",
    "\n",
    "# Reset index\n",
    "rev_sales = rev_sales.reset_index(drop=True)\n",
    "\n",
    "rev_sales"
   ]
  },
  {
   "cell_type": "code",
   "execution_count": 96,
   "id": "cccf1117",
   "metadata": {},
   "outputs": [
    {
     "data": {
      "text/html": [
       "<div>\n",
       "<style scoped>\n",
       "    .dataframe tbody tr th:only-of-type {\n",
       "        vertical-align: middle;\n",
       "    }\n",
       "\n",
       "    .dataframe tbody tr th {\n",
       "        vertical-align: top;\n",
       "    }\n",
       "\n",
       "    .dataframe thead th {\n",
       "        text-align: right;\n",
       "    }\n",
       "</style>\n",
       "<table border=\"1\" class=\"dataframe\">\n",
       "  <thead>\n",
       "    <tr style=\"text-align: right;\">\n",
       "      <th></th>\n",
       "      <th>Year</th>\n",
       "      <th>Price</th>\n",
       "    </tr>\n",
       "  </thead>\n",
       "  <tbody>\n",
       "    <tr>\n",
       "      <th>0</th>\n",
       "      <td>2011</td>\n",
       "      <td>9.90</td>\n",
       "    </tr>\n",
       "    <tr>\n",
       "      <th>1</th>\n",
       "      <td>2012</td>\n",
       "      <td>9.84</td>\n",
       "    </tr>\n",
       "    <tr>\n",
       "      <th>2</th>\n",
       "      <td>2013</td>\n",
       "      <td>10.07</td>\n",
       "    </tr>\n",
       "    <tr>\n",
       "      <th>3</th>\n",
       "      <td>2014</td>\n",
       "      <td>10.44</td>\n",
       "    </tr>\n",
       "    <tr>\n",
       "      <th>4</th>\n",
       "      <td>2015</td>\n",
       "      <td>10.41</td>\n",
       "    </tr>\n",
       "    <tr>\n",
       "      <th>5</th>\n",
       "      <td>2016</td>\n",
       "      <td>10.27</td>\n",
       "    </tr>\n",
       "    <tr>\n",
       "      <th>6</th>\n",
       "      <td>2017</td>\n",
       "      <td>10.48</td>\n",
       "    </tr>\n",
       "    <tr>\n",
       "      <th>7</th>\n",
       "      <td>2018</td>\n",
       "      <td>10.53</td>\n",
       "    </tr>\n",
       "    <tr>\n",
       "      <th>8</th>\n",
       "      <td>2019</td>\n",
       "      <td>10.54</td>\n",
       "    </tr>\n",
       "  </tbody>\n",
       "</table>\n",
       "</div>"
      ],
      "text/plain": [
       "   Year  Price\n",
       "0  2011   9.90\n",
       "1  2012   9.84\n",
       "2  2013  10.07\n",
       "3  2014  10.44\n",
       "4  2015  10.41\n",
       "5  2016  10.27\n",
       "6  2017  10.48\n",
       "7  2018  10.53\n",
       "8  2019  10.54"
      ]
     },
     "execution_count": 96,
     "metadata": {},
     "output_type": "execute_result"
    }
   ],
   "source": [
    "# Find the annual values\n",
    "rev_sales = rev_sales.loc[rev_sales[\"Month\"] == \".\"]\n",
    "\n",
    "# Find the year range we want\n",
    "rev_sales = rev_sales.loc[rev_sales[\"Year\"] > 2010]\n",
    "rev_sales = rev_sales.loc[rev_sales[\"Year\"] < 2020]\n",
    "\n",
    "# Remove Month column as it's no longer needed\n",
    "rev_sales = rev_sales.drop(columns=\"Month\")\n",
    "\n",
    "# Set the Price column to be float values\n",
    "rev_sales[\"Price\"] = rev_sales[\"Price\"].apply(float)\n",
    "\n",
    "# Set the Year column to be int values\n",
    "rev_sales[\"Year\"] = rev_sales[\"Year\"].apply(int)\n",
    "\n",
    "rev_sales = rev_sales.reset_index(drop=True)\n",
    "rev_sales"
   ]
  },
  {
   "cell_type": "code",
   "execution_count": 97,
   "id": "478445cb",
   "metadata": {},
   "outputs": [
    {
     "data": {
      "text/html": [
       "<div>\n",
       "<style scoped>\n",
       "    .dataframe tbody tr th:only-of-type {\n",
       "        vertical-align: middle;\n",
       "    }\n",
       "\n",
       "    .dataframe tbody tr th {\n",
       "        vertical-align: top;\n",
       "    }\n",
       "\n",
       "    .dataframe thead th {\n",
       "        text-align: right;\n",
       "    }\n",
       "</style>\n",
       "<table border=\"1\" class=\"dataframe\">\n",
       "  <thead>\n",
       "    <tr style=\"text-align: right;\">\n",
       "      <th></th>\n",
       "      <th>Year</th>\n",
       "      <th>Price</th>\n",
       "      <th>% Change Price</th>\n",
       "    </tr>\n",
       "  </thead>\n",
       "  <tbody>\n",
       "    <tr>\n",
       "      <th>0</th>\n",
       "      <td>2011</td>\n",
       "      <td>9.90</td>\n",
       "      <td>0.000000</td>\n",
       "    </tr>\n",
       "    <tr>\n",
       "      <th>1</th>\n",
       "      <td>2012</td>\n",
       "      <td>9.84</td>\n",
       "      <td>-0.606061</td>\n",
       "    </tr>\n",
       "    <tr>\n",
       "      <th>2</th>\n",
       "      <td>2013</td>\n",
       "      <td>10.07</td>\n",
       "      <td>2.337398</td>\n",
       "    </tr>\n",
       "    <tr>\n",
       "      <th>3</th>\n",
       "      <td>2014</td>\n",
       "      <td>10.44</td>\n",
       "      <td>3.674280</td>\n",
       "    </tr>\n",
       "    <tr>\n",
       "      <th>4</th>\n",
       "      <td>2015</td>\n",
       "      <td>10.41</td>\n",
       "      <td>-0.287356</td>\n",
       "    </tr>\n",
       "    <tr>\n",
       "      <th>5</th>\n",
       "      <td>2016</td>\n",
       "      <td>10.27</td>\n",
       "      <td>-1.344861</td>\n",
       "    </tr>\n",
       "    <tr>\n",
       "      <th>6</th>\n",
       "      <td>2017</td>\n",
       "      <td>10.48</td>\n",
       "      <td>2.044791</td>\n",
       "    </tr>\n",
       "    <tr>\n",
       "      <th>7</th>\n",
       "      <td>2018</td>\n",
       "      <td>10.53</td>\n",
       "      <td>0.477099</td>\n",
       "    </tr>\n",
       "    <tr>\n",
       "      <th>8</th>\n",
       "      <td>2019</td>\n",
       "      <td>10.54</td>\n",
       "      <td>0.094967</td>\n",
       "    </tr>\n",
       "  </tbody>\n",
       "</table>\n",
       "</div>"
      ],
      "text/plain": [
       "   Year  Price  % Change Price\n",
       "0  2011   9.90        0.000000\n",
       "1  2012   9.84       -0.606061\n",
       "2  2013  10.07        2.337398\n",
       "3  2014  10.44        3.674280\n",
       "4  2015  10.41       -0.287356\n",
       "5  2016  10.27       -1.344861\n",
       "6  2017  10.48        2.044791\n",
       "7  2018  10.53        0.477099\n",
       "8  2019  10.54        0.094967"
      ]
     },
     "execution_count": 97,
     "metadata": {},
     "output_type": "execute_result"
    }
   ],
   "source": [
    "# Add percent change column\n",
    "rev_sales['% Change Price'] = rev_sales['Price'].pct_change().fillna(0)*100\n",
    "\n",
    "rev_sales"
   ]
  },
  {
   "cell_type": "markdown",
   "id": "8eecdce6",
   "metadata": {},
   "source": [
    "All three datasets are now clean - all numerical values have been converted from strings and standardized, in addition to no null or missing data present. In addition, all three datasets are tidy as well - in each dataframe we have each variable as a column, each observation as a row, and each type of observational unit in a table. We have also removed columns we do not wish to focus on for analysis, and added many columns calculating percent change of variables, which we would like to use for our analysis."
   ]
  },
  {
   "cell_type": "markdown",
   "id": "f4f027a4",
   "metadata": {},
   "source": [
    "# Data Analysis & Results (EDA)"
   ]
  },
  {
   "cell_type": "markdown",
   "id": "c13f62c1",
   "metadata": {},
   "source": [
    "### 1. Electric Vehicle Sales by Model Dataset"
   ]
  },
  {
   "cell_type": "code",
   "execution_count": 98,
   "id": "1f7ee184",
   "metadata": {},
   "outputs": [
    {
     "data": {
      "text/plain": [
       "Text(0.5, 0, '% Change in Sales')"
      ]
     },
     "execution_count": 98,
     "metadata": {},
     "output_type": "execute_result"
    },
    {
     "data": {
      "image/png": "[encoded data removed]",
      "text/plain": [
       "<Figure size 1080x288 with 2 Axes>"
      ]
     },
     "metadata": {
      "needs_background": "light"
     },
     "output_type": "display_data"
    }
   ],
   "source": [
    "# observe EV sales distributions\n",
    "fig, (ax1,ax2) = plt.subplots(figsize=(15, 4), ncols = 2)\n",
    "sns.histplot(ev_sales['Sales'], bins=20, ax=ax1)\n",
    "ax1.set_title('EV Sales Distribution')\n",
    "ax1.set_xlabel('Sales')\n",
    "sns.histplot(ev_sales['% Change Sales'], bins=20, ax=ax2)\n",
    "ax2.set_title('% Change EV Sales Distribution')\n",
    "ax2.set_xlabel('% Change in Sales')"
   ]
  },
  {
   "cell_type": "markdown",
   "id": "77ea22f1",
   "metadata": {},
   "source": [
    "Observing the distributions for electric vehicle sales, we see that the raw sales count maintains a relatively uniform distrubition with no count exceeding particularly high (the data hovers between 1 and 2 counts based on the number of bins we have chosen). The percent change in EV sales, however, shows a distribution that appears somewhat right skewed, particularly due to the outlier from 2012 (seen below again) with a 200% increase in sales. "
   ]
  },
  {
   "cell_type": "code",
   "execution_count": 99,
   "id": "03d5b0b4",
   "metadata": {},
   "outputs": [
    {
     "name": "stderr",
     "output_type": "stream",
     "text": [
      "C:\\Users\\Lucy\\AppData\\Local\\Temp/ipykernel_17304/4087522787.py:9: UserWarning: Matplotlib is currently using module://matplotlib_inline.backend_inline, which is a non-GUI backend, so cannot show the figure.\n",
      "  fig.show()\n"
     ]
    },
    {
     "data": {
      "image/png": "[encoded data removed]",
      "text/plain": [
       "<Figure size 720x309.6 with 2 Axes>"
      ]
     },
     "metadata": {
      "needs_background": "light"
     },
     "output_type": "display_data"
    }
   ],
   "source": [
    "# side by side line plots of EV sales over time and % change in EV Sales over time\n",
    "fig, ax = plt.subplots(1,2, figsize=(10,4.3))\n",
    "sns.lineplot(x = ev_sales['Year'], y = ev_sales['Sales'], marker='o', ax=ax[0])\n",
    "ax[0].set_title('Total EV Sales Over Time')\n",
    "sns.lineplot(x = ev_sales['Year'], y = ev_sales['% Change Sales'], marker='o', color='orange', ax=ax[1])\n",
    "ax[1].set_title('% Change in EV Sales Over Time')\n",
    "ax[1].set_ylabel('% Change in Sales')\n",
    "fig.tight_layout(pad=4.0)\n",
    "fig.show()"
   ]
  },
  {
   "cell_type": "markdown",
   "id": "1dd61294",
   "metadata": {},
   "source": [
    "In general, there is a clear positive trend in total EV sales over time minus the dip in 2019. However, looking at the % change we see for the most part a large spike in 2012, noting this as a clear outlier that marks the start of the sudden popularity in electric vehicles. Percent change generally increases from 2015 to 2018 and then suddenly dips in 2019."
   ]
  },
  {
   "cell_type": "code",
   "execution_count": 100,
   "id": "fd675d2f",
   "metadata": {},
   "outputs": [
    {
     "data": {
      "text/plain": [
       "Text(0.5, 1.0, '% Change in EV Sales Over Time')"
      ]
     },
     "execution_count": 100,
     "metadata": {},
     "output_type": "execute_result"
    },
    {
     "data": {
      "image/png": "[encoded data removed]",
      "text/plain": [
       "<Figure size 432x288 with 1 Axes>"
      ]
     },
     "metadata": {
      "needs_background": "light"
     },
     "output_type": "display_data"
    }
   ],
   "source": [
    "# % change in EV sales over time, but omitting the first two years due to being outliers\n",
    "x = ev_sales['Year']\n",
    "y = ev_sales['% Change Sales']\n",
    "plt.plot(x.iloc[2:], y.iloc[2:], marker='o', color='orange')\n",
    "plt.xlabel('Year')\n",
    "plt.ylabel('% Change in Sales')\n",
    "plt.title(\"% Change in EV Sales Over Time\")"
   ]
  },
  {
   "cell_type": "markdown",
   "id": "9f5386df",
   "metadata": {},
   "source": [
    "Considering the first two years marks the start of EV popularity and present themselves as outliers, we choose to remove them and look more closely at the remaining years. We note that there is quite a spike in 2018 despite following a dip in 2017. In addition, the graph presents more clearly that the drop from 2018 to 2019 is quite significant, leading to an all time low. The negative value indicates that EV sales had actually slowed down for the first time in nearly a decade."
   ]
  },
  {
   "cell_type": "markdown",
   "id": "7e551852",
   "metadata": {},
   "source": [
    "### 2. Public and Private Electric Vehicle Charging Infrastructure Dataset"
   ]
  },
  {
   "cell_type": "code",
   "execution_count": 101,
   "id": "6b339778",
   "metadata": {},
   "outputs": [
    {
     "data": {
      "text/plain": [
       "Text(0.5, 0, '% Change in Stations')"
      ]
     },
     "execution_count": 101,
     "metadata": {},
     "output_type": "execute_result"
    },
    {
     "data": {
      "image/png": "[encoded data removed]",
      "text/plain": [
       "<Figure size 720x288 with 2 Axes>"
      ]
     },
     "metadata": {
      "needs_background": "light"
     },
     "output_type": "display_data"
    }
   ],
   "source": [
    "# observe distributions of port and stations changes\n",
    "fig, (ax1,ax2) = plt.subplots(figsize=(10, 4), ncols = 2)\n",
    "sns.histplot(evse['% Change Ports'], bins=25, ax=ax1)\n",
    "ax1.set_title('% Change Ports Distribution')\n",
    "ax1.set_xlabel('% Change in Ports')\n",
    "sns.histplot(evse['% Change Stations'], bins=25, ax=ax2)\n",
    "ax2.set_title('% Change Stations Distribution')\n",
    "ax2.set_xlabel('% Change in Stations')"
   ]
  },
  {
   "cell_type": "markdown",
   "id": "612381e8",
   "metadata": {},
   "source": [
    "Examining the port and station distributions, we see again the outlier from 2012 nearing a 200% change from the previous year in both distributions, giving off a long right tail and leading to a right-skew. Ignoring this, the stations distribution shows a more clear normal distribution while ports is somewhat more vague."
   ]
  },
  {
   "cell_type": "code",
   "execution_count": 102,
   "id": "12a22cf7",
   "metadata": {},
   "outputs": [
    {
     "data": {
      "image/png": "[encoded data removed]",
      "text/plain": [
       "<Figure size 432x288 with 1 Axes>"
      ]
     },
     "metadata": {
      "needs_background": "light"
     },
     "output_type": "display_data"
    }
   ],
   "source": [
    "# line graph of % change of EVSE charging ports and charging stations over time\n",
    "X = evse['Year']\n",
    "plt.plot(X, evse['% Change Ports'], '-o', label = \"% Change Ports\")\n",
    "plt.plot(X, evse['% Change Stations'], '-o', label = \"% Change Stations\")\n",
    "plt.legend()\n",
    "plt.xticks(X)\n",
    "plt.title(\"% Change in Number of Charging Ports and Stations over Time\")\n",
    "plt.show()"
   ]
  },
  {
   "cell_type": "markdown",
   "id": "51901f79",
   "metadata": {},
   "source": [
    "In 2011, there is no change in percentage because it is the starting point for our data. From 2011 to 2012 we see a large spike in the % change in numbers of both charging ports and stations, which we can likely attribute to a rising popularity of electric vehicles. After 2012, the growth % compared to the previous year of the number of charging ports and stations appears to be more consistent, with a dip in recent years."
   ]
  },
  {
   "cell_type": "code",
   "execution_count": 103,
   "id": "dc0a7008",
   "metadata": {},
   "outputs": [
    {
     "data": {
      "image/png": "[encoded data removed]",
      "text/plain": [
       "<Figure size 432x288 with 1 Axes>"
      ]
     },
     "metadata": {
      "needs_background": "light"
     },
     "output_type": "display_data"
    }
   ],
   "source": [
    "# the same graph as before, but omitting the first two years due to being outliers\n",
    "X = evse['Year'].iloc[2:]\n",
    "plt.plot(X, evse['% Change Ports'].iloc[2:], '-o', label = \"% Change Ports\")\n",
    "plt.plot(X, evse['% Change Stations'].iloc[2:], '-o', label = \"% Change Stations\")\n",
    "plt.legend()\n",
    "plt.xticks(X)\n",
    "plt.title(\"% Change in Number of Charging Ports and Stations over Time\")\n",
    "plt.show()"
   ]
  },
  {
   "cell_type": "markdown",
   "id": "be1b565e",
   "metadata": {},
   "source": [
    "If we omit the first two years due to being outliers, we can have a better visualization of the remaining years. While the trends for both follow a similar pattern of a slight dip in 2017, recovery up to 2019, and then another dip going into 2020, last year there was an unexpected jump in the % change of charging stations."
   ]
  },
  {
   "cell_type": "code",
   "execution_count": 104,
   "id": "d7d32dc8",
   "metadata": {},
   "outputs": [
    {
     "data": {
      "image/png": "[encoded data removed]",
      "text/plain": [
       "<Figure size 432x288 with 1 Axes>"
      ]
     },
     "metadata": {
      "needs_background": "light"
     },
     "output_type": "display_data"
    }
   ],
   "source": [
    "# line graph of the number of EVSE charging ports and charging stations over time\n",
    "X = evse['Year']\n",
    "plt.plot(X, evse['EVSE Ports'], '-o', label = \"EVSE Ports\")\n",
    "plt.plot(X, evse['Station Locations'], '-o', label = \"Station Locations\")\n",
    "plt.legend()\n",
    "plt.title(\"Number of Charging Ports and Stations over Time\")\n",
    "plt.show()"
   ]
  },
  {
   "cell_type": "markdown",
   "id": "e501c607",
   "metadata": {},
   "source": [
    "Here we plotted the number of EVSE ports and EV charging station locations over the years to compare their respective growth. The number of EVSE ports consistently outnumbers that of charging station locations, and appears to be increasing at a larger rate each year as well. The number of EVSE ports takes on a more quadratic shape, while that of the station locations is mostly linear, excluding the last data point. This suggests either a potential exponential or linear growth of electric vehicle presence over time."
   ]
  },
  {
   "cell_type": "markdown",
   "id": "a0ca6010",
   "metadata": {},
   "source": [
    "### 3. Sales Revenue (Electricity)"
   ]
  },
  {
   "cell_type": "code",
   "execution_count": 105,
   "id": "fa82940a",
   "metadata": {},
   "outputs": [
    {
     "data": {
      "text/plain": [
       "<AxesSubplot:xlabel='% Change Price', ylabel='Count'>"
      ]
     },
     "execution_count": 105,
     "metadata": {},
     "output_type": "execute_result"
    },
    {
     "data": {
      "image/png": "[encoded data removed]",
      "text/plain": [
       "<Figure size 432x288 with 1 Axes>"
      ]
     },
     "metadata": {
      "needs_background": "light"
     },
     "output_type": "display_data"
    }
   ],
   "source": [
    "# observe distributions of electricity prices\n",
    "sns.histplot(rev_sales['% Change Price'], bins=20)"
   ]
  },
  {
   "cell_type": "markdown",
   "id": "a5622115",
   "metadata": {},
   "source": [
    "Observing the distribution for the changes in electricity price, we see that it is relatively uniform with not much difference in the counts based on the number of bins we have selected. The most common changes in electricity price are quite close to 0% change or no change at all, somewhat close to the center of the distribution."
   ]
  },
  {
   "cell_type": "code",
   "execution_count": 106,
   "id": "7e7bc172",
   "metadata": {},
   "outputs": [
    {
     "data": {
      "text/plain": [
       "Text(0.5, 1.0, 'Electricity Price Over Time')"
      ]
     },
     "execution_count": 106,
     "metadata": {},
     "output_type": "execute_result"
    },
    {
     "data": {
      "image/png": "[encoded data removed]",
      "text/plain": [
       "<Figure size 432x288 with 1 Axes>"
      ]
     },
     "metadata": {
      "needs_background": "light"
     },
     "output_type": "display_data"
    }
   ],
   "source": [
    "# electricity price over time\n",
    "x = rev_sales['Year']\n",
    "y = rev_sales['Price']\n",
    "plt.plot(x, y, marker='o', color='orange')\n",
    "plt.xlabel('Year')\n",
    "plt.ylabel('Electricity Price cents/kWh ')\n",
    "plt.title(\"Electricity Price Over Time\")"
   ]
  },
  {
   "cell_type": "code",
   "execution_count": 107,
   "id": "7d34f48f",
   "metadata": {},
   "outputs": [
    {
     "name": "stderr",
     "output_type": "stream",
     "text": [
      "C:\\Users\\Lucy\\AppData\\Local\\Temp/ipykernel_17304/2790996464.py:12: UserWarning: Matplotlib is currently using module://matplotlib_inline.backend_inline, which is a non-GUI backend, so cannot show the figure.\n",
      "  fig.show()\n"
     ]
    },
    {
     "data": {
      "image/png": "[encoded data removed]",
      "text/plain": [
       "<Figure size 720x309.6 with 2 Axes>"
      ]
     },
     "metadata": {
      "needs_background": "light"
     },
     "output_type": "display_data"
    }
   ],
   "source": [
    "# side by side line plots of EV sales over time and % change in EV Sales over time\n",
    "fig, ax =plt.subplots(1,2, figsize=(10,4.3))\n",
    "sns.lineplot(x = rev_sales['Year'], y = rev_sales['Price'], marker='o', ax=ax[0])\n",
    "ax[0].set_title('Electricity Price Over Time')\n",
    "ax[0].set_ylabel('Price cents/kWh')\n",
    "ax[0].set_xticks([2011, 2012, 2013, 2014, 2015, 2016, 2017, 2018, 2019])\n",
    "sns.lineplot(x = rev_sales['Year'], y = rev_sales['% Change Price'], marker='o', color='orange', ax=ax[1])\n",
    "ax[1].set_title('% Change in Electricity Price Over Time')\n",
    "ax[1].set_ylabel('% Change in Price cents/kWh')\n",
    "ax[1].set_xticks([2011, 2012, 2013, 2014, 2015, 2016, 2017, 2018, 2019])\n",
    "fig.tight_layout(pad=4.0)\n",
    "fig.show()"
   ]
  },
  {
   "cell_type": "markdown",
   "id": "7afc9761",
   "metadata": {},
   "source": [
    "We can see here that while there is a general positive trend in electricity price over time, it is difficult to see a clear trend after accounting for autocorrelation and looking at the percent change over time. In both cases, 2012 and 2016 show dips in the plots. Looking at the percent change, 2016 hits an all time low with a negative percent change, following the peak in 2014. Overall, the percent change in price sees quite a variation over time."
   ]
  },
  {
   "cell_type": "markdown",
   "id": "8ebae970",
   "metadata": {},
   "source": [
    "### Price vs. Sales"
   ]
  },
  {
   "cell_type": "code",
   "execution_count": 108,
   "id": "1aa83321",
   "metadata": {},
   "outputs": [
    {
     "data": {
      "text/plain": [
       "[Text(0.5, 1.0, 'Electricity Prices (cents/kWh) vs EV Sales')]"
      ]
     },
     "execution_count": 108,
     "metadata": {},
     "output_type": "execute_result"
    },
    {
     "data": {
      "image/png": "[encoded data removed]",
      "text/plain": [
       "<Figure size 432x288 with 1 Axes>"
      ]
     },
     "metadata": {
      "needs_background": "light"
     },
     "output_type": "display_data"
    }
   ],
   "source": [
    "# scatterplot of changes in electricity prices (cents/kWh) for each year vs changes in electric vehicle sales\n",
    "sns.scatterplot(x = ev_sales['Sales'],\n",
    "                y = rev_sales['Price'],\n",
    "                hue = rev_sales['Year'],\n",
    "                legend = 'full').set(title = 'Electricity Prices (cents/kWh) vs EV Sales')"
   ]
  },
  {
   "cell_type": "markdown",
   "id": "00e8c7d1",
   "metadata": {},
   "source": [
    "Here we made a scatterplot comparing EV sales and electricity prices (cents/kWh), with the color of each point referencing what year the data was from. Although there are not too many data points, they loosely form the shape of a square root graph, where EV sales and prices increased dramatically in earlier years, but have increased at a slowing rate in more recent ones. There is a noticeable positive relationship between the two."
   ]
  },
  {
   "cell_type": "markdown",
   "id": "810fcbd9",
   "metadata": {},
   "source": [
    "### Price vs. Charging Ports"
   ]
  },
  {
   "cell_type": "code",
   "execution_count": 109,
   "id": "cd83b6e0",
   "metadata": {},
   "outputs": [
    {
     "data": {
      "text/plain": [
       "[Text(0.5, 1.0, 'Change in Electricity Price vs Change in Charging Ports')]"
      ]
     },
     "execution_count": 109,
     "metadata": {},
     "output_type": "execute_result"
    },
    {
     "data": {
      "image/png": "[encoded data removed]",
      "text/plain": [
       "<Figure size 432x288 with 1 Axes>"
      ]
     },
     "metadata": {
      "needs_background": "light"
     },
     "output_type": "display_data"
    }
   ],
   "source": [
    "# scatterplot of changes in electricity prices (cents/kWh) for each year vs changes in charging ports\n",
    "sns.scatterplot(x=evse[\"% Change Ports\"],\n",
    "                y=rev_sales[\"% Change Price\"],\n",
    "                hue=rev_sales[\"Year\"],\n",
    "                legend=\"full\").set(title=\"Change in Electricity Price vs Change in Charging Ports\")"
   ]
  },
  {
   "cell_type": "markdown",
   "id": "ea24a9d1",
   "metadata": {},
   "source": [
    "Here we made a scatterplot graph looking at the relationship between the change in charging ports against the change in electricity price. By looking at the graph, we notice that the trend is quite vertical with a lot of variance in the values, suggesting that there isn't a noticeable relationship between them as we can't see a positive or negative trend. However, the year 2012 is an outlier that could skew the data towards the right."
   ]
  },
  {
   "cell_type": "markdown",
   "id": "d7859698",
   "metadata": {},
   "source": [
    "### Price vs. Charging Stations"
   ]
  },
  {
   "cell_type": "code",
   "execution_count": 110,
   "id": "f937eb60",
   "metadata": {},
   "outputs": [
    {
     "data": {
      "text/plain": [
       "[Text(0.5, 1.0, 'Change in Electricity Price vs. Change in Charging Stations')]"
      ]
     },
     "execution_count": 110,
     "metadata": {},
     "output_type": "execute_result"
    },
    {
     "data": {
      "image/png": "[encoded data removed]",
      "text/plain": [
       "<Figure size 432x288 with 1 Axes>"
      ]
     },
     "metadata": {
      "needs_background": "light"
     },
     "output_type": "display_data"
    }
   ],
   "source": [
    "# scatterplot of changes in electricity prices (cents/kWh) for each year vs changes in charging stations\n",
    "sns.scatterplot(x=evse[\"% Change Stations\"],\n",
    "                y=rev_sales[\"% Change Price\"],\n",
    "                hue = rev_sales[\"Year\"],\n",
    "                legend=\"full\").set(title=\"Change in Electricity Price vs. Change in Charging Stations\")"
   ]
  },
  {
   "cell_type": "markdown",
   "id": "c9d89339",
   "metadata": {},
   "source": [
    "Here we made a scatter plot graph looking at the relationship between the change in charging stations against the change in electricity price. Similarly to the previous graph, we notice another vertical trend with a lot of variance so we can conclude that there isn't much of a relationship between the two variables. And once again, the data from 2012 presents itself as an extreme outlier that could skew our data to the right."
   ]
  },
  {
   "cell_type": "markdown",
   "id": "d51a492c",
   "metadata": {},
   "source": [
    "### All Trends Over Time"
   ]
  },
  {
   "cell_type": "code",
   "execution_count": 111,
   "id": "7c0cdce6",
   "metadata": {},
   "outputs": [
    {
     "data": {
      "image/png": "[encoded data removed]",
      "text/plain": [
       "<Figure size 720x720 with 1 Axes>"
      ]
     },
     "metadata": {
      "needs_background": "light"
     },
     "output_type": "display_data"
    }
   ],
   "source": [
    "# visualize all percent changes over time\n",
    "X = rev_sales['Year']\n",
    "plt.figure(figsize=(10, 10))\n",
    "plt.plot(X, evse['% Change Ports'].iloc[:-2], '-o', label = \"% Change Ports\", color = \"firebrick\")\n",
    "plt.plot(X, evse['% Change Stations'].iloc[:-2], '-o', label = \"% Change Stations\", color = \"goldenrod\")\n",
    "plt.plot(X, ev_sales['% Change Sales'], '-o', label = \"% Change EV Sales\", color = \"teal\")\n",
    "plt.plot(X, rev_sales['% Change Price'], '-o', label = \"% Change Price\", color = \"rebeccapurple\")\n",
    "plt.legend()\n",
    "plt.xticks(X)\n",
    "plt.xlabel('Year')\n",
    "plt.ylabel('% Change')\n",
    "plt.title(\"% Change Across All Datasets\")\n",
    "plt.show()"
   ]
  },
  {
   "cell_type": "markdown",
   "id": "dd24a2c6",
   "metadata": {},
   "source": [
    "By comparing the % change across all three datasets, we can see that there is generally a steady trend between changes in charging stations, charging ports, and price of electricity between 2013 and 2019. This may suggest a positive correlation between electricity prices and electric vehicle presence. However, the change in EV sales varies much more in comparison, which makes it difficult to predict whether they truly have an effect. There is also similar trends to note among changes in EV sales and changes in charging stations, which spike early on and then decrease."
   ]
  },
  {
   "cell_type": "markdown",
   "id": "bc2a31d0",
   "metadata": {},
   "source": [
    "## Further Analysis"
   ]
  },
  {
   "cell_type": "markdown",
   "id": "0a8ca7f0",
   "metadata": {},
   "source": [
    "### Regression on EV Sales and Electricity Price"
   ]
  },
  {
   "cell_type": "code",
   "execution_count": 112,
   "id": "6a90826a",
   "metadata": {},
   "outputs": [],
   "source": [
    "# merge dataframes for analysis\n",
    "combined_df = pd.merge(ev_sales, evse, how=\"left\")\n",
    "combined_df = pd.merge(combined_df, rev_sales)\n",
    "combined_df.columns = ['Year', 'Sales', 'Percent_Sales', 'Ports', 'Stations',\n",
    "       'Percent_Ports', 'Percent_Stations', 'Price', 'Percent_Price']"
   ]
  },
  {
   "cell_type": "code",
   "execution_count": 113,
   "id": "41c39ec4",
   "metadata": {},
   "outputs": [
    {
     "name": "stdout",
     "output_type": "stream",
     "text": [
      "                            OLS Regression Results                            \n",
      "==============================================================================\n",
      "Dep. Variable:                  Price   R-squared:                       0.633\n",
      "Model:                            OLS   Adj. R-squared:                  0.580\n",
      "Method:                 Least Squares   F-statistic:                     12.07\n",
      "Date:                Sun, 13 Mar 2022   Prob (F-statistic):             0.0104\n",
      "Time:                        18:34:46   Log-Likelihood:                 3.9656\n",
      "No. Observations:                   9   AIC:                            -3.931\n",
      "Df Residuals:                       7   BIC:                            -3.537\n",
      "Df Model:                           1                                         \n",
      "Covariance Type:            nonrobust                                         \n",
      "==============================================================================\n",
      "                 coef    std err          t      P>|t|      [0.025      0.975]\n",
      "------------------------------------------------------------------------------\n",
      "Intercept      9.9774      0.104     95.860      0.000       9.731      10.223\n",
      "Sales       1.858e-06   5.35e-07      3.474      0.010    5.93e-07    3.12e-06\n",
      "==============================================================================\n",
      "Omnibus:                        0.909   Durbin-Watson:                   1.328\n",
      "Prob(Omnibus):                  0.635   Jarque-Bera (JB):                0.660\n",
      "Skew:                           0.312   Prob(JB):                        0.719\n",
      "Kurtosis:                       1.829   Cond. No.                     3.44e+05\n",
      "==============================================================================\n",
      "\n",
      "Notes:\n",
      "[1] Standard Errors assume that the covariance matrix of the errors is correctly specified.\n",
      "[2] The condition number is large, 3.44e+05. This might indicate that there are\n",
      "strong multicollinearity or other numerical problems.\n"
     ]
    },
    {
     "name": "stderr",
     "output_type": "stream",
     "text": [
      "C:\\Users\\Lucy\\anaconda3\\lib\\site-packages\\scipy\\stats\\stats.py:1541: UserWarning: kurtosistest only valid for n>=20 ... continuing anyway, n=9\n",
      "  warnings.warn(\"kurtosistest only valid for n>=20 ... continuing \"\n"
     ]
    }
   ],
   "source": [
    "# regression on raw counts\n",
    "outcome1, predictors1 = patsy.dmatrices(\"Price ~ Sales\", combined_df)\n",
    "mod1 = sm.OLS(outcome1, predictors1)\n",
    "res1 = mod1.fit()\n",
    "print(res1.summary())"
   ]
  },
  {
   "cell_type": "markdown",
   "id": "1c6af18d",
   "metadata": {},
   "source": [
    "Here we fit an OLS model with raw electric vehicle sales as the predictor variable and electricity price as the response variable. From the results, we see that we get an r^2 value of 0.63 and a p-value of 0.01. The r^2 value indicates that the model fits the observed data relatively well with about 63% of the sales data explaining electricity price. Since this p-value of 0.01 is lower than a significance level of 0.05, we can conclude that these results are statistically significant, and that EV sales can be an indicator of electricity price."
   ]
  },
  {
   "cell_type": "code",
   "execution_count": 114,
   "id": "c0d6c12b",
   "metadata": {},
   "outputs": [
    {
     "name": "stdout",
     "output_type": "stream",
     "text": [
      "                            OLS Regression Results                            \n",
      "==============================================================================\n",
      "Dep. Variable:          Percent_Price   R-squared:                       0.020\n",
      "Model:                            OLS   Adj. R-squared:                 -0.119\n",
      "Method:                 Least Squares   F-statistic:                    0.1464\n",
      "Date:                Sun, 13 Mar 2022   Prob (F-statistic):              0.713\n",
      "Time:                        18:34:46   Log-Likelihood:                -16.512\n",
      "No. Observations:                   9   AIC:                             37.02\n",
      "Df Residuals:                       7   BIC:                             37.42\n",
      "Df Model:                           1                                         \n",
      "Covariance Type:            nonrobust                                         \n",
      "=================================================================================\n",
      "                    coef    std err          t      P>|t|      [0.025      0.975]\n",
      "---------------------------------------------------------------------------------\n",
      "Intercept         0.8807      0.726      1.213      0.264      -0.836       2.597\n",
      "Percent_Sales    -0.0035      0.009     -0.383      0.713      -0.025       0.018\n",
      "==============================================================================\n",
      "Omnibus:                        1.073   Durbin-Watson:                   1.856\n",
      "Prob(Omnibus):                  0.585   Jarque-Bera (JB):                0.794\n",
      "Skew:                           0.591   Prob(JB):                        0.672\n",
      "Kurtosis:                       2.150   Cond. No.                         100.\n",
      "==============================================================================\n",
      "\n",
      "Notes:\n",
      "[1] Standard Errors assume that the covariance matrix of the errors is correctly specified.\n"
     ]
    },
    {
     "name": "stderr",
     "output_type": "stream",
     "text": [
      "C:\\Users\\Lucy\\anaconda3\\lib\\site-packages\\scipy\\stats\\stats.py:1541: UserWarning: kurtosistest only valid for n>=20 ... continuing anyway, n=9\n",
      "  warnings.warn(\"kurtosistest only valid for n>=20 ... continuing \"\n"
     ]
    }
   ],
   "source": [
    "# regression on percent changes\n",
    "outcome1, predictors1 = patsy.dmatrices(\"Percent_Price ~ Percent_Sales\", combined_df)\n",
    "mod1 = sm.OLS(outcome1, predictors1)\n",
    "res1 = mod1.fit()\n",
    "print(res1.summary())"
   ]
  },
  {
   "cell_type": "markdown",
   "id": "3a0a73ad",
   "metadata": {},
   "source": [
    "The regression model we fit previously is likely impacted by autocorrelation over time. To account for that, here we fit an OLS model with % change in electric vehicle sales as the predictor variable and % change in electricity price as the response variable. From the results, we see that we get an r^2 value of 0.02 and a p-value of 0.7. The r^2 value indicates that the model fits the observed data relatively poorly with about only about 2% of the sales data explaining electricity price. Since this p-value of 0.7 is well beyond the significance level of 0.05, we can conclude that these results are not statistically significant, and that EV sale changes alone cannot be an indicator of electricity price changes."
   ]
  },
  {
   "cell_type": "markdown",
   "id": "125d429c",
   "metadata": {},
   "source": [
    "### Regression on # of Ports and Electricity Price"
   ]
  },
  {
   "cell_type": "code",
   "execution_count": 115,
   "id": "c1d976bc",
   "metadata": {},
   "outputs": [
    {
     "name": "stdout",
     "output_type": "stream",
     "text": [
      "                            OLS Regression Results                            \n",
      "==============================================================================\n",
      "Dep. Variable:                  Price   R-squared:                       0.665\n",
      "Model:                            OLS   Adj. R-squared:                  0.617\n",
      "Method:                 Least Squares   F-statistic:                     13.90\n",
      "Date:                Sun, 13 Mar 2022   Prob (F-statistic):            0.00737\n",
      "Time:                        18:34:46   Log-Likelihood:                 4.3788\n",
      "No. Observations:                   9   AIC:                            -4.758\n",
      "Df Residuals:                       7   BIC:                            -4.363\n",
      "Df Model:                           1                                         \n",
      "Covariance Type:            nonrobust                                         \n",
      "==============================================================================\n",
      "                 coef    std err          t      P>|t|      [0.025      0.975]\n",
      "------------------------------------------------------------------------------\n",
      "Intercept      9.9428      0.105     94.255      0.000       9.693      10.192\n",
      "Ports        8.64e-06   2.32e-06      3.728      0.007    3.16e-06    1.41e-05\n",
      "==============================================================================\n",
      "Omnibus:                        0.380   Durbin-Watson:                   1.384\n",
      "Prob(Omnibus):                  0.827   Jarque-Bera (JB):                0.382\n",
      "Skew:                           0.356   Prob(JB):                        0.826\n",
      "Kurtosis:                       2.284   Cond. No.                     8.54e+04\n",
      "==============================================================================\n",
      "\n",
      "Notes:\n",
      "[1] Standard Errors assume that the covariance matrix of the errors is correctly specified.\n",
      "[2] The condition number is large, 8.54e+04. This might indicate that there are\n",
      "strong multicollinearity or other numerical problems.\n"
     ]
    },
    {
     "name": "stderr",
     "output_type": "stream",
     "text": [
      "C:\\Users\\Lucy\\anaconda3\\lib\\site-packages\\scipy\\stats\\stats.py:1541: UserWarning: kurtosistest only valid for n>=20 ... continuing anyway, n=9\n",
      "  warnings.warn(\"kurtosistest only valid for n>=20 ... continuing \"\n"
     ]
    }
   ],
   "source": [
    "outcome2, predictors2 = patsy.dmatrices(\"Price ~ Ports\", combined_df)\n",
    "mod2 = sm.OLS(outcome2, predictors2)\n",
    "res2 = mod2.fit()\n",
    "print(res2.summary())"
   ]
  },
  {
   "cell_type": "markdown",
   "id": "666af6cd",
   "metadata": {},
   "source": [
    "Here we fit an OLS model with raw port counts as the predictor variable and electricity price as the response variable. From the results, we see that we get an r^2 value of 0.665 and a p-value of 0.007. The r^2 value indicates that the model fits the observed data relatively well with about 66% of the port data explaining electricity price. Since this p-value of 0.007 is lower than a significance level of 0.05, we can conclude that these results are statistically significant, and that port counts can be an indicator of electricity price."
   ]
  },
  {
   "cell_type": "code",
   "execution_count": 116,
   "id": "afe32d47",
   "metadata": {},
   "outputs": [
    {
     "name": "stdout",
     "output_type": "stream",
     "text": [
      "                            OLS Regression Results                            \n",
      "==============================================================================\n",
      "Dep. Variable:          Percent_Price   R-squared:                       0.082\n",
      "Model:                            OLS   Adj. R-squared:                 -0.049\n",
      "Method:                 Least Squares   F-statistic:                    0.6272\n",
      "Date:                Sun, 13 Mar 2022   Prob (F-statistic):              0.454\n",
      "Time:                        18:34:46   Log-Likelihood:                -16.219\n",
      "No. Observations:                   9   AIC:                             36.44\n",
      "Df Residuals:                       7   BIC:                             36.83\n",
      "Df Model:                           1                                         \n",
      "Covariance Type:            nonrobust                                         \n",
      "=================================================================================\n",
      "                    coef    std err          t      P>|t|      [0.025      0.975]\n",
      "---------------------------------------------------------------------------------\n",
      "Intercept         1.0616      0.710      1.495      0.179      -0.618       2.741\n",
      "Percent_Ports    -0.0080      0.010     -0.792      0.454      -0.032       0.016\n",
      "==============================================================================\n",
      "Omnibus:                        0.921   Durbin-Watson:                   1.820\n",
      "Prob(Omnibus):                  0.631   Jarque-Bera (JB):                0.607\n",
      "Skew:                           0.551   Prob(JB):                        0.738\n",
      "Kurtosis:                       2.364   Cond. No.                         89.6\n",
      "==============================================================================\n",
      "\n",
      "Notes:\n",
      "[1] Standard Errors assume that the covariance matrix of the errors is correctly specified.\n"
     ]
    },
    {
     "name": "stderr",
     "output_type": "stream",
     "text": [
      "C:\\Users\\Lucy\\anaconda3\\lib\\site-packages\\scipy\\stats\\stats.py:1541: UserWarning: kurtosistest only valid for n>=20 ... continuing anyway, n=9\n",
      "  warnings.warn(\"kurtosistest only valid for n>=20 ... continuing \"\n"
     ]
    }
   ],
   "source": [
    "outcome2, predictors2 = patsy.dmatrices(\"Percent_Price ~ Percent_Ports\", combined_df)\n",
    "mod2 = sm.OLS(outcome2, predictors2)\n",
    "res2 = mod2.fit()\n",
    "print(res2.summary())"
   ]
  },
  {
   "cell_type": "markdown",
   "id": "da70f61f",
   "metadata": {},
   "source": [
    "The regression model we fit previously is likely impacted by autocorrelation over time. To account for that, here we fit an OLS model with % change in port numbers as the predictor variable and % change in electricity price as the response variable. From the results, we see that we get an r^2 value of 0.082 and a p-value of 0.454. The r^2 value indicates that the model fits the observed data relatively poorly with about only about 8% of the port data explaining electricity price. Since this p-value of 0.454 is well beyond the significance level of 0.05, we can conclude that these results are not statistically significant, and that port changes alone cannot be an indicator of electricity price changes."
   ]
  },
  {
   "cell_type": "markdown",
   "id": "27b8953d",
   "metadata": {},
   "source": [
    "### Regression on Station Locations and Electricity Price"
   ]
  },
  {
   "cell_type": "code",
   "execution_count": 117,
   "id": "062ea35f",
   "metadata": {},
   "outputs": [
    {
     "name": "stdout",
     "output_type": "stream",
     "text": [
      "                            OLS Regression Results                            \n",
      "==============================================================================\n",
      "Dep. Variable:                  Price   R-squared:                       0.720\n",
      "Model:                            OLS   Adj. R-squared:                  0.674\n",
      "Method:                 Least Squares   F-statistic:                     15.47\n",
      "Date:                Sun, 13 Mar 2022   Prob (F-statistic):            0.00769\n",
      "Time:                        18:34:46   Log-Likelihood:                 4.7120\n",
      "No. Observations:                   8   AIC:                            -5.424\n",
      "Df Residuals:                       6   BIC:                            -5.265\n",
      "Df Model:                           1                                         \n",
      "Covariance Type:            nonrobust                                         \n",
      "==============================================================================\n",
      "                 coef    std err          t      P>|t|      [0.025      0.975]\n",
      "------------------------------------------------------------------------------\n",
      "Intercept      9.8355      0.117     83.984      0.000       9.549      10.122\n",
      "Station     3.219e-05   8.19e-06      3.933      0.008    1.22e-05    5.22e-05\n",
      "==============================================================================\n",
      "Omnibus:                        0.976   Durbin-Watson:                   1.793\n",
      "Prob(Omnibus):                  0.614   Jarque-Bera (JB):                0.411\n",
      "Skew:                           0.510   Prob(JB):                        0.814\n",
      "Kurtosis:                       2.562   Cond. No.                     3.06e+04\n",
      "==============================================================================\n",
      "\n",
      "Notes:\n",
      "[1] Standard Errors assume that the covariance matrix of the errors is correctly specified.\n",
      "[2] The condition number is large, 3.06e+04. This might indicate that there are\n",
      "strong multicollinearity or other numerical problems.\n"
     ]
    },
    {
     "name": "stderr",
     "output_type": "stream",
     "text": [
      "C:\\Users\\Lucy\\anaconda3\\lib\\site-packages\\scipy\\stats\\stats.py:1541: UserWarning: kurtosistest only valid for n>=20 ... continuing anyway, n=8\n",
      "  warnings.warn(\"kurtosistest only valid for n>=20 ... continuing \"\n"
     ]
    }
   ],
   "source": [
    "num_training = int(len(evse['Station Locations'])*0.8)\n",
    "d1 = evse['Station Locations']\n",
    "d2 = rev_sales['Price']\n",
    "df = {'Station': d1[:num_training], 'Price': d2[:num_training]}\n",
    "\n",
    "outcome,predictors = patsy.dmatrices('Price ~ Station', df)\n",
    "mod_log = sm.OLS(outcome, predictors)\n",
    "res_log = mod_log.fit()\n",
    "print(res_log.summary())"
   ]
  },
  {
   "cell_type": "markdown",
   "id": "137e6cec",
   "metadata": {},
   "source": [
    "The linear regression model was fit with the number of stations as the predictor variable and the electricity price as the response variable. This model has an r^2 value of 0.72, which signifies that 72% of the station data explains the price variable, revealing a good fit. The model also has a p-value of 0.008, which is less than 0.05, so this model is statistically significant. Overall, the number of stations is proven to be a reasonable predictor of the price of electricity."
   ]
  },
  {
   "cell_type": "code",
   "execution_count": 118,
   "id": "443584be",
   "metadata": {
    "scrolled": false
   },
   "outputs": [
    {
     "name": "stdout",
     "output_type": "stream",
     "text": [
      "                            OLS Regression Results                            \n",
      "==============================================================================\n",
      "Dep. Variable:                  Price   R-squared:                       0.081\n",
      "Model:                            OLS   Adj. R-squared:                 -0.073\n",
      "Method:                 Least Squares   F-statistic:                    0.5265\n",
      "Date:                Sun, 13 Mar 2022   Prob (F-statistic):              0.495\n",
      "Time:                        18:34:46   Log-Likelihood:                -14.813\n",
      "No. Observations:                   8   AIC:                             33.63\n",
      "Df Residuals:                       6   BIC:                             33.79\n",
      "Df Model:                           1                                         \n",
      "Covariance Type:            nonrobust                                         \n",
      "==============================================================================\n",
      "                 coef    std err          t      P>|t|      [0.025      0.975]\n",
      "------------------------------------------------------------------------------\n",
      "Intercept      1.1205      0.779      1.438      0.201      -0.786       3.028\n",
      "Station       -0.0078      0.011     -0.726      0.495      -0.034       0.018\n",
      "==============================================================================\n",
      "Omnibus:                        0.478   Durbin-Watson:                   1.863\n",
      "Prob(Omnibus):                  0.787   Jarque-Bera (JB):                0.468\n",
      "Skew:                           0.402   Prob(JB):                        0.791\n",
      "Kurtosis:                       2.128   Cond. No.                         89.9\n",
      "==============================================================================\n",
      "\n",
      "Notes:\n",
      "[1] Standard Errors assume that the covariance matrix of the errors is correctly specified.\n"
     ]
    },
    {
     "name": "stderr",
     "output_type": "stream",
     "text": [
      "C:\\Users\\Lucy\\anaconda3\\lib\\site-packages\\scipy\\stats\\stats.py:1541: UserWarning: kurtosistest only valid for n>=20 ... continuing anyway, n=8\n",
      "  warnings.warn(\"kurtosistest only valid for n>=20 ... continuing \"\n"
     ]
    }
   ],
   "source": [
    "num_training = int(len(evse['Station Locations'])*0.8)\n",
    "d1 = evse['% Change Stations']\n",
    "d2 = rev_sales['% Change Price']\n",
    "df = {'Station': d1[:num_training], 'Price': d2[:num_training]}\n",
    "\n",
    "outcome,predictors = patsy.dmatrices('Price ~ Station', df)\n",
    "mod_log = sm.OLS(outcome, predictors)\n",
    "res_log = mod_log.fit()\n",
    "print(res_log.summary())"
   ]
  },
  {
   "cell_type": "markdown",
   "id": "b1c1701d",
   "metadata": {},
   "source": [
    "Once again, the regression model we fit previously is likely impacted by autocorrelation over time. To account for that, here we fit an OLS model with % change in station numbers as the predictor variable and % change in electricity price as the response variable. From the results, we see that we get an r^2 value of 0.081 and a p-value of 0.495. The r^2 value indicates that the model fits the observed data relatively poorly with about only about 8% of the station data explaining electricity price. Since this p-value of 0.495 is well beyond the significance level of 0.05, we can conclude that these results are not statistically significant, and that stations changes alone cannot be an indicator of electricity price changes."
   ]
  },
  {
   "cell_type": "markdown",
   "id": "286f40b9",
   "metadata": {},
   "source": [
    "### Analysis with Percent Changes\n",
    "Based on the previous 3 regressions that involved raw counts rather than percent changes over each year, it is evident that autocorrelation impacts the result of the regression quite a bit. That is, there appears to always be a positive correlation between our response variable, electricity price, and our X variables (EV sales, stations, and port counts) as all these variables increase with time regardless. However, it seems much more difficult to determine whether there is a possibility that we can predict how much the electricity price changes based on how much our variables change each year. We continue this analysis below, focusing only on percent changes now."
   ]
  },
  {
   "cell_type": "markdown",
   "id": "9066cd3a",
   "metadata": {},
   "source": [
    "### Regression on Ports, EV Sales, and Electricity Price"
   ]
  },
  {
   "cell_type": "code",
   "execution_count": 125,
   "id": "82114d1f",
   "metadata": {},
   "outputs": [],
   "source": [
    "price_ports_EVsales = pd.concat([rev_sales[\"% Change Price\"], ev_sales['% Change Sales'], evse['% Change Ports'].iloc[:-2]], axis = 1)\n",
    "price_ports_EVsales.columns = ['Price', 'Sales', 'Ports']"
   ]
  },
  {
   "cell_type": "code",
   "execution_count": 126,
   "id": "95847752",
   "metadata": {},
   "outputs": [
    {
     "name": "stdout",
     "output_type": "stream",
     "text": [
      "                            OLS Regression Results                            \n",
      "==============================================================================\n",
      "Dep. Variable:                  Price   R-squared:                       0.117\n",
      "Model:                            OLS   Adj. R-squared:                 -0.178\n",
      "Method:                 Least Squares   F-statistic:                    0.3966\n",
      "Date:                Sun, 13 Mar 2022   Prob (F-statistic):              0.689\n",
      "Time:                        18:36:20   Log-Likelihood:                -16.046\n",
      "No. Observations:                   9   AIC:                             38.09\n",
      "Df Residuals:                       6   BIC:                             38.68\n",
      "Df Model:                           2                                         \n",
      "Covariance Type:            nonrobust                                         \n",
      "==============================================================================\n",
      "                 coef    std err          t      P>|t|      [0.025      0.975]\n",
      "------------------------------------------------------------------------------\n",
      "Intercept      1.0072      0.761      1.324      0.234      -0.855       2.869\n",
      "Sales          0.0085      0.018      0.484      0.645      -0.035       0.052\n",
      "Ports         -0.0163      0.020     -0.809      0.449      -0.066       0.033\n",
      "==============================================================================\n",
      "Omnibus:                        1.665   Durbin-Watson:                   1.995\n",
      "Prob(Omnibus):                  0.435   Jarque-Bera (JB):                0.630\n",
      "Skew:                           0.638   Prob(JB):                        0.730\n",
      "Kurtosis:                       2.775   Cond. No.                         134.\n",
      "==============================================================================\n",
      "\n",
      "Notes:\n",
      "[1] Standard Errors assume that the covariance matrix of the errors is correctly specified.\n"
     ]
    },
    {
     "name": "stderr",
     "output_type": "stream",
     "text": [
      "C:\\Users\\Lucy\\anaconda3\\lib\\site-packages\\scipy\\stats\\stats.py:1541: UserWarning: kurtosistest only valid for n>=20 ... continuing anyway, n=9\n",
      "  warnings.warn(\"kurtosistest only valid for n>=20 ... continuing \"\n"
     ]
    }
   ],
   "source": [
    "#linear regression for effect of ports and EV sales on electricity (cents/kWh)\n",
    "outcome, predictors = patsy.dmatrices('Price ~ Sales + Ports', price_ports_EVsales)\n",
    "mod = sm.OLS(outcome, predictors)\n",
    "res = mod.fit()\n",
    "print(res.summary())"
   ]
  },
  {
   "cell_type": "markdown",
   "id": "2c65b019",
   "metadata": {},
   "source": [
    "With the OLS model we find that r squared is 0.117, indicating that the model does not account for much of the variance in our data. Our p values are also greater than 0.05, which is not a significant result. Therefore it appears that the % change in number of ports and ev sales does not have a correlation to electricity prices."
   ]
  },
  {
   "cell_type": "markdown",
   "id": "f5ee6480",
   "metadata": {},
   "source": [
    "### Regression on EV Sales, Stations, and Electricity Price"
   ]
  },
  {
   "cell_type": "code",
   "execution_count": 121,
   "id": "7bfd9589",
   "metadata": {},
   "outputs": [
    {
     "name": "stdout",
     "output_type": "stream",
     "text": [
      "                            OLS Regression Results                            \n",
      "==============================================================================\n",
      "Dep. Variable:               PricePct   R-squared:                       0.092\n",
      "Model:                            OLS   Adj. R-squared:                 -0.210\n",
      "Method:                 Least Squares   F-statistic:                    0.3045\n",
      "Date:                Sun, 13 Mar 2022   Prob (F-statistic):              0.748\n",
      "Time:                        18:34:46   Log-Likelihood:                -16.170\n",
      "No. Observations:                   9   AIC:                             38.34\n",
      "Df Residuals:                       6   BIC:                             38.93\n",
      "Df Model:                           2                                         \n",
      "Covariance Type:            nonrobust                                         \n",
      "===============================================================================\n",
      "                  coef    std err          t      P>|t|      [0.025      0.975]\n",
      "-------------------------------------------------------------------------------\n",
      "Intercept       0.9180      0.757      1.213      0.271      -0.934       2.770\n",
      "SalesPct        0.0077      0.019      0.408      0.697      -0.038       0.054\n",
      "StationsPct    -0.0146      0.021     -0.688      0.517      -0.066       0.037\n",
      "==============================================================================\n",
      "Omnibus:                        1.960   Durbin-Watson:                   1.942\n",
      "Prob(Omnibus):                  0.375   Jarque-Bera (JB):                0.775\n",
      "Skew:                           0.711   Prob(JB):                        0.679\n",
      "Kurtosis:                       2.784   Cond. No.                         130.\n",
      "==============================================================================\n",
      "\n",
      "Notes:\n",
      "[1] Standard Errors assume that the covariance matrix of the errors is correctly specified.\n"
     ]
    },
    {
     "name": "stderr",
     "output_type": "stream",
     "text": [
      "C:\\Users\\Lucy\\anaconda3\\lib\\site-packages\\scipy\\stats\\stats.py:1541: UserWarning: kurtosistest only valid for n>=20 ... continuing anyway, n=9\n",
      "  warnings.warn(\"kurtosistest only valid for n>=20 ... continuing \"\n"
     ]
    }
   ],
   "source": [
    "ev_sales['Year']=ev_sales['Year'].astype(int)\n",
    "evsales_stations = ev_sales.merge(evse, on='Year')\n",
    "evsales_stations = evsales_stations.merge(rev_sales, on='Year')\n",
    "evsales_stations = evsales_stations[['Year', '% Change Sales', '% Change Stations', '% Change Price']]\n",
    "evsales_stations.columns = ['Year', 'SalesPct', 'StationsPct', 'PricePct']\n",
    "evsales_stations\n",
    "\n",
    "\n",
    "# carry out linear regression\n",
    "outcome, predictors = patsy.dmatrices('PricePct ~ SalesPct + StationsPct', evsales_stations)\n",
    "mod_log = sm.OLS(outcome,predictors)\n",
    "res_log = mod_log.fit()\n",
    "print(res_log.summary())"
   ]
  },
  {
   "cell_type": "markdown",
   "id": "439aed12",
   "metadata": {},
   "source": [
    "With the OLS model we find that r squared is 0.092, indicating that the model does not account for much of the variance in our data. Our p values are also greater than 0.05, which is not a significant result. Therefore it appears that the % change in number of stations and ev sales does not have a correlation to electricity prices."
   ]
  },
  {
   "cell_type": "markdown",
   "id": "690aee8e",
   "metadata": {},
   "source": [
    "### Regression on EV Sales, Ports, Stations, and Electricity Price"
   ]
  },
  {
   "cell_type": "code",
   "execution_count": 122,
   "id": "7d15a0c0",
   "metadata": {},
   "outputs": [],
   "source": [
    "combined_df = pd.merge(ev_sales, evse, how=\"left\")\n",
    "combined_df = pd.merge(combined_df, rev_sales)\n",
    "combined_df.columns = ['Year', 'Sales', 'Change_Sales', 'Ports', 'Stations',\n",
    "       'Change_Ports', 'Change_Stations', 'Price', 'Change_Price']"
   ]
  },
  {
   "cell_type": "code",
   "execution_count": 123,
   "id": "634ca976",
   "metadata": {},
   "outputs": [
    {
     "name": "stdout",
     "output_type": "stream",
     "text": [
      "                            OLS Regression Results                            \n",
      "==============================================================================\n",
      "Dep. Variable:           Change_Price   R-squared:                       0.190\n",
      "Model:                            OLS   Adj. R-squared:                 -0.080\n",
      "Method:                 Least Squares   F-statistic:                    0.7046\n",
      "Date:                Sun, 13 Mar 2022   Prob (F-statistic):              0.531\n",
      "Time:                        18:34:46   Log-Likelihood:                -15.656\n",
      "No. Observations:                   9   AIC:                             37.31\n",
      "Df Residuals:                       6   BIC:                             37.90\n",
      "Df Model:                           2                                         \n",
      "Covariance Type:            nonrobust                                         \n",
      "===================================================================================\n",
      "                      coef    std err          t      P>|t|      [0.025      0.975]\n",
      "-----------------------------------------------------------------------------------\n",
      "Intercept           1.5471      0.902      1.715      0.137      -0.661       3.755\n",
      "Change_Stations     0.1093      0.122      0.894      0.406      -0.190       0.408\n",
      "Change_Ports       -0.1193      0.125     -0.956      0.376      -0.425       0.186\n",
      "==============================================================================\n",
      "Omnibus:                        0.076   Durbin-Watson:                   1.981\n",
      "Prob(Omnibus):                  0.963   Jarque-Bera (JB):                0.302\n",
      "Skew:                           0.017   Prob(JB):                        0.860\n",
      "Kurtosis:                       2.104   Cond. No.                         158.\n",
      "==============================================================================\n",
      "\n",
      "Notes:\n",
      "[1] Standard Errors assume that the covariance matrix of the errors is correctly specified.\n"
     ]
    },
    {
     "name": "stderr",
     "output_type": "stream",
     "text": [
      "C:\\Users\\Lucy\\anaconda3\\lib\\site-packages\\scipy\\stats\\stats.py:1541: UserWarning: kurtosistest only valid for n>=20 ... continuing anyway, n=9\n",
      "  warnings.warn(\"kurtosistest only valid for n>=20 ... continuing \"\n"
     ]
    }
   ],
   "source": [
    "outcome1, predictors1 = patsy.dmatrices(\"Change_Price ~ Change_Stations + Change_Ports\", combined_df)\n",
    "mod1 = sm.OLS(outcome1, predictors1)\n",
    "res1 = mod1.fit()\n",
    "print(res1.summary())"
   ]
  },
  {
   "cell_type": "markdown",
   "id": "e7d2196d",
   "metadata": {},
   "source": [
    "With the OLS model we find that r squared is 0.190, indicating that the model does not account for much of the variance in our data. Our p values are also greater than 0.05, which is not a significant result. Therefore it appears that the % change in number of stations and ports does not have a correlation to electricity prices."
   ]
  },
  {
   "cell_type": "code",
   "execution_count": 127,
   "id": "2c79e0c1",
   "metadata": {},
   "outputs": [
    {
     "name": "stdout",
     "output_type": "stream",
     "text": [
      "                            OLS Regression Results                            \n",
      "==============================================================================\n",
      "Dep. Variable:           Change_Price   R-squared:                       0.191\n",
      "Model:                            OLS   Adj. R-squared:                 -0.294\n",
      "Method:                 Least Squares   F-statistic:                    0.3945\n",
      "Date:                Sun, 13 Mar 2022   Prob (F-statistic):              0.763\n",
      "Time:                        18:37:41   Log-Likelihood:                -15.649\n",
      "No. Observations:                   9   AIC:                             39.30\n",
      "Df Residuals:                       5   BIC:                             40.09\n",
      "Df Model:                           3                                         \n",
      "Covariance Type:            nonrobust                                         \n",
      "===================================================================================\n",
      "                      coef    std err          t      P>|t|      [0.025      0.975]\n",
      "-----------------------------------------------------------------------------------\n",
      "Intercept           1.5082      1.086      1.388      0.224      -1.284       4.300\n",
      "Change_Stations     0.1031      0.152      0.679      0.527      -0.287       0.493\n",
      "Change_Ports       -0.1147      0.146     -0.783      0.469      -0.491       0.262\n",
      "Change_Sales        0.0018      0.021      0.086      0.935      -0.052       0.056\n",
      "==============================================================================\n",
      "Omnibus:                        0.042   Durbin-Watson:                   2.023\n",
      "Prob(Omnibus):                  0.979   Jarque-Bera (JB):                0.267\n",
      "Skew:                           0.066   Prob(JB):                        0.875\n",
      "Kurtosis:                       2.167   Cond. No.                         219.\n",
      "==============================================================================\n",
      "\n",
      "Notes:\n",
      "[1] Standard Errors assume that the covariance matrix of the errors is correctly specified.\n"
     ]
    },
    {
     "name": "stderr",
     "output_type": "stream",
     "text": [
      "C:\\Users\\Lucy\\anaconda3\\lib\\site-packages\\scipy\\stats\\stats.py:1541: UserWarning: kurtosistest only valid for n>=20 ... continuing anyway, n=9\n",
      "  warnings.warn(\"kurtosistest only valid for n>=20 ... continuing \"\n"
     ]
    }
   ],
   "source": [
    "outcome2, predictors2 = patsy.dmatrices(\"Change_Price ~ Change_Stations + Change_Ports + Change_Sales\", combined_df)\n",
    "mod2 = sm.OLS(outcome2, predictors2)\n",
    "res2 = mod2.fit()\n",
    "print(res2.summary())"
   ]
  },
  {
   "cell_type": "markdown",
   "id": "0e3bb737",
   "metadata": {},
   "source": [
    "With the OLS model we find that r squared is 0.191, indicating that the model does not account for much of the variance in our data. Our p values are also greater than 0.05, which is not a significant result. Therefore it appears that the % change in all three variables does not have a correlation to electricity prices."
   ]
  },
  {
   "cell_type": "markdown",
   "id": "cc295524",
   "metadata": {},
   "source": [
    "# Ethics and Privacy"
   ]
  },
  {
   "cell_type": "markdown",
   "id": "df322617",
   "metadata": {},
   "source": [
    "There should be no issues in terms of privacy as the identities of those who own EVs are not displayed, making the datasets anonymized. The datasets we used were collected by government agencies and are available to the public on their respective websites. There are no terms of use issues with them as well. The datasets also all cover the same geographical area, namely the US. There is one problem in the data collection for the number of EVSE ports and station locations, where data points for EVSE ports between 2011 and 2013 were estimated instead. Apart from the estimated data, there seems to be no reflection of human biases in the other datasets. Before analyzing the datasets we looked at the premade visuals some of the datasets already contained to make sure there were no inconsistencies. During our exploratory data analysis, we looked to see if there were any potential outliers in the data and made new graphs that excluded them if they skewed the visualization. We also made sure to include a note of whenever this occurred and explained why it may have appeared. There are likely no issues related to data privacy. However, if there is a positive correlation or model is found between the presence of EVs in the US and electricity prices, an impact could be influencing a customer’s decision on whether to purchase an EV or not, as well as investments in related stocks. This would potentially benefit individuals with higher income. Any problems that arise during the project will be handled by explaining them clearly and revising the research question, hypothesis, or datasets if necessary. "
   ]
  },
  {
   "cell_type": "markdown",
   "id": "bba86834",
   "metadata": {},
   "source": [
    "# Conclusion and Discussion"
   ]
  },
  {
   "cell_type": "markdown",
   "id": "dcdd7eb7",
   "metadata": {},
   "source": [
    "Our question aimed to determine if there was a positive relationship between the number of EVSE ports, station locations, EV sales, and electricity prices in the US. Our datasets gave us information on these variables ranging from the years 2011 to 2019. In our analysis, we found that there was a steady increase over time for all variables, and that combinations of relationships also all had positive correlations. When fitting OLS models, we found statistically significant results (p < 0.05) for positive correlations between EV sales vs electricity price, the number of ports vs electricity price, and the number of stations vs electricity price. However, this is likely a result of autocorrelation - because EV sales, the number of ports, the number of station locations, and electricity prices will all naturally increase over time, they will always produce a positive correlation. Thus, when fitting OLS models comparing percent changes instead of the raw counts, we found no statistically significant results between our variables. Combining our variables into models also did not produce statistically significant results.\n",
    "\n",
    "Overall, our results suggest that EV sales, the number of station locations, and the number of EVSE ports do have a positive correlation with electricity prices in cents/kWh, but it is due to coinciding trends over time rather than direct influence. \n",
    "\n",
    "Some of the limitations of the project are that there were not many data points. Although the electricity prices dataset contained monthly information, the datasets for EV sales, number of EVSE ports, and number of station locations only contained yearly information, which restricted the scope of our analysis. We also only used datasets that covered the US, so future additions could incorporate statistics from more countries. The rise of modern electric cars has only come about in recent decades, so as more data is collected, different results may arise, and the analysis will become more accurate. It is important to look into the trend of electric vehicle presence and electricity prices as an alternative to gasoline, especially as gas prices have fluctuated due to political developments, inflation, the pandemic, and more."
   ]
  },
  {
   "cell_type": "markdown",
   "id": "6cc055f6",
   "metadata": {},
   "source": [
    "# Team Contributions"
   ]
  },
  {
   "cell_type": "markdown",
   "id": "41dfaf4d",
   "metadata": {},
   "source": [
    "Soyon Kim - Contributed to Background and Prior Work, Data Analysis, and Results.\n",
    "\n",
    "Lucy Gai - Contributed to Background and Prior Work, Datasets, Data Analysis, and Results.\n",
    "\n",
    "Jenna Yang - Contributed to Data Cleaning, Overview, Data Analysis, and Results.\n",
    "\n",
    "Ann Chwu - Contributed to Datasets, Data Analysis and Results, Ethics and Privacy, Conclusion and Discussion.\n",
    "\n",
    "Darian Hong - Contributed to Data Cleaning and Data Analysis."
   ]
  }
 ],
 "metadata": {
  "kernelspec": {
   "display_name": "Python 3 (ipykernel)",
   "language": "python",
   "name": "python3"
  },
  "language_info": {
   "codemirror_mode": {
    "name": "ipython",
    "version": 3
   },
   "file_extension": ".py",
   "mimetype": "text/x-python",
   "name": "python",
   "nbconvert_exporter": "python",
   "pygments_lexer": "ipython3",
   "version": "3.9.5"
  }
 },
 "nbformat": 4,
 "nbformat_minor": 5
}
