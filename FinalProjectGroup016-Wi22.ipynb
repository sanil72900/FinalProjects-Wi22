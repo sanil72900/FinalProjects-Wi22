{
 "cells": [
  {
   "cell_type": "markdown",
   "metadata": {},
   "source": [
    "# COGS 108 - Final Project - COVID Mortality Rate and Percentage of Medical Personnel"
   ]
  },
  {
   "cell_type": "markdown",
   "metadata": {},
   "source": [
    "## Permissions\n",
    "\n",
    "Place an `X` in the appropriate bracket below to specify if you would like your group's project to be made available to the public. (Note that student names will be included (but PIDs will be scraped from any groups who include their PIDs).\n",
    "\n",
    "* [X] YES - make available\n",
    "* [  ] NO - keep private"
   ]
  },
  {
   "cell_type": "markdown",
   "metadata": {},
   "source": [
    "# Video Link\n",
    "https://drive.google.com/file/d/1388LTXLt_0V6-k3owbR9Wbxuaj3qzAYu/view?usp=sharing\n",
    "    "
   ]
  },
  {
   "cell_type": "markdown",
   "metadata": {},
   "source": [
    "# Overview"
   ]
  },
  {
   "cell_type": "markdown",
   "metadata": {},
   "source": [
    "This project focus on the correlation between COVID-19 mortality rate and the percentage of medical personnel in each state of the U.S. We naively assume that with more percentage of medical personnel, mortality rate will decrease. However, after the research conducted in this project, we fail to reject the null hypothesis and conclude that there is no relationship between the two variables. Besides, we decide to consider some confounding variables such as vaccination rate, GDP per capita, and health care funding. With all those confounding variables considered, there is still no relationship between two variables, but we find a negative linear relationship between vaccination rate and mortality rate."
   ]
  },
  {
   "cell_type": "markdown",
   "metadata": {},
   "source": [
    "# Names\n",
    "\n",
    "- Yujia Wang\n",
    "- Zhaojin Yin\n",
    "- Aolei Cao\n",
    "- Zikang Chen"
   ]
  },
  {
   "cell_type": "markdown",
   "metadata": {},
   "source": [
    "<a id='research_question'></a>\n",
    "# Research Question"
   ]
  },
  {
   "cell_type": "markdown",
   "metadata": {},
   "source": [
    "Is there a relationship between the percentage of medical personnel in the total population and the COVID-19 mortality rate in different states in the US during 2020? COVID-19 mortality rate is measured as total deaths divided by total population of each state. The percentage of medical personnel is measured by the number of medical personnel (physicians in particular) divided by the population of each state."
   ]
  },
  {
   "cell_type": "markdown",
   "metadata": {},
   "source": [
    "<a id='background'></a>\n",
    "\n",
    "# Background & Prior Work"
   ]
  },
  {
   "cell_type": "markdown",
   "metadata": {},
   "source": [
    "### Why do we choose this topic?\n",
    "\n",
    "In recent years, one of the most popular social problems is about the spread of COVID-19, the coronavirus. While it started in 2019, the infected population in the world is still growing at an exponential rate, and nobody knows what our future will be and when this fierce pandemic will end. Today, nearly 700 thousand people are infected at the peak of the Omicron variant in the U.S. alone, so the severity of the situation around the globe may be well beyond our imagination. \n",
    " \n",
    "When we discussed topics around COVID-19, the mortality rate of this disease was what we cared about the most. Thanks to the great development in medical science in contemporary society and the efforts of every healthcare personnel, the mortality rate of COVID-19 in the US as a whole is 1.2%, so that we are still living in a relatively healthy environment. However, the mortality of COVID-19 varies from place to place. After detailed research, we found that California and Texas have a similar number of death cases due to the virus, around 79000. Nevertheless, California had an 8 million population, 6 million for Texas. While this situation was even more dire from a global perspective, we decided to narrow it down in the US, as states in the US shared similar economic, political and social backgrounds. Obviously, the mortality rate in California is significantly lower than that in Texas, but what led to this stunning disparity?\n",
    " \n",
    "A crucial factor that came to our mind immediately was the number of physicians who provide treatment for patients with severe illness. If there are not enough doctors, patients will have to register for a doctor and wait \n",
    "or days and weeks before they can meet the doctor and seek medical help. However, elders and immunocompromised patients may not be able to survive on their own for such a long time. Therefore, we constructed our research question, focusing on whether there is a relationship between the medical personnel ratio and COVID-19 death rate.\n",
    "\n",
    "https://www.aljazeera.com/news/2022/1/26/covid-cases-americas-hit-highest-level-on-record-paho\n",
    "\n",
    "https://coronavirus.jhu.edu/data/mortality\n",
    "\n",
    "### What background information led to our hypothesis?\n",
    "\n",
    "On a global level, the mortality rate of different countries varies, and the countries with relatively high mortality rates are mainly those underdeveloped, and unstable countries. It is instinctive to connect the level of mortality rate with the number of medical personnel, and we assume a negative correlation.\n",
    " \n",
    "Take Syria as an example. It is reported that 3364 medical personnel in Syria were detained or forced to disappear, more than 900 medical professionals were killed by the government, and hospitals were under attack at the same time. In this case, the mortality rate of COVID-19 in Syria was 5.8%, way higher than the rate in the US. Syria was not the only country with such characteristics. According to the data of COVID-19, African countries usually have a higher mortality rate, and these countries were in an evident shortage of medical personnel.\n",
    "\n",
    "### What has been done?\n",
    " \n",
    "In the article \"Shortage of healthcare workers in developing countries--Africa.\", the author gave a full account of the severe situation of the healthcare system in Africa. He pointed out that the health system in sub-Saharan Africa was under a serious situation due to the shortage of healthcare workers. This would inevitably lead to excessive burden when the country was faced with a global pandemic-- The healthcare system couldn’t take care of all the patients. What’s more, the author also mentioned the migration of doctors from developing countries to developed countries, which widened the gap between the population of health workers in developing and developed countries.\n",
    " \n",
    "The article suggests that the population of healthcare workers matters a lot when it comes to pandemics, which corresponds with our assumption that the death rate of COVID-19 disease in regions with less healthcare worker population ratio will be potentially higher than the rate in regions equipped with plenty of healthcare workers.\n",
    " \n",
    "Although globally, it is clear that the health system gap between developing countries and developed countries leads to the difference in mortality rate, we cannot deduce this result domestically in the U.S. Despite the similarities in backgrounds of the states in the U.S., the mortality rate of COVID-19 still varies. Additionally, the healthcare burden also exists.\n",
    " \n",
    "In the article “Disease and healthcare burden of COVID-19 in the United States”, the author directly analyzes the healthcare burden of COVID-19 in the United States, claiming that some special characteristics of COVID-19, such as particularly high fares, require extra treatment from the healthcare system. However, the widespread pandemic and high infection rate in the US had caused too much burden on the healthcare system so that a significant number of patients failed to have access to necessary and prompt treatment. In this case, we suppose the mortality rate of COVID-19 in a certain region of the US can be used as an indicator of the saturation of the local medical system.\n",
    " \n",
    "### Why is it important?\n",
    " \n",
    "Inequality in healthcare resource distribution has been a persistent issue in the United States for years. While some places benefit from surplus medical personnel, others are in a desperate shortage of them. If our research concludes a negative correlation between the medical personnel population ratio and COVID-19 mortality rate, the government can take action transferring physicians from the surplus region to those regions where medical personnel are needed.\n",
    " \n",
    "By analyzing the trend of mortality rate, one can also conclude the changing situation of the healthcare system. If one region is having an increasing mortality rate, we can deduce that such a region requires more medical personnel.\n",
    " \n",
    "We may also discover several other factors which also influence the mortality rate. If those relationships are confirmed after calculations, things become clearer when the government wants to decrease the mortality rate.\n",
    "\n",
    "\n",
    "\n",
    "\n",
    "References (include links): \n",
    "\n",
    "-   Naicker, Saraladevi, et al. \"Shortage of healthcare workers in developing countries--Africa.\" Ethnicity & disease 19.1 (2009): 60.\n",
    "    https://dergipark.org.tr/en/download/article-file/1074637\n",
    "    \n",
    " \n",
    "- Miller, Ian F., et al. \"Disease and healthcare burden of COVID-19 in the United States.\" Nature Medicine 26.8 (2020): 1212-1217.\n",
    "    https://www.nature.com/articles/s41591-020-0952-y\n",
    "\n",
    "\n",
    "- Karmakar, Monita, Paula M. Lantz, and Renuka Tipirneni. \"Association of social and demographic factors with COVID-19 incidence and death rates in the US.\" JAMA network open 4.1 (2021): e2036462-e2036462.\n",
    "    https://jamanetwork.com/journals/jamanetworkopen/articlepdf/2775732/karmakar/_2021/_oi/_201090/_1611286825.95028.pdf\n",
    "\n"
   ]
  },
  {
   "cell_type": "markdown",
   "metadata": {},
   "source": [
    "# Hypothesis\n"
   ]
  },
  {
   "cell_type": "markdown",
   "metadata": {},
   "source": [
    "In our study, we hypothesize that there is indeed a negative relationship between medical personnel percentage and COVID-19 mortality rate. We believe states with more medical personnels can deal with more COVID-19 patients. Serious illness will receive more medical support, resulting in a lower death rate. Moreover, more medical personnel will provide more sites for professional testing, which will guarantee that COVID-19 patients can receive medical support in time. However, we acknowledge that there may be confounding variables such as health care funding per person, GDP per capita, and vaccination rate."
   ]
  },
  {
   "cell_type": "markdown",
   "metadata": {},
   "source": [
    "# Datasets"
   ]
  },
  {
   "cell_type": "markdown",
   "metadata": {},
   "source": [
    "__1. COVID Mortality__\n",
    "\n",
    "   * __Data Name:__ united_states_covid19_cases_deaths_and_testing_by_state.csv\n",
    "\n",
    "   * __Link to The Dataset:__  https://covid.cdc.gov/covid-data-tracker/#cases_totaldeaths\n",
    "   \n",
    "   * __Number of Observations:__ 62\n",
    "   \n",
    "   * __Description:__ This data contains the number of COVID cases and deaths in the United States by each state and territory. "
   ]
  },
  {
   "cell_type": "markdown",
   "metadata": {},
   "source": [
    "__2. Population__\n",
    "\n",
    "   * __Data Name:__ US_Population.csv\n",
    "\n",
    "   * __Link to The Dataset:__  https://www.infoplease.com/us/states/state-population-by-rank\n",
    "   \n",
    "   * __Number of Observations:__ 51\n",
    "   \n",
    "   * __Description:__ This dataset contains the total population data for each state in the United States."
   ]
  },
  {
   "cell_type": "markdown",
   "metadata": {},
   "source": [
    "__3. Medical Personnels__\n",
    "\n",
    "   * __Data Name:__ medical_personnels_data.csv\n",
    "\n",
    "   * __Link to The Dataset:__  https://www.kff.org/other/state-indicator/total-active-physicians/?currentTimeframe=0&sortModel=%7B%22colId%22:%22Location%22,%22sort%22:%22asc%22%7D\n",
    "   \n",
    "   * __Number of Observations:__ 51\n",
    "   \n",
    "   * __Description:__ This data set contains data for the number of medical personnels by states in the U.S. around 2020. The data is lasted updated in January, 2022. To get our variable the percentage of medical personnels in each state, we have to divide the number of medical personnels provided by this dataset by the total population for each state."
   ]
  },
  {
   "cell_type": "markdown",
   "metadata": {},
   "source": [
    "__4. Healthcare Fundings__\n",
    "\n",
    "   * __Data Name:__ per_person_state public_health_funding.csv\n",
    "\n",
    "   * __Link to the dataset:__ http://statehealthcompare.shadac.org/rank/117/per-person-state-public-health-funding#2,3,4,5,6,7,8,9,10,11,12,13,14,15,16,17,18,19,20,21,22,23,24,25,26,27,28,29,30,31,32,33,34,35,36,37,38,39,40,41,42,43,44,45,46,47,48,49,50,51,52/a/32/154/false/location\n",
    "   \n",
    "   * __Number of observations:__ 51\n",
    "   \n",
    "   * __Description:__ This data set contains data for the amount of healthcare fundings per person by states in the U.S., in dollors, in 2020. "
   ]
  },
  {
   "cell_type": "markdown",
   "metadata": {},
   "source": [
    "__5. GDP Per Capita__\n",
    "\n",
    "   * __Dataset Name:__ gdp_by_state.csv\n",
    "   \n",
    "   * __Link to The Dataset:__ https://en.wikipedia.org/wiki/List_of_U.S._states_and_territories_by_GDP\n",
    "   \n",
    "   * __Number of Observations:__ 51\n",
    "   \n",
    "   * __Description:__ This dataset contains the GDP per capita of each state in the US in 2020. Gross Domestic Product (GDP) per capita is calculated by the state's GDP divided by its total population. We included this dataset because GDP per capita, which reflects the economic development of a state, might be a confounding variable that affect the relationship between medical personnel percentage and COVID mortality rate in each state."
   ]
  },
  {
   "cell_type": "markdown",
   "metadata": {},
   "source": [
    "__6. Vaccination Rate__\n",
    "\n",
    "   * __Data Name:__ vaccination_rate.csv\n",
    "\n",
    "   * __Link to the dataset:__ https://www.beckershospitalreview.com/public-health/states-ranked-by-percentage-of-population-vaccinated-march-15.html\n",
    "   \n",
    "   * __Number of observations:__ 51\n",
    "   \n",
    "   * __Description:__ This date set contains the number of fully vaccinated people in each state in U.S. around 2020. It also contains the percentage of population fully vaccinated. "
   ]
  },
  {
   "cell_type": "markdown",
   "metadata": {},
   "source": [
    "# Setup"
   ]
  },
  {
   "cell_type": "code",
   "execution_count": 1,
   "metadata": {},
   "outputs": [],
   "source": [
    "#import all the necessary models and packages\n",
    "import pandas as pd\n",
    "import numpy as np\n",
    "import matplotlib.pyplot as plt\n",
    "\n",
    "import seaborn as sns\n",
    "sns.set()\n",
    "sns.set_context('talk')\n",
    "\n",
    "import statsmodels.api as sm\n",
    "import patsy\n",
    "\n",
    "from sklearn.model_selection import KFold\n",
    "from sklearn.model_selection import cross_validate\n",
    "from sklearn import datasets, linear_model"
   ]
  },
  {
   "cell_type": "markdown",
   "metadata": {},
   "source": [
    "# Data Cleaning"
   ]
  },
  {
   "cell_type": "markdown",
   "metadata": {},
   "source": [
    "## 1. COVID Mortality Rate Data"
   ]
  },
  {
   "cell_type": "markdown",
   "metadata": {},
   "source": [
    "After we find a dataset of COVID mortality online, we download the dataset as a csv file and use jupyter notebook to read this.\n",
    "We read the data to a dataframe using pandas. To clean the data, we first get rid of all the unnecessary data, then we delete all the rows with null elements. After that, we sort the data in the way we want, and the result dataframe can be directly used in future analysis."
   ]
  },
  {
   "cell_type": "code",
   "execution_count": 2,
   "metadata": {},
   "outputs": [],
   "source": [
    "# Read the original data from the csv file under same directory.\n",
    "Mortality_Total = pd.read_csv('united_states_covid19_cases_deaths_and_testing_by_state.csv')\n",
    "\n",
    "#Select only necessary columns for later use, drop the rest columns.\n",
    "Mortality_Total = Mortality_Total[['State/Territory','Total Cases', 'Total Deaths']]\n",
    "\n",
    "#Rename the State/Territory column to a more readable one.\n",
    "Mortality_Total = Mortality_Total.rename(columns = {'State/Territory':'State'})\n",
    "\n",
    "#Drop all the columns which contains null elements, assign a new dataframe.\n",
    "Mortality = Mortality_Total.dropna()"
   ]
  },
  {
   "cell_type": "code",
   "execution_count": 3,
   "metadata": {},
   "outputs": [],
   "source": [
    "# Replace place names to a more common one.\n",
    "Mortality = Mortality.replace('District of Columbia', 'DC')\n",
    "\n",
    "Mortality = Mortality.replace('New York City', 'New York')\n",
    "\n",
    "Mortality = Mortality.replace('New York*', 'New York')"
   ]
  },
  {
   "cell_type": "code",
   "execution_count": 4,
   "metadata": {},
   "outputs": [],
   "source": [
    "#Sort all the rows in ascending values with respect to state column, then reset all the index.\n",
    "Mortality = Mortality.sort_values(by = 'State').reset_index().drop(columns = 'index')\n",
    "\n",
    "#Drop the rows indicating the territories but not states. (we only need the data for states) Reset the index afterwards.\n",
    "Mortality = Mortality.drop(index = [11,33,37,41,43,44,50,53]).reset_index().drop(columns = 'index')"
   ]
  },
  {
   "cell_type": "code",
   "execution_count": 5,
   "metadata": {
    "scrolled": true
   },
   "outputs": [
    {
     "data": {
      "text/html": [
       "<div>\n",
       "<style scoped>\n",
       "    .dataframe tbody tr th:only-of-type {\n",
       "        vertical-align: middle;\n",
       "    }\n",
       "\n",
       "    .dataframe tbody tr th {\n",
       "        vertical-align: top;\n",
       "    }\n",
       "\n",
       "    .dataframe thead th {\n",
       "        text-align: right;\n",
       "    }\n",
       "</style>\n",
       "<table border=\"1\" class=\"dataframe\">\n",
       "  <thead>\n",
       "    <tr style=\"text-align: right;\">\n",
       "      <th></th>\n",
       "      <th>State</th>\n",
       "      <th>Total Cases</th>\n",
       "      <th>Total Deaths</th>\n",
       "    </tr>\n",
       "  </thead>\n",
       "  <tbody>\n",
       "    <tr>\n",
       "      <th>0</th>\n",
       "      <td>Alabama</td>\n",
       "      <td>1245880.0</td>\n",
       "      <td>17387.0</td>\n",
       "    </tr>\n",
       "    <tr>\n",
       "      <th>1</th>\n",
       "      <td>Alaska</td>\n",
       "      <td>217366.0</td>\n",
       "      <td>1060.0</td>\n",
       "    </tr>\n",
       "    <tr>\n",
       "      <th>2</th>\n",
       "      <td>Arizona</td>\n",
       "      <td>1918034.0</td>\n",
       "      <td>26639.0</td>\n",
       "    </tr>\n",
       "    <tr>\n",
       "      <th>3</th>\n",
       "      <td>Arkansas</td>\n",
       "      <td>794342.0</td>\n",
       "      <td>9831.0</td>\n",
       "    </tr>\n",
       "    <tr>\n",
       "      <th>4</th>\n",
       "      <td>California</td>\n",
       "      <td>8582249.0</td>\n",
       "      <td>80022.0</td>\n",
       "    </tr>\n",
       "  </tbody>\n",
       "</table>\n",
       "</div>"
      ],
      "text/plain": [
       "        State  Total Cases  Total Deaths\n",
       "0     Alabama    1245880.0       17387.0\n",
       "1      Alaska     217366.0        1060.0\n",
       "2     Arizona    1918034.0       26639.0\n",
       "3    Arkansas     794342.0        9831.0\n",
       "4  California    8582249.0       80022.0"
      ]
     },
     "execution_count": 5,
     "metadata": {},
     "output_type": "execute_result"
    }
   ],
   "source": [
    "#This is the final version of the mortality data that we will use in the future.\n",
    "Mortality.head()"
   ]
  },
  {
   "cell_type": "markdown",
   "metadata": {},
   "source": [
    "## 2. Population Data"
   ]
  },
  {
   "cell_type": "markdown",
   "metadata": {},
   "source": [
    "For the population dataset, since we didn't find a direct csv file online, we find the data and type all the data into excel, and then we export the file as csv file, read them in jupyter notebook.\n",
    "First, we sort all the values by the value of states, then we drop the unnecessary columns."
   ]
  },
  {
   "cell_type": "code",
   "execution_count": 6,
   "metadata": {},
   "outputs": [],
   "source": [
    "#Read the Population data from the csv file under same directory.\n",
    "Population_Total = pd.read_csv('US_Population.csv')\n",
    "\n",
    "#Sort all the rows in ascending values with respect to state column, then reset all the index.\n",
    "sorted_Pop = Population_Total.sort_values(by = 'State').reset_index()\n",
    "\n",
    "#Drop unnecessary columns,assign to a new dataframe.\n",
    "Population = sorted_Pop.drop(columns = ['index','Rank','Percent of Total'])"
   ]
  },
  {
   "cell_type": "code",
   "execution_count": 7,
   "metadata": {},
   "outputs": [],
   "source": [
    "# data from our dataset contains \",\" in string, we want to convert those string to float \n",
    "def standardize_numbers(str_in):\n",
    "    try:\n",
    "        str_in = str_in.lower()\n",
    "        str_in = str_in.strip()\n",
    "\n",
    "        if ',' in str_in:\n",
    "            str_in = str_in.replace(',', '')\n",
    "            output = float(str_in)\n",
    "        else:\n",
    "            output = np.nan\n",
    "    except:\n",
    "        output = np.nan\n",
    "        \n",
    "    return output"
   ]
  },
  {
   "cell_type": "code",
   "execution_count": 8,
   "metadata": {},
   "outputs": [
    {
     "data": {
      "text/html": [
       "<div>\n",
       "<style scoped>\n",
       "    .dataframe tbody tr th:only-of-type {\n",
       "        vertical-align: middle;\n",
       "    }\n",
       "\n",
       "    .dataframe tbody tr th {\n",
       "        vertical-align: top;\n",
       "    }\n",
       "\n",
       "    .dataframe thead th {\n",
       "        text-align: right;\n",
       "    }\n",
       "</style>\n",
       "<table border=\"1\" class=\"dataframe\">\n",
       "  <thead>\n",
       "    <tr style=\"text-align: right;\">\n",
       "      <th></th>\n",
       "      <th>State</th>\n",
       "      <th>2020 Census</th>\n",
       "    </tr>\n",
       "  </thead>\n",
       "  <tbody>\n",
       "    <tr>\n",
       "      <th>0</th>\n",
       "      <td>Alabama</td>\n",
       "      <td>5,024,279</td>\n",
       "    </tr>\n",
       "    <tr>\n",
       "      <th>1</th>\n",
       "      <td>Alaska</td>\n",
       "      <td>733,391</td>\n",
       "    </tr>\n",
       "    <tr>\n",
       "      <th>2</th>\n",
       "      <td>Arizona</td>\n",
       "      <td>7,151,502</td>\n",
       "    </tr>\n",
       "    <tr>\n",
       "      <th>3</th>\n",
       "      <td>Arkansas</td>\n",
       "      <td>3,011,524</td>\n",
       "    </tr>\n",
       "    <tr>\n",
       "      <th>4</th>\n",
       "      <td>California</td>\n",
       "      <td>39,538,223</td>\n",
       "    </tr>\n",
       "  </tbody>\n",
       "</table>\n",
       "</div>"
      ],
      "text/plain": [
       "        State 2020 Census\n",
       "0     Alabama   5,024,279\n",
       "1      Alaska     733,391\n",
       "2     Arizona   7,151,502\n",
       "3    Arkansas   3,011,524\n",
       "4  California  39,538,223"
      ]
     },
     "execution_count": 8,
     "metadata": {},
     "output_type": "execute_result"
    }
   ],
   "source": [
    "#This is the final version of the population data that we will use in the future.\n",
    "Population.head()"
   ]
  },
  {
   "cell_type": "markdown",
   "metadata": {},
   "source": [
    "## 3. Medical Personnels Data\n",
    "Since we only need the total number of medical personnels to calculate the percentage of medical personnels by states in the U.S., we will only keep the variables _Location_ and _Total_ to make our dataset simpler to read. Also, we changed the column name _Total_ to _total_personnels_counts_ and _Location_ to _State_ in order to make it more descriptive and consistent ."
   ]
  },
  {
   "cell_type": "code",
   "execution_count": 9,
   "metadata": {},
   "outputs": [],
   "source": [
    "medical_personnels = pd.read_csv('medical_personnels_data.csv')\n",
    "medical_personnels = medical_personnels[['Location', 'Total']]\\\n",
    ".rename({'Total': 'total_personnels_counts', 'Location' : 'State'}, axis='columns')\n",
    "medical_personnels = medical_personnels.replace('District of Columbia', 'DC')"
   ]
  },
  {
   "cell_type": "markdown",
   "metadata": {},
   "source": [
    "We noticed that this data set has a row that contains the total number of medical personnels for the entire United States. Since we don't need this observation, we will drop this row (which is the first row in the data set). After that, we will sort this dataset by state name so that it will match with other datasets that we are going to use for this project."
   ]
  },
  {
   "cell_type": "code",
   "execution_count": 10,
   "metadata": {},
   "outputs": [
    {
     "data": {
      "text/html": [
       "<div>\n",
       "<style scoped>\n",
       "    .dataframe tbody tr th:only-of-type {\n",
       "        vertical-align: middle;\n",
       "    }\n",
       "\n",
       "    .dataframe tbody tr th {\n",
       "        vertical-align: top;\n",
       "    }\n",
       "\n",
       "    .dataframe thead th {\n",
       "        text-align: right;\n",
       "    }\n",
       "</style>\n",
       "<table border=\"1\" class=\"dataframe\">\n",
       "  <thead>\n",
       "    <tr style=\"text-align: right;\">\n",
       "      <th></th>\n",
       "      <th>State</th>\n",
       "      <th>total_personnels_counts</th>\n",
       "    </tr>\n",
       "  </thead>\n",
       "  <tbody>\n",
       "    <tr>\n",
       "      <th>1</th>\n",
       "      <td>Alabama</td>\n",
       "      <td>12631.0</td>\n",
       "    </tr>\n",
       "    <tr>\n",
       "      <th>2</th>\n",
       "      <td>Alaska</td>\n",
       "      <td>1910.0</td>\n",
       "    </tr>\n",
       "    <tr>\n",
       "      <th>3</th>\n",
       "      <td>Arizona</td>\n",
       "      <td>18652.0</td>\n",
       "    </tr>\n",
       "    <tr>\n",
       "      <th>4</th>\n",
       "      <td>Arkansas</td>\n",
       "      <td>7666.0</td>\n",
       "    </tr>\n",
       "    <tr>\n",
       "      <th>5</th>\n",
       "      <td>California</td>\n",
       "      <td>116754.0</td>\n",
       "    </tr>\n",
       "  </tbody>\n",
       "</table>\n",
       "</div>"
      ],
      "text/plain": [
       "        State  total_personnels_counts\n",
       "1     Alabama                  12631.0\n",
       "2      Alaska                   1910.0\n",
       "3     Arizona                  18652.0\n",
       "4    Arkansas                   7666.0\n",
       "5  California                 116754.0"
      ]
     },
     "execution_count": 10,
     "metadata": {},
     "output_type": "execute_result"
    }
   ],
   "source": [
    "medical_personnels = medical_personnels.dropna(how='any').iloc[1: , :].sort_values(by = 'State')\n",
    "medical_personnels.head()"
   ]
  },
  {
   "cell_type": "markdown",
   "metadata": {},
   "source": [
    "## 4. Healthcare Fundings Data\n",
    "We found that the data type for every observation in our dataset is the same, which means that every observation is measured in dollars. Therefore, we don't have to perform any conversion and drop the _Data Type_ column directly."
   ]
  },
  {
   "cell_type": "code",
   "execution_count": 11,
   "metadata": {},
   "outputs": [
    {
     "data": {
      "text/plain": [
       "array(['Dollars'], dtype=object)"
      ]
     },
     "execution_count": 11,
     "metadata": {},
     "output_type": "execute_result"
    }
   ],
   "source": [
    "health_care_fundings = pd.read_csv('per_person_state public_health_ funding.csv')\n",
    "\n",
    "health_care_fundings['Data Type'].unique()"
   ]
  },
  {
   "cell_type": "markdown",
   "metadata": {},
   "source": [
    "Since we only need the amount of heathcare fundings per person by states in the U.S., we will only keep the variables _Location_ and _Data_ to make our dataset simpler to read. Also, we changed the column name _Data_ to _fundings_per_person_ in order to make it more descriptive. After that, we will sort this dataset by state name so that it will match with other datasets that we are going to use for this project."
   ]
  },
  {
   "cell_type": "code",
   "execution_count": 12,
   "metadata": {},
   "outputs": [
    {
     "data": {
      "text/html": [
       "<div>\n",
       "<style scoped>\n",
       "    .dataframe tbody tr th:only-of-type {\n",
       "        vertical-align: middle;\n",
       "    }\n",
       "\n",
       "    .dataframe tbody tr th {\n",
       "        vertical-align: top;\n",
       "    }\n",
       "\n",
       "    .dataframe thead th {\n",
       "        text-align: right;\n",
       "    }\n",
       "</style>\n",
       "<table border=\"1\" class=\"dataframe\">\n",
       "  <thead>\n",
       "    <tr style=\"text-align: right;\">\n",
       "      <th></th>\n",
       "      <th>State</th>\n",
       "      <th>fundings_per_person</th>\n",
       "    </tr>\n",
       "  </thead>\n",
       "  <tbody>\n",
       "    <tr>\n",
       "      <th>0</th>\n",
       "      <td>Alabama</td>\n",
       "      <td>46.81</td>\n",
       "    </tr>\n",
       "    <tr>\n",
       "      <th>1</th>\n",
       "      <td>Alaska</td>\n",
       "      <td>215.15</td>\n",
       "    </tr>\n",
       "    <tr>\n",
       "      <th>2</th>\n",
       "      <td>Arizona</td>\n",
       "      <td>24.34</td>\n",
       "    </tr>\n",
       "    <tr>\n",
       "      <th>3</th>\n",
       "      <td>Arkansas</td>\n",
       "      <td>45.90</td>\n",
       "    </tr>\n",
       "    <tr>\n",
       "      <th>4</th>\n",
       "      <td>California</td>\n",
       "      <td>69.87</td>\n",
       "    </tr>\n",
       "  </tbody>\n",
       "</table>\n",
       "</div>"
      ],
      "text/plain": [
       "        State  fundings_per_person\n",
       "0     Alabama                46.81\n",
       "1      Alaska               215.15\n",
       "2     Arizona                24.34\n",
       "3    Arkansas                45.90\n",
       "4  California                69.87"
      ]
     },
     "execution_count": 12,
     "metadata": {},
     "output_type": "execute_result"
    }
   ],
   "source": [
    "health_care_fundings = health_care_fundings[['Location','Data']]\\\n",
    ".rename({'Data': 'fundings_per_person', 'Location' : 'State'}, axis='columns')\n",
    "health_care_fundings = health_care_fundings.replace('Dist. of Columbia', 'DC')\n",
    "health_care_fundings = health_care_fundings.dropna(how='any').sort_values(by = 'State')\n",
    "health_care_fundings.head()"
   ]
  },
  {
   "cell_type": "markdown",
   "metadata": {},
   "source": [
    "## 5. GDP Per Capita Data"
   ]
  },
  {
   "cell_type": "markdown",
   "metadata": {},
   "source": [
    "We imported the data into a CSV file, and loaded the data into a data frame. Then we renamed the columns and a state for easier use and consistency across other datasets."
   ]
  },
  {
   "cell_type": "code",
   "execution_count": 13,
   "metadata": {},
   "outputs": [
    {
     "data": {
      "text/html": [
       "<div>\n",
       "<style scoped>\n",
       "    .dataframe tbody tr th:only-of-type {\n",
       "        vertical-align: middle;\n",
       "    }\n",
       "\n",
       "    .dataframe tbody tr th {\n",
       "        vertical-align: top;\n",
       "    }\n",
       "\n",
       "    .dataframe thead th {\n",
       "        text-align: right;\n",
       "    }\n",
       "</style>\n",
       "<table border=\"1\" class=\"dataframe\">\n",
       "  <thead>\n",
       "    <tr style=\"text-align: right;\">\n",
       "      <th></th>\n",
       "      <th>State</th>\n",
       "      <th>gdp</th>\n",
       "    </tr>\n",
       "  </thead>\n",
       "  <tbody>\n",
       "    <tr>\n",
       "      <th>0</th>\n",
       "      <td>California *</td>\n",
       "      <td>$80,727</td>\n",
       "    </tr>\n",
       "    <tr>\n",
       "      <th>1</th>\n",
       "      <td>Texas *</td>\n",
       "      <td>$62,712</td>\n",
       "    </tr>\n",
       "    <tr>\n",
       "      <th>2</th>\n",
       "      <td>New York *</td>\n",
       "      <td>$91,459</td>\n",
       "    </tr>\n",
       "    <tr>\n",
       "      <th>3</th>\n",
       "      <td>Florida *</td>\n",
       "      <td>$52,217</td>\n",
       "    </tr>\n",
       "    <tr>\n",
       "      <th>4</th>\n",
       "      <td>Illinois *</td>\n",
       "      <td>$69,800</td>\n",
       "    </tr>\n",
       "  </tbody>\n",
       "</table>\n",
       "</div>"
      ],
      "text/plain": [
       "          State       gdp\n",
       "0  California *  $80,727 \n",
       "1       Texas *  $62,712 \n",
       "2    New York *  $91,459 \n",
       "3     Florida *  $52,217 \n",
       "4    Illinois *  $69,800 "
      ]
     },
     "execution_count": 13,
     "metadata": {},
     "output_type": "execute_result"
    }
   ],
   "source": [
    "# Read data from CSV file\n",
    "gdp = pd.read_csv('gdp_by_state.csv')\n",
    "# Rename columns for easier access\n",
    "gdp.columns = ['State','gdp']\n",
    "# Rename \"District of Columbia\"\n",
    "gdp = gdp.replace('District of Columbia', 'DC')\n",
    "gdp.head()"
   ]
  },
  {
   "cell_type": "markdown",
   "metadata": {},
   "source": [
    "We wrote a function to standardize the names of the states and the GDP per capita by getting rid of special characters and white spaces in the data. Then we applied the function to all data in the data frame and sort the data by state."
   ]
  },
  {
   "cell_type": "code",
   "execution_count": 14,
   "metadata": {},
   "outputs": [],
   "source": [
    "def standardize_gdp (string):\n",
    "    # get rid of white spaces\n",
    "    string = string.strip()\n",
    "    # get rid of special characters\n",
    "    string = string.replace(\"*\",\"\")\n",
    "    string = string.replace(\"$\",\"\")\n",
    "    string = string.replace(\",\",\"\")\n",
    "    string = string.replace(\"\\u202f\",\"\")\n",
    "    if(string.isnumeric()):\n",
    "        return float(string)\n",
    "    return str(string)"
   ]
  },
  {
   "cell_type": "code",
   "execution_count": 15,
   "metadata": {},
   "outputs": [
    {
     "data": {
      "text/html": [
       "<div>\n",
       "<style scoped>\n",
       "    .dataframe tbody tr th:only-of-type {\n",
       "        vertical-align: middle;\n",
       "    }\n",
       "\n",
       "    .dataframe tbody tr th {\n",
       "        vertical-align: top;\n",
       "    }\n",
       "\n",
       "    .dataframe thead th {\n",
       "        text-align: right;\n",
       "    }\n",
       "</style>\n",
       "<table border=\"1\" class=\"dataframe\">\n",
       "  <thead>\n",
       "    <tr style=\"text-align: right;\">\n",
       "      <th></th>\n",
       "      <th>State</th>\n",
       "      <th>gdp</th>\n",
       "    </tr>\n",
       "  </thead>\n",
       "  <tbody>\n",
       "    <tr>\n",
       "      <th>0</th>\n",
       "      <td>Alabama</td>\n",
       "      <td>46875.0</td>\n",
       "    </tr>\n",
       "    <tr>\n",
       "      <th>1</th>\n",
       "      <td>Alaska</td>\n",
       "      <td>72263.0</td>\n",
       "    </tr>\n",
       "    <tr>\n",
       "      <th>2</th>\n",
       "      <td>Arizona</td>\n",
       "      <td>51865.0</td>\n",
       "    </tr>\n",
       "    <tr>\n",
       "      <th>3</th>\n",
       "      <td>Arkansas</td>\n",
       "      <td>43691.0</td>\n",
       "    </tr>\n",
       "    <tr>\n",
       "      <th>4</th>\n",
       "      <td>California</td>\n",
       "      <td>80727.0</td>\n",
       "    </tr>\n",
       "  </tbody>\n",
       "</table>\n",
       "</div>"
      ],
      "text/plain": [
       "        State      gdp\n",
       "0     Alabama  46875.0\n",
       "1      Alaska  72263.0\n",
       "2     Arizona  51865.0\n",
       "3    Arkansas  43691.0\n",
       "4  California  80727.0"
      ]
     },
     "execution_count": 15,
     "metadata": {},
     "output_type": "execute_result"
    }
   ],
   "source": [
    "# Standardize the state names and GDP numbers\n",
    "gdp['gdp'] = gdp['gdp'].apply(standardize_gdp)\n",
    "gdp['State'] = gdp['State'].apply(standardize_gdp)\n",
    "# Sort rows by state names\n",
    "gdp = gdp.sort_values(by = 'State').reset_index().drop(columns = ['index'])\n",
    "gdp.head()"
   ]
  },
  {
   "cell_type": "markdown",
   "metadata": {},
   "source": [
    "## 6. Vaccination Rate Data"
   ]
  },
  {
   "cell_type": "markdown",
   "metadata": {},
   "source": [
    "For Vaccination rate data, we didn't find direct csv file, so we use excel to import all data and export to .csv file. Then, we choose to drop the percentage of populationfully vaccinated, and use population data from population.csv to calculate our version of vaccinatation rate"
   ]
  },
  {
   "cell_type": "code",
   "execution_count": 16,
   "metadata": {},
   "outputs": [],
   "source": [
    "# read data from CSV file\n",
    "vac_rate = pd.read_csv('vaccination_rate.csv')\n",
    "\n",
    "# drop the percentage of people fully vaccinated\n",
    "vac_rate = vac_rate.drop(columns = ['Percentage of population fully vaccinated'])\n",
    "\n",
    "# rename columns for unified variable name\n",
    "vac_rate = vac_rate.rename(columns = {'Locations' : 'State', 'Number of people fully vaccinated' : 'vaccinated_population'})\n",
    "vac_rate = vac_rate.replace('District of Columbia', 'DC')\n",
    "\n",
    "# sort data by state name \n",
    "vac_rate = vac_rate.sort_values(by = 'State').reset_index().drop(columns = 'index')\n",
    "\n",
    "# use population data from our study and calculate the vaccination rate\n",
    "vac_rate = vac_rate.assign(whole_population = Population['2020 Census'])"
   ]
  },
  {
   "cell_type": "code",
   "execution_count": 17,
   "metadata": {},
   "outputs": [],
   "source": [
    "# apply standardize_numbers to the columns we want to calculate\n",
    "vac_rate['vaccinated_population'] = vac_rate['vaccinated_population'].apply(standardize_numbers)\n",
    "vac_rate['whole_population'] = vac_rate['whole_population'].apply(standardize_numbers)\n",
    "\n",
    "# assign new column with name vaccinated_population\n",
    "vac_rate = vac_rate.assign(vaccination_rate = vac_rate['vaccinated_population'] / vac_rate['whole_population'])"
   ]
  },
  {
   "cell_type": "code",
   "execution_count": 18,
   "metadata": {
    "scrolled": false
   },
   "outputs": [
    {
     "data": {
      "text/html": [
       "<div>\n",
       "<style scoped>\n",
       "    .dataframe tbody tr th:only-of-type {\n",
       "        vertical-align: middle;\n",
       "    }\n",
       "\n",
       "    .dataframe tbody tr th {\n",
       "        vertical-align: top;\n",
       "    }\n",
       "\n",
       "    .dataframe thead th {\n",
       "        text-align: right;\n",
       "    }\n",
       "</style>\n",
       "<table border=\"1\" class=\"dataframe\">\n",
       "  <thead>\n",
       "    <tr style=\"text-align: right;\">\n",
       "      <th></th>\n",
       "      <th>State</th>\n",
       "      <th>vaccinated_population</th>\n",
       "      <th>whole_population</th>\n",
       "      <th>vaccination_rate</th>\n",
       "    </tr>\n",
       "  </thead>\n",
       "  <tbody>\n",
       "    <tr>\n",
       "      <th>0</th>\n",
       "      <td>Alabama</td>\n",
       "      <td>2434307.0</td>\n",
       "      <td>5024279.0</td>\n",
       "      <td>0.484509</td>\n",
       "    </tr>\n",
       "    <tr>\n",
       "      <th>1</th>\n",
       "      <td>Alaska</td>\n",
       "      <td>437377.0</td>\n",
       "      <td>733391.0</td>\n",
       "      <td>0.596376</td>\n",
       "    </tr>\n",
       "    <tr>\n",
       "      <th>2</th>\n",
       "      <td>Arizona</td>\n",
       "      <td>4308413.0</td>\n",
       "      <td>7151502.0</td>\n",
       "      <td>0.602449</td>\n",
       "    </tr>\n",
       "    <tr>\n",
       "      <th>3</th>\n",
       "      <td>Arkansas</td>\n",
       "      <td>1596726.0</td>\n",
       "      <td>3011524.0</td>\n",
       "      <td>0.530205</td>\n",
       "    </tr>\n",
       "    <tr>\n",
       "      <th>4</th>\n",
       "      <td>California</td>\n",
       "      <td>27434860.0</td>\n",
       "      <td>39538223.0</td>\n",
       "      <td>0.693882</td>\n",
       "    </tr>\n",
       "  </tbody>\n",
       "</table>\n",
       "</div>"
      ],
      "text/plain": [
       "        State  vaccinated_population  whole_population  vaccination_rate\n",
       "0     Alabama              2434307.0         5024279.0          0.484509\n",
       "1      Alaska               437377.0          733391.0          0.596376\n",
       "2     Arizona              4308413.0         7151502.0          0.602449\n",
       "3    Arkansas              1596726.0         3011524.0          0.530205\n",
       "4  California             27434860.0        39538223.0          0.693882"
      ]
     },
     "execution_count": 18,
     "metadata": {},
     "output_type": "execute_result"
    }
   ],
   "source": [
    "vac_rate.head()"
   ]
  },
  {
   "cell_type": "markdown",
   "metadata": {},
   "source": [
    "## Merge Data"
   ]
  },
  {
   "cell_type": "markdown",
   "metadata": {},
   "source": [
    "We then merge all the dataframe in to one dataframe, so that we can do all the analysis by using a single dataframe."
   ]
  },
  {
   "cell_type": "code",
   "execution_count": 19,
   "metadata": {},
   "outputs": [
    {
     "data": {
      "text/html": [
       "<div>\n",
       "<style scoped>\n",
       "    .dataframe tbody tr th:only-of-type {\n",
       "        vertical-align: middle;\n",
       "    }\n",
       "\n",
       "    .dataframe tbody tr th {\n",
       "        vertical-align: top;\n",
       "    }\n",
       "\n",
       "    .dataframe thead th {\n",
       "        text-align: right;\n",
       "    }\n",
       "</style>\n",
       "<table border=\"1\" class=\"dataframe\">\n",
       "  <thead>\n",
       "    <tr style=\"text-align: right;\">\n",
       "      <th></th>\n",
       "      <th>State</th>\n",
       "      <th>Total Cases</th>\n",
       "      <th>Total Deaths</th>\n",
       "      <th>total_personnels_counts</th>\n",
       "      <th>fundings_per_person</th>\n",
       "      <th>gdp</th>\n",
       "      <th>whole_population</th>\n",
       "      <th>vaccination_rate</th>\n",
       "    </tr>\n",
       "  </thead>\n",
       "  <tbody>\n",
       "    <tr>\n",
       "      <th>0</th>\n",
       "      <td>Alabama</td>\n",
       "      <td>1245880.0</td>\n",
       "      <td>17387.0</td>\n",
       "      <td>12631.0</td>\n",
       "      <td>46.81</td>\n",
       "      <td>46875.0</td>\n",
       "      <td>5024279.0</td>\n",
       "      <td>0.484509</td>\n",
       "    </tr>\n",
       "    <tr>\n",
       "      <th>1</th>\n",
       "      <td>Alaska</td>\n",
       "      <td>217366.0</td>\n",
       "      <td>1060.0</td>\n",
       "      <td>1910.0</td>\n",
       "      <td>215.15</td>\n",
       "      <td>72263.0</td>\n",
       "      <td>733391.0</td>\n",
       "      <td>0.596376</td>\n",
       "    </tr>\n",
       "    <tr>\n",
       "      <th>2</th>\n",
       "      <td>Arizona</td>\n",
       "      <td>1918034.0</td>\n",
       "      <td>26639.0</td>\n",
       "      <td>18652.0</td>\n",
       "      <td>24.34</td>\n",
       "      <td>51865.0</td>\n",
       "      <td>7151502.0</td>\n",
       "      <td>0.602449</td>\n",
       "    </tr>\n",
       "    <tr>\n",
       "      <th>3</th>\n",
       "      <td>Arkansas</td>\n",
       "      <td>794342.0</td>\n",
       "      <td>9831.0</td>\n",
       "      <td>7666.0</td>\n",
       "      <td>45.90</td>\n",
       "      <td>43691.0</td>\n",
       "      <td>3011524.0</td>\n",
       "      <td>0.530205</td>\n",
       "    </tr>\n",
       "    <tr>\n",
       "      <th>4</th>\n",
       "      <td>California</td>\n",
       "      <td>8582249.0</td>\n",
       "      <td>80022.0</td>\n",
       "      <td>116754.0</td>\n",
       "      <td>69.87</td>\n",
       "      <td>80727.0</td>\n",
       "      <td>39538223.0</td>\n",
       "      <td>0.693882</td>\n",
       "    </tr>\n",
       "  </tbody>\n",
       "</table>\n",
       "</div>"
      ],
      "text/plain": [
       "        State  Total Cases  Total Deaths  total_personnels_counts  \\\n",
       "0     Alabama    1245880.0       17387.0                  12631.0   \n",
       "1      Alaska     217366.0        1060.0                   1910.0   \n",
       "2     Arizona    1918034.0       26639.0                  18652.0   \n",
       "3    Arkansas     794342.0        9831.0                   7666.0   \n",
       "4  California    8582249.0       80022.0                 116754.0   \n",
       "\n",
       "   fundings_per_person      gdp  whole_population  vaccination_rate  \n",
       "0                46.81  46875.0         5024279.0          0.484509  \n",
       "1               215.15  72263.0          733391.0          0.596376  \n",
       "2                24.34  51865.0         7151502.0          0.602449  \n",
       "3                45.90  43691.0         3011524.0          0.530205  \n",
       "4                69.87  80727.0        39538223.0          0.693882  "
      ]
     },
     "execution_count": 19,
     "metadata": {},
     "output_type": "execute_result"
    }
   ],
   "source": [
    "df = Mortality.merge(Population, on = 'State').merge(medical_personnels, on = 'State').merge(health_care_fundings, \n",
    "on = 'State').merge(gdp, on = 'State').merge(vac_rate, on = 'State').drop(columns = \n",
    "['vaccinated_population','2020 Census'])\n",
    "df.head()"
   ]
  },
  {
   "cell_type": "markdown",
   "metadata": {},
   "source": [
    "## Calculate Required Fields"
   ]
  },
  {
   "cell_type": "code",
   "execution_count": 20,
   "metadata": {
    "scrolled": true
   },
   "outputs": [
    {
     "data": {
      "text/html": [
       "<div>\n",
       "<style scoped>\n",
       "    .dataframe tbody tr th:only-of-type {\n",
       "        vertical-align: middle;\n",
       "    }\n",
       "\n",
       "    .dataframe tbody tr th {\n",
       "        vertical-align: top;\n",
       "    }\n",
       "\n",
       "    .dataframe thead th {\n",
       "        text-align: right;\n",
       "    }\n",
       "</style>\n",
       "<table border=\"1\" class=\"dataframe\">\n",
       "  <thead>\n",
       "    <tr style=\"text-align: right;\">\n",
       "      <th></th>\n",
       "      <th>State</th>\n",
       "      <th>Total Cases</th>\n",
       "      <th>Total Deaths</th>\n",
       "      <th>total_personnels_counts</th>\n",
       "      <th>fundings_per_person</th>\n",
       "      <th>gdp</th>\n",
       "      <th>whole_population</th>\n",
       "      <th>vaccination_rate</th>\n",
       "      <th>mortality_rate</th>\n",
       "      <th>personnel_pct</th>\n",
       "    </tr>\n",
       "  </thead>\n",
       "  <tbody>\n",
       "    <tr>\n",
       "      <th>0</th>\n",
       "      <td>Alabama</td>\n",
       "      <td>1245880.0</td>\n",
       "      <td>17387.0</td>\n",
       "      <td>12631.0</td>\n",
       "      <td>46.81</td>\n",
       "      <td>46875.0</td>\n",
       "      <td>5024279.0</td>\n",
       "      <td>0.484509</td>\n",
       "      <td>0.003461</td>\n",
       "      <td>0.002514</td>\n",
       "    </tr>\n",
       "    <tr>\n",
       "      <th>1</th>\n",
       "      <td>Alaska</td>\n",
       "      <td>217366.0</td>\n",
       "      <td>1060.0</td>\n",
       "      <td>1910.0</td>\n",
       "      <td>215.15</td>\n",
       "      <td>72263.0</td>\n",
       "      <td>733391.0</td>\n",
       "      <td>0.596376</td>\n",
       "      <td>0.001445</td>\n",
       "      <td>0.002604</td>\n",
       "    </tr>\n",
       "    <tr>\n",
       "      <th>2</th>\n",
       "      <td>Arizona</td>\n",
       "      <td>1918034.0</td>\n",
       "      <td>26639.0</td>\n",
       "      <td>18652.0</td>\n",
       "      <td>24.34</td>\n",
       "      <td>51865.0</td>\n",
       "      <td>7151502.0</td>\n",
       "      <td>0.602449</td>\n",
       "      <td>0.003725</td>\n",
       "      <td>0.002608</td>\n",
       "    </tr>\n",
       "    <tr>\n",
       "      <th>3</th>\n",
       "      <td>Arkansas</td>\n",
       "      <td>794342.0</td>\n",
       "      <td>9831.0</td>\n",
       "      <td>7666.0</td>\n",
       "      <td>45.90</td>\n",
       "      <td>43691.0</td>\n",
       "      <td>3011524.0</td>\n",
       "      <td>0.530205</td>\n",
       "      <td>0.003264</td>\n",
       "      <td>0.002546</td>\n",
       "    </tr>\n",
       "    <tr>\n",
       "      <th>4</th>\n",
       "      <td>California</td>\n",
       "      <td>8582249.0</td>\n",
       "      <td>80022.0</td>\n",
       "      <td>116754.0</td>\n",
       "      <td>69.87</td>\n",
       "      <td>80727.0</td>\n",
       "      <td>39538223.0</td>\n",
       "      <td>0.693882</td>\n",
       "      <td>0.002024</td>\n",
       "      <td>0.002953</td>\n",
       "    </tr>\n",
       "  </tbody>\n",
       "</table>\n",
       "</div>"
      ],
      "text/plain": [
       "        State  Total Cases  Total Deaths  total_personnels_counts  \\\n",
       "0     Alabama    1245880.0       17387.0                  12631.0   \n",
       "1      Alaska     217366.0        1060.0                   1910.0   \n",
       "2     Arizona    1918034.0       26639.0                  18652.0   \n",
       "3    Arkansas     794342.0        9831.0                   7666.0   \n",
       "4  California    8582249.0       80022.0                 116754.0   \n",
       "\n",
       "   fundings_per_person      gdp  whole_population  vaccination_rate  \\\n",
       "0                46.81  46875.0         5024279.0          0.484509   \n",
       "1               215.15  72263.0          733391.0          0.596376   \n",
       "2                24.34  51865.0         7151502.0          0.602449   \n",
       "3                45.90  43691.0         3011524.0          0.530205   \n",
       "4                69.87  80727.0        39538223.0          0.693882   \n",
       "\n",
       "   mortality_rate  personnel_pct  \n",
       "0        0.003461       0.002514  \n",
       "1        0.001445       0.002604  \n",
       "2        0.003725       0.002608  \n",
       "3        0.003264       0.002546  \n",
       "4        0.002024       0.002953  "
      ]
     },
     "execution_count": 20,
     "metadata": {},
     "output_type": "execute_result"
    }
   ],
   "source": [
    "# Calculate mortality rate\n",
    "df = df.assign(mortality_rate = df['Total Deaths']/df['whole_population'])\n",
    "# Calculate medical personnel percentage\n",
    "df = df.assign(personnel_pct = df['total_personnels_counts']/df['whole_population'])\n",
    "df.head()"
   ]
  },
  {
   "cell_type": "markdown",
   "metadata": {},
   "source": [
    "# Data Analysis & Results (EDA)"
   ]
  },
  {
   "cell_type": "markdown",
   "metadata": {},
   "source": [
    "## 1. Linear Regression on Mortality Rate and Medical Personnel Percentage\n",
    "In this section, we want to use linear regression to see if there's actual relationship between mortality rate and the percentage of medical personnel in the total population for each state in US. <br>\n",
    "First of all, we plot both data using using histogram. By doing this, we are able to visualize the distribution of both variables. By adding kde = True, we fit the trend of the data in a smooth line."
   ]
  },
  {
   "cell_type": "code",
   "execution_count": 21,
   "metadata": {},
   "outputs": [
    {
     "data": {
      "text/plain": [
       "Text(0.5, 0, 'Medical Personnel Percentage')"
      ]
     },
     "execution_count": 21,
     "metadata": {},
     "output_type": "execute_result"
    },
    {
     "data": {
      "image/png": "[encoded data removed]",
      "text/plain": [
       "<Figure size 864x432 with 2 Axes>"
      ]
     },
     "metadata": {},
     "output_type": "display_data"
    }
   ],
   "source": [
    "#Plot two histograms side by side using subplot. Adjust the size of the figure\n",
    "fig, (ax1, ax2) = plt.subplots(ncols = 2, sharey = True, figsize = (12,6))\n",
    "\n",
    "# Plot COVID mortality rate and rename x-axis\n",
    "sns.histplot(df['mortality_rate'], bins = 20, ax = ax1, kde = True, color = 'red')\n",
    "ax1.set_xlabel('COVID Mortality Rate')\n",
    "\n",
    "# Plot medical personnel percentage and rename x-axis\n",
    "sns.histplot(df['personnel_pct'], bins = 20, ax = ax2, kde = True)\n",
    "ax2.set_xlabel('Medical Personnel Percentage')"
   ]
  },
  {
   "cell_type": "markdown",
   "metadata": {},
   "source": [
    "After plotting two variables seperately in two histograms, we want to vaguely see if there's any connection between two variable. By using scatter plot from seaborn, we set the value of y axis as mortality rate, while the x axis be the personnel percentage."
   ]
  },
  {
   "cell_type": "code",
   "execution_count": 22,
   "metadata": {
    "scrolled": true
   },
   "outputs": [
    {
     "data": {
      "text/plain": [
       "Text(0, 0.5, 'COVID Mortality Rate')"
      ]
     },
     "execution_count": 22,
     "metadata": {},
     "output_type": "execute_result"
    },
    {
     "data": {
      "image/png": "[encoded data removed]",
      "text/plain": [
       "<Figure size 432x288 with 1 Axes>"
      ]
     },
     "metadata": {},
     "output_type": "display_data"
    }
   ],
   "source": [
    "#Plot two variables in one scatter plot.\n",
    "sns.scatterplot(x = 'personnel_pct', y = 'mortality_rate', data = df)\n",
    "#Set x and y axis with the corresponding variable name.\n",
    "plt.xlabel('Medical Personnel Percentage')\n",
    "plt.ylabel('COVID Mortality Rate')"
   ]
  },
  {
   "cell_type": "markdown",
   "metadata": {},
   "source": [
    "From the above graph, there is an outlier point at the right end of the plot. After examine the data in the dataframe, we realized that Washington DC, as the capital of US, has significant differences with other states in US. In this situation, it may affact our analysis, so we get rid of this specific row."
   ]
  },
  {
   "cell_type": "code",
   "execution_count": 23,
   "metadata": {},
   "outputs": [],
   "source": [
    "# take away this row\n",
    "df = df[df['State'] != 'DC']"
   ]
  },
  {
   "cell_type": "markdown",
   "metadata": {},
   "source": [
    "Then we generate the scatter plot again."
   ]
  },
  {
   "cell_type": "code",
   "execution_count": 24,
   "metadata": {},
   "outputs": [
    {
     "data": {
      "text/plain": [
       "Text(0, 0.5, 'COVID Mortality Rate')"
      ]
     },
     "execution_count": 24,
     "metadata": {},
     "output_type": "execute_result"
    },
    {
     "data": {
      "image/png": "[encoded data removed]",
      "text/plain": [
       "<Figure size 432x288 with 1 Axes>"
      ]
     },
     "metadata": {},
     "output_type": "display_data"
    }
   ],
   "source": [
    "#Plot two variables in one scatter plot.\n",
    "sns.scatterplot(x='personnel_pct', y='mortality_rate', data=df)\n",
    "#Set x and y axis with the corresponding variable name.\n",
    "plt.xlabel('Medical Personnel Percentage')\n",
    "plt.ylabel('COVID Mortality Rate')"
   ]
  },
  {
   "cell_type": "code",
   "execution_count": 25,
   "metadata": {},
   "outputs": [
    {
     "data": {
      "text/plain": [
       "<seaborn.axisgrid.FacetGrid at 0x1abf6252670>"
      ]
     },
     "execution_count": 25,
     "metadata": {},
     "output_type": "execute_result"
    },
    {
     "data": {
      "image/png": "[encoded data removed]",
      "text/plain": [
       "<Figure size 360x360 with 1 Axes>"
      ]
     },
     "metadata": {},
     "output_type": "display_data"
    }
   ],
   "source": [
    "sns.lmplot(x = 'personnel_pct', y = 'mortality_rate', data = df).set_axis_labels('Medical Personnel Percentage', 'COVID Mortality Rate')"
   ]
  },
  {
   "cell_type": "markdown",
   "metadata": {},
   "source": [
    "Now we want to do the linear regression part. First we transform two variables to outcome and predictors using dmatrices from patsy, and the data is gathered from the dataframe df. Then we construct the model with OLS from statsmodels. Finally, we fit the model and print the summary of the result.\n",
    "<br>\n",
    "The null hypothesis for this regression is $H_0$: there is no relationship between the mortality rate of COVID-19 and the percentage of medical personnel. While the alternative hypothesis is $H_1$:There is an negative relationship between the mortality rate of COVID-19 with the mortality rate of COVID-19 and the percentage of medical personnel. We set the confidence level to be 95% (where $\\alpha$ is 0.05), which is a widely accepted value when doing statistics."
   ]
  },
  {
   "cell_type": "code",
   "execution_count": 26,
   "metadata": {},
   "outputs": [
    {
     "name": "stdout",
     "output_type": "stream",
     "text": [
      "                            OLS Regression Results                            \n",
      "==============================================================================\n",
      "Dep. Variable:         mortality_rate   R-squared:                       0.002\n",
      "Model:                            OLS   Adj. R-squared:                 -0.019\n",
      "Method:                 Least Squares   F-statistic:                   0.09617\n",
      "Date:                Mon, 14 Mar 2022   Prob (F-statistic):              0.758\n",
      "Time:                        23:29:58   Log-Likelihood:                 288.31\n",
      "No. Observations:                  50   AIC:                            -572.6\n",
      "Df Residuals:                      48   BIC:                            -568.8\n",
      "Df Model:                           1                                         \n",
      "Covariance Type:            nonrobust                                         \n",
      "=================================================================================\n",
      "                    coef    std err          t      P>|t|      [0.025      0.975]\n",
      "---------------------------------------------------------------------------------\n",
      "Intercept         0.0027      0.000      6.096      0.000       0.002       0.004\n",
      "personnel_pct    -0.0432      0.139     -0.310      0.758      -0.323       0.237\n",
      "==============================================================================\n",
      "Omnibus:                        4.627   Durbin-Watson:                   2.017\n",
      "Prob(Omnibus):                  0.099   Jarque-Bera (JB):                4.315\n",
      "Skew:                          -0.656   Prob(JB):                        0.116\n",
      "Kurtosis:                       2.410   Cond. No.                     1.27e+03\n",
      "==============================================================================\n",
      "\n",
      "Notes:\n",
      "[1] Standard Errors assume that the covariance matrix of the errors is correctly specified.\n",
      "[2] The condition number is large, 1.27e+03. This might indicate that there are\n",
      "strong multicollinearity or other numerical problems.\n"
     ]
    }
   ],
   "source": [
    "# Create design matrices with dmatrices from patsy and store the outputs\n",
    "outcome, predictors = patsy.dmatrices('mortality_rate ~ personnel_pct', df)\n",
    "# Create an ordinary least squares model from statsmodels using the outputs above\n",
    "model = sm.OLS(outcome, predictors)\n",
    "# Fit the model\n",
    "results = model.fit()\n",
    "# Look at the results\n",
    "print(results.summary())"
   ]
  },
  {
   "cell_type": "markdown",
   "metadata": {},
   "source": [
    "From the summary above, we may discover the following results: the p value for this linear regression model is 0.758, which indicate that we don't have enough evidence to prove there is an relationship between the mortality rate and the percentage of medical personnel. What's more, the R-squared value for this model is 0.002. Such a low value indicates this regression model may not be reliable at all. Under this circumstance, we could only say this regression model failed to achieve our goal."
   ]
  },
  {
   "cell_type": "markdown",
   "metadata": {},
   "source": [
    "Although this linear regression model may not indicate any results, we can do a K fold cross validation to see whether it will change the situation. For our dataset, we use a 5 Fold cross validation."
   ]
  },
  {
   "cell_type": "code",
   "execution_count": 27,
   "metadata": {},
   "outputs": [
    {
     "data": {
      "text/plain": [
       "-0.11475508286093483"
      ]
     },
     "execution_count": 27,
     "metadata": {},
     "output_type": "execute_result"
    }
   ],
   "source": [
    "#define a function which takes in two input: the predictor and outcome variable\n",
    "def train_LM(X, Y, kernel='linear'):\n",
    "    model = linear_model.LinearRegression()#initialize a linear regression object\n",
    "    model.fit(X, Y) #fit the model using X and Y\n",
    "    return model\n",
    "\n",
    "#now we define X and y seperately, were X is percentage of medical personnel and y is mortality\n",
    "X = np.array(df[['personnel_pct']])\n",
    "y = np.array(df['mortality_rate'])\n",
    "\n",
    "#initialize a KFold object with 5 splits.\n",
    "kf = KFold(n_splits=5)\n",
    "\n",
    "#this list keeps track of all the scores of the 5 models\n",
    "val_scores = []\n",
    "\n",
    "#this automatically split the data into training data and test data\n",
    "for train_index, test_index in kf.split(X):\n",
    "    #assign the training and testing data\n",
    "    X_train, X_test = X[train_index], X[test_index]\n",
    "    y_train, y_test = y[train_index], y[test_index]\n",
    "    #train the model using function above\n",
    "    lm_model = train_LM(X_train, y_train)\n",
    "    #append the score of the model to the list\n",
    "    val_scores.append(lm_model.score(X_test,y_test))\n",
    "    #calculate the mean of the score list, which gives us the final validation result.\n",
    "np.mean(val_scores)"
   ]
  },
  {
   "cell_type": "markdown",
   "metadata": {},
   "source": [
    "Unfortunately, we obtained a negative result. A negative result means when we do this 5 fold cross validation, the linear regression model has a negative R-squared value. This proves the linear regression model isn't a good model for these two variables. However, what if we add some other variables? If we add some new features to this model, will the result change? What will the new model be like and what information will it tell us?"
   ]
  },
  {
   "cell_type": "markdown",
   "metadata": {},
   "source": [
    "## 2. Linear Regression on Mortality Rate and Healthcare Fundings"
   ]
  },
  {
   "cell_type": "markdown",
   "metadata": {},
   "source": [
    "In this section, we want to use linear regression to see if there's actual relationship between mortality rate and our counfouding variable, healthcare fundings per capita, for each state in US. We will also find the relationship between mortality rate and the percentage of medical personnel when we control the healthcare fundings per capita."
   ]
  },
  {
   "cell_type": "code",
   "execution_count": 28,
   "metadata": {
    "scrolled": false
   },
   "outputs": [
    {
     "data": {
      "text/plain": [
       "Text(0.5, 0, 'Healthcare Fundings per Person')"
      ]
     },
     "execution_count": 28,
     "metadata": {},
     "output_type": "execute_result"
    },
    {
     "data": {
      "image/png": "[encoded data removed]",
      "text/plain": [
       "<Figure size 864x432 with 2 Axes>"
      ]
     },
     "metadata": {},
     "output_type": "display_data"
    }
   ],
   "source": [
    "#Plot two histograms side by side using subplot. Adjust the size of the figure.\n",
    "fig, (ax1, ax2) = plt.subplots(ncols = 2, sharey = True, figsize = (12,6))\n",
    "\n",
    "# Plot COVID mortality rate and rename x-axis\n",
    "sns.histplot(df['mortality_rate'], bins = 20, ax = ax1, kde = True, color = 'red')\n",
    "ax1.set_xlabel('COVID Mortality Rate')\n",
    "\n",
    "# Plot healthcare fundings per person and rename x-axis\n",
    "sns.histplot(df['fundings_per_person'], bins = 20, ax = ax2, kde = True)\n",
    "ax2.set_xlabel('Healthcare Fundings per Person')"
   ]
  },
  {
   "cell_type": "markdown",
   "metadata": {},
   "source": [
    "Since healthcare fundings per person is really skewed to the right, we will apply log transformation to normalize it. Also, Washington DC has a really high amount of healthcare funding per capita, therefore it may affect our conclusion about the correlation between fudings per person and COVID mortality rate."
   ]
  },
  {
   "cell_type": "code",
   "execution_count": 29,
   "metadata": {
    "scrolled": true
   },
   "outputs": [
    {
     "data": {
      "text/plain": [
       "Text(0.5, 0, 'Log of Healthcare Fundings')"
      ]
     },
     "execution_count": 29,
     "metadata": {},
     "output_type": "execute_result"
    },
    {
     "data": {
      "image/png": "[encoded data removed]",
      "text/plain": [
       "<Figure size 432x288 with 1 Axes>"
      ]
     },
     "metadata": {},
     "output_type": "display_data"
    }
   ],
   "source": [
    "df['log_fundings'] = np.log(df['fundings_per_person'])\n",
    "sns.histplot(df['log_fundings'], bins=20, kde = True).set_xlabel('Log of Healthcare Fundings')"
   ]
  },
  {
   "cell_type": "markdown",
   "metadata": {},
   "source": [
    "We will use scatter plot to see how the log of fundings and mortality rate are correlated by plotting the log of healthcare fundings on the x-axis and mortality rate on the y-axis."
   ]
  },
  {
   "cell_type": "code",
   "execution_count": 30,
   "metadata": {},
   "outputs": [
    {
     "data": {
      "text/plain": [
       "Text(0, 0.5, 'COVID Mortality Rate')"
      ]
     },
     "execution_count": 30,
     "metadata": {},
     "output_type": "execute_result"
    },
    {
     "data": {
      "image/png": "[encoded data removed]",
      "text/plain": [
       "<Figure size 432x288 with 1 Axes>"
      ]
     },
     "metadata": {},
     "output_type": "display_data"
    }
   ],
   "source": [
    "# Plot two variables in one scatter plot.\n",
    "sns.scatterplot(x='log_fundings', y='mortality_rate', data=df)\n",
    "# Set x and y axis with the corresponding variable name.\n",
    "plt.xlabel('Log of Healthcare Fundings')\n",
    "plt.ylabel('COVID Mortality Rate')"
   ]
  },
  {
   "cell_type": "code",
   "execution_count": 31,
   "metadata": {},
   "outputs": [
    {
     "data": {
      "image/png": "[encoded data removed]",
      "text/plain": [
       "<Figure size 360x360 with 1 Axes>"
      ]
     },
     "metadata": {},
     "output_type": "display_data"
    }
   ],
   "source": [
    "plot = sns.lmplot(x='log_fundings', y='mortality_rate', data=df).set_axis_labels('Log of Healthcare Fundings', 'COVID Mortality Rate')"
   ]
  },
  {
   "cell_type": "markdown",
   "metadata": {},
   "source": [
    "From the scatter plot, we can see a negative relationship between the log fundings and mortality rate. However, since the plot can only show a rough correlation, we will need to use regression to see whether log fundings per person has significantly affect the mortality rate in a state. Our null hypothesis $H_0$ is $\\beta$ = 0, which means that there is no relationship between fundings and mortality rate. And our alternative hypothesis will be $\\beta$ != 0."
   ]
  },
  {
   "cell_type": "code",
   "execution_count": 32,
   "metadata": {},
   "outputs": [
    {
     "name": "stdout",
     "output_type": "stream",
     "text": [
      "                            OLS Regression Results                            \n",
      "==============================================================================\n",
      "Dep. Variable:         mortality_rate   R-squared:                       0.116\n",
      "Model:                            OLS   Adj. R-squared:                  0.097\n",
      "Method:                 Least Squares   F-statistic:                     6.289\n",
      "Date:                Mon, 14 Mar 2022   Prob (F-statistic):             0.0156\n",
      "Time:                        23:29:59   Log-Likelihood:                 291.34\n",
      "No. Observations:                  50   AIC:                            -578.7\n",
      "Df Residuals:                      48   BIC:                            -574.8\n",
      "Df Model:                           1                                         \n",
      "Covariance Type:            nonrobust                                         \n",
      "================================================================================\n",
      "                   coef    std err          t      P>|t|      [0.025      0.975]\n",
      "--------------------------------------------------------------------------------\n",
      "Intercept        0.0039      0.001      7.214      0.000       0.003       0.005\n",
      "log_fundings    -0.0004      0.000     -2.508      0.016      -0.001   -7.34e-05\n",
      "==============================================================================\n",
      "Omnibus:                        3.992   Durbin-Watson:                   1.964\n",
      "Prob(Omnibus):                  0.136   Jarque-Bera (JB):                3.009\n",
      "Skew:                          -0.460   Prob(JB):                        0.222\n",
      "Kurtosis:                       2.228   Cond. No.                         20.6\n",
      "==============================================================================\n",
      "\n",
      "Notes:\n",
      "[1] Standard Errors assume that the covariance matrix of the errors is correctly specified.\n"
     ]
    }
   ],
   "source": [
    "# Create design matrices with dmatrices from patsy and store the outputs\n",
    "outcome, predictors = patsy.dmatrices('mortality_rate ~ log_fundings', df)\n",
    "# Create an ordinary least squares model from statsmodels using the outputs above\n",
    "model = sm.OLS(outcome, predictors)\n",
    "# Fit the model\n",
    "results = model.fit()\n",
    "# Look at the results\n",
    "print(results.summary())"
   ]
  },
  {
   "cell_type": "markdown",
   "metadata": {},
   "source": [
    "From the summary above, we see that $\\beta$, the slope of our regression line is -0.0004. The p value for this test is 0.016, which is less than our critical value 0.05. According our p value, we will reject $H_0$. Based on the p-value, there is significant evidence that there is a negative relationship between two variables. However, the adjusted R-squared value for this regression is 0.097, which is low. Only a small portion of the variance in mortality rate can be exlained by healthcare funding per person. Therefore, we conclude that linear regression model is probably not suitable to use here."
   ]
  },
  {
   "cell_type": "markdown",
   "metadata": {},
   "source": [
    "We decided to try to use 5-fold cross validation model to see if the R-squared value will get larger."
   ]
  },
  {
   "cell_type": "code",
   "execution_count": 33,
   "metadata": {},
   "outputs": [
    {
     "data": {
      "text/plain": [
       "-0.0033826152294505808"
      ]
     },
     "execution_count": 33,
     "metadata": {},
     "output_type": "execute_result"
    }
   ],
   "source": [
    "#assign X to be the log of healthcare fundings and y the mortality rate\n",
    "X = np.array(df[['log_fundings']])\n",
    "y = np.array(df['mortality_rate'])\n",
    "\n",
    "#initialize 5-Fold cross validation\n",
    "kf = KFold(n_splits=5)\n",
    "\n",
    "val_scores = []\n",
    "#split the data into training data and test data\n",
    "for train_index, test_index in kf.split(X):\n",
    "    #assign the training and testing data\n",
    "    X_train, X_test = X[train_index], X[test_index]\n",
    "    y_train, y_test = y[train_index], y[test_index]\n",
    "    #train the model using function above\n",
    "    lm_model = train_LM(X_train, y_train)\n",
    "    #append the score of the model to the list\n",
    "    val_scores.append(lm_model.score(X_test, y_test))\n",
    "#calculate the mean of the scores\n",
    "np.mean(val_scores)"
   ]
  },
  {
   "cell_type": "markdown",
   "metadata": {},
   "source": [
    "The R-squared value is even smaller when we use cross validation moddle. Now, we want use multilinear regression to find the relationship between mortality rate and the percentage of medical personnel when we control the healthcare fundings per capita."
   ]
  },
  {
   "cell_type": "markdown",
   "metadata": {},
   "source": [
    "Now, we will use regression to find the relationship between mortality rate and the percentage of medical personnel when we control the healthcare fundings per capita."
   ]
  },
  {
   "cell_type": "code",
   "execution_count": 34,
   "metadata": {},
   "outputs": [
    {
     "name": "stdout",
     "output_type": "stream",
     "text": [
      "                            OLS Regression Results                            \n",
      "==============================================================================\n",
      "Dep. Variable:         mortality_rate   R-squared:                       0.116\n",
      "Model:                            OLS   Adj. R-squared:                  0.078\n",
      "Method:                 Least Squares   F-statistic:                     3.087\n",
      "Date:                Mon, 14 Mar 2022   Prob (F-statistic):             0.0550\n",
      "Time:                        23:30:00   Log-Likelihood:                 291.34\n",
      "No. Observations:                  50   AIC:                            -576.7\n",
      "Df Residuals:                      47   BIC:                            -570.9\n",
      "Df Model:                           2                                         \n",
      "Covariance Type:            nonrobust                                         \n",
      "=================================================================================\n",
      "                    coef    std err          t      P>|t|      [0.025      0.975]\n",
      "---------------------------------------------------------------------------------\n",
      "Intercept         0.0039      0.001      6.004      0.000       0.003       0.005\n",
      "personnel_pct    -0.0152      0.133     -0.115      0.909      -0.283       0.252\n",
      "log_fundings     -0.0004      0.000     -2.463      0.017      -0.001   -6.75e-05\n",
      "==============================================================================\n",
      "Omnibus:                        4.017   Durbin-Watson:                   1.956\n",
      "Prob(Omnibus):                  0.134   Jarque-Bera (JB):                2.996\n",
      "Skew:                          -0.456   Prob(JB):                        0.224\n",
      "Kurtosis:                       2.221   Cond. No.                     4.85e+03\n",
      "==============================================================================\n",
      "\n",
      "Notes:\n",
      "[1] Standard Errors assume that the covariance matrix of the errors is correctly specified.\n",
      "[2] The condition number is large, 4.85e+03. This might indicate that there are\n",
      "strong multicollinearity or other numerical problems.\n"
     ]
    }
   ],
   "source": [
    "# Create design matrices with dmatrices from patsy and store the outputs\n",
    "outcome, predictors = patsy.dmatrices('mortality_rate ~ personnel_pct + log_fundings', df)\n",
    "# Create an ordinary least squares model from statsmodels using the outputs above\n",
    "model = sm.OLS(outcome, predictors)\n",
    "# Fit the model\n",
    "results = model.fit()\n",
    "# Look at the results\n",
    "print(results.summary())"
   ]
  },
  {
   "cell_type": "markdown",
   "metadata": {},
   "source": [
    "From the summary above, we see that coefficient of personnel_pct for this regression model is -0.0152. The p value for this test is 0.909, which is still greater than our critical value 0.05. According our p value, we fail to reject $H_0$ in part 1. In other words, we have no evidence to prove that there is a relationship between mortality rate and the percentage of medical personnel when we control the healthcare fundings per capita. This confirms our conclusion that healthcare fundings per person is not a confounding variable since it doesn't have a significant influence on mortality rate or percentage of medical personnels."
   ]
  },
  {
   "cell_type": "markdown",
   "metadata": {},
   "source": [
    "## 3. Linear Regression on Mortality Rate and GDP Per Capita"
   ]
  },
  {
   "cell_type": "markdown",
   "metadata": {},
   "source": [
    "In this section, we try to find out if there is a relationship between COVID mortality rate and GDP per capita in each state by using linear regression. We also want to see if GDP per capita is a confounding variable in the relationship between mortality rate and medical personnel percentage. We first plot the mortality rate distribution and the GDP per capita distribution."
   ]
  },
  {
   "cell_type": "code",
   "execution_count": 35,
   "metadata": {},
   "outputs": [
    {
     "data": {
      "text/plain": [
       "Text(0.5, 0, 'GDP per Capita')"
      ]
     },
     "execution_count": 35,
     "metadata": {},
     "output_type": "execute_result"
    },
    {
     "data": {
      "image/png": "[encoded data removed]",
      "text/plain": [
       "<Figure size 1008x432 with 2 Axes>"
      ]
     },
     "metadata": {},
     "output_type": "display_data"
    }
   ],
   "source": [
    "# Plot two histograms side by side using subplot and adjust the size of the plots\n",
    "fig, (ax1, ax2) = plt.subplots(ncols = 2, sharey = True, figsize = (14,6))\n",
    "\n",
    "# Plot COVID mortality rate and rename x-axis\n",
    "sns.histplot(df['mortality_rate'], bins = 20, ax = ax1, kde = True, color = 'red')\n",
    "ax1.set_xlabel('COVID Mortality Rate')\n",
    "\n",
    "# Plot GDP per capita and rename x-axis\n",
    "sns.histplot(df['gdp'], bins = 20, ax = ax2, kde = True)\n",
    "ax2.set_xlabel('GDP per Capita')"
   ]
  },
  {
   "cell_type": "markdown",
   "metadata": {},
   "source": [
    "Next, we generate two scatter plots between COVID mortality rate and GDP per capita using scatterplor and lmplot to see if there is a relationship between these two variables."
   ]
  },
  {
   "cell_type": "code",
   "execution_count": 36,
   "metadata": {
    "scrolled": true
   },
   "outputs": [
    {
     "data": {
      "text/plain": [
       "Text(0, 0.5, 'COVID Mortality Rate')"
      ]
     },
     "execution_count": 36,
     "metadata": {},
     "output_type": "execute_result"
    },
    {
     "data": {
      "image/png": "[encoded data removed]",
      "text/plain": [
       "<Figure size 432x288 with 1 Axes>"
      ]
     },
     "metadata": {},
     "output_type": "display_data"
    }
   ],
   "source": [
    "# Generate a scatter plot between COVID mortality rate and GDP per capita\n",
    "sns.scatterplot(x = 'gdp', y = 'mortality_rate', data = df)\n",
    "\n",
    "# Rename x- and y-axis\n",
    "plt.xlabel('GDP per Capita')\n",
    "plt.ylabel('COVID Mortality Rate')"
   ]
  },
  {
   "cell_type": "code",
   "execution_count": 37,
   "metadata": {},
   "outputs": [
    {
     "data": {
      "text/plain": [
       "Text(10.330625000000012, 0.5, 'COVID Mortality Rate')"
      ]
     },
     "execution_count": 37,
     "metadata": {},
     "output_type": "execute_result"
    },
    {
     "data": {
      "image/png": "[encoded data removed]",
      "text/plain": [
       "<Figure size 360x360 with 1 Axes>"
      ]
     },
     "metadata": {},
     "output_type": "display_data"
    }
   ],
   "source": [
    "# Generate a scatter plot between COVID mortality rate and GDP per capita using lmplot\n",
    "sns.lmplot(x = 'gdp', y = 'mortality_rate', data = df)\n",
    "\n",
    "# Rename x and y axis\n",
    "plt.xlabel('GDP per Capita')\n",
    "plt.ylabel('COVID Mortality Rate')"
   ]
  },
  {
   "cell_type": "markdown",
   "metadata": {},
   "source": [
    "Then, we create a linear model to predict COVID mortality rate from GDP per capita. <br>\n",
    "Our null hypothesis $H_0$ is: there is no relationship between the COVID mortality rate and GDP per capita of each state. Our alternative hypothesis $H_1$ is: there is a relationship between the COVID mortality rate and GDP per capita of each state."
   ]
  },
  {
   "cell_type": "code",
   "execution_count": 38,
   "metadata": {
    "scrolled": false
   },
   "outputs": [
    {
     "name": "stdout",
     "output_type": "stream",
     "text": [
      "                            OLS Regression Results                            \n",
      "==============================================================================\n",
      "Dep. Variable:         mortality_rate   R-squared:                       0.170\n",
      "Model:                            OLS   Adj. R-squared:                  0.152\n",
      "Method:                 Least Squares   F-statistic:                     9.808\n",
      "Date:                Mon, 14 Mar 2022   Prob (F-statistic):            0.00296\n",
      "Time:                        23:30:01   Log-Likelihood:                 292.91\n",
      "No. Observations:                  50   AIC:                            -581.8\n",
      "Df Residuals:                      48   BIC:                            -578.0\n",
      "Df Model:                           1                                         \n",
      "Covariance Type:            nonrobust                                         \n",
      "==============================================================================\n",
      "                 coef    std err          t      P>|t|      [0.025      0.975]\n",
      "------------------------------------------------------------------------------\n",
      "Intercept      0.0042      0.001      7.871      0.000       0.003       0.005\n",
      "gdp        -2.687e-08   8.58e-09     -3.132      0.003   -4.41e-08   -9.62e-09\n",
      "==============================================================================\n",
      "Omnibus:                        6.605   Durbin-Watson:                   1.922\n",
      "Prob(Omnibus):                  0.037   Jarque-Bera (JB):                5.765\n",
      "Skew:                          -0.811   Prob(JB):                       0.0560\n",
      "Kurtosis:                       3.367   Cond. No.                     3.36e+05\n",
      "==============================================================================\n",
      "\n",
      "Notes:\n",
      "[1] Standard Errors assume that the covariance matrix of the errors is correctly specified.\n",
      "[2] The condition number is large, 3.36e+05. This might indicate that there are\n",
      "strong multicollinearity or other numerical problems.\n"
     ]
    }
   ],
   "source": [
    "# Create design matrices with dmatrices from patsy and store the outputs\n",
    "outcome, predictors = patsy.dmatrices('mortality_rate ~ gdp', df)\n",
    "# Create an ordinary least squares model from statsmodels using the outputs above\n",
    "model = sm.OLS(outcome, predictors)\n",
    "# Fit the model\n",
    "results = model.fit()\n",
    "# See the results\n",
    "print(results.summary())"
   ]
  },
  {
   "cell_type": "markdown",
   "metadata": {},
   "source": [
    "The summary shows that the p-value is 0.003, which is less than the $\\alpha$ value 0.05 , so we can reject the null hypothesis. However, the coefficient $\\beta$ is -2.687e-08, which is very close to 0, and the values of the confidence interval is very close to 0. This indicates a very weak negative relationship. In addition, the variance explained $r^2$ 0.17 is low. Therefore, there is no significant relationship between the COVID mortality rate and GDP per capita of each state."
   ]
  },
  {
   "cell_type": "markdown",
   "metadata": {},
   "source": [
    "We also want to find out if GDP per capita is a confounding variable in the relationship between mortality rate and medical personnel percentage, so we create a linear model to predict COVID mortality rate from medical personnel percentage and GDP per capita."
   ]
  },
  {
   "cell_type": "code",
   "execution_count": 39,
   "metadata": {},
   "outputs": [
    {
     "name": "stdout",
     "output_type": "stream",
     "text": [
      "                            OLS Regression Results                            \n",
      "==============================================================================\n",
      "Dep. Variable:         mortality_rate   R-squared:                       0.192\n",
      "Model:                            OLS   Adj. R-squared:                  0.158\n",
      "Method:                 Least Squares   F-statistic:                     5.591\n",
      "Date:                Mon, 14 Mar 2022   Prob (F-statistic):            0.00663\n",
      "Time:                        23:30:01   Log-Likelihood:                 293.59\n",
      "No. Observations:                  50   AIC:                            -581.2\n",
      "Df Residuals:                      47   BIC:                            -575.4\n",
      "Df Model:                           2                                         \n",
      "Covariance Type:            nonrobust                                         \n",
      "=================================================================================\n",
      "                    coef    std err          t      P>|t|      [0.025      0.975]\n",
      "---------------------------------------------------------------------------------\n",
      "Intercept         0.0040      0.001      7.120      0.000       0.003       0.005\n",
      "gdp           -3.162e-08   9.51e-09     -3.327      0.002   -5.07e-08   -1.25e-08\n",
      "personnel_pct     0.1611      0.141      1.145      0.258      -0.122       0.444\n",
      "==============================================================================\n",
      "Omnibus:                        9.818   Durbin-Watson:                   1.976\n",
      "Prob(Omnibus):                  0.007   Jarque-Bera (JB):                9.241\n",
      "Skew:                          -0.974   Prob(JB):                      0.00985\n",
      "Kurtosis:                       3.801   Cond. No.                     8.84e+07\n",
      "==============================================================================\n",
      "\n",
      "Notes:\n",
      "[1] Standard Errors assume that the covariance matrix of the errors is correctly specified.\n",
      "[2] The condition number is large, 8.84e+07. This might indicate that there are\n",
      "strong multicollinearity or other numerical problems.\n"
     ]
    }
   ],
   "source": [
    "# Create design matrices with dmatrices from patsy and store the outputs\n",
    "outcome, predictors = patsy.dmatrices('mortality_rate ~ gdp + personnel_pct', df)\n",
    "# Create an ordinary least squares model from statsmodels using the outputs above\n",
    "model = sm.OLS(outcome, predictors)\n",
    "# Fit the model\n",
    "results = model.fit()\n",
    "# See the results\n",
    "print(results.summary())"
   ]
  },
  {
   "cell_type": "markdown",
   "metadata": {},
   "source": [
    "The summary shows that the p-value of medical personnel percentage is 0.258, which is greater than the $\\alpha$ value 0.05, so we fail to reject the null hypothesis. The coefficient $\\beta$, 0.1611, is quite small, and the values of its confidence interval spans across 0. This fails to indicate a relationship between the two variables. Moreover, the adjusted variance explained $r^2$ 0.158 is low. Therefore, there is no significant relationship between the COVID mortality rate and medical personnel percentage of each state when we control for GDP per capita."
   ]
  },
  {
   "cell_type": "markdown",
   "metadata": {},
   "source": [
    "In addition, we would like to perform a 5-fold cross validation on GDP per capita and COVID mortality rate to see if it gives a higher $r^2$."
   ]
  },
  {
   "cell_type": "code",
   "execution_count": 40,
   "metadata": {},
   "outputs": [
    {
     "data": {
      "text/plain": [
       "0.06934958075271025"
      ]
     },
     "execution_count": 40,
     "metadata": {},
     "output_type": "execute_result"
    }
   ],
   "source": [
    "#define X as the percentage of medical personnel and y as mortality rate\n",
    "X = np.array(df[['gdp']])\n",
    "y = np.array(df['mortality_rate'])\n",
    "\n",
    "#initialize 5-Fold cross validation\n",
    "kf = KFold(n_splits=5)\n",
    "\n",
    "#this list keeps track of all scores of the 5 models\n",
    "val_scores = []\n",
    "\n",
    "#split the data into training data and test data\n",
    "for train_index, test_index in kf.split(X):\n",
    "    #assign the training and testing data    \n",
    "    X_train, X_test = X[train_index], X[test_index]\n",
    "    y_train, y_test = y[train_index], y[test_index]\n",
    "    #train the model using function above\n",
    "    lm_model = train_LM(X_train, y_train)\n",
    "    #append the score of the model to the list\n",
    "    val_scores.append(lm_model.score(X_test,y_test))\n",
    "#calculate the mean of the scores, which is the final validation result\n",
    "np.mean(val_scores)"
   ]
  },
  {
   "cell_type": "markdown",
   "metadata": {},
   "source": [
    "The average of the 5 variance explained $r^2$ values 0.069 turns out to be smaller than the $r^2$ value of ordinary least squares model. Therefore, 5-fold cross validation does not provide any further significant results."
   ]
  },
  {
   "cell_type": "markdown",
   "metadata": {},
   "source": [
    "## 4. Linear Regression on Mortality Rate and Vaccination Rate"
   ]
  },
  {
   "cell_type": "markdown",
   "metadata": {},
   "source": [
    "In this section we want to find out whether vaccination rate is confounding variable or not. We use linear regression model to find the relationship between mortality rate and vaccination rate in each states."
   ]
  },
  {
   "cell_type": "markdown",
   "metadata": {},
   "source": [
    "First we want to check the distribution of vaccination rate in each states."
   ]
  },
  {
   "cell_type": "code",
   "execution_count": 41,
   "metadata": {
    "scrolled": false
   },
   "outputs": [
    {
     "data": {
      "text/plain": [
       "Text(0.5, 0, 'Vaccination Rate')"
      ]
     },
     "execution_count": 41,
     "metadata": {},
     "output_type": "execute_result"
    },
    {
     "data": {
      "image/png": "[encoded data removed]",
      "text/plain": [
       "<Figure size 720x432 with 2 Axes>"
      ]
     },
     "metadata": {},
     "output_type": "display_data"
    }
   ],
   "source": [
    "# Plot two histograms and the distribution curves of two variables, and the adjust the size\n",
    "fig, (ax1, ax2) = plt.subplots(ncols = 2, sharey = True, figsize = (10,6))\n",
    "\n",
    "# Plot COVID mortality rate and rename x-axis\n",
    "sns.histplot(df['mortality_rate'], bins = 20, ax = ax1, kde = True, color = 'red')\n",
    "ax1.set_xlabel('COVID Mortality Rate')\n",
    "\n",
    "# Plot vaccination rate and rename x-axis\n",
    "sns.histplot(df['vaccination_rate'], bins = 20, ax = ax2, kde = True)\n",
    "ax2.set_xlabel('Vaccination Rate')"
   ]
  },
  {
   "cell_type": "markdown",
   "metadata": {},
   "source": [
    "We observe that distribution of vaccination rate is mor like a bimodal distribution\n",
    "Next we generate a scatter plot to find out the relationship between mortality rate and vaccination rate"
   ]
  },
  {
   "cell_type": "code",
   "execution_count": 42,
   "metadata": {},
   "outputs": [
    {
     "data": {
      "text/plain": [
       "Text(0, 0.5, 'COVID Mortality Rate')"
      ]
     },
     "execution_count": 42,
     "metadata": {},
     "output_type": "execute_result"
    },
    {
     "data": {
      "image/png": "[encoded data removed]",
      "text/plain": [
       "<Figure size 432x288 with 1 Axes>"
      ]
     },
     "metadata": {},
     "output_type": "display_data"
    }
   ],
   "source": [
    "# Generate a scatter plot between vaccination rate and mortality rate\n",
    "sns.scatterplot(x = 'vaccination_rate', y = 'mortality_rate', data = df)\n",
    "# Set x and y axis with the corresponding variable name\n",
    "plt.xlabel('Vaccination Rate')\n",
    "plt.ylabel('COVID Mortality Rate')"
   ]
  },
  {
   "cell_type": "code",
   "execution_count": 43,
   "metadata": {},
   "outputs": [
    {
     "data": {
      "text/plain": [
       "<seaborn.axisgrid.FacetGrid at 0x1abf7ffef70>"
      ]
     },
     "execution_count": 43,
     "metadata": {},
     "output_type": "execute_result"
    },
    {
     "data": {
      "image/png": "[encoded data removed]",
      "text/plain": [
       "<Figure size 360x360 with 1 Axes>"
      ]
     },
     "metadata": {},
     "output_type": "display_data"
    }
   ],
   "source": [
    "sns.lmplot(x = 'vaccination_rate', y = 'mortality_rate',data = df).set_axis_labels('Vaccination Rate', 'COVID Mortality Rate')"
   ]
  },
  {
   "cell_type": "markdown",
   "metadata": {},
   "source": [
    "We observe that there is relatively weak negative relationship between vaccination rate and mortality rate.\n",
    "However, in order to get more precise conclusion we create a linear model to analyze."
   ]
  },
  {
   "cell_type": "code",
   "execution_count": 44,
   "metadata": {},
   "outputs": [
    {
     "name": "stdout",
     "output_type": "stream",
     "text": [
      "                            OLS Regression Results                            \n",
      "==============================================================================\n",
      "Dep. Variable:         mortality_rate   R-squared:                       0.298\n",
      "Model:                            OLS   Adj. R-squared:                  0.283\n",
      "Method:                 Least Squares   F-statistic:                     20.33\n",
      "Date:                Mon, 14 Mar 2022   Prob (F-statistic):           4.19e-05\n",
      "Time:                        23:30:02   Log-Likelihood:                 297.09\n",
      "No. Observations:                  50   AIC:                            -590.2\n",
      "Df Residuals:                      48   BIC:                            -586.3\n",
      "Df Model:                           1                                         \n",
      "Covariance Type:            nonrobust                                         \n",
      "====================================================================================\n",
      "                       coef    std err          t      P>|t|      [0.025      0.975]\n",
      "------------------------------------------------------------------------------------\n",
      "Intercept            0.0057      0.001      8.124      0.000       0.004       0.007\n",
      "vaccination_rate    -0.0051      0.001     -4.509      0.000      -0.007      -0.003\n",
      "==============================================================================\n",
      "Omnibus:                        0.169   Durbin-Watson:                   1.839\n",
      "Prob(Omnibus):                  0.919   Jarque-Bera (JB):                0.371\n",
      "Skew:                           0.058   Prob(JB):                        0.831\n",
      "Kurtosis:                       2.594   Cond. No.                         17.0\n",
      "==============================================================================\n",
      "\n",
      "Notes:\n",
      "[1] Standard Errors assume that the covariance matrix of the errors is correctly specified.\n"
     ]
    }
   ],
   "source": [
    "# store the output of the dmatrices\n",
    "outcome1, predictor1 = patsy.dmatrices('mortality_rate ~ vaccination_rate',df)\n",
    "# generate an ordinary least square model from the output above\n",
    "mod1 = sm.OLS(outcome1, predictor1)\n",
    "# fit the model\n",
    "res1 = mod1.fit()\n",
    "# print the summary\n",
    "print(res1.summary())"
   ]
  },
  {
   "cell_type": "markdown",
   "metadata": {},
   "source": [
    "We can see from above the p-value is small enough to reject the null hypothesis $H_0$. Therefore, we can say there is negative linear relationship between vaccination rate and mortality rate. Higher mortality rate associates with lower vaccination rate.\n",
    "Then we try to find out whether vaccination rate is a confounding variable or not."
   ]
  },
  {
   "cell_type": "code",
   "execution_count": 45,
   "metadata": {
    "scrolled": false
   },
   "outputs": [
    {
     "name": "stdout",
     "output_type": "stream",
     "text": [
      "                            OLS Regression Results                            \n",
      "==============================================================================\n",
      "Dep. Variable:         mortality_rate   R-squared:                       0.447\n",
      "Model:                            OLS   Adj. R-squared:                  0.423\n",
      "Method:                 Least Squares   F-statistic:                     18.98\n",
      "Date:                Mon, 14 Mar 2022   Prob (F-statistic):           9.06e-07\n",
      "Time:                        23:30:02   Log-Likelihood:                 303.06\n",
      "No. Observations:                  50   AIC:                            -600.1\n",
      "Df Residuals:                      47   BIC:                            -594.4\n",
      "Df Model:                           2                                         \n",
      "Covariance Type:            nonrobust                                         \n",
      "====================================================================================\n",
      "                       coef    std err          t      P>|t|      [0.025      0.975]\n",
      "------------------------------------------------------------------------------------\n",
      "Intercept            0.0060      0.001      9.479      0.000       0.005       0.007\n",
      "vaccination_rate    -0.0080      0.001     -6.148      0.000      -0.011      -0.005\n",
      "personnel_pct        0.4812      0.135      3.562      0.001       0.209       0.753\n",
      "==============================================================================\n",
      "Omnibus:                        0.384   Durbin-Watson:                   2.087\n",
      "Prob(Omnibus):                  0.825   Jarque-Bera (JB):                0.179\n",
      "Skew:                           0.147   Prob(JB):                        0.914\n",
      "Kurtosis:                       2.989   Cond. No.                     1.93e+03\n",
      "==============================================================================\n",
      "\n",
      "Notes:\n",
      "[1] Standard Errors assume that the covariance matrix of the errors is correctly specified.\n",
      "[2] The condition number is large, 1.93e+03. This might indicate that there are\n",
      "strong multicollinearity or other numerical problems.\n"
     ]
    }
   ],
   "source": [
    "# store the output of the dmatrices\n",
    "outcome2, predictor2 = patsy.dmatrices('mortality_rate ~ vaccination_rate + personnel_pct', df)\n",
    "# generate an ordinary least square model from the output above\n",
    "mod2 = sm.OLS(outcome2, predictor2)\n",
    "# fit the model\n",
    "res2 = mod2.fit()\n",
    "# print the summary\n",
    "print(res2.summary())"
   ]
  },
  {
   "cell_type": "markdown",
   "metadata": {},
   "source": [
    "We can see the p-value is still very small, so we still reject the null hypothesis $H_0$. However, the r_square for model 1 is 0.298 which is smaller than r_square for model 2, which is 0.447. In conclusion, we can say vaccination rate has a linear negative relationship with mortality rate. Mortality rate has no relationship with percentage of personnel, but there is a relationship between percentage of personnel and the vaccinationrate, meaning states with higher percentage of medical personnel have higher vaccination rate. Besides, since the r-square is higher when considering vaccination rate, we can say vaccination rate is indeed a confounding variable."
   ]
  },
  {
   "cell_type": "markdown",
   "metadata": {},
   "source": [
    "Then, we perform further analysis on the vaccination rate distribution. \n",
    "Since the distribution is bimodal, we are curious about the result if we select states with top 20 vaccination rate."
   ]
  },
  {
   "cell_type": "code",
   "execution_count": 46,
   "metadata": {},
   "outputs": [
    {
     "data": {
      "text/html": [
       "<div>\n",
       "<style scoped>\n",
       "    .dataframe tbody tr th:only-of-type {\n",
       "        vertical-align: middle;\n",
       "    }\n",
       "\n",
       "    .dataframe tbody tr th {\n",
       "        vertical-align: top;\n",
       "    }\n",
       "\n",
       "    .dataframe thead th {\n",
       "        text-align: right;\n",
       "    }\n",
       "</style>\n",
       "<table border=\"1\" class=\"dataframe\">\n",
       "  <thead>\n",
       "    <tr style=\"text-align: right;\">\n",
       "      <th></th>\n",
       "      <th>State</th>\n",
       "      <th>Total Cases</th>\n",
       "      <th>Total Deaths</th>\n",
       "      <th>total_personnels_counts</th>\n",
       "      <th>fundings_per_person</th>\n",
       "      <th>gdp</th>\n",
       "      <th>whole_population</th>\n",
       "      <th>vaccination_rate</th>\n",
       "      <th>mortality_rate</th>\n",
       "      <th>personnel_pct</th>\n",
       "      <th>log_fundings</th>\n",
       "    </tr>\n",
       "  </thead>\n",
       "  <tbody>\n",
       "    <tr>\n",
       "      <th>0</th>\n",
       "      <td>Vermont</td>\n",
       "      <td>98245.0</td>\n",
       "      <td>522.0</td>\n",
       "      <td>2448.0</td>\n",
       "      <td>52.61</td>\n",
       "      <td>54515.0</td>\n",
       "      <td>643077.0</td>\n",
       "      <td>0.772494</td>\n",
       "      <td>0.000812</td>\n",
       "      <td>0.003807</td>\n",
       "      <td>3.962906</td>\n",
       "    </tr>\n",
       "    <tr>\n",
       "      <th>1</th>\n",
       "      <td>Rhode Island</td>\n",
       "      <td>347901.0</td>\n",
       "      <td>3354.0</td>\n",
       "      <td>5663.0</td>\n",
       "      <td>59.16</td>\n",
       "      <td>58502.0</td>\n",
       "      <td>1097379.0</td>\n",
       "      <td>0.766924</td>\n",
       "      <td>0.003056</td>\n",
       "      <td>0.005160</td>\n",
       "      <td>4.080246</td>\n",
       "    </tr>\n",
       "    <tr>\n",
       "      <th>2</th>\n",
       "      <td>Maine</td>\n",
       "      <td>181010.0</td>\n",
       "      <td>1804.0</td>\n",
       "      <td>4939.0</td>\n",
       "      <td>33.82</td>\n",
       "      <td>50832.0</td>\n",
       "      <td>1362359.0</td>\n",
       "      <td>0.766650</td>\n",
       "      <td>0.001324</td>\n",
       "      <td>0.003625</td>\n",
       "      <td>3.521052</td>\n",
       "    </tr>\n",
       "    <tr>\n",
       "      <th>3</th>\n",
       "      <td>Connecticut</td>\n",
       "      <td>706140.0</td>\n",
       "      <td>10159.0</td>\n",
       "      <td>16528.0</td>\n",
       "      <td>35.01</td>\n",
       "      <td>80888.0</td>\n",
       "      <td>3605944.0</td>\n",
       "      <td>0.760784</td>\n",
       "      <td>0.002817</td>\n",
       "      <td>0.004584</td>\n",
       "      <td>3.555634</td>\n",
       "    </tr>\n",
       "    <tr>\n",
       "      <th>4</th>\n",
       "      <td>Massachusetts</td>\n",
       "      <td>1630462.0</td>\n",
       "      <td>22379.0</td>\n",
       "      <td>38200.0</td>\n",
       "      <td>86.76</td>\n",
       "      <td>86449.0</td>\n",
       "      <td>7029917.0</td>\n",
       "      <td>0.752080</td>\n",
       "      <td>0.003183</td>\n",
       "      <td>0.005434</td>\n",
       "      <td>4.463146</td>\n",
       "    </tr>\n",
       "    <tr>\n",
       "      <th>5</th>\n",
       "      <td>Hawaii</td>\n",
       "      <td>221173.0</td>\n",
       "      <td>1214.0</td>\n",
       "      <td>3761.0</td>\n",
       "      <td>125.62</td>\n",
       "      <td>67395.0</td>\n",
       "      <td>1455271.0</td>\n",
       "      <td>0.742126</td>\n",
       "      <td>0.000834</td>\n",
       "      <td>0.002584</td>\n",
       "      <td>4.833261</td>\n",
       "    </tr>\n",
       "    <tr>\n",
       "      <th>6</th>\n",
       "      <td>New York</td>\n",
       "      <td>2584586.0</td>\n",
       "      <td>26285.0</td>\n",
       "      <td>96665.0</td>\n",
       "      <td>84.87</td>\n",
       "      <td>91459.0</td>\n",
       "      <td>20201249.0</td>\n",
       "      <td>0.717917</td>\n",
       "      <td>0.001301</td>\n",
       "      <td>0.004785</td>\n",
       "      <td>4.441121</td>\n",
       "    </tr>\n",
       "    <tr>\n",
       "      <th>7</th>\n",
       "      <td>Maryland</td>\n",
       "      <td>964556.0</td>\n",
       "      <td>13724.0</td>\n",
       "      <td>25802.0</td>\n",
       "      <td>45.07</td>\n",
       "      <td>71426.0</td>\n",
       "      <td>6177224.0</td>\n",
       "      <td>0.714469</td>\n",
       "      <td>0.002222</td>\n",
       "      <td>0.004177</td>\n",
       "      <td>3.808217</td>\n",
       "    </tr>\n",
       "    <tr>\n",
       "      <th>8</th>\n",
       "      <td>Virginia</td>\n",
       "      <td>1577641.0</td>\n",
       "      <td>16846.0</td>\n",
       "      <td>25234.0</td>\n",
       "      <td>36.26</td>\n",
       "      <td>65930.0</td>\n",
       "      <td>8631393.0</td>\n",
       "      <td>0.700643</td>\n",
       "      <td>0.001952</td>\n",
       "      <td>0.002924</td>\n",
       "      <td>3.590715</td>\n",
       "    </tr>\n",
       "    <tr>\n",
       "      <th>9</th>\n",
       "      <td>New Jersey</td>\n",
       "      <td>2131015.0</td>\n",
       "      <td>31966.0</td>\n",
       "      <td>32192.0</td>\n",
       "      <td>31.25</td>\n",
       "      <td>72243.0</td>\n",
       "      <td>9288994.0</td>\n",
       "      <td>0.700258</td>\n",
       "      <td>0.003441</td>\n",
       "      <td>0.003466</td>\n",
       "      <td>3.442019</td>\n",
       "    </tr>\n",
       "    <tr>\n",
       "      <th>10</th>\n",
       "      <td>Washington</td>\n",
       "      <td>1367769.0</td>\n",
       "      <td>10967.0</td>\n",
       "      <td>22848.0</td>\n",
       "      <td>47.95</td>\n",
       "      <td>82101.0</td>\n",
       "      <td>7705281.0</td>\n",
       "      <td>0.694284</td>\n",
       "      <td>0.001423</td>\n",
       "      <td>0.002965</td>\n",
       "      <td>3.870159</td>\n",
       "    </tr>\n",
       "    <tr>\n",
       "      <th>11</th>\n",
       "      <td>California</td>\n",
       "      <td>8582249.0</td>\n",
       "      <td>80022.0</td>\n",
       "      <td>116754.0</td>\n",
       "      <td>69.87</td>\n",
       "      <td>80727.0</td>\n",
       "      <td>39538223.0</td>\n",
       "      <td>0.693882</td>\n",
       "      <td>0.002024</td>\n",
       "      <td>0.002953</td>\n",
       "      <td>4.246636</td>\n",
       "    </tr>\n",
       "    <tr>\n",
       "      <th>12</th>\n",
       "      <td>Colorado</td>\n",
       "      <td>1270138.0</td>\n",
       "      <td>11202.0</td>\n",
       "      <td>15151.0</td>\n",
       "      <td>55.30</td>\n",
       "      <td>69475.0</td>\n",
       "      <td>5773714.0</td>\n",
       "      <td>0.682938</td>\n",
       "      <td>0.001940</td>\n",
       "      <td>0.002624</td>\n",
       "      <td>4.012773</td>\n",
       "    </tr>\n",
       "    <tr>\n",
       "      <th>13</th>\n",
       "      <td>New Hampshire</td>\n",
       "      <td>281300.0</td>\n",
       "      <td>2246.0</td>\n",
       "      <td>4439.0</td>\n",
       "      <td>23.61</td>\n",
       "      <td>64846.0</td>\n",
       "      <td>1377529.0</td>\n",
       "      <td>0.681748</td>\n",
       "      <td>0.001630</td>\n",
       "      <td>0.003222</td>\n",
       "      <td>3.161670</td>\n",
       "    </tr>\n",
       "    <tr>\n",
       "      <th>14</th>\n",
       "      <td>New Mexico</td>\n",
       "      <td>489701.0</td>\n",
       "      <td>6535.0</td>\n",
       "      <td>6106.0</td>\n",
       "      <td>151.15</td>\n",
       "      <td>49838.0</td>\n",
       "      <td>2117522.0</td>\n",
       "      <td>0.679960</td>\n",
       "      <td>0.003086</td>\n",
       "      <td>0.002884</td>\n",
       "      <td>5.018273</td>\n",
       "    </tr>\n",
       "    <tr>\n",
       "      <th>15</th>\n",
       "      <td>Oregon</td>\n",
       "      <td>654343.0</td>\n",
       "      <td>6214.0</td>\n",
       "      <td>12589.0</td>\n",
       "      <td>35.11</td>\n",
       "      <td>61106.0</td>\n",
       "      <td>4237256.0</td>\n",
       "      <td>0.677836</td>\n",
       "      <td>0.001467</td>\n",
       "      <td>0.002971</td>\n",
       "      <td>3.558486</td>\n",
       "    </tr>\n",
       "    <tr>\n",
       "      <th>16</th>\n",
       "      <td>Minnesota</td>\n",
       "      <td>1359058.0</td>\n",
       "      <td>11749.0</td>\n",
       "      <td>18982.0</td>\n",
       "      <td>106.83</td>\n",
       "      <td>68185.0</td>\n",
       "      <td>5706494.0</td>\n",
       "      <td>0.665280</td>\n",
       "      <td>0.002059</td>\n",
       "      <td>0.003326</td>\n",
       "      <td>4.671239</td>\n",
       "    </tr>\n",
       "    <tr>\n",
       "      <th>17</th>\n",
       "      <td>Illinois</td>\n",
       "      <td>2957563.0</td>\n",
       "      <td>35157.0</td>\n",
       "      <td>45739.0</td>\n",
       "      <td>32.53</td>\n",
       "      <td>69800.0</td>\n",
       "      <td>12801989.0</td>\n",
       "      <td>0.658199</td>\n",
       "      <td>0.002746</td>\n",
       "      <td>0.003573</td>\n",
       "      <td>3.482163</td>\n",
       "    </tr>\n",
       "    <tr>\n",
       "      <th>18</th>\n",
       "      <td>Delaware</td>\n",
       "      <td>251192.0</td>\n",
       "      <td>2576.0</td>\n",
       "      <td>3297.0</td>\n",
       "      <td>36.77</td>\n",
       "      <td>78924.0</td>\n",
       "      <td>989948.0</td>\n",
       "      <td>0.654764</td>\n",
       "      <td>0.002602</td>\n",
       "      <td>0.003330</td>\n",
       "      <td>3.604682</td>\n",
       "    </tr>\n",
       "    <tr>\n",
       "      <th>19</th>\n",
       "      <td>Florida</td>\n",
       "      <td>5680958.0</td>\n",
       "      <td>66463.0</td>\n",
       "      <td>60116.0</td>\n",
       "      <td>19.59</td>\n",
       "      <td>52217.0</td>\n",
       "      <td>21538187.0</td>\n",
       "      <td>0.651374</td>\n",
       "      <td>0.003086</td>\n",
       "      <td>0.002791</td>\n",
       "      <td>2.975019</td>\n",
       "    </tr>\n",
       "  </tbody>\n",
       "</table>\n",
       "</div>"
      ],
      "text/plain": [
       "            State  Total Cases  Total Deaths  total_personnels_counts  \\\n",
       "0         Vermont      98245.0         522.0                   2448.0   \n",
       "1    Rhode Island     347901.0        3354.0                   5663.0   \n",
       "2           Maine     181010.0        1804.0                   4939.0   \n",
       "3     Connecticut     706140.0       10159.0                  16528.0   \n",
       "4   Massachusetts    1630462.0       22379.0                  38200.0   \n",
       "5          Hawaii     221173.0        1214.0                   3761.0   \n",
       "6        New York    2584586.0       26285.0                  96665.0   \n",
       "7        Maryland     964556.0       13724.0                  25802.0   \n",
       "8        Virginia    1577641.0       16846.0                  25234.0   \n",
       "9      New Jersey    2131015.0       31966.0                  32192.0   \n",
       "10     Washington    1367769.0       10967.0                  22848.0   \n",
       "11     California    8582249.0       80022.0                 116754.0   \n",
       "12       Colorado    1270138.0       11202.0                  15151.0   \n",
       "13  New Hampshire     281300.0        2246.0                   4439.0   \n",
       "14     New Mexico     489701.0        6535.0                   6106.0   \n",
       "15         Oregon     654343.0        6214.0                  12589.0   \n",
       "16      Minnesota    1359058.0       11749.0                  18982.0   \n",
       "17       Illinois    2957563.0       35157.0                  45739.0   \n",
       "18       Delaware     251192.0        2576.0                   3297.0   \n",
       "19        Florida    5680958.0       66463.0                  60116.0   \n",
       "\n",
       "    fundings_per_person      gdp  whole_population  vaccination_rate  \\\n",
       "0                 52.61  54515.0          643077.0          0.772494   \n",
       "1                 59.16  58502.0         1097379.0          0.766924   \n",
       "2                 33.82  50832.0         1362359.0          0.766650   \n",
       "3                 35.01  80888.0         3605944.0          0.760784   \n",
       "4                 86.76  86449.0         7029917.0          0.752080   \n",
       "5                125.62  67395.0         1455271.0          0.742126   \n",
       "6                 84.87  91459.0        20201249.0          0.717917   \n",
       "7                 45.07  71426.0         6177224.0          0.714469   \n",
       "8                 36.26  65930.0         8631393.0          0.700643   \n",
       "9                 31.25  72243.0         9288994.0          0.700258   \n",
       "10                47.95  82101.0         7705281.0          0.694284   \n",
       "11                69.87  80727.0        39538223.0          0.693882   \n",
       "12                55.30  69475.0         5773714.0          0.682938   \n",
       "13                23.61  64846.0         1377529.0          0.681748   \n",
       "14               151.15  49838.0         2117522.0          0.679960   \n",
       "15                35.11  61106.0         4237256.0          0.677836   \n",
       "16               106.83  68185.0         5706494.0          0.665280   \n",
       "17                32.53  69800.0        12801989.0          0.658199   \n",
       "18                36.77  78924.0          989948.0          0.654764   \n",
       "19                19.59  52217.0        21538187.0          0.651374   \n",
       "\n",
       "    mortality_rate  personnel_pct  log_fundings  \n",
       "0         0.000812       0.003807      3.962906  \n",
       "1         0.003056       0.005160      4.080246  \n",
       "2         0.001324       0.003625      3.521052  \n",
       "3         0.002817       0.004584      3.555634  \n",
       "4         0.003183       0.005434      4.463146  \n",
       "5         0.000834       0.002584      4.833261  \n",
       "6         0.001301       0.004785      4.441121  \n",
       "7         0.002222       0.004177      3.808217  \n",
       "8         0.001952       0.002924      3.590715  \n",
       "9         0.003441       0.003466      3.442019  \n",
       "10        0.001423       0.002965      3.870159  \n",
       "11        0.002024       0.002953      4.246636  \n",
       "12        0.001940       0.002624      4.012773  \n",
       "13        0.001630       0.003222      3.161670  \n",
       "14        0.003086       0.002884      5.018273  \n",
       "15        0.001467       0.002971      3.558486  \n",
       "16        0.002059       0.003326      4.671239  \n",
       "17        0.002746       0.003573      3.482163  \n",
       "18        0.002602       0.003330      3.604682  \n",
       "19        0.003086       0.002791      2.975019  "
      ]
     },
     "execution_count": 46,
     "metadata": {},
     "output_type": "execute_result"
    }
   ],
   "source": [
    "top_20 = df.sort_values(by = 'vaccination_rate', ascending = False).reset_index().drop(columns = 'index').iloc[:20]\n",
    "\n",
    "top_20"
   ]
  },
  {
   "cell_type": "code",
   "execution_count": 47,
   "metadata": {},
   "outputs": [
    {
     "data": {
      "text/plain": [
       "Text(0.5, 0, 'Top 20 Vaccination Rate')"
      ]
     },
     "execution_count": 47,
     "metadata": {},
     "output_type": "execute_result"
    },
    {
     "data": {
      "image/png": "[encoded data removed]",
      "text/plain": [
       "<Figure size 432x288 with 1 Axes>"
      ]
     },
     "metadata": {},
     "output_type": "display_data"
    }
   ],
   "source": [
    "# genrate a histogram for the top 20 vaccination rate distribution\n",
    "sns.histplot(top_20['vaccination_rate'], bins = 20, kde = True).set_xlabel('Top 20 Vaccination Rate')"
   ]
  },
  {
   "cell_type": "code",
   "execution_count": 48,
   "metadata": {},
   "outputs": [
    {
     "data": {
      "text/plain": [
       "Text(10.330625000000012, 0.5, 'COVID Mortality Rate')"
      ]
     },
     "execution_count": 48,
     "metadata": {},
     "output_type": "execute_result"
    },
    {
     "data": {
      "image/png": "[encoded data removed]",
      "text/plain": [
       "<Figure size 432x288 with 1 Axes>"
      ]
     },
     "metadata": {},
     "output_type": "display_data"
    },
    {
     "data": {
      "image/png": "[encoded data removed]",
      "text/plain": [
       "<Figure size 360x360 with 1 Axes>"
      ]
     },
     "metadata": {},
     "output_type": "display_data"
    }
   ],
   "source": [
    "# generate the scatter plot and the lmplot and rename axes\n",
    "sns.scatterplot(x = 'vaccination_rate', y = 'mortality_rate', data = top_20)\n",
    "plt.xlabel('Top 20 Vaccination Rate')\n",
    "plt.ylabel('COVID Mortality Rate')\n",
    "\n",
    "sns.lmplot(x = 'vaccination_rate', y = 'mortality_rate', data = top_20)\n",
    "plt.xlabel('Top 20 Vaccination Rate')\n",
    "plt.ylabel('COVID Mortality Rate')"
   ]
  },
  {
   "cell_type": "markdown",
   "metadata": {},
   "source": [
    "We use top_20 to regenerate the linear regression model"
   ]
  },
  {
   "cell_type": "code",
   "execution_count": 49,
   "metadata": {},
   "outputs": [
    {
     "name": "stdout",
     "output_type": "stream",
     "text": [
      "                            OLS Regression Results                            \n",
      "==============================================================================\n",
      "Dep. Variable:         mortality_rate   R-squared:                       0.050\n",
      "Model:                            OLS   Adj. R-squared:                 -0.003\n",
      "Method:                 Least Squares   F-statistic:                    0.9489\n",
      "Date:                Mon, 14 Mar 2022   Prob (F-statistic):              0.343\n",
      "Time:                        23:30:03   Log-Likelihood:                 114.90\n",
      "No. Observations:                  20   AIC:                            -225.8\n",
      "Df Residuals:                      18   BIC:                            -223.8\n",
      "Df Model:                           1                                         \n",
      "Covariance Type:            nonrobust                                         \n",
      "====================================================================================\n",
      "                       coef    std err          t      P>|t|      [0.025      0.975]\n",
      "------------------------------------------------------------------------------------\n",
      "Intercept            0.0053      0.003      1.627      0.121      -0.002       0.012\n",
      "vaccination_rate    -0.0045      0.005     -0.974      0.343      -0.014       0.005\n",
      "==============================================================================\n",
      "Omnibus:                        3.661   Durbin-Watson:                   2.466\n",
      "Prob(Omnibus):                  0.160   Jarque-Bera (JB):                1.527\n",
      "Skew:                           0.272   Prob(JB):                        0.466\n",
      "Kurtosis:                       1.761   Cond. No.                         38.1\n",
      "==============================================================================\n",
      "\n",
      "Notes:\n",
      "[1] Standard Errors assume that the covariance matrix of the errors is correctly specified.\n"
     ]
    }
   ],
   "source": [
    "# store the output of the dmatrices\n",
    "outcome1, predictor1 = patsy.dmatrices('mortality_rate ~ vaccination_rate', top_20)\n",
    "# generate an ordinary least square model from the output above\n",
    "mod1 = sm.OLS(outcome1, predictor1)\n",
    "# fit the model\n",
    "res1 = mod1.fit()\n",
    "# print the summary\n",
    "print(res1.summary())"
   ]
  },
  {
   "cell_type": "markdown",
   "metadata": {},
   "source": [
    "We can see from above, the p-value is larger than the data frame with all states. The p-value for this model shows that there is no relationship between vaccination rate and mortality rate.<br> Then we are curious about where the split point is."
   ]
  },
  {
   "cell_type": "code",
   "execution_count": 50,
   "metadata": {},
   "outputs": [],
   "source": [
    "# states with lowest 23 vaccination rate\n",
    "low_23 = df.sort_values(by = 'vaccination_rate', ascending = True).reset_index().drop(columns = 'index').iloc[:23]"
   ]
  },
  {
   "cell_type": "code",
   "execution_count": 51,
   "metadata": {},
   "outputs": [
    {
     "name": "stdout",
     "output_type": "stream",
     "text": [
      "                            OLS Regression Results                            \n",
      "==============================================================================\n",
      "Dep. Variable:         mortality_rate   R-squared:                       0.253\n",
      "Model:                            OLS   Adj. R-squared:                  0.217\n",
      "Method:                 Least Squares   F-statistic:                     7.106\n",
      "Date:                Mon, 14 Mar 2022   Prob (F-statistic):             0.0145\n",
      "Time:                        23:30:03   Log-Likelihood:                 152.30\n",
      "No. Observations:                  23   AIC:                            -300.6\n",
      "Df Residuals:                      21   BIC:                            -298.3\n",
      "Df Model:                           1                                         \n",
      "Covariance Type:            nonrobust                                         \n",
      "====================================================================================\n",
      "                       coef    std err          t      P>|t|      [0.025      0.975]\n",
      "------------------------------------------------------------------------------------\n",
      "Intercept            0.0063      0.001      5.037      0.000       0.004       0.009\n",
      "vaccination_rate    -0.0061      0.002     -2.666      0.014      -0.011      -0.001\n",
      "==============================================================================\n",
      "Omnibus:                        3.313   Durbin-Watson:                   2.372\n",
      "Prob(Omnibus):                  0.191   Jarque-Bera (JB):                1.923\n",
      "Skew:                          -0.689   Prob(JB):                        0.382\n",
      "Kurtosis:                       3.331   Cond. No.                         42.5\n",
      "==============================================================================\n",
      "\n",
      "Notes:\n",
      "[1] Standard Errors assume that the covariance matrix of the errors is correctly specified.\n"
     ]
    }
   ],
   "source": [
    "# store the output of the dmatrices\n",
    "outcome1, predictor1 = patsy.dmatrices('mortality_rate ~ vaccination_rate', low_23)\n",
    "# generate an ordinary least square model from the output above\n",
    "mod1 = sm.OLS(outcome1, predictor1)\n",
    "# fit the model\n",
    "res1 = mod1.fit()\n",
    "# print the summary\n",
    "print(res1.summary())"
   ]
  },
  {
   "cell_type": "code",
   "execution_count": 52,
   "metadata": {},
   "outputs": [],
   "source": [
    "# states with lowest 22 vaccination rate\n",
    "low_22 = df.sort_values(by = 'vaccination_rate', ascending = True).reset_index().drop(columns = 'index').iloc[:22]"
   ]
  },
  {
   "cell_type": "code",
   "execution_count": 53,
   "metadata": {},
   "outputs": [
    {
     "name": "stdout",
     "output_type": "stream",
     "text": [
      "                            OLS Regression Results                            \n",
      "==============================================================================\n",
      "Dep. Variable:         mortality_rate   R-squared:                       0.176\n",
      "Model:                            OLS   Adj. R-squared:                  0.135\n",
      "Method:                 Least Squares   F-statistic:                     4.280\n",
      "Date:                Mon, 14 Mar 2022   Prob (F-statistic):             0.0517\n",
      "Time:                        23:30:03   Log-Likelihood:                 148.14\n",
      "No. Observations:                  22   AIC:                            -292.3\n",
      "Df Residuals:                      20   BIC:                            -290.1\n",
      "Df Model:                           1                                         \n",
      "Covariance Type:            nonrobust                                         \n",
      "====================================================================================\n",
      "                       coef    std err          t      P>|t|      [0.025      0.975]\n",
      "------------------------------------------------------------------------------------\n",
      "Intercept            0.0055      0.001      4.635      0.000       0.003       0.008\n",
      "vaccination_rate    -0.0045      0.002     -2.069      0.052      -0.009    3.72e-05\n",
      "==============================================================================\n",
      "Omnibus:                        2.014   Durbin-Watson:                   2.899\n",
      "Prob(Omnibus):                  0.365   Jarque-Bera (JB):                0.772\n",
      "Skew:                          -0.393   Prob(JB):                        0.680\n",
      "Kurtosis:                       3.474   Cond. No.                         43.6\n",
      "==============================================================================\n",
      "\n",
      "Notes:\n",
      "[1] Standard Errors assume that the covariance matrix of the errors is correctly specified.\n"
     ]
    }
   ],
   "source": [
    "# store the output of the dmatrices\n",
    "outcome1, predictor1 = patsy.dmatrices('mortality_rate ~ vaccination_rate', low_22)\n",
    "# generate an ordinary least square model from the output above\n",
    "mod1 = sm.OLS(outcome1, predictor1)\n",
    "# fit the model\n",
    "res1 = mod1.fit()\n",
    "# print the summary\n",
    "print(res1.summary())"
   ]
  },
  {
   "cell_type": "code",
   "execution_count": 54,
   "metadata": {},
   "outputs": [
    {
     "data": {
      "text/html": [
       "<div>\n",
       "<style scoped>\n",
       "    .dataframe tbody tr th:only-of-type {\n",
       "        vertical-align: middle;\n",
       "    }\n",
       "\n",
       "    .dataframe tbody tr th {\n",
       "        vertical-align: top;\n",
       "    }\n",
       "\n",
       "    .dataframe thead th {\n",
       "        text-align: right;\n",
       "    }\n",
       "</style>\n",
       "<table border=\"1\" class=\"dataframe\">\n",
       "  <thead>\n",
       "    <tr style=\"text-align: right;\">\n",
       "      <th></th>\n",
       "      <th>State</th>\n",
       "      <th>Total Cases</th>\n",
       "      <th>Total Deaths</th>\n",
       "      <th>total_personnels_counts</th>\n",
       "      <th>fundings_per_person</th>\n",
       "      <th>gdp</th>\n",
       "      <th>whole_population</th>\n",
       "      <th>vaccination_rate</th>\n",
       "      <th>mortality_rate</th>\n",
       "      <th>personnel_pct</th>\n",
       "      <th>log_fundings</th>\n",
       "    </tr>\n",
       "  </thead>\n",
       "  <tbody>\n",
       "    <tr>\n",
       "      <th>0</th>\n",
       "      <td>Alabama</td>\n",
       "      <td>1245880.0</td>\n",
       "      <td>17387.0</td>\n",
       "      <td>12631.0</td>\n",
       "      <td>46.81</td>\n",
       "      <td>46875.0</td>\n",
       "      <td>5024279.0</td>\n",
       "      <td>0.484509</td>\n",
       "      <td>0.003461</td>\n",
       "      <td>0.002514</td>\n",
       "      <td>3.846097</td>\n",
       "    </tr>\n",
       "    <tr>\n",
       "      <th>1</th>\n",
       "      <td>Wyoming</td>\n",
       "      <td>149842.0</td>\n",
       "      <td>1650.0</td>\n",
       "      <td>1239.0</td>\n",
       "      <td>28.74</td>\n",
       "      <td>66832.0</td>\n",
       "      <td>576851.0</td>\n",
       "      <td>0.501783</td>\n",
       "      <td>0.002860</td>\n",
       "      <td>0.002148</td>\n",
       "      <td>3.358290</td>\n",
       "    </tr>\n",
       "    <tr>\n",
       "      <th>2</th>\n",
       "      <td>Mississippi</td>\n",
       "      <td>751862.0</td>\n",
       "      <td>11250.0</td>\n",
       "      <td>6954.0</td>\n",
       "      <td>15.90</td>\n",
       "      <td>39347.0</td>\n",
       "      <td>2961279.0</td>\n",
       "      <td>0.505736</td>\n",
       "      <td>0.003799</td>\n",
       "      <td>0.002348</td>\n",
       "      <td>2.766319</td>\n",
       "    </tr>\n",
       "    <tr>\n",
       "      <th>3</th>\n",
       "      <td>Idaho</td>\n",
       "      <td>391067.0</td>\n",
       "      <td>4479.0</td>\n",
       "      <td>3265.0</td>\n",
       "      <td>84.95</td>\n",
       "      <td>48033.0</td>\n",
       "      <td>1839106.0</td>\n",
       "      <td>0.509614</td>\n",
       "      <td>0.002435</td>\n",
       "      <td>0.001775</td>\n",
       "      <td>4.442063</td>\n",
       "    </tr>\n",
       "    <tr>\n",
       "      <th>4</th>\n",
       "      <td>Louisiana</td>\n",
       "      <td>1133482.0</td>\n",
       "      <td>15905.0</td>\n",
       "      <td>14458.0</td>\n",
       "      <td>25.58</td>\n",
       "      <td>53996.0</td>\n",
       "      <td>4657757.0</td>\n",
       "      <td>0.519576</td>\n",
       "      <td>0.003415</td>\n",
       "      <td>0.003104</td>\n",
       "      <td>3.241811</td>\n",
       "    </tr>\n",
       "    <tr>\n",
       "      <th>5</th>\n",
       "      <td>Tennessee</td>\n",
       "      <td>1927022.0</td>\n",
       "      <td>22994.0</td>\n",
       "      <td>19737.0</td>\n",
       "      <td>55.38</td>\n",
       "      <td>55532.0</td>\n",
       "      <td>6910840.0</td>\n",
       "      <td>0.522921</td>\n",
       "      <td>0.003327</td>\n",
       "      <td>0.002856</td>\n",
       "      <td>4.014219</td>\n",
       "    </tr>\n",
       "    <tr>\n",
       "      <th>6</th>\n",
       "      <td>Georgia</td>\n",
       "      <td>2403125.0</td>\n",
       "      <td>33402.0</td>\n",
       "      <td>26470.0</td>\n",
       "      <td>27.78</td>\n",
       "      <td>59465.0</td>\n",
       "      <td>10711908.0</td>\n",
       "      <td>0.526237</td>\n",
       "      <td>0.003118</td>\n",
       "      <td>0.002471</td>\n",
       "      <td>3.324316</td>\n",
       "    </tr>\n",
       "    <tr>\n",
       "      <th>7</th>\n",
       "      <td>North Dakota</td>\n",
       "      <td>230604.0</td>\n",
       "      <td>2130.0</td>\n",
       "      <td>2179.0</td>\n",
       "      <td>61.44</td>\n",
       "      <td>74032.0</td>\n",
       "      <td>779094.0</td>\n",
       "      <td>0.529029</td>\n",
       "      <td>0.002734</td>\n",
       "      <td>0.002797</td>\n",
       "      <td>4.118061</td>\n",
       "    </tr>\n",
       "    <tr>\n",
       "      <th>8</th>\n",
       "      <td>Indiana</td>\n",
       "      <td>1646937.0</td>\n",
       "      <td>21712.0</td>\n",
       "      <td>17339.0</td>\n",
       "      <td>15.00</td>\n",
       "      <td>56729.0</td>\n",
       "      <td>6785528.0</td>\n",
       "      <td>0.530063</td>\n",
       "      <td>0.003200</td>\n",
       "      <td>0.002555</td>\n",
       "      <td>2.708050</td>\n",
       "    </tr>\n",
       "    <tr>\n",
       "      <th>9</th>\n",
       "      <td>Arkansas</td>\n",
       "      <td>794342.0</td>\n",
       "      <td>9831.0</td>\n",
       "      <td>7666.0</td>\n",
       "      <td>45.90</td>\n",
       "      <td>43691.0</td>\n",
       "      <td>3011524.0</td>\n",
       "      <td>0.530205</td>\n",
       "      <td>0.003264</td>\n",
       "      <td>0.002546</td>\n",
       "      <td>3.826465</td>\n",
       "    </tr>\n",
       "    <tr>\n",
       "      <th>10</th>\n",
       "      <td>Missouri</td>\n",
       "      <td>1357079.0</td>\n",
       "      <td>17601.0</td>\n",
       "      <td>21723.0</td>\n",
       "      <td>7.06</td>\n",
       "      <td>53818.0</td>\n",
       "      <td>6154913.0</td>\n",
       "      <td>0.543711</td>\n",
       "      <td>0.002860</td>\n",
       "      <td>0.003529</td>\n",
       "      <td>1.954445</td>\n",
       "    </tr>\n",
       "    <tr>\n",
       "      <th>11</th>\n",
       "      <td>Montana</td>\n",
       "      <td>250029.0</td>\n",
       "      <td>3031.0</td>\n",
       "      <td>2346.0</td>\n",
       "      <td>18.91</td>\n",
       "      <td>49856.0</td>\n",
       "      <td>1084225.0</td>\n",
       "      <td>0.546380</td>\n",
       "      <td>0.002796</td>\n",
       "      <td>0.002164</td>\n",
       "      <td>2.939691</td>\n",
       "    </tr>\n",
       "    <tr>\n",
       "      <th>12</th>\n",
       "      <td>Oklahoma</td>\n",
       "      <td>995546.0</td>\n",
       "      <td>12193.0</td>\n",
       "      <td>9922.0</td>\n",
       "      <td>55.89</td>\n",
       "      <td>49445.0</td>\n",
       "      <td>3959353.0</td>\n",
       "      <td>0.553145</td>\n",
       "      <td>0.003080</td>\n",
       "      <td>0.002506</td>\n",
       "      <td>4.023385</td>\n",
       "    </tr>\n",
       "    <tr>\n",
       "      <th>13</th>\n",
       "      <td>Kentucky</td>\n",
       "      <td>1193783.0</td>\n",
       "      <td>13063.0</td>\n",
       "      <td>12397.0</td>\n",
       "      <td>35.89</td>\n",
       "      <td>48484.0</td>\n",
       "      <td>4505836.0</td>\n",
       "      <td>0.553910</td>\n",
       "      <td>0.002899</td>\n",
       "      <td>0.002751</td>\n",
       "      <td>3.580459</td>\n",
       "    </tr>\n",
       "    <tr>\n",
       "      <th>14</th>\n",
       "      <td>South Carolina</td>\n",
       "      <td>1405271.0</td>\n",
       "      <td>15793.0</td>\n",
       "      <td>13729.0</td>\n",
       "      <td>27.51</td>\n",
       "      <td>48138.0</td>\n",
       "      <td>5118425.0</td>\n",
       "      <td>0.554945</td>\n",
       "      <td>0.003086</td>\n",
       "      <td>0.002682</td>\n",
       "      <td>3.314550</td>\n",
       "    </tr>\n",
       "    <tr>\n",
       "      <th>15</th>\n",
       "      <td>West Virginia</td>\n",
       "      <td>463357.0</td>\n",
       "      <td>5846.0</td>\n",
       "      <td>6007.0</td>\n",
       "      <td>62.83</td>\n",
       "      <td>42614.0</td>\n",
       "      <td>1793716.0</td>\n",
       "      <td>0.562774</td>\n",
       "      <td>0.003259</td>\n",
       "      <td>0.003349</td>\n",
       "      <td>4.140433</td>\n",
       "    </tr>\n",
       "    <tr>\n",
       "      <th>16</th>\n",
       "      <td>Ohio</td>\n",
       "      <td>2610125.0</td>\n",
       "      <td>34217.0</td>\n",
       "      <td>45191.0</td>\n",
       "      <td>15.80</td>\n",
       "      <td>59566.0</td>\n",
       "      <td>11799448.0</td>\n",
       "      <td>0.564819</td>\n",
       "      <td>0.002900</td>\n",
       "      <td>0.003830</td>\n",
       "      <td>2.760010</td>\n",
       "    </tr>\n",
       "    <tr>\n",
       "      <th>17</th>\n",
       "      <td>Michigan</td>\n",
       "      <td>2295050.0</td>\n",
       "      <td>32873.0</td>\n",
       "      <td>41857.0</td>\n",
       "      <td>17.30</td>\n",
       "      <td>53590.0</td>\n",
       "      <td>10077331.0</td>\n",
       "      <td>0.579541</td>\n",
       "      <td>0.003262</td>\n",
       "      <td>0.004154</td>\n",
       "      <td>2.850707</td>\n",
       "    </tr>\n",
       "    <tr>\n",
       "      <th>18</th>\n",
       "      <td>Nevada</td>\n",
       "      <td>665211.0</td>\n",
       "      <td>9144.0</td>\n",
       "      <td>6442.0</td>\n",
       "      <td>12.19</td>\n",
       "      <td>58452.0</td>\n",
       "      <td>3104614.0</td>\n",
       "      <td>0.583393</td>\n",
       "      <td>0.002945</td>\n",
       "      <td>0.002075</td>\n",
       "      <td>2.500616</td>\n",
       "    </tr>\n",
       "    <tr>\n",
       "      <th>19</th>\n",
       "      <td>Iowa</td>\n",
       "      <td>729700.0</td>\n",
       "      <td>8657.0</td>\n",
       "      <td>9224.0</td>\n",
       "      <td>85.37</td>\n",
       "      <td>62283.0</td>\n",
       "      <td>3271616.0</td>\n",
       "      <td>0.583955</td>\n",
       "      <td>0.002646</td>\n",
       "      <td>0.002819</td>\n",
       "      <td>4.446995</td>\n",
       "    </tr>\n",
       "    <tr>\n",
       "      <th>20</th>\n",
       "      <td>Texas</td>\n",
       "      <td>6369286.0</td>\n",
       "      <td>79412.0</td>\n",
       "      <td>68143.0</td>\n",
       "      <td>20.41</td>\n",
       "      <td>62712.0</td>\n",
       "      <td>29145505.0</td>\n",
       "      <td>0.588584</td>\n",
       "      <td>0.002725</td>\n",
       "      <td>0.002338</td>\n",
       "      <td>3.016025</td>\n",
       "    </tr>\n",
       "    <tr>\n",
       "      <th>21</th>\n",
       "      <td>Kansas</td>\n",
       "      <td>744493.0</td>\n",
       "      <td>7716.0</td>\n",
       "      <td>8223.0</td>\n",
       "      <td>14.73</td>\n",
       "      <td>61076.0</td>\n",
       "      <td>2937880.0</td>\n",
       "      <td>0.588844</td>\n",
       "      <td>0.002626</td>\n",
       "      <td>0.002799</td>\n",
       "      <td>2.689886</td>\n",
       "    </tr>\n",
       "  </tbody>\n",
       "</table>\n",
       "</div>"
      ],
      "text/plain": [
       "             State  Total Cases  Total Deaths  total_personnels_counts  \\\n",
       "0          Alabama    1245880.0       17387.0                  12631.0   \n",
       "1          Wyoming     149842.0        1650.0                   1239.0   \n",
       "2      Mississippi     751862.0       11250.0                   6954.0   \n",
       "3            Idaho     391067.0        4479.0                   3265.0   \n",
       "4        Louisiana    1133482.0       15905.0                  14458.0   \n",
       "5        Tennessee    1927022.0       22994.0                  19737.0   \n",
       "6          Georgia    2403125.0       33402.0                  26470.0   \n",
       "7     North Dakota     230604.0        2130.0                   2179.0   \n",
       "8          Indiana    1646937.0       21712.0                  17339.0   \n",
       "9         Arkansas     794342.0        9831.0                   7666.0   \n",
       "10        Missouri    1357079.0       17601.0                  21723.0   \n",
       "11         Montana     250029.0        3031.0                   2346.0   \n",
       "12        Oklahoma     995546.0       12193.0                   9922.0   \n",
       "13        Kentucky    1193783.0       13063.0                  12397.0   \n",
       "14  South Carolina    1405271.0       15793.0                  13729.0   \n",
       "15   West Virginia     463357.0        5846.0                   6007.0   \n",
       "16            Ohio    2610125.0       34217.0                  45191.0   \n",
       "17        Michigan    2295050.0       32873.0                  41857.0   \n",
       "18          Nevada     665211.0        9144.0                   6442.0   \n",
       "19            Iowa     729700.0        8657.0                   9224.0   \n",
       "20           Texas    6369286.0       79412.0                  68143.0   \n",
       "21          Kansas     744493.0        7716.0                   8223.0   \n",
       "\n",
       "    fundings_per_person      gdp  whole_population  vaccination_rate  \\\n",
       "0                 46.81  46875.0         5024279.0          0.484509   \n",
       "1                 28.74  66832.0          576851.0          0.501783   \n",
       "2                 15.90  39347.0         2961279.0          0.505736   \n",
       "3                 84.95  48033.0         1839106.0          0.509614   \n",
       "4                 25.58  53996.0         4657757.0          0.519576   \n",
       "5                 55.38  55532.0         6910840.0          0.522921   \n",
       "6                 27.78  59465.0        10711908.0          0.526237   \n",
       "7                 61.44  74032.0          779094.0          0.529029   \n",
       "8                 15.00  56729.0         6785528.0          0.530063   \n",
       "9                 45.90  43691.0         3011524.0          0.530205   \n",
       "10                 7.06  53818.0         6154913.0          0.543711   \n",
       "11                18.91  49856.0         1084225.0          0.546380   \n",
       "12                55.89  49445.0         3959353.0          0.553145   \n",
       "13                35.89  48484.0         4505836.0          0.553910   \n",
       "14                27.51  48138.0         5118425.0          0.554945   \n",
       "15                62.83  42614.0         1793716.0          0.562774   \n",
       "16                15.80  59566.0        11799448.0          0.564819   \n",
       "17                17.30  53590.0        10077331.0          0.579541   \n",
       "18                12.19  58452.0         3104614.0          0.583393   \n",
       "19                85.37  62283.0         3271616.0          0.583955   \n",
       "20                20.41  62712.0        29145505.0          0.588584   \n",
       "21                14.73  61076.0         2937880.0          0.588844   \n",
       "\n",
       "    mortality_rate  personnel_pct  log_fundings  \n",
       "0         0.003461       0.002514      3.846097  \n",
       "1         0.002860       0.002148      3.358290  \n",
       "2         0.003799       0.002348      2.766319  \n",
       "3         0.002435       0.001775      4.442063  \n",
       "4         0.003415       0.003104      3.241811  \n",
       "5         0.003327       0.002856      4.014219  \n",
       "6         0.003118       0.002471      3.324316  \n",
       "7         0.002734       0.002797      4.118061  \n",
       "8         0.003200       0.002555      2.708050  \n",
       "9         0.003264       0.002546      3.826465  \n",
       "10        0.002860       0.003529      1.954445  \n",
       "11        0.002796       0.002164      2.939691  \n",
       "12        0.003080       0.002506      4.023385  \n",
       "13        0.002899       0.002751      3.580459  \n",
       "14        0.003086       0.002682      3.314550  \n",
       "15        0.003259       0.003349      4.140433  \n",
       "16        0.002900       0.003830      2.760010  \n",
       "17        0.003262       0.004154      2.850707  \n",
       "18        0.002945       0.002075      2.500616  \n",
       "19        0.002646       0.002819      4.446995  \n",
       "20        0.002725       0.002338      3.016025  \n",
       "21        0.002626       0.002799      2.689886  "
      ]
     },
     "execution_count": 54,
     "metadata": {},
     "output_type": "execute_result"
    }
   ],
   "source": [
    "low_22"
   ]
  },
  {
   "cell_type": "markdown",
   "metadata": {},
   "source": [
    "We can see from above, for states with the lowest 22 vaccination rate, the p-value is 0.052 which is slightly higher than $\\alpha$. For states with the lowest 23 vaccination rate, the p-value is lower than $\\alpha$. We can say that when vaccination rate is lower than 0.5888, vaccination rate has no realationship with mortality rate."
   ]
  },
  {
   "cell_type": "markdown",
   "metadata": {},
   "source": [
    "In conclusion, vaccination rate has negative linear relationship with mortality rate, but when vaccination rate is low enough, mortality rate will not be affected by vaccination rate.\n",
    "Besides, vaccination rate is indeed a confounding variable. However, mortality rate and percentage of medical personnel still have no relationship when we control for vaccination rate."
   ]
  },
  {
   "cell_type": "markdown",
   "metadata": {},
   "source": [
    "# Ethics & Privacy"
   ]
  },
  {
   "cell_type": "markdown",
   "metadata": {},
   "source": [
    "The majority of the data we collect does not have biases, privacy, or terms of use issues. The dataset of COVID-19 deaths, medical personnel in the United States, and the population of each state in the US are all publicly available and open to use. The data of COVID-19 deaths on the Centers for Disease Control and Prevention website are collected from reports by the state governments. There might not be much ethical concern with how state governments collect the number of COVID deaths. The data of medical personnel on the Kaiser Family Foundation website are collected from the Bureau of Labor Statistics, which is a government agency. Therefore, the data are probably from licensed sources. The data of the population in the US by state on the Infoplease website are collected from the US Census Bureau. Since the Census Bureau is a government agency, its data are not likely to violate privacy laws or exclude certain populations. The data of healthcare fundings on the State Health Compare website are collected from Trust for America's Health, which claims to be a non-profit organization that advocates healthcare policies. It is not clear if these data are free of biases or privacy issues. The data of GDP per capita on Wikipedia are collected from the Bureau of Economic Analysis, which is a government agency, so the data have little ethical or privacy concerns. The data of vaccination rate on the Becker's Hospital Review website are collected from the CDC, which is a government agency, so the data are not likely to violate any privacy or terms of use policies.\n",
    "\n",
    "To protect our data from biases and privacy issues, we can utilize various sources instead of relying on a particular kind of source. We can compare the data from different sources to ensure no certain populations are excluded. If we cannot find multiple sources, we should acknowledge the potential biases and privacy issues in our data. "
   ]
  },
  {
   "cell_type": "markdown",
   "metadata": {},
   "source": [
    "# Conclusion & Discussion"
   ]
  },
  {
   "cell_type": "markdown",
   "metadata": {},
   "source": [
    "### Discussion\n",
    "Initially, our intuition told us if there was larger percentage of medical personnel in a region, then the mortality rate of COVID-19 should be lower as more doctors and nurses could take care of all the patients. However, our analysis had shown an entirely differently outcome. By doing linear regression on these two variables, the p value was too large so that we failed to prove there was a relationship between medical personnel and the mortality rate. What’s more, the R-squared value was too low indicating the model was not reliable at all. In this case, we don’t simply stop and make conclusion about it. Instead, we did a 5-fold cross validation to check the mean of R – squared values. After doing the cross validation, the result was negative, indicating a failure in doing linear regression between two variables. To explain this, we concluded several possible reasons: due to the limitation of the amount of data (as we only have one data for each state), a linear regression model could not fit very well to show the relation. Or, the percentage of medical personnel in US is already at a sufficiently very high level, that minor difference between each state won’t change the mortality. \n",
    "<br><br>\n",
    "Although we didn’t obtain a result from two variables test, we could add some more features to our linear regression model. One thing we can immediately think of is the health care funding. Health care funding is usually regarded one of the most important factors that may influence the medical level of a region. From our perspective, it will not only affect the number of medical personnel in the given region, but also affect the mortality rate of COVID-19. From the result of our linear regression model, it showed that there is a direct relationship between mortality rate and health care funding. What’s more, when we were doing multi-variable linear regression for mortality rate with funding and personnel, the p value for personnel was still very large. In this case, we actually discovered a relationship between health care funding and COVID-19 mortality, which was accordant with our expectation.<br>\n",
    "<br>\n",
    "Though the regression line showed a slightly negative slope in the scatter plot of GDP per capita vs. COVID mortality rate of each state generated using lmplot, we did not find a significant relationship between these two variables after further examination. Though the p-value is low in the ordinary least square regression on GDP per capita vs. COVID mortality rate, the coefficient and $r^2$ are both low. This means GDP per capita of a state does not have a strong and direct influence on the COVID mortality rate of that state, probably because we do not have a large amount of data. Next, the mutilinear regression shows a high p-value, low $r^2$ value and low coefficient value. This indicates GDP per capita is not a confounding variable in the relationship between COVID mortality rate and the percentage of medical personnel. Then, we performed a 5-fold cross validation on GDP per capita and COVID mortality rate. However, the average $r^2$ value turns out to be even lower than the $r^2$ value obtained in the ordinary least square regression. This probably shows that a cross validation of linear regression is not a good model for GDP per capita and COVID mortality rate.\n",
    "<br><br>\n",
    "The regression line showed a slightly negative slope in the scatter plot of vaccination rate vs. COVID mortality rate of each state generated using lmplot, so we continue to do more analysis. Though the p-value is low in the ordinary least square regression on GDP per capita vs. COVID mortality rate, the coefficient and $r^2$ are both low. Since the p-value is low and the coefficient is negative in the ordinary least square regression on vaccination rate vs. COVID mortality rate, we observed a negative relationship between the two variables. Next, in a mutilinear regression, we found a higher $r^2$ value, which indicates that vaccination rate is a confounding variable in the relationship between COVID mortality rate and the percentage of medical personnel. We further our analysis by examining the states with top 20 vaccination rate. However, we did not find a significant relationship between the two variables due to high p-value and low $r^2$ value. In further examination, we failed to find the splitting point in the COVID mortality rate in the states with top 20 vaccination rate, probably because of the small amount of data we have.\n"
   ]
  },
  {
   "cell_type": "markdown",
   "metadata": {},
   "source": [
    "### Conclusion\n",
    "After performing our exploratory data analysis, we cannot conclude that there is a negative relationship between medical personnel percentage and COVID-19 mortality rate. However, we were able to show that one of our possible confounding variables, the vaccination rate in each state, did have an effect on the state’s mortality rate. \n",
    "\n",
    "In our analysis, we used OLS linear regression, 5-folds cross validation, and OLS multilinear regression.\n",
    "\n",
    "We found that the R-squared values for the relationship between the percentage of medical personnels and COVID mortality rate is low while the p-value of the slope coefficient is high when  using simple linear regression. We assumed that the linear regression model was probably not the best choice to use in our analysis. Therefore, we decided to perform a 5-folds cross validation on percent of medical personnels and COVID mortality rate. However, the R-squared value is even smaller.\n",
    "\n",
    "We also tried to add more variables to our model to see if multilinear regression will be a better fit. By performing multilinear regressions, we observed that our confounding variables do have some impact on the relationship between percentage of medical personnel and COVID mortality rate. However, when we perform linear regression on each of our confounding variables and COVID mortality rate, we found that the R-squared values of the relationship between the log of healthcare funding per person and the GDP per capita vs. COVID mortality rates are quite low. Therefore, although the p-value for the slope coefficient for both variables are below our critical value, we believe that we don’t have enough evidence to conclude that healthcare funding per person and GDP per capita significantly influenced the relationship between percent of medical personnels  and COVID mortality rate.\n",
    "\n",
    "The most important finding in our analysis is that we got a R-squared value large enough to conclude that there is a negative linear relationship between vaccination rate and mortality rate by using OLS linear regression model. We think that vaccination rate can be an intermediate influencer that would significantly affect the relationship between the percentage of medical personnels and COVID mortality rate.\n",
    "\n",
    "We fail to find a relationship between medical personnel percentage and COVID mortality rate probably because of the limited amount of data we have. For follow-up work, we can increase the size of the dataset by analyzing data in each county in the U.S. In this way, we may find a more accurate relationship between medical personnel percentage and COVID mortality rate and the influence of possible confounding variables."
   ]
  },
  {
   "cell_type": "markdown",
   "metadata": {},
   "source": [
    "# Team Contributions"
   ]
  },
  {
   "cell_type": "markdown",
   "metadata": {},
   "source": [
    "- Yujia Wang: Dataset, analysis of health care fundings, conclusion.\n",
    "- Zhaojin Yin: Background information, analysis of medical personnel percentage, K-fold cross validation coding, discussion.\n",
    "- Aolei Cao: Overview, research question, hypothesis, analysis of vaccination rate.\n",
    "- Zikang Chen: Ethics & privacy, analysis of GDP per capita, discussion."
   ]
  },
  {
   "cell_type": "code",
   "execution_count": null,
   "metadata": {},
   "outputs": [],
   "source": []
  }
 ],
 "metadata": {
  "kernelspec": {
   "display_name": "Python 3 (ipykernel)",
   "language": "python",
   "name": "python3"
  },
  "language_info": {
   "codemirror_mode": {
    "name": "ipython",
    "version": 3
   },
   "file_extension": ".py",
   "mimetype": "text/x-python",
   "name": "python",
   "nbconvert_exporter": "python",
   "pygments_lexer": "ipython3",
   "version": "3.9.7"
  }
 },
 "nbformat": 4,
 "nbformat_minor": 2
}
