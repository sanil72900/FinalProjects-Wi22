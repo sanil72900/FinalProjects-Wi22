{
 "cells": [
  {
   "cell_type": "markdown",
   "metadata": {},
   "source": [
    "# COGS 108 - Final Project Group 065\n",
    "## Case study on fast food restaraurants and obesity rate in the U.S."
   ]
  },
  {
   "cell_type": "markdown",
   "metadata": {},
   "source": [
    "[Project Video](https://youtu.be/j4ahmlXj3WE)"
   ]
  },
  {
   "cell_type": "markdown",
   "metadata": {},
   "source": [
    "## Permissions\n",
    "\n",
    "Place an `X` in the appropriate bracket below to specify if you would like your group's project to be made available to the public. (Note that student names will be included (but PIDs will be scraped from any groups who include their PIDs).\n",
    "\n",
    "* [x] YES - make available\n",
    "* [  ] NO - keep private"
   ]
  },
  {
   "cell_type": "markdown",
   "metadata": {},
   "source": [
    "# Overview"
   ]
  },
  {
   "cell_type": "markdown",
   "metadata": {},
   "source": [
    "Fast-food restaurants are ubiquitious in today's world. The more access to fast-food restaurants result to higher fast food consumption. In our case study, we are looking to see if there is a positive correlation between obesity rate and the number of fast food accross each states in the U.S. In order to come up with a result, we look at the top 5 states with the most and least fast-food restaurants and compare their obesity rate. We use choropleth as our visualizations to show the number of fast-food restaurants and obesity rate in the U.S. The darker the color in certain state, the higher the number/density of fast-food restaurants and/or obesity rate in those states. Furthermore, we used the Linear Regression summary to see and conclude the correlation between fast-food restaurants and obesity in U.S. states. "
   ]
  },
  {
   "cell_type": "markdown",
   "metadata": {},
   "source": [
    "# Names\n",
    "\n",
    "- Them Dang\n",
    "- Thanh Bui\n",
    "- Ruthvicsai Sivakimar\n",
    "- Noah Simpson\n",
    "- Alexis Cortes"
   ]
  },
  {
   "cell_type": "markdown",
   "metadata": {},
   "source": [
    "<a id='research_question'></a>\n",
    "# Research Question"
   ]
  },
  {
   "cell_type": "markdown",
   "metadata": {},
   "source": [
    "Is there a relationship between obesity rate and number of fast food restaurants across states in the U.S.?"
   ]
  },
  {
   "cell_type": "markdown",
   "metadata": {},
   "source": [
    "<a id='background'></a>\n",
    "\n",
    "## Background & Prior Work"
   ]
  },
  {
   "cell_type": "markdown",
   "metadata": {},
   "source": [
    "Fast-food restaurants are ubiquitous in today’s world. Excessive access to fast-food restaurants is associated with more fast-food consumption. Fast foods contain extremely high energy density, which is positively related to obesity weight gain. In 2016, more than 30% of adults and 18% of children reported having obesity [4]. Obesity can lead to other health problems, especially in childhood. According to the World Health Organization (WHO) [1], at least 2.8 million people die from complications due to obesity, globally, each year. We want to know to what extent fast food and its prevalence plays a role.\n",
    "\n",
    "A study [2] on fast food consumption and obesity in the two largest universities in Qom, the center of Iran, took place to study the relationships between different types of fast food and obesity. It was found that the consumption of sandwiches, fried chicken, and pizza were associated with obesity based on the BMI results. Fried food and hotdogs are two commonly eaten fast foods that have been associated with the risk of weight gain. The study also found that general obesity is more common or higher in females compared to males.\n",
    "\n",
    "With the relationship fast food in itself has with obesity established, we are also interested if the number of fast food restaurants in a certain area also plays a factor with rates of obesity. We believe that the number of fast food restaurants in an area has a positive correlation with the rates of obesity in that given area.\n",
    "\n",
    "A study [5] on fast food and obesity in the United Kingdom looks at the relation between fast food consumption and obesity level, with a focus on children aged 13-15. The study shows that higher consumption of fast food results in higher BMI (Body Mass Index), body fat percentage, and “increased the odds of being obese.” However, the study reveals, “...the accessibility of outlets and consumptions” varies over space. We want to further explore how the accessibility and abundance of fast food restaurants affects rates of obesity.\n",
    "\n",
    "\n",
    "References:\n",
    " 1. [Obesity](https://www.who.int/news-room/facts-in-pictures/detail/6-facts-on-obesity)\n",
    " 2. [Fast food consumption and overweight/obesity prevalence in students and its association with general and abdominal obesity](https://www.ncbi.nlm.nih.gov/pmc/articles/PMC6196377/)\n",
    " 3. [The relationship between obesity and the prevalence of fast food restaurants: state-level analysis](https://pubmed.ncbi.nlm.nih.gov/15559714/)\n",
    " 4. [Fast-food restaurant, unhealthy eating, and childhood obesity: A systematic review and meta-analysis](https://doi.org/10.1111/obr.12944)\n",
    " 5. [Fast food and obesity: a spatial analysis in a large United Kingdom population of children aged 13-15](https://pubmed.ncbi.nlm.nih.gov/22516506/)"
   ]
  },
  {
   "cell_type": "markdown",
   "metadata": {},
   "source": [
    "# Hypothesis\n"
   ]
  },
  {
   "cell_type": "markdown",
   "metadata": {},
   "source": [
    "We will look at top 5 states with the most and least number of fast food restaurants and compare their obesity level. <br>\n",
    "Similar to the old hypothesis, we still believe that areas with higher volumne of fast food restaurants will have a higher rates of obesity compared to the areas with lower volumes of fast food restaurants. People nowaday are very busy, have little time to cook at home. Since the higher volumes of fast food restaurants can result to easy access to low-medium price food, hence people will more likely to buy outside food and either eat indoor or togo their food home. On the other hand, Obese people may eat more fastfood, which could also result in more fast-food restaurants in the area due to higher demand. "
   ]
  },
  {
   "cell_type": "markdown",
   "metadata": {},
   "source": [
    "# Dataset(s)"
   ]
  },
  {
   "cell_type": "markdown",
   "metadata": {},
   "source": [
    "- **Dataset Name:** us_obesity.csv\n",
    "- **Link to the dataset:** [Obesity Dataset](https://chronicdata.cdc.gov/Nutrition-Physical-Activity-and-Obesity/Nutrition-Physical-Activity-and-Obesity-Behavioral/hn4x-zwk7/data)\n",
    "- **Number of observation:** 80929 <br>\n",
    "**Description:** <br>\n",
    "This dataset contains data from 2011-2020 with multiple classes, including *Physical Activity, Obesity, and Fruits and Vegetables*. However, we are looking at the Obesity in each state, so we will need to do some data cleaning here. "
   ]
  },
  {
   "cell_type": "markdown",
   "metadata": {},
   "source": [
    "- **Dataset Name:** Fast_Food_Restaurant_US.csv\n",
    "- **Link to the dataset:** [U.S. Fast Food Restaurants Dataset](https://www.kaggle.com/khushishahh/fast-food-restaurants-across-us?select=Fast_Food_Restaurants_US.csv)\n",
    "- **Number of observation:** 10000 <br>\n",
    "**Description:** <br>\n",
    "This dataset consists of many different fast food restaurants around the U.S. We can use this dataset to filter by states, look at the top 5 states with the most and least number of fast food restaurants. Then compare the different obesity level of those states. <br>\n",
    "*We think this dataset can be combine with us_obesity.csv dataset to find the relation between different states and their obesity level.*"
   ]
  },
  {
   "cell_type": "markdown",
   "metadata": {},
   "source": [
    "- **Dataset Name:** 2019_census_population_state.csv\n",
    "- **Link to the dataset:** [U.S. 2019 Census Population Dataset](https://www.kaggle.com/peretzcohen/2019-census-us-population-data-by-state)\n",
    "- **Number of observation:** 51 <br>\n",
    "**Description:** <br>\n",
    "This dataset contains the population estimate and capital location of all states in the US up to 2019. <br>"
   ]
  },
  {
   "cell_type": "markdown",
   "metadata": {},
   "source": [
    "We will combine all three datasets into one final dataframe to create visuals and do prediction. All the datasets will be catagorized by states. The top 5 states with the most and least and most number of Fast Food Restaurants will be extracted and all the three datasets corresponding to those states will be combined into one dataset. The raw values in the datasets will be used as well as calulated values such as per capita. "
   ]
  },
  {
   "cell_type": "markdown",
   "metadata": {},
   "source": [
    "# Setup"
   ]
  },
  {
   "cell_type": "code",
   "execution_count": 1,
   "metadata": {},
   "outputs": [],
   "source": [
    "# import pandas & numpy library\n",
    "import numpy as np\n",
    "import pandas as pd\n",
    "\n",
    "# import plotly for visualization \n",
    "import plotly.express as px\n",
    "import seaborn as sns\n",
    "sns.set(font_scale=1.5, style=\"white\")\n",
    "\n",
    "# Statmodels & patsy\n",
    "import patsy\n",
    "import statsmodels.api as sm"
   ]
  },
  {
   "cell_type": "markdown",
   "metadata": {},
   "source": [
    "## Read CSV and look at the content inside"
   ]
  },
  {
   "cell_type": "markdown",
   "metadata": {},
   "source": [
    "### Fast Food Restaurants in U.S. Dataset"
   ]
  },
  {
   "cell_type": "code",
   "execution_count": 2,
   "metadata": {},
   "outputs": [
    {
     "data": {
      "text/html": [
       "<div>\n",
       "<style scoped>\n",
       "    .dataframe tbody tr th:only-of-type {\n",
       "        vertical-align: middle;\n",
       "    }\n",
       "\n",
       "    .dataframe tbody tr th {\n",
       "        vertical-align: top;\n",
       "    }\n",
       "\n",
       "    .dataframe thead th {\n",
       "        text-align: right;\n",
       "    }\n",
       "</style>\n",
       "<table border=\"1\" class=\"dataframe\">\n",
       "  <thead>\n",
       "    <tr style=\"text-align: right;\">\n",
       "      <th></th>\n",
       "      <th>Unnamed: 0</th>\n",
       "      <th>address</th>\n",
       "      <th>categories</th>\n",
       "      <th>city</th>\n",
       "      <th>country</th>\n",
       "      <th>latitude</th>\n",
       "      <th>longitude</th>\n",
       "      <th>name</th>\n",
       "      <th>postalCode</th>\n",
       "      <th>province</th>\n",
       "      <th>websites</th>\n",
       "    </tr>\n",
       "  </thead>\n",
       "  <tbody>\n",
       "    <tr>\n",
       "      <th>0</th>\n",
       "      <td>0</td>\n",
       "      <td>800 N Canal Blvd</td>\n",
       "      <td>American Restaurant and Fast Food Restaurant</td>\n",
       "      <td>Thibodaux</td>\n",
       "      <td>US</td>\n",
       "      <td>29.814697</td>\n",
       "      <td>-90.814742</td>\n",
       "      <td>SONIC Drive In</td>\n",
       "      <td>70301</td>\n",
       "      <td>LA</td>\n",
       "      <td>https://locations.sonicdrivein.com/la/thibodau...</td>\n",
       "    </tr>\n",
       "    <tr>\n",
       "      <th>1</th>\n",
       "      <td>1</td>\n",
       "      <td>800 N Canal Blvd</td>\n",
       "      <td>Fast Food Restaurants</td>\n",
       "      <td>Thibodaux</td>\n",
       "      <td>US</td>\n",
       "      <td>29.814697</td>\n",
       "      <td>-90.814742</td>\n",
       "      <td>SONIC Drive In</td>\n",
       "      <td>70301</td>\n",
       "      <td>LA</td>\n",
       "      <td>https://locations.sonicdrivein.com/la/thibodau...</td>\n",
       "    </tr>\n",
       "    <tr>\n",
       "      <th>2</th>\n",
       "      <td>2</td>\n",
       "      <td>206 Wears Valley Rd</td>\n",
       "      <td>Fast Food Restaurant</td>\n",
       "      <td>Pigeon Forge</td>\n",
       "      <td>US</td>\n",
       "      <td>35.803788</td>\n",
       "      <td>-83.580553</td>\n",
       "      <td>Taco Bell</td>\n",
       "      <td>37863</td>\n",
       "      <td>TN</td>\n",
       "      <td>http://www.tacobell.com,https://locations.taco...</td>\n",
       "    </tr>\n",
       "    <tr>\n",
       "      <th>3</th>\n",
       "      <td>3</td>\n",
       "      <td>3652 Parkway</td>\n",
       "      <td>Fast Food</td>\n",
       "      <td>Pigeon Forge</td>\n",
       "      <td>US</td>\n",
       "      <td>35.782339</td>\n",
       "      <td>-83.551408</td>\n",
       "      <td>Arby's</td>\n",
       "      <td>37863</td>\n",
       "      <td>TN</td>\n",
       "      <td>http://www.arbys.com,https://locations.arbys.c...</td>\n",
       "    </tr>\n",
       "    <tr>\n",
       "      <th>4</th>\n",
       "      <td>4</td>\n",
       "      <td>2118 Mt Zion Parkway</td>\n",
       "      <td>Fast Food Restaurant</td>\n",
       "      <td>Morrow</td>\n",
       "      <td>US</td>\n",
       "      <td>33.562738</td>\n",
       "      <td>-84.321143</td>\n",
       "      <td>Steak 'n Shake</td>\n",
       "      <td>30260</td>\n",
       "      <td>GA</td>\n",
       "      <td>http://www.steaknshake.com/locations/23851-ste...</td>\n",
       "    </tr>\n",
       "  </tbody>\n",
       "</table>\n",
       "</div>"
      ],
      "text/plain": [
       "   Unnamed: 0               address  \\\n",
       "0           0      800 N Canal Blvd   \n",
       "1           1      800 N Canal Blvd   \n",
       "2           2   206 Wears Valley Rd   \n",
       "3           3          3652 Parkway   \n",
       "4           4  2118 Mt Zion Parkway   \n",
       "\n",
       "                                     categories          city country  \\\n",
       "0  American Restaurant and Fast Food Restaurant     Thibodaux      US   \n",
       "1                         Fast Food Restaurants     Thibodaux      US   \n",
       "2                          Fast Food Restaurant  Pigeon Forge      US   \n",
       "3                                     Fast Food  Pigeon Forge      US   \n",
       "4                          Fast Food Restaurant        Morrow      US   \n",
       "\n",
       "    latitude  longitude            name postalCode province  \\\n",
       "0  29.814697 -90.814742  SONIC Drive In      70301       LA   \n",
       "1  29.814697 -90.814742  SONIC Drive In      70301       LA   \n",
       "2  35.803788 -83.580553       Taco Bell      37863       TN   \n",
       "3  35.782339 -83.551408          Arby's      37863       TN   \n",
       "4  33.562738 -84.321143  Steak 'n Shake      30260       GA   \n",
       "\n",
       "                                            websites  \n",
       "0  https://locations.sonicdrivein.com/la/thibodau...  \n",
       "1  https://locations.sonicdrivein.com/la/thibodau...  \n",
       "2  http://www.tacobell.com,https://locations.taco...  \n",
       "3  http://www.arbys.com,https://locations.arbys.c...  \n",
       "4  http://www.steaknshake.com/locations/23851-ste...  "
      ]
     },
     "execution_count": 2,
     "metadata": {},
     "output_type": "execute_result"
    }
   ],
   "source": [
    "us_fastFood_df = pd.read_csv(\"Dataset\\Fast_Food_Restaurants_US.csv\")\n",
    "us_fastFood_df.head(5)"
   ]
  },
  {
   "cell_type": "markdown",
   "metadata": {},
   "source": [
    "### Obesity Level in the U.S. Dataset"
   ]
  },
  {
   "cell_type": "code",
   "execution_count": 3,
   "metadata": {},
   "outputs": [
    {
     "data": {
      "text/html": [
       "<div>\n",
       "<style scoped>\n",
       "    .dataframe tbody tr th:only-of-type {\n",
       "        vertical-align: middle;\n",
       "    }\n",
       "\n",
       "    .dataframe tbody tr th {\n",
       "        vertical-align: top;\n",
       "    }\n",
       "\n",
       "    .dataframe thead th {\n",
       "        text-align: right;\n",
       "    }\n",
       "</style>\n",
       "<table border=\"1\" class=\"dataframe\">\n",
       "  <thead>\n",
       "    <tr style=\"text-align: right;\">\n",
       "      <th></th>\n",
       "      <th>YearStart</th>\n",
       "      <th>YearEnd</th>\n",
       "      <th>LocationAbbr</th>\n",
       "      <th>LocationDesc</th>\n",
       "      <th>Datasource</th>\n",
       "      <th>Class</th>\n",
       "      <th>Topic</th>\n",
       "      <th>Question</th>\n",
       "      <th>Data_Value_Unit</th>\n",
       "      <th>Data_Value_Type</th>\n",
       "      <th>...</th>\n",
       "      <th>GeoLocation</th>\n",
       "      <th>ClassID</th>\n",
       "      <th>TopicID</th>\n",
       "      <th>QuestionID</th>\n",
       "      <th>DataValueTypeID</th>\n",
       "      <th>LocationID</th>\n",
       "      <th>StratificationCategory1</th>\n",
       "      <th>Stratification1</th>\n",
       "      <th>StratificationCategoryId1</th>\n",
       "      <th>StratificationID1</th>\n",
       "    </tr>\n",
       "  </thead>\n",
       "  <tbody>\n",
       "    <tr>\n",
       "      <th>0</th>\n",
       "      <td>2014</td>\n",
       "      <td>2014</td>\n",
       "      <td>GU</td>\n",
       "      <td>Guam</td>\n",
       "      <td>Behavioral Risk Factor Surveillance System</td>\n",
       "      <td>Obesity / Weight Status</td>\n",
       "      <td>Obesity / Weight Status</td>\n",
       "      <td>Percent of adults aged 18 years and older who ...</td>\n",
       "      <td>NaN</td>\n",
       "      <td>Value</td>\n",
       "      <td>...</td>\n",
       "      <td>(13.444304, 144.793731)</td>\n",
       "      <td>OWS</td>\n",
       "      <td>OWS1</td>\n",
       "      <td>Q036</td>\n",
       "      <td>VALUE</td>\n",
       "      <td>66</td>\n",
       "      <td>Education</td>\n",
       "      <td>High school graduate</td>\n",
       "      <td>EDU</td>\n",
       "      <td>EDUHSGRAD</td>\n",
       "    </tr>\n",
       "    <tr>\n",
       "      <th>1</th>\n",
       "      <td>2013</td>\n",
       "      <td>2013</td>\n",
       "      <td>US</td>\n",
       "      <td>National</td>\n",
       "      <td>Behavioral Risk Factor Surveillance System</td>\n",
       "      <td>Obesity / Weight Status</td>\n",
       "      <td>Obesity / Weight Status</td>\n",
       "      <td>Percent of adults aged 18 years and older who ...</td>\n",
       "      <td>NaN</td>\n",
       "      <td>Value</td>\n",
       "      <td>...</td>\n",
       "      <td>NaN</td>\n",
       "      <td>OWS</td>\n",
       "      <td>OWS1</td>\n",
       "      <td>Q036</td>\n",
       "      <td>VALUE</td>\n",
       "      <td>59</td>\n",
       "      <td>Income</td>\n",
       "      <td>$50,000 - $74,999</td>\n",
       "      <td>INC</td>\n",
       "      <td>INC5075</td>\n",
       "    </tr>\n",
       "    <tr>\n",
       "      <th>2</th>\n",
       "      <td>2013</td>\n",
       "      <td>2013</td>\n",
       "      <td>US</td>\n",
       "      <td>National</td>\n",
       "      <td>Behavioral Risk Factor Surveillance System</td>\n",
       "      <td>Obesity / Weight Status</td>\n",
       "      <td>Obesity / Weight Status</td>\n",
       "      <td>Percent of adults aged 18 years and older who ...</td>\n",
       "      <td>NaN</td>\n",
       "      <td>Value</td>\n",
       "      <td>...</td>\n",
       "      <td>NaN</td>\n",
       "      <td>OWS</td>\n",
       "      <td>OWS1</td>\n",
       "      <td>Q037</td>\n",
       "      <td>VALUE</td>\n",
       "      <td>59</td>\n",
       "      <td>Income</td>\n",
       "      <td>Data not reported</td>\n",
       "      <td>INC</td>\n",
       "      <td>INCNR</td>\n",
       "    </tr>\n",
       "    <tr>\n",
       "      <th>3</th>\n",
       "      <td>2015</td>\n",
       "      <td>2015</td>\n",
       "      <td>US</td>\n",
       "      <td>National</td>\n",
       "      <td>Behavioral Risk Factor Surveillance System</td>\n",
       "      <td>Physical Activity</td>\n",
       "      <td>Physical Activity - Behavior</td>\n",
       "      <td>Percent of adults who achieve at least 300 min...</td>\n",
       "      <td>NaN</td>\n",
       "      <td>Value</td>\n",
       "      <td>...</td>\n",
       "      <td>NaN</td>\n",
       "      <td>PA</td>\n",
       "      <td>PA1</td>\n",
       "      <td>Q045</td>\n",
       "      <td>VALUE</td>\n",
       "      <td>59</td>\n",
       "      <td>Income</td>\n",
       "      <td>Less than $15,000</td>\n",
       "      <td>INC</td>\n",
       "      <td>INCLESS15</td>\n",
       "    </tr>\n",
       "    <tr>\n",
       "      <th>4</th>\n",
       "      <td>2015</td>\n",
       "      <td>2015</td>\n",
       "      <td>GU</td>\n",
       "      <td>Guam</td>\n",
       "      <td>Behavioral Risk Factor Surveillance System</td>\n",
       "      <td>Physical Activity</td>\n",
       "      <td>Physical Activity - Behavior</td>\n",
       "      <td>Percent of adults who achieve at least 150 min...</td>\n",
       "      <td>NaN</td>\n",
       "      <td>Value</td>\n",
       "      <td>...</td>\n",
       "      <td>(13.444304, 144.793731)</td>\n",
       "      <td>PA</td>\n",
       "      <td>PA1</td>\n",
       "      <td>Q044</td>\n",
       "      <td>VALUE</td>\n",
       "      <td>66</td>\n",
       "      <td>Race/Ethnicity</td>\n",
       "      <td>Hispanic</td>\n",
       "      <td>RACE</td>\n",
       "      <td>RACEHIS</td>\n",
       "    </tr>\n",
       "  </tbody>\n",
       "</table>\n",
       "<p>5 rows × 33 columns</p>\n",
       "</div>"
      ],
      "text/plain": [
       "   YearStart  YearEnd LocationAbbr LocationDesc  \\\n",
       "0       2014     2014           GU         Guam   \n",
       "1       2013     2013           US     National   \n",
       "2       2013     2013           US     National   \n",
       "3       2015     2015           US     National   \n",
       "4       2015     2015           GU         Guam   \n",
       "\n",
       "                                   Datasource                    Class  \\\n",
       "0  Behavioral Risk Factor Surveillance System  Obesity / Weight Status   \n",
       "1  Behavioral Risk Factor Surveillance System  Obesity / Weight Status   \n",
       "2  Behavioral Risk Factor Surveillance System  Obesity / Weight Status   \n",
       "3  Behavioral Risk Factor Surveillance System        Physical Activity   \n",
       "4  Behavioral Risk Factor Surveillance System        Physical Activity   \n",
       "\n",
       "                          Topic  \\\n",
       "0       Obesity / Weight Status   \n",
       "1       Obesity / Weight Status   \n",
       "2       Obesity / Weight Status   \n",
       "3  Physical Activity - Behavior   \n",
       "4  Physical Activity - Behavior   \n",
       "\n",
       "                                            Question  Data_Value_Unit  \\\n",
       "0  Percent of adults aged 18 years and older who ...              NaN   \n",
       "1  Percent of adults aged 18 years and older who ...              NaN   \n",
       "2  Percent of adults aged 18 years and older who ...              NaN   \n",
       "3  Percent of adults who achieve at least 300 min...              NaN   \n",
       "4  Percent of adults who achieve at least 150 min...              NaN   \n",
       "\n",
       "  Data_Value_Type  ...              GeoLocation  ClassID TopicID QuestionID  \\\n",
       "0           Value  ...  (13.444304, 144.793731)      OWS    OWS1       Q036   \n",
       "1           Value  ...                      NaN      OWS    OWS1       Q036   \n",
       "2           Value  ...                      NaN      OWS    OWS1       Q037   \n",
       "3           Value  ...                      NaN       PA     PA1       Q045   \n",
       "4           Value  ...  (13.444304, 144.793731)       PA     PA1       Q044   \n",
       "\n",
       "   DataValueTypeID  LocationID StratificationCategory1       Stratification1  \\\n",
       "0            VALUE          66               Education  High school graduate   \n",
       "1            VALUE          59                  Income     $50,000 - $74,999   \n",
       "2            VALUE          59                  Income     Data not reported   \n",
       "3            VALUE          59                  Income     Less than $15,000   \n",
       "4            VALUE          66          Race/Ethnicity              Hispanic   \n",
       "\n",
       "  StratificationCategoryId1 StratificationID1  \n",
       "0                       EDU         EDUHSGRAD  \n",
       "1                       INC           INC5075  \n",
       "2                       INC             INCNR  \n",
       "3                       INC         INCLESS15  \n",
       "4                      RACE           RACEHIS  \n",
       "\n",
       "[5 rows x 33 columns]"
      ]
     },
     "execution_count": 3,
     "metadata": {},
     "output_type": "execute_result"
    }
   ],
   "source": [
    "us_obesity_df = pd.read_csv(\"Dataset/us_obesity.csv\")\n",
    "us_obesity_df.head(5)"
   ]
  },
  {
   "cell_type": "markdown",
   "metadata": {},
   "source": [
    "### U.S. 2019 Population"
   ]
  },
  {
   "cell_type": "code",
   "execution_count": 4,
   "metadata": {},
   "outputs": [
    {
     "data": {
      "text/html": [
       "<div>\n",
       "<style scoped>\n",
       "    .dataframe tbody tr th:only-of-type {\n",
       "        vertical-align: middle;\n",
       "    }\n",
       "\n",
       "    .dataframe tbody tr th {\n",
       "        vertical-align: top;\n",
       "    }\n",
       "\n",
       "    .dataframe thead th {\n",
       "        text-align: right;\n",
       "    }\n",
       "</style>\n",
       "<table border=\"1\" class=\"dataframe\">\n",
       "  <thead>\n",
       "    <tr style=\"text-align: right;\">\n",
       "      <th></th>\n",
       "      <th>State Abbr</th>\n",
       "      <th>STATE</th>\n",
       "      <th>POPESTIMATE2019</th>\n",
       "      <th>lat</th>\n",
       "      <th>long</th>\n",
       "    </tr>\n",
       "  </thead>\n",
       "  <tbody>\n",
       "    <tr>\n",
       "      <th>0</th>\n",
       "      <td>AL</td>\n",
       "      <td>Alabama</td>\n",
       "      <td>4903185</td>\n",
       "      <td>32.377716</td>\n",
       "      <td>-86.300568</td>\n",
       "    </tr>\n",
       "    <tr>\n",
       "      <th>1</th>\n",
       "      <td>AK</td>\n",
       "      <td>Alaska</td>\n",
       "      <td>731545</td>\n",
       "      <td>58.301598</td>\n",
       "      <td>-134.420212</td>\n",
       "    </tr>\n",
       "    <tr>\n",
       "      <th>2</th>\n",
       "      <td>AZ</td>\n",
       "      <td>Arizona</td>\n",
       "      <td>7278717</td>\n",
       "      <td>33.448143</td>\n",
       "      <td>-112.096962</td>\n",
       "    </tr>\n",
       "    <tr>\n",
       "      <th>3</th>\n",
       "      <td>AR</td>\n",
       "      <td>Arkansas</td>\n",
       "      <td>3017804</td>\n",
       "      <td>34.746613</td>\n",
       "      <td>-92.288986</td>\n",
       "    </tr>\n",
       "    <tr>\n",
       "      <th>4</th>\n",
       "      <td>CA</td>\n",
       "      <td>California</td>\n",
       "      <td>39512223</td>\n",
       "      <td>38.576668</td>\n",
       "      <td>-121.493629</td>\n",
       "    </tr>\n",
       "  </tbody>\n",
       "</table>\n",
       "</div>"
      ],
      "text/plain": [
       "  State Abbr       STATE  POPESTIMATE2019        lat        long\n",
       "0         AL     Alabama          4903185  32.377716  -86.300568\n",
       "1         AK      Alaska           731545  58.301598 -134.420212\n",
       "2         AZ     Arizona          7278717  33.448143 -112.096962\n",
       "3         AR    Arkansas          3017804  34.746613  -92.288986\n",
       "4         CA  California         39512223  38.576668 -121.493629"
      ]
     },
     "execution_count": 4,
     "metadata": {},
     "output_type": "execute_result"
    }
   ],
   "source": [
    "population_df = pd.read_csv(\"Dataset/2019_census_population_state.csv\")\n",
    "population_df.head(5)"
   ]
  },
  {
   "cell_type": "markdown",
   "metadata": {},
   "source": [
    "# Data Cleaning"
   ]
  },
  {
   "cell_type": "markdown",
   "metadata": {},
   "source": [
    "### Cleaning: US Fast Food Restaurants dataset\n",
    "For the fast food dataset, a few things were done. First, irrelevant columns were dropped from the dataset such as the date they were added/updated, the country (all US), the category  column (all values are fast food), as well as the website url and some other extraneous columns. Then, The categories column (what type of restaurant, what food they sell etc.), was split into a list. Some names were different and needed to be normalized, such as SUBWAY and subway, so that was done as well. There are also no null values in the food dataset."
   ]
  },
  {
   "cell_type": "code",
   "execution_count": 5,
   "metadata": {},
   "outputs": [
    {
     "data": {
      "text/html": [
       "<div>\n",
       "<style scoped>\n",
       "    .dataframe tbody tr th:only-of-type {\n",
       "        vertical-align: middle;\n",
       "    }\n",
       "\n",
       "    .dataframe tbody tr th {\n",
       "        vertical-align: top;\n",
       "    }\n",
       "\n",
       "    .dataframe thead th {\n",
       "        text-align: right;\n",
       "    }\n",
       "</style>\n",
       "<table border=\"1\" class=\"dataframe\">\n",
       "  <thead>\n",
       "    <tr style=\"text-align: right;\">\n",
       "      <th></th>\n",
       "      <th>address</th>\n",
       "      <th>city</th>\n",
       "      <th>latitude</th>\n",
       "      <th>longitude</th>\n",
       "      <th>name</th>\n",
       "      <th>province</th>\n",
       "    </tr>\n",
       "  </thead>\n",
       "  <tbody>\n",
       "    <tr>\n",
       "      <th>0</th>\n",
       "      <td>800 N Canal Blvd</td>\n",
       "      <td>Thibodaux</td>\n",
       "      <td>29.814697</td>\n",
       "      <td>-90.814742</td>\n",
       "      <td>sonic drive in</td>\n",
       "      <td>LA</td>\n",
       "    </tr>\n",
       "    <tr>\n",
       "      <th>2</th>\n",
       "      <td>206 Wears Valley Rd</td>\n",
       "      <td>Pigeon Forge</td>\n",
       "      <td>35.803788</td>\n",
       "      <td>-83.580553</td>\n",
       "      <td>taco bell</td>\n",
       "      <td>TN</td>\n",
       "    </tr>\n",
       "    <tr>\n",
       "      <th>3</th>\n",
       "      <td>3652 Parkway</td>\n",
       "      <td>Pigeon Forge</td>\n",
       "      <td>35.782339</td>\n",
       "      <td>-83.551408</td>\n",
       "      <td>arbys</td>\n",
       "      <td>TN</td>\n",
       "    </tr>\n",
       "    <tr>\n",
       "      <th>4</th>\n",
       "      <td>2118 Mt Zion Parkway</td>\n",
       "      <td>Morrow</td>\n",
       "      <td>33.562738</td>\n",
       "      <td>-84.321143</td>\n",
       "      <td>steak n shake</td>\n",
       "      <td>GA</td>\n",
       "    </tr>\n",
       "    <tr>\n",
       "      <th>5</th>\n",
       "      <td>9768 Grand River Ave</td>\n",
       "      <td>Detroit</td>\n",
       "      <td>42.368823</td>\n",
       "      <td>-83.138251</td>\n",
       "      <td>wendys</td>\n",
       "      <td>MI</td>\n",
       "    </tr>\n",
       "  </tbody>\n",
       "</table>\n",
       "</div>"
      ],
      "text/plain": [
       "                address          city   latitude  longitude            name  \\\n",
       "0      800 N Canal Blvd     Thibodaux  29.814697 -90.814742  sonic drive in   \n",
       "2   206 Wears Valley Rd  Pigeon Forge  35.803788 -83.580553       taco bell   \n",
       "3          3652 Parkway  Pigeon Forge  35.782339 -83.551408           arbys   \n",
       "4  2118 Mt Zion Parkway        Morrow  33.562738 -84.321143   steak n shake   \n",
       "5  9768 Grand River Ave       Detroit  42.368823 -83.138251          wendys   \n",
       "\n",
       "  province  \n",
       "0       LA  \n",
       "2       TN  \n",
       "3       TN  \n",
       "4       GA  \n",
       "5       MI  "
      ]
     },
     "execution_count": 5,
     "metadata": {},
     "output_type": "execute_result"
    }
   ],
   "source": [
    "def name_normalizer(name):\n",
    "    name = name.lower().strip()\n",
    "    name = name.replace(\"'\", \"\")\n",
    "    name = name.replace(\".\", \"\")\n",
    "    name = name.replace( \"-\", \" \")\n",
    "    return name  \n",
    "us_fastFood_df = us_fastFood_df.drop(columns = ['Unnamed: 0', 'websites', 'country', 'postalCode', 'categories'])\n",
    "us_fastFood_df.name = us_fastFood_df.name.apply(name_normalizer)\n",
    "us_fastFood_df = us_fastFood_df.drop_duplicates()\n",
    "us_fastFood_df.head()"
   ]
  },
  {
   "cell_type": "markdown",
   "metadata": {},
   "source": [
    "We will only keep these columns: <br>\n",
    "city, name, province <br>\n",
    "Since this dataset is about fast food restaurants in US, we obviously don't need the *country and categories* column. <br>\n",
    "Moreover, the address, postalCode, latitude, longitude, and websites are not necessary because we can filter by states. "
   ]
  },
  {
   "cell_type": "code",
   "execution_count": 6,
   "metadata": {},
   "outputs": [],
   "source": [
    "us_fastFood_df = us_fastFood_df.drop(['address','latitude','longitude'], axis='columns')\n",
    "us_fastFood_df = us_fastFood_df.rename(columns={'city':'US city', 'name': 'restaurant name', 'province': 'US province'})"
   ]
  },
  {
   "cell_type": "markdown",
   "metadata": {},
   "source": [
    "*Checking dataset shape*"
   ]
  },
  {
   "cell_type": "code",
   "execution_count": 7,
   "metadata": {},
   "outputs": [
    {
     "data": {
      "text/plain": [
       "(9343, 3)"
      ]
     },
     "execution_count": 7,
     "metadata": {},
     "output_type": "execute_result"
    }
   ],
   "source": [
    "us_fastFood_df.shape"
   ]
  },
  {
   "cell_type": "code",
   "execution_count": 8,
   "metadata": {},
   "outputs": [
    {
     "data": {
      "text/html": [
       "<div>\n",
       "<style scoped>\n",
       "    .dataframe tbody tr th:only-of-type {\n",
       "        vertical-align: middle;\n",
       "    }\n",
       "\n",
       "    .dataframe tbody tr th {\n",
       "        vertical-align: top;\n",
       "    }\n",
       "\n",
       "    .dataframe thead th {\n",
       "        text-align: right;\n",
       "    }\n",
       "</style>\n",
       "<table border=\"1\" class=\"dataframe\">\n",
       "  <thead>\n",
       "    <tr style=\"text-align: right;\">\n",
       "      <th></th>\n",
       "      <th>US city</th>\n",
       "      <th>restaurant name</th>\n",
       "      <th>US province</th>\n",
       "    </tr>\n",
       "  </thead>\n",
       "  <tbody>\n",
       "    <tr>\n",
       "      <th>0</th>\n",
       "      <td>Thibodaux</td>\n",
       "      <td>sonic drive in</td>\n",
       "      <td>LA</td>\n",
       "    </tr>\n",
       "    <tr>\n",
       "      <th>2</th>\n",
       "      <td>Pigeon Forge</td>\n",
       "      <td>taco bell</td>\n",
       "      <td>TN</td>\n",
       "    </tr>\n",
       "    <tr>\n",
       "      <th>3</th>\n",
       "      <td>Pigeon Forge</td>\n",
       "      <td>arbys</td>\n",
       "      <td>TN</td>\n",
       "    </tr>\n",
       "    <tr>\n",
       "      <th>4</th>\n",
       "      <td>Morrow</td>\n",
       "      <td>steak n shake</td>\n",
       "      <td>GA</td>\n",
       "    </tr>\n",
       "    <tr>\n",
       "      <th>5</th>\n",
       "      <td>Detroit</td>\n",
       "      <td>wendys</td>\n",
       "      <td>MI</td>\n",
       "    </tr>\n",
       "  </tbody>\n",
       "</table>\n",
       "</div>"
      ],
      "text/plain": [
       "        US city restaurant name US province\n",
       "0     Thibodaux  sonic drive in          LA\n",
       "2  Pigeon Forge       taco bell          TN\n",
       "3  Pigeon Forge           arbys          TN\n",
       "4        Morrow   steak n shake          GA\n",
       "5       Detroit          wendys          MI"
      ]
     },
     "execution_count": 8,
     "metadata": {},
     "output_type": "execute_result"
    }
   ],
   "source": [
    "us_fastFood_df.head(5)"
   ]
  },
  {
   "cell_type": "markdown",
   "metadata": {},
   "source": [
    "#### We want to create a new dataset for Number of Fast Food Restaurants per State"
   ]
  },
  {
   "cell_type": "code",
   "execution_count": 9,
   "metadata": {},
   "outputs": [],
   "source": [
    "us_ffr_per_state = pd.DataFrame(us_fastFood_df[['US province', 'restaurant name']].value_counts().groupby(['US province']).sum())\n",
    "us_ffr_per_state.columns = ['no. fast food restaurants']\n",
    "us_ffr_per_state = us_ffr_per_state.reset_index()"
   ]
  },
  {
   "cell_type": "code",
   "execution_count": 10,
   "metadata": {},
   "outputs": [
    {
     "data": {
      "text/html": [
       "<div>\n",
       "<style scoped>\n",
       "    .dataframe tbody tr th:only-of-type {\n",
       "        vertical-align: middle;\n",
       "    }\n",
       "\n",
       "    .dataframe tbody tr th {\n",
       "        vertical-align: top;\n",
       "    }\n",
       "\n",
       "    .dataframe thead th {\n",
       "        text-align: right;\n",
       "    }\n",
       "</style>\n",
       "<table border=\"1\" class=\"dataframe\">\n",
       "  <thead>\n",
       "    <tr style=\"text-align: right;\">\n",
       "      <th></th>\n",
       "      <th>US province</th>\n",
       "      <th>no. fast food restaurants</th>\n",
       "    </tr>\n",
       "  </thead>\n",
       "  <tbody>\n",
       "    <tr>\n",
       "      <th>0</th>\n",
       "      <td>AK</td>\n",
       "      <td>14</td>\n",
       "    </tr>\n",
       "    <tr>\n",
       "      <th>1</th>\n",
       "      <td>AL</td>\n",
       "      <td>6</td>\n",
       "    </tr>\n",
       "    <tr>\n",
       "      <th>2</th>\n",
       "      <td>AR</td>\n",
       "      <td>91</td>\n",
       "    </tr>\n",
       "    <tr>\n",
       "      <th>3</th>\n",
       "      <td>AZ</td>\n",
       "      <td>296</td>\n",
       "    </tr>\n",
       "    <tr>\n",
       "      <th>4</th>\n",
       "      <td>CA</td>\n",
       "      <td>1122</td>\n",
       "    </tr>\n",
       "    <tr>\n",
       "      <th>5</th>\n",
       "      <td>CO</td>\n",
       "      <td>137</td>\n",
       "    </tr>\n",
       "    <tr>\n",
       "      <th>6</th>\n",
       "      <td>CT</td>\n",
       "      <td>52</td>\n",
       "    </tr>\n",
       "    <tr>\n",
       "      <th>7</th>\n",
       "      <td>DE</td>\n",
       "      <td>39</td>\n",
       "    </tr>\n",
       "  </tbody>\n",
       "</table>\n",
       "</div>"
      ],
      "text/plain": [
       "  US province  no. fast food restaurants\n",
       "0          AK                         14\n",
       "1          AL                          6\n",
       "2          AR                         91\n",
       "3          AZ                        296\n",
       "4          CA                       1122\n",
       "5          CO                        137\n",
       "6          CT                         52\n",
       "7          DE                         39"
      ]
     },
     "execution_count": 10,
     "metadata": {},
     "output_type": "execute_result"
    }
   ],
   "source": [
    "us_ffr_per_state.head(8)"
   ]
  },
  {
   "cell_type": "markdown",
   "metadata": {},
   "source": [
    "## Clean: U.S. Obesity Dataset"
   ]
  },
  {
   "cell_type": "code",
   "execution_count": 11,
   "metadata": {},
   "outputs": [
    {
     "data": {
      "text/plain": [
       "True"
      ]
     },
     "execution_count": 11,
     "metadata": {},
     "output_type": "execute_result"
    }
   ],
   "source": [
    "# We are interested in data that starts and end from the same year, and fortunately, all the data start and end in the same year\n",
    "# Count the number of data that start and end in different years.\n",
    "us_obesity_df[us_obesity_df['YearStart'] != us_obesity_df['YearEnd']].value_counts().sum() == 0"
   ]
  },
  {
   "cell_type": "markdown",
   "metadata": {},
   "source": [
    "The **Obesity Dataset** consists of many records from the same states. But we are only interested in the average of the whole state"
   ]
  },
  {
   "cell_type": "code",
   "execution_count": 12,
   "metadata": {},
   "outputs": [],
   "source": [
    "us_obesity_df = us_obesity_df[us_obesity_df['Total'] == 'Total']"
   ]
  },
  {
   "cell_type": "code",
   "execution_count": 13,
   "metadata": {},
   "outputs": [],
   "source": [
    "# Change the column YearEnd to Year\n",
    "# Also, we only want the obesity rate\n",
    "us_obesity_df = us_obesity_df.rename(columns={'YearEnd': 'Year'})\n",
    "us_obesity_df = us_obesity_df[us_obesity_df['Topic'] == 'Obesity / Weight Status']"
   ]
  },
  {
   "cell_type": "markdown",
   "metadata": {},
   "source": [
    "There are two types of questions: <br>\n",
    "1. Percent of adults aged 18 years and older who have obesity\n",
    "2. Percent of adults aged 18 years older who have an overweight classification <br>\n",
    "We'll be working on the first time snce we only care where one has obesity or not. "
   ]
  },
  {
   "cell_type": "code",
   "execution_count": 14,
   "metadata": {},
   "outputs": [],
   "source": [
    "us_obesity_df = us_obesity_df[us_obesity_df['Question'] == 'Percent of adults aged 18 years and older who have obesity']"
   ]
  },
  {
   "cell_type": "markdown",
   "metadata": {},
   "source": [
    "Now, we'll drop all other unnecessary columns."
   ]
  },
  {
   "cell_type": "code",
   "execution_count": 15,
   "metadata": {},
   "outputs": [],
   "source": [
    "# StartYear and EndYear are the same, and there are \n",
    "us_obesity_df = us_obesity_df.drop(['Topic','Low_Confidence_Limit', 'High_Confidence_Limit ', 'Datasource','YearStart', 'Class', 'Data_Value_Unit', 'Data_Value_Type','Data_Value_Footnote_Symbol',\n",
    "                                    'Data_Value_Footnote', 'Total', 'Education', 'Income', 'GeoLocation',\n",
    "                                    'ClassID', 'TopicID', 'QuestionID', 'DataValueTypeID','StratificationCategory1', \n",
    "                                    'Stratification1', 'StratificationID1', 'StratificationCategoryId1', 'LocationID', \n",
    "                                    'Sample_Size', 'Age(years)','Gender', 'Race/Ethnicity',\n",
    "                                    'Data_Value_Alt', 'Question'], axis='columns')"
   ]
  },
  {
   "cell_type": "markdown",
   "metadata": {},
   "source": [
    "Now we want to check the shape to know how much data we have left. "
   ]
  },
  {
   "cell_type": "code",
   "execution_count": 16,
   "metadata": {},
   "outputs": [
    {
     "data": {
      "text/plain": [
       "(537, 4)"
      ]
     },
     "execution_count": 16,
     "metadata": {},
     "output_type": "execute_result"
    }
   ],
   "source": [
    "us_obesity_df.shape"
   ]
  },
  {
   "cell_type": "code",
   "execution_count": 17,
   "metadata": {},
   "outputs": [
    {
     "data": {
      "text/html": [
       "<div>\n",
       "<style scoped>\n",
       "    .dataframe tbody tr th:only-of-type {\n",
       "        vertical-align: middle;\n",
       "    }\n",
       "\n",
       "    .dataframe tbody tr th {\n",
       "        vertical-align: top;\n",
       "    }\n",
       "\n",
       "    .dataframe thead th {\n",
       "        text-align: right;\n",
       "    }\n",
       "</style>\n",
       "<table border=\"1\" class=\"dataframe\">\n",
       "  <thead>\n",
       "    <tr style=\"text-align: right;\">\n",
       "      <th></th>\n",
       "      <th>Year</th>\n",
       "      <th>LocationAbbr</th>\n",
       "      <th>LocationDesc</th>\n",
       "      <th>Data_Value</th>\n",
       "    </tr>\n",
       "  </thead>\n",
       "  <tbody>\n",
       "    <tr>\n",
       "      <th>29</th>\n",
       "      <td>2015</td>\n",
       "      <td>PR</td>\n",
       "      <td>Puerto Rico</td>\n",
       "      <td>29.5</td>\n",
       "    </tr>\n",
       "    <tr>\n",
       "      <th>50</th>\n",
       "      <td>2016</td>\n",
       "      <td>NM</td>\n",
       "      <td>New Mexico</td>\n",
       "      <td>28.3</td>\n",
       "    </tr>\n",
       "    <tr>\n",
       "      <th>87</th>\n",
       "      <td>2016</td>\n",
       "      <td>NH</td>\n",
       "      <td>New Hampshire</td>\n",
       "      <td>26.6</td>\n",
       "    </tr>\n",
       "    <tr>\n",
       "      <th>170</th>\n",
       "      <td>2016</td>\n",
       "      <td>MT</td>\n",
       "      <td>Montana</td>\n",
       "      <td>25.5</td>\n",
       "    </tr>\n",
       "    <tr>\n",
       "      <th>416</th>\n",
       "      <td>2018</td>\n",
       "      <td>AK</td>\n",
       "      <td>Alaska</td>\n",
       "      <td>29.5</td>\n",
       "    </tr>\n",
       "    <tr>\n",
       "      <th>546</th>\n",
       "      <td>2018</td>\n",
       "      <td>MD</td>\n",
       "      <td>Maryland</td>\n",
       "      <td>30.9</td>\n",
       "    </tr>\n",
       "    <tr>\n",
       "      <th>616</th>\n",
       "      <td>2018</td>\n",
       "      <td>VA</td>\n",
       "      <td>Virginia</td>\n",
       "      <td>30.4</td>\n",
       "    </tr>\n",
       "    <tr>\n",
       "      <th>848</th>\n",
       "      <td>2018</td>\n",
       "      <td>GU</td>\n",
       "      <td>Guam</td>\n",
       "      <td>29.8</td>\n",
       "    </tr>\n",
       "    <tr>\n",
       "      <th>897</th>\n",
       "      <td>2018</td>\n",
       "      <td>OK</td>\n",
       "      <td>Oklahoma</td>\n",
       "      <td>34.8</td>\n",
       "    </tr>\n",
       "    <tr>\n",
       "      <th>973</th>\n",
       "      <td>2014</td>\n",
       "      <td>US</td>\n",
       "      <td>National</td>\n",
       "      <td>28.9</td>\n",
       "    </tr>\n",
       "  </tbody>\n",
       "</table>\n",
       "</div>"
      ],
      "text/plain": [
       "     Year LocationAbbr   LocationDesc  Data_Value\n",
       "29   2015           PR    Puerto Rico        29.5\n",
       "50   2016           NM     New Mexico        28.3\n",
       "87   2016           NH  New Hampshire        26.6\n",
       "170  2016           MT        Montana        25.5\n",
       "416  2018           AK         Alaska        29.5\n",
       "546  2018           MD       Maryland        30.9\n",
       "616  2018           VA       Virginia        30.4\n",
       "848  2018           GU           Guam        29.8\n",
       "897  2018           OK       Oklahoma        34.8\n",
       "973  2014           US       National        28.9"
      ]
     },
     "execution_count": 17,
     "metadata": {},
     "output_type": "execute_result"
    }
   ],
   "source": [
    "# Looking at the content inside after cleaning\n",
    "us_obesity_df.head(10)"
   ]
  },
  {
   "cell_type": "markdown",
   "metadata": {},
   "source": [
    "We only want to work with 50 states  in the U.S. <br>\n",
    "1. We'll check the number of unique variable in `LocationDesc` column (make sure we have 50 states)\n",
    "2. If for some reason, we have more than 50 states, we'll look through our unique values in `LocationDesc` column and drop the ones that are not one of the U.S. states"
   ]
  },
  {
   "cell_type": "code",
   "execution_count": 18,
   "metadata": {},
   "outputs": [
    {
     "data": {
      "text/plain": [
       "55"
      ]
     },
     "execution_count": 18,
     "metadata": {},
     "output_type": "execute_result"
    }
   ],
   "source": [
    "len(us_obesity_df['LocationDesc'].unique())"
   ]
  },
  {
   "cell_type": "markdown",
   "metadata": {},
   "source": [
    "So here, we can see that we have 5 extra unique values, so now we want to check out our unique values in `LocationDesc` column and drop the ones that are not one of the U.S. states."
   ]
  },
  {
   "cell_type": "code",
   "execution_count": 19,
   "metadata": {},
   "outputs": [
    {
     "data": {
      "text/plain": [
       "array(['Puerto Rico', 'New Mexico', 'New Hampshire', 'Montana', 'Alaska',\n",
       "       'Maryland', 'Virginia', 'Guam', 'Oklahoma', 'National', 'Florida',\n",
       "       'Oregon', 'Washington', 'Pennsylvania', 'California', 'New York',\n",
       "       'Minnesota', 'South Dakota', 'Kansas', 'Virgin Islands', 'Vermont',\n",
       "       'Arizona', 'Kentucky', 'Illinois', 'Wyoming',\n",
       "       'District of Columbia', 'Ohio', 'Tennessee', 'Delaware', 'Idaho',\n",
       "       'Michigan', 'Hawaii', 'Nebraska', 'Louisiana', 'North Dakota',\n",
       "       'Missouri', 'Rhode Island', 'Wisconsin', 'Indiana', 'Arkansas',\n",
       "       'Massachusetts', 'New Jersey', 'Connecticut', 'Nevada', 'Texas',\n",
       "       'Maine', 'South Carolina', 'Iowa', 'North Carolina',\n",
       "       'West Virginia', 'Georgia', 'Colorado', 'Mississippi', 'Utah',\n",
       "       'Alabama'], dtype=object)"
      ]
     },
     "execution_count": 19,
     "metadata": {},
     "output_type": "execute_result"
    }
   ],
   "source": [
    "us_obesity_df['LocationDesc'].unique()"
   ]
  },
  {
   "cell_type": "code",
   "execution_count": 20,
   "metadata": {},
   "outputs": [
    {
     "data": {
      "text/html": [
       "<div>\n",
       "<style scoped>\n",
       "    .dataframe tbody tr th:only-of-type {\n",
       "        vertical-align: middle;\n",
       "    }\n",
       "\n",
       "    .dataframe tbody tr th {\n",
       "        vertical-align: top;\n",
       "    }\n",
       "\n",
       "    .dataframe thead th {\n",
       "        text-align: right;\n",
       "    }\n",
       "</style>\n",
       "<table border=\"1\" class=\"dataframe\">\n",
       "  <thead>\n",
       "    <tr style=\"text-align: right;\">\n",
       "      <th></th>\n",
       "      <th>Year</th>\n",
       "      <th>LocationAbbr</th>\n",
       "      <th>LocationDesc</th>\n",
       "      <th>Data_Value</th>\n",
       "    </tr>\n",
       "  </thead>\n",
       "  <tbody>\n",
       "    <tr>\n",
       "      <th>0</th>\n",
       "      <td>2016</td>\n",
       "      <td>NM</td>\n",
       "      <td>New Mexico</td>\n",
       "      <td>28.3</td>\n",
       "    </tr>\n",
       "    <tr>\n",
       "      <th>1</th>\n",
       "      <td>2016</td>\n",
       "      <td>NH</td>\n",
       "      <td>New Hampshire</td>\n",
       "      <td>26.6</td>\n",
       "    </tr>\n",
       "    <tr>\n",
       "      <th>2</th>\n",
       "      <td>2016</td>\n",
       "      <td>MT</td>\n",
       "      <td>Montana</td>\n",
       "      <td>25.5</td>\n",
       "    </tr>\n",
       "    <tr>\n",
       "      <th>3</th>\n",
       "      <td>2018</td>\n",
       "      <td>AK</td>\n",
       "      <td>Alaska</td>\n",
       "      <td>29.5</td>\n",
       "    </tr>\n",
       "    <tr>\n",
       "      <th>4</th>\n",
       "      <td>2018</td>\n",
       "      <td>MD</td>\n",
       "      <td>Maryland</td>\n",
       "      <td>30.9</td>\n",
       "    </tr>\n",
       "  </tbody>\n",
       "</table>\n",
       "</div>"
      ],
      "text/plain": [
       "   Year LocationAbbr   LocationDesc  Data_Value\n",
       "0  2016           NM     New Mexico        28.3\n",
       "1  2016           NH  New Hampshire        26.6\n",
       "2  2016           MT        Montana        25.5\n",
       "3  2018           AK         Alaska        29.5\n",
       "4  2018           MD       Maryland        30.9"
      ]
     },
     "execution_count": 20,
     "metadata": {},
     "output_type": "execute_result"
    }
   ],
   "source": [
    "# remove 'National', 'Puerto Rico', 'Guam','District of Columbia' and 'Virgin Islands'\n",
    "us_obesity_df = us_obesity_df[~us_obesity_df['LocationDesc'].isin(['National','Puerto Rico', 'Guam','District of Columbia','Virgin Islands'])]\n",
    "# reset index\n",
    "us_obesity_df = us_obesity_df.reset_index()\n",
    "us_obesity_df = us_obesity_df.drop(['index'],  axis='columns')\n",
    "us_obesity_df.head()"
   ]
  },
  {
   "cell_type": "markdown",
   "metadata": {},
   "source": [
    "Let's check our `LocationDesc` unique length again to make sure. "
   ]
  },
  {
   "cell_type": "code",
   "execution_count": 21,
   "metadata": {},
   "outputs": [
    {
     "data": {
      "text/plain": [
       "50"
      ]
     },
     "execution_count": 21,
     "metadata": {},
     "output_type": "execute_result"
    }
   ],
   "source": [
    "len(us_obesity_df['LocationDesc'].unique())"
   ]
  },
  {
   "cell_type": "markdown",
   "metadata": {},
   "source": [
    "Now we want to see how many years are in our data set and see if there are any missing data for certain year. "
   ]
  },
  {
   "cell_type": "code",
   "execution_count": 22,
   "metadata": {},
   "outputs": [
    {
     "name": "stdout",
     "output_type": "stream",
     "text": [
      "Year:  [2011 2012 2013 2014 2015 2016 2017 2018 2019 2020]\n",
      "Total: 10\n"
     ]
    }
   ],
   "source": [
    "years = np.sort(us_obesity_df['Year'].unique())\n",
    "print(\"Year: \", years)\n",
    "print(\"Total:\", len(years))"
   ]
  },
  {
   "cell_type": "code",
   "execution_count": 23,
   "metadata": {},
   "outputs": [
    {
     "name": "stdout",
     "output_type": "stream",
     "text": [
      "2011\n",
      "2012\n",
      "2013\n",
      "2014\n",
      "2015\n",
      "2016\n",
      "2017\n",
      "2018\n",
      "2020\n"
     ]
    }
   ],
   "source": [
    "for i in range (2011, 2021):\n",
    "    if us_obesity_df[us_obesity_df['Year'] == i].value_counts().sum() == 50:\n",
    "        print(i)"
   ]
  },
  {
   "cell_type": "markdown",
   "metadata": {},
   "source": [
    "Looks like we have missing data for 2019. <br>\n",
    "Code below will show us that we have missing data for **New Jersey** in 2019"
   ]
  },
  {
   "cell_type": "code",
   "execution_count": 24,
   "metadata": {},
   "outputs": [
    {
     "data": {
      "text/plain": [
       "False"
      ]
     },
     "execution_count": 24,
     "metadata": {},
     "output_type": "execute_result"
    }
   ],
   "source": [
    "'New Jersey' in us_obesity_df[us_obesity_df['Year'] == 2019]['LocationDesc'].unique()"
   ]
  },
  {
   "cell_type": "code",
   "execution_count": 25,
   "metadata": {},
   "outputs": [],
   "source": [
    "# Rename columns so it's easier to read and understand\n",
    "us_obesity_df.columns = ['Year','StateAbbr','State','Percentage']"
   ]
  },
  {
   "cell_type": "code",
   "execution_count": 26,
   "metadata": {},
   "outputs": [],
   "source": [
    "# Sort data by Year and StateAbbr\n",
    "us_obesity_df = us_obesity_df.sort_values(by=['Year', 'StateAbbr'])\n",
    "us_obesity_df = us_obesity_df.reset_index().drop(['index'], axis='columns')\n",
    "\n",
    "# We only have data fast food restaurants to 2019, so we only select this year\n",
    "us_obesity_df = us_obesity_df[us_obesity_df['Year'] == 2019].reset_index().drop(['index'], axis=1)"
   ]
  },
  {
   "cell_type": "markdown",
   "metadata": {},
   "source": [
    "Let's have a look at the **Obesity Dataset** after cleaning"
   ]
  },
  {
   "cell_type": "code",
   "execution_count": 27,
   "metadata": {},
   "outputs": [
    {
     "data": {
      "text/plain": [
       "(49, 4)"
      ]
     },
     "execution_count": 27,
     "metadata": {},
     "output_type": "execute_result"
    }
   ],
   "source": [
    "us_obesity_df.shape"
   ]
  },
  {
   "cell_type": "code",
   "execution_count": 28,
   "metadata": {},
   "outputs": [
    {
     "data": {
      "text/html": [
       "<div>\n",
       "<style scoped>\n",
       "    .dataframe tbody tr th:only-of-type {\n",
       "        vertical-align: middle;\n",
       "    }\n",
       "\n",
       "    .dataframe tbody tr th {\n",
       "        vertical-align: top;\n",
       "    }\n",
       "\n",
       "    .dataframe thead th {\n",
       "        text-align: right;\n",
       "    }\n",
       "</style>\n",
       "<table border=\"1\" class=\"dataframe\">\n",
       "  <thead>\n",
       "    <tr style=\"text-align: right;\">\n",
       "      <th></th>\n",
       "      <th>Year</th>\n",
       "      <th>StateAbbr</th>\n",
       "      <th>State</th>\n",
       "      <th>Percentage</th>\n",
       "    </tr>\n",
       "  </thead>\n",
       "  <tbody>\n",
       "    <tr>\n",
       "      <th>0</th>\n",
       "      <td>2019</td>\n",
       "      <td>AK</td>\n",
       "      <td>Alaska</td>\n",
       "      <td>30.5</td>\n",
       "    </tr>\n",
       "    <tr>\n",
       "      <th>1</th>\n",
       "      <td>2019</td>\n",
       "      <td>AL</td>\n",
       "      <td>Alabama</td>\n",
       "      <td>36.1</td>\n",
       "    </tr>\n",
       "    <tr>\n",
       "      <th>2</th>\n",
       "      <td>2019</td>\n",
       "      <td>AR</td>\n",
       "      <td>Arkansas</td>\n",
       "      <td>37.4</td>\n",
       "    </tr>\n",
       "    <tr>\n",
       "      <th>3</th>\n",
       "      <td>2019</td>\n",
       "      <td>AZ</td>\n",
       "      <td>Arizona</td>\n",
       "      <td>31.4</td>\n",
       "    </tr>\n",
       "    <tr>\n",
       "      <th>4</th>\n",
       "      <td>2019</td>\n",
       "      <td>CA</td>\n",
       "      <td>California</td>\n",
       "      <td>26.2</td>\n",
       "    </tr>\n",
       "  </tbody>\n",
       "</table>\n",
       "</div>"
      ],
      "text/plain": [
       "   Year StateAbbr       State  Percentage\n",
       "0  2019        AK      Alaska        30.5\n",
       "1  2019        AL     Alabama        36.1\n",
       "2  2019        AR    Arkansas        37.4\n",
       "3  2019        AZ     Arizona        31.4\n",
       "4  2019        CA  California        26.2"
      ]
     },
     "execution_count": 28,
     "metadata": {},
     "output_type": "execute_result"
    }
   ],
   "source": [
    "us_obesity_df.head(5)"
   ]
  },
  {
   "cell_type": "markdown",
   "metadata": {},
   "source": [
    "## Clean: 2019 Census Population Dataset\n",
    "We will rename the poplation column to make it easier to read. <br>\n",
    "We will drop longitude and laditude columns since we can filter by states. <br>\n",
    "We will check if there are any null value in the dataset and drop them. <br>"
   ]
  },
  {
   "cell_type": "code",
   "execution_count": 29,
   "metadata": {},
   "outputs": [],
   "source": [
    "# Drop columns\n",
    "population_df = population_df.drop(['STATE', 'lat', 'long'], axis='columns')\n",
    "# Rename columns\n",
    "population_df = population_df.rename(columns={'State Abbr': 'US Province', 'POPESTIMATE2019':'2019 Population'})"
   ]
  },
  {
   "cell_type": "code",
   "execution_count": 30,
   "metadata": {},
   "outputs": [
    {
     "data": {
      "text/plain": [
       "US Province        1\n",
       "2019 Population    0\n",
       "dtype: int64"
      ]
     },
     "execution_count": 30,
     "metadata": {},
     "output_type": "execute_result"
    }
   ],
   "source": [
    "population_df.isnull().sum()"
   ]
  },
  {
   "cell_type": "markdown",
   "metadata": {},
   "source": [
    "Since we only have 1 **null item**, we can just use `dropna` "
   ]
  },
  {
   "cell_type": "code",
   "execution_count": 31,
   "metadata": {},
   "outputs": [
    {
     "data": {
      "text/plain": [
       "US Province        0\n",
       "2019 Population    0\n",
       "dtype: int64"
      ]
     },
     "execution_count": 31,
     "metadata": {},
     "output_type": "execute_result"
    }
   ],
   "source": [
    "population_df = population_df.dropna(subset='US Province')\n",
    "population_df.isnull().sum()"
   ]
  },
  {
   "cell_type": "markdown",
   "metadata": {},
   "source": [
    "# Data Analysis & Results"
   ]
  },
  {
   "cell_type": "markdown",
   "metadata": {},
   "source": [
    "### Combine 2019 Population with U.S. Fast Food Restaurant per State Dataset"
   ]
  },
  {
   "cell_type": "code",
   "execution_count": 32,
   "metadata": {},
   "outputs": [
    {
     "data": {
      "text/html": [
       "<div>\n",
       "<style scoped>\n",
       "    .dataframe tbody tr th:only-of-type {\n",
       "        vertical-align: middle;\n",
       "    }\n",
       "\n",
       "    .dataframe tbody tr th {\n",
       "        vertical-align: top;\n",
       "    }\n",
       "\n",
       "    .dataframe thead th {\n",
       "        text-align: right;\n",
       "    }\n",
       "</style>\n",
       "<table border=\"1\" class=\"dataframe\">\n",
       "  <thead>\n",
       "    <tr style=\"text-align: right;\">\n",
       "      <th></th>\n",
       "      <th>StatesAbbr</th>\n",
       "      <th>no. fast food restaurants</th>\n",
       "      <th>Population</th>\n",
       "    </tr>\n",
       "  </thead>\n",
       "  <tbody>\n",
       "    <tr>\n",
       "      <th>0</th>\n",
       "      <td>AK</td>\n",
       "      <td>14</td>\n",
       "      <td>731545</td>\n",
       "    </tr>\n",
       "    <tr>\n",
       "      <th>1</th>\n",
       "      <td>AL</td>\n",
       "      <td>6</td>\n",
       "      <td>4903185</td>\n",
       "    </tr>\n",
       "    <tr>\n",
       "      <th>2</th>\n",
       "      <td>AR</td>\n",
       "      <td>91</td>\n",
       "      <td>3017804</td>\n",
       "    </tr>\n",
       "    <tr>\n",
       "      <th>3</th>\n",
       "      <td>AZ</td>\n",
       "      <td>296</td>\n",
       "      <td>7278717</td>\n",
       "    </tr>\n",
       "    <tr>\n",
       "      <th>4</th>\n",
       "      <td>CA</td>\n",
       "      <td>1122</td>\n",
       "      <td>39512223</td>\n",
       "    </tr>\n",
       "  </tbody>\n",
       "</table>\n",
       "</div>"
      ],
      "text/plain": [
       "  StatesAbbr  no. fast food restaurants  Population\n",
       "0         AK                         14      731545\n",
       "1         AL                          6     4903185\n",
       "2         AR                         91     3017804\n",
       "3         AZ                        296     7278717\n",
       "4         CA                       1122    39512223"
      ]
     },
     "execution_count": 32,
     "metadata": {},
     "output_type": "execute_result"
    }
   ],
   "source": [
    "# Sort states alphabetically\n",
    "us_ffr_per_state = us_ffr_per_state.sort_values(by=['US province'])\n",
    "population_df = population_df.sort_values('US Province').reset_index().drop(['index'], axis='columns')\n",
    "us_ffr_per_state['2019 Population'] = population_df['2019 Population']\n",
    "us_ffr_per_state.columns = [\"StatesAbbr\", \"no. fast food restaurants\", \"Population\"]\n",
    "us_ffr_per_state.head(5)"
   ]
  },
  {
   "cell_type": "markdown",
   "metadata": {},
   "source": [
    "#### Combine Obesity Level by State with U.S. Fast Food Restaurants per State"
   ]
  },
  {
   "cell_type": "code",
   "execution_count": 33,
   "metadata": {},
   "outputs": [
    {
     "data": {
      "text/html": [
       "<div>\n",
       "<style scoped>\n",
       "    .dataframe tbody tr th:only-of-type {\n",
       "        vertical-align: middle;\n",
       "    }\n",
       "\n",
       "    .dataframe tbody tr th {\n",
       "        vertical-align: top;\n",
       "    }\n",
       "\n",
       "    .dataframe thead th {\n",
       "        text-align: right;\n",
       "    }\n",
       "</style>\n",
       "<table border=\"1\" class=\"dataframe\">\n",
       "  <thead>\n",
       "    <tr style=\"text-align: right;\">\n",
       "      <th></th>\n",
       "      <th>StateAbbr</th>\n",
       "      <th>Restaurants</th>\n",
       "      <th>Population</th>\n",
       "      <th>Obesity</th>\n",
       "    </tr>\n",
       "  </thead>\n",
       "  <tbody>\n",
       "    <tr>\n",
       "      <th>0</th>\n",
       "      <td>AK</td>\n",
       "      <td>14</td>\n",
       "      <td>731545</td>\n",
       "      <td>30.5</td>\n",
       "    </tr>\n",
       "    <tr>\n",
       "      <th>1</th>\n",
       "      <td>AL</td>\n",
       "      <td>6</td>\n",
       "      <td>4903185</td>\n",
       "      <td>36.1</td>\n",
       "    </tr>\n",
       "    <tr>\n",
       "      <th>2</th>\n",
       "      <td>AR</td>\n",
       "      <td>91</td>\n",
       "      <td>3017804</td>\n",
       "      <td>37.4</td>\n",
       "    </tr>\n",
       "    <tr>\n",
       "      <th>3</th>\n",
       "      <td>AZ</td>\n",
       "      <td>296</td>\n",
       "      <td>7278717</td>\n",
       "      <td>31.4</td>\n",
       "    </tr>\n",
       "    <tr>\n",
       "      <th>4</th>\n",
       "      <td>CA</td>\n",
       "      <td>1122</td>\n",
       "      <td>39512223</td>\n",
       "      <td>26.2</td>\n",
       "    </tr>\n",
       "  </tbody>\n",
       "</table>\n",
       "</div>"
      ],
      "text/plain": [
       "  StateAbbr  Restaurants  Population  Obesity\n",
       "0        AK           14      731545     30.5\n",
       "1        AL            6     4903185     36.1\n",
       "2        AR           91     3017804     37.4\n",
       "3        AZ          296     7278717     31.4\n",
       "4        CA         1122    39512223     26.2"
      ]
     },
     "execution_count": 33,
     "metadata": {},
     "output_type": "execute_result"
    }
   ],
   "source": [
    "# Join all the data frames\n",
    "df = pd.concat([us_ffr_per_state, us_obesity_df], axis=1, join='inner')\n",
    "df = df.drop(['Year','StateAbbr', 'State'], axis=1)\n",
    "df.columns = ['StateAbbr', 'Restaurants', 'Population', 'Obesity']\n",
    "df.head(5)"
   ]
  },
  {
   "cell_type": "markdown",
   "metadata": {},
   "source": [
    "Now, we will be obtaining the values in the fast food restaurant dataset for the states with the top 5 most and 5 least amount of restaurants. On top of that, the top 5 most and least restaurants per 10,000 residents will also be obtained, to see if the results are different. <br> <br>\n",
    "States with the top 5 most and least amount of fast food restaurants. <br>"
   ]
  },
  {
   "cell_type": "code",
   "execution_count": 34,
   "metadata": {},
   "outputs": [],
   "source": [
    "df = df.sort_values(by='Restaurants', ascending=False).reset_index(drop=True)\n",
    "most_ffr_df = df[:5]\n",
    "least_ffr_df = df[-5:]"
   ]
  },
  {
   "cell_type": "markdown",
   "metadata": {},
   "source": [
    "5 states with most amount of fast food restaurants"
   ]
  },
  {
   "cell_type": "code",
   "execution_count": 35,
   "metadata": {},
   "outputs": [
    {
     "data": {
      "text/html": [
       "<div>\n",
       "<style scoped>\n",
       "    .dataframe tbody tr th:only-of-type {\n",
       "        vertical-align: middle;\n",
       "    }\n",
       "\n",
       "    .dataframe tbody tr th {\n",
       "        vertical-align: top;\n",
       "    }\n",
       "\n",
       "    .dataframe thead th {\n",
       "        text-align: right;\n",
       "    }\n",
       "</style>\n",
       "<table border=\"1\" class=\"dataframe\">\n",
       "  <thead>\n",
       "    <tr style=\"text-align: right;\">\n",
       "      <th></th>\n",
       "      <th>StateAbbr</th>\n",
       "      <th>Restaurants</th>\n",
       "      <th>Population</th>\n",
       "      <th>Obesity</th>\n",
       "    </tr>\n",
       "  </thead>\n",
       "  <tbody>\n",
       "    <tr>\n",
       "      <th>0</th>\n",
       "      <td>CA</td>\n",
       "      <td>1122</td>\n",
       "      <td>39512223</td>\n",
       "      <td>26.2</td>\n",
       "    </tr>\n",
       "    <tr>\n",
       "      <th>1</th>\n",
       "      <td>TX</td>\n",
       "      <td>753</td>\n",
       "      <td>28995881</td>\n",
       "      <td>29.2</td>\n",
       "    </tr>\n",
       "    <tr>\n",
       "      <th>2</th>\n",
       "      <td>FL</td>\n",
       "      <td>575</td>\n",
       "      <td>21477737</td>\n",
       "      <td>27.0</td>\n",
       "    </tr>\n",
       "    <tr>\n",
       "      <th>3</th>\n",
       "      <td>OH</td>\n",
       "      <td>503</td>\n",
       "      <td>11689100</td>\n",
       "      <td>36.8</td>\n",
       "    </tr>\n",
       "    <tr>\n",
       "      <th>4</th>\n",
       "      <td>GA</td>\n",
       "      <td>392</td>\n",
       "      <td>10617423</td>\n",
       "      <td>33.1</td>\n",
       "    </tr>\n",
       "  </tbody>\n",
       "</table>\n",
       "</div>"
      ],
      "text/plain": [
       "  StateAbbr  Restaurants  Population  Obesity\n",
       "0        CA         1122    39512223     26.2\n",
       "1        TX          753    28995881     29.2\n",
       "2        FL          575    21477737     27.0\n",
       "3        OH          503    11689100     36.8\n",
       "4        GA          392    10617423     33.1"
      ]
     },
     "execution_count": 35,
     "metadata": {},
     "output_type": "execute_result"
    }
   ],
   "source": [
    "most_ffr_df"
   ]
  },
  {
   "cell_type": "markdown",
   "metadata": {},
   "source": [
    "5 states with least amount of fast food restaurants"
   ]
  },
  {
   "cell_type": "code",
   "execution_count": 36,
   "metadata": {},
   "outputs": [
    {
     "data": {
      "text/html": [
       "<div>\n",
       "<style scoped>\n",
       "    .dataframe tbody tr th:only-of-type {\n",
       "        vertical-align: middle;\n",
       "    }\n",
       "\n",
       "    .dataframe tbody tr th {\n",
       "        vertical-align: top;\n",
       "    }\n",
       "\n",
       "    .dataframe thead th {\n",
       "        text-align: right;\n",
       "    }\n",
       "</style>\n",
       "<table border=\"1\" class=\"dataframe\">\n",
       "  <thead>\n",
       "    <tr style=\"text-align: right;\">\n",
       "      <th></th>\n",
       "      <th>StateAbbr</th>\n",
       "      <th>Restaurants</th>\n",
       "      <th>Population</th>\n",
       "      <th>Obesity</th>\n",
       "    </tr>\n",
       "  </thead>\n",
       "  <tbody>\n",
       "    <tr>\n",
       "      <th>44</th>\n",
       "      <td>ME</td>\n",
       "      <td>24</td>\n",
       "      <td>1344212</td>\n",
       "      <td>31.7</td>\n",
       "    </tr>\n",
       "    <tr>\n",
       "      <th>45</th>\n",
       "      <td>AK</td>\n",
       "      <td>14</td>\n",
       "      <td>731545</td>\n",
       "      <td>30.5</td>\n",
       "    </tr>\n",
       "    <tr>\n",
       "      <th>46</th>\n",
       "      <td>RI</td>\n",
       "      <td>13</td>\n",
       "      <td>1059361</td>\n",
       "      <td>35.4</td>\n",
       "    </tr>\n",
       "    <tr>\n",
       "      <th>47</th>\n",
       "      <td>VT</td>\n",
       "      <td>13</td>\n",
       "      <td>623989</td>\n",
       "      <td>28.3</td>\n",
       "    </tr>\n",
       "    <tr>\n",
       "      <th>48</th>\n",
       "      <td>AL</td>\n",
       "      <td>6</td>\n",
       "      <td>4903185</td>\n",
       "      <td>36.1</td>\n",
       "    </tr>\n",
       "  </tbody>\n",
       "</table>\n",
       "</div>"
      ],
      "text/plain": [
       "   StateAbbr  Restaurants  Population  Obesity\n",
       "44        ME           24     1344212     31.7\n",
       "45        AK           14      731545     30.5\n",
       "46        RI           13     1059361     35.4\n",
       "47        VT           13      623989     28.3\n",
       "48        AL            6     4903185     36.1"
      ]
     },
     "execution_count": 36,
     "metadata": {},
     "output_type": "execute_result"
    }
   ],
   "source": [
    "least_ffr_df"
   ]
  },
  {
   "cell_type": "markdown",
   "metadata": {},
   "source": [
    "From the datasets above, we can see that <br>\n",
    "- States with the most fast food restaurants: CA, TX, FL, OH, GA <br>\n",
    "- States with the least fast food restaurants: AL, VT, RI, AK, ME <br>"
   ]
  },
  {
   "cell_type": "markdown",
   "metadata": {},
   "source": [
    "Top 5 most and least fast food restaurants per 10,000 residents will also be obtained, to see if the results are different. "
   ]
  },
  {
   "cell_type": "code",
   "execution_count": 37,
   "metadata": {},
   "outputs": [],
   "source": [
    "df['ffr_pc'] = (df['Restaurants']/df['Population']) * 10000\n",
    "\n",
    "df = df.sort_values(by='ffr_pc', ascending=False).reset_index(drop=True)\n",
    "most_ffr_pc = df[:5]\n",
    "least_ffr_pc = df[-5:]"
   ]
  },
  {
   "cell_type": "markdown",
   "metadata": {},
   "source": [
    "5 states with most fast food restaurant per 10,000 residents"
   ]
  },
  {
   "cell_type": "code",
   "execution_count": 38,
   "metadata": {},
   "outputs": [
    {
     "data": {
      "text/html": [
       "<div>\n",
       "<style scoped>\n",
       "    .dataframe tbody tr th:only-of-type {\n",
       "        vertical-align: middle;\n",
       "    }\n",
       "\n",
       "    .dataframe tbody tr th {\n",
       "        vertical-align: top;\n",
       "    }\n",
       "\n",
       "    .dataframe thead th {\n",
       "        text-align: right;\n",
       "    }\n",
       "</style>\n",
       "<table border=\"1\" class=\"dataframe\">\n",
       "  <thead>\n",
       "    <tr style=\"text-align: right;\">\n",
       "      <th></th>\n",
       "      <th>StateAbbr</th>\n",
       "      <th>Restaurants</th>\n",
       "      <th>Population</th>\n",
       "      <th>Obesity</th>\n",
       "      <th>ffr_pc</th>\n",
       "    </tr>\n",
       "  </thead>\n",
       "  <tbody>\n",
       "    <tr>\n",
       "      <th>0</th>\n",
       "      <td>SD</td>\n",
       "      <td>40</td>\n",
       "      <td>884659</td>\n",
       "      <td>36.5</td>\n",
       "      <td>0.452152</td>\n",
       "    </tr>\n",
       "    <tr>\n",
       "      <th>1</th>\n",
       "      <td>ND</td>\n",
       "      <td>34</td>\n",
       "      <td>762062</td>\n",
       "      <td>34.8</td>\n",
       "      <td>0.446158</td>\n",
       "    </tr>\n",
       "    <tr>\n",
       "      <th>2</th>\n",
       "      <td>NE</td>\n",
       "      <td>85</td>\n",
       "      <td>1934408</td>\n",
       "      <td>34.1</td>\n",
       "      <td>0.439411</td>\n",
       "    </tr>\n",
       "    <tr>\n",
       "      <th>3</th>\n",
       "      <td>OH</td>\n",
       "      <td>503</td>\n",
       "      <td>11689100</td>\n",
       "      <td>36.8</td>\n",
       "      <td>0.430315</td>\n",
       "    </tr>\n",
       "    <tr>\n",
       "      <th>4</th>\n",
       "      <td>LA</td>\n",
       "      <td>194</td>\n",
       "      <td>4648794</td>\n",
       "      <td>35.9</td>\n",
       "      <td>0.417313</td>\n",
       "    </tr>\n",
       "  </tbody>\n",
       "</table>\n",
       "</div>"
      ],
      "text/plain": [
       "  StateAbbr  Restaurants  Population  Obesity    ffr_pc\n",
       "0        SD           40      884659     36.5  0.452152\n",
       "1        ND           34      762062     34.8  0.446158\n",
       "2        NE           85     1934408     34.1  0.439411\n",
       "3        OH          503    11689100     36.8  0.430315\n",
       "4        LA          194     4648794     35.9  0.417313"
      ]
     },
     "execution_count": 38,
     "metadata": {},
     "output_type": "execute_result"
    }
   ],
   "source": [
    "most_ffr_pc"
   ]
  },
  {
   "cell_type": "markdown",
   "metadata": {},
   "source": [
    "5 states with least fast food restaurant per 10,000 residents"
   ]
  },
  {
   "cell_type": "code",
   "execution_count": 39,
   "metadata": {},
   "outputs": [
    {
     "data": {
      "text/html": [
       "<div>\n",
       "<style scoped>\n",
       "    .dataframe tbody tr th:only-of-type {\n",
       "        vertical-align: middle;\n",
       "    }\n",
       "\n",
       "    .dataframe tbody tr th {\n",
       "        vertical-align: top;\n",
       "    }\n",
       "\n",
       "    .dataframe thead th {\n",
       "        text-align: right;\n",
       "    }\n",
       "</style>\n",
       "<table border=\"1\" class=\"dataframe\">\n",
       "  <thead>\n",
       "    <tr style=\"text-align: right;\">\n",
       "      <th></th>\n",
       "      <th>StateAbbr</th>\n",
       "      <th>Restaurants</th>\n",
       "      <th>Population</th>\n",
       "      <th>Obesity</th>\n",
       "      <th>ffr_pc</th>\n",
       "    </tr>\n",
       "  </thead>\n",
       "  <tbody>\n",
       "    <tr>\n",
       "      <th>44</th>\n",
       "      <td>NY</td>\n",
       "      <td>328</td>\n",
       "      <td>19453561</td>\n",
       "      <td>34.8</td>\n",
       "      <td>0.168607</td>\n",
       "    </tr>\n",
       "    <tr>\n",
       "      <th>45</th>\n",
       "      <td>CT</td>\n",
       "      <td>52</td>\n",
       "      <td>3565287</td>\n",
       "      <td>29.1</td>\n",
       "      <td>0.145851</td>\n",
       "    </tr>\n",
       "    <tr>\n",
       "      <th>46</th>\n",
       "      <td>NJ</td>\n",
       "      <td>121</td>\n",
       "      <td>8882190</td>\n",
       "      <td>31.7</td>\n",
       "      <td>0.136228</td>\n",
       "    </tr>\n",
       "    <tr>\n",
       "      <th>47</th>\n",
       "      <td>RI</td>\n",
       "      <td>13</td>\n",
       "      <td>1059361</td>\n",
       "      <td>35.4</td>\n",
       "      <td>0.122715</td>\n",
       "    </tr>\n",
       "    <tr>\n",
       "      <th>48</th>\n",
       "      <td>AL</td>\n",
       "      <td>6</td>\n",
       "      <td>4903185</td>\n",
       "      <td>36.1</td>\n",
       "      <td>0.012237</td>\n",
       "    </tr>\n",
       "  </tbody>\n",
       "</table>\n",
       "</div>"
      ],
      "text/plain": [
       "   StateAbbr  Restaurants  Population  Obesity    ffr_pc\n",
       "44        NY          328    19453561     34.8  0.168607\n",
       "45        CT           52     3565287     29.1  0.145851\n",
       "46        NJ          121     8882190     31.7  0.136228\n",
       "47        RI           13     1059361     35.4  0.122715\n",
       "48        AL            6     4903185     36.1  0.012237"
      ]
     },
     "execution_count": 39,
     "metadata": {},
     "output_type": "execute_result"
    }
   ],
   "source": [
    "least_ffr_pc"
   ]
  },
  {
   "cell_type": "markdown",
   "metadata": {},
   "source": [
    "From the dataset above, we can see that <br>\n",
    "- States with the most fast food restaurants per 10,000 residents: SD, ND, AZ, DE, NE <br>\n",
    "- States with the least fast food restaurants per 10,000 residents: AL, RI, NJ, CT, NY"
   ]
  },
  {
   "cell_type": "markdown",
   "metadata": {},
   "source": [
    "## Data Visualization"
   ]
  },
  {
   "cell_type": "code",
   "execution_count": 60,
   "metadata": {},
   "outputs": [
    {
     "data": {
      "image/png": "[encoded data removed]"
     },
     "metadata": {},
     "output_type": "display_data"
    }
   ],
   "source": [
    "# Plot Fast Food Restaurants in U.S. in 2019\n",
    "fig = px.choropleth(df, locations='StateAbbr', \n",
    "                    locationmode=\"USA-states\", \n",
    "                    color='Restaurants', \n",
    "                    scope=\"usa\", \n",
    "                    color_continuous_scale=\"blues\")\n",
    "fig.update_layout(title_text='U.S. 2019 Fast Food Restaurants')\n",
    "fig.show(\"png\")"
   ]
  },
  {
   "cell_type": "code",
   "execution_count": 42,
   "metadata": {},
   "outputs": [
    {
     "data": {
      "text/html": [
       "<div>\n",
       "<style scoped>\n",
       "    .dataframe tbody tr th:only-of-type {\n",
       "        vertical-align: middle;\n",
       "    }\n",
       "\n",
       "    .dataframe tbody tr th {\n",
       "        vertical-align: top;\n",
       "    }\n",
       "\n",
       "    .dataframe thead th {\n",
       "        text-align: right;\n",
       "    }\n",
       "</style>\n",
       "<table border=\"1\" class=\"dataframe\">\n",
       "  <thead>\n",
       "    <tr style=\"text-align: right;\">\n",
       "      <th></th>\n",
       "      <th>StateAbbr</th>\n",
       "      <th>Restaurants</th>\n",
       "      <th>Population</th>\n",
       "      <th>Obesity</th>\n",
       "      <th>ffr_pc</th>\n",
       "    </tr>\n",
       "  </thead>\n",
       "  <tbody>\n",
       "    <tr>\n",
       "      <th>25</th>\n",
       "      <td>CA</td>\n",
       "      <td>1122</td>\n",
       "      <td>39512223</td>\n",
       "      <td>26.2</td>\n",
       "      <td>0.283963</td>\n",
       "    </tr>\n",
       "    <tr>\n",
       "      <th>32</th>\n",
       "      <td>TX</td>\n",
       "      <td>753</td>\n",
       "      <td>28995881</td>\n",
       "      <td>29.2</td>\n",
       "      <td>0.259692</td>\n",
       "    </tr>\n",
       "    <tr>\n",
       "      <th>30</th>\n",
       "      <td>FL</td>\n",
       "      <td>575</td>\n",
       "      <td>21477737</td>\n",
       "      <td>27.0</td>\n",
       "      <td>0.267719</td>\n",
       "    </tr>\n",
       "    <tr>\n",
       "      <th>3</th>\n",
       "      <td>OH</td>\n",
       "      <td>503</td>\n",
       "      <td>11689100</td>\n",
       "      <td>36.8</td>\n",
       "      <td>0.430315</td>\n",
       "    </tr>\n",
       "    <tr>\n",
       "      <th>10</th>\n",
       "      <td>GA</td>\n",
       "      <td>392</td>\n",
       "      <td>10617423</td>\n",
       "      <td>33.1</td>\n",
       "      <td>0.369204</td>\n",
       "    </tr>\n",
       "  </tbody>\n",
       "</table>\n",
       "</div>"
      ],
      "text/plain": [
       "   StateAbbr  Restaurants  Population  Obesity    ffr_pc\n",
       "25        CA         1122    39512223     26.2  0.283963\n",
       "32        TX          753    28995881     29.2  0.259692\n",
       "30        FL          575    21477737     27.0  0.267719\n",
       "3         OH          503    11689100     36.8  0.430315\n",
       "10        GA          392    10617423     33.1  0.369204"
      ]
     },
     "execution_count": 42,
     "metadata": {},
     "output_type": "execute_result"
    }
   ],
   "source": [
    "df.sort_values(by='Restaurants', ascending=False).head(5)"
   ]
  },
  {
   "cell_type": "markdown",
   "metadata": {},
   "source": [
    "As you can see here, from our visual and table above. <br>\n",
    "The darker the color, the most fast-food restaurants are in the states. <br>\n",
    "**California** has the darkest color in our graph by **Texas, Florida, etc**.<br>\n",
    "This is correlates with our table sorting by `Restaurants`. "
   ]
  },
  {
   "cell_type": "code",
   "execution_count": 61,
   "metadata": {},
   "outputs": [
    {
     "data": {
      "image/png": "[encoded data removed]"
     },
     "metadata": {},
     "output_type": "display_data"
    }
   ],
   "source": [
    "# Plot Obesity Rate in U.S. in 2019\n",
    "fig = px.choropleth(df, \n",
    "                    locations='StateAbbr', \n",
    "                    locationmode=\"USA-states\", \n",
    "                    color='Obesity', \n",
    "                    color_continuous_scale=\"Blues\", \n",
    "                    scope=\"usa\")\n",
    "fig.update_layout(title_text='U.S. 2019 Obesity Rates')\n",
    "fig.show('png')"
   ]
  },
  {
   "cell_type": "code",
   "execution_count": 43,
   "metadata": {},
   "outputs": [
    {
     "data": {
      "text/html": [
       "<div>\n",
       "<style scoped>\n",
       "    .dataframe tbody tr th:only-of-type {\n",
       "        vertical-align: middle;\n",
       "    }\n",
       "\n",
       "    .dataframe tbody tr th {\n",
       "        vertical-align: top;\n",
       "    }\n",
       "\n",
       "    .dataframe thead th {\n",
       "        text-align: right;\n",
       "    }\n",
       "</style>\n",
       "<table border=\"1\" class=\"dataframe\">\n",
       "  <thead>\n",
       "    <tr style=\"text-align: right;\">\n",
       "      <th></th>\n",
       "      <th>StateAbbr</th>\n",
       "      <th>Restaurants</th>\n",
       "      <th>Population</th>\n",
       "      <th>Obesity</th>\n",
       "      <th>ffr_pc</th>\n",
       "    </tr>\n",
       "  </thead>\n",
       "  <tbody>\n",
       "    <tr>\n",
       "      <th>43</th>\n",
       "      <td>MS</td>\n",
       "      <td>52</td>\n",
       "      <td>2976149</td>\n",
       "      <td>40.8</td>\n",
       "      <td>0.174722</td>\n",
       "    </tr>\n",
       "    <tr>\n",
       "      <th>21</th>\n",
       "      <td>WI</td>\n",
       "      <td>176</td>\n",
       "      <td>5822434</td>\n",
       "      <td>39.7</td>\n",
       "      <td>0.302279</td>\n",
       "    </tr>\n",
       "    <tr>\n",
       "      <th>22</th>\n",
       "      <td>AR</td>\n",
       "      <td>91</td>\n",
       "      <td>3017804</td>\n",
       "      <td>37.4</td>\n",
       "      <td>0.301544</td>\n",
       "    </tr>\n",
       "    <tr>\n",
       "      <th>3</th>\n",
       "      <td>OH</td>\n",
       "      <td>503</td>\n",
       "      <td>11689100</td>\n",
       "      <td>36.8</td>\n",
       "      <td>0.430315</td>\n",
       "    </tr>\n",
       "    <tr>\n",
       "      <th>0</th>\n",
       "      <td>SD</td>\n",
       "      <td>40</td>\n",
       "      <td>884659</td>\n",
       "      <td>36.5</td>\n",
       "      <td>0.452152</td>\n",
       "    </tr>\n",
       "  </tbody>\n",
       "</table>\n",
       "</div>"
      ],
      "text/plain": [
       "   StateAbbr  Restaurants  Population  Obesity    ffr_pc\n",
       "43        MS           52     2976149     40.8  0.174722\n",
       "21        WI          176     5822434     39.7  0.302279\n",
       "22        AR           91     3017804     37.4  0.301544\n",
       "3         OH          503    11689100     36.8  0.430315\n",
       "0         SD           40      884659     36.5  0.452152"
      ]
     },
     "execution_count": 43,
     "metadata": {},
     "output_type": "execute_result"
    }
   ],
   "source": [
    "df.sort_values(by='Obesity', ascending=False).head(5)"
   ]
  },
  {
   "cell_type": "markdown",
   "metadata": {},
   "source": [
    "As you can see here, from our visual and table above. <br>\n",
    "The darker the color, the most higher the obesity rate in the states. <br>\n",
    "**Mississippi** has the darkest color in our graph follow by **Wisconsin, Arkansas, etc**.<br>\n",
    "This is correlates with our table sorting by `Obesity`. "
   ]
  },
  {
   "cell_type": "code",
   "execution_count": 62,
   "metadata": {},
   "outputs": [
    {
     "data": {
      "image/png": "[encoded data removed]"
     },
     "metadata": {},
     "output_type": "display_data"
    }
   ],
   "source": [
    "# Plot Fast Food Restarants per 10,000 capita in U.S. in 2019\n",
    "fig = px.choropleth(df, \n",
    "                    locations='StateAbbr', \n",
    "                    locationmode=\"USA-states\", \n",
    "                    color='ffr_pc', \n",
    "                    color_continuous_scale=\"Blues\", \n",
    "                    scope=\"usa\")\n",
    "fig.update_layout(title_text='U.S. 2019 Fast Food Restaurants per 10,000 Capita')\n",
    "fig.show('png')"
   ]
  },
  {
   "cell_type": "code",
   "execution_count": 44,
   "metadata": {},
   "outputs": [
    {
     "data": {
      "text/html": [
       "<div>\n",
       "<style scoped>\n",
       "    .dataframe tbody tr th:only-of-type {\n",
       "        vertical-align: middle;\n",
       "    }\n",
       "\n",
       "    .dataframe tbody tr th {\n",
       "        vertical-align: top;\n",
       "    }\n",
       "\n",
       "    .dataframe thead th {\n",
       "        text-align: right;\n",
       "    }\n",
       "</style>\n",
       "<table border=\"1\" class=\"dataframe\">\n",
       "  <thead>\n",
       "    <tr style=\"text-align: right;\">\n",
       "      <th></th>\n",
       "      <th>StateAbbr</th>\n",
       "      <th>Restaurants</th>\n",
       "      <th>Population</th>\n",
       "      <th>Obesity</th>\n",
       "      <th>ffr_pc</th>\n",
       "    </tr>\n",
       "  </thead>\n",
       "  <tbody>\n",
       "    <tr>\n",
       "      <th>0</th>\n",
       "      <td>SD</td>\n",
       "      <td>40</td>\n",
       "      <td>884659</td>\n",
       "      <td>36.5</td>\n",
       "      <td>0.452152</td>\n",
       "    </tr>\n",
       "    <tr>\n",
       "      <th>1</th>\n",
       "      <td>ND</td>\n",
       "      <td>34</td>\n",
       "      <td>762062</td>\n",
       "      <td>34.8</td>\n",
       "      <td>0.446158</td>\n",
       "    </tr>\n",
       "    <tr>\n",
       "      <th>2</th>\n",
       "      <td>NE</td>\n",
       "      <td>85</td>\n",
       "      <td>1934408</td>\n",
       "      <td>34.1</td>\n",
       "      <td>0.439411</td>\n",
       "    </tr>\n",
       "    <tr>\n",
       "      <th>3</th>\n",
       "      <td>OH</td>\n",
       "      <td>503</td>\n",
       "      <td>11689100</td>\n",
       "      <td>36.8</td>\n",
       "      <td>0.430315</td>\n",
       "    </tr>\n",
       "    <tr>\n",
       "      <th>4</th>\n",
       "      <td>LA</td>\n",
       "      <td>194</td>\n",
       "      <td>4648794</td>\n",
       "      <td>35.9</td>\n",
       "      <td>0.417313</td>\n",
       "    </tr>\n",
       "  </tbody>\n",
       "</table>\n",
       "</div>"
      ],
      "text/plain": [
       "  StateAbbr  Restaurants  Population  Obesity    ffr_pc\n",
       "0        SD           40      884659     36.5  0.452152\n",
       "1        ND           34      762062     34.8  0.446158\n",
       "2        NE           85     1934408     34.1  0.439411\n",
       "3        OH          503    11689100     36.8  0.430315\n",
       "4        LA          194     4648794     35.9  0.417313"
      ]
     },
     "execution_count": 44,
     "metadata": {},
     "output_type": "execute_result"
    }
   ],
   "source": [
    "df.sort_values(by='ffr_pc', ascending=False).head(5)"
   ]
  },
  {
   "cell_type": "markdown",
   "metadata": {},
   "source": [
    "As you can see here, from our visual and table above. <br>\n",
    "The darker the color, the most higher the obesity rate in the states. <br>\n",
    "**South Dakora** and **North Dakota** are the two states with the highest fast-food restaurant per 10,000 capita follow by other states.<br>\n",
    "This is correlates with our table sorting by `ffr_pc`. "
   ]
  },
  {
   "cell_type": "markdown",
   "metadata": {},
   "source": [
    "**Our goal is to look for the relationship between the amount of fast food restaurants and the obesity rates**"
   ]
  },
  {
   "cell_type": "markdown",
   "metadata": {},
   "source": [
    "Here, we want to use the the scatter plot, and plot the relationship between two variables with a line. <br>\n",
    "This should help us see the correlation between the two variables better. <br>\n",
    "1. If the slope is negative, then we have a negative correlation\n",
    "2. If the slope is positive, then we have a positive correlation\n",
    "3. If the line is a bit flat, then the relationship between the two variables are not significant"
   ]
  },
  {
   "cell_type": "code",
   "execution_count": 63,
   "metadata": {},
   "outputs": [
    {
     "data": {
      "image/png": "[encoded data removed]",
      "text/plain": [
       "<Figure size 720x360 with 1 Axes>"
      ]
     },
     "metadata": {},
     "output_type": "display_data"
    }
   ],
   "source": [
    "plot_ffr_obese = sns.lmplot(x='Restaurants', y='Obesity', data=df, aspect=2)"
   ]
  },
  {
   "cell_type": "markdown",
   "metadata": {},
   "source": [
    "From looking at this line graph, we can see that there is a negative correlation between two variables since the slope of the line is negative. <br>\n",
    "- Though, a lot of our variables are on the left side of the graph, hence our prediction will not be accurate. \n",
    "- This might leads to the correlation between the two are not significant. <br>\n",
    "\n",
    "Moreover, the percentage of obesity is might be affected by the population of the state. <br>\n",
    "Therefore, we compare the amount of fast food restaurants per 10,000 resident and the percentage of obesity below. <br>"
   ]
  },
  {
   "cell_type": "code",
   "execution_count": 64,
   "metadata": {},
   "outputs": [
    {
     "data": {
      "text/plain": [
       "<seaborn.axisgrid.FacetGrid at 0x2941fdf0>"
      ]
     },
     "execution_count": 64,
     "metadata": {},
     "output_type": "execute_result"
    },
    {
     "data": {
      "image/png": "[encoded data removed]",
      "text/plain": [
       "<Figure size 720x360 with 1 Axes>"
      ]
     },
     "metadata": {},
     "output_type": "display_data"
    }
   ],
   "source": [
    "plot_ffr_pc_obese = sns.lmplot(x='ffr_pc', y='Obesity', data=df, aspect=2)\n",
    "plot_ffr_pc_obese.set(xlabel='Restaurants per 10,000 Capita')"
   ]
  },
  {
   "cell_type": "markdown",
   "metadata": {},
   "source": [
    "As we can see here, the regression line is a bit positive but almost flat for this graph. <br>\n",
    "- This implies that the relationship between obesity rate and restaurant per 10,000 capita is not significant. \n",
    "- The scatter points are distributed more equally this time. Thus, our prediction would be a bit more accurate compared to abovev. \n",
    "\n",
    "With this in mind, let's see if our predictions from looking at the line graphs are correct by looking at the Linear Regression summary below. "
   ]
  },
  {
   "cell_type": "markdown",
   "metadata": {},
   "source": [
    "### Linear Regression "
   ]
  },
  {
   "cell_type": "markdown",
   "metadata": {},
   "source": [
    "#### Relation between Obesity and Restaurants"
   ]
  },
  {
   "cell_type": "code",
   "execution_count": 65,
   "metadata": {},
   "outputs": [
    {
     "name": "stdout",
     "output_type": "stream",
     "text": [
      "                            OLS Regression Results                            \n",
      "==============================================================================\n",
      "Dep. Variable:                Obesity   R-squared:                       0.036\n",
      "Model:                            OLS   Adj. R-squared:                  0.016\n",
      "Method:                 Least Squares   F-statistic:                     1.780\n",
      "Date:                Thu, 03 Mar 2022   Prob (F-statistic):              0.189\n",
      "Time:                        11:08:07   Log-Likelihood:                -134.23\n",
      "No. Observations:                  49   AIC:                             272.5\n",
      "Df Residuals:                      47   BIC:                             276.2\n",
      "Df Model:                           1                                         \n",
      "Covariance Type:            nonrobust                                         \n",
      "===============================================================================\n",
      "                  coef    std err          t      P>|t|      [0.025      0.975]\n",
      "-------------------------------------------------------------------------------\n",
      "Intercept      32.8661      0.743     44.225      0.000      31.371      34.361\n",
      "Restaurants    -0.0035      0.003     -1.334      0.189      -0.009       0.002\n",
      "==============================================================================\n",
      "Omnibus:                        0.413   Durbin-Watson:                   1.627\n",
      "Prob(Omnibus):                  0.813   Jarque-Bera (JB):                0.550\n",
      "Skew:                          -0.184   Prob(JB):                        0.760\n",
      "Kurtosis:                       2.634   Cond. No.                         381.\n",
      "==============================================================================\n",
      "\n",
      "Notes:\n",
      "[1] Standard Errors assume that the covariance matrix of the errors is correctly specified.\n"
     ]
    }
   ],
   "source": [
    "outcome, predictors = patsy.dmatrices('Obesity ~ Restaurants', df)\n",
    "model = sm.OLS(outcome, predictors)\n",
    "res_1 = model.fit()\n",
    "\n",
    "print(res_1.summary())"
   ]
  },
  {
   "cell_type": "markdown",
   "metadata": {},
   "source": [
    "- The slope is negative shows that there is a negative correlation between Obesity Rate and Number of FFRs\n",
    "- P-value of 0.189 > 0.05 means that there is no statistical relationship and significance exists between Obesity and Number of FFRs\n",
    "\n",
    "These findings are similar to what we predicted above."
   ]
  },
  {
   "cell_type": "markdown",
   "metadata": {},
   "source": [
    "#### Relation between Obesity and Restaurants per 10,000 Capita"
   ]
  },
  {
   "cell_type": "code",
   "execution_count": 66,
   "metadata": {},
   "outputs": [
    {
     "name": "stdout",
     "output_type": "stream",
     "text": [
      "                            OLS Regression Results                            \n",
      "==============================================================================\n",
      "Dep. Variable:                Obesity   R-squared:                       0.011\n",
      "Model:                            OLS   Adj. R-squared:                 -0.010\n",
      "Method:                 Least Squares   F-statistic:                    0.5252\n",
      "Date:                Thu, 03 Mar 2022   Prob (F-statistic):              0.472\n",
      "Time:                        11:08:40   Log-Likelihood:                -134.87\n",
      "No. Observations:                  49   AIC:                             273.7\n",
      "Df Residuals:                      47   BIC:                             277.5\n",
      "Df Model:                           1                                         \n",
      "Covariance Type:            nonrobust                                         \n",
      "==============================================================================\n",
      "                 coef    std err          t      P>|t|      [0.025      0.975]\n",
      "------------------------------------------------------------------------------\n",
      "Intercept     30.9755      1.770     17.502      0.000      27.415      34.536\n",
      "ffr_pc         4.1943      5.787      0.725      0.472      -7.448      15.837\n",
      "==============================================================================\n",
      "Omnibus:                        0.183   Durbin-Watson:                   1.576\n",
      "Prob(Omnibus):                  0.913   Jarque-Bera (JB):                0.370\n",
      "Skew:                          -0.095   Prob(JB):                        0.831\n",
      "Kurtosis:                       2.619   Cond. No.                         11.3\n",
      "==============================================================================\n",
      "\n",
      "Notes:\n",
      "[1] Standard Errors assume that the covariance matrix of the errors is correctly specified.\n"
     ]
    }
   ],
   "source": [
    "outcome_2, predictors_2 = patsy.dmatrices('Obesity ~ ffr_pc', df)\n",
    "model_2 = sm.OLS(outcome_2, predictors_2)\n",
    "res_2 = model_2.fit()\n",
    "\n",
    "print(res_2.summary())"
   ]
  },
  {
   "cell_type": "markdown",
   "metadata": {},
   "source": [
    "- The slope is positive hence there is a positive correlation\n",
    "- P-value of 0.472 > 0.05 (a lot greater than 0.05) so there is no statistical relationship and significance exists between Obesity and Number of FFRs\n",
    "\n",
    "These findings are similar to what we predicted above"
   ]
  },
  {
   "cell_type": "markdown",
   "metadata": {},
   "source": [
    "# Ethics & Privacy"
   ]
  },
  {
   "cell_type": "markdown",
   "metadata": {},
   "source": [
    "### *Permission to use the data*\n",
    "\n",
    "From the three datasets, only one has the express permission to be used by the public, making it have no ethical or privacy concerns. The dataset is from the Centers for Diseases Control and Prevention (CDC), a mandated public health department in the U.S. government. The dataset is, therefore, open to public use. However, two of the data sets, Fast food restaurants across the U.S. and 2019 Census U.S. Population Data by State, have been provided by users in the Kaggle.com website that, is a vast repository of community published data have articulated the sources of their data. In this, individual users can post the datasets. Such raises ethical and privacy concerns as the individual users may not have express permission to publish the data. For instance, Fast-food restaurants across the U.S. dataset has been acquired from Datafiniti’s business database. The database provides data obtained from the internet, and legitimizing this source may be difficult, despite the person posting the data noting that the data is free to use. On the other hand, the post by a user on the same website provides data on the 2019 Census population by state but does not exclusively show the source of the data or even grant permission for its use. When using these two datasets, one must ascertain their origins. \n",
    "\n",
    "### *Privacy concerns*\n",
    "\n",
    "The dataset from CDC has no privacy concerns since it was acquired at the country level, with no personally identifiable information attributed to the persons who participated in the survey. However, fast-food restaurants across the U.S. might have some privacy concerns. The dataset contains data from the restaurants in the country without showcasing whether the researcher acquired consent to publish this information. As such, the business might not necessarily appreciate this, despite them being in the public domain. On the other hand, the final dataset of the 2019 census has no privacy issues as no personally identifiable information is given out to the readers. \n",
    "\n",
    "### *Potential Biases*\n",
    "\n",
    "The data from the CDC database is collected from states, which are acquired from medical records, patient surveys, and administrative services in registered hospitals in the individual states. For the Nutritional, Physical Activity, and Obesity data collected for the CDC, the data was mainly collected through the Behavioral Risk Factor Surveillance System (BRFSS). The BRFSS is done through telephone surveys that collect state data about different U.S. residents' related risky behaviors on their health. One of the potential issues regarding this is that there may be an issue of inaccurate responses from the participants. Telephone surveys are usually designed to be brief, limiting the time that a respondent may spend on an open-ended question. Based on the Fast-food restaurants across the U.S. dataset, limited representation is potential to ensure that the sampled data can be generalized to the United States. \n",
    "\n",
    "The dataset only contains a list of 10,000 restaurant businesses in the country. Restaurants in the country may be more than this number, showcasing that some critical data may have been left out. Furthermore, this dataset does not provide the period of when the researchers collected the data. If the data collection period happened many years ago, it would not be helpful at the moment. The main reason for this is that the business world is highly dynamic, with businesses closing and others setting up. Finally, the state's final dataset on the U.S. population may not accurately describe population changes within the states. For instance, it is tough to contend that low birth rates cause a negative population growth rate in a state instead of citizens moving out to other states or migrating to other countries. \n"
   ]
  },
  {
   "cell_type": "markdown",
   "metadata": {},
   "source": [
    "# Conclusion & Discussion"
   ]
  },
  {
   "cell_type": "markdown",
   "metadata": {},
   "source": [
    "Based on our findings, we conclude that there is no positive correlation between the obesity rate and the number of fast-food restaurants in the U.S. Furthermore, the relationship between the obesity rate and the FFRs per 10,000 shows that there is also no significant relationship between the population of each state and the obesity level. We fail to reject the null hypothesis since the p-value calculated in our regression models did not indicate that there was any statistical significance in our calculations."
   ]
  },
  {
   "cell_type": "markdown",
   "metadata": {},
   "source": []
  },
  {
   "cell_type": "markdown",
   "metadata": {},
   "source": [
    "# Team Contributions\n",
    "Them Dang <br>\n",
    "- Data, data cleaning, visualizations, ethics and privacy\n",
    "\n",
    "Thanh Bui\n",
    "- Background, found data, data cleaning, EDA (analysis), visualizations, conclusion\n",
    "\n",
    "Ruthvicsai Sivakimar <br>\n",
    "- Video, Datasets, Data Cleaning\n",
    "\n",
    "Noah Simpson <br>\n",
    "- Background, found data, data cleaning, EDA (analysis)\n",
    "\n",
    "Alexis Cortes <br>\n",
    "- ..."
   ]
  }
 ],
 "metadata": {
  "kernelspec": {
   "display_name": "Python 3",
   "language": "python",
   "name": "python3"
  },
  "language_info": {
   "codemirror_mode": {
    "name": "ipython",
    "version": 3
   },
   "file_extension": ".py",
   "mimetype": "text/x-python",
   "name": "python",
   "nbconvert_exporter": "python",
   "pygments_lexer": "ipython3",
   "version": "3.8.6"
  }
 },
 "nbformat": 4,
 "nbformat_minor": 2
}
