{
 "cells": [
  {
   "cell_type": "markdown",
   "metadata": {},
   "source": [
    "[https://youtu.be/JCSIxKT_4ns](https://youtu.be/JCSIxKT_4ns)"
   ]
  },
  {
   "cell_type": "markdown",
   "metadata": {},
   "source": [
    "# COGS 108 - Amongst Covid Variants: Airline Stocks Losing Altitude? "
   ]
  },
  {
   "cell_type": "markdown",
   "metadata": {},
   "source": [
    "## Permissions\n",
    "\n",
    "Place an `X` in the appropriate bracket below to specify if you would like your group's project to be made available to the public. (Note that student names will be included (but PIDs will be scraped from any groups who include their PIDs).\n",
    "\n",
    "* [X] YES - make available\n",
    "* [  ] NO - keep private"
   ]
  },
  {
   "cell_type": "markdown",
   "metadata": {},
   "source": [
    "# Overview"
   ]
  },
  {
   "cell_type": "markdown",
   "metadata": {},
   "source": [
    "In this project, we gathered airline stock data surrounding the dates of the World Health Organization's Delta and Omicron variant announcements in order to determine which had a greater negative relationship with major U.S. airlines' stocks. We created graphs to compare the before and after of each announcements and our analysis led us to find that following both announcements, there was an overall drop in airline stock prices. Interestingly, there was a larger drop in average airline stock prices after the Omicron announcement compared to the Delta variant. After the annoucement of the Delta variant, this decline was slowly perpetuated, whereas the announcement of the Omicron variant resulted in a sharp decline followed by a slight increase back up. "
   ]
  },
  {
   "cell_type": "markdown",
   "metadata": {},
   "source": [
    "# Names\n",
    "\n",
    "- Dillan DeMoss\n",
    "- Renaissance Carr\n",
    "- Steven Christensen\n",
    "- Tanner Broese\n",
    "- Joanne Wu"
   ]
  },
  {
   "cell_type": "markdown",
   "metadata": {},
   "source": [
    "<a id='research_question'></a>\n",
    "# Research Question"
   ]
  },
  {
   "cell_type": "markdown",
   "metadata": {},
   "source": [
    "In terms of the relationship between major U.S. airlines' stocks and the announcement of a variant of concern by the World Health Organization, was there a greater decrease in the airlines' stock prices after the announcement of the Delta variant or after the announcement of the Omicron variant?\n"
   ]
  },
  {
   "cell_type": "markdown",
   "metadata": {},
   "source": [
    "<a id='background'></a>\n",
    "\n",
    "## Background & Prior Work"
   ]
  },
  {
   "cell_type": "markdown",
   "metadata": {},
   "source": [
    "The ramifications of Covid-19 have followed all of us for the past 2+ years, shaking up many norms in our lives including hygienic, social, and educational standards. These are changes we can closely feel as they affect our everyday lives, but what about the changes we don't see in our day to day? We wanted to view Covid-19's influence through a financial lens. \n",
    "\n",
    "Following the rise of Covid-19, the stock market saw significant changes on a global scale. Our goal in this project was to understand the relationship between the Delta and Omicron variant announcements and U.S. airline stocks. We aimed to make a comprehensive analysis using a significant amount of the airline stock data surrounding the announcements of the Delta and Omicron variants. There are several articles stating that the Delta and Omicron variant lead to a drop in airline stock prices. The data backing these claims is a recent (relative to the article release date) drop in several airline stocks followed by several speculations as to what caused this drop. \n",
    "\n",
    "References:\n",
    "- 1) https://www.marketwatch.com/story/airline-stocks-suffer-broad-selloff-as-fear-of-omicron-variants-impact-on-travel-spreads-2021-11-30\n",
    "- 2) https://www.marketwatch.com/story/airline-stocks-fall-as-delta-variant-leads-to-less-traveling-as-ominous-chart-pattern-appears-11629138766\n",
    "- 3) https://tnmt.com/infographics/airline-stock-performance-during-pandemics/ "
   ]
  },
  {
   "cell_type": "markdown",
   "metadata": {},
   "source": [
    "# Hypothesis\n"
   ]
  },
  {
   "cell_type": "markdown",
   "metadata": {},
   "source": [
    "We hypothesized that both variant announcements would result in a overall drop in airline stock prices. Since the Omincron announcement came further into the pandemic, we predicted the airline stock prices would be less affected than Delta's. Our stance was influenced by our belief that U.S. residents would be more likely to have quarantine fatigue and also that the lower mortality rate of Omicron following mass vaccinations would mean more people are comfortable traveling, thus the stocks would be safer than Delta's."
   ]
  },
  {
   "cell_type": "markdown",
   "metadata": {},
   "source": [
    "# Dataset(s)"
   ]
  },
  {
   "cell_type": "markdown",
   "metadata": {},
   "source": [
    "\n",
    "----------------------------------------\n",
    "- Dataset Name: United Airlines Holdings, Inc. (UAL)\n",
    "- Link to the dataset: https://finance.yahoo.com/quote/UAL/history/\n",
    "- Number of observations: 142\n",
    "- Description: We are observing the opening price of the United Airlines Holdings, Inc. stock market opening value starting 35 stock days before the announcement of the Delta variant by the World Health Organization and ending 35 stock days after the same announcement date. Similarly we are analyzing the same number of fates surrounding the announcement of the Omicron variant.\n",
    "\n",
    "----------------------------------------\n",
    "- Dataset Name: Southwest Airlines Co. (LUV)\n",
    "- Link to the dataset:https: https://finance.yahoo.com/quote/LUV/history?p=LUV\n",
    "- Number of observations: 142\n",
    "- Description: We are observing the opening price of the Southwest Airlines Co. stock market opening value starting 35 stock days before the announcement of the Delta variant by the World Health Organization and ending 35 stock days after the same announcement date. Similarly we are analyzing the same number of fates surrounding the announcement of the Omicron variant.\n",
    "\n",
    "----------------------------------------\n",
    "- Dataset Name: Delta Air Lines, Inc. (DAL)\n",
    "- Link to the dataset:https: https://finance.yahoo.com/quote/DAL/history?p=DAL\n",
    "- Number of observations: 142\n",
    "- Description: We are observing the opening price of the Delta Air Lines, Inc. stock market opening value starting 35 stock days before the announcement of the Delta variant by the World Health Organization and ending 35 stock days after the same announcement date. Similarly we are analyzing the same number of fates surrounding the announcement of the Omicron variant.\n",
    "\n",
    "----------------------------------------\n",
    "- Dataset Name: American Airlines Group Inc. (AAL)\n",
    "- Link to the dataset:https: https://finance.yahoo.com/quote/AAL/history?p=AAL\n",
    "- Number of observations: 142\n",
    "- Description: We are observing the opening price of the American Airlines Group Inc. stock market opening value starting 35 stock days before the announcement of the Delta variant by the World Health Organization and ending 35 stock days after the same announcement date. Similarly we are analyzing the same number of fates surrounding the announcement of the Omicron variant.\n",
    "\n",
    "----------------------------------------\n",
    "- Spirit Airlines, Inc. (SAVE)\n",
    "- Link to the dataset:https: https://finance.yahoo.com/quote/SAVE/history?p=SAVE\n",
    "- Number of observations: 142\n",
    "- Description: We are observing the opening price of the Spirit Airlines, Inc. stock market opening value starting 35 stock days before the announcement of the Delta variant by the World Health Organization and ending 35 stock days after the same announcement date. Similarly we are analyzing the same number of fates surrounding the announcement of the Omicron variant.\n",
    "\n",
    "----------------------------------------\n",
    "- Dataset Name: Frontier Group Holdings, Inc. (ULCC)\n",
    "- Link to the dataset:https: https://finance.yahoo.com/quote/ULCC/history?p=ULCC\n",
    "- Number of observations: 142\n",
    "- Description: We are observing the opening price of the Frontier Group Holdings, Inc. stock market opening value starting 35 stock days before the announcement of the Delta variant by the World Health Organization and ending 35 stock days after the same announcement date. Similarly we are analyzing the same number of fates surrounding the announcement of the Omicron variant.\n",
    "\n",
    "----------------------------------------\n",
    "- Dataset Name: Alaska Air Group, Inc. (ALK)\n",
    "- Link to the dataset:https: https://finance.yahoo.com/quote/ALK/history?p=ALK\n",
    "- Number of observations: 142\n",
    "- Description: We are observing the opening price of the Alaska Air Group, Inc. stock market opening value starting 35 stock days before the announcement of the Delta variant by the World Health Organization and ending 35 stock days after the same announcement date. Similarly we are analyzing the same number of fates surrounding the announcement of the Omicron variant.\n",
    "\n",
    "----------------------------------------\n",
    "The above datasets represent the seven total airlines we analyzed and compared. In total, we analysed 994 unique observations."
   ]
  },
  {
   "cell_type": "markdown",
   "metadata": {},
   "source": [
    "# Setup"
   ]
  },
  {
   "cell_type": "code",
   "execution_count": null,
   "metadata": {},
   "outputs": [],
   "source": [
    "from google.colab import drive\n",
    "drive.mount('/content/drive')\n",
    "\n",
    "import pandas as pd\n",
    "import numpy as np\n",
    "import seaborn as sns"
   ]
  },
  {
   "cell_type": "markdown",
   "metadata": {},
   "source": [
    "# Data Cleaning"
   ]
  },
  {
   "cell_type": "markdown",
   "metadata": {},
   "source": [
    "The data we used was already in a neat tabular format with the information we were seeking all in single column. Observations were already organized by date (which is how we wanted to differentiate them). Additionally, each cell that we want to work with is already void of any units or spacing issues. The data was available in the form of a csv file so our part was downloading the csv from Yahoo's historical stock records and then using pandas to create a dataframe from it. We removed the rows that represented dates outside our specified range. Also, we removed all columns that contained values other than the opening stock value ie. closing value, high, low. This allowed us to easly analyze the data relevant to each announcement.  "
   ]
  },
  {
   "cell_type": "code",
   "execution_count": 2,
   "metadata": {},
   "outputs": [],
   "source": [
    "#Input Announcment Dates\n",
    "#UAL\n",
    "deltaAnncDateIndUAL = dfUAL[(dfUAL['Date'] == '2021-05-11')].index\n",
    "omiAnncDateIndUAL = dfUAL[(dfUAL['Date'] == '2021-11-26')].index\n",
    "#LUV\n",
    "deltaAnncDateIndLUV = dfLUV[(dfLUV['Date'] == '2021-05-11')].index\n",
    "omiAnncDateIndLUV = dfLUV[(dfLUV['Date'] == '2021-11-26')].index\n",
    "#DAL\n",
    "deltaAnncDateIndDAL = dfDAL[(dfDAL['Date'] == '2021-05-11')].index\n",
    "omiAnncDateIndDAL = dfDAL[(dfDAL['Date'] == '2021-11-26')].index\n",
    "#AAL\n",
    "deltaAnncDateIndAAL = dfAAL[(dfAAL['Date'] == '2021-05-11')].index\n",
    "omiAnncDateIndAAL = dfAAL[(dfAAL['Date'] == '2021-11-26')].index\n",
    "#SAVE\n",
    "deltaAnncDateIndSAVE = dfSAVE[(dfSAVE['Date'] == '2021-05-11')].index\n",
    "omiAnncDateIndSAVE = dfSAVE[(dfSAVE['Date'] == '2021-11-26')].index\n",
    "#ULCC\n",
    "deltaAnncDateIndULCC = dfULCC[(dfULCC['Date'] == '2021-05-11')].index\n",
    "omiAnncDateIndULCC = dfULCC[(dfULCC['Date'] == '2021-11-26')].index\n",
    "#ALK\n",
    "deltaAnncDateIndALK = dfALK[(dfALK['Date'] == '2021-05-11')].index\n",
    "omiAnncDateIndALK = dfALK[(dfALK['Date'] == '2021-11-26')].index\n",
    "\n",
    "\n",
    "\n",
    "# obtain the starting index from 35 days before Delta announcement\n",
    "startDateDeltaIndUAL = deltaAnncDateIndUAL[0] -35\n",
    "startDateDeltaIndLUV = deltaAnncDateIndLUV[0] -35\n",
    "startDateDeltaIndDAL = deltaAnncDateIndDAL[0] -35\n",
    "startDateDeltaIndAAL = deltaAnncDateIndAAL[0] -35\n",
    "startDateDeltaIndSAVE = deltaAnncDateIndSAVE[0] -35\n",
    "startDateDeltaIndULCC = deltaAnncDateIndULCC[0] -35\n",
    "startDateDeltaIndALK = deltaAnncDateIndALK[0] -35\n",
    "\n",
    "# obtain the ending index from 35 days after Delta announcement\n",
    "endDateDeltaIndUAL = deltaAnncDateIndUAL[0] + 35\n",
    "endDateDeltaIndLUV = deltaAnncDateIndLUV[0] + 35\n",
    "endDateDeltaIndDAL = deltaAnncDateIndDAL[0] + 35\n",
    "endDateDeltaIndAAL = deltaAnncDateIndAAL[0] + 35\n",
    "endDateDeltaIndSAVE = deltaAnncDateIndSAVE[0] + 35\n",
    "endDateDeltaIndULCC = deltaAnncDateIndULCC[0] + 35\n",
    "endDateDeltaIndALK = deltaAnncDateIndALK[0] + 35\n",
    "\n",
    "# obtain the starting index from 35 days before Omi announcement\n",
    "startDateOmiIndUAL = omiAnncDateIndUAL[0] - 35\n",
    "startDateOmiIndLUV = omiAnncDateIndLUV[0] - 35\n",
    "startDateOmiIndDAL = omiAnncDateIndDAL[0] - 35\n",
    "startDateOmiIndAAL = omiAnncDateIndAAL[0] - 35\n",
    "startDateOmiIndSAVE = omiAnncDateIndSAVE[0] - 35\n",
    "startDateOmiIndULCC = omiAnncDateIndULCC[0] - 35\n",
    "startDateOmiIndALK = omiAnncDateIndALK[0] - 35\n",
    "\n",
    "# obtain the ending index from 35 days after Omi announcement\n",
    "endDateOmiIndUAL = omiAnncDateIndUAL[0] + 35\n",
    "endDateOmiIndLUV = omiAnncDateIndLUV[0] + 35\n",
    "endDateOmiIndDAL = omiAnncDateIndDAL[0] + 35\n",
    "endDateOmiIndAAL = omiAnncDateIndAAL[0] + 35\n",
    "endDateOmiIndSAVE = omiAnncDateIndSAVE[0] + 35\n",
    "endDateOmiIndULCC = omiAnncDateIndULCC[0] + 35\n",
    "endDateOmiIndALK = omiAnncDateIndALK[0] + 35\n",
    "\n",
    "# calculate the total number of rows needed to encapsulate those date for each variant\n",
    "#United\n",
    "numRowsToKeepDeltaUAL = endDateDeltaIndUAL - startDateDeltaIndUAL\n",
    "numRowsToKeepOmiUAL = endDateOmiIndUAL - startDateOmiIndUAL\n",
    "#Southwest\n",
    "numRowsToKeepDeltaLUV = endDateDeltaIndLUV - startDateDeltaIndLUV\n",
    "numRowsToKeepOmiLUV = endDateOmiIndLUV - startDateOmiIndLUV\n",
    "#Delta Airlines\n",
    "numRowsToKeepDeltaDAL = endDateDeltaIndDAL - startDateDeltaIndDAL\n",
    "numRowsToKeepOmiDAL = endDateOmiIndDAL - startDateOmiIndDAL\n",
    "#American\n",
    "numRowsToKeepDeltaAAL = endDateDeltaIndAAL - startDateDeltaIndAAL\n",
    "numRowsToKeepOmiAAL = endDateOmiIndAAL - startDateOmiIndAAL\n",
    "#Spirit\n",
    "numRowsToKeepDeltaSAVE = endDateDeltaIndSAVE - startDateDeltaIndSAVE\n",
    "numRowsToKeepOmiSAVE = endDateOmiIndSAVE - startDateOmiIndSAVE\n",
    "#Frontier\n",
    "numRowsToKeepDeltaULCC = endDateDeltaIndULCC - startDateDeltaIndULCC\n",
    "numRowsToKeepOmiULCC = endDateOmiIndULCC - startDateOmiIndULCC\n",
    "#Alaskan\n",
    "numRowsToKeepDeltaALK = endDateDeltaIndALK - startDateDeltaIndALK\n",
    "numRowsToKeepOmiALK = endDateOmiIndALK - startDateOmiIndALK"
   ]
  },
  {
   "cell_type": "code",
   "execution_count": null,
   "metadata": {},
   "outputs": [],
   "source": [
    "# UNITED: Drop the unneeded rows for Delta\n",
    "dfDeltaUAL = dfDeltaUAL.drop(dfDeltaUAL.columns[2:], axis=1, inplace=False)\n",
    "dfDeltaUAL = dfDeltaUAL.drop(labels=range(0, startDateDeltaIndUAL), axis=0, inplace = False)\n",
    "dfDeltaUAL = dfDeltaUAL[:numRowsToKeepDeltaUAL +1 ] \n",
    "dfDeltaUAL = dfDeltaUAL.rename(columns={'Open': 'UAL Open'})\n",
    "dfDeltaUAL= dfDeltaUAL.reset_index()\n",
    "\n",
    "# Drop the unneeded rows for Omi\n",
    "dfOmiUAL.drop(dfOmiUAL.columns[2:], axis=1, inplace=True)\n",
    "dfOmiUAL.drop(labels=range(0, startDateOmiIndUAL), axis=0, inplace = True)\n",
    "dfOmiUAL = dfOmiUAL[:numRowsToKeepOmiUAL + 1]  \n",
    "dfOmiUAL = dfOmiUAL.rename(columns={'Open': 'UAL Open'})\n",
    "dfOmiUAL = dfOmiUAL.reset_index()\n",
    "\n",
    "# SOUTHWEST: Drop the unneeded rows for Delta\n",
    "dfDeltaLUV = dfDeltaLUV.drop(dfDeltaLUV.columns[2:], axis=1, inplace=False)\n",
    "dfDeltaLUV = dfDeltaLUV.drop(labels=range(0, startDateDeltaIndLUV), axis=0, inplace = False)\n",
    "dfDeltaLUV = dfDeltaLUV[:numRowsToKeepDeltaLUV +1 ] \n",
    "dfDeltaLUV = dfDeltaLUV.rename(columns={'Open': 'LUV Open'})\n",
    "dfDeltaLUV = dfDeltaLUV.reset_index()\n",
    "\n",
    "# Drop the unneeded rows for Omi\n",
    "dfOmiLUV.drop(dfOmiLUV.columns[2:], axis=1, inplace=True)\n",
    "dfOmiLUV.drop(labels=range(0, startDateOmiIndLUV), axis=0, inplace = True)\n",
    "dfOmiLUV = dfOmiLUV[:numRowsToKeepOmiLUV + 1]  \n",
    "dfOmiLUV = dfOmiLUV.rename(columns={'Open': 'LUV Open'})\n",
    "dfOmiLUV = dfOmiLUV.reset_index()\n",
    "\n",
    "# DELTA: Drop the unneeded rows for Delta\n",
    "dfDeltaDAL = dfDeltaDAL.drop(dfDeltaDAL.columns[2:], axis=1, inplace=False)\n",
    "dfDeltaDAL = dfDeltaDAL.drop(labels=range(0, startDateDeltaIndDAL), axis=0, inplace = False)\n",
    "dfDeltaDAL = dfDeltaDAL[:numRowsToKeepDeltaDAL +1 ] \n",
    "dfDeltaDAL = dfDeltaDAL.rename(columns={'Open': 'DAL Open'})\n",
    "dfDeltaDAL = dfDeltaDAL.reset_index()\n",
    "\n",
    "# Drop the unneeded rows for Omi\n",
    "dfOmiDAL.drop(dfOmiDAL.columns[2:], axis=1, inplace=True)\n",
    "dfOmiDAL.drop(labels=range(0, startDateOmiIndDAL), axis=0, inplace = True)\n",
    "dfOmiDAL = dfOmiDAL[:numRowsToKeepOmiDAL + 1]  \n",
    "dfOmiDAL = dfOmiDAL.rename(columns={'Open': 'DAL Open'})\n",
    "dfOmiDAL = dfOmiDAL.reset_index()\n",
    "\n",
    "# AMERICAN: Drop the unneeded rows for Delta\n",
    "dfDeltaAAL = dfDeltaAAL.drop(dfDeltaAAL.columns[2:], axis=1, inplace=False)\n",
    "dfDeltaAAL = dfDeltaAAL.drop(labels=range(0, startDateDeltaIndAAL), axis=0, inplace = False)\n",
    "dfDeltaAAL = dfDeltaAAL[:numRowsToKeepDeltaAAL +1 ] \n",
    "dfDeltaAAL = dfDeltaAAL.rename(columns={'Open': 'AAL Open'})\n",
    "dfDeltaAAL = dfDeltaAAL.reset_index()\n",
    "\n",
    "# Drop the unneeded rows for Omi\n",
    "dfOmiAAL.drop(dfOmiAAL.columns[2:], axis=1, inplace=True)\n",
    "dfOmiAAL.drop(labels=range(0, startDateOmiIndAAL), axis=0, inplace = True)\n",
    "dfOmiAAL = dfOmiAAL[:numRowsToKeepOmiAAL + 1]  \n",
    "dfOmiAAL = dfOmiAAL.rename(columns={'Open': 'AAL Open'})\n",
    "dfOmiAAL = dfOmiAAL.reset_index()\n",
    "\n",
    "# Spirit: Drop the unneeded rows for Delta\n",
    "dfDeltaSAVE = dfDeltaSAVE.drop(dfDeltaSAVE.columns[2:], axis=1, inplace=False)\n",
    "dfDeltaSAVE = dfDeltaSAVE.drop(labels=range(0, startDateDeltaIndSAVE), axis=0, inplace = False)\n",
    "dfDeltaSAVE = dfDeltaSAVE[:numRowsToKeepDeltaSAVE +1 ] \n",
    "dfDeltaSAVE = dfDeltaSAVE.rename(columns={'Open': 'SAVE Open'})\n",
    "dfDeltaSAVE = dfDeltaSAVE.reset_index()\n",
    "\n",
    "# Drop the unneeded rows for Omi\n",
    "dfOmiSAVE.drop(dfOmiSAVE.columns[2:], axis=1, inplace=True)\n",
    "dfOmiSAVE.drop(labels=range(0, startDateOmiIndSAVE), axis=0, inplace = True)\n",
    "dfOmiSAVE = dfOmiSAVE[:numRowsToKeepOmiSAVE + 1]  \n",
    "dfOmiSAVE = dfOmiSAVE.rename(columns={'Open': 'SAVE Open'})\n",
    "dfOmiSAVE = dfOmiSAVE.reset_index()\n",
    "\n",
    "# Frontier: Drop the unneeded rows for Delta\n",
    "dfDeltaULCC = dfDeltaULCC.drop(dfDeltaULCC.columns[2:], axis=1, inplace=False)\n",
    "dfDeltaULCC = dfDeltaULCC.drop(labels=range(0, startDateDeltaIndULCC), axis=0, inplace = False)\n",
    "dfDeltaULCC = dfDeltaULCC[:numRowsToKeepDeltaSAVE +1 ] \n",
    "dfDeltaULCC = dfDeltaULCC.rename(columns={'Open': 'ULCC Open'})\n",
    "dfDeltaULCC = dfDeltaULCC.reset_index()\n",
    "# Drop the unneeded rows for Omi\n",
    "dfOmiULCC.drop(dfOmiULCC.columns[2:], axis=1, inplace=True)\n",
    "dfOmiULCC.drop(labels=range(0, startDateOmiIndULCC), axis=0, inplace = True)\n",
    "dfOmiULCC = dfOmiULCC[:numRowsToKeepOmiULCC + 1]  \n",
    "dfOmiULCC = dfOmiULCC.rename(columns={'Open': 'ULCC Open'})\n",
    "dfOmiULCC = dfOmiULCC.reset_index()\n",
    "# Alaskan: Drop the unneeded rows for Delta\n",
    "dfDeltaALK = dfDeltaALK.drop(dfDeltaALK.columns[2:], axis=1, inplace=False)\n",
    "dfDeltaALK = dfDeltaALK.drop(labels=range(0, startDateDeltaIndALK), axis=0, inplace = False)\n",
    "dfDeltaALK = dfDeltaALK[:numRowsToKeepDeltaALK +1 ] \n",
    "dfDeltaALK = dfDeltaALK.rename(columns={'Open': 'ALK Open'})\n",
    "dfDeltaALK = dfDeltaALK.reset_index()\n",
    "# Drop the unneeded rows for Omi\n",
    "dfOmiALK.drop(dfOmiALK.columns[2:], axis=1, inplace=True)\n",
    "dfOmiALK.drop(labels=range(0, startDateOmiIndALK), axis=0, inplace = True)\n",
    "dfOmiALK = dfOmiALK[:numRowsToKeepOmiALK + 1]  \n",
    "dfOmiALK = dfOmiALK.rename(columns={'Open': 'ALK Open'})\n",
    "dfOmiALK = dfOmiALK.reset_index()"
   ]
  },
  {
   "cell_type": "markdown",
   "metadata": {},
   "source": [
    "# Data Analysis & Results"
   ]
  },
  {
   "cell_type": "markdown",
   "metadata": {},
   "source": [
    "Graphs of data and analysis are shown below."
   ]
  },
  {
   "cell_type": "code",
   "execution_count": 3,
   "metadata": {},
   "outputs": [],
   "source": [
    "# All dataframes are currently in 71 x 2 shape\n",
    "# We need to combine them into one dataframe and visualize the data\n",
    "#EDA\n",
    "\n",
    "#Step 1: Combine into a single Delta dataframe\n",
    "dfDelta = dfDeltaUAL.drop(columns = ['index'], axis = 1)\n",
    "dfDelta = dfDelta.rename(columns={'UAL Open': 'UAL'})\n",
    "dfDelta.insert(2, 'LUV', dfDeltaLUV['LUV Open'], True)\n",
    "dfDelta.insert(2, 'DAL', dfDeltaDAL['DAL Open'], True)\n",
    "dfDelta.insert(2, 'AAL', dfDeltaAAL['AAL Open'], True)\n",
    "dfDelta.insert(2, 'SAVE', dfDeltaSAVE['SAVE Open'], True)\n",
    "dfDelta.insert(2, 'ULCC', dfDeltaULCC['ULCC Open'], True)\n",
    "dfDelta.insert(2, 'ALK', dfDeltaALK['ALK Open'], True)\n",
    "# Omi Combine\n",
    "dfOmi = dfDeltaUAL.drop(columns = ['index'], axis = 1)\n",
    "dfOmi = dfOmi.rename(columns={'UAL Open': 'UAL'})\n",
    "dfOmi.insert(2, 'LUV', dfOmiLUV['LUV Open'], True)\n",
    "dfOmi.insert(2, 'DAL', dfOmiDAL['DAL Open'], True)\n",
    "dfOmi.insert(2, 'AAL', dfOmiAAL['AAL Open'], True)\n",
    "dfOmi.insert(2, 'SAVE', dfOmiSAVE['SAVE Open'], True)\n",
    "dfOmi.insert(2, 'ULCC', dfOmiULCC['ULCC Open'], True)\n",
    "dfOmi.insert(2, 'ALK', dfOmiALK['ALK Open'], True)\n",
    "\n",
    "dfOmi"
   ]
  },
  {
   "cell_type": "code",
   "execution_count": null,
   "metadata": {},
   "outputs": [],
   "source": [
    "sns.set_style(\"darkgrid\")\n",
    "s = sns.relplot(data=dfDelta, kind = 'line', palette = 'icefire')\n",
    "s.set_ylabels(\"Airline Stock Prices\", clear_inner=False)\n",
    "s.set_xlabels(\"Dates\", clear_inner=False)\n"
   ]
  },
  {
   "cell_type": "markdown",
   "metadata": {},
   "source": [
    "[![stock-Price-linegraph-delta.png](https://i.postimg.cc/gkJRv0XQ/stock-Price-linegraph-delta.png)](https://postimg.cc/K46Rbx5D)"
   ]
  },
  {
   "cell_type": "markdown",
   "metadata": {},
   "source": [
    "### Analysis: \n",
    " The above graph plots the airline stock prices 35 days before and after the annoucement of the Delta variant as a variant of concern.\n",
    " This allows us to observe that the majority of the airline stock prices were trending down after the announcement. All the airlines followed a similar pattern with the exception of American Airlines, which seems be an outlier as their stock prices went up after the announcement. (Note the 35 date point is the date of the announcement)  "
   ]
  },
  {
   "cell_type": "code",
   "execution_count": null,
   "metadata": {},
   "outputs": [],
   "source": [
    "sns.set_style(\"darkgrid\")\n",
    "s = sns.relplot(data=dfOmi, kind = 'line', palette = 'icefire')\n",
    "s.set_ylabels(\"Airline Stock Prices\", clear_inner=False)\n",
    "s.set_xlabels(\"Dates\", clear_inner=False)"
   ]
  },
  {
   "cell_type": "markdown",
   "metadata": {},
   "source": [
    "[![stock-Price-linegraph-omicron.png](https://i.postimg.cc/x8WJBLjp/stock-Price-linegraph-omicron.png)](https://postimg.cc/8fmz6J6L)"
   ]
  },
  {
   "cell_type": "markdown",
   "metadata": {},
   "source": [
    "### Analysis: \n",
    "The above graph plots the airline stock prices 35 days before and after the announcement of the Omicron variant as a variant of concern.\n",
    "From this, we can observe that several of the airline stock prices dropped dramatically immediately following the announcement, then slowly begin to rise back up. \n",
    "This data seems to be much more volatile than before, as we can observe several large drops and spikes within the top 4 airlines. (Note the 35 date point is the date of the announcement)  "
   ]
  },
  {
   "cell_type": "code",
   "execution_count": null,
   "metadata": {},
   "outputs": [],
   "source": [
    "deltaAfterUALmean = dfDeltaUAL.drop(labels=range(0, 35), axis = 0)['UAL Open'].mean() #35-70\n",
    "deltaBeforeUALmean = dfDeltaUAL.drop(labels=range(35, 71), axis = 0)['UAL Open'].mean() #0-34\n",
    "deltaAfterLUVmean = dfDeltaLUV.drop(labels=range(0, 35), axis = 0)['LUV Open'].mean() #35-70\n",
    "deltaBeforeLUVmean = dfDeltaLUV.drop(labels=range(35, 71), axis = 0)['LUV Open'].mean() #0-34\n",
    "deltaAfterDALmean = dfDeltaDAL.drop(labels=range(0, 35), axis = 0)['DAL Open'].mean() #35-70\n",
    "deltaBeforeDALmean = dfDeltaDAL.drop(labels=range(35, 71), axis = 0)['DAL Open'].mean() #0-34\n",
    "deltaAfterAALmean = dfDeltaAAL.drop(labels=range(0, 35), axis = 0)['AAL Open'].mean() #35-70\n",
    "deltaBeforeAALmean = dfDeltaAAL.drop(labels=range(35, 71), axis = 0)['AAL Open'].mean() #0-34\n",
    "deltaAfterSAVEmean = dfDeltaSAVE.drop(labels=range(0, 35), axis = 0)['SAVE Open'].mean() #35-70\n",
    "deltaBeforeSAVEmean = dfDeltaSAVE.drop(labels=range(35, 71), axis = 0)['SAVE Open'].mean() #0-34\n",
    "deltaAfterULCCmean = dfDeltaULCC.drop(labels=range(0, 35), axis = 0)['ULCC Open'].mean() #35-70\n",
    "deltaBeforeULCCmean = dfDeltaULCC.drop(labels=range(35, 71), axis = 0)['ULCC Open'].mean() #0-34\n",
    "deltaAfterALKmean = dfDeltaALK.drop(labels=range(0, 35), axis = 0)['ALK Open'].mean() #35-70\n",
    "deltaBeforeALKmean = dfDeltaALK.drop(labels=range(35, 71), axis = 0)['ALK Open'].mean() #0-34\n",
    "deltaAftermeansum = (deltaAfterUALmean + deltaAfterLUVmean + deltaAfterDALmean + deltaAfterSAVEmean + deltaAfterULCCmean + deltaAfterALKmean + deltaAfterAALmean)/7\n",
    "deltaBeforemeansum = (deltaBeforeUALmean + deltaBeforeLUVmean + deltaBeforeDALmean + deltaBeforeSAVEmean + deltaBeforeULCCmean + deltaBeforeALKmean + deltaBeforeAALmean)/7\n",
    "deltaMeandata =  {'Avg':[deltaBeforemeansum, deltaAftermeansum], 'Announcement': ['Before', 'After']}\n",
    "deltaMeandf = pd.DataFrame(deltaMeandata)\n",
    "deltaMeandf\n",
    "sns.barplot(x ='Announcement' ,y = 'Avg', data=deltaMeandf, palette = 'mako')"
   ]
  },
  {
   "cell_type": "markdown",
   "metadata": {},
   "source": [
    "[![avgprice-bargraph-delta.png](https://i.postimg.cc/9fpxVQ7Y/avgprice-bargraph-delta.png)](https://postimg.cc/bGZ098LZ)"
   ]
  },
  {
   "cell_type": "markdown",
   "metadata": {},
   "source": [
    "### Analysis: \n",
    "The above graph compares the average airline stock price before and after the announcement of the Delta variant. There is a difference. However, it could be attributed to one airline dropping significantly or an overall downward stock price trend independent\n",
    "of the announcement."
   ]
  },
  {
   "cell_type": "code",
   "execution_count": null,
   "metadata": {},
   "outputs": [],
   "source": [
    "omiAfterUALmean = dfOmiUAL.drop(labels=range(0, 35), axis = 0)['UAL Open'].mean() #35-70\n",
    "omiBeforeUALmean = dfOmiUAL.drop(labels=range(35, 71), axis = 0)['UAL Open'].mean() #0-34\n",
    "omiAfterLUVmean = dfOmiLUV.drop(labels=range(0, 35), axis = 0)['LUV Open'].mean() #35-70\n",
    "omiBeforeLUVmean = dfOmiLUV.drop(labels=range(35, 71), axis = 0)['LUV Open'].mean() #0-34\n",
    "omiAfterDALmean = dfOmiDAL.drop(labels=range(0, 35), axis = 0)['DAL Open'].mean() #35-70\n",
    "omiBeforeDALmean = dfOmiDAL.drop(labels=range(35, 71), axis = 0)['DAL Open'].mean() #0-34\n",
    "omiAfterAALmean = dfOmiAAL.drop(labels=range(0, 35), axis = 0)['AAL Open'].mean() #35-70\n",
    "omiBeforeAALmean = dfOmiAAL.drop(labels=range(35, 71), axis = 0)['AAL Open'].mean() #0-34\n",
    "omiAfterSAVEmean = dfOmiSAVE.drop(labels=range(0, 35), axis = 0)['SAVE Open'].mean() #35-70\n",
    "omiBeforeSAVEmean = dfOmiSAVE.drop(labels=range(35, 71), axis = 0)['SAVE Open'].mean() #0-34\n",
    "omiAfterULCCmean = dfOmiULCC.drop(labels=range(0, 35), axis = 0)['ULCC Open'].mean() #35-70\n",
    "omiBeforeULCCmean = dfOmiULCC.drop(labels=range(35, 71), axis = 0)['ULCC Open'].mean() #0-34\n",
    "omiAfterALKmean = dfOmiALK.drop(labels=range(0, 35), axis = 0)['ALK Open'].mean() #35-70\n",
    "omiBeforeALKmean = dfOmiALK.drop(labels=range(35, 71), axis = 0)['ALK Open'].mean() #0-34\n",
    "omiAftermeansum = (omiAfterUALmean + omiAfterLUVmean + omiAfterDALmean + omiAfterSAVEmean + omiAfterULCCmean + omiAfterALKmean + omiAfterAALmean)/7\n",
    "omiBeforemeansum = (omiBeforeUALmean + omiBeforeLUVmean + omiBeforeDALmean + omiBeforeSAVEmean + omiBeforeULCCmean + omiBeforeALKmean + omiBeforeAALmean)/7\n",
    "omiMeandata =  {'Avg':[omiBeforemeansum, omiAftermeansum], 'Announcement': ['Before', 'After']}\n",
    "omiMeandf = pd.DataFrame(omiMeandata)\n",
    "omiMeandf\n",
    "sns.barplot(x ='Announcement' ,y = 'Avg', data=omiMeandf, palette = 'mako')"
   ]
  },
  {
   "cell_type": "markdown",
   "metadata": {},
   "source": [
    "[![avgprice-bargraph-omicron.png](https://i.postimg.cc/Y0JR845M/avgprice-bargraph-omicron.png)](https://postimg.cc/V0WXkNsV)"
   ]
  },
  {
   "cell_type": "markdown",
   "metadata": {},
   "source": [
    "### Analysis:\n",
    "The above graph compares the average airline stock price before and after the announcement of the Omicron variant. This difference is significant. However, this could be due to one airline dropping significantly or an overall downward trend of stock prices independent of announcement."
   ]
  },
  {
   "cell_type": "code",
   "execution_count": null,
   "metadata": {},
   "outputs": [],
   "source": [
    "deltaMeandetaildata =  {'Airline': ['UAL', 'UAL', 'LUV', 'LUV', 'DAL', 'DAL', 'AAL', 'AAL', 'SAVE', 'SAVE', 'ULCC', 'ULCC', 'ALK', 'ALK'],'Avg':[deltaBeforeUALmean, deltaAfterUALmean, deltaBeforeLUVmean, deltaAfterLUVmean, deltaBeforeDALmean, deltaAfterDALmean, deltaBeforeAALmean, deltaAfterAALmean, deltaBeforeSAVEmean, deltaAfterSAVEmean, deltaBeforeULCCmean, deltaAfterULCCmean, deltaBeforeALKmean, deltaAfterALKmean ], 'Announcement': ['Before', 'After', 'Before', 'After', 'Before', 'After', 'Before', 'After', 'Before','After', 'Before', 'After', 'Before', 'After']}\n",
    "deltaMeandetaildf = pd.DataFrame(deltaMeandetaildata)\n",
    "deltaMeandetaildf\n",
    "\n",
    "sns.barplot(x ='Airline' , y = 'Avg', hue = 'Announcement', data =deltaMeandetaildf, palette = 'mako')"
   ]
  },
  {
   "cell_type": "markdown",
   "metadata": {},
   "source": [
    "[![avgprice-ind-bargraph-delta.png](https://i.postimg.cc/SjFLCB9K/avgprice-ind-bargraph-delta.png)](https://postimg.cc/RJdnzbXr)"
   ]
  },
  {
   "cell_type": "markdown",
   "metadata": {},
   "source": [
    "### Analysis: \n",
    "The above graph compares the individual averages of the airline stock prices before and after the announcement of the Delta variant. \n",
    "This allows us to observe that 5 out of the 7 airlines stock prices decreased after the announcement. The two airlines that did not drop, United Airlines and American Airlines, remain about the same."
   ]
  },
  {
   "cell_type": "code",
   "execution_count": null,
   "metadata": {},
   "outputs": [],
   "source": [
    "omiMeandetaildata =  {'Airline': ['UAL', 'UAL', 'LUV', 'LUV', 'DAL', 'DAL', 'AAL', 'AAL', 'SAVE', 'SAVE', 'ULCC', 'ULCC', 'ALK', 'ALK'],'Avg':[omiBeforeUALmean, omiAfterUALmean, omiBeforeLUVmean, omiAfterLUVmean, omiBeforeDALmean, omiAfterDALmean, omiBeforeAALmean, omiAfterAALmean, omiBeforeSAVEmean, omiAfterSAVEmean, omiBeforeULCCmean, omiAfterULCCmean, omiBeforeALKmean, omiAfterALKmean ], 'Announcement': ['Before', 'After', 'Before', 'After', 'Before', 'After', 'Before', 'After', 'Before', 'After', 'Before', 'After', 'Before', 'After']}\n",
    "omiMeandetaildf = pd.DataFrame(omiMeandetaildata)\n",
    "omiMeandetaildf\n",
    "\n",
    "sns.barplot(x ='Airline' , y = 'Avg', hue = 'Announcement', data =omiMeandetaildf, palette = 'mako')"
   ]
  },
  {
   "cell_type": "markdown",
   "metadata": {},
   "source": [
    "[![avgprice-ind-bargraph-omicron.png](https://i.postimg.cc/YCxV2RcF/avgprice-ind-bargraph-omicron.png)](https://postimg.cc/xXcgtK1j)"
   ]
  },
  {
   "cell_type": "markdown",
   "metadata": {},
   "source": [
    "### Analysis: \n",
    "The above graph compares the individual averages of the airline stock prices before and after the announcement of the Omicron variant. \n",
    "This allows us to observe that 7 out of the 7 airlines stock prices decreased after the announcement. This would indicate that the Omicron had a more negative impact on airline stock than the Delta variant. "
   ]
  },
  {
   "cell_type": "code",
   "execution_count": null,
   "metadata": {},
   "outputs": [],
   "source": [
    "dfDeltaUALbefore = dfDeltaUAL.drop(range(35,70))\n",
    "y = dfDeltaUALbefore[['UAL Open']].to_numpy()\n",
    "dfDeltaUALbefore['ones']=1\n",
    "A = dfDeltaUALbefore[['index','ones']]\n",
    "y = dfDeltaUALbefore['UAL Open']\n",
    "mUALbeforeDelta, c = np.linalg.lstsq(A,y)[0]\n",
    "print(mUALbeforeDelta)\n",
    "dfDeltaUALafter = dfDeltaUAL.drop(range(0,35))\n",
    "y = dfDeltaUALafter[['UAL Open']].to_numpy()\n",
    "dfDeltaUALafter['ones']=1\n",
    "A = dfDeltaUALafter[['index','ones']]\n",
    "y = dfDeltaUALafter['UAL Open']\n",
    "mUALafterDelta, c = np.linalg.lstsq(A,y)[0]\n",
    "print(mUALafterDelta)\n",
    "\n",
    "dfDeltaLUVbefore = dfDeltaLUV.drop(range(35,70))\n",
    "y = dfDeltaLUVbefore[['LUV Open']].to_numpy()\n",
    "dfDeltaLUVbefore['ones']=1\n",
    "A = dfDeltaLUVbefore[['index','ones']]\n",
    "y = dfDeltaLUVbefore['LUV Open']\n",
    "mLUVbeforeDelta, c = np.linalg.lstsq(A,y)[0]\n",
    "print(mLUVbeforeDelta)\n",
    "dfDeltaLUVafter = dfDeltaLUV.drop(range(0,35))\n",
    "y = dfDeltaLUVafter[['LUV Open']].to_numpy()\n",
    "dfDeltaLUVafter['ones']=1\n",
    "A = dfDeltaLUVafter[['index','ones']]\n",
    "y = dfDeltaLUVafter['LUV Open']\n",
    "mLUVafterDelta, c = np.linalg.lstsq(A,y)[0]\n",
    "print(mLUVafterDelta)\n",
    "\n",
    "dfDeltaDALbefore = dfDeltaDAL.drop(range(35,70))\n",
    "y = dfDeltaDALbefore[['DAL Open']].to_numpy()\n",
    "dfDeltaDALbefore['ones']=1\n",
    "A = dfDeltaDALbefore[['index','ones']]\n",
    "y = dfDeltaDALbefore['DAL Open']\n",
    "mDALbeforeDelta, c = np.linalg.lstsq(A,y)[0]\n",
    "print(mDALbeforeDelta)\n",
    "dfDeltaDALafter = dfDeltaDAL.drop(range(0,35))\n",
    "y = dfDeltaDALafter[['DAL Open']].to_numpy()\n",
    "dfDeltaDALafter['ones']=1\n",
    "A = dfDeltaDALafter[['index','ones']]\n",
    "y = dfDeltaDALafter['DAL Open']\n",
    "mDALafterDelta, c = np.linalg.lstsq(A,y)[0]\n",
    "print(mDALafterDelta)\n",
    "\n",
    "dfDeltaAALbefore = dfDeltaAAL.drop(range(35,70))\n",
    "y = dfDeltaAALbefore[['AAL Open']].to_numpy()\n",
    "dfDeltaAALbefore['ones']=1\n",
    "A = dfDeltaAALbefore[['index','ones']]\n",
    "y = dfDeltaAALbefore['AAL Open']\n",
    "mAALbeforeDelta, c = np.linalg.lstsq(A,y)[0]\n",
    "print(mAALbeforeDelta)\n",
    "dfDeltaAALafter = dfDeltaAAL.drop(range(0,35))\n",
    "y = dfDeltaAALafter[['AAL Open']].to_numpy()\n",
    "dfDeltaAALafter['ones']=1\n",
    "A = dfDeltaAALafter[['index','ones']]\n",
    "y = dfDeltaAALafter['AAL Open']\n",
    "mAALafterDelta, c = np.linalg.lstsq(A,y)[0]\n",
    "print(mAALafterDelta)\n",
    "\n",
    "dfDeltaSAVEbefore = dfDeltaSAVE.drop(range(35,70))\n",
    "y = dfDeltaSAVEbefore[['SAVE Open']].to_numpy()\n",
    "dfDeltaSAVEbefore['ones']=1\n",
    "A = dfDeltaSAVEbefore[['index','ones']]\n",
    "y = dfDeltaSAVEbefore['SAVE Open']\n",
    "mSAVEbeforeDelta, c = np.linalg.lstsq(A,y)[0]\n",
    "print(mSAVEbeforeDelta)\n",
    "dfDeltaSAVEafter = dfDeltaSAVE.drop(range(0,35))\n",
    "y = dfDeltaSAVEafter[['SAVE Open']].to_numpy()\n",
    "dfDeltaSAVEafter['ones']=1\n",
    "A = dfDeltaSAVEafter[['index','ones']]\n",
    "y = dfDeltaSAVEafter['SAVE Open']\n",
    "mSAVEafterDelta, c = np.linalg.lstsq(A,y)[0]\n",
    "print(mSAVEafterDelta)\n",
    "\n",
    "dfDeltaULCCbefore = dfDeltaULCC.drop(range(35,70))\n",
    "y = dfDeltaULCCbefore[['ULCC Open']].to_numpy()\n",
    "dfDeltaULCCbefore['ones']=1\n",
    "A = dfDeltaULCCbefore[['index','ones']]\n",
    "y = dfDeltaULCCbefore['ULCC Open']\n",
    "mULCCbeforeDelta, c = np.linalg.lstsq(A,y)[0]\n",
    "print(mULCCbeforeDelta)\n",
    "dfDeltaULCCafter = dfDeltaULCC.drop(range(0,35))\n",
    "y = dfDeltaULCCafter[['ULCC Open']].to_numpy()\n",
    "dfDeltaULCCafter['ones']=1\n",
    "A = dfDeltaULCCafter[['index','ones']]\n",
    "y = dfDeltaULCCafter['ULCC Open']\n",
    "mULCCafterDelta, c = np.linalg.lstsq(A,y)[0]\n",
    "print(mULCCafterDelta)\n",
    "\n",
    "dfDeltaALKbefore = dfDeltaALK.drop(range(35,70))\n",
    "y = dfDeltaALKbefore[['ALK Open']].to_numpy()\n",
    "dfDeltaALKbefore['ones']=1\n",
    "A = dfDeltaALKbefore[['index','ones']]\n",
    "y = dfDeltaALKbefore['ALK Open']\n",
    "mALKbeforeDelta, c = np.linalg.lstsq(A,y)[0]\n",
    "print(mALKbeforeDelta)\n",
    "dfDeltaALKafter = dfDeltaALK.drop(range(0,35))\n",
    "y = dfDeltaALKafter[['ALK Open']].to_numpy()\n",
    "dfDeltaALKafter['ones']=1\n",
    "A = dfDeltaALKafter[['index','ones']]\n",
    "y = dfDeltaALKafter['ALK Open']\n",
    "mALKafterDelta, c = np.linalg.lstsq(A,y)[0]\n",
    "print(mALKafterDelta)\n",
    "\n",
    "deltaslopdetaildata =  {'Airline': ['UAL', 'UAL', 'LUV', 'LUV', 'DAL', 'DAL', 'AAL', 'AAL', 'SAVE', 'SAVE', 'ULCC', 'ULCC', 'ALK', 'ALK'],'slope':[mUALbeforeDelta, mUALafterDelta, mLUVbeforeDelta, mLUVafterDelta, mDALbeforeDelta, mDALafterDelta, mAALbeforeDelta, mAALafterDelta, mSAVEbeforeDelta, mSAVEafterDelta, mULCCbeforeDelta, mULCCafterDelta, mALKbeforeDelta, mALKafterDelta ], 'Announcement': ['Before', 'After', 'Before', 'After', 'Before', 'After', 'Before', 'After', 'Before', 'After', 'Before', 'After', 'Before', 'After']}\n",
    "deltaslopdetaildf = pd.DataFrame(deltaslopdetaildata)\n",
    "deltaslopdetaildf\n",
    "\n",
    "sns.barplot(x ='Airline' , y = 'slope', hue = 'Announcement', data =deltaslopdetaildf, palette = 'mako')"
   ]
  },
  {
   "cell_type": "markdown",
   "metadata": {},
   "source": [
    "[![slopes-delta.png](https://i.postimg.cc/N03R3hNk/slopes-delta.png)](https://postimg.cc/d797Cfch)"
   ]
  },
  {
   "cell_type": "markdown",
   "metadata": {},
   "source": [
    "### Analysis: \n",
    "The above plot compares the slope of the line of best fit for the stock price of each airline before and after the announcement \n",
    "of the Delta variant. From this, we can observe that 3 airlines had a dramatic drop in the stock price and the rest remained about the same. Given how significant the decrease in these 3 airlines was, this supports the idea that the overall relationship with the announcement was negative."
   ]
  },
  {
   "cell_type": "code",
   "execution_count": null,
   "metadata": {},
   "outputs": [],
   "source": [
    "dfOmiUALbefore = dfOmiUAL.drop(range(35,70))\n",
    "y = dfOmiUALbefore[['UAL Open']].to_numpy()\n",
    "dfOmiUALbefore['ones']=1\n",
    "A = dfOmiUALbefore[['index','ones']]\n",
    "y = dfOmiUALbefore['UAL Open']\n",
    "mUALbeforeOmi, c = np.linalg.lstsq(A,y)[0]\n",
    "print(mUALbeforeOmi)\n",
    "dfOmiUALafter = dfOmiUAL.drop(range(0,35))\n",
    "y = dfOmiUALafter[['UAL Open']].to_numpy()\n",
    "dfOmiUALafter['ones']=1\n",
    "A = dfOmiUALafter[['index','ones']]\n",
    "y = dfOmiUALafter['UAL Open']\n",
    "mUALafterOmi, c = np.linalg.lstsq(A,y)[0]\n",
    "print(mUALafterOmi)\n",
    "\n",
    "dfOmiLUVbefore = dfOmiLUV.drop(range(35,70))\n",
    "y = dfOmiLUVbefore[['LUV Open']].to_numpy()\n",
    "dfOmiLUVbefore['ones']=1\n",
    "A = dfOmiLUVbefore[['index','ones']]\n",
    "y = dfOmiLUVbefore['LUV Open']\n",
    "mLUVbeforeOmi, c = np.linalg.lstsq(A,y)[0]\n",
    "print(mLUVbeforeOmi)\n",
    "dfOmiLUVafter = dfOmiLUV.drop(range(0,35))\n",
    "y = dfOmiLUVafter[['LUV Open']].to_numpy()\n",
    "dfOmiLUVafter['ones']=1\n",
    "A = dfOmiLUVafter[['index','ones']]\n",
    "y = dfOmiLUVafter['LUV Open']\n",
    "mLUVafterOmi, c = np.linalg.lstsq(A,y)[0]\n",
    "print(mLUVafterOmi)\n",
    "\n",
    "dfOmiDALbefore = dfOmiDAL.drop(range(35,70))\n",
    "y = dfOmiDALbefore[['DAL Open']].to_numpy()\n",
    "dfOmiDALbefore['ones']=1\n",
    "A = dfOmiDALbefore[['index','ones']]\n",
    "y = dfOmiDALbefore['DAL Open']\n",
    "mDALbeforeOmi, c = np.linalg.lstsq(A,y)[0]\n",
    "print(mDALbeforeOmi)\n",
    "dfOmiDALafter = dfOmiDAL.drop(range(0,35))\n",
    "y = dfOmiDALafter[['DAL Open']].to_numpy()\n",
    "dfOmiDALafter['ones']=1\n",
    "A = dfOmiDALafter[['index','ones']]\n",
    "y = dfOmiDALafter['DAL Open']\n",
    "mDALafterOmi, c = np.linalg.lstsq(A,y)[0]\n",
    "print(mDALafterOmi)\n",
    "\n",
    "dfOmiAALbefore = dfOmiAAL.drop(range(35,70))\n",
    "y = dfOmiAALbefore[['AAL Open']].to_numpy()\n",
    "dfOmiAALbefore['ones']=1\n",
    "A = dfOmiAALbefore[['index','ones']]\n",
    "y = dfOmiAALbefore['AAL Open']\n",
    "mAALbeforeOmi, c = np.linalg.lstsq(A,y)[0]\n",
    "print(mAALbeforeOmi)\n",
    "dfOmiAALafter = dfOmiAAL.drop(range(0,35))\n",
    "y = dfOmiAALafter[['AAL Open']].to_numpy()\n",
    "dfOmiAALafter['ones']=1\n",
    "A = dfOmiAALafter[['index','ones']]\n",
    "y = dfOmiAALafter['AAL Open']\n",
    "mAALafterOmi, c = np.linalg.lstsq(A,y)[0]\n",
    "print(mAALafterOmi)\n",
    "\n",
    "dfOmiSAVEbefore = dfOmiSAVE.drop(range(35,70))\n",
    "y = dfOmiSAVEbefore[['SAVE Open']].to_numpy()\n",
    "dfOmiSAVEbefore['ones']=1\n",
    "A = dfOmiSAVEbefore[['index','ones']]\n",
    "y = dfOmiSAVEbefore['SAVE Open']\n",
    "mSAVEbeforeOmi, c = np.linalg.lstsq(A,y)[0]\n",
    "print(mSAVEbeforeOmi)\n",
    "dfOmiSAVEafter = dfOmiSAVE.drop(range(0,35))\n",
    "y = dfOmiSAVEafter[['SAVE Open']].to_numpy()\n",
    "dfOmiSAVEafter['ones']=1\n",
    "A = dfOmiSAVEafter[['index','ones']]\n",
    "y = dfOmiSAVEafter['SAVE Open']\n",
    "mSAVEafterOmi, c = np.linalg.lstsq(A,y)[0]\n",
    "print(mSAVEafterOmi)\n",
    "\n",
    "dfOmiULCCbefore = dfOmiULCC.drop(range(35,70))\n",
    "y = dfOmiULCCbefore[['ULCC Open']].to_numpy()\n",
    "dfOmiULCCbefore['ones']=1\n",
    "A = dfOmiULCCbefore[['index','ones']]\n",
    "y = dfOmiULCCbefore['ULCC Open']\n",
    "mULCCbeforeOmi, c = np.linalg.lstsq(A,y)[0]\n",
    "print(mULCCbeforeOmi)\n",
    "dfOmiULCCafter = dfOmiULCC.drop(range(0,35))\n",
    "y = dfOmiULCCafter[['ULCC Open']].to_numpy()\n",
    "dfOmiULCCafter['ones']=1\n",
    "A = dfOmiULCCafter[['index','ones']]\n",
    "y = dfOmiULCCafter['ULCC Open']\n",
    "mULCCafterOmi, c = np.linalg.lstsq(A,y)[0]\n",
    "print(mULCCafterOmi)\n",
    "\n",
    "dfOmiALKbefore = dfOmiALK.drop(range(35,70))\n",
    "y = dfOmiALKbefore[['ALK Open']].to_numpy()\n",
    "dfOmiALKbefore['ones']=1\n",
    "A = dfOmiALKbefore[['index','ones']]\n",
    "y = dfOmiALKbefore['ALK Open']\n",
    "mALKbeforeOmi, c = np.linalg.lstsq(A,y)[0]\n",
    "print(mALKbeforeOmi)\n",
    "dfOmiALKafter = dfOmiALK.drop(range(0,35))\n",
    "y = dfOmiALKafter[['ALK Open']].to_numpy()\n",
    "dfOmiALKafter['ones']=1\n",
    "A = dfOmiALKafter[['index','ones']]\n",
    "y = dfOmiALKafter['ALK Open']\n",
    "mALKafterOmi, c = np.linalg.lstsq(A,y)[0]\n",
    "print(mALKafterOmi)\n",
    "\n",
    "omislopdetaildata =  {'Airline': ['UAL', 'UAL', 'LUV', 'LUV', 'DAL', 'DAL', 'AAL', 'AAL', 'SAVE', 'SAVE', 'ULCC', 'ULCC', 'ALK', 'ALK'],'slope':[mUALbeforeOmi, mUALafterOmi, mLUVbeforeOmi, mLUVafterOmi, mDALbeforeOmi, mDALafterOmi, mAALbeforeOmi, mAALafterOmi, mSAVEbeforeOmi, mSAVEafterOmi, mULCCbeforeOmi, mULCCafterOmi, mALKbeforeOmi, mALKafterOmi ], 'Announcement': ['Before', 'After', 'Before', 'After', 'Before', 'After', 'Before', 'After', 'Before', 'After', 'Before', 'After', 'Before', 'After']}\n",
    "omislopdetaildf = pd.DataFrame(omislopdetaildata)\n",
    "omislopdetaildf\n",
    "\n",
    "sns.barplot(x ='Airline' , y = 'slope', hue = 'Announcement', data =omislopdetaildf, palette = 'mako')"
   ]
  },
  {
   "cell_type": "markdown",
   "metadata": {},
   "source": [
    "[![slopes-omicron.png](https://i.postimg.cc/SNgCyYTs/slopes-omicron.png)](https://postimg.cc/4mhmPyTk)"
   ]
  },
  {
   "cell_type": "markdown",
   "metadata": {},
   "source": [
    "### Analysis: \n",
    "The above plot compares the slope of the line of best fit for the stock price of each airline before and after the announcement of the Omicron variant. From this, we can observe that all 7 airlines had an increase of their slope after the announcement.  \n",
    "The data does not suggest that the Omicron announcement had an effect on the rate of decrease of airplane stock price. However, when the data is looked at as a whole, this is simply because the immediate drop following the announcement was so dramatic that the overall slope afterwards was positive."
   ]
  },
  {
   "cell_type": "code",
   "execution_count": null,
   "metadata": {},
   "outputs": [],
   "source": [
    "ChangeAvgdata =  {'Airline': ['UAL', 'UAL', 'LUV', 'LUV', 'DAL', 'DAL', 'AAL', 'AAL', 'SAVE', 'SAVE', 'ULCC', 'ULCC', 'ALK', 'ALK'],'Change in Average Price':[deltaAfterUALmean - deltaBeforeUALmean, omiAfterUALmean - omiBeforeUALmean, deltaAfterLUVmean - deltaBeforeLUVmean, omiAfterLUVmean - omiBeforeLUVmean, deltaAfterDALmean - deltaBeforeDALmean, omiAfterDALmean - omiBeforeDALmean, deltaAfterAALmean - deltaBeforeAALmean, omiAfterAALmean - omiBeforeAALmean, deltaAfterSAVEmean - deltaBeforeSAVEmean, omiAfterSAVEmean - omiBeforeSAVEmean, deltaAfterULCCmean - deltaBeforeULCCmean, omiAfterULCCmean - omiBeforeULCCmean, deltaAfterALKmean - deltaBeforeALKmean, omiAfterALKmean - omiBeforeALKmean ], 'VOC': ['Delta', 'Omicron', 'Delta', 'Omicron', 'Delta', 'Omicron', 'Delta', 'Omicron', 'Delta', 'Omicron', 'Delta', 'Omicron', 'Delta', 'Omicron']}\n",
    "ChangeAvgdatadf = pd.DataFrame(ChangeAvgdata)\n",
    "ChangeAvgdatadf\n",
    "\n",
    "sns.barplot(x ='Airline' , y = 'Change in Average Price', hue = 'VOC', data =ChangeAvgdatadf, palette = 'mako').set(title=\"Change in Average Price After VOC Announcements (Compared)\")"
   ]
  },
  {
   "cell_type": "markdown",
   "metadata": {},
   "source": [
    "[![avgprice-compare.png](https://i.postimg.cc/dtgVVFyb/avgprice-compare.png)](https://postimg.cc/KRr20dQf)"
   ]
  },
  {
   "cell_type": "markdown",
   "metadata": {},
   "source": [
    "### Analysis:\n",
    "The above plot compares how much the average price of each of the seven airline stocks changed after the announcement of the Delta variant to the changes after the announcement of the Omicron variant. From this chart, it is clear that the 35 stock day average recorded after the announcement of the Omicron variant experienced a much larger negative change than that of the Delta variant average, with LUV experiencing the largest dip in average price of -6.180786. In fact, all seven airlines experienced a negative change in their 35 day average after the announcement of the Omicron variant. The same cannot be said for the Delta variant, with UAL and AAL both experiencing an increase in their 35 day average. This seems to suggest that the Omicron variant had a greater negative relationship with airline stocks than the Delta variant. Still, this is only one metric; next, we will compare the changes in their slopes."
   ]
  },
  {
   "cell_type": "code",
   "execution_count": null,
   "metadata": {},
   "outputs": [],
   "source": [
    "ChangeSlopedata =  {'Airline': ['UAL', 'UAL', 'LUV', 'LUV', 'DAL', 'DAL', 'AAL', 'AAL', 'SAVE', 'SAVE', 'ULCC', 'ULCC', 'ALK', 'ALK'],'Change in Slope':[mUALafterDelta - mUALbeforeDelta, mUALafterOmi - mUALbeforeOmi, mLUVafterDelta - mLUVbeforeDelta, mLUVafterOmi - mLUVbeforeOmi, mDALafterDelta - mDALbeforeDelta, mDALafterOmi - mDALbeforeOmi, mAALafterDelta - mAALbeforeDelta, mAALafterOmi - mAALbeforeOmi, mSAVEafterDelta - mSAVEbeforeDelta, mSAVEafterOmi - mSAVEbeforeOmi, mULCCafterDelta - mULCCbeforeDelta, mULCCafterOmi - mULCCbeforeOmi, mALKafterDelta - mALKbeforeDelta, mALKafterOmi - mALKbeforeOmi], 'VOC': ['Delta', 'Omicron', 'Delta', 'Omicron', 'Delta', 'Omicron', 'Delta', 'Omicron', 'Delta', 'Omicron', 'Delta', 'Omicron', 'Delta', 'Omicron']}\n",
    "ChangeSlopedatadf = pd.DataFrame(ChangeSlopedata)\n",
    "ChangeSlopedatadf\n",
    "\n",
    "sns.barplot(x ='Airline' , y = 'Change in Slope', hue = 'VOC', data =ChangeSlopedatadf, palette = 'mako').set(title=\"Change in Slope After VOC Announcements (Compared)\")"
   ]
  },
  {
   "cell_type": "markdown",
   "metadata": {},
   "source": [
    "[![slope-compare.png](https://i.postimg.cc/mZJsQwgM/slope-compare.png)](https://postimg.cc/4n6qGptN)"
   ]
  },
  {
   "cell_type": "markdown",
   "metadata": {},
   "source": [
    "### Analysis:\n",
    "The above plot compares the changes in the 35 stock day slope of stock prices after the announcement of the Delta variant to the changes in the slope experienced after the Omicron variant. From this chart, it is clear that the 35 day slope of stock prices recorded after the announcement of the Omicron variant experienced a much larger positive change than that of the Delta variant, with all seven airlines achieving a positive change in slope. The same cannot be said for the Delta variant with three airlines, LUV, ULCC, and ALK experiencing negative changes and the rest experiencing relatively small positive changes. At first, this may seem as though the data is suggesting that the Omicron variant had a greater positive change on airline stocks than the Delta variant, contradicting our results from the analysis on the changes in average price. However, reviewing our line graph depicting “Stock Prices Around the Omicron VOC Announcement”, we see that the great positive changes in slope are likely due to the airlines experiencing a large dip in price right after Omicron’s announcement, allowing for much higher slopes as prices return to normal. Therefore, with more detailed consideration we see that the slope data does in fact agree with the averages data in that the Omicron variant had a much larger negative relationship with airline stocks than the Delta variant did. "
   ]
  },
  {
   "cell_type": "markdown",
   "metadata": {},
   "source": [
    "# Ethics & Privacy"
   ]
  },
  {
   "cell_type": "markdown",
   "metadata": {},
   "source": [
    "Since our analysis is related to dips in the stock market, one aspect to consider of our work may be that our data can come from an individual who is suffering from poor or unlucky investment decisions involving one or more of the seven airlines we will cover. A core principle of stock market trading is that the data is public with the players anonymized, so there is no issue with the method of collection. Thus, the aforementioned losing players have no way of their identity being exposed in our project, and won't be singled out amidst massive amounts of data. \n",
    "\n",
    "The data we will be analyzing for the purposes of our project is publicly available and verifiable. Since it is just raw stock values, it should be relatively free of bias due to the large, global collection of data for the dataset. As such, there is more than enough relevant data available to answer our question. It also does not involve any test subjects, so there is no risk of unintended cognitive damage to subjects or possible leakage of private information. Finally, we are not inferring latent variables from proxies since the metric we are using to measure the affect each variant of concern has on stocks are the values of the stocks themselves."
   ]
  },
  {
   "cell_type": "markdown",
   "metadata": {},
   "source": [
    "# Conclusion & Discussion\n"
   ]
  },
  {
   "cell_type": "markdown",
   "metadata": {},
   "source": [
    "Overall, our data did not agree with our hypothesis that the announcement of the Delta variant had a greater negative relationship with airline stock prices than the announcement of the Omicron variant. Our data, and the final two comparisons in particular, suggest that the World Health Organization's announcement of the Omicron variant had a stronger negative relationship with major U.S. airlines' stock prices than the Delta variant. Our Price tracking, Average Value, and Slope data all suggest that airline stock prices experienced a heavier decrease in value after the announcement of the Omicron variant than after the announcement of the Delta variant, especially considering data points closest to the announcements. \n",
    "\n",
    "Something interesting we noted from our data was the prior to the announcement, both variants were already trending downward. The results of this project should drive the message home that the stock market is very hard to predict. Despite us strongly believing (reasons listed in hypothesis) that the market would go down a lot more following Delta's announcement than Omicron, we saw that actually it was the opposite.\n",
    "\n",
    "The limitations of our research include but are not limited to the following:\n",
    "* Our team did not take into account how scandals could have affected the stock prices of these airlines. By not taking this into consideration, our data could be attributing the downfall in the price of the stock to just the announcements rather than other relevant events. \n",
    "* The time frame of our data only includes the 35 days before and 35 days after the Covid variant announcement. \n",
    "If we included a larger time frame in our research, there is a chance that the variant could have a different relationship that we did not analyze because it takes too long to appear evident in the airline stock prices.\n",
    "* The stimulus checks that the population received around this time could have affected the stock prices as well. The sudden influx of money could have caused many to invest in stocks that they would have not otherwise. \n",
    "* Around the time of the Covid announcements and peak pandemic, airlines recieved financial bailout from the US government to keep the business afloat during hard times. This could affect the trend of the airlines' stock prices."
   ]
  },
  {
   "cell_type": "markdown",
   "metadata": {},
   "source": [
    "# Team Contributions"
   ]
  },
  {
   "cell_type": "markdown",
   "metadata": {},
   "source": [
    "We all worked collaboratively on each element throughout the assignment (Proposal, Survey, EDA, Final, etc.), since we all live close to campus and were able to meet up weekly to work on the assignment. We spent time collectively brainstorming ideas for the project, building upon, and asking each other questions. For the coding portions, we would frequently rotate the person writing the code while the rest of us provided guidance and offered suggestions. As for the writing portions of the project, we first discussed them as a group and would then come to agreement. "
   ]
  }
 ],
 "metadata": {
  "kernelspec": {
   "display_name": "Python 3",
   "language": "python",
   "name": "python3"
  },
  "language_info": {
   "codemirror_mode": {
    "name": "ipython",
    "version": 3
   },
   "file_extension": ".py",
   "mimetype": "text/x-python",
   "name": "python",
   "nbconvert_exporter": "python",
   "pygments_lexer": "ipython3",
   "version": "3.9.7"
  }
 },
 "nbformat": 4,
 "nbformat_minor": 2
}
